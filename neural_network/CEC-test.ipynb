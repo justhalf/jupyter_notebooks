{
 "cells": [
  {
   "cell_type": "markdown",
   "metadata": {},
   "source": [
    "# Long Short-Term Memory (LSTM)\n",
    "\n",
    "This page attempts to explain why LSTM was first proposed, and what are the core features together with some examples.\n",
    "\n",
    "This is based on the paper [Hochreiter and Schmidhuber. 1997. Long Short-Term Memory](http://deeplearning.cs.cmu.edu/pdfs/Hochreiter97_lstm.pdf)\n",
    "\n",
    "## Constant-Error Carrousel\n",
    "\n",
    "The core feature of an LSTM unit as first proposed is the constant-error carrousel (CEC) which solves the vanishing gradient problem with standard RNN.\n",
    "\n",
    "A CEC is neural network unit which consists of a single neuron with self-loop with weight fixed to 1.0 to ensure constant error flow when doing backpropagation.\n",
    "\n",
    "<div style=\"text-align:center\">\n",
    "<img src=\"CEC.png\"/>\n",
    "<caption>Fig 1. Diagram of a single CEC unit</caption>\n",
    "</div>\n",
    "\n",
    "Now let's see an example of CEC at work. We will use CEC to do very simple task: **recognizing whether current character is inside a bracketed expression**, with the opening bracket considered to be inside, and the closing bracket considered to be outside, for simplicity. This is solvable only using network that can store memory, since to recognize whether a character is inside a bracketed expression, we need to have the knowledge that there is an opening bracket to the left of current character which does not have the corresponding closing bracket.\n",
    "\n",
    "The input alphabets are coming from the set: $\\{`a`, `b`, `(`, `)`\\}$ with the following 2-dimensional embedding:\n",
    "\n",
    "$$\n",
    "\\begin{eqnarray}\n",
    "emb(`a`) &=& (1, 1) \\nonumber\\\\\n",
    "emb(`b`) &=& (-1, -1) \\nonumber\\\\\n",
    "emb(`(`) &=& (1, 0) \\nonumber\\\\\n",
    "emb(`)`) &=& (0, -1) \\nonumber\n",
    "\\end{eqnarray}\n",
    "$$\n",
    "\n",
    "For this task, we define a very simple network with two input units, one CEC unit, and one output unit with sigmoid activation ($\\sigma(x) = \\frac{1}{1 + e^{-x}}$), as follows:\n",
    "\n",
    "<div style=\"text-align:center\">\n",
    "<img src=\"CEC-example.png\"/>\n",
    "<caption>Fig 2. Network used for the bracketed expression recognition</caption>\n",
    "</div>\n",
    "\n",
    "For this task, we define the loss function as the cross-entropy (CE) between the predicted and the true one:\n",
    "\n",
    "$$\n",
    "\\begin{eqnarray}\n",
    "\\mathrm{CE}(x, y) = - (x\\log(y) + (1-x)\\log(1-y)) \\nonumber\\\\\n",
    "\\mathrm{Loss}(\\hat{o}_t, o_t) = \\mathrm{CE}(\\hat{o}_t, o_t) - \\mathrm{CE}(\\hat{o}_t, \\hat{o}_t)\n",
    "\\end{eqnarray}\n",
    "$$\n",
    "\n",
    "with $\\hat{o}_t$ and $o_t$ represent the target value (gold standard) and output value (network prediction), respectively, at time step $t$. The first term is the cross-entropy between the target value and the output value, and the second term is the entropy of the target value itself. Note that the second term is a constant, and serves just to make the minimum achievable loss to be 0 (perfect output).\n",
    "\n",
    "More specifically, we have:\n",
    "\n",
    "$$\n",
    "\\begin{equation}\n",
    "o_t = \\sigma(w_3*s_t)\n",
    "\\end{equation}\n",
    "$$\n",
    "\n",
    "where $s_t$ is the output of the CEC unit (a.k.a. the memory), which depends on the previous value of the memory $s_{t-1}$, and the input $x_{t,1}$ and $x_{t,2}$ (representing the first and second dimension of the input at time step $t$):\n",
    "\n",
    "$$\n",
    "\\begin{equation}\n",
    "s_t = \\underbrace{w_s * s_{t-1}}_\\text{previous value} + \\underbrace{w_1 * x_{t,1} + w_2 * x_{t,2}}_\\text{input}\n",
    "\\end{equation}\n",
    "$$\n",
    "\n",
    "where $w_s$ is the weight of the self-loop, which is 1.0. But for clarity of why this should be 1.0, the calculation later does not assume $w_s=1.0$."
   ]
  },
  {
   "cell_type": "code",
   "execution_count": 1,
   "metadata": {
    "collapsed": true
   },
   "outputs": [],
   "source": [
    "import math\n",
    "from IPython.display import Markdown, display\n",
    "\n",
    "def printmd(string):\n",
    "    display(Markdown(string))\n",
    "\n",
    "# Embedding\n",
    "embedding = {}\n",
    "embedding['a'] = (1.0, 1)\n",
    "embedding['b'] = (-1, -1)\n",
    "embedding['('] = (1, 0)\n",
    "embedding[')'] = (0, 1)\n",
    "\n",
    "# embedding['a'] = (-1, 0)\n",
    "# embedding['b'] = (-0.5, 0)\n",
    "# embedding['('] = (1, 1)\n",
    "# embedding[')'] = (1, -1)\n",
    "\n",
    "# Weights\n",
    "w1=1.0\n",
    "w2=1.0\n",
    "w3=1.0\n",
    "ws=1.0\n",
    "\n",
    "memory_history = [0]\n",
    "output_history = [0]\n",
    "\n",
    "def sigmoid(x):\n",
    "    return 1.0/(1+math.exp(-x))\n",
    "\n",
    "def gold(seq):\n",
    "    result = [0]\n",
    "    in_bracket = False\n",
    "    for char in seq:\n",
    "        if char == '(':\n",
    "            in_bracket = True\n",
    "        if char == ')':\n",
    "            in_bracket = False\n",
    "        if in_bracket:\n",
    "            result.append(sigmoid(1))\n",
    "        else:\n",
    "            result.append(sigmoid(0))\n",
    "    return result\n",
    "\n",
    "def activate_memory(x1, x2):\n",
    "    prev_memory = memory_history[-1]\n",
    "    memory_history.append(ws*prev_memory + w1*x1 + w2*x2)\n",
    "    return memory_history[-1]\n",
    "\n",
    "def activate_output(h):\n",
    "    output_history.append(sigmoid(w3*h))\n",
    "    return output_history[-1]\n",
    "\n",
    "def predict(seq):\n",
    "    for char in seq:\n",
    "        activate_output(activate_memory(*embedding[char]))\n",
    "    result = output_history[:]\n",
    "    return result\n",
    "\n",
    "def reset():\n",
    "    global memory_history, output_history\n",
    "    memory_history = [0]\n",
    "    output_history = [0]\n",
    "    \n",
    "def loss(gold_seq, pred_seq):\n",
    "    result = 0.0\n",
    "    per_position_loss = []\n",
    "    for idx, (corr, pred) in enumerate(zip(gold_seq, pred_seq)):\n",
    "        cur_loss  = -(corr*math.log(pred) + (1-corr)*math.log(1-pred))\n",
    "        cur_loss -= -(corr*math.log(corr) + (1-corr)*math.log(1-corr))\n",
    "        result += cur_loss\n",
    "        per_position_loss.append(cur_loss)\n",
    "    return result, per_position_loss\n",
    "\n",
    "\n",
    "def print_list(lst):\n",
    "    '''A convenience method to print a list of real numbers'''\n",
    "    as_str = ['{:+.3f}'.format(num) for num in lst]\n",
    "    print('[{}]'.format(', '.join(as_str)))"
   ]
  },
  {
   "cell_type": "code",
   "execution_count": 2,
   "metadata": {
    "collapsed": false
   },
   "outputs": [
    {
     "name": "stdout",
     "output_type": "stream",
     "text": [
      "sigmoid(0) = 0.5\n",
      "sigmoid(1) = 0.7310585786300049\n",
      "sigmoid(2) = 0.8807970779778823\n",
      "sigmoid(3) = 0.9525741268224334\n",
      "sigmoid(4) = 0.9820137900379085\n"
     ]
    }
   ],
   "source": [
    "# See typical values of sigmoid\n",
    "for i in range(5):\n",
    "    print('sigmoid({}) = {}'.format(i, sigmoid(i)))"
   ]
  },
  {
   "cell_type": "markdown",
   "metadata": {},
   "source": [
    "Now let's check the function calculating the target value. Basically we want it to output $\\sigma(0)$ or $\\sigma(1)$ when the output is outside or inside a bracketed expression, respectively."
   ]
  },
  {
   "cell_type": "code",
   "execution_count": 3,
   "metadata": {
    "collapsed": false
   },
   "outputs": [
    {
     "data": {
      "text/plain": [
       "[0.5, 0.7310585786300049, 0.7310585786300049, 0.5, 0.5]"
      ]
     },
     "execution_count": 3,
     "metadata": {},
     "output_type": "execute_result"
    }
   ],
   "source": [
    "gold('a(a)a')[1:]  # The first element is dummy"
   ]
  },
  {
   "cell_type": "markdown",
   "metadata": {
    "collapsed": true
   },
   "source": [
    "Which is $\\sigma(0), \\sigma(1), \\sigma(1), \\sigma(0), \\sigma(0)$, which is what we expect. So far so good.\n",
    "<hr>\n",
    "Now let's see what our network outputs"
   ]
  },
  {
   "cell_type": "code",
   "execution_count": 4,
   "metadata": {
    "collapsed": false
   },
   "outputs": [
    {
     "name": "stdout",
     "output_type": "stream",
     "text": [
      "Output: [+0.881, +0.500, +0.731, +0.953, +0.731, +0.881, +0.982, +0.881]\n",
      "Target: [+0.500, +0.500, +0.731, +0.731, +0.731, +0.500, +0.500, +0.500]\n",
      "Loss  : 2.900\n"
     ]
    }
   ],
   "source": [
    "test_seq = 'ab(ab)ab'\n",
    "reset()\n",
    "w1 = 1.0\n",
    "w2 = 1.0\n",
    "w3 = 1.0\n",
    "result = predict(test_seq)\n",
    "correct = gold(test_seq)\n",
    "print('Output: ', end='')\n",
    "print_list(result[1:])\n",
    "print('Target: ', end='')\n",
    "print_list(correct[1:])\n",
    "print('Loss  : {:.3f}'.format(loss(correct[1:], result[1:])[0]))"
   ]
  },
  {
   "cell_type": "markdown",
   "metadata": {},
   "source": [
    "We see that the loss is still non-zero, and we see that some values are incorrectly predicted.\n",
    "\n",
    "Next we will see the gradient calculation in progress, so that we can update the weight to reduce the loss.\n",
    "\n",
    "### Calculating Gradients\n",
    "\n",
    "To do the weight update, we need to calculate the partial derivative of the loss function with respect to the each weight. We have three weight parameters $w_1, w_2$, and $w_3$, so we need to compute three different partial derivatives.\n",
    "\n",
    "For ease of notation, we denote $\\mathrm{Loss}_t = \\mathrm{Loss}(\\hat{o}_t, o_t)$ as the loss at time step $t$ and $\\mathrm{Loss} = \\sum_t \\mathrm{Loss}_t$ as the total loss over one sequence.\n",
    "\n",
    "Remember that our objective is to reduce the total loss.\n",
    "\n",
    "$$\n",
    "\\begin{eqnarray}\n",
    "\\frac{\\partial\\mathrm{Loss}}{\\partial w_i} & = & \\sum_t\\frac{\\partial \\mathrm{Loss}_t}{\\partial w_i} \\\\\n",
    "& = & \\sum_t\\frac{\\partial \\mathrm{Loss}_t}{\\partial o_t} \\cdot \\frac{\\partial o_t}{\\partial w_i} \\qquad \\text{(by chain rule)} \\\\\n",
    "\\end{eqnarray}\n",
    "$$\n",
    "\n",
    "for $w_3$, we can already compute the gradient here, which is:\n",
    "\n",
    "$$\n",
    "\\require{cancel}\n",
    "\\begin{eqnarray}\n",
    "\\frac{\\partial\\mathrm{Loss}}{\\partial w_3} & = & \\sum_t\\frac{\\partial \\mathrm{Loss}_t}{\\partial o_t} \\cdot \\frac{\\partial o_t}{\\partial w_i} \\\\\n",
    "& = & \\sum_t\\underbrace{\\frac{o_t - \\hat{o}_t}{\\cancel{o_t(1-o_t)}}}_{=\\frac{\\partial \\mathrm{Loss}_t}{\\partial o_t}} \\cdot \\underbrace{s_t \\cdot \\cancel{o_t(1-o_t)}}_{=\\frac{\\partial o_t}{\\partial w_i}} \\\\\n",
    "& = & \\sum_t(o_t-\\hat{o}_t)s_t\n",
    "\\end{eqnarray}\n",
    "$$\n",
    "\n",
    "for $w_1$ and $w_2$, we have:\n",
    "\n",
    "$$\n",
    "\\begin{eqnarray}\n",
    "\\frac{\\partial\\mathrm{Loss}}{\\partial w_i} & = & \\sum_t\\frac{\\partial \\mathrm{Loss}_t}{\\partial o_t} \\cdot \\frac{\\partial o_t}{\\partial w_i} \\\\\n",
    "& = & \\sum_t \\frac{o_t - \\hat{o}_t}{o_t(1-o_t)} \\cdot \\frac{\\partial o_t}{\\partial s_t} \\cdot \\frac{\\partial s_t}{\\partial w_i} \\\\\n",
    "& = & \\sum_t \\frac{o_t - \\hat{o}_t}{\\cancel{o_t(1-o_t)}} \\cdot w_3\\cdot \\cancel{o_t(1-o_t)} \\cdot \\frac{\\partial s_t}{\\partial w_i} \\\\\n",
    "& = & \\sum_t (o_t - \\hat{o}_t)w_3 \\cdot \\frac{\\partial s_t}{\\partial w_i} \\\\\n",
    "& = & \\sum_t (o_t - \\hat{o}_t)w_3 \\cdot \\left(w_s\\cdot\\frac{\\partial s_{t-1}}{\\partial w_i} + x_{t,i}\\right) \\\\\n",
    "& = & \\sum_t (o_t - \\hat{o}_t)w_3 \\cdot \\left({w_s}^2\\cdot\\frac{\\partial s_{t-2}}{\\partial w_i} + w_s\\cdot x_{t-1,i} + x_{t,i}\\right) \\\\\n",
    "& & \\ldots \\\\\n",
    "& = & \\sum_t (o_t - \\hat{o}_t)w_3 \\cdot \\left(\\sum_{t'\\leq t} {w_s}^{t-t'}x_{t',i}\\right) \\\\\n",
    "\\end{eqnarray}\n",
    "$$\n",
    "\n",
    "### Important Note on $w_s$!\n",
    "\n",
    "We see that the gradient with respect to $w_1$ and $w_2$ contains the factor ${w_s}^{t-t'}$, where $t-t'$ can be as large as the input sequence length. So if $w_s \\neq 1.0$, then either the gradient will vanish or blow up as the input sequence gets longer."
   ]
  },
  {
   "cell_type": "code",
   "execution_count": 5,
   "metadata": {
    "collapsed": false
   },
   "outputs": [],
   "source": [
    "def dLdw1(test_seq, gold_seq, pred_seq, state_seq, info):\n",
    "    result = 0.0\n",
    "    grad_str = '<div style=\"font-family:monaco; font-size:12px\">dL/dw1 = '\n",
    "    for time_step in range(1, len(gold_seq)):\n",
    "        cur_dell = (pred_seq[time_step] - gold_seq[time_step]) * w3\n",
    "        cur_dell *= sum(ws**(step-1)*embedding[test_seq[step-1]][0] for step in range(1, time_step+1))\n",
    "        if cur_dell < 0:\n",
    "            color = 'red'\n",
    "        else:\n",
    "            color = 'blue'\n",
    "        grad_str += '{}<span style=\"color:{}\">{:+.3f}</span>'.format(' + ' if time_step > 1 else '', color, cur_dell)\n",
    "        result += cur_dell\n",
    "    grad_str += ' = <span style=\"color:{}; text-decoration:underline\">{:+.3f}</span></div>'.format(\n",
    "                'red' if result < 0 else 'blue', result)\n",
    "    # printmd(grad_str)\n",
    "    info[0] += grad_str\n",
    "    return result\n",
    "\n",
    "def dLdw2(test_seq, gold_seq, pred_seq, state_seq, info):\n",
    "    result = 0.0\n",
    "    grad_str = '<div style=\"font-family:monaco; font-size:12px\">dL/dw2 = '\n",
    "    for time_step in range(1, len(gold_seq)):\n",
    "        cur_dell = (pred_seq[time_step] - gold_seq[time_step]) * w3\n",
    "        cur_dell *= sum(ws**(step-1)*embedding[test_seq[step-1]][1] for step in range(1, time_step+1))\n",
    "        if cur_dell < 0:\n",
    "            color = 'red'\n",
    "        else:\n",
    "            color = 'blue'\n",
    "        grad_str += '{}<span style=\"color:{}\">{:+.3f}</span>'.format(' + ' if time_step > 1 else '', color, cur_dell)\n",
    "        result += cur_dell\n",
    "    grad_str += ' = <span style=\"color:{}; text-decoration:underline\">{:+.3f}</span></div>'.format(\n",
    "                'red' if result < 0 else 'blue', result)\n",
    "    # printmd(grad_str)\n",
    "    info[0] += grad_str\n",
    "    return result\n",
    "\n",
    "def dLdw3(test_seq, gold_seq, pred_seq, state_seq, info):\n",
    "    result = 0.0\n",
    "    grad_str = '<div style=\"font-family:monaco; font-size:12px\">dL/dw3 = '\n",
    "    for time_step in range(1, len(gold_seq)):\n",
    "        cur_dell = (pred_seq[time_step] - gold_seq[time_step]) * state_seq[time_step]\n",
    "        if cur_dell < 0:\n",
    "            color = 'red'\n",
    "        else:\n",
    "            color = 'blue'\n",
    "        grad_str += '{}<span style=\"color:{}\">{:+.3f}</span>'.format(' + ' if time_step > 1 else '', color, cur_dell)\n",
    "        result += cur_dell\n",
    "    grad_str += ' = <span style=\"color:{}; text-decoration:underline\">{:+.3f}</span></div>'.format(\n",
    "                'red' if result < 0 else 'blue', result)\n",
    "    # printmd(grad_str)\n",
    "    info[0] += grad_str\n",
    "    return result"
   ]
  },
  {
   "cell_type": "markdown",
   "metadata": {},
   "source": [
    "## Experiment\n",
    "Now we define an experiment which takes in initial values of all the weights, learning rate, and maximum number of iterations. We also want to experiment with fixing the weight $w_3$ (i.e., it is not learned).\n",
    "\n",
    "The code below will print the total loss, the loss at each time step, the output, target, and memory at each time step, and also the gradient for each learned parameter at each time step."
   ]
  },
  {
   "cell_type": "code",
   "execution_count": 6,
   "metadata": {
    "collapsed": true
   },
   "outputs": [],
   "source": [
    "def experiment(test_seq, _w1=1.0, _w2=1.0, _w3=1.0, alpha=1e-1, max_iter=250, fixed_w3=True):\n",
    "    global w1, w2, w3\n",
    "    reset()\n",
    "    w1 = _w1\n",
    "    w2 = _w2\n",
    "    w3 = _w3\n",
    "    correct = gold(test_seq)\n",
    "    print('w1={:+.3f}, w2={:+.3f}, w3={:+.3f}'.format(w1, w2, w3))\n",
    "    for iter_num in range(max_iter):\n",
    "        result = predict(test_seq)\n",
    "        if iter_num < 15 or (iter_num % 50 == 49):\n",
    "            printmd('<div style=\"font-weight:bold\">Iteration {}</div>'.format(iter_num))\n",
    "            print('Output: ', end='')\n",
    "            print_list(result[1:])\n",
    "            print('Target: ', end='')\n",
    "            print_list(correct[1:])\n",
    "            print('Memory: ', end='')\n",
    "            print_list(memory_history[1:])\n",
    "        total_loss, per_position_loss = loss(correct[1:], result[1:])\n",
    "        info = ['', iter_num]\n",
    "        info[0] = ('<div>Loss: <span style=\"font-weight:bold\">{:.5f}</span>' +\n",
    "                   '= <span style=\"font-family:monaco; font-size:12px\">').format(total_loss)\n",
    "        for idx, per_pos_loss in enumerate(per_position_loss):\n",
    "            info[0] += '{}{:.3f}'.format(' + ' if idx > 0 else '', per_pos_loss)\n",
    "        info[0] += '</span></div>'\n",
    "        # printmd(loss_str)\n",
    "        w1 -= alpha * dLdw1(test_seq, correct, result, memory_history, info)\n",
    "        w2 -= alpha * dLdw2(test_seq, correct, result, memory_history, info)\n",
    "        if not fixed_w3:\n",
    "            w3 -= alpha * dLdw3(test_seq, correct, result, memory_history, info)\n",
    "        if iter_num < 15 or (iter_num % 50 == 49):\n",
    "            printmd(info[0])\n",
    "            print('w1={:+.3f}, w2={:+.3f}, w3={:+.3f}'.format(w1, w2, w3))\n",
    "            print()\n",
    "        reset()\n",
    "    return w1, w2, w3"
   ]
  },
  {
   "cell_type": "code",
   "execution_count": 7,
   "metadata": {
    "collapsed": false,
    "scrolled": true
   },
   "outputs": [
    {
     "name": "stdout",
     "output_type": "stream",
     "text": [
      "w1=+1.000, w2=+1.000, w3=+1.000\n"
     ]
    },
    {
     "data": {
      "text/markdown": [
       "<div style=\"font-weight:bold\">Iteration 0</div>"
      ],
      "text/plain": [
       "<IPython.core.display.Markdown object>"
      ]
     },
     "metadata": {},
     "output_type": "display_data"
    },
    {
     "name": "stdout",
     "output_type": "stream",
     "text": [
      "Output: [+0.881, +0.500, +0.731, +0.953, +0.731, +0.881, +0.500, +0.119]\n",
      "Target: [+0.500, +0.500, +0.731, +0.731, +0.731, +0.500, +0.500, +0.500]\n",
      "Memory: [+2.000, +0.000, +1.000, +3.000, +1.000, +2.000, +0.000, -2.000]\n"
     ]
    },
    {
     "data": {
      "text/markdown": [
       "<div>Loss: <span style=\"font-weight:bold\">1.57455</span>= <span style=\"font-family:monaco; font-size:12px\">0.434 + 0.000 + 0.000 + 0.273 + 0.000 + 0.434 + 0.000 + 0.434</span></div><div style=\"font-family:monaco; font-size:12px\">dL/dw1 = <span style=\"color:blue\">+0.381</span> + <span style=\"color:blue\">+0.000</span> + <span style=\"color:blue\">+0.000</span> + <span style=\"color:blue\">+0.443</span> + <span style=\"color:blue\">+0.000</span> + <span style=\"color:blue\">+0.381</span> + <span style=\"color:blue\">+0.000</span> + <span style=\"color:blue\">+0.381</span> = <span style=\"color:blue; text-decoration:underline\">+1.585</span></div><div style=\"font-family:monaco; font-size:12px\">dL/dw2 = <span style=\"color:blue\">+0.381</span> + <span style=\"color:blue\">+0.000</span> + <span style=\"color:blue\">+0.000</span> + <span style=\"color:blue\">+0.222</span> + <span style=\"color:blue\">+0.000</span> + <span style=\"color:blue\">+0.381</span> + <span style=\"color:blue\">+0.000</span> + <span style=\"color:blue\">+0.381</span> = <span style=\"color:blue; text-decoration:underline\">+1.364</span></div>"
      ],
      "text/plain": [
       "<IPython.core.display.Markdown object>"
      ]
     },
     "metadata": {},
     "output_type": "display_data"
    },
    {
     "name": "stdout",
     "output_type": "stream",
     "text": [
      "w1=+0.841, w2=+0.864, w3=+1.000\n",
      "\n"
     ]
    },
    {
     "data": {
      "text/markdown": [
       "<div style=\"font-weight:bold\">Iteration 1</div>"
      ],
      "text/plain": [
       "<IPython.core.display.Markdown object>"
      ]
     },
     "metadata": {},
     "output_type": "display_data"
    },
    {
     "name": "stdout",
     "output_type": "stream",
     "text": [
      "Output: [+0.846, +0.500, +0.699, +0.927, +0.699, +0.846, +0.500, +0.154]\n",
      "Target: [+0.500, +0.500, +0.731, +0.731, +0.731, +0.500, +0.500, +0.500]\n",
      "Memory: [+1.705, +0.000, +0.841, +2.547, +0.841, +1.705, +0.000, -1.705]\n"
     ]
    },
    {
     "data": {
      "text/markdown": [
       "<div>Loss: <span style=\"font-weight:bold\">1.16233</span>= <span style=\"font-family:monaco; font-size:12px\">0.326 + 0.000 + 0.003 + 0.178 + 0.003 + 0.326 + 0.000 + 0.326</span></div><div style=\"font-family:monaco; font-size:12px\">dL/dw1 = <span style=\"color:blue\">+0.346</span> + <span style=\"color:blue\">+0.000</span> + <span style=\"color:red\">-0.032</span> + <span style=\"color:blue\">+0.393</span> + <span style=\"color:red\">-0.032</span> + <span style=\"color:blue\">+0.346</span> + <span style=\"color:blue\">+0.000</span> + <span style=\"color:blue\">+0.346</span> = <span style=\"color:blue; text-decoration:underline\">+1.367</span></div><div style=\"font-family:monaco; font-size:12px\">dL/dw2 = <span style=\"color:blue\">+0.346</span> + <span style=\"color:blue\">+0.000</span> + <span style=\"color:blue\">-0.000</span> + <span style=\"color:blue\">+0.196</span> + <span style=\"color:blue\">-0.000</span> + <span style=\"color:blue\">+0.346</span> + <span style=\"color:blue\">+0.000</span> + <span style=\"color:blue\">+0.346</span> = <span style=\"color:blue; text-decoration:underline\">+1.235</span></div>"
      ],
      "text/plain": [
       "<IPython.core.display.Markdown object>"
      ]
     },
     "metadata": {},
     "output_type": "display_data"
    },
    {
     "name": "stdout",
     "output_type": "stream",
     "text": [
      "w1=+0.705, w2=+0.740, w3=+1.000\n",
      "\n"
     ]
    },
    {
     "data": {
      "text/markdown": [
       "<div style=\"font-weight:bold\">Iteration 2</div>"
      ],
      "text/plain": [
       "<IPython.core.display.Markdown object>"
      ]
     },
     "metadata": {},
     "output_type": "display_data"
    },
    {
     "name": "stdout",
     "output_type": "stream",
     "text": [
      "Output: [+0.809, +0.500, +0.669, +0.896, +0.669, +0.809, +0.500, +0.191]\n",
      "Target: [+0.500, +0.500, +0.731, +0.731, +0.731, +0.500, +0.500, +0.500]\n",
      "Memory: [+1.445, +0.000, +0.705, +2.150, +0.705, +1.445, +0.000, -1.445]\n"
     ]
    },
    {
     "data": {
      "text/markdown": [
       "<div>Loss: <span style=\"font-weight:bold\">0.84706</span>= <span style=\"font-family:monaco; font-size:12px\">0.241 + 0.000 + 0.009 + 0.106 + 0.009 + 0.241 + 0.000 + 0.241</span></div><div style=\"font-family:monaco; font-size:12px\">dL/dw1 = <span style=\"color:blue\">+0.309</span> + <span style=\"color:blue\">+0.000</span> + <span style=\"color:red\">-0.062</span> + <span style=\"color:blue\">+0.329</span> + <span style=\"color:red\">-0.062</span> + <span style=\"color:blue\">+0.309</span> + <span style=\"color:blue\">+0.000</span> + <span style=\"color:blue\">+0.309</span> = <span style=\"color:blue; text-decoration:underline\">+1.133</span></div><div style=\"font-family:monaco; font-size:12px\">dL/dw2 = <span style=\"color:blue\">+0.309</span> + <span style=\"color:blue\">+0.000</span> + <span style=\"color:blue\">-0.000</span> + <span style=\"color:blue\">+0.165</span> + <span style=\"color:blue\">-0.000</span> + <span style=\"color:blue\">+0.309</span> + <span style=\"color:blue\">+0.000</span> + <span style=\"color:blue\">+0.309</span> = <span style=\"color:blue; text-decoration:underline\">+1.092</span></div>"
      ],
      "text/plain": [
       "<IPython.core.display.Markdown object>"
      ]
     },
     "metadata": {},
     "output_type": "display_data"
    },
    {
     "name": "stdout",
     "output_type": "stream",
     "text": [
      "w1=+0.591, w2=+0.631, w3=+1.000\n",
      "\n"
     ]
    },
    {
     "data": {
      "text/markdown": [
       "<div style=\"font-weight:bold\">Iteration 3</div>"
      ],
      "text/plain": [
       "<IPython.core.display.Markdown object>"
      ]
     },
     "metadata": {},
     "output_type": "display_data"
    },
    {
     "name": "stdout",
     "output_type": "stream",
     "text": [
      "Output: [+0.772, +0.500, +0.644, +0.860, +0.644, +0.772, +0.500, +0.228]\n",
      "Target: [+0.500, +0.500, +0.731, +0.731, +0.731, +0.500, +0.500, +0.500]\n",
      "Memory: [+1.222, -0.000, +0.591, +1.814, +0.591, +1.222, -0.000, -1.222]\n"
     ]
    },
    {
     "data": {
      "text/markdown": [
       "<div>Loss: <span style=\"font-weight:bold\">0.61998</span>= <span style=\"font-family:monaco; font-size:12px\">0.176 + 0.000 + 0.017 + 0.057 + 0.017 + 0.176 + 0.000 + 0.176</span></div><div style=\"font-family:monaco; font-size:12px\">dL/dw1 = <span style=\"color:blue\">+0.272</span> + <span style=\"color:blue\">+0.000</span> + <span style=\"color:red\">-0.087</span> + <span style=\"color:blue\">+0.258</span> + <span style=\"color:red\">-0.087</span> + <span style=\"color:blue\">+0.272</span> + <span style=\"color:blue\">+0.000</span> + <span style=\"color:blue\">+0.272</span> = <span style=\"color:blue; text-decoration:underline\">+0.900</span></div><div style=\"font-family:monaco; font-size:12px\">dL/dw2 = <span style=\"color:blue\">+0.272</span> + <span style=\"color:blue\">+0.000</span> + <span style=\"color:blue\">-0.000</span> + <span style=\"color:blue\">+0.129</span> + <span style=\"color:blue\">-0.000</span> + <span style=\"color:blue\">+0.272</span> + <span style=\"color:blue\">+0.000</span> + <span style=\"color:blue\">+0.272</span> = <span style=\"color:blue; text-decoration:underline\">+0.946</span></div>"
      ],
      "text/plain": [
       "<IPython.core.display.Markdown object>"
      ]
     },
     "metadata": {},
     "output_type": "display_data"
    },
    {
     "name": "stdout",
     "output_type": "stream",
     "text": [
      "w1=+0.501, w2=+0.536, w3=+1.000\n",
      "\n"
     ]
    },
    {
     "data": {
      "text/markdown": [
       "<div style=\"font-weight:bold\">Iteration 4</div>"
      ],
      "text/plain": [
       "<IPython.core.display.Markdown object>"
      ]
     },
     "metadata": {},
     "output_type": "display_data"
    },
    {
     "name": "stdout",
     "output_type": "stream",
     "text": [
      "Output: [+0.738, +0.500, +0.623, +0.823, +0.623, +0.738, +0.500, +0.262]\n",
      "Target: [+0.500, +0.500, +0.731, +0.731, +0.731, +0.500, +0.500, +0.500]\n",
      "Memory: [+1.038, +0.000, +0.501, +1.539, +0.501, +1.038, +0.000, -1.038]\n"
     ]
    },
    {
     "data": {
      "text/markdown": [
       "<div>Loss: <span style=\"font-weight:bold\">0.46541</span>= <span style=\"font-family:monaco; font-size:12px\">0.129 + 0.000 + 0.026 + 0.026 + 0.026 + 0.129 + 0.000 + 0.129</span></div><div style=\"font-family:monaco; font-size:12px\">dL/dw1 = <span style=\"color:blue\">+0.238</span> + <span style=\"color:blue\">+0.000</span> + <span style=\"color:red\">-0.108</span> + <span style=\"color:blue\">+0.185</span> + <span style=\"color:red\">-0.108</span> + <span style=\"color:blue\">+0.238</span> + <span style=\"color:blue\">+0.000</span> + <span style=\"color:blue\">+0.238</span> = <span style=\"color:blue; text-decoration:underline\">+0.683</span></div><div style=\"font-family:monaco; font-size:12px\">dL/dw2 = <span style=\"color:blue\">+0.238</span> + <span style=\"color:blue\">+0.000</span> + <span style=\"color:blue\">-0.000</span> + <span style=\"color:blue\">+0.092</span> + <span style=\"color:blue\">-0.000</span> + <span style=\"color:blue\">+0.238</span> + <span style=\"color:blue\">+0.000</span> + <span style=\"color:blue\">+0.238</span> = <span style=\"color:blue; text-decoration:underline\">+0.808</span></div>"
      ],
      "text/plain": [
       "<IPython.core.display.Markdown object>"
      ]
     },
     "metadata": {},
     "output_type": "display_data"
    },
    {
     "name": "stdout",
     "output_type": "stream",
     "text": [
      "w1=+0.433, w2=+0.456, w3=+1.000\n",
      "\n"
     ]
    },
    {
     "data": {
      "text/markdown": [
       "<div style=\"font-weight:bold\">Iteration 5</div>"
      ],
      "text/plain": [
       "<IPython.core.display.Markdown object>"
      ]
     },
     "metadata": {},
     "output_type": "display_data"
    },
    {
     "name": "stdout",
     "output_type": "stream",
     "text": [
      "Output: [+0.709, +0.500, +0.607, +0.789, +0.607, +0.709, +0.500, +0.291]\n",
      "Target: [+0.500, +0.500, +0.731, +0.731, +0.731, +0.500, +0.500, +0.500]\n",
      "Memory: [+0.889, +0.000, +0.433, +1.322, +0.433, +0.889, -0.000, -0.889]\n"
     ]
    },
    {
     "data": {
      "text/markdown": [
       "<div>Loss: <span style=\"font-weight:bold\">0.36481</span>= <span style=\"font-family:monaco; font-size:12px\">0.096 + 0.000 + 0.034 + 0.010 + 0.034 + 0.096 + 0.000 + 0.096</span></div><div style=\"font-family:monaco; font-size:12px\">dL/dw1 = <span style=\"color:blue\">+0.209</span> + <span style=\"color:blue\">+0.000</span> + <span style=\"color:red\">-0.124</span> + <span style=\"color:blue\">+0.117</span> + <span style=\"color:red\">-0.124</span> + <span style=\"color:blue\">+0.209</span> + <span style=\"color:blue\">+0.000</span> + <span style=\"color:blue\">+0.209</span> = <span style=\"color:blue; text-decoration:underline\">+0.494</span></div><div style=\"font-family:monaco; font-size:12px\">dL/dw2 = <span style=\"color:blue\">+0.209</span> + <span style=\"color:blue\">+0.000</span> + <span style=\"color:blue\">-0.000</span> + <span style=\"color:blue\">+0.058</span> + <span style=\"color:blue\">-0.000</span> + <span style=\"color:blue\">+0.209</span> + <span style=\"color:blue\">+0.000</span> + <span style=\"color:blue\">+0.209</span> = <span style=\"color:blue; text-decoration:underline\">+0.684</span></div>"
      ],
      "text/plain": [
       "<IPython.core.display.Markdown object>"
      ]
     },
     "metadata": {},
     "output_type": "display_data"
    },
    {
     "name": "stdout",
     "output_type": "stream",
     "text": [
      "w1=+0.384, w2=+0.387, w3=+1.000\n",
      "\n"
     ]
    },
    {
     "data": {
      "text/markdown": [
       "<div style=\"font-weight:bold\">Iteration 6</div>"
      ],
      "text/plain": [
       "<IPython.core.display.Markdown object>"
      ]
     },
     "metadata": {},
     "output_type": "display_data"
    },
    {
     "name": "stdout",
     "output_type": "stream",
     "text": [
      "Output: [+0.684, +0.500, +0.595, +0.760, +0.595, +0.684, +0.500, +0.316]\n",
      "Target: [+0.500, +0.500, +0.731, +0.731, +0.731, +0.500, +0.500, +0.500]\n",
      "Memory: [+0.771, +0.000, +0.384, +1.155, +0.384, +0.771, +0.000, -0.771]\n"
     ]
    },
    {
     "data": {
      "text/markdown": [
       "<div>Loss: <span style=\"font-weight:bold\">0.30095</span>= <span style=\"font-family:monaco; font-size:12px\">0.073 + 0.000 + 0.041 + 0.002 + 0.041 + 0.073 + 0.000 + 0.073</span></div><div style=\"font-family:monaco; font-size:12px\">dL/dw1 = <span style=\"color:blue\">+0.184</span> + <span style=\"color:blue\">+0.000</span> + <span style=\"color:red\">-0.136</span> + <span style=\"color:blue\">+0.059</span> + <span style=\"color:red\">-0.136</span> + <span style=\"color:blue\">+0.184</span> + <span style=\"color:blue\">+0.000</span> + <span style=\"color:blue\">+0.184</span> = <span style=\"color:blue; text-decoration:underline\">+0.337</span></div><div style=\"font-family:monaco; font-size:12px\">dL/dw2 = <span style=\"color:blue\">+0.184</span> + <span style=\"color:blue\">+0.000</span> + <span style=\"color:blue\">-0.000</span> + <span style=\"color:blue\">+0.029</span> + <span style=\"color:blue\">-0.000</span> + <span style=\"color:blue\">+0.184</span> + <span style=\"color:blue\">+0.000</span> + <span style=\"color:blue\">+0.184</span> = <span style=\"color:blue; text-decoration:underline\">+0.580</span></div>"
      ],
      "text/plain": [
       "<IPython.core.display.Markdown object>"
      ]
     },
     "metadata": {},
     "output_type": "display_data"
    },
    {
     "name": "stdout",
     "output_type": "stream",
     "text": [
      "w1=+0.350, w2=+0.329, w3=+1.000\n",
      "\n"
     ]
    },
    {
     "data": {
      "text/markdown": [
       "<div style=\"font-weight:bold\">Iteration 7</div>"
      ],
      "text/plain": [
       "<IPython.core.display.Markdown object>"
      ]
     },
     "metadata": {},
     "output_type": "display_data"
    },
    {
     "name": "stdout",
     "output_type": "stream",
     "text": [
      "Output: [+0.664, +0.500, +0.587, +0.737, +0.587, +0.664, +0.500, +0.336]\n",
      "Target: [+0.500, +0.500, +0.731, +0.731, +0.731, +0.500, +0.500, +0.500]\n",
      "Memory: [+0.679, +0.000, +0.350, +1.029, +0.350, +0.679, -0.000, -0.679]\n"
     ]
    },
    {
     "data": {
      "text/markdown": [
       "<div>Loss: <span style=\"font-weight:bold\">0.26040</span>= <span style=\"font-family:monaco; font-size:12px\">0.057 + 0.000 + 0.045 + 0.000 + 0.045 + 0.057 + 0.000 + 0.057</span></div><div style=\"font-family:monaco; font-size:12px\">dL/dw1 = <span style=\"color:blue\">+0.164</span> + <span style=\"color:blue\">+0.000</span> + <span style=\"color:red\">-0.144</span> + <span style=\"color:blue\">+0.011</span> + <span style=\"color:red\">-0.144</span> + <span style=\"color:blue\">+0.164</span> + <span style=\"color:blue\">+0.000</span> + <span style=\"color:blue\">+0.164</span> = <span style=\"color:blue; text-decoration:underline\">+0.213</span></div><div style=\"font-family:monaco; font-size:12px\">dL/dw2 = <span style=\"color:blue\">+0.164</span> + <span style=\"color:blue\">+0.000</span> + <span style=\"color:blue\">-0.000</span> + <span style=\"color:blue\">+0.006</span> + <span style=\"color:blue\">-0.000</span> + <span style=\"color:blue\">+0.164</span> + <span style=\"color:blue\">+0.000</span> + <span style=\"color:blue\">+0.164</span> = <span style=\"color:blue; text-decoration:underline\">+0.496</span></div>"
      ],
      "text/plain": [
       "<IPython.core.display.Markdown object>"
      ]
     },
     "metadata": {},
     "output_type": "display_data"
    },
    {
     "name": "stdout",
     "output_type": "stream",
     "text": [
      "w1=+0.329, w2=+0.279, w3=+1.000\n",
      "\n"
     ]
    },
    {
     "data": {
      "text/markdown": [
       "<div style=\"font-weight:bold\">Iteration 8</div>"
      ],
      "text/plain": [
       "<IPython.core.display.Markdown object>"
      ]
     },
     "metadata": {},
     "output_type": "display_data"
    },
    {
     "name": "stdout",
     "output_type": "stream",
     "text": [
      "Output: [+0.648, +0.500, +0.581, +0.718, +0.581, +0.648, +0.500, +0.352]\n",
      "Target: [+0.500, +0.500, +0.731, +0.731, +0.731, +0.500, +0.500, +0.500]\n",
      "Memory: [+0.608, +0.000, +0.329, +0.937, +0.329, +0.608, +0.000, -0.608]\n"
     ]
    },
    {
     "data": {
      "text/markdown": [
       "<div>Loss: <span style=\"font-weight:bold\">0.23388</span>= <span style=\"font-family:monaco; font-size:12px\">0.046 + 0.000 + 0.048 + 0.000 + 0.048 + 0.046 + 0.000 + 0.046</span></div><div style=\"font-family:monaco; font-size:12px\">dL/dw1 = <span style=\"color:blue\">+0.148</span> + <span style=\"color:blue\">+0.000</span> + <span style=\"color:red\">-0.150</span> + <span style=\"color:red\">-0.025</span> + <span style=\"color:red\">-0.150</span> + <span style=\"color:blue\">+0.148</span> + <span style=\"color:blue\">+0.000</span> + <span style=\"color:blue\">+0.148</span> = <span style=\"color:blue; text-decoration:underline\">+0.118</span></div><div style=\"font-family:monaco; font-size:12px\">dL/dw2 = <span style=\"color:blue\">+0.148</span> + <span style=\"color:blue\">+0.000</span> + <span style=\"color:blue\">-0.000</span> + <span style=\"color:red\">-0.013</span> + <span style=\"color:blue\">-0.000</span> + <span style=\"color:blue\">+0.148</span> + <span style=\"color:blue\">+0.000</span> + <span style=\"color:blue\">+0.148</span> = <span style=\"color:blue; text-decoration:underline\">+0.430</span></div>"
      ],
      "text/plain": [
       "<IPython.core.display.Markdown object>"
      ]
     },
     "metadata": {},
     "output_type": "display_data"
    },
    {
     "name": "stdout",
     "output_type": "stream",
     "text": [
      "w1=+0.317, w2=+0.236, w3=+1.000\n",
      "\n"
     ]
    },
    {
     "data": {
      "text/markdown": [
       "<div style=\"font-weight:bold\">Iteration 9</div>"
      ],
      "text/plain": [
       "<IPython.core.display.Markdown object>"
      ]
     },
     "metadata": {},
     "output_type": "display_data"
    },
    {
     "name": "stdout",
     "output_type": "stream",
     "text": [
      "Output: [+0.635, +0.500, +0.579, +0.705, +0.579, +0.635, +0.500, +0.365]\n",
      "Target: [+0.500, +0.500, +0.731, +0.731, +0.731, +0.500, +0.500, +0.500]\n",
      "Memory: [+0.553, -0.000, +0.317, +0.870, +0.317, +0.553, -0.000, -0.553]\n"
     ]
    },
    {
     "data": {
      "text/markdown": [
       "<div>Loss: <span style=\"font-weight:bold\">0.21552</span>= <span style=\"font-family:monaco; font-size:12px\">0.038 + 0.000 + 0.050 + 0.002 + 0.050 + 0.038 + 0.000 + 0.038</span></div><div style=\"font-family:monaco; font-size:12px\">dL/dw1 = <span style=\"color:blue\">+0.135</span> + <span style=\"color:blue\">+0.000</span> + <span style=\"color:red\">-0.152</span> + <span style=\"color:red\">-0.053</span> + <span style=\"color:red\">-0.152</span> + <span style=\"color:blue\">+0.135</span> + <span style=\"color:blue\">+0.000</span> + <span style=\"color:blue\">+0.135</span> = <span style=\"color:blue; text-decoration:underline\">+0.047</span></div><div style=\"font-family:monaco; font-size:12px\">dL/dw2 = <span style=\"color:blue\">+0.135</span> + <span style=\"color:blue\">+0.000</span> + <span style=\"color:blue\">-0.000</span> + <span style=\"color:red\">-0.026</span> + <span style=\"color:blue\">-0.000</span> + <span style=\"color:blue\">+0.135</span> + <span style=\"color:blue\">+0.000</span> + <span style=\"color:blue\">+0.135</span> = <span style=\"color:blue; text-decoration:underline\">+0.378</span></div>"
      ],
      "text/plain": [
       "<IPython.core.display.Markdown object>"
      ]
     },
     "metadata": {},
     "output_type": "display_data"
    },
    {
     "name": "stdout",
     "output_type": "stream",
     "text": [
      "w1=+0.312, w2=+0.199, w3=+1.000\n",
      "\n"
     ]
    },
    {
     "data": {
      "text/markdown": [
       "<div style=\"font-weight:bold\">Iteration 10</div>"
      ],
      "text/plain": [
       "<IPython.core.display.Markdown object>"
      ]
     },
     "metadata": {},
     "output_type": "display_data"
    },
    {
     "name": "stdout",
     "output_type": "stream",
     "text": [
      "Output: [+0.625, +0.500, +0.577, +0.695, +0.577, +0.625, +0.500, +0.375]\n",
      "Target: [+0.500, +0.500, +0.731, +0.731, +0.731, +0.500, +0.500, +0.500]\n",
      "Memory: [+0.511, -0.000, +0.312, +0.823, +0.312, +0.511, -0.000, -0.511]\n"
     ]
    },
    {
     "data": {
      "text/markdown": [
       "<div>Loss: <span style=\"font-weight:bold\">0.20184</span>= <span style=\"font-family:monaco; font-size:12px\">0.032 + 0.000 + 0.051 + 0.003 + 0.051 + 0.032 + 0.000 + 0.032</span></div><div style=\"font-family:monaco; font-size:12px\">dL/dw1 = <span style=\"color:blue\">+0.125</span> + <span style=\"color:blue\">+0.000</span> + <span style=\"color:red\">-0.154</span> + <span style=\"color:red\">-0.072</span> + <span style=\"color:red\">-0.154</span> + <span style=\"color:blue\">+0.125</span> + <span style=\"color:blue\">+0.000</span> + <span style=\"color:blue\">+0.125</span> = <span style=\"color:red; text-decoration:underline\">-0.005</span></div><div style=\"font-family:monaco; font-size:12px\">dL/dw2 = <span style=\"color:blue\">+0.125</span> + <span style=\"color:blue\">+0.000</span> + <span style=\"color:blue\">-0.000</span> + <span style=\"color:red\">-0.036</span> + <span style=\"color:blue\">-0.000</span> + <span style=\"color:blue\">+0.125</span> + <span style=\"color:blue\">+0.000</span> + <span style=\"color:blue\">+0.125</span> = <span style=\"color:blue; text-decoration:underline\">+0.339</span></div>"
      ],
      "text/plain": [
       "<IPython.core.display.Markdown object>"
      ]
     },
     "metadata": {},
     "output_type": "display_data"
    },
    {
     "name": "stdout",
     "output_type": "stream",
     "text": [
      "w1=+0.313, w2=+0.165, w3=+1.000\n",
      "\n"
     ]
    },
    {
     "data": {
      "text/markdown": [
       "<div style=\"font-weight:bold\">Iteration 11</div>"
      ],
      "text/plain": [
       "<IPython.core.display.Markdown object>"
      ]
     },
     "metadata": {},
     "output_type": "display_data"
    },
    {
     "name": "stdout",
     "output_type": "stream",
     "text": [
      "Output: [+0.617, +0.500, +0.578, +0.688, +0.578, +0.617, +0.500, +0.383]\n",
      "Target: [+0.500, +0.500, +0.731, +0.731, +0.731, +0.500, +0.500, +0.500]\n",
      "Memory: [+0.477, +0.000, +0.313, +0.790, +0.313, +0.477, -0.000, -0.477]\n"
     ]
    },
    {
     "data": {
      "text/markdown": [
       "<div>Loss: <span style=\"font-weight:bold\">0.19087</span>= <span style=\"font-family:monaco; font-size:12px\">0.028 + 0.000 + 0.051 + 0.004 + 0.051 + 0.028 + 0.000 + 0.028</span></div><div style=\"font-family:monaco; font-size:12px\">dL/dw1 = <span style=\"color:blue\">+0.117</span> + <span style=\"color:blue\">+0.000</span> + <span style=\"color:red\">-0.154</span> + <span style=\"color:red\">-0.086</span> + <span style=\"color:red\">-0.154</span> + <span style=\"color:blue\">+0.117</span> + <span style=\"color:blue\">+0.000</span> + <span style=\"color:blue\">+0.117</span> = <span style=\"color:red; text-decoration:underline\">-0.042</span></div><div style=\"font-family:monaco; font-size:12px\">dL/dw2 = <span style=\"color:blue\">+0.117</span> + <span style=\"color:blue\">+0.000</span> + <span style=\"color:blue\">-0.000</span> + <span style=\"color:red\">-0.043</span> + <span style=\"color:blue\">-0.000</span> + <span style=\"color:blue\">+0.117</span> + <span style=\"color:blue\">+0.000</span> + <span style=\"color:blue\">+0.117</span> = <span style=\"color:blue; text-decoration:underline\">+0.308</span></div>"
      ],
      "text/plain": [
       "<IPython.core.display.Markdown object>"
      ]
     },
     "metadata": {},
     "output_type": "display_data"
    },
    {
     "name": "stdout",
     "output_type": "stream",
     "text": [
      "w1=+0.317, w2=+0.134, w3=+1.000\n",
      "\n"
     ]
    },
    {
     "data": {
      "text/markdown": [
       "<div style=\"font-weight:bold\">Iteration 12</div>"
      ],
      "text/plain": [
       "<IPython.core.display.Markdown object>"
      ]
     },
     "metadata": {},
     "output_type": "display_data"
    },
    {
     "name": "stdout",
     "output_type": "stream",
     "text": [
      "Output: [+0.611, +0.500, +0.579, +0.683, +0.579, +0.611, +0.500, +0.389]\n",
      "Target: [+0.500, +0.500, +0.731, +0.731, +0.731, +0.500, +0.500, +0.500]\n",
      "Memory: [+0.451, -0.000, +0.317, +0.768, +0.317, +0.451, -0.000, -0.451]\n"
     ]
    },
    {
     "data": {
      "text/markdown": [
       "<div>Loss: <span style=\"font-weight:bold\">0.18151</span>= <span style=\"font-family:monaco; font-size:12px\">0.025 + 0.000 + 0.050 + 0.005 + 0.050 + 0.025 + 0.000 + 0.025</span></div><div style=\"font-family:monaco; font-size:12px\">dL/dw1 = <span style=\"color:blue\">+0.111</span> + <span style=\"color:blue\">+0.000</span> + <span style=\"color:red\">-0.152</span> + <span style=\"color:red\">-0.096</span> + <span style=\"color:red\">-0.152</span> + <span style=\"color:blue\">+0.111</span> + <span style=\"color:blue\">+0.000</span> + <span style=\"color:blue\">+0.111</span> = <span style=\"color:red; text-decoration:underline\">-0.069</span></div><div style=\"font-family:monaco; font-size:12px\">dL/dw2 = <span style=\"color:blue\">+0.111</span> + <span style=\"color:blue\">+0.000</span> + <span style=\"color:blue\">-0.000</span> + <span style=\"color:red\">-0.048</span> + <span style=\"color:blue\">-0.000</span> + <span style=\"color:blue\">+0.111</span> + <span style=\"color:blue\">+0.000</span> + <span style=\"color:blue\">+0.111</span> = <span style=\"color:blue; text-decoration:underline\">+0.284</span></div>"
      ],
      "text/plain": [
       "<IPython.core.display.Markdown object>"
      ]
     },
     "metadata": {},
     "output_type": "display_data"
    },
    {
     "name": "stdout",
     "output_type": "stream",
     "text": [
      "w1=+0.324, w2=+0.105, w3=+1.000\n",
      "\n"
     ]
    },
    {
     "data": {
      "text/markdown": [
       "<div style=\"font-weight:bold\">Iteration 13</div>"
      ],
      "text/plain": [
       "<IPython.core.display.Markdown object>"
      ]
     },
     "metadata": {},
     "output_type": "display_data"
    },
    {
     "name": "stdout",
     "output_type": "stream",
     "text": [
      "Output: [+0.606, +0.500, +0.580, +0.680, +0.580, +0.606, +0.500, +0.394]\n",
      "Target: [+0.500, +0.500, +0.731, +0.731, +0.731, +0.500, +0.500, +0.500]\n",
      "Memory: [+0.429, +0.000, +0.324, +0.753, +0.324, +0.429, +0.000, -0.429]\n"
     ]
    },
    {
     "data": {
      "text/markdown": [
       "<div>Loss: <span style=\"font-weight:bold\">0.17315</span>= <span style=\"font-family:monaco; font-size:12px\">0.023 + 0.000 + 0.049 + 0.006 + 0.049 + 0.023 + 0.000 + 0.023</span></div><div style=\"font-family:monaco; font-size:12px\">dL/dw1 = <span style=\"color:blue\">+0.106</span> + <span style=\"color:blue\">+0.000</span> + <span style=\"color:red\">-0.151</span> + <span style=\"color:red\">-0.102</span> + <span style=\"color:red\">-0.151</span> + <span style=\"color:blue\">+0.106</span> + <span style=\"color:blue\">+0.000</span> + <span style=\"color:blue\">+0.106</span> = <span style=\"color:red; text-decoration:underline\">-0.087</span></div><div style=\"font-family:monaco; font-size:12px\">dL/dw2 = <span style=\"color:blue\">+0.106</span> + <span style=\"color:blue\">+0.000</span> + <span style=\"color:blue\">-0.000</span> + <span style=\"color:red\">-0.051</span> + <span style=\"color:blue\">-0.000</span> + <span style=\"color:blue\">+0.106</span> + <span style=\"color:blue\">+0.000</span> + <span style=\"color:blue\">+0.106</span> = <span style=\"color:blue; text-decoration:underline\">+0.266</span></div>"
      ],
      "text/plain": [
       "<IPython.core.display.Markdown object>"
      ]
     },
     "metadata": {},
     "output_type": "display_data"
    },
    {
     "name": "stdout",
     "output_type": "stream",
     "text": [
      "w1=+0.332, w2=+0.079, w3=+1.000\n",
      "\n"
     ]
    },
    {
     "data": {
      "text/markdown": [
       "<div style=\"font-weight:bold\">Iteration 14</div>"
      ],
      "text/plain": [
       "<IPython.core.display.Markdown object>"
      ]
     },
     "metadata": {},
     "output_type": "display_data"
    },
    {
     "name": "stdout",
     "output_type": "stream",
     "text": [
      "Output: [+0.601, +0.500, +0.582, +0.678, +0.582, +0.601, +0.500, +0.399]\n",
      "Target: [+0.500, +0.500, +0.731, +0.731, +0.731, +0.500, +0.500, +0.500]\n",
      "Memory: [+0.411, -0.000, +0.332, +0.744, +0.332, +0.411, -0.000, -0.411]\n"
     ]
    },
    {
     "data": {
      "text/markdown": [
       "<div>Loss: <span style=\"font-weight:bold\">0.16547</span>= <span style=\"font-family:monaco; font-size:12px\">0.021 + 0.000 + 0.048 + 0.007 + 0.048 + 0.021 + 0.000 + 0.021</span></div><div style=\"font-family:monaco; font-size:12px\">dL/dw1 = <span style=\"color:blue\">+0.101</span> + <span style=\"color:blue\">+0.000</span> + <span style=\"color:red\">-0.149</span> + <span style=\"color:red\">-0.106</span> + <span style=\"color:red\">-0.149</span> + <span style=\"color:blue\">+0.101</span> + <span style=\"color:blue\">+0.000</span> + <span style=\"color:blue\">+0.101</span> = <span style=\"color:red; text-decoration:underline\">-0.100</span></div><div style=\"font-family:monaco; font-size:12px\">dL/dw2 = <span style=\"color:blue\">+0.101</span> + <span style=\"color:blue\">+0.000</span> + <span style=\"color:blue\">-0.000</span> + <span style=\"color:red\">-0.053</span> + <span style=\"color:blue\">-0.000</span> + <span style=\"color:blue\">+0.101</span> + <span style=\"color:blue\">+0.000</span> + <span style=\"color:blue\">+0.101</span> = <span style=\"color:blue; text-decoration:underline\">+0.251</span></div>"
      ],
      "text/plain": [
       "<IPython.core.display.Markdown object>"
      ]
     },
     "metadata": {},
     "output_type": "display_data"
    },
    {
     "name": "stdout",
     "output_type": "stream",
     "text": [
      "w1=+0.342, w2=+0.054, w3=+1.000\n",
      "\n"
     ]
    },
    {
     "data": {
      "text/markdown": [
       "<div style=\"font-weight:bold\">Iteration 49</div>"
      ],
      "text/plain": [
       "<IPython.core.display.Markdown object>"
      ]
     },
     "metadata": {},
     "output_type": "display_data"
    },
    {
     "name": "stdout",
     "output_type": "stream",
     "text": [
      "Output: [+0.545, +0.500, +0.661, +0.700, +0.661, +0.545, +0.500, +0.455]\n",
      "Target: [+0.500, +0.500, +0.731, +0.731, +0.731, +0.500, +0.500, +0.500]\n",
      "Memory: [+0.181, +0.000, +0.667, +0.848, +0.667, +0.181, +0.000, -0.181]\n"
     ]
    },
    {
     "data": {
      "text/markdown": [
       "<div>Loss: <span style=\"font-weight:bold\">0.03748</span>= <span style=\"font-family:monaco; font-size:12px\">0.004 + 0.000 + 0.011 + 0.002 + 0.011 + 0.004 + 0.000 + 0.004</span></div><div style=\"font-family:monaco; font-size:12px\">dL/dw1 = <span style=\"color:blue\">+0.045</span> + <span style=\"color:blue\">+0.000</span> + <span style=\"color:red\">-0.070</span> + <span style=\"color:red\">-0.062</span> + <span style=\"color:red\">-0.070</span> + <span style=\"color:blue\">+0.045</span> + <span style=\"color:blue\">+0.000</span> + <span style=\"color:blue\">+0.045</span> = <span style=\"color:red; text-decoration:underline\">-0.067</span></div><div style=\"font-family:monaco; font-size:12px\">dL/dw2 = <span style=\"color:blue\">+0.045</span> + <span style=\"color:blue\">+0.000</span> + <span style=\"color:blue\">-0.000</span> + <span style=\"color:red\">-0.031</span> + <span style=\"color:blue\">-0.000</span> + <span style=\"color:blue\">+0.045</span> + <span style=\"color:blue\">+0.000</span> + <span style=\"color:blue\">+0.045</span> = <span style=\"color:blue; text-decoration:underline\">+0.105</span></div>"
      ],
      "text/plain": [
       "<IPython.core.display.Markdown object>"
      ]
     },
     "metadata": {},
     "output_type": "display_data"
    },
    {
     "name": "stdout",
     "output_type": "stream",
     "text": [
      "w1=+0.674, w2=-0.496, w3=+1.000\n",
      "\n"
     ]
    },
    {
     "data": {
      "text/markdown": [
       "<div style=\"font-weight:bold\">Iteration 99</div>"
      ],
      "text/plain": [
       "<IPython.core.display.Markdown object>"
      ]
     },
     "metadata": {},
     "output_type": "display_data"
    },
    {
     "name": "stdout",
     "output_type": "stream",
     "text": [
      "Output: [+0.516, +0.500, +0.706, +0.720, +0.706, +0.516, +0.500, +0.484]\n",
      "Target: [+0.500, +0.500, +0.731, +0.731, +0.731, +0.500, +0.500, +0.500]\n",
      "Memory: [+0.065, +0.000, +0.878, +0.942, +0.878, +0.065, +0.000, -0.065]\n"
     ]
    },
    {
     "data": {
      "text/markdown": [
       "<div>Loss: <span style=\"font-weight:bold\">0.00490</span>= <span style=\"font-family:monaco; font-size:12px\">0.001 + 0.000 + 0.002 + 0.000 + 0.002 + 0.001 + 0.000 + 0.001</span></div><div style=\"font-family:monaco; font-size:12px\">dL/dw1 = <span style=\"color:blue\">+0.016</span> + <span style=\"color:blue\">+0.000</span> + <span style=\"color:red\">-0.025</span> + <span style=\"color:red\">-0.023</span> + <span style=\"color:red\">-0.025</span> + <span style=\"color:blue\">+0.016</span> + <span style=\"color:blue\">+0.000</span> + <span style=\"color:blue\">+0.016</span> = <span style=\"color:red; text-decoration:underline\">-0.024</span></div><div style=\"font-family:monaco; font-size:12px\">dL/dw2 = <span style=\"color:blue\">+0.016</span> + <span style=\"color:blue\">+0.000</span> + <span style=\"color:blue\">-0.000</span> + <span style=\"color:red\">-0.012</span> + <span style=\"color:blue\">-0.000</span> + <span style=\"color:blue\">+0.016</span> + <span style=\"color:blue\">+0.000</span> + <span style=\"color:blue\">+0.016</span> = <span style=\"color:blue; text-decoration:underline\">+0.037</span></div>"
      ],
      "text/plain": [
       "<IPython.core.display.Markdown object>"
      ]
     },
     "metadata": {},
     "output_type": "display_data"
    },
    {
     "name": "stdout",
     "output_type": "stream",
     "text": [
      "w1=+0.880, w2=-0.817, w3=+1.000\n",
      "\n"
     ]
    },
    {
     "data": {
      "text/markdown": [
       "<div style=\"font-weight:bold\">Iteration 149</div>"
      ],
      "text/plain": [
       "<IPython.core.display.Markdown object>"
      ]
     },
     "metadata": {},
     "output_type": "display_data"
    },
    {
     "name": "stdout",
     "output_type": "stream",
     "text": [
      "Output: [+0.506, +0.500, +0.722, +0.727, +0.722, +0.506, +0.500, +0.494]\n",
      "Target: [+0.500, +0.500, +0.731, +0.731, +0.731, +0.500, +0.500, +0.500]\n",
      "Memory: [+0.024, +0.000, +0.954, +0.978, +0.954, +0.024, +0.000, -0.024]\n"
     ]
    },
    {
     "data": {
      "text/markdown": [
       "<div>Loss: <span style=\"font-weight:bold\">0.00067</span>= <span style=\"font-family:monaco; font-size:12px\">0.000 + 0.000 + 0.000 + 0.000 + 0.000 + 0.000 + 0.000 + 0.000</span></div><div style=\"font-family:monaco; font-size:12px\">dL/dw1 = <span style=\"color:blue\">+0.006</span> + <span style=\"color:blue\">+0.000</span> + <span style=\"color:red\">-0.009</span> + <span style=\"color:red\">-0.009</span> + <span style=\"color:red\">-0.009</span> + <span style=\"color:blue\">+0.006</span> + <span style=\"color:blue\">+0.000</span> + <span style=\"color:blue\">+0.006</span> = <span style=\"color:red; text-decoration:underline\">-0.009</span></div><div style=\"font-family:monaco; font-size:12px\">dL/dw2 = <span style=\"color:blue\">+0.006</span> + <span style=\"color:blue\">+0.000</span> + <span style=\"color:blue\">-0.000</span> + <span style=\"color:red\">-0.004</span> + <span style=\"color:blue\">-0.000</span> + <span style=\"color:blue\">+0.006</span> + <span style=\"color:blue\">+0.000</span> + <span style=\"color:blue\">+0.006</span> = <span style=\"color:blue; text-decoration:underline\">+0.014</span></div>"
      ],
      "text/plain": [
       "<IPython.core.display.Markdown object>"
      ]
     },
     "metadata": {},
     "output_type": "display_data"
    },
    {
     "name": "stdout",
     "output_type": "stream",
     "text": [
      "w1=+0.955, w2=-0.932, w3=+1.000\n",
      "\n"
     ]
    },
    {
     "data": {
      "text/markdown": [
       "<div style=\"font-weight:bold\">Iteration 199</div>"
      ],
      "text/plain": [
       "<IPython.core.display.Markdown object>"
      ]
     },
     "metadata": {},
     "output_type": "display_data"
    },
    {
     "name": "stdout",
     "output_type": "stream",
     "text": [
      "Output: [+0.502, +0.500, +0.728, +0.729, +0.728, +0.502, +0.500, +0.498]\n",
      "Target: [+0.500, +0.500, +0.731, +0.731, +0.731, +0.500, +0.500, +0.500]\n",
      "Memory: [+0.009, +0.000, +0.983, +0.992, +0.983, +0.009, +0.000, -0.009]\n"
     ]
    },
    {
     "data": {
      "text/markdown": [
       "<div>Loss: <span style=\"font-weight:bold\">0.00009</span>= <span style=\"font-family:monaco; font-size:12px\">0.000 + 0.000 + 0.000 + 0.000 + 0.000 + 0.000 + 0.000 + 0.000</span></div><div style=\"font-family:monaco; font-size:12px\">dL/dw1 = <span style=\"color:blue\">+0.002</span> + <span style=\"color:blue\">+0.000</span> + <span style=\"color:red\">-0.003</span> + <span style=\"color:red\">-0.003</span> + <span style=\"color:red\">-0.003</span> + <span style=\"color:blue\">+0.002</span> + <span style=\"color:blue\">+0.000</span> + <span style=\"color:blue\">+0.002</span> = <span style=\"color:red; text-decoration:underline\">-0.003</span></div><div style=\"font-family:monaco; font-size:12px\">dL/dw2 = <span style=\"color:blue\">+0.002</span> + <span style=\"color:blue\">+0.000</span> + <span style=\"color:blue\">-0.000</span> + <span style=\"color:red\">-0.002</span> + <span style=\"color:blue\">-0.000</span> + <span style=\"color:blue\">+0.002</span> + <span style=\"color:blue\">+0.000</span> + <span style=\"color:blue\">+0.002</span> = <span style=\"color:blue; text-decoration:underline\">+0.005</span></div>"
      ],
      "text/plain": [
       "<IPython.core.display.Markdown object>"
      ]
     },
     "metadata": {},
     "output_type": "display_data"
    },
    {
     "name": "stdout",
     "output_type": "stream",
     "text": [
      "w1=+0.983, w2=-0.975, w3=+1.000\n",
      "\n"
     ]
    },
    {
     "data": {
      "text/markdown": [
       "<div style=\"font-weight:bold\">Iteration 249</div>"
      ],
      "text/plain": [
       "<IPython.core.display.Markdown object>"
      ]
     },
     "metadata": {},
     "output_type": "display_data"
    },
    {
     "name": "stdout",
     "output_type": "stream",
     "text": [
      "Output: [+0.501, +0.500, +0.730, +0.730, +0.730, +0.501, +0.500, +0.499]\n",
      "Target: [+0.500, +0.500, +0.731, +0.731, +0.731, +0.500, +0.500, +0.500]\n",
      "Memory: [+0.003, +0.000, +0.994, +0.997, +0.994, +0.003, +0.000, -0.003]\n"
     ]
    },
    {
     "data": {
      "text/markdown": [
       "<div>Loss: <span style=\"font-weight:bold\">0.00001</span>= <span style=\"font-family:monaco; font-size:12px\">0.000 + 0.000 + 0.000 + 0.000 + 0.000 + 0.000 + 0.000 + 0.000</span></div><div style=\"font-family:monaco; font-size:12px\">dL/dw1 = <span style=\"color:blue\">+0.001</span> + <span style=\"color:blue\">+0.000</span> + <span style=\"color:red\">-0.001</span> + <span style=\"color:red\">-0.001</span> + <span style=\"color:red\">-0.001</span> + <span style=\"color:blue\">+0.001</span> + <span style=\"color:blue\">+0.000</span> + <span style=\"color:blue\">+0.001</span> = <span style=\"color:red; text-decoration:underline\">-0.001</span></div><div style=\"font-family:monaco; font-size:12px\">dL/dw2 = <span style=\"color:blue\">+0.001</span> + <span style=\"color:blue\">+0.000</span> + <span style=\"color:blue\">-0.000</span> + <span style=\"color:red\">-0.001</span> + <span style=\"color:blue\">-0.000</span> + <span style=\"color:blue\">+0.001</span> + <span style=\"color:blue\">+0.000</span> + <span style=\"color:blue\">+0.001</span> = <span style=\"color:blue; text-decoration:underline\">+0.002</span></div>"
      ],
      "text/plain": [
       "<IPython.core.display.Markdown object>"
      ]
     },
     "metadata": {},
     "output_type": "display_data"
    },
    {
     "name": "stdout",
     "output_type": "stream",
     "text": [
      "w1=+0.994, w2=-0.990, w3=+1.000\n",
      "\n"
     ]
    },
    {
     "data": {
      "text/markdown": [
       "## Test on longer sequence"
      ],
      "text/plain": [
       "<IPython.core.display.Markdown object>"
      ]
     },
     "metadata": {},
     "output_type": "display_data"
    },
    {
     "name": "stdout",
     "output_type": "stream",
     "text": [
      "w1=+0.994, w2=-0.990, w3=+1.000\n"
     ]
    },
    {
     "data": {
      "text/markdown": [
       "<div style=\"font-weight:bold\">Iteration 0</div>"
      ],
      "text/plain": [
       "<IPython.core.display.Markdown object>"
      ]
     },
     "metadata": {},
     "output_type": "display_data"
    },
    {
     "name": "stdout",
     "output_type": "stream",
     "text": [
      "Output: [+0.501, +0.502, +0.501, +0.500, +0.501, +0.730, +0.731, +0.730, +0.731, +0.502, +0.502, +0.502, +0.502]\n",
      "Target: [+0.500, +0.500, +0.500, +0.500, +0.500, +0.731, +0.731, +0.731, +0.731, +0.500, +0.500, +0.500, +0.500]\n",
      "Memory: [+0.003, +0.007, +0.003, +0.000, +0.003, +0.997, +1.000, +0.997, +1.000, +0.010, +0.007, +0.010, +0.007]\n"
     ]
    },
    {
     "data": {
      "text/markdown": [
       "<div>Loss: <span style=\"font-weight:bold\">0.00005</span>= <span style=\"font-family:monaco; font-size:12px\">0.000 + 0.000 + 0.000 + 0.000 + 0.000 + 0.000 + 0.000 + 0.000 + 0.000 + 0.000 + 0.000 + 0.000 + 0.000</span></div><div style=\"font-family:monaco; font-size:12px\">dL/dw1 = <span style=\"color:blue\">+0.001</span> + <span style=\"color:blue\">+0.003</span> + <span style=\"color:blue\">+0.001</span> + <span style=\"color:blue\">+0.000</span> + <span style=\"color:blue\">+0.001</span> + <span style=\"color:red\">-0.001</span> + <span style=\"color:blue\">+0.000</span> + <span style=\"color:red\">-0.001</span> + <span style=\"color:blue\">+0.000</span> + <span style=\"color:blue\">+0.007</span> + <span style=\"color:blue\">+0.003</span> + <span style=\"color:blue\">+0.007</span> + <span style=\"color:blue\">+0.003</span> = <span style=\"color:blue; text-decoration:underline\">+0.025</span></div><div style=\"font-family:monaco; font-size:12px\">dL/dw2 = <span style=\"color:blue\">+0.001</span> + <span style=\"color:blue\">+0.003</span> + <span style=\"color:blue\">+0.001</span> + <span style=\"color:blue\">+0.000</span> + <span style=\"color:blue\">+0.001</span> + <span style=\"color:red\">-0.001</span> + <span style=\"color:blue\">+0.000</span> + <span style=\"color:red\">-0.001</span> + <span style=\"color:blue\">+0.000</span> + <span style=\"color:blue\">+0.007</span> + <span style=\"color:blue\">+0.003</span> + <span style=\"color:blue\">+0.007</span> + <span style=\"color:blue\">+0.003</span> = <span style=\"color:blue; text-decoration:underline\">+0.026</span></div>"
      ],
      "text/plain": [
       "<IPython.core.display.Markdown object>"
      ]
     },
     "metadata": {},
     "output_type": "display_data"
    },
    {
     "name": "stdout",
     "output_type": "stream",
     "text": [
      "w1=+0.993, w2=-0.991, w3=+1.000\n",
      "\n"
     ]
    },
    {
     "data": {
      "text/markdown": [
       "<div style=\"font-weight:bold\">Iteration 1</div>"
      ],
      "text/plain": [
       "<IPython.core.display.Markdown object>"
      ]
     },
     "metadata": {},
     "output_type": "display_data"
    },
    {
     "name": "stdout",
     "output_type": "stream",
     "text": [
      "Output: [+0.501, +0.501, +0.501, +0.500, +0.501, +0.730, +0.731, +0.730, +0.731, +0.502, +0.501, +0.502, +0.501]\n",
      "Target: [+0.500, +0.500, +0.500, +0.500, +0.500, +0.731, +0.731, +0.731, +0.731, +0.500, +0.500, +0.500, +0.500]\n",
      "Memory: [+0.003, +0.006, +0.003, +0.000, +0.003, +0.996, +0.999, +0.996, +0.999, +0.008, +0.006, +0.008, +0.006]\n"
     ]
    },
    {
     "data": {
      "text/markdown": [
       "<div>Loss: <span style=\"font-weight:bold\">0.00003</span>= <span style=\"font-family:monaco; font-size:12px\">0.000 + 0.000 + 0.000 + 0.000 + 0.000 + 0.000 + 0.000 + 0.000 + 0.000 + 0.000 + 0.000 + 0.000 + 0.000</span></div><div style=\"font-family:monaco; font-size:12px\">dL/dw1 = <span style=\"color:blue\">+0.001</span> + <span style=\"color:blue\">+0.003</span> + <span style=\"color:blue\">+0.001</span> + <span style=\"color:blue\">+0.000</span> + <span style=\"color:blue\">+0.001</span> + <span style=\"color:red\">-0.001</span> + <span style=\"color:red\">-0.001</span> + <span style=\"color:red\">-0.001</span> + <span style=\"color:red\">-0.001</span> + <span style=\"color:blue\">+0.006</span> + <span style=\"color:blue\">+0.003</span> + <span style=\"color:blue\">+0.006</span> + <span style=\"color:blue\">+0.003</span> = <span style=\"color:blue; text-decoration:underline\">+0.019</span></div><div style=\"font-family:monaco; font-size:12px\">dL/dw2 = <span style=\"color:blue\">+0.001</span> + <span style=\"color:blue\">+0.003</span> + <span style=\"color:blue\">+0.001</span> + <span style=\"color:blue\">+0.000</span> + <span style=\"color:blue\">+0.001</span> + <span style=\"color:red\">-0.001</span> + <span style=\"color:red\">-0.000</span> + <span style=\"color:red\">-0.001</span> + <span style=\"color:red\">-0.000</span> + <span style=\"color:blue\">+0.006</span> + <span style=\"color:blue\">+0.003</span> + <span style=\"color:blue\">+0.006</span> + <span style=\"color:blue\">+0.003</span> = <span style=\"color:blue; text-decoration:underline\">+0.020</span></div>"
      ],
      "text/plain": [
       "<IPython.core.display.Markdown object>"
      ]
     },
     "metadata": {},
     "output_type": "display_data"
    },
    {
     "name": "stdout",
     "output_type": "stream",
     "text": [
      "w1=+0.993, w2=-0.991, w3=+1.000\n",
      "\n"
     ]
    },
    {
     "data": {
      "text/markdown": [
       "<div style=\"font-weight:bold\">Iteration 2</div>"
      ],
      "text/plain": [
       "<IPython.core.display.Markdown object>"
      ]
     },
     "metadata": {},
     "output_type": "display_data"
    },
    {
     "name": "stdout",
     "output_type": "stream",
     "text": [
      "Output: [+0.501, +0.501, +0.501, +0.500, +0.501, +0.730, +0.731, +0.730, +0.731, +0.502, +0.501, +0.502, +0.501]\n",
      "Target: [+0.500, +0.500, +0.500, +0.500, +0.500, +0.731, +0.731, +0.731, +0.731, +0.500, +0.500, +0.500, +0.500]\n",
      "Memory: [+0.002, +0.005, +0.002, +0.000, +0.002, +0.996, +0.998, +0.996, +0.998, +0.007, +0.005, +0.007, +0.005]\n"
     ]
    },
    {
     "data": {
      "text/markdown": [
       "<div>Loss: <span style=\"font-weight:bold\">0.00003</span>= <span style=\"font-family:monaco; font-size:12px\">0.000 + 0.000 + 0.000 + 0.000 + 0.000 + 0.000 + 0.000 + 0.000 + 0.000 + 0.000 + 0.000 + 0.000 + 0.000</span></div><div style=\"font-family:monaco; font-size:12px\">dL/dw1 = <span style=\"color:blue\">+0.001</span> + <span style=\"color:blue\">+0.002</span> + <span style=\"color:blue\">+0.001</span> + <span style=\"color:blue\">+0.000</span> + <span style=\"color:blue\">+0.001</span> + <span style=\"color:red\">-0.002</span> + <span style=\"color:red\">-0.001</span> + <span style=\"color:red\">-0.002</span> + <span style=\"color:red\">-0.001</span> + <span style=\"color:blue\">+0.005</span> + <span style=\"color:blue\">+0.002</span> + <span style=\"color:blue\">+0.005</span> + <span style=\"color:blue\">+0.002</span> = <span style=\"color:blue; text-decoration:underline\">+0.014</span></div><div style=\"font-family:monaco; font-size:12px\">dL/dw2 = <span style=\"color:blue\">+0.001</span> + <span style=\"color:blue\">+0.002</span> + <span style=\"color:blue\">+0.001</span> + <span style=\"color:blue\">+0.000</span> + <span style=\"color:blue\">+0.001</span> + <span style=\"color:red\">-0.001</span> + <span style=\"color:red\">-0.001</span> + <span style=\"color:red\">-0.001</span> + <span style=\"color:red\">-0.001</span> + <span style=\"color:blue\">+0.005</span> + <span style=\"color:blue\">+0.002</span> + <span style=\"color:blue\">+0.005</span> + <span style=\"color:blue\">+0.002</span> = <span style=\"color:blue; text-decoration:underline\">+0.016</span></div>"
      ],
      "text/plain": [
       "<IPython.core.display.Markdown object>"
      ]
     },
     "metadata": {},
     "output_type": "display_data"
    },
    {
     "name": "stdout",
     "output_type": "stream",
     "text": [
      "w1=+0.993, w2=-0.991, w3=+1.000\n",
      "\n"
     ]
    },
    {
     "data": {
      "text/markdown": [
       "<div style=\"font-weight:bold\">Iteration 3</div>"
      ],
      "text/plain": [
       "<IPython.core.display.Markdown object>"
      ]
     },
     "metadata": {},
     "output_type": "display_data"
    },
    {
     "name": "stdout",
     "output_type": "stream",
     "text": [
      "Output: [+0.501, +0.501, +0.501, +0.500, +0.501, +0.730, +0.731, +0.730, +0.731, +0.502, +0.501, +0.502, +0.501]\n",
      "Target: [+0.500, +0.500, +0.500, +0.500, +0.500, +0.731, +0.731, +0.731, +0.731, +0.500, +0.500, +0.500, +0.500]\n",
      "Memory: [+0.002, +0.004, +0.002, +0.000, +0.002, +0.995, +0.997, +0.995, +0.997, +0.006, +0.004, +0.006, +0.004]\n"
     ]
    },
    {
     "data": {
      "text/markdown": [
       "<div>Loss: <span style=\"font-weight:bold\">0.00002</span>= <span style=\"font-family:monaco; font-size:12px\">0.000 + 0.000 + 0.000 + 0.000 + 0.000 + 0.000 + 0.000 + 0.000 + 0.000 + 0.000 + 0.000 + 0.000 + 0.000</span></div><div style=\"font-family:monaco; font-size:12px\">dL/dw1 = <span style=\"color:blue\">+0.001</span> + <span style=\"color:blue\">+0.002</span> + <span style=\"color:blue\">+0.001</span> + <span style=\"color:blue\">+0.000</span> + <span style=\"color:blue\">+0.001</span> + <span style=\"color:red\">-0.002</span> + <span style=\"color:red\">-0.002</span> + <span style=\"color:red\">-0.002</span> + <span style=\"color:red\">-0.002</span> + <span style=\"color:blue\">+0.005</span> + <span style=\"color:blue\">+0.002</span> + <span style=\"color:blue\">+0.005</span> + <span style=\"color:blue\">+0.002</span> = <span style=\"color:blue; text-decoration:underline\">+0.010</span></div><div style=\"font-family:monaco; font-size:12px\">dL/dw2 = <span style=\"color:blue\">+0.001</span> + <span style=\"color:blue\">+0.002</span> + <span style=\"color:blue\">+0.001</span> + <span style=\"color:blue\">+0.000</span> + <span style=\"color:blue\">+0.001</span> + <span style=\"color:red\">-0.001</span> + <span style=\"color:red\">-0.001</span> + <span style=\"color:red\">-0.001</span> + <span style=\"color:red\">-0.001</span> + <span style=\"color:blue\">+0.005</span> + <span style=\"color:blue\">+0.002</span> + <span style=\"color:blue\">+0.005</span> + <span style=\"color:blue\">+0.002</span> = <span style=\"color:blue; text-decoration:underline\">+0.013</span></div>"
      ],
      "text/plain": [
       "<IPython.core.display.Markdown object>"
      ]
     },
     "metadata": {},
     "output_type": "display_data"
    },
    {
     "name": "stdout",
     "output_type": "stream",
     "text": [
      "w1=+0.993, w2=-0.991, w3=+1.000\n",
      "\n"
     ]
    },
    {
     "data": {
      "text/markdown": [
       "<div style=\"font-weight:bold\">Iteration 4</div>"
      ],
      "text/plain": [
       "<IPython.core.display.Markdown object>"
      ]
     },
     "metadata": {},
     "output_type": "display_data"
    },
    {
     "name": "stdout",
     "output_type": "stream",
     "text": [
      "Output: [+0.500, +0.501, +0.500, +0.500, +0.500, +0.730, +0.730, +0.730, +0.730, +0.501, +0.501, +0.501, +0.501]\n",
      "Target: [+0.500, +0.500, +0.500, +0.500, +0.500, +0.731, +0.731, +0.731, +0.731, +0.500, +0.500, +0.500, +0.500]\n",
      "Memory: [+0.002, +0.004, +0.002, +0.000, +0.002, +0.995, +0.997, +0.995, +0.997, +0.006, +0.004, +0.006, +0.004]\n"
     ]
    },
    {
     "data": {
      "text/markdown": [
       "<div>Loss: <span style=\"font-weight:bold\">0.00002</span>= <span style=\"font-family:monaco; font-size:12px\">0.000 + 0.000 + 0.000 + 0.000 + 0.000 + 0.000 + 0.000 + 0.000 + 0.000 + 0.000 + 0.000 + 0.000 + 0.000</span></div><div style=\"font-family:monaco; font-size:12px\">dL/dw1 = <span style=\"color:blue\">+0.000</span> + <span style=\"color:blue\">+0.002</span> + <span style=\"color:blue\">+0.000</span> + <span style=\"color:blue\">+0.000</span> + <span style=\"color:blue\">+0.000</span> + <span style=\"color:red\">-0.002</span> + <span style=\"color:red\">-0.002</span> + <span style=\"color:red\">-0.002</span> + <span style=\"color:red\">-0.002</span> + <span style=\"color:blue\">+0.004</span> + <span style=\"color:blue\">+0.002</span> + <span style=\"color:blue\">+0.004</span> + <span style=\"color:blue\">+0.002</span> = <span style=\"color:blue; text-decoration:underline\">+0.007</span></div><div style=\"font-family:monaco; font-size:12px\">dL/dw2 = <span style=\"color:blue\">+0.000</span> + <span style=\"color:blue\">+0.002</span> + <span style=\"color:blue\">+0.000</span> + <span style=\"color:blue\">+0.000</span> + <span style=\"color:blue\">+0.000</span> + <span style=\"color:red\">-0.001</span> + <span style=\"color:red\">-0.001</span> + <span style=\"color:red\">-0.001</span> + <span style=\"color:red\">-0.001</span> + <span style=\"color:blue\">+0.004</span> + <span style=\"color:blue\">+0.002</span> + <span style=\"color:blue\">+0.004</span> + <span style=\"color:blue\">+0.002</span> = <span style=\"color:blue; text-decoration:underline\">+0.011</span></div>"
      ],
      "text/plain": [
       "<IPython.core.display.Markdown object>"
      ]
     },
     "metadata": {},
     "output_type": "display_data"
    },
    {
     "name": "stdout",
     "output_type": "stream",
     "text": [
      "w1=+0.993, w2=-0.991, w3=+1.000\n",
      "\n"
     ]
    },
    {
     "data": {
      "text/markdown": [
       "<div style=\"font-weight:bold\">Iteration 5</div>"
      ],
      "text/plain": [
       "<IPython.core.display.Markdown object>"
      ]
     },
     "metadata": {},
     "output_type": "display_data"
    },
    {
     "name": "stdout",
     "output_type": "stream",
     "text": [
      "Output: [+0.500, +0.501, +0.500, +0.500, +0.500, +0.730, +0.730, +0.730, +0.730, +0.501, +0.501, +0.501, +0.501]\n",
      "Target: [+0.500, +0.500, +0.500, +0.500, +0.500, +0.731, +0.731, +0.731, +0.731, +0.500, +0.500, +0.500, +0.500]\n",
      "Memory: [+0.002, +0.003, +0.002, +0.000, +0.002, +0.995, +0.996, +0.995, +0.996, +0.005, +0.003, +0.005, +0.003]\n"
     ]
    },
    {
     "data": {
      "text/markdown": [
       "<div>Loss: <span style=\"font-weight:bold\">0.00002</span>= <span style=\"font-family:monaco; font-size:12px\">0.000 + 0.000 + 0.000 + 0.000 + 0.000 + 0.000 + 0.000 + 0.000 + 0.000 + 0.000 + 0.000 + 0.000 + 0.000</span></div><div style=\"font-family:monaco; font-size:12px\">dL/dw1 = <span style=\"color:blue\">+0.000</span> + <span style=\"color:blue\">+0.002</span> + <span style=\"color:blue\">+0.000</span> + <span style=\"color:blue\">+0.000</span> + <span style=\"color:blue\">+0.000</span> + <span style=\"color:red\">-0.002</span> + <span style=\"color:red\">-0.002</span> + <span style=\"color:red\">-0.002</span> + <span style=\"color:red\">-0.002</span> + <span style=\"color:blue\">+0.004</span> + <span style=\"color:blue\">+0.002</span> + <span style=\"color:blue\">+0.004</span> + <span style=\"color:blue\">+0.002</span> = <span style=\"color:blue; text-decoration:underline\">+0.005</span></div><div style=\"font-family:monaco; font-size:12px\">dL/dw2 = <span style=\"color:blue\">+0.000</span> + <span style=\"color:blue\">+0.002</span> + <span style=\"color:blue\">+0.000</span> + <span style=\"color:blue\">+0.000</span> + <span style=\"color:blue\">+0.000</span> + <span style=\"color:red\">-0.001</span> + <span style=\"color:red\">-0.001</span> + <span style=\"color:red\">-0.001</span> + <span style=\"color:red\">-0.001</span> + <span style=\"color:blue\">+0.004</span> + <span style=\"color:blue\">+0.002</span> + <span style=\"color:blue\">+0.004</span> + <span style=\"color:blue\">+0.002</span> = <span style=\"color:blue; text-decoration:underline\">+0.009</span></div>"
      ],
      "text/plain": [
       "<IPython.core.display.Markdown object>"
      ]
     },
     "metadata": {},
     "output_type": "display_data"
    },
    {
     "name": "stdout",
     "output_type": "stream",
     "text": [
      "w1=+0.993, w2=-0.991, w3=+1.000\n",
      "\n"
     ]
    },
    {
     "data": {
      "text/markdown": [
       "<div style=\"font-weight:bold\">Iteration 6</div>"
      ],
      "text/plain": [
       "<IPython.core.display.Markdown object>"
      ]
     },
     "metadata": {},
     "output_type": "display_data"
    },
    {
     "name": "stdout",
     "output_type": "stream",
     "text": [
      "Output: [+0.500, +0.501, +0.500, +0.500, +0.500, +0.730, +0.730, +0.730, +0.730, +0.501, +0.501, +0.501, +0.501]\n",
      "Target: [+0.500, +0.500, +0.500, +0.500, +0.500, +0.731, +0.731, +0.731, +0.731, +0.500, +0.500, +0.500, +0.500]\n",
      "Memory: [+0.002, +0.003, +0.002, +0.000, +0.002, +0.994, +0.996, +0.994, +0.996, +0.005, +0.003, +0.005, +0.003]\n"
     ]
    },
    {
     "data": {
      "text/markdown": [
       "<div>Loss: <span style=\"font-weight:bold\">0.00002</span>= <span style=\"font-family:monaco; font-size:12px\">0.000 + 0.000 + 0.000 + 0.000 + 0.000 + 0.000 + 0.000 + 0.000 + 0.000 + 0.000 + 0.000 + 0.000 + 0.000</span></div><div style=\"font-family:monaco; font-size:12px\">dL/dw1 = <span style=\"color:blue\">+0.000</span> + <span style=\"color:blue\">+0.002</span> + <span style=\"color:blue\">+0.000</span> + <span style=\"color:blue\">+0.000</span> + <span style=\"color:blue\">+0.000</span> + <span style=\"color:red\">-0.002</span> + <span style=\"color:red\">-0.002</span> + <span style=\"color:red\">-0.002</span> + <span style=\"color:red\">-0.002</span> + <span style=\"color:blue\">+0.003</span> + <span style=\"color:blue\">+0.002</span> + <span style=\"color:blue\">+0.003</span> + <span style=\"color:blue\">+0.002</span> = <span style=\"color:blue; text-decoration:underline\">+0.003</span></div><div style=\"font-family:monaco; font-size:12px\">dL/dw2 = <span style=\"color:blue\">+0.000</span> + <span style=\"color:blue\">+0.002</span> + <span style=\"color:blue\">+0.000</span> + <span style=\"color:blue\">+0.000</span> + <span style=\"color:blue\">+0.000</span> + <span style=\"color:red\">-0.001</span> + <span style=\"color:red\">-0.002</span> + <span style=\"color:red\">-0.001</span> + <span style=\"color:red\">-0.002</span> + <span style=\"color:blue\">+0.003</span> + <span style=\"color:blue\">+0.002</span> + <span style=\"color:blue\">+0.003</span> + <span style=\"color:blue\">+0.002</span> = <span style=\"color:blue; text-decoration:underline\">+0.007</span></div>"
      ],
      "text/plain": [
       "<IPython.core.display.Markdown object>"
      ]
     },
     "metadata": {},
     "output_type": "display_data"
    },
    {
     "name": "stdout",
     "output_type": "stream",
     "text": [
      "w1=+0.993, w2=-0.991, w3=+1.000\n",
      "\n"
     ]
    },
    {
     "data": {
      "text/markdown": [
       "<div style=\"font-weight:bold\">Iteration 7</div>"
      ],
      "text/plain": [
       "<IPython.core.display.Markdown object>"
      ]
     },
     "metadata": {},
     "output_type": "display_data"
    },
    {
     "name": "stdout",
     "output_type": "stream",
     "text": [
      "Output: [+0.500, +0.501, +0.500, +0.500, +0.500, +0.730, +0.730, +0.730, +0.730, +0.501, +0.501, +0.501, +0.501]\n",
      "Target: [+0.500, +0.500, +0.500, +0.500, +0.500, +0.731, +0.731, +0.731, +0.731, +0.500, +0.500, +0.500, +0.500]\n",
      "Memory: [+0.001, +0.003, +0.001, +0.000, +0.001, +0.994, +0.996, +0.994, +0.996, +0.004, +0.003, +0.004, +0.003]\n"
     ]
    },
    {
     "data": {
      "text/markdown": [
       "<div>Loss: <span style=\"font-weight:bold\">0.00002</span>= <span style=\"font-family:monaco; font-size:12px\">0.000 + 0.000 + 0.000 + 0.000 + 0.000 + 0.000 + 0.000 + 0.000 + 0.000 + 0.000 + 0.000 + 0.000 + 0.000</span></div><div style=\"font-family:monaco; font-size:12px\">dL/dw1 = <span style=\"color:blue\">+0.000</span> + <span style=\"color:blue\">+0.001</span> + <span style=\"color:blue\">+0.000</span> + <span style=\"color:blue\">+0.000</span> + <span style=\"color:blue\">+0.000</span> + <span style=\"color:red\">-0.002</span> + <span style=\"color:red\">-0.003</span> + <span style=\"color:red\">-0.002</span> + <span style=\"color:red\">-0.003</span> + <span style=\"color:blue\">+0.003</span> + <span style=\"color:blue\">+0.001</span> + <span style=\"color:blue\">+0.003</span> + <span style=\"color:blue\">+0.001</span> = <span style=\"color:blue; text-decoration:underline\">+0.002</span></div><div style=\"font-family:monaco; font-size:12px\">dL/dw2 = <span style=\"color:blue\">+0.000</span> + <span style=\"color:blue\">+0.001</span> + <span style=\"color:blue\">+0.000</span> + <span style=\"color:blue\">+0.000</span> + <span style=\"color:blue\">+0.000</span> + <span style=\"color:red\">-0.001</span> + <span style=\"color:red\">-0.002</span> + <span style=\"color:red\">-0.001</span> + <span style=\"color:red\">-0.002</span> + <span style=\"color:blue\">+0.003</span> + <span style=\"color:blue\">+0.001</span> + <span style=\"color:blue\">+0.003</span> + <span style=\"color:blue\">+0.001</span> = <span style=\"color:blue; text-decoration:underline\">+0.006</span></div>"
      ],
      "text/plain": [
       "<IPython.core.display.Markdown object>"
      ]
     },
     "metadata": {},
     "output_type": "display_data"
    },
    {
     "name": "stdout",
     "output_type": "stream",
     "text": [
      "w1=+0.993, w2=-0.992, w3=+1.000\n",
      "\n"
     ]
    },
    {
     "data": {
      "text/markdown": [
       "<div style=\"font-weight:bold\">Iteration 8</div>"
      ],
      "text/plain": [
       "<IPython.core.display.Markdown object>"
      ]
     },
     "metadata": {},
     "output_type": "display_data"
    },
    {
     "name": "stdout",
     "output_type": "stream",
     "text": [
      "Output: [+0.500, +0.501, +0.500, +0.500, +0.500, +0.730, +0.730, +0.730, +0.730, +0.501, +0.501, +0.501, +0.501]\n",
      "Target: [+0.500, +0.500, +0.500, +0.500, +0.500, +0.731, +0.731, +0.731, +0.731, +0.500, +0.500, +0.500, +0.500]\n",
      "Memory: [+0.001, +0.003, +0.001, +0.000, +0.001, +0.994, +0.996, +0.994, +0.996, +0.004, +0.003, +0.004, +0.003]\n"
     ]
    },
    {
     "data": {
      "text/markdown": [
       "<div>Loss: <span style=\"font-weight:bold\">0.00002</span>= <span style=\"font-family:monaco; font-size:12px\">0.000 + 0.000 + 0.000 + 0.000 + 0.000 + 0.000 + 0.000 + 0.000 + 0.000 + 0.000 + 0.000 + 0.000 + 0.000</span></div><div style=\"font-family:monaco; font-size:12px\">dL/dw1 = <span style=\"color:blue\">+0.000</span> + <span style=\"color:blue\">+0.001</span> + <span style=\"color:blue\">+0.000</span> + <span style=\"color:blue\">+0.000</span> + <span style=\"color:blue\">+0.000</span> + <span style=\"color:red\">-0.002</span> + <span style=\"color:red\">-0.003</span> + <span style=\"color:red\">-0.002</span> + <span style=\"color:red\">-0.003</span> + <span style=\"color:blue\">+0.003</span> + <span style=\"color:blue\">+0.001</span> + <span style=\"color:blue\">+0.003</span> + <span style=\"color:blue\">+0.001</span> = <span style=\"color:blue; text-decoration:underline\">+0.001</span></div><div style=\"font-family:monaco; font-size:12px\">dL/dw2 = <span style=\"color:blue\">+0.000</span> + <span style=\"color:blue\">+0.001</span> + <span style=\"color:blue\">+0.000</span> + <span style=\"color:blue\">+0.000</span> + <span style=\"color:blue\">+0.000</span> + <span style=\"color:red\">-0.001</span> + <span style=\"color:red\">-0.002</span> + <span style=\"color:red\">-0.001</span> + <span style=\"color:red\">-0.002</span> + <span style=\"color:blue\">+0.003</span> + <span style=\"color:blue\">+0.001</span> + <span style=\"color:blue\">+0.003</span> + <span style=\"color:blue\">+0.001</span> = <span style=\"color:blue; text-decoration:underline\">+0.005</span></div>"
      ],
      "text/plain": [
       "<IPython.core.display.Markdown object>"
      ]
     },
     "metadata": {},
     "output_type": "display_data"
    },
    {
     "name": "stdout",
     "output_type": "stream",
     "text": [
      "w1=+0.993, w2=-0.992, w3=+1.000\n",
      "\n"
     ]
    },
    {
     "data": {
      "text/markdown": [
       "<div style=\"font-weight:bold\">Iteration 9</div>"
      ],
      "text/plain": [
       "<IPython.core.display.Markdown object>"
      ]
     },
     "metadata": {},
     "output_type": "display_data"
    },
    {
     "name": "stdout",
     "output_type": "stream",
     "text": [
      "Output: [+0.500, +0.501, +0.500, +0.500, +0.500, +0.730, +0.730, +0.730, +0.730, +0.501, +0.501, +0.501, +0.501]\n",
      "Target: [+0.500, +0.500, +0.500, +0.500, +0.500, +0.731, +0.731, +0.731, +0.731, +0.500, +0.500, +0.500, +0.500]\n",
      "Memory: [+0.001, +0.003, +0.001, +0.000, +0.001, +0.994, +0.995, +0.994, +0.995, +0.004, +0.003, +0.004, +0.003]\n"
     ]
    },
    {
     "data": {
      "text/markdown": [
       "<div>Loss: <span style=\"font-weight:bold\">0.00002</span>= <span style=\"font-family:monaco; font-size:12px\">0.000 + 0.000 + 0.000 + 0.000 + 0.000 + 0.000 + 0.000 + 0.000 + 0.000 + 0.000 + 0.000 + 0.000 + 0.000</span></div><div style=\"font-family:monaco; font-size:12px\">dL/dw1 = <span style=\"color:blue\">+0.000</span> + <span style=\"color:blue\">+0.001</span> + <span style=\"color:blue\">+0.000</span> + <span style=\"color:blue\">+0.000</span> + <span style=\"color:blue\">+0.000</span> + <span style=\"color:red\">-0.002</span> + <span style=\"color:red\">-0.003</span> + <span style=\"color:red\">-0.002</span> + <span style=\"color:red\">-0.003</span> + <span style=\"color:blue\">+0.003</span> + <span style=\"color:blue\">+0.001</span> + <span style=\"color:blue\">+0.003</span> + <span style=\"color:blue\">+0.001</span> = <span style=\"color:blue; text-decoration:underline\">+0.000</span></div><div style=\"font-family:monaco; font-size:12px\">dL/dw2 = <span style=\"color:blue\">+0.000</span> + <span style=\"color:blue\">+0.001</span> + <span style=\"color:blue\">+0.000</span> + <span style=\"color:blue\">+0.000</span> + <span style=\"color:blue\">+0.000</span> + <span style=\"color:red\">-0.001</span> + <span style=\"color:red\">-0.002</span> + <span style=\"color:red\">-0.001</span> + <span style=\"color:red\">-0.002</span> + <span style=\"color:blue\">+0.003</span> + <span style=\"color:blue\">+0.001</span> + <span style=\"color:blue\">+0.003</span> + <span style=\"color:blue\">+0.001</span> = <span style=\"color:blue; text-decoration:underline\">+0.005</span></div>"
      ],
      "text/plain": [
       "<IPython.core.display.Markdown object>"
      ]
     },
     "metadata": {},
     "output_type": "display_data"
    },
    {
     "name": "stdout",
     "output_type": "stream",
     "text": [
      "w1=+0.993, w2=-0.992, w3=+1.000\n",
      "\n"
     ]
    },
    {
     "data": {
      "text/markdown": [
       "<div style=\"font-weight:bold\">Iteration 10</div>"
      ],
      "text/plain": [
       "<IPython.core.display.Markdown object>"
      ]
     },
     "metadata": {},
     "output_type": "display_data"
    },
    {
     "name": "stdout",
     "output_type": "stream",
     "text": [
      "Output: [+0.500, +0.501, +0.500, +0.500, +0.500, +0.730, +0.730, +0.730, +0.730, +0.501, +0.501, +0.501, +0.501]\n",
      "Target: [+0.500, +0.500, +0.500, +0.500, +0.500, +0.731, +0.731, +0.731, +0.731, +0.500, +0.500, +0.500, +0.500]\n",
      "Memory: [+0.001, +0.002, +0.001, +0.000, +0.001, +0.994, +0.995, +0.994, +0.995, +0.004, +0.002, +0.004, +0.002]\n"
     ]
    },
    {
     "data": {
      "text/markdown": [
       "<div>Loss: <span style=\"font-weight:bold\">0.00002</span>= <span style=\"font-family:monaco; font-size:12px\">0.000 + 0.000 + 0.000 + 0.000 + 0.000 + 0.000 + 0.000 + 0.000 + 0.000 + 0.000 + 0.000 + 0.000 + 0.000</span></div><div style=\"font-family:monaco; font-size:12px\">dL/dw1 = <span style=\"color:blue\">+0.000</span> + <span style=\"color:blue\">+0.001</span> + <span style=\"color:blue\">+0.000</span> + <span style=\"color:blue\">+0.000</span> + <span style=\"color:blue\">+0.000</span> + <span style=\"color:red\">-0.002</span> + <span style=\"color:red\">-0.003</span> + <span style=\"color:red\">-0.002</span> + <span style=\"color:red\">-0.003</span> + <span style=\"color:blue\">+0.003</span> + <span style=\"color:blue\">+0.001</span> + <span style=\"color:blue\">+0.003</span> + <span style=\"color:blue\">+0.001</span> = <span style=\"color:red; text-decoration:underline\">-0.000</span></div><div style=\"font-family:monaco; font-size:12px\">dL/dw2 = <span style=\"color:blue\">+0.000</span> + <span style=\"color:blue\">+0.001</span> + <span style=\"color:blue\">+0.000</span> + <span style=\"color:blue\">+0.000</span> + <span style=\"color:blue\">+0.000</span> + <span style=\"color:red\">-0.001</span> + <span style=\"color:red\">-0.002</span> + <span style=\"color:red\">-0.001</span> + <span style=\"color:red\">-0.002</span> + <span style=\"color:blue\">+0.003</span> + <span style=\"color:blue\">+0.001</span> + <span style=\"color:blue\">+0.003</span> + <span style=\"color:blue\">+0.001</span> = <span style=\"color:blue; text-decoration:underline\">+0.004</span></div>"
      ],
      "text/plain": [
       "<IPython.core.display.Markdown object>"
      ]
     },
     "metadata": {},
     "output_type": "display_data"
    },
    {
     "name": "stdout",
     "output_type": "stream",
     "text": [
      "w1=+0.993, w2=-0.992, w3=+1.000\n",
      "\n"
     ]
    },
    {
     "data": {
      "text/markdown": [
       "<div style=\"font-weight:bold\">Iteration 11</div>"
      ],
      "text/plain": [
       "<IPython.core.display.Markdown object>"
      ]
     },
     "metadata": {},
     "output_type": "display_data"
    },
    {
     "name": "stdout",
     "output_type": "stream",
     "text": [
      "Output: [+0.500, +0.501, +0.500, +0.500, +0.500, +0.730, +0.730, +0.730, +0.730, +0.501, +0.501, +0.501, +0.501]\n",
      "Target: [+0.500, +0.500, +0.500, +0.500, +0.500, +0.731, +0.731, +0.731, +0.731, +0.500, +0.500, +0.500, +0.500]\n",
      "Memory: [+0.001, +0.002, +0.001, +0.000, +0.001, +0.994, +0.995, +0.994, +0.995, +0.004, +0.002, +0.004, +0.002]\n"
     ]
    },
    {
     "data": {
      "text/markdown": [
       "<div>Loss: <span style=\"font-weight:bold\">0.00002</span>= <span style=\"font-family:monaco; font-size:12px\">0.000 + 0.000 + 0.000 + 0.000 + 0.000 + 0.000 + 0.000 + 0.000 + 0.000 + 0.000 + 0.000 + 0.000 + 0.000</span></div><div style=\"font-family:monaco; font-size:12px\">dL/dw1 = <span style=\"color:blue\">+0.000</span> + <span style=\"color:blue\">+0.001</span> + <span style=\"color:blue\">+0.000</span> + <span style=\"color:blue\">+0.000</span> + <span style=\"color:blue\">+0.000</span> + <span style=\"color:red\">-0.002</span> + <span style=\"color:red\">-0.003</span> + <span style=\"color:red\">-0.002</span> + <span style=\"color:red\">-0.003</span> + <span style=\"color:blue\">+0.003</span> + <span style=\"color:blue\">+0.001</span> + <span style=\"color:blue\">+0.003</span> + <span style=\"color:blue\">+0.001</span> = <span style=\"color:red; text-decoration:underline\">-0.001</span></div><div style=\"font-family:monaco; font-size:12px\">dL/dw2 = <span style=\"color:blue\">+0.000</span> + <span style=\"color:blue\">+0.001</span> + <span style=\"color:blue\">+0.000</span> + <span style=\"color:blue\">+0.000</span> + <span style=\"color:blue\">+0.000</span> + <span style=\"color:red\">-0.001</span> + <span style=\"color:red\">-0.002</span> + <span style=\"color:red\">-0.001</span> + <span style=\"color:red\">-0.002</span> + <span style=\"color:blue\">+0.003</span> + <span style=\"color:blue\">+0.001</span> + <span style=\"color:blue\">+0.003</span> + <span style=\"color:blue\">+0.001</span> = <span style=\"color:blue; text-decoration:underline\">+0.004</span></div>"
      ],
      "text/plain": [
       "<IPython.core.display.Markdown object>"
      ]
     },
     "metadata": {},
     "output_type": "display_data"
    },
    {
     "name": "stdout",
     "output_type": "stream",
     "text": [
      "w1=+0.993, w2=-0.992, w3=+1.000\n",
      "\n"
     ]
    },
    {
     "data": {
      "text/markdown": [
       "<div style=\"font-weight:bold\">Iteration 12</div>"
      ],
      "text/plain": [
       "<IPython.core.display.Markdown object>"
      ]
     },
     "metadata": {},
     "output_type": "display_data"
    },
    {
     "name": "stdout",
     "output_type": "stream",
     "text": [
      "Output: [+0.500, +0.501, +0.500, +0.500, +0.500, +0.730, +0.730, +0.730, +0.730, +0.501, +0.501, +0.501, +0.501]\n",
      "Target: [+0.500, +0.500, +0.500, +0.500, +0.500, +0.731, +0.731, +0.731, +0.731, +0.500, +0.500, +0.500, +0.500]\n",
      "Memory: [+0.001, +0.002, +0.001, +0.000, +0.001, +0.994, +0.995, +0.994, +0.995, +0.003, +0.002, +0.003, +0.002]\n"
     ]
    },
    {
     "data": {
      "text/markdown": [
       "<div>Loss: <span style=\"font-weight:bold\">0.00002</span>= <span style=\"font-family:monaco; font-size:12px\">0.000 + 0.000 + 0.000 + 0.000 + 0.000 + 0.000 + 0.000 + 0.000 + 0.000 + 0.000 + 0.000 + 0.000 + 0.000</span></div><div style=\"font-family:monaco; font-size:12px\">dL/dw1 = <span style=\"color:blue\">+0.000</span> + <span style=\"color:blue\">+0.001</span> + <span style=\"color:blue\">+0.000</span> + <span style=\"color:blue\">+0.000</span> + <span style=\"color:blue\">+0.000</span> + <span style=\"color:red\">-0.002</span> + <span style=\"color:red\">-0.003</span> + <span style=\"color:red\">-0.002</span> + <span style=\"color:red\">-0.003</span> + <span style=\"color:blue\">+0.003</span> + <span style=\"color:blue\">+0.001</span> + <span style=\"color:blue\">+0.003</span> + <span style=\"color:blue\">+0.001</span> = <span style=\"color:red; text-decoration:underline\">-0.001</span></div><div style=\"font-family:monaco; font-size:12px\">dL/dw2 = <span style=\"color:blue\">+0.000</span> + <span style=\"color:blue\">+0.001</span> + <span style=\"color:blue\">+0.000</span> + <span style=\"color:blue\">+0.000</span> + <span style=\"color:blue\">+0.000</span> + <span style=\"color:red\">-0.001</span> + <span style=\"color:red\">-0.002</span> + <span style=\"color:red\">-0.001</span> + <span style=\"color:red\">-0.002</span> + <span style=\"color:blue\">+0.003</span> + <span style=\"color:blue\">+0.001</span> + <span style=\"color:blue\">+0.003</span> + <span style=\"color:blue\">+0.001</span> = <span style=\"color:blue; text-decoration:underline\">+0.003</span></div>"
      ],
      "text/plain": [
       "<IPython.core.display.Markdown object>"
      ]
     },
     "metadata": {},
     "output_type": "display_data"
    },
    {
     "name": "stdout",
     "output_type": "stream",
     "text": [
      "w1=+0.993, w2=-0.992, w3=+1.000\n",
      "\n"
     ]
    },
    {
     "data": {
      "text/markdown": [
       "<div style=\"font-weight:bold\">Iteration 13</div>"
      ],
      "text/plain": [
       "<IPython.core.display.Markdown object>"
      ]
     },
     "metadata": {},
     "output_type": "display_data"
    },
    {
     "name": "stdout",
     "output_type": "stream",
     "text": [
      "Output: [+0.500, +0.501, +0.500, +0.500, +0.500, +0.730, +0.730, +0.730, +0.730, +0.501, +0.501, +0.501, +0.501]\n",
      "Target: [+0.500, +0.500, +0.500, +0.500, +0.500, +0.731, +0.731, +0.731, +0.731, +0.500, +0.500, +0.500, +0.500]\n",
      "Memory: [+0.001, +0.002, +0.001, +0.000, +0.001, +0.994, +0.995, +0.994, +0.995, +0.003, +0.002, +0.003, +0.002]\n"
     ]
    },
    {
     "data": {
      "text/markdown": [
       "<div>Loss: <span style=\"font-weight:bold\">0.00002</span>= <span style=\"font-family:monaco; font-size:12px\">0.000 + 0.000 + 0.000 + 0.000 + 0.000 + 0.000 + 0.000 + 0.000 + 0.000 + 0.000 + 0.000 + 0.000 + 0.000</span></div><div style=\"font-family:monaco; font-size:12px\">dL/dw1 = <span style=\"color:blue\">+0.000</span> + <span style=\"color:blue\">+0.001</span> + <span style=\"color:blue\">+0.000</span> + <span style=\"color:blue\">+0.000</span> + <span style=\"color:blue\">+0.000</span> + <span style=\"color:red\">-0.002</span> + <span style=\"color:red\">-0.003</span> + <span style=\"color:red\">-0.002</span> + <span style=\"color:red\">-0.003</span> + <span style=\"color:blue\">+0.003</span> + <span style=\"color:blue\">+0.001</span> + <span style=\"color:blue\">+0.003</span> + <span style=\"color:blue\">+0.001</span> = <span style=\"color:red; text-decoration:underline\">-0.001</span></div><div style=\"font-family:monaco; font-size:12px\">dL/dw2 = <span style=\"color:blue\">+0.000</span> + <span style=\"color:blue\">+0.001</span> + <span style=\"color:blue\">+0.000</span> + <span style=\"color:blue\">+0.000</span> + <span style=\"color:blue\">+0.000</span> + <span style=\"color:red\">-0.001</span> + <span style=\"color:red\">-0.002</span> + <span style=\"color:red\">-0.001</span> + <span style=\"color:red\">-0.002</span> + <span style=\"color:blue\">+0.003</span> + <span style=\"color:blue\">+0.001</span> + <span style=\"color:blue\">+0.003</span> + <span style=\"color:blue\">+0.001</span> = <span style=\"color:blue; text-decoration:underline\">+0.003</span></div>"
      ],
      "text/plain": [
       "<IPython.core.display.Markdown object>"
      ]
     },
     "metadata": {},
     "output_type": "display_data"
    },
    {
     "name": "stdout",
     "output_type": "stream",
     "text": [
      "w1=+0.993, w2=-0.992, w3=+1.000\n",
      "\n"
     ]
    },
    {
     "data": {
      "text/markdown": [
       "<div style=\"font-weight:bold\">Iteration 14</div>"
      ],
      "text/plain": [
       "<IPython.core.display.Markdown object>"
      ]
     },
     "metadata": {},
     "output_type": "display_data"
    },
    {
     "name": "stdout",
     "output_type": "stream",
     "text": [
      "Output: [+0.500, +0.501, +0.500, +0.500, +0.500, +0.730, +0.730, +0.730, +0.730, +0.501, +0.501, +0.501, +0.501]\n",
      "Target: [+0.500, +0.500, +0.500, +0.500, +0.500, +0.731, +0.731, +0.731, +0.731, +0.500, +0.500, +0.500, +0.500]\n",
      "Memory: [+0.001, +0.002, +0.001, +0.000, +0.001, +0.994, +0.995, +0.994, +0.995, +0.003, +0.002, +0.003, +0.002]\n"
     ]
    },
    {
     "data": {
      "text/markdown": [
       "<div>Loss: <span style=\"font-weight:bold\">0.00002</span>= <span style=\"font-family:monaco; font-size:12px\">0.000 + 0.000 + 0.000 + 0.000 + 0.000 + 0.000 + 0.000 + 0.000 + 0.000 + 0.000 + 0.000 + 0.000 + 0.000</span></div><div style=\"font-family:monaco; font-size:12px\">dL/dw1 = <span style=\"color:blue\">+0.000</span> + <span style=\"color:blue\">+0.001</span> + <span style=\"color:blue\">+0.000</span> + <span style=\"color:blue\">+0.000</span> + <span style=\"color:blue\">+0.000</span> + <span style=\"color:red\">-0.002</span> + <span style=\"color:red\">-0.003</span> + <span style=\"color:red\">-0.002</span> + <span style=\"color:red\">-0.003</span> + <span style=\"color:blue\">+0.002</span> + <span style=\"color:blue\">+0.001</span> + <span style=\"color:blue\">+0.002</span> + <span style=\"color:blue\">+0.001</span> = <span style=\"color:red; text-decoration:underline\">-0.001</span></div><div style=\"font-family:monaco; font-size:12px\">dL/dw2 = <span style=\"color:blue\">+0.000</span> + <span style=\"color:blue\">+0.001</span> + <span style=\"color:blue\">+0.000</span> + <span style=\"color:blue\">+0.000</span> + <span style=\"color:blue\">+0.000</span> + <span style=\"color:red\">-0.001</span> + <span style=\"color:red\">-0.002</span> + <span style=\"color:red\">-0.001</span> + <span style=\"color:red\">-0.002</span> + <span style=\"color:blue\">+0.002</span> + <span style=\"color:blue\">+0.001</span> + <span style=\"color:blue\">+0.002</span> + <span style=\"color:blue\">+0.001</span> = <span style=\"color:blue; text-decoration:underline\">+0.003</span></div>"
      ],
      "text/plain": [
       "<IPython.core.display.Markdown object>"
      ]
     },
     "metadata": {},
     "output_type": "display_data"
    },
    {
     "name": "stdout",
     "output_type": "stream",
     "text": [
      "w1=+0.993, w2=-0.992, w3=+1.000\n",
      "\n"
     ]
    },
    {
     "data": {
      "text/markdown": [
       "<div style=\"font-weight:bold\">Iteration 49</div>"
      ],
      "text/plain": [
       "<IPython.core.display.Markdown object>"
      ]
     },
     "metadata": {},
     "output_type": "display_data"
    },
    {
     "name": "stdout",
     "output_type": "stream",
     "text": [
      "Output: [+0.500, +0.500, +0.500, +0.500, +0.500, +0.730, +0.730, +0.730, +0.730, +0.501, +0.500, +0.501, +0.500]\n",
      "Target: [+0.500, +0.500, +0.500, +0.500, +0.500, +0.731, +0.731, +0.731, +0.731, +0.500, +0.500, +0.500, +0.500]\n",
      "Memory: [+0.001, +0.002, +0.001, +0.000, +0.001, +0.994, +0.995, +0.994, +0.995, +0.003, +0.002, +0.003, +0.002]\n"
     ]
    },
    {
     "data": {
      "text/markdown": [
       "<div>Loss: <span style=\"font-weight:bold\">0.00001</span>= <span style=\"font-family:monaco; font-size:12px\">0.000 + 0.000 + 0.000 + 0.000 + 0.000 + 0.000 + 0.000 + 0.000 + 0.000 + 0.000 + 0.000 + 0.000 + 0.000</span></div><div style=\"font-family:monaco; font-size:12px\">dL/dw1 = <span style=\"color:blue\">+0.000</span> + <span style=\"color:blue\">+0.001</span> + <span style=\"color:blue\">+0.000</span> + <span style=\"color:blue\">+0.000</span> + <span style=\"color:blue\">+0.000</span> + <span style=\"color:red\">-0.002</span> + <span style=\"color:red\">-0.003</span> + <span style=\"color:red\">-0.002</span> + <span style=\"color:red\">-0.003</span> + <span style=\"color:blue\">+0.002</span> + <span style=\"color:blue\">+0.001</span> + <span style=\"color:blue\">+0.002</span> + <span style=\"color:blue\">+0.001</span> = <span style=\"color:red; text-decoration:underline\">-0.002</span></div><div style=\"font-family:monaco; font-size:12px\">dL/dw2 = <span style=\"color:blue\">+0.000</span> + <span style=\"color:blue\">+0.001</span> + <span style=\"color:blue\">+0.000</span> + <span style=\"color:blue\">+0.000</span> + <span style=\"color:blue\">+0.000</span> + <span style=\"color:red\">-0.001</span> + <span style=\"color:red\">-0.002</span> + <span style=\"color:red\">-0.001</span> + <span style=\"color:red\">-0.002</span> + <span style=\"color:blue\">+0.002</span> + <span style=\"color:blue\">+0.001</span> + <span style=\"color:blue\">+0.002</span> + <span style=\"color:blue\">+0.001</span> = <span style=\"color:blue; text-decoration:underline\">+0.002</span></div>"
      ],
      "text/plain": [
       "<IPython.core.display.Markdown object>"
      ]
     },
     "metadata": {},
     "output_type": "display_data"
    },
    {
     "name": "stdout",
     "output_type": "stream",
     "text": [
      "w1=+0.994, w2=-0.993, w3=+1.000\n",
      "\n"
     ]
    },
    {
     "data": {
      "text/markdown": [
       "<div style=\"font-weight:bold\">Iteration 99</div>"
      ],
      "text/plain": [
       "<IPython.core.display.Markdown object>"
      ]
     },
     "metadata": {},
     "output_type": "display_data"
    },
    {
     "name": "stdout",
     "output_type": "stream",
     "text": [
      "Output: [+0.500, +0.500, +0.500, +0.500, +0.500, +0.730, +0.730, +0.730, +0.730, +0.501, +0.500, +0.501, +0.500]\n",
      "Target: [+0.500, +0.500, +0.500, +0.500, +0.500, +0.731, +0.731, +0.731, +0.731, +0.500, +0.500, +0.500, +0.500]\n",
      "Memory: [+0.001, +0.002, +0.001, +0.000, +0.001, +0.995, +0.996, +0.995, +0.996, +0.002, +0.002, +0.002, +0.002]\n"
     ]
    },
    {
     "data": {
      "text/markdown": [
       "<div>Loss: <span style=\"font-weight:bold\">0.00001</span>= <span style=\"font-family:monaco; font-size:12px\">0.000 + 0.000 + 0.000 + 0.000 + 0.000 + 0.000 + 0.000 + 0.000 + 0.000 + 0.000 + 0.000 + 0.000 + 0.000</span></div><div style=\"font-family:monaco; font-size:12px\">dL/dw1 = <span style=\"color:blue\">+0.000</span> + <span style=\"color:blue\">+0.001</span> + <span style=\"color:blue\">+0.000</span> + <span style=\"color:blue\">+0.000</span> + <span style=\"color:blue\">+0.000</span> + <span style=\"color:red\">-0.002</span> + <span style=\"color:red\">-0.002</span> + <span style=\"color:red\">-0.002</span> + <span style=\"color:red\">-0.002</span> + <span style=\"color:blue\">+0.002</span> + <span style=\"color:blue\">+0.001</span> + <span style=\"color:blue\">+0.002</span> + <span style=\"color:blue\">+0.001</span> = <span style=\"color:red; text-decoration:underline\">-0.002</span></div><div style=\"font-family:monaco; font-size:12px\">dL/dw2 = <span style=\"color:blue\">+0.000</span> + <span style=\"color:blue\">+0.001</span> + <span style=\"color:blue\">+0.000</span> + <span style=\"color:blue\">+0.000</span> + <span style=\"color:blue\">+0.000</span> + <span style=\"color:red\">-0.001</span> + <span style=\"color:red\">-0.002</span> + <span style=\"color:red\">-0.001</span> + <span style=\"color:red\">-0.002</span> + <span style=\"color:blue\">+0.002</span> + <span style=\"color:blue\">+0.001</span> + <span style=\"color:blue\">+0.002</span> + <span style=\"color:blue\">+0.001</span> = <span style=\"color:blue; text-decoration:underline\">+0.002</span></div>"
      ],
      "text/plain": [
       "<IPython.core.display.Markdown object>"
      ]
     },
     "metadata": {},
     "output_type": "display_data"
    },
    {
     "name": "stdout",
     "output_type": "stream",
     "text": [
      "w1=+0.994, w2=-0.994, w3=+1.000\n",
      "\n"
     ]
    },
    {
     "data": {
      "text/plain": [
       "(0.9943962680848304, -0.9935690516603158, 1.0)"
      ]
     },
     "execution_count": 7,
     "metadata": {},
     "output_type": "execute_result"
    }
   ],
   "source": [
    "embedding['a'] = (1.0, 1)\n",
    "embedding['b'] = (-1, -1)\n",
    "embedding['('] = (1, 0)\n",
    "embedding[')'] = (0, 1)\n",
    "\n",
    "w1, w2, w3 = experiment('ab(ab)bb', _w1=1.0, _w2=1.0, max_iter=250, alpha=1e-1, fixed_w3=True)\n",
    "printmd('## Test on longer sequence')\n",
    "experiment('aabba(aba)bab', _w1=w1, _w2=w2, _w3=w3, alpha=1e-2, max_iter=100)"
   ]
  },
  {
   "cell_type": "markdown",
   "metadata": {},
   "source": [
    "# Let's Try Adding Input Gate\n",
    "\n",
    "We saw in the experiment before that there is conflicting update (at one point of the sequence the gradient is positive, while at another point it is negative), which the original paper explains that it is caused by the weight into the memory cell needs to update the memory at one point (when we see brackets in this case) and retain information at another point (when we see any other characters).\n",
    "\n",
    "Another core feature of LSTM that was designed to resolve this issue is that it adds gates: input gate and output gate, to control the flow of information through the memory cells.\n",
    "\n",
    "In the following, we try adding an input gate, which the network should learn to activate (value = 1) only when it sees an opening bracket or closing bracket. So basically the input gate is telling the network which inputs are relevant and which are not.\n",
    "\n",
    "**Note**: Below we have two versions for the input gate: linear with sigmoid, and bilinear with bias. The $w_4$ and $w_5$ have different interpretation depending on the input gate chosen. The bilinear gate was added because the input doesn't allow the linear gate to be useful."
   ]
  },
  {
   "cell_type": "code",
   "execution_count": 8,
   "metadata": {
    "collapsed": false
   },
   "outputs": [],
   "source": [
    "w4 = 1.0\n",
    "w5 = 1.0\n",
    "input_history = [0]\n",
    "gate_history = [0]\n",
    "\n",
    "def reset_gated():\n",
    "    global memory_history, output_history, input_history, gate_history\n",
    "    memory_history = [0]\n",
    "    output_history = [0]\n",
    "    input_history = [0]\n",
    "    gate_history = [0]\n",
    "\n",
    "def activate_input(x1, x2):\n",
    "    result = (w1*x1+w2*x2)\n",
    "    input_history.append(result)\n",
    "    return result\n",
    "\n",
    "def activate_gate(x1, x2, bilinear_gate=True):\n",
    "    if bilinear_gate:\n",
    "        result = w4 + w5*x1*x2  # Bilinear gate\n",
    "    else:\n",
    "        result = sigmoid(w4*x1+w5*x2)  # The true linear gate\n",
    "    gate_history.append(result)\n",
    "    return result\n",
    "\n",
    "def dLdw1_gated(test_seq, gold_seq, pred_seq, state_seq, input_seq, gate_seq, info, bilinear_gate=True):\n",
    "    result = 0.0\n",
    "    grad_str = '<div style=\"font-family:monaco; font-size:12px\">dL/dw1 = '\n",
    "    for time_step in range(1, len(gold_seq)):\n",
    "        cur_dell = (pred_seq[time_step] - gold_seq[time_step]) * w3\n",
    "        cur_dell *= sum(embedding[test_seq[step-1]][0]*gate_seq[step] for step in range(1, time_step+1))\n",
    "        if cur_dell < 0:\n",
    "            color = 'red'\n",
    "        else:\n",
    "            color = 'blue'\n",
    "        grad_str += '{}<span style=\"color:{}\">{:+.3f}</span>'.format(' + ' if time_step > 1 else '', color, cur_dell)\n",
    "        result += cur_dell\n",
    "    grad_str += ' = <span style=\"color:{}; text-decoration:underline\">{:+.3f}</span></div>'.format(\n",
    "                'red' if result < 0 else 'blue', result)\n",
    "    # printmd(grad_str)\n",
    "    info[0] += grad_str\n",
    "    return result\n",
    "\n",
    "def dLdw2_gated(test_seq, gold_seq, pred_seq, state_seq, input_seq, gate_seq, info, bilinear_gate=True):\n",
    "    result = 0.0\n",
    "    grad_str = '<div style=\"font-family:monaco; font-size:12px\">dL/dw2 = '\n",
    "    for time_step in range(1, len(gold_seq)):\n",
    "        cur_dell = (pred_seq[time_step] - gold_seq[time_step]) * w3\n",
    "        cur_dell *= sum(embedding[test_seq[step-1]][1]*gate_seq[step] for step in range(1, time_step+1))\n",
    "        if cur_dell < 0:\n",
    "            color = 'red'\n",
    "        else:\n",
    "            color = 'blue'\n",
    "        grad_str += '{}<span style=\"color:{}\">{:+.3f}</span>'.format(' + ' if time_step > 1 else '', color, cur_dell)\n",
    "        result += cur_dell\n",
    "    grad_str += ' = <span style=\"color:{}; text-decoration:underline\">{:+.3f}</span></div>'.format(\n",
    "                'red' if result < 0 else 'blue', result)\n",
    "    # printmd(grad_str)\n",
    "    info[0] += grad_str\n",
    "    return result\n",
    "\n",
    "def dLdw4_gated(test_seq, gold_seq, pred_seq, state_seq, input_seq, gate_seq, info, bilinear_gate=True):\n",
    "    result = 0.0\n",
    "    grad_str = '<div style=\"font-family:monaco; font-size:12px\">dL/dw4 = '\n",
    "    for time_step in range(1, len(gold_seq)):\n",
    "        cur_dell = (pred_seq[time_step] - gold_seq[time_step]) * w3\n",
    "        if bilinear_gate:\n",
    "            cur_dell *= sum(input_seq[step] for step in range(1, time_step+1))\n",
    "        else:\n",
    "            cur_dell *= sum(embedding[test_seq[step-1]][0]*gate_seq[step]*input_seq[step]*(1-gate_seq[step])\n",
    "                            for step in range(1,time_step+1))\n",
    "        if cur_dell < 0:\n",
    "            color = 'red'\n",
    "        else:\n",
    "            color = 'blue'\n",
    "        grad_str += '{}<span style=\"color:{}\">{:+.3f}</span>'.format(' + ' if time_step > 1 else '', color, cur_dell)\n",
    "        result += cur_dell\n",
    "    grad_str += ' = <span style=\"color:{}; text-decoration:underline\">{:+.3f}</span></div>'.format(\n",
    "                    'red' if result < 0 else 'blue', result)\n",
    "    # printmd(grad_str)\n",
    "    info[0] += grad_str\n",
    "    return result\n",
    "\n",
    "def dLdw5_gated(test_seq, gold_seq, pred_seq, state_seq, input_seq, gate_seq, info, bilinear_gate=True):\n",
    "    result = 0.0\n",
    "    grad_str = '<div style=\"font-family:monaco; font-size:12px\">dL/dw5 = '\n",
    "    for time_step in range(1, len(gold_seq)):\n",
    "        cur_dell = (pred_seq[time_step] - gold_seq[time_step]) * w3\n",
    "        if bilinear_gate:\n",
    "            cur_dell *= sum(embedding[test_seq[step-1]][0]*embedding[test_seq[step-1]][1]*input_seq[step]\n",
    "                            for step in range(1, time_step+1))\n",
    "        else:\n",
    "            cur_dell *= sum(embedding[test_seq[step-1]][1]*gate_seq[step]*input_seq[step]*(1-gate_seq[step])\n",
    "                            for step in range(1,time_step+1))\n",
    "        if cur_dell < 0:\n",
    "            color = 'red'\n",
    "        else:\n",
    "            color = 'blue'\n",
    "        grad_str += '{}<span style=\"color:{}\">{:+.3f}</span>'.format(' + ' if time_step > 1 else '', color, cur_dell)\n",
    "        result += cur_dell\n",
    "    grad_str += ' = <span style=\"color:{}; text-decoration:underline\">{:+.3f}</span></div>'.format(\n",
    "                    'red' if result < 0 else 'blue', result)\n",
    "    # printmd(grad_str)\n",
    "    info[0] += grad_str\n",
    "    return result\n",
    "\n",
    "def activate_memory_gated():\n",
    "    memory_history.append(ws*memory_history[-1] + input_history[-1]*gate_history[-1])\n",
    "    return memory_history[-1]\n",
    "\n",
    "def predict_gated(seq):\n",
    "    for char in seq:\n",
    "        activate_input(*embedding[char])\n",
    "        activate_gate(*embedding[char])\n",
    "        activate_output(activate_memory_gated())\n",
    "    result = output_history[:]\n",
    "    return result\n",
    "\n",
    "def experiment_gated(test_seq, _w1=1.0, _w2=1.0, _w3=1.0, _w4=1.0, _w5=1.0, alpha=1e-1, max_iter=750,\n",
    "                     bilinear_gate=True, fixed_w3=True, fixed_w4=False, fixed_w5=False):\n",
    "    global w1, w2, w3, w4, w5\n",
    "    reset_gated()\n",
    "    w1 = _w1\n",
    "    w2 = _w2\n",
    "    w3 = _w3\n",
    "    w4 = _w4\n",
    "    w5 = _w5\n",
    "    correct = gold(test_seq)\n",
    "    print('w1={:+.3f}, w2={:+.3f}, w3={:+.3f}, w4={:+.3f}, w5={:+.3f}'.format(w1, w2, w3, w4, w5))\n",
    "    for iter_num in range(max_iter):\n",
    "        result = predict_gated(test_seq)\n",
    "        if iter_num < 15 or (iter_num % 50 == 49):\n",
    "            printmd('<div style=\"font-weight:bold\">Iteration {}</div>'.format(iter_num))\n",
    "            print('Output: ', end='')\n",
    "            print_list(result[1:])\n",
    "            print('Target: ', end='')\n",
    "            print_list(correct[1:])\n",
    "            print('Memory: ', end='')\n",
    "            print_list(memory_history[1:])\n",
    "            print('Input : ', end='')\n",
    "            print_list(input_history[1:])\n",
    "            print('Gate  : ', end='')\n",
    "            print_list(gate_history[1:])\n",
    "        total_loss, per_position_loss = loss(correct[1:], result[1:])\n",
    "        info = ['', iter_num]\n",
    "        info[0] = ('<div>Loss: <span style=\"font-weight:bold\">{:.5f}</span>' +\n",
    "                   '= <span style=\"font-family:monaco\">').format(total_loss)\n",
    "        for idx, per_pos_loss in enumerate(per_position_loss):\n",
    "            info[0] += '{}{:.3f}'.format(' + ' if idx > 0 else '', per_pos_loss)\n",
    "        info[0] += '</span></div>'\n",
    "        # printmd(loss_str)\n",
    "        w1 -= alpha * dLdw1_gated(test_seq, correct, result, memory_history, input_history, gate_history,\n",
    "                                  info, bilinear_gate)\n",
    "        w2 -= alpha * dLdw2_gated(test_seq, correct, result, memory_history, input_history, gate_history,\n",
    "                                  info, bilinear_gate)\n",
    "        if not fixed_w3:\n",
    "            w3 -= alpha * dLdw3(test_seq, correct, result, memory_history, info, bilinear_gate)\n",
    "        if not fixed_w4:\n",
    "            w4 -= alpha * dLdw4_gated(test_seq, correct, result, memory_history, input_history, gate_history,\n",
    "                                      info, bilinear_gate)\n",
    "        if not fixed_w5:\n",
    "            w5 -= alpha * dLdw5_gated(test_seq, correct, result, memory_history, input_history, gate_history,\n",
    "                                      info, bilinear_gate)\n",
    "        if iter_num < 15 or (iter_num % 50 == 49):\n",
    "            printmd(info[0])\n",
    "            print('w1={:+.3f}, w2={:+.3f}, w3={:+.3f}, w4={:+.3f}, w5={:+.3f}'.format(w1, w2, w3, w4, w5))\n",
    "            print()\n",
    "        reset_gated()\n",
    "    return w1, w2, w3, w4, w5"
   ]
  },
  {
   "cell_type": "code",
   "execution_count": 9,
   "metadata": {
    "collapsed": false
   },
   "outputs": [
    {
     "name": "stdout",
     "output_type": "stream",
     "text": [
      "w1=+1.000, w2=+1.000, w3=+1.000, w4=+1.000, w5=+1.000\n"
     ]
    },
    {
     "data": {
      "text/markdown": [
       "<div style=\"font-weight:bold\">Iteration 0</div>"
      ],
      "text/plain": [
       "<IPython.core.display.Markdown object>"
      ]
     },
     "metadata": {},
     "output_type": "display_data"
    },
    {
     "name": "stdout",
     "output_type": "stream",
     "text": [
      "Output: [+0.982, +0.500, +0.731, +0.993, +0.731, +0.881, +0.119, +0.002]\n",
      "Target: [+0.500, +0.500, +0.731, +0.731, +0.731, +0.500, +0.500, +0.500]\n",
      "Memory: [+4.000, +0.000, +1.000, +5.000, +1.000, +2.000, -2.000, -6.000]\n",
      "Input : [+2.000, -2.000, +1.000, +2.000, -2.000, +1.000, -2.000, -2.000]\n",
      "Gate  : [+2.000, +2.000, +1.000, +2.000, +2.000, +1.000, +2.000, +2.000]\n"
     ]
    },
    {
     "data": {
      "text/markdown": [
       "<div>Loss: <span style=\"font-weight:bold\">5.27111</span>= <span style=\"font-family:monaco\">1.325 + 0.000 + 0.000 + 0.769 + 0.000 + 0.434 + 0.434 + 2.309</span></div><div style=\"font-family:monaco; font-size:12px\">dL/dw1 = <span style=\"color:blue\">+0.964</span> + <span style=\"color:blue\">+0.000</span> + <span style=\"color:blue\">+0.000</span> + <span style=\"color:blue\">+0.787</span> + <span style=\"color:blue\">+0.000</span> + <span style=\"color:blue\">+0.381</span> + <span style=\"color:blue\">+0.381</span> + <span style=\"color:blue\">+1.493</span> = <span style=\"color:blue; text-decoration:underline\">+4.005</span></div><div style=\"font-family:monaco; font-size:12px\">dL/dw2 = <span style=\"color:blue\">+0.964</span> + <span style=\"color:blue\">+0.000</span> + <span style=\"color:blue\">+0.000</span> + <span style=\"color:blue\">+0.524</span> + <span style=\"color:blue\">+0.000</span> + <span style=\"color:blue\">+0.381</span> + <span style=\"color:blue\">+0.381</span> + <span style=\"color:blue\">+1.493</span> = <span style=\"color:blue; text-decoration:underline\">+3.743</span></div><div style=\"font-family:monaco; font-size:12px\">dL/dw4 = <span style=\"color:blue\">+0.964</span> + <span style=\"color:blue\">+0.000</span> + <span style=\"color:blue\">+0.000</span> + <span style=\"color:blue\">+0.787</span> + <span style=\"color:blue\">+0.000</span> + <span style=\"color:blue\">+0.762</span> + <span style=\"color:blue\">-0.000</span> + <span style=\"color:blue\">+0.995</span> = <span style=\"color:blue; text-decoration:underline\">+3.507</span></div><div style=\"font-family:monaco; font-size:12px\">dL/dw5 = <span style=\"color:blue\">+0.964</span> + <span style=\"color:blue\">+0.000</span> + <span style=\"color:blue\">+0.000</span> + <span style=\"color:blue\">+0.524</span> + <span style=\"color:blue\">+0.000</span> + <span style=\"color:blue\">+0.000</span> + <span style=\"color:blue\">+0.762</span> + <span style=\"color:blue\">+1.990</span> = <span style=\"color:blue; text-decoration:underline\">+4.240</span></div>"
      ],
      "text/plain": [
       "<IPython.core.display.Markdown object>"
      ]
     },
     "metadata": {},
     "output_type": "display_data"
    },
    {
     "name": "stdout",
     "output_type": "stream",
     "text": [
      "w1=+0.600, w2=+0.626, w3=+1.000, w4=+0.649, w5=+0.576\n",
      "\n"
     ]
    },
    {
     "data": {
      "text/markdown": [
       "<div style=\"font-weight:bold\">Iteration 1</div>"
      ],
      "text/plain": [
       "<IPython.core.display.Markdown object>"
      ]
     },
     "metadata": {},
     "output_type": "display_data"
    },
    {
     "name": "stdout",
     "output_type": "stream",
     "text": [
      "Output: [+0.818, +0.500, +0.596, +0.869, +0.596, +0.689, +0.331, +0.099]\n",
      "Target: [+0.500, +0.500, +0.731, +0.731, +0.731, +0.500, +0.500, +0.500]\n",
      "Memory: [+1.501, +0.000, +0.389, +1.890, +0.389, +0.795, -0.706, -2.207]\n",
      "Input : [+1.225, -1.225, +0.600, +1.225, -1.225, +0.626, -1.225, -1.225]\n",
      "Gate  : [+1.225, +1.225, +0.649, +1.225, +1.225, +0.649, +1.225, +1.225]\n"
     ]
    },
    {
     "data": {
      "text/markdown": [
       "<div>Loss: <span style=\"font-weight:bold\">1.05796</span>= <span style=\"font-family:monaco\">0.259 + 0.000 + 0.040 + 0.067 + 0.040 + 0.077 + 0.061 + 0.515</span></div><div style=\"font-family:monaco; font-size:12px\">dL/dw1 = <span style=\"color:blue\">+0.389</span> + <span style=\"color:blue\">+0.000</span> + <span style=\"color:red\">-0.088</span> + <span style=\"color:blue\">+0.258</span> + <span style=\"color:red\">-0.088</span> + <span style=\"color:blue\">+0.123</span> + <span style=\"color:blue\">+0.098</span> + <span style=\"color:blue\">+0.722</span> = <span style=\"color:blue; text-decoration:underline\">+1.415</span></div><div style=\"font-family:monaco; font-size:12px\">dL/dw2 = <span style=\"color:blue\">+0.389</span> + <span style=\"color:blue\">+0.000</span> + <span style=\"color:blue\">-0.000</span> + <span style=\"color:blue\">+0.169</span> + <span style=\"color:blue\">-0.000</span> + <span style=\"color:blue\">+0.123</span> + <span style=\"color:blue\">+0.098</span> + <span style=\"color:blue\">+0.722</span> = <span style=\"color:blue; text-decoration:underline\">+1.500</span></div><div style=\"font-family:monaco; font-size:12px\">dL/dw4 = <span style=\"color:blue\">+0.389</span> + <span style=\"color:blue\">+0.000</span> + <span style=\"color:red\">-0.081</span> + <span style=\"color:blue\">+0.251</span> + <span style=\"color:red\">-0.081</span> + <span style=\"color:blue\">+0.232</span> + <span style=\"color:blue\">-0.000</span> + <span style=\"color:blue\">+0.491</span> = <span style=\"color:blue; text-decoration:underline\">+1.202</span></div><div style=\"font-family:monaco; font-size:12px\">dL/dw5 = <span style=\"color:blue\">+0.389</span> + <span style=\"color:blue\">+0.000</span> + <span style=\"color:blue\">-0.000</span> + <span style=\"color:blue\">+0.169</span> + <span style=\"color:blue\">-0.000</span> + <span style=\"color:blue\">+0.000</span> + <span style=\"color:blue\">+0.208</span> + <span style=\"color:blue\">+0.982</span> = <span style=\"color:blue; text-decoration:underline\">+1.748</span></div>"
      ],
      "text/plain": [
       "<IPython.core.display.Markdown object>"
      ]
     },
     "metadata": {},
     "output_type": "display_data"
    },
    {
     "name": "stdout",
     "output_type": "stream",
     "text": [
      "w1=+0.458, w2=+0.476, w3=+1.000, w4=+0.529, w5=+0.401\n",
      "\n"
     ]
    },
    {
     "data": {
      "text/markdown": [
       "<div style=\"font-weight:bold\">Iteration 2</div>"
      ],
      "text/plain": [
       "<IPython.core.display.Markdown object>"
      ]
     },
     "metadata": {},
     "output_type": "display_data"
    },
    {
     "name": "stdout",
     "output_type": "stream",
     "text": [
      "Output: [+0.704, +0.500, +0.560, +0.752, +0.560, +0.621, +0.407, +0.224]\n",
      "Target: [+0.500, +0.500, +0.731, +0.731, +0.731, +0.500, +0.500, +0.500]\n",
      "Memory: [+0.869, +0.000, +0.242, +1.111, +0.242, +0.494, -0.375, -1.243]\n",
      "Input : [+0.934, -0.934, +0.458, +0.934, -0.934, +0.476, -0.934, -0.934]\n",
      "Gate  : [+0.930, +0.930, +0.529, +0.930, +0.930, +0.529, +0.930, +0.930]\n"
     ]
    },
    {
     "data": {
      "text/markdown": [
       "<div>Loss: <span style=\"font-weight:bold\">0.44676</span>= <span style=\"font-family:monaco\">0.091 + 0.000 + 0.062 + 0.001 + 0.062 + 0.030 + 0.017 + 0.182</span></div><div style=\"font-family:monaco; font-size:12px\">dL/dw1 = <span style=\"color:blue\">+0.190</span> + <span style=\"color:blue\">+0.000</span> + <span style=\"color:red\">-0.090</span> + <span style=\"color:blue\">+0.031</span> + <span style=\"color:red\">-0.090</span> + <span style=\"color:blue\">+0.064</span> + <span style=\"color:blue\">+0.037</span> + <span style=\"color:blue\">+0.368</span> = <span style=\"color:blue; text-decoration:underline\">+0.509</span></div><div style=\"font-family:monaco; font-size:12px\">dL/dw2 = <span style=\"color:blue\">+0.190</span> + <span style=\"color:blue\">+0.000</span> + <span style=\"color:blue\">-0.000</span> + <span style=\"color:blue\">+0.020</span> + <span style=\"color:blue\">-0.000</span> + <span style=\"color:blue\">+0.064</span> + <span style=\"color:blue\">+0.037</span> + <span style=\"color:blue\">+0.368</span> = <span style=\"color:blue; text-decoration:underline\">+0.679</span></div><div style=\"font-family:monaco; font-size:12px\">dL/dw4 = <span style=\"color:blue\">+0.191</span> + <span style=\"color:blue\">+0.000</span> + <span style=\"color:red\">-0.078</span> + <span style=\"color:blue\">+0.030</span> + <span style=\"color:red\">-0.078</span> + <span style=\"color:blue\">+0.113</span> + <span style=\"color:blue\">+0.000</span> + <span style=\"color:blue\">+0.258</span> = <span style=\"color:blue; text-decoration:underline\">+0.435</span></div><div style=\"font-family:monaco; font-size:12px\">dL/dw5 = <span style=\"color:blue\">+0.191</span> + <span style=\"color:blue\">+0.000</span> + <span style=\"color:blue\">-0.000</span> + <span style=\"color:blue\">+0.020</span> + <span style=\"color:blue\">-0.000</span> + <span style=\"color:blue\">+0.000</span> + <span style=\"color:blue\">+0.086</span> + <span style=\"color:blue\">+0.516</span> = <span style=\"color:blue; text-decoration:underline\">+0.813</span></div>"
      ],
      "text/plain": [
       "<IPython.core.display.Markdown object>"
      ]
     },
     "metadata": {},
     "output_type": "display_data"
    },
    {
     "name": "stdout",
     "output_type": "stream",
     "text": [
      "w1=+0.407, w2=+0.408, w3=+1.000, w4=+0.486, w5=+0.320\n",
      "\n"
     ]
    },
    {
     "data": {
      "text/markdown": [
       "<div style=\"font-weight:bold\">Iteration 3</div>"
      ],
      "text/plain": [
       "<IPython.core.display.Markdown object>"
      ]
     },
     "metadata": {},
     "output_type": "display_data"
    },
    {
     "name": "stdout",
     "output_type": "stream",
     "text": [
      "Output: [+0.658, +0.500, +0.549, +0.701, +0.549, +0.598, +0.435, +0.286]\n",
      "Target: [+0.500, +0.500, +0.731, +0.731, +0.731, +0.500, +0.500, +0.500]\n",
      "Memory: [+0.656, +0.000, +0.198, +0.854, +0.198, +0.396, -0.261, -0.917]\n",
      "Input : [+0.815, -0.815, +0.407, +0.815, -0.815, +0.408, -0.815, -0.815]\n",
      "Gate  : [+0.806, +0.806, +0.486, +0.806, +0.806, +0.486, +0.806, +0.806]\n"
     ]
    },
    {
     "data": {
      "text/markdown": [
       "<div>Loss: <span style=\"font-weight:bold\">0.32491</span>= <span style=\"font-family:monaco\">0.053 + 0.000 + 0.070 + 0.002 + 0.070 + 0.019 + 0.008 + 0.102</span></div><div style=\"font-family:monaco; font-size:12px\">dL/dw1 = <span style=\"color:blue\">+0.128</span> + <span style=\"color:blue\">+0.000</span> + <span style=\"color:red\">-0.088</span> + <span style=\"color:red\">-0.038</span> + <span style=\"color:red\">-0.088</span> + <span style=\"color:blue\">+0.047</span> + <span style=\"color:blue\">+0.021</span> + <span style=\"color:blue\">+0.241</span> = <span style=\"color:blue; text-decoration:underline\">+0.222</span></div><div style=\"font-family:monaco; font-size:12px\">dL/dw2 = <span style=\"color:blue\">+0.128</span> + <span style=\"color:blue\">+0.000</span> + <span style=\"color:blue\">-0.000</span> + <span style=\"color:red\">-0.024</span> + <span style=\"color:blue\">-0.000</span> + <span style=\"color:blue\">+0.047</span> + <span style=\"color:blue\">+0.021</span> + <span style=\"color:blue\">+0.241</span> = <span style=\"color:blue; text-decoration:underline\">+0.413</span></div><div style=\"font-family:monaco; font-size:12px\">dL/dw4 = <span style=\"color:blue\">+0.129</span> + <span style=\"color:blue\">+0.000</span> + <span style=\"color:red\">-0.074</span> + <span style=\"color:red\">-0.036</span> + <span style=\"color:red\">-0.074</span> + <span style=\"color:blue\">+0.080</span> + <span style=\"color:red\">-0.000</span> + <span style=\"color:blue\">+0.175</span> = <span style=\"color:blue; text-decoration:underline\">+0.199</span></div><div style=\"font-family:monaco; font-size:12px\">dL/dw5 = <span style=\"color:blue\">+0.129</span> + <span style=\"color:blue\">+0.000</span> + <span style=\"color:blue\">-0.000</span> + <span style=\"color:red\">-0.024</span> + <span style=\"color:blue\">-0.000</span> + <span style=\"color:blue\">+0.000</span> + <span style=\"color:blue\">+0.053</span> + <span style=\"color:blue\">+0.350</span> = <span style=\"color:blue; text-decoration:underline\">+0.507</span></div>"
      ],
      "text/plain": [
       "<IPython.core.display.Markdown object>"
      ]
     },
     "metadata": {},
     "output_type": "display_data"
    },
    {
     "name": "stdout",
     "output_type": "stream",
     "text": [
      "w1=+0.385, w2=+0.366, w3=+1.000, w4=+0.466, w5=+0.269\n",
      "\n"
     ]
    },
    {
     "data": {
      "text/markdown": [
       "<div style=\"font-weight:bold\">Iteration 4</div>"
      ],
      "text/plain": [
       "<IPython.core.display.Markdown object>"
      ]
     },
     "metadata": {},
     "output_type": "display_data"
    },
    {
     "name": "stdout",
     "output_type": "stream",
     "text": [
      "Output: [+0.635, +0.500, +0.545, +0.675, +0.545, +0.587, +0.450, +0.320]\n",
      "Target: [+0.500, +0.500, +0.731, +0.731, +0.731, +0.500, +0.500, +0.500]\n",
      "Memory: [+0.552, +0.000, +0.179, +0.731, +0.179, +0.350, -0.202, -0.754]\n",
      "Input : [+0.751, -0.751, +0.385, +0.751, -0.751, +0.366, -0.751, -0.751]\n",
      "Gate  : [+0.735, +0.735, +0.466, +0.735, +0.735, +0.466, +0.735, +0.735]\n"
     ]
    },
    {
     "data": {
      "text/markdown": [
       "<div>Loss: <span style=\"font-weight:bold\">0.28193</span>= <span style=\"font-family:monaco\">0.038 + 0.000 + 0.074 + 0.007 + 0.074 + 0.015 + 0.005 + 0.070</span></div><div style=\"font-family:monaco; font-size:12px\">dL/dw1 = <span style=\"color:blue\">+0.099</span> + <span style=\"color:blue\">+0.000</span> + <span style=\"color:red\">-0.087</span> + <span style=\"color:red\">-0.067</span> + <span style=\"color:red\">-0.087</span> + <span style=\"color:blue\">+0.040</span> + <span style=\"color:blue\">+0.014</span> + <span style=\"color:blue\">+0.181</span> = <span style=\"color:blue; text-decoration:underline\">+0.093</span></div><div style=\"font-family:monaco; font-size:12px\">dL/dw2 = <span style=\"color:blue\">+0.099</span> + <span style=\"color:blue\">+0.000</span> + <span style=\"color:blue\">-0.000</span> + <span style=\"color:red\">-0.041</span> + <span style=\"color:blue\">-0.000</span> + <span style=\"color:blue\">+0.040</span> + <span style=\"color:blue\">+0.014</span> + <span style=\"color:blue\">+0.181</span> = <span style=\"color:blue; text-decoration:underline\">+0.293</span></div><div style=\"font-family:monaco; font-size:12px\">dL/dw4 = <span style=\"color:blue\">+0.101</span> + <span style=\"color:blue\">+0.000</span> + <span style=\"color:red\">-0.072</span> + <span style=\"color:red\">-0.064</span> + <span style=\"color:red\">-0.072</span> + <span style=\"color:blue\">+0.065</span> + <span style=\"color:blue\">-0.000</span> + <span style=\"color:blue\">+0.135</span> = <span style=\"color:blue; text-decoration:underline\">+0.095</span></div><div style=\"font-family:monaco; font-size:12px\">dL/dw5 = <span style=\"color:blue\">+0.101</span> + <span style=\"color:blue\">+0.000</span> + <span style=\"color:blue\">-0.000</span> + <span style=\"color:red\">-0.042</span> + <span style=\"color:blue\">-0.000</span> + <span style=\"color:blue\">+0.000</span> + <span style=\"color:blue\">+0.038</span> + <span style=\"color:blue\">+0.271</span> = <span style=\"color:blue; text-decoration:underline\">+0.368</span></div>"
      ],
      "text/plain": [
       "<IPython.core.display.Markdown object>"
      ]
     },
     "metadata": {},
     "output_type": "display_data"
    },
    {
     "name": "stdout",
     "output_type": "stream",
     "text": [
      "w1=+0.376, w2=+0.337, w3=+1.000, w4=+0.456, w5=+0.232\n",
      "\n"
     ]
    },
    {
     "data": {
      "text/markdown": [
       "<div style=\"font-weight:bold\">Iteration 5</div>"
      ],
      "text/plain": [
       "<IPython.core.display.Markdown object>"
      ]
     },
     "metadata": {},
     "output_type": "display_data"
    },
    {
     "name": "stdout",
     "output_type": "stream",
     "text": [
      "Output: [+0.620, +0.500, +0.543, +0.660, +0.543, +0.581, +0.459, +0.342]\n",
      "Target: [+0.500, +0.500, +0.731, +0.731, +0.731, +0.500, +0.500, +0.500]\n",
      "Memory: [+0.491, +0.000, +0.171, +0.662, +0.171, +0.325, -0.166, -0.657]\n",
      "Input : [+0.713, -0.713, +0.376, +0.713, -0.713, +0.337, -0.713, -0.713]\n",
      "Gate  : [+0.689, +0.689, +0.456, +0.689, +0.689, +0.456, +0.689, +0.689]\n"
     ]
    },
    {
     "data": {
      "text/markdown": [
       "<div>Loss: <span style=\"font-weight:bold\">0.26115</span>= <span style=\"font-family:monaco\">0.030 + 0.000 + 0.075 + 0.012 + 0.075 + 0.013 + 0.003 + 0.053</span></div><div style=\"font-family:monaco; font-size:12px\">dL/dw1 = <span style=\"color:blue\">+0.083</span> + <span style=\"color:blue\">+0.000</span> + <span style=\"color:red\">-0.086</span> + <span style=\"color:red\">-0.082</span> + <span style=\"color:red\">-0.086</span> + <span style=\"color:blue\">+0.037</span> + <span style=\"color:blue\">+0.010</span> + <span style=\"color:blue\">+0.146</span> = <span style=\"color:blue; text-decoration:underline\">+0.022</span></div><div style=\"font-family:monaco; font-size:12px\">dL/dw2 = <span style=\"color:blue\">+0.083</span> + <span style=\"color:blue\">+0.000</span> + <span style=\"color:blue\">-0.000</span> + <span style=\"color:red\">-0.049</span> + <span style=\"color:blue\">-0.000</span> + <span style=\"color:blue\">+0.037</span> + <span style=\"color:blue\">+0.010</span> + <span style=\"color:blue\">+0.146</span> = <span style=\"color:blue; text-decoration:underline\">+0.226</span></div><div style=\"font-family:monaco; font-size:12px\">dL/dw4 = <span style=\"color:blue\">+0.086</span> + <span style=\"color:blue\">+0.000</span> + <span style=\"color:red\">-0.071</span> + <span style=\"color:red\">-0.078</span> + <span style=\"color:red\">-0.071</span> + <span style=\"color:blue\">+0.057</span> + <span style=\"color:blue\">+0.000</span> + <span style=\"color:blue\">+0.113</span> = <span style=\"color:blue; text-decoration:underline\">+0.037</span></div><div style=\"font-family:monaco; font-size:12px\">dL/dw5 = <span style=\"color:blue\">+0.086</span> + <span style=\"color:blue\">+0.000</span> + <span style=\"color:blue\">-0.000</span> + <span style=\"color:red\">-0.051</span> + <span style=\"color:blue\">-0.000</span> + <span style=\"color:blue\">+0.000</span> + <span style=\"color:blue\">+0.029</span> + <span style=\"color:blue\">+0.226</span> = <span style=\"color:blue; text-decoration:underline\">+0.290</span></div>"
      ],
      "text/plain": [
       "<IPython.core.display.Markdown object>"
      ]
     },
     "metadata": {},
     "output_type": "display_data"
    },
    {
     "name": "stdout",
     "output_type": "stream",
     "text": [
      "w1=+0.373, w2=+0.315, w3=+1.000, w4=+0.453, w5=+0.203\n",
      "\n"
     ]
    },
    {
     "data": {
      "text/markdown": [
       "<div style=\"font-weight:bold\">Iteration 6</div>"
      ],
      "text/plain": [
       "<IPython.core.display.Markdown object>"
      ]
     },
     "metadata": {},
     "output_type": "display_data"
    },
    {
     "name": "stdout",
     "output_type": "stream",
     "text": [
      "Output: [+0.611, +0.500, +0.542, +0.650, +0.542, +0.577, +0.465, +0.356]\n",
      "Target: [+0.500, +0.500, +0.731, +0.731, +0.731, +0.500, +0.500, +0.500]\n",
      "Memory: [+0.451, +0.000, +0.169, +0.620, +0.169, +0.311, -0.140, -0.591]\n",
      "Input : [+0.688, -0.688, +0.373, +0.688, -0.688, +0.315, -0.688, -0.688]\n",
      "Gate  : [+0.656, +0.656, +0.453, +0.656, +0.656, +0.453, +0.656, +0.656]\n"
     ]
    },
    {
     "data": {
      "text/markdown": [
       "<div>Loss: <span style=\"font-weight:bold\">0.24872</span>= <span style=\"font-family:monaco\">0.025 + 0.000 + 0.075 + 0.015 + 0.075 + 0.012 + 0.002 + 0.043</span></div><div style=\"font-family:monaco; font-size:12px\">dL/dw1 = <span style=\"color:blue\">+0.073</span> + <span style=\"color:blue\">+0.000</span> + <span style=\"color:red\">-0.085</span> + <span style=\"color:red\">-0.090</span> + <span style=\"color:red\">-0.085</span> + <span style=\"color:blue\">+0.035</span> + <span style=\"color:blue\">+0.007</span> + <span style=\"color:blue\">+0.123</span> = <span style=\"color:red; text-decoration:underline\">-0.022</span></div><div style=\"font-family:monaco; font-size:12px\">dL/dw2 = <span style=\"color:blue\">+0.073</span> + <span style=\"color:blue\">+0.000</span> + <span style=\"color:blue\">-0.000</span> + <span style=\"color:red\">-0.053</span> + <span style=\"color:blue\">-0.000</span> + <span style=\"color:blue\">+0.035</span> + <span style=\"color:blue\">+0.007</span> + <span style=\"color:blue\">+0.123</span> = <span style=\"color:blue; text-decoration:underline\">+0.185</span></div><div style=\"font-family:monaco; font-size:12px\">dL/dw4 = <span style=\"color:blue\">+0.076</span> + <span style=\"color:blue\">+0.000</span> + <span style=\"color:red\">-0.071</span> + <span style=\"color:red\">-0.086</span> + <span style=\"color:red\">-0.071</span> + <span style=\"color:blue\">+0.053</span> + <span style=\"color:blue\">-0.000</span> + <span style=\"color:blue\">+0.099</span> = <span style=\"color:blue; text-decoration:underline\">+0.001</span></div><div style=\"font-family:monaco; font-size:12px\">dL/dw5 = <span style=\"color:blue\">+0.076</span> + <span style=\"color:blue\">+0.000</span> + <span style=\"color:blue\">-0.000</span> + <span style=\"color:red\">-0.056</span> + <span style=\"color:blue\">-0.000</span> + <span style=\"color:blue\">+0.000</span> + <span style=\"color:blue\">+0.024</span> + <span style=\"color:blue\">+0.198</span> = <span style=\"color:blue; text-decoration:underline\">+0.242</span></div>"
      ],
      "text/plain": [
       "<IPython.core.display.Markdown object>"
      ]
     },
     "metadata": {},
     "output_type": "display_data"
    },
    {
     "name": "stdout",
     "output_type": "stream",
     "text": [
      "w1=+0.376, w2=+0.296, w3=+1.000, w4=+0.452, w5=+0.179\n",
      "\n"
     ]
    },
    {
     "data": {
      "text/markdown": [
       "<div style=\"font-weight:bold\">Iteration 7</div>"
      ],
      "text/plain": [
       "<IPython.core.display.Markdown object>"
      ]
     },
     "metadata": {},
     "output_type": "display_data"
    },
    {
     "name": "stdout",
     "output_type": "stream",
     "text": [
      "Output: [+0.604, +0.500, +0.542, +0.644, +0.542, +0.575, +0.470, +0.367]\n",
      "Target: [+0.500, +0.500, +0.731, +0.731, +0.731, +0.500, +0.500, +0.500]\n",
      "Memory: [+0.424, +0.000, +0.170, +0.594, +0.170, +0.304, -0.120, -0.545]\n",
      "Input : [+0.672, -0.672, +0.376, +0.672, -0.672, +0.296, -0.672, -0.672]\n",
      "Gate  : [+0.631, +0.631, +0.452, +0.631, +0.631, +0.452, +0.631, +0.631]\n"
     ]
    },
    {
     "data": {
      "text/markdown": [
       "<div>Loss: <span style=\"font-weight:bold\">0.23997</span>= <span style=\"font-family:monaco\">0.022 + 0.000 + 0.075 + 0.017 + 0.075 + 0.011 + 0.002 + 0.037</span></div><div style=\"font-family:monaco; font-size:12px\">dL/dw1 = <span style=\"color:blue\">+0.066</span> + <span style=\"color:blue\">+0.000</span> + <span style=\"color:red\">-0.085</span> + <span style=\"color:red\">-0.094</span> + <span style=\"color:red\">-0.085</span> + <span style=\"color:blue\">+0.034</span> + <span style=\"color:blue\">+0.005</span> + <span style=\"color:blue\">+0.108</span> = <span style=\"color:red; text-decoration:underline\">-0.052</span></div><div style=\"font-family:monaco; font-size:12px\">dL/dw2 = <span style=\"color:blue\">+0.066</span> + <span style=\"color:blue\">+0.000</span> + <span style=\"color:blue\">-0.000</span> + <span style=\"color:red\">-0.055</span> + <span style=\"color:blue\">-0.000</span> + <span style=\"color:blue\">+0.034</span> + <span style=\"color:blue\">+0.005</span> + <span style=\"color:blue\">+0.108</span> = <span style=\"color:blue; text-decoration:underline\">+0.158</span></div><div style=\"font-family:monaco; font-size:12px\">dL/dw4 = <span style=\"color:blue\">+0.070</span> + <span style=\"color:blue\">+0.000</span> + <span style=\"color:red\">-0.071</span> + <span style=\"color:red\">-0.091</span> + <span style=\"color:red\">-0.071</span> + <span style=\"color:blue\">+0.051</span> + <span style=\"color:blue\">-0.000</span> + <span style=\"color:blue\">+0.089</span> = <span style=\"color:red; text-decoration:underline\">-0.023</span></div><div style=\"font-family:monaco; font-size:12px\">dL/dw5 = <span style=\"color:blue\">+0.070</span> + <span style=\"color:blue\">+0.000</span> + <span style=\"color:blue\">-0.000</span> + <span style=\"color:red\">-0.058</span> + <span style=\"color:blue\">-0.000</span> + <span style=\"color:blue\">+0.000</span> + <span style=\"color:blue\">+0.020</span> + <span style=\"color:blue\">+0.178</span> = <span style=\"color:blue; text-decoration:underline\">+0.211</span></div>"
      ],
      "text/plain": [
       "<IPython.core.display.Markdown object>"
      ]
     },
     "metadata": {},
     "output_type": "display_data"
    },
    {
     "name": "stdout",
     "output_type": "stream",
     "text": [
      "w1=+0.381, w2=+0.280, w3=+1.000, w4=+0.455, w5=+0.158\n",
      "\n"
     ]
    },
    {
     "data": {
      "text/markdown": [
       "<div style=\"font-weight:bold\">Iteration 8</div>"
      ],
      "text/plain": [
       "<IPython.core.display.Markdown object>"
      ]
     },
     "metadata": {},
     "output_type": "display_data"
    },
    {
     "name": "stdout",
     "output_type": "stream",
     "text": [
      "Output: [+0.600, +0.500, +0.543, +0.641, +0.543, +0.575, +0.474, +0.375]\n",
      "Target: [+0.500, +0.500, +0.731, +0.731, +0.731, +0.500, +0.500, +0.500]\n",
      "Memory: [+0.405, +0.000, +0.173, +0.578, +0.173, +0.301, -0.104, -0.510]\n",
      "Input : [+0.661, -0.661, +0.381, +0.661, -0.661, +0.280, -0.661, -0.661]\n",
      "Gate  : [+0.613, +0.613, +0.455, +0.613, +0.613, +0.455, +0.613, +0.613]\n"
     ]
    },
    {
     "data": {
      "text/markdown": [
       "<div>Loss: <span style=\"font-weight:bold\">0.23302</span>= <span style=\"font-family:monaco\">0.020 + 0.000 + 0.075 + 0.019 + 0.075 + 0.011 + 0.001 + 0.032</span></div><div style=\"font-family:monaco; font-size:12px\">dL/dw1 = <span style=\"color:blue\">+0.061</span> + <span style=\"color:blue\">+0.000</span> + <span style=\"color:red\">-0.085</span> + <span style=\"color:red\">-0.097</span> + <span style=\"color:red\">-0.085</span> + <span style=\"color:blue\">+0.034</span> + <span style=\"color:blue\">+0.004</span> + <span style=\"color:blue\">+0.096</span> = <span style=\"color:red; text-decoration:underline\">-0.072</span></div><div style=\"font-family:monaco; font-size:12px\">dL/dw2 = <span style=\"color:blue\">+0.061</span> + <span style=\"color:blue\">+0.000</span> + <span style=\"color:blue\">-0.000</span> + <span style=\"color:red\">-0.055</span> + <span style=\"color:blue\">-0.000</span> + <span style=\"color:blue\">+0.034</span> + <span style=\"color:blue\">+0.004</span> + <span style=\"color:blue\">+0.096</span> = <span style=\"color:blue; text-decoration:underline\">+0.140</span></div><div style=\"font-family:monaco; font-size:12px\">dL/dw4 = <span style=\"color:blue\">+0.066</span> + <span style=\"color:blue\">+0.000</span> + <span style=\"color:red\">-0.072</span> + <span style=\"color:red\">-0.094</span> + <span style=\"color:red\">-0.072</span> + <span style=\"color:blue\">+0.049</span> + <span style=\"color:blue\">+0.000</span> + <span style=\"color:blue\">+0.082</span> = <span style=\"color:red; text-decoration:underline\">-0.040</span></div><div style=\"font-family:monaco; font-size:12px\">dL/dw5 = <span style=\"color:blue\">+0.066</span> + <span style=\"color:blue\">+0.000</span> + <span style=\"color:blue\">-0.000</span> + <span style=\"color:red\">-0.060</span> + <span style=\"color:blue\">-0.000</span> + <span style=\"color:blue\">+0.000</span> + <span style=\"color:blue\">+0.017</span> + <span style=\"color:blue\">+0.165</span> = <span style=\"color:blue; text-decoration:underline\">+0.188</span></div>"
      ],
      "text/plain": [
       "<IPython.core.display.Markdown object>"
      ]
     },
     "metadata": {},
     "output_type": "display_data"
    },
    {
     "name": "stdout",
     "output_type": "stream",
     "text": [
      "w1=+0.388, w2=+0.266, w3=+1.000, w4=+0.459, w5=+0.139\n",
      "\n"
     ]
    },
    {
     "data": {
      "text/markdown": [
       "<div style=\"font-weight:bold\">Iteration 9</div>"
      ],
      "text/plain": [
       "<IPython.core.display.Markdown object>"
      ]
     },
     "metadata": {},
     "output_type": "display_data"
    },
    {
     "name": "stdout",
     "output_type": "stream",
     "text": [
      "Output: [+0.597, +0.500, +0.544, +0.639, +0.544, +0.574, +0.477, +0.382]\n",
      "Target: [+0.500, +0.500, +0.731, +0.731, +0.731, +0.500, +0.500, +0.500]\n",
      "Memory: [+0.391, +0.000, +0.178, +0.569, +0.178, +0.300, -0.091, -0.482]\n",
      "Input : [+0.654, -0.654, +0.388, +0.654, -0.654, +0.266, -0.654, -0.654]\n",
      "Gate  : [+0.598, +0.598, +0.459, +0.598, +0.598, +0.459, +0.598, +0.598]\n"
     ]
    },
    {
     "data": {
      "text/markdown": [
       "<div>Loss: <span style=\"font-weight:bold\">0.22701</span>= <span style=\"font-family:monaco\">0.019 + 0.000 + 0.074 + 0.019 + 0.074 + 0.011 + 0.001 + 0.029</span></div><div style=\"font-family:monaco; font-size:12px\">dL/dw1 = <span style=\"color:blue\">+0.058</span> + <span style=\"color:blue\">+0.000</span> + <span style=\"color:red\">-0.086</span> + <span style=\"color:red\">-0.098</span> + <span style=\"color:red\">-0.086</span> + <span style=\"color:blue\">+0.034</span> + <span style=\"color:blue\">+0.003</span> + <span style=\"color:blue\">+0.087</span> = <span style=\"color:red; text-decoration:underline\">-0.087</span></div><div style=\"font-family:monaco; font-size:12px\">dL/dw2 = <span style=\"color:blue\">+0.058</span> + <span style=\"color:blue\">+0.000</span> + <span style=\"color:blue\">-0.000</span> + <span style=\"color:red\">-0.055</span> + <span style=\"color:blue\">-0.000</span> + <span style=\"color:blue\">+0.034</span> + <span style=\"color:blue\">+0.003</span> + <span style=\"color:blue\">+0.087</span> = <span style=\"color:blue; text-decoration:underline\">+0.127</span></div><div style=\"font-family:monaco; font-size:12px\">dL/dw4 = <span style=\"color:blue\">+0.063</span> + <span style=\"color:blue\">+0.000</span> + <span style=\"color:red\">-0.072</span> + <span style=\"color:red\">-0.096</span> + <span style=\"color:red\">-0.072</span> + <span style=\"color:blue\">+0.049</span> + <span style=\"color:blue\">-0.000</span> + <span style=\"color:blue\">+0.077</span> = <span style=\"color:red; text-decoration:underline\">-0.052</span></div><div style=\"font-family:monaco; font-size:12px\">dL/dw5 = <span style=\"color:blue\">+0.063</span> + <span style=\"color:blue\">+0.000</span> + <span style=\"color:blue\">-0.000</span> + <span style=\"color:red\">-0.061</span> + <span style=\"color:blue\">-0.000</span> + <span style=\"color:blue\">+0.000</span> + <span style=\"color:blue\">+0.015</span> + <span style=\"color:blue\">+0.155</span> = <span style=\"color:blue; text-decoration:underline\">+0.172</span></div>"
      ],
      "text/plain": [
       "<IPython.core.display.Markdown object>"
      ]
     },
     "metadata": {},
     "output_type": "display_data"
    },
    {
     "name": "stdout",
     "output_type": "stream",
     "text": [
      "w1=+0.397, w2=+0.254, w3=+1.000, w4=+0.464, w5=+0.122\n",
      "\n"
     ]
    },
    {
     "data": {
      "text/markdown": [
       "<div style=\"font-weight:bold\">Iteration 10</div>"
      ],
      "text/plain": [
       "<IPython.core.display.Markdown object>"
      ]
     },
     "metadata": {},
     "output_type": "display_data"
    },
    {
     "name": "stdout",
     "output_type": "stream",
     "text": [
      "Output: [+0.594, +0.500, +0.546, +0.638, +0.546, +0.575, +0.480, +0.387]\n",
      "Target: [+0.500, +0.500, +0.731, +0.731, +0.731, +0.500, +0.500, +0.500]\n",
      "Memory: [+0.381, +0.000, +0.184, +0.565, +0.184, +0.302, -0.079, -0.460]\n",
      "Input : [+0.650, -0.650, +0.397, +0.650, -0.650, +0.254, -0.650, -0.650]\n",
      "Gate  : [+0.586, +0.586, +0.464, +0.586, +0.586, +0.464, +0.586, +0.586]\n"
     ]
    },
    {
     "data": {
      "text/markdown": [
       "<div>Loss: <span style=\"font-weight:bold\">0.22150</span>= <span style=\"font-family:monaco\">0.018 + 0.000 + 0.073 + 0.020 + 0.073 + 0.011 + 0.001 + 0.026</span></div><div style=\"font-family:monaco; font-size:12px\">dL/dw1 = <span style=\"color:blue\">+0.055</span> + <span style=\"color:blue\">+0.000</span> + <span style=\"color:red\">-0.086</span> + <span style=\"color:red\">-0.098</span> + <span style=\"color:red\">-0.086</span> + <span style=\"color:blue\">+0.035</span> + <span style=\"color:blue\">+0.002</span> + <span style=\"color:blue\">+0.080</span> = <span style=\"color:red; text-decoration:underline\">-0.098</span></div><div style=\"font-family:monaco; font-size:12px\">dL/dw2 = <span style=\"color:blue\">+0.055</span> + <span style=\"color:blue\">+0.000</span> + <span style=\"color:blue\">-0.000</span> + <span style=\"color:red\">-0.055</span> + <span style=\"color:blue\">-0.000</span> + <span style=\"color:blue\">+0.035</span> + <span style=\"color:blue\">+0.002</span> + <span style=\"color:blue\">+0.080</span> = <span style=\"color:blue; text-decoration:underline\">+0.118</span></div><div style=\"font-family:monaco; font-size:12px\">dL/dw4 = <span style=\"color:blue\">+0.061</span> + <span style=\"color:blue\">+0.000</span> + <span style=\"color:red\">-0.073</span> + <span style=\"color:red\">-0.098</span> + <span style=\"color:red\">-0.073</span> + <span style=\"color:blue\">+0.049</span> + <span style=\"color:blue\">+0.000</span> + <span style=\"color:blue\">+0.074</span> = <span style=\"color:red; text-decoration:underline\">-0.061</span></div><div style=\"font-family:monaco; font-size:12px\">dL/dw5 = <span style=\"color:blue\">+0.061</span> + <span style=\"color:blue\">+0.000</span> + <span style=\"color:blue\">-0.000</span> + <span style=\"color:red\">-0.061</span> + <span style=\"color:blue\">-0.000</span> + <span style=\"color:blue\">+0.000</span> + <span style=\"color:blue\">+0.013</span> + <span style=\"color:blue\">+0.147</span> = <span style=\"color:blue; text-decoration:underline\">+0.160</span></div>"
      ],
      "text/plain": [
       "<IPython.core.display.Markdown object>"
      ]
     },
     "metadata": {},
     "output_type": "display_data"
    },
    {
     "name": "stdout",
     "output_type": "stream",
     "text": [
      "w1=+0.406, w2=+0.242, w3=+1.000, w4=+0.470, w5=+0.106\n",
      "\n"
     ]
    },
    {
     "data": {
      "text/markdown": [
       "<div style=\"font-weight:bold\">Iteration 11</div>"
      ],
      "text/plain": [
       "<IPython.core.display.Markdown object>"
      ]
     },
     "metadata": {},
     "output_type": "display_data"
    },
    {
     "name": "stdout",
     "output_type": "stream",
     "text": [
      "Output: [+0.592, +0.500, +0.548, +0.637, +0.548, +0.576, +0.483, +0.391]\n",
      "Target: [+0.500, +0.500, +0.731, +0.731, +0.731, +0.500, +0.500, +0.500]\n",
      "Memory: [+0.373, +0.000, +0.191, +0.564, +0.191, +0.305, -0.069, -0.442]\n",
      "Input : [+0.648, -0.648, +0.406, +0.648, -0.648, +0.242, -0.648, -0.648]\n",
      "Gate  : [+0.576, +0.576, +0.470, +0.576, +0.576, +0.470, +0.576, +0.576]\n"
     ]
    },
    {
     "data": {
      "text/markdown": [
       "<div>Loss: <span style=\"font-weight:bold\">0.21627</span>= <span style=\"font-family:monaco\">0.017 + 0.000 + 0.071 + 0.020 + 0.071 + 0.012 + 0.001 + 0.024</span></div><div style=\"font-family:monaco; font-size:12px\">dL/dw1 = <span style=\"color:blue\">+0.053</span> + <span style=\"color:blue\">+0.000</span> + <span style=\"color:red\">-0.086</span> + <span style=\"color:red\">-0.098</span> + <span style=\"color:red\">-0.086</span> + <span style=\"color:blue\">+0.036</span> + <span style=\"color:blue\">+0.002</span> + <span style=\"color:blue\">+0.074</span> = <span style=\"color:red; text-decoration:underline\">-0.106</span></div><div style=\"font-family:monaco; font-size:12px\">dL/dw2 = <span style=\"color:blue\">+0.053</span> + <span style=\"color:blue\">+0.000</span> + <span style=\"color:blue\">-0.000</span> + <span style=\"color:red\">-0.054</span> + <span style=\"color:blue\">-0.000</span> + <span style=\"color:blue\">+0.036</span> + <span style=\"color:blue\">+0.002</span> + <span style=\"color:blue\">+0.074</span> = <span style=\"color:blue; text-decoration:underline\">+0.111</span></div><div style=\"font-family:monaco; font-size:12px\">dL/dw4 = <span style=\"color:blue\">+0.060</span> + <span style=\"color:blue\">+0.000</span> + <span style=\"color:red\">-0.075</span> + <span style=\"color:red\">-0.099</span> + <span style=\"color:red\">-0.075</span> + <span style=\"color:blue\">+0.049</span> + <span style=\"color:blue\">-0.000</span> + <span style=\"color:blue\">+0.070</span> = <span style=\"color:red; text-decoration:underline\">-0.069</span></div><div style=\"font-family:monaco; font-size:12px\">dL/dw5 = <span style=\"color:blue\">+0.060</span> + <span style=\"color:blue\">+0.000</span> + <span style=\"color:blue\">-0.000</span> + <span style=\"color:red\">-0.061</span> + <span style=\"color:blue\">-0.000</span> + <span style=\"color:blue\">+0.000</span> + <span style=\"color:blue\">+0.011</span> + <span style=\"color:blue\">+0.141</span> = <span style=\"color:blue; text-decoration:underline\">+0.151</span></div>"
      ],
      "text/plain": [
       "<IPython.core.display.Markdown object>"
      ]
     },
     "metadata": {},
     "output_type": "display_data"
    },
    {
     "name": "stdout",
     "output_type": "stream",
     "text": [
      "w1=+0.417, w2=+0.231, w3=+1.000, w4=+0.477, w5=+0.091\n",
      "\n"
     ]
    },
    {
     "data": {
      "text/markdown": [
       "<div style=\"font-weight:bold\">Iteration 12</div>"
      ],
      "text/plain": [
       "<IPython.core.display.Markdown object>"
      ]
     },
     "metadata": {},
     "output_type": "display_data"
    },
    {
     "name": "stdout",
     "output_type": "stream",
     "text": [
      "Output: [+0.591, +0.500, +0.550, +0.638, +0.550, +0.577, +0.485, +0.395]\n",
      "Target: [+0.500, +0.500, +0.731, +0.731, +0.731, +0.500, +0.500, +0.500]\n",
      "Memory: [+0.368, +0.000, +0.199, +0.567, +0.199, +0.309, -0.059, -0.427]\n",
      "Input : [+0.648, -0.648, +0.417, +0.648, -0.648, +0.231, -0.648, -0.648]\n",
      "Gate  : [+0.568, +0.568, +0.477, +0.568, +0.568, +0.477, +0.568, +0.568]\n"
     ]
    },
    {
     "data": {
      "text/markdown": [
       "<div>Loss: <span style=\"font-weight:bold\">0.21120</span>= <span style=\"font-family:monaco\">0.017 + 0.000 + 0.070 + 0.020 + 0.070 + 0.012 + 0.000 + 0.023</span></div><div style=\"font-family:monaco; font-size:12px\">dL/dw1 = <span style=\"color:blue\">+0.052</span> + <span style=\"color:blue\">+0.000</span> + <span style=\"color:red\">-0.087</span> + <span style=\"color:red\">-0.097</span> + <span style=\"color:red\">-0.087</span> + <span style=\"color:blue\">+0.037</span> + <span style=\"color:blue\">+0.001</span> + <span style=\"color:blue\">+0.069</span> = <span style=\"color:red; text-decoration:underline\">-0.112</span></div><div style=\"font-family:monaco; font-size:12px\">dL/dw2 = <span style=\"color:blue\">+0.052</span> + <span style=\"color:blue\">+0.000</span> + <span style=\"color:blue\">-0.000</span> + <span style=\"color:red\">-0.053</span> + <span style=\"color:blue\">-0.000</span> + <span style=\"color:blue\">+0.037</span> + <span style=\"color:blue\">+0.001</span> + <span style=\"color:blue\">+0.069</span> = <span style=\"color:blue; text-decoration:underline\">+0.106</span></div><div style=\"font-family:monaco; font-size:12px\">dL/dw4 = <span style=\"color:blue\">+0.059</span> + <span style=\"color:blue\">+0.000</span> + <span style=\"color:red\">-0.076</span> + <span style=\"color:red\">-0.099</span> + <span style=\"color:red\">-0.076</span> + <span style=\"color:blue\">+0.050</span> + <span style=\"color:red\">-0.000</span> + <span style=\"color:blue\">+0.068</span> = <span style=\"color:red; text-decoration:underline\">-0.074</span></div><div style=\"font-family:monaco; font-size:12px\">dL/dw5 = <span style=\"color:blue\">+0.059</span> + <span style=\"color:blue\">+0.000</span> + <span style=\"color:blue\">-0.000</span> + <span style=\"color:red\">-0.060</span> + <span style=\"color:blue\">-0.000</span> + <span style=\"color:blue\">+0.000</span> + <span style=\"color:blue\">+0.010</span> + <span style=\"color:blue\">+0.136</span> = <span style=\"color:blue; text-decoration:underline\">+0.144</span></div>"
      ],
      "text/plain": [
       "<IPython.core.display.Markdown object>"
      ]
     },
     "metadata": {},
     "output_type": "display_data"
    },
    {
     "name": "stdout",
     "output_type": "stream",
     "text": [
      "w1=+0.428, w2=+0.220, w3=+1.000, w4=+0.484, w5=+0.076\n",
      "\n"
     ]
    },
    {
     "data": {
      "text/markdown": [
       "<div style=\"font-weight:bold\">Iteration 13</div>"
      ],
      "text/plain": [
       "<IPython.core.display.Markdown object>"
      ]
     },
     "metadata": {},
     "output_type": "display_data"
    },
    {
     "name": "stdout",
     "output_type": "stream",
     "text": [
      "Output: [+0.590, +0.500, +0.552, +0.639, +0.552, +0.578, +0.488, +0.398]\n",
      "Target: [+0.500, +0.500, +0.731, +0.731, +0.731, +0.500, +0.500, +0.500]\n",
      "Memory: [+0.363, +0.000, +0.207, +0.571, +0.207, +0.314, -0.050, -0.413]\n",
      "Input : [+0.648, -0.648, +0.428, +0.648, -0.648, +0.220, -0.648, -0.648]\n",
      "Gate  : [+0.561, +0.561, +0.484, +0.561, +0.561, +0.484, +0.561, +0.561]\n"
     ]
    },
    {
     "data": {
      "text/markdown": [
       "<div>Loss: <span style=\"font-weight:bold\">0.20622</span>= <span style=\"font-family:monaco\">0.016 + 0.000 + 0.068 + 0.019 + 0.068 + 0.012 + 0.000 + 0.021</span></div><div style=\"font-family:monaco; font-size:12px\">dL/dw1 = <span style=\"color:blue\">+0.050</span> + <span style=\"color:blue\">+0.000</span> + <span style=\"color:red\">-0.087</span> + <span style=\"color:red\">-0.096</span> + <span style=\"color:red\">-0.087</span> + <span style=\"color:blue\">+0.038</span> + <span style=\"color:blue\">+0.001</span> + <span style=\"color:blue\">+0.065</span> = <span style=\"color:red; text-decoration:underline\">-0.116</span></div><div style=\"font-family:monaco; font-size:12px\">dL/dw2 = <span style=\"color:blue\">+0.050</span> + <span style=\"color:blue\">+0.000</span> + <span style=\"color:blue\">-0.000</span> + <span style=\"color:red\">-0.052</span> + <span style=\"color:blue\">-0.000</span> + <span style=\"color:blue\">+0.038</span> + <span style=\"color:blue\">+0.001</span> + <span style=\"color:blue\">+0.065</span> = <span style=\"color:blue; text-decoration:underline\">+0.102</span></div><div style=\"font-family:monaco; font-size:12px\">dL/dw4 = <span style=\"color:blue\">+0.058</span> + <span style=\"color:blue\">+0.000</span> + <span style=\"color:red\">-0.077</span> + <span style=\"color:red\">-0.099</span> + <span style=\"color:red\">-0.077</span> + <span style=\"color:blue\">+0.050</span> + <span style=\"color:blue\">-0.000</span> + <span style=\"color:blue\">+0.066</span> = <span style=\"color:red; text-decoration:underline\">-0.078</span></div><div style=\"font-family:monaco; font-size:12px\">dL/dw5 = <span style=\"color:blue\">+0.058</span> + <span style=\"color:blue\">+0.000</span> + <span style=\"color:blue\">-0.000</span> + <span style=\"color:red\">-0.060</span> + <span style=\"color:blue\">-0.000</span> + <span style=\"color:blue\">+0.000</span> + <span style=\"color:blue\">+0.008</span> + <span style=\"color:blue\">+0.132</span> = <span style=\"color:blue; text-decoration:underline\">+0.139</span></div>"
      ],
      "text/plain": [
       "<IPython.core.display.Markdown object>"
      ]
     },
     "metadata": {},
     "output_type": "display_data"
    },
    {
     "name": "stdout",
     "output_type": "stream",
     "text": [
      "w1=+0.440, w2=+0.210, w3=+1.000, w4=+0.492, w5=+0.063\n",
      "\n"
     ]
    },
    {
     "data": {
      "text/markdown": [
       "<div style=\"font-weight:bold\">Iteration 14</div>"
      ],
      "text/plain": [
       "<IPython.core.display.Markdown object>"
      ]
     },
     "metadata": {},
     "output_type": "display_data"
    },
    {
     "name": "stdout",
     "output_type": "stream",
     "text": [
      "Output: [+0.589, +0.500, +0.554, +0.640, +0.554, +0.579, +0.490, +0.401]\n",
      "Target: [+0.500, +0.500, +0.731, +0.731, +0.731, +0.500, +0.500, +0.500]\n",
      "Memory: [+0.360, +0.000, +0.216, +0.577, +0.216, +0.320, -0.041, -0.401]\n",
      "Input : [+0.650, -0.650, +0.440, +0.650, -0.650, +0.210, -0.650, -0.650]\n",
      "Gate  : [+0.555, +0.555, +0.492, +0.555, +0.555, +0.492, +0.555, +0.555]\n"
     ]
    },
    {
     "data": {
      "text/markdown": [
       "<div>Loss: <span style=\"font-weight:bold\">0.20131</span>= <span style=\"font-family:monaco\">0.016 + 0.000 + 0.067 + 0.019 + 0.067 + 0.013 + 0.000 + 0.020</span></div><div style=\"font-family:monaco; font-size:12px\">dL/dw1 = <span style=\"color:blue\">+0.049</span> + <span style=\"color:blue\">+0.000</span> + <span style=\"color:red\">-0.087</span> + <span style=\"color:red\">-0.095</span> + <span style=\"color:red\">-0.087</span> + <span style=\"color:blue\">+0.039</span> + <span style=\"color:blue\">+0.001</span> + <span style=\"color:blue\">+0.061</span> = <span style=\"color:red; text-decoration:underline\">-0.119</span></div><div style=\"font-family:monaco; font-size:12px\">dL/dw2 = <span style=\"color:blue\">+0.049</span> + <span style=\"color:blue\">+0.000</span> + <span style=\"color:blue\">-0.000</span> + <span style=\"color:red\">-0.050</span> + <span style=\"color:blue\">-0.000</span> + <span style=\"color:blue\">+0.039</span> + <span style=\"color:blue\">+0.001</span> + <span style=\"color:blue\">+0.061</span> = <span style=\"color:blue; text-decoration:underline\">+0.100</span></div><div style=\"font-family:monaco; font-size:12px\">dL/dw4 = <span style=\"color:blue\">+0.058</span> + <span style=\"color:blue\">+0.000</span> + <span style=\"color:red\">-0.078</span> + <span style=\"color:red\">-0.099</span> + <span style=\"color:red\">-0.078</span> + <span style=\"color:blue\">+0.051</span> + <span style=\"color:red\">-0.000</span> + <span style=\"color:blue\">+0.064</span> = <span style=\"color:red; text-decoration:underline\">-0.081</span></div><div style=\"font-family:monaco; font-size:12px\">dL/dw5 = <span style=\"color:blue\">+0.058</span> + <span style=\"color:blue\">+0.000</span> + <span style=\"color:blue\">-0.000</span> + <span style=\"color:red\">-0.059</span> + <span style=\"color:blue\">-0.000</span> + <span style=\"color:blue\">+0.000</span> + <span style=\"color:blue\">+0.007</span> + <span style=\"color:blue\">+0.129</span> = <span style=\"color:blue; text-decoration:underline\">+0.134</span></div>"
      ],
      "text/plain": [
       "<IPython.core.display.Markdown object>"
      ]
     },
     "metadata": {},
     "output_type": "display_data"
    },
    {
     "name": "stdout",
     "output_type": "stream",
     "text": [
      "w1=+0.452, w2=+0.200, w3=+1.000, w4=+0.500, w5=+0.049\n",
      "\n"
     ]
    },
    {
     "data": {
      "text/markdown": [
       "<div style=\"font-weight:bold\">Iteration 49</div>"
      ],
      "text/plain": [
       "<IPython.core.display.Markdown object>"
      ]
     },
     "metadata": {},
     "output_type": "display_data"
    },
    {
     "name": "stdout",
     "output_type": "stream",
     "text": [
      "Output: [+0.572, +0.500, +0.637, +0.701, +0.637, +0.608, +0.537, +0.464]\n",
      "Target: [+0.500, +0.500, +0.731, +0.731, +0.731, +0.500, +0.500, +0.500]\n",
      "Memory: [+0.291, +0.000, +0.561, +0.852, +0.561, +0.440, +0.149, -0.143]\n",
      "Input : [+0.595, -0.595, +0.759, +0.595, -0.595, -0.164, -0.595, -0.595]\n",
      "Gate  : [+0.490, +0.490, +0.739, +0.490, +0.490, +0.739, +0.490, +0.490]\n"
     ]
    },
    {
     "data": {
      "text/markdown": [
       "<div>Loss: <span style=\"font-weight:bold\">0.08241</span>= <span style=\"font-family:monaco\">0.011 + 0.000 + 0.020 + 0.002 + 0.020 + 0.024 + 0.003 + 0.003</span></div><div style=\"font-family:monaco; font-size:12px\">dL/dw1 = <span style=\"color:blue\">+0.035</span> + <span style=\"color:blue\">+0.000</span> + <span style=\"color:red\">-0.070</span> + <span style=\"color:red\">-0.037</span> + <span style=\"color:red\">-0.070</span> + <span style=\"color:blue\">+0.080</span> + <span style=\"color:blue\">+0.009</span> + <span style=\"color:blue\">+0.009</span> = <span style=\"color:red; text-decoration:underline\">-0.043</span></div><div style=\"font-family:monaco; font-size:12px\">dL/dw2 = <span style=\"color:blue\">+0.035</span> + <span style=\"color:blue\">+0.000</span> + <span style=\"color:blue\">-0.000</span> + <span style=\"color:red\">-0.015</span> + <span style=\"color:blue\">-0.000</span> + <span style=\"color:blue\">+0.080</span> + <span style=\"color:blue\">+0.009</span> + <span style=\"color:blue\">+0.009</span> = <span style=\"color:blue; text-decoration:underline\">+0.119</span></div><div style=\"font-family:monaco; font-size:12px\">dL/dw4 = <span style=\"color:blue\">+0.043</span> + <span style=\"color:blue\">+0.000</span> + <span style=\"color:red\">-0.072</span> + <span style=\"color:red\">-0.041</span> + <span style=\"color:red\">-0.072</span> + <span style=\"color:blue\">+0.064</span> + <span style=\"color:blue\">+0.000</span> + <span style=\"color:blue\">+0.021</span> = <span style=\"color:red; text-decoration:underline\">-0.055</span></div><div style=\"font-family:monaco; font-size:12px\">dL/dw5 = <span style=\"color:blue\">+0.043</span> + <span style=\"color:blue\">+0.000</span> + <span style=\"color:blue\">-0.000</span> + <span style=\"color:red\">-0.018</span> + <span style=\"color:blue\">-0.000</span> + <span style=\"color:blue\">+0.000</span> + <span style=\"color:red\">-0.022</span> + <span style=\"color:blue\">+0.042</span> = <span style=\"color:blue; text-decoration:underline\">+0.046</span></div>"
      ],
      "text/plain": [
       "<IPython.core.display.Markdown object>"
      ]
     },
     "metadata": {},
     "output_type": "display_data"
    },
    {
     "name": "stdout",
     "output_type": "stream",
     "text": [
      "w1=+0.763, w2=-0.175, w3=+1.000, w4=+0.745, w5=-0.254\n",
      "\n"
     ]
    },
    {
     "data": {
      "text/markdown": [
       "<div style=\"font-weight:bold\">Iteration 99</div>"
      ],
      "text/plain": [
       "<IPython.core.display.Markdown object>"
      ]
     },
     "metadata": {},
     "output_type": "display_data"
    },
    {
     "name": "stdout",
     "output_type": "stream",
     "text": [
      "Output: [+0.528, +0.500, +0.700, +0.723, +0.700, +0.543, +0.515, +0.487]\n",
      "Target: [+0.500, +0.500, +0.731, +0.731, +0.731, +0.500, +0.500, +0.500]\n",
      "Memory: [+0.111, +0.000, +0.848, +0.960, +0.848, +0.171, +0.059, -0.052]\n",
      "Input : [+0.168, -0.168, +0.837, +0.168, -0.168, -0.669, -0.168, -0.168]\n",
      "Gate  : [+0.661, +0.661, +1.013, +0.661, +0.661, +1.013, +0.661, +0.661]\n"
     ]
    },
    {
     "data": {
      "text/markdown": [
       "<div>Loss: <span style=\"font-weight:bold\">0.01076</span>= <span style=\"font-family:monaco\">0.002 + 0.000 + 0.002 + 0.000 + 0.002 + 0.004 + 0.000 + 0.000</span></div><div style=\"font-family:monaco; font-size:12px\">dL/dw1 = <span style=\"color:blue\">+0.018</span> + <span style=\"color:blue\">+0.000</span> + <span style=\"color:red\">-0.031</span> + <span style=\"color:red\">-0.013</span> + <span style=\"color:red\">-0.031</span> + <span style=\"color:blue\">+0.043</span> + <span style=\"color:blue\">+0.005</span> + <span style=\"color:blue\">+0.004</span> = <span style=\"color:red; text-decoration:underline\">-0.005</span></div><div style=\"font-family:monaco; font-size:12px\">dL/dw2 = <span style=\"color:blue\">+0.018</span> + <span style=\"color:blue\">+0.000</span> + <span style=\"color:blue\">-0.000</span> + <span style=\"color:red\">-0.005</span> + <span style=\"color:blue\">-0.000</span> + <span style=\"color:blue\">+0.043</span> + <span style=\"color:blue\">+0.005</span> + <span style=\"color:blue\">+0.004</span> = <span style=\"color:blue; text-decoration:underline\">+0.065</span></div><div style=\"font-family:monaco; font-size:12px\">dL/dw4 = <span style=\"color:blue\">+0.005</span> + <span style=\"color:blue\">+0.000</span> + <span style=\"color:red\">-0.026</span> + <span style=\"color:red\">-0.008</span> + <span style=\"color:red\">-0.026</span> + <span style=\"color:blue\">+0.007</span> + <span style=\"color:blue\">+0.000</span> + <span style=\"color:blue\">+0.002</span> = <span style=\"color:red; text-decoration:underline\">-0.046</span></div><div style=\"font-family:monaco; font-size:12px\">dL/dw5 = <span style=\"color:blue\">+0.005</span> + <span style=\"color:blue\">+0.000</span> + <span style=\"color:blue\">-0.000</span> + <span style=\"color:red\">-0.001</span> + <span style=\"color:blue\">-0.000</span> + <span style=\"color:blue\">+0.000</span> + <span style=\"color:red\">-0.002</span> + <span style=\"color:blue\">+0.004</span> = <span style=\"color:blue; text-decoration:underline\">+0.005</span></div>"
      ],
      "text/plain": [
       "<IPython.core.display.Markdown object>"
      ]
     },
     "metadata": {},
     "output_type": "display_data"
    },
    {
     "name": "stdout",
     "output_type": "stream",
     "text": [
      "w1=+0.838, w2=-0.675, w3=+1.000, w4=+1.018, w5=-0.353\n",
      "\n"
     ]
    },
    {
     "data": {
      "text/markdown": [
       "<div style=\"font-weight:bold\">Iteration 149</div>"
      ],
      "text/plain": [
       "<IPython.core.display.Markdown object>"
      ]
     },
     "metadata": {},
     "output_type": "display_data"
    },
    {
     "name": "stdout",
     "output_type": "stream",
     "text": [
      "Output: [+0.504, +0.500, +0.726, +0.730, +0.726, +0.506, +0.502, +0.498]\n",
      "Target: [+0.500, +0.500, +0.731, +0.731, +0.731, +0.500, +0.500, +0.500]\n",
      "Memory: [+0.017, +0.000, +0.975, +0.993, +0.975, +0.025, +0.008, -0.009]\n",
      "Input : [+0.022, -0.022, +0.856, +0.022, -0.022, -0.834, -0.022, -0.022]\n",
      "Gate  : [+0.780, +0.780, +1.140, +0.780, +0.780, +1.140, +0.780, +0.780]\n"
     ]
    },
    {
     "data": {
      "text/markdown": [
       "<div>Loss: <span style=\"font-weight:bold\">0.00026</span>= <span style=\"font-family:monaco\">0.000 + 0.000 + 0.000 + 0.000 + 0.000 + 0.000 + 0.000 + 0.000</span></div><div style=\"font-family:monaco; font-size:12px\">dL/dw1 = <span style=\"color:blue\">+0.003</span> + <span style=\"color:blue\">+0.000</span> + <span style=\"color:red\">-0.006</span> + <span style=\"color:red\">-0.003</span> + <span style=\"color:red\">-0.006</span> + <span style=\"color:blue\">+0.007</span> + <span style=\"color:blue\">+0.001</span> + <span style=\"color:blue\">+0.001</span> = <span style=\"color:red; text-decoration:underline\">-0.002</span></div><div style=\"font-family:monaco; font-size:12px\">dL/dw2 = <span style=\"color:blue\">+0.003</span> + <span style=\"color:blue\">+0.000</span> + <span style=\"color:blue\">-0.000</span> + <span style=\"color:red\">-0.001</span> + <span style=\"color:blue\">-0.000</span> + <span style=\"color:blue\">+0.007</span> + <span style=\"color:blue\">+0.001</span> + <span style=\"color:blue\">+0.001</span> = <span style=\"color:blue; text-decoration:underline\">+0.011</span></div><div style=\"font-family:monaco; font-size:12px\">dL/dw4 = <span style=\"color:blue\">+0.000</span> + <span style=\"color:blue\">+0.000</span> + <span style=\"color:red\">-0.004</span> + <span style=\"color:red\">-0.001</span> + <span style=\"color:red\">-0.004</span> + <span style=\"color:blue\">+0.000</span> + <span style=\"color:blue\">+0.000</span> + <span style=\"color:blue\">+0.000</span> = <span style=\"color:red; text-decoration:underline\">-0.009</span></div><div style=\"font-family:monaco; font-size:12px\">dL/dw5 = <span style=\"color:blue\">+0.000</span> + <span style=\"color:blue\">+0.000</span> + <span style=\"color:blue\">-0.000</span> + <span style=\"color:red\">-0.000</span> + <span style=\"color:blue\">-0.000</span> + <span style=\"color:blue\">+0.000</span> + <span style=\"color:red\">-0.000</span> + <span style=\"color:blue\">+0.000</span> = <span style=\"color:blue; text-decoration:underline\">+0.000</span></div>"
      ],
      "text/plain": [
       "<IPython.core.display.Markdown object>"
      ]
     },
     "metadata": {},
     "output_type": "display_data"
    },
    {
     "name": "stdout",
     "output_type": "stream",
     "text": [
      "w1=+0.856, w2=-0.835, w3=+1.000, w4=+1.141, w5=-0.360\n",
      "\n"
     ]
    },
    {
     "data": {
      "text/markdown": [
       "<div style=\"font-weight:bold\">Iteration 199</div>"
      ],
      "text/plain": [
       "<IPython.core.display.Markdown object>"
      ]
     },
     "metadata": {},
     "output_type": "display_data"
    },
    {
     "name": "stdout",
     "output_type": "stream",
     "text": [
      "Output: [+0.500, +0.500, +0.730, +0.731, +0.730, +0.501, +0.500, +0.500]\n",
      "Target: [+0.500, +0.500, +0.731, +0.731, +0.731, +0.500, +0.500, +0.500]\n",
      "Memory: [+0.002, +0.000, +0.997, +0.999, +0.997, +0.003, +0.001, -0.001]\n",
      "Input : [+0.002, -0.002, +0.859, +0.002, -0.002, -0.857, -0.002, -0.002]\n",
      "Gate  : [+0.800, +0.800, +1.160, +0.800, +0.800, +1.160, +0.800, +0.800]\n"
     ]
    },
    {
     "data": {
      "text/markdown": [
       "<div>Loss: <span style=\"font-weight:bold\">0.00000</span>= <span style=\"font-family:monaco\">0.000 + 0.000 + 0.000 + 0.000 + 0.000 + 0.000 + 0.000 + 0.000</span></div><div style=\"font-family:monaco; font-size:12px\">dL/dw1 = <span style=\"color:blue\">+0.000</span> + <span style=\"color:blue\">+0.000</span> + <span style=\"color:red\">-0.001</span> + <span style=\"color:red\">-0.000</span> + <span style=\"color:red\">-0.001</span> + <span style=\"color:blue\">+0.001</span> + <span style=\"color:blue\">+0.000</span> + <span style=\"color:blue\">+0.000</span> = <span style=\"color:red; text-decoration:underline\">-0.000</span></div><div style=\"font-family:monaco; font-size:12px\">dL/dw2 = <span style=\"color:blue\">+0.000</span> + <span style=\"color:blue\">+0.000</span> + <span style=\"color:blue\">-0.000</span> + <span style=\"color:red\">-0.000</span> + <span style=\"color:blue\">-0.000</span> + <span style=\"color:blue\">+0.001</span> + <span style=\"color:blue\">+0.000</span> + <span style=\"color:blue\">+0.000</span> = <span style=\"color:blue; text-decoration:underline\">+0.001</span></div><div style=\"font-family:monaco; font-size:12px\">dL/dw4 = <span style=\"color:blue\">+0.000</span> + <span style=\"color:blue\">+0.000</span> + <span style=\"color:red\">-0.000</span> + <span style=\"color:red\">-0.000</span> + <span style=\"color:red\">-0.000</span> + <span style=\"color:blue\">+0.000</span> + <span style=\"color:blue\">+0.000</span> + <span style=\"color:blue\">+0.000</span> = <span style=\"color:red; text-decoration:underline\">-0.001</span></div><div style=\"font-family:monaco; font-size:12px\">dL/dw5 = <span style=\"color:blue\">+0.000</span> + <span style=\"color:blue\">+0.000</span> + <span style=\"color:blue\">-0.000</span> + <span style=\"color:red\">-0.000</span> + <span style=\"color:blue\">-0.000</span> + <span style=\"color:blue\">+0.000</span> + <span style=\"color:red\">-0.000</span> + <span style=\"color:blue\">+0.000</span> = <span style=\"color:blue; text-decoration:underline\">+0.000</span></div>"
      ],
      "text/plain": [
       "<IPython.core.display.Markdown object>"
      ]
     },
     "metadata": {},
     "output_type": "display_data"
    },
    {
     "name": "stdout",
     "output_type": "stream",
     "text": [
      "w1=+0.860, w2=-0.857, w3=+1.000, w4=+1.160, w5=-0.360\n",
      "\n"
     ]
    },
    {
     "data": {
      "text/markdown": [
       "<div style=\"font-weight:bold\">Iteration 249</div>"
      ],
      "text/plain": [
       "<IPython.core.display.Markdown object>"
      ]
     },
     "metadata": {},
     "output_type": "display_data"
    },
    {
     "name": "stdout",
     "output_type": "stream",
     "text": [
      "Output: [+0.500, +0.500, +0.731, +0.731, +0.731, +0.500, +0.500, +0.500]\n",
      "Target: [+0.500, +0.500, +0.731, +0.731, +0.731, +0.500, +0.500, +0.500]\n",
      "Memory: [+0.000, +0.000, +1.000, +1.000, +1.000, +0.000, +0.000, -0.000]\n",
      "Input : [+0.000, -0.000, +0.860, +0.000, -0.000, -0.860, -0.000, -0.000]\n",
      "Gate  : [+0.803, +0.803, +1.162, +0.803, +0.803, +1.162, +0.803, +0.803]\n"
     ]
    },
    {
     "data": {
      "text/markdown": [
       "<div>Loss: <span style=\"font-weight:bold\">0.00000</span>= <span style=\"font-family:monaco\">0.000 + 0.000 + 0.000 + 0.000 + 0.000 + 0.000 + 0.000 + 0.000</span></div><div style=\"font-family:monaco; font-size:12px\">dL/dw1 = <span style=\"color:blue\">+0.000</span> + <span style=\"color:blue\">+0.000</span> + <span style=\"color:red\">-0.000</span> + <span style=\"color:red\">-0.000</span> + <span style=\"color:red\">-0.000</span> + <span style=\"color:blue\">+0.000</span> + <span style=\"color:blue\">+0.000</span> + <span style=\"color:blue\">+0.000</span> = <span style=\"color:red; text-decoration:underline\">-0.000</span></div><div style=\"font-family:monaco; font-size:12px\">dL/dw2 = <span style=\"color:blue\">+0.000</span> + <span style=\"color:blue\">+0.000</span> + <span style=\"color:blue\">-0.000</span> + <span style=\"color:red\">-0.000</span> + <span style=\"color:blue\">-0.000</span> + <span style=\"color:blue\">+0.000</span> + <span style=\"color:blue\">+0.000</span> + <span style=\"color:blue\">+0.000</span> = <span style=\"color:blue; text-decoration:underline\">+0.000</span></div><div style=\"font-family:monaco; font-size:12px\">dL/dw4 = <span style=\"color:blue\">+0.000</span> + <span style=\"color:blue\">+0.000</span> + <span style=\"color:red\">-0.000</span> + <span style=\"color:red\">-0.000</span> + <span style=\"color:red\">-0.000</span> + <span style=\"color:blue\">+0.000</span> + <span style=\"color:blue\">+0.000</span> + <span style=\"color:blue\">+0.000</span> = <span style=\"color:red; text-decoration:underline\">-0.000</span></div><div style=\"font-family:monaco; font-size:12px\">dL/dw5 = <span style=\"color:blue\">+0.000</span> + <span style=\"color:blue\">+0.000</span> + <span style=\"color:blue\">-0.000</span> + <span style=\"color:red\">-0.000</span> + <span style=\"color:blue\">-0.000</span> + <span style=\"color:blue\">+0.000</span> + <span style=\"color:red\">-0.000</span> + <span style=\"color:blue\">+0.000</span> = <span style=\"color:blue; text-decoration:underline\">+0.000</span></div>"
      ],
      "text/plain": [
       "<IPython.core.display.Markdown object>"
      ]
     },
     "metadata": {},
     "output_type": "display_data"
    },
    {
     "name": "stdout",
     "output_type": "stream",
     "text": [
      "w1=+0.860, w2=-0.860, w3=+1.000, w4=+1.162, w5=-0.360\n",
      "\n"
     ]
    },
    {
     "data": {
      "text/plain": [
       "(0.8599643112688363,\n",
       " -0.859699702729852,\n",
       " 1.0,\n",
       " 1.162480041288255,\n",
       " -0.3597956247833731)"
      ]
     },
     "execution_count": 9,
     "metadata": {},
     "output_type": "execute_result"
    }
   ],
   "source": [
    "embedding['a'] = (1.0, 1)\n",
    "embedding['b'] = (-1, -1)\n",
    "embedding['('] = (1, 0)\n",
    "embedding[')'] = (0, 1)\n",
    "\n",
    "experiment_gated('ab(ab)bb', _w1=1.0, _w2=1.0, _w4=1.0, _w5=1.0, alpha=1e-1, max_iter=250, fixed_w3=True)"
   ]
  },
  {
   "cell_type": "markdown",
   "metadata": {
    "collapsed": true
   },
   "source": [
    "## Discussion\n",
    "\n",
    "We see that after adding input gate (assuming it is possible for the input gate to exhibit the same properties as the _true_ input gate, manifested by using bilinear gate here), can reach the optimal (loss = 0.0) faster (after iteration 199) compared to the one without input gate (only after iteration 249), although there are more parameters to learn with the input gate (two more: $w_4$ and $w_5$) and that the initial loss is higher with input gate (due to the incorrect gate value initially).\n",
    "\n",
    "Also we see that the gate learned is actually not the true gate that we want. This is because the input is already separable even without input gate.\n",
    "\n",
    "## Noisy embedding\n",
    "\n",
    "In previous experiment, the input gate learned is not the true gate that we want, but that's because the input embedding is ideal, i.e., it allows separation even without input gate.\n",
    "\n",
    "Now let's experiment with noisy embedding, in which the true function cannot be obtained without input gate."
   ]
  },
  {
   "cell_type": "code",
   "execution_count": 10,
   "metadata": {
    "collapsed": false
   },
   "outputs": [
    {
     "name": "stdout",
     "output_type": "stream",
     "text": [
      "{'(': (1, 0),\n",
      " ')': (0, 1),\n",
      " 'a': (1.0856134533432273, 0.9211381794509138),\n",
      " 'b': (-0.9704452797767471, -1.0304548034177177)}\n"
     ]
    }
   ],
   "source": [
    "import random\n",
    "a_1 = 1.0 + 0.2*(random.random()-0.5)\n",
    "a_2 = 1.0/a_1\n",
    "b_1 = -1.0 + 0.2*(random.random()-0.5)\n",
    "b_2 = 1.0/b_1\n",
    "embedding['a'] = (a_1, a_2)\n",
    "embedding['b'] = (b_1, b_2)\n",
    "embedding['('] = (1, 0)\n",
    "embedding[')'] = (0, 1)\n",
    "\n",
    "from pprint import pprint\n",
    "pprint(embedding)"
   ]
  },
  {
   "cell_type": "markdown",
   "metadata": {},
   "source": [
    "Here we make the input embedding such that the other characters have noise which should be ignored.\n",
    "\n",
    "Let's see how the two models perform in this case."
   ]
  },
  {
   "cell_type": "code",
   "execution_count": 13,
   "metadata": {
    "collapsed": false
   },
   "outputs": [
    {
     "name": "stdout",
     "output_type": "stream",
     "text": [
      "w1=+1.000, w2=+1.000, w3=+1.000\n"
     ]
    },
    {
     "data": {
      "text/markdown": [
       "<div style=\"font-weight:bold\">Iteration 0</div>"
      ],
      "text/plain": [
       "<IPython.core.display.Markdown object>"
      ]
     },
     "metadata": {},
     "output_type": "display_data"
    },
    {
     "name": "stdout",
     "output_type": "stream",
     "text": [
      "Output: [+0.882, +0.501, +0.732, +0.953, +0.733, +0.882, +0.503, +0.120]\n",
      "Target: [+0.500, +0.500, +0.731, +0.731, +0.731, +0.500, +0.500, +0.500]\n",
      "Memory: [+2.007, +0.006, +1.006, +3.013, +1.012, +2.012, +0.011, -1.990]\n"
     ]
    },
    {
     "data": {
      "text/markdown": [
       "<div>Loss: <span style=\"font-weight:bold\">1.58065</span>= <span style=\"font-family:monaco; font-size:12px\">0.436 + 0.000 + 0.000 + 0.276 + 0.000 + 0.438 + 0.000 + 0.430</span></div><div style=\"font-family:monaco; font-size:12px\">dL/dw1 = <span style=\"color:blue\">+0.414</span> + <span style=\"color:blue\">+0.000</span> + <span style=\"color:blue\">+0.001</span> + <span style=\"color:blue\">+0.489</span> + <span style=\"color:blue\">+0.003</span> + <span style=\"color:blue\">+0.470</span> + <span style=\"color:blue\">+0.001</span> + <span style=\"color:blue\">+0.270</span> = <span style=\"color:blue; text-decoration:underline\">+1.648</span></div><div style=\"font-family:monaco; font-size:12px\">dL/dw2 = <span style=\"color:blue\">+0.351</span> + <span style=\"color:red\">-0.000</span> + <span style=\"color:red\">-0.000</span> + <span style=\"color:blue\">+0.180</span> + <span style=\"color:red\">-0.001</span> + <span style=\"color:blue\">+0.298</span> + <span style=\"color:red\">-0.001</span> + <span style=\"color:blue\">+0.486</span> = <span style=\"color:blue; text-decoration:underline\">+1.315</span></div>"
      ],
      "text/plain": [
       "<IPython.core.display.Markdown object>"
      ]
     },
     "metadata": {},
     "output_type": "display_data"
    },
    {
     "name": "stdout",
     "output_type": "stream",
     "text": [
      "w1=+0.835, w2=+0.869, w3=+1.000\n",
      "\n"
     ]
    },
    {
     "data": {
      "text/markdown": [
       "<div style=\"font-weight:bold\">Iteration 1</div>"
      ],
      "text/plain": [
       "<IPython.core.display.Markdown object>"
      ]
     },
     "metadata": {},
     "output_type": "display_data"
    },
    {
     "name": "stdout",
     "output_type": "stream",
     "text": [
      "Output: [+0.846, +0.500, +0.698, +0.927, +0.698, +0.846, +0.500, +0.154]\n",
      "Target: [+0.500, +0.500, +0.731, +0.731, +0.731, +0.500, +0.500, +0.500]\n",
      "Memory: [+1.707, +0.001, +0.836, +2.543, +0.838, +1.706, +0.001, -1.705]\n"
     ]
    },
    {
     "data": {
      "text/markdown": [
       "<div>Loss: <span style=\"font-weight:bold\">1.16288</span>= <span style=\"font-family:monaco; font-size:12px\">0.327 + 0.000 + 0.003 + 0.177 + 0.003 + 0.327 + 0.000 + 0.326</span></div><div style=\"font-family:monaco; font-size:12px\">dL/dw1 = <span style=\"color:blue\">+0.376</span> + <span style=\"color:blue\">+0.000</span> + <span style=\"color:red\">-0.037</span> + <span style=\"color:blue\">+0.431</span> + <span style=\"color:red\">-0.041</span> + <span style=\"color:blue\">+0.426</span> + <span style=\"color:blue\">+0.000</span> + <span style=\"color:blue\">+0.246</span> = <span style=\"color:blue; text-decoration:underline\">+1.402</span></div><div style=\"font-family:monaco; font-size:12px\">dL/dw2 = <span style=\"color:blue\">+0.319</span> + <span style=\"color:red\">-0.000</span> + <span style=\"color:blue\">+0.004</span> + <span style=\"color:blue\">+0.159</span> + <span style=\"color:blue\">+0.007</span> + <span style=\"color:blue\">+0.271</span> + <span style=\"color:red\">-0.000</span> + <span style=\"color:blue\">+0.443</span> = <span style=\"color:blue; text-decoration:underline\">+1.203</span></div>"
      ],
      "text/plain": [
       "<IPython.core.display.Markdown object>"
      ]
     },
     "metadata": {},
     "output_type": "display_data"
    },
    {
     "name": "stdout",
     "output_type": "stream",
     "text": [
      "w1=+0.695, w2=+0.748, w3=+1.000\n",
      "\n"
     ]
    },
    {
     "data": {
      "text/markdown": [
       "<div style=\"font-weight:bold\">Iteration 2</div>"
      ],
      "text/plain": [
       "<IPython.core.display.Markdown object>"
      ]
     },
     "metadata": {},
     "output_type": "display_data"
    },
    {
     "name": "stdout",
     "output_type": "stream",
     "text": [
      "Output: [+0.809, +0.500, +0.667, +0.894, +0.666, +0.808, +0.499, +0.190]\n",
      "Target: [+0.500, +0.500, +0.731, +0.731, +0.731, +0.500, +0.500, +0.500]\n",
      "Memory: [+1.444, -0.002, +0.693, +2.137, +0.692, +1.440, -0.006, -1.451]\n"
     ]
    },
    {
     "data": {
      "text/markdown": [
       "<div>Loss: <span style=\"font-weight:bold\">0.84661</span>= <span style=\"font-family:monaco; font-size:12px\">0.241 + 0.000 + 0.010 + 0.104 + 0.010 + 0.239 + 0.000 + 0.243</span></div><div style=\"font-family:monaco; font-size:12px\">dL/dw1 = <span style=\"color:blue\">+0.336</span> + <span style=\"color:red\">-0.000</span> + <span style=\"color:red\">-0.072</span> + <span style=\"color:blue\">+0.360</span> + <span style=\"color:red\">-0.080</span> + <span style=\"color:blue\">+0.379</span> + <span style=\"color:red\">-0.000</span> + <span style=\"color:blue\">+0.220</span> = <span style=\"color:blue; text-decoration:underline\">+1.143</span></div><div style=\"font-family:monaco; font-size:12px\">dL/dw2 = <span style=\"color:blue\">+0.285</span> + <span style=\"color:blue\">+0.000</span> + <span style=\"color:blue\">+0.007</span> + <span style=\"color:blue\">+0.133</span> + <span style=\"color:blue\">+0.014</span> + <span style=\"color:blue\">+0.241</span> + <span style=\"color:blue\">+0.000</span> + <span style=\"color:blue\">+0.397</span> = <span style=\"color:blue; text-decoration:underline\">+1.077</span></div>"
      ],
      "text/plain": [
       "<IPython.core.display.Markdown object>"
      ]
     },
     "metadata": {},
     "output_type": "display_data"
    },
    {
     "name": "stdout",
     "output_type": "stream",
     "text": [
      "w1=+0.581, w2=+0.641, w3=+1.000\n",
      "\n"
     ]
    },
    {
     "data": {
      "text/markdown": [
       "<div style=\"font-weight:bold\">Iteration 3</div>"
      ],
      "text/plain": [
       "<IPython.core.display.Markdown object>"
      ]
     },
     "metadata": {},
     "output_type": "display_data"
    },
    {
     "name": "stdout",
     "output_type": "stream",
     "text": [
      "Output: [+0.772, +0.499, +0.641, +0.858, +0.640, +0.771, +0.498, +0.226]\n",
      "Target: [+0.500, +0.500, +0.731, +0.731, +0.731, +0.500, +0.500, +0.500]\n",
      "Memory: [+1.221, -0.003, +0.578, +1.798, +0.574, +1.215, -0.009, -1.232]\n"
     ]
    },
    {
     "data": {
      "text/markdown": [
       "<div>Loss: <span style=\"font-weight:bold\">0.62094</span>= <span style=\"font-family:monaco; font-size:12px\">0.176 + 0.000 + 0.019 + 0.055 + 0.019 + 0.174 + 0.000 + 0.179</span></div><div style=\"font-family:monaco; font-size:12px\">dL/dw1 = <span style=\"color:blue\">+0.295</span> + <span style=\"color:red\">-0.000</span> + <span style=\"color:red\">-0.101</span> + <span style=\"color:blue\">+0.279</span> + <span style=\"color:red\">-0.112</span> + <span style=\"color:blue\">+0.334</span> + <span style=\"color:red\">-0.001</span> + <span style=\"color:blue\">+0.195</span> = <span style=\"color:blue; text-decoration:underline\">+0.889</span></div><div style=\"font-family:monaco; font-size:12px\">dL/dw2 = <span style=\"color:blue\">+0.251</span> + <span style=\"color:blue\">+0.000</span> + <span style=\"color:blue\">+0.010</span> + <span style=\"color:blue\">+0.103</span> + <span style=\"color:blue\">+0.020</span> + <span style=\"color:blue\">+0.212</span> + <span style=\"color:blue\">+0.001</span> + <span style=\"color:blue\">+0.351</span> = <span style=\"color:blue; text-decoration:underline\">+0.947</span></div>"
      ],
      "text/plain": [
       "<IPython.core.display.Markdown object>"
      ]
     },
     "metadata": {},
     "output_type": "display_data"
    },
    {
     "name": "stdout",
     "output_type": "stream",
     "text": [
      "w1=+0.492, w2=+0.546, w3=+1.000\n",
      "\n"
     ]
    },
    {
     "data": {
      "text/markdown": [
       "<div style=\"font-weight:bold\">Iteration 4</div>"
      ],
      "text/plain": [
       "<IPython.core.display.Markdown object>"
      ]
     },
     "metadata": {},
     "output_type": "display_data"
    },
    {
     "name": "stdout",
     "output_type": "stream",
     "text": [
      "Output: [+0.738, +0.499, +0.620, +0.821, +0.619, +0.737, +0.498, +0.260]\n",
      "Target: [+0.500, +0.500, +0.731, +0.731, +0.731, +0.500, +0.500, +0.500]\n",
      "Memory: [+1.037, -0.003, +0.489, +1.526, +0.486, +1.032, -0.008, -1.048]\n"
     ]
    },
    {
     "data": {
      "text/markdown": [
       "<div>Loss: <span style=\"font-weight:bold\">0.46806</span>= <span style=\"font-family:monaco; font-size:12px\">0.129 + 0.000 + 0.028 + 0.025 + 0.028 + 0.128 + 0.000 + 0.131</span></div><div style=\"font-family:monaco; font-size:12px\">dL/dw1 = <span style=\"color:blue\">+0.259</span> + <span style=\"color:red\">-0.000</span> + <span style=\"color:red\">-0.124</span> + <span style=\"color:blue\">+0.199</span> + <span style=\"color:red\">-0.138</span> + <span style=\"color:blue\">+0.292</span> + <span style=\"color:red\">-0.001</span> + <span style=\"color:blue\">+0.171</span> = <span style=\"color:blue; text-decoration:underline\">+0.658</span></div><div style=\"font-family:monaco; font-size:12px\">dL/dw2 = <span style=\"color:blue\">+0.219</span> + <span style=\"color:blue\">+0.000</span> + <span style=\"color:blue\">+0.012</span> + <span style=\"color:blue\">+0.073</span> + <span style=\"color:blue\">+0.024</span> + <span style=\"color:blue\">+0.185</span> + <span style=\"color:blue\">+0.001</span> + <span style=\"color:blue\">+0.308</span> = <span style=\"color:blue; text-decoration:underline\">+0.823</span></div>"
      ],
      "text/plain": [
       "<IPython.core.display.Markdown object>"
      ]
     },
     "metadata": {},
     "output_type": "display_data"
    },
    {
     "name": "stdout",
     "output_type": "stream",
     "text": [
      "w1=+0.426, w2=+0.464, w3=+1.000\n",
      "\n"
     ]
    },
    {
     "data": {
      "text/markdown": [
       "<div style=\"font-weight:bold\">Iteration 5</div>"
      ],
      "text/plain": [
       "<IPython.core.display.Markdown object>"
      ]
     },
     "metadata": {},
     "output_type": "display_data"
    },
    {
     "name": "stdout",
     "output_type": "stream",
     "text": [
      "Output: [+0.709, +0.500, +0.605, +0.788, +0.604, +0.708, +0.499, +0.290]\n",
      "Target: [+0.500, +0.500, +0.731, +0.731, +0.731, +0.500, +0.500, +0.500]\n",
      "Memory: [+0.890, -0.002, +0.424, +1.314, +0.423, +0.886, -0.005, -0.896]\n"
     ]
    },
    {
     "data": {
      "text/markdown": [
       "<div>Loss: <span style=\"font-weight:bold\">0.36800</span>= <span style=\"font-family:monaco; font-size:12px\">0.096 + 0.000 + 0.035 + 0.009 + 0.035 + 0.095 + 0.000 + 0.097</span></div><div style=\"font-family:monaco; font-size:12px\">dL/dw1 = <span style=\"color:blue\">+0.227</span> + <span style=\"color:red\">-0.000</span> + <span style=\"color:red\">-0.141</span> + <span style=\"color:blue\">+0.126</span> + <span style=\"color:red\">-0.156</span> + <span style=\"color:blue\">+0.256</span> + <span style=\"color:red\">-0.000</span> + <span style=\"color:blue\">+0.149</span> = <span style=\"color:blue; text-decoration:underline\">+0.460</span></div><div style=\"font-family:monaco; font-size:12px\">dL/dw2 = <span style=\"color:blue\">+0.192</span> + <span style=\"color:blue\">+0.000</span> + <span style=\"color:blue\">+0.014</span> + <span style=\"color:blue\">+0.046</span> + <span style=\"color:blue\">+0.028</span> + <span style=\"color:blue\">+0.163</span> + <span style=\"color:blue\">+0.000</span> + <span style=\"color:blue\">+0.269</span> = <span style=\"color:blue; text-decoration:underline\">+0.712</span></div>"
      ],
      "text/plain": [
       "<IPython.core.display.Markdown object>"
      ]
     },
     "metadata": {},
     "output_type": "display_data"
    },
    {
     "name": "stdout",
     "output_type": "stream",
     "text": [
      "w1=+0.380, w2=+0.392, w3=+1.000\n",
      "\n"
     ]
    },
    {
     "data": {
      "text/markdown": [
       "<div style=\"font-weight:bold\">Iteration 6</div>"
      ],
      "text/plain": [
       "<IPython.core.display.Markdown object>"
      ]
     },
     "metadata": {},
     "output_type": "display_data"
    },
    {
     "name": "stdout",
     "output_type": "stream",
     "text": [
      "Output: [+0.684, +0.500, +0.594, +0.760, +0.594, +0.684, +0.500, +0.316]\n",
      "Target: [+0.500, +0.500, +0.731, +0.731, +0.731, +0.500, +0.500, +0.500]\n",
      "Memory: [+0.774, +0.001, +0.381, +1.155, +0.382, +0.774, +0.001, -0.772]\n"
     ]
    },
    {
     "data": {
      "text/markdown": [
       "<div>Loss: <span style=\"font-weight:bold\">0.30305</span>= <span style=\"font-family:monaco; font-size:12px\">0.073 + 0.000 + 0.041 + 0.002 + 0.041 + 0.073 + 0.000 + 0.073</span></div><div style=\"font-family:monaco; font-size:12px\">dL/dw1 = <span style=\"color:blue\">+0.200</span> + <span style=\"color:blue\">+0.000</span> + <span style=\"color:red\">-0.153</span> + <span style=\"color:blue\">+0.065</span> + <span style=\"color:red\">-0.168</span> + <span style=\"color:blue\">+0.227</span> + <span style=\"color:blue\">+0.000</span> + <span style=\"color:blue\">+0.131</span> = <span style=\"color:blue; text-decoration:underline\">+0.301</span></div><div style=\"font-family:monaco; font-size:12px\">dL/dw2 = <span style=\"color:blue\">+0.170</span> + <span style=\"color:red\">-0.000</span> + <span style=\"color:blue\">+0.015</span> + <span style=\"color:blue\">+0.024</span> + <span style=\"color:blue\">+0.030</span> + <span style=\"color:blue\">+0.144</span> + <span style=\"color:red\">-0.000</span> + <span style=\"color:blue\">+0.235</span> = <span style=\"color:blue; text-decoration:underline\">+0.618</span></div>"
      ],
      "text/plain": [
       "<IPython.core.display.Markdown object>"
      ]
     },
     "metadata": {},
     "output_type": "display_data"
    },
    {
     "name": "stdout",
     "output_type": "stream",
     "text": [
      "w1=+0.350, w2=+0.331, w3=+1.000\n",
      "\n"
     ]
    },
    {
     "data": {
      "text/markdown": [
       "<div style=\"font-weight:bold\">Iteration 7</div>"
      ],
      "text/plain": [
       "<IPython.core.display.Markdown object>"
      ]
     },
     "metadata": {},
     "output_type": "display_data"
    },
    {
     "name": "stdout",
     "output_type": "stream",
     "text": [
      "Output: [+0.665, +0.501, +0.588, +0.739, +0.589, +0.666, +0.502, +0.338]\n",
      "Target: [+0.500, +0.500, +0.731, +0.731, +0.731, +0.500, +0.500, +0.500]\n",
      "Memory: [+0.684, +0.004, +0.354, +1.038, +0.358, +0.689, +0.009, -0.672]\n"
     ]
    },
    {
     "data": {
      "text/markdown": [
       "<div>Loss: <span style=\"font-weight:bold\">0.25997</span>= <span style=\"font-family:monaco; font-size:12px\">0.057 + 0.000 + 0.045 + 0.000 + 0.044 + 0.058 + 0.000 + 0.055</span></div><div style=\"font-family:monaco; font-size:12px\">dL/dw1 = <span style=\"color:blue\">+0.179</span> + <span style=\"color:blue\">+0.000</span> + <span style=\"color:red\">-0.160</span> + <span style=\"color:blue\">+0.016</span> + <span style=\"color:red\">-0.175</span> + <span style=\"color:blue\">+0.204</span> + <span style=\"color:blue\">+0.001</span> + <span style=\"color:blue\">+0.115</span> = <span style=\"color:blue; text-decoration:underline\">+0.180</span></div><div style=\"font-family:monaco; font-size:12px\">dL/dw2 = <span style=\"color:blue\">+0.152</span> + <span style=\"color:red\">-0.000</span> + <span style=\"color:blue\">+0.016</span> + <span style=\"color:blue\">+0.006</span> + <span style=\"color:blue\">+0.031</span> + <span style=\"color:blue\">+0.129</span> + <span style=\"color:red\">-0.001</span> + <span style=\"color:blue\">+0.207</span> = <span style=\"color:blue; text-decoration:underline\">+0.541</span></div>"
      ],
      "text/plain": [
       "<IPython.core.display.Markdown object>"
      ]
     },
     "metadata": {},
     "output_type": "display_data"
    },
    {
     "name": "stdout",
     "output_type": "stream",
     "text": [
      "w1=+0.332, w2=+0.277, w3=+1.000\n",
      "\n"
     ]
    },
    {
     "data": {
      "text/markdown": [
       "<div style=\"font-weight:bold\">Iteration 8</div>"
      ],
      "text/plain": [
       "<IPython.core.display.Markdown object>"
      ]
     },
     "metadata": {},
     "output_type": "display_data"
    },
    {
     "name": "stdout",
     "output_type": "stream",
     "text": [
      "Output: [+0.649, +0.502, +0.584, +0.722, +0.586, +0.651, +0.504, +0.357]\n",
      "Target: [+0.500, +0.500, +0.731, +0.731, +0.731, +0.500, +0.500, +0.500]\n",
      "Memory: [+0.615, +0.008, +0.340, +0.955, +0.348, +0.624, +0.017, -0.590]\n"
     ]
    },
    {
     "data": {
      "text/markdown": [
       "<div>Loss: <span style=\"font-weight:bold\">0.23002</span>= <span style=\"font-family:monaco; font-size:12px\">0.047 + 0.000 + 0.047 + 0.000 + 0.046 + 0.048 + 0.000 + 0.043</span></div><div style=\"font-family:monaco; font-size:12px\">dL/dw1 = <span style=\"color:blue\">+0.162</span> + <span style=\"color:blue\">+0.000</span> + <span style=\"color:red\">-0.164</span> + <span style=\"color:red\">-0.020</span> + <span style=\"color:red\">-0.178</span> + <span style=\"color:blue\">+0.186</span> + <span style=\"color:blue\">+0.001</span> + <span style=\"color:blue\">+0.102</span> = <span style=\"color:blue; text-decoration:underline\">+0.089</span></div><div style=\"font-family:monaco; font-size:12px\">dL/dw2 = <span style=\"color:blue\">+0.137</span> + <span style=\"color:red\">-0.000</span> + <span style=\"color:blue\">+0.016</span> + <span style=\"color:red\">-0.007</span> + <span style=\"color:blue\">+0.032</span> + <span style=\"color:blue\">+0.118</span> + <span style=\"color:red\">-0.001</span> + <span style=\"color:blue\">+0.183</span> = <span style=\"color:blue; text-decoration:underline\">+0.478</span></div>"
      ],
      "text/plain": [
       "<IPython.core.display.Markdown object>"
      ]
     },
     "metadata": {},
     "output_type": "display_data"
    },
    {
     "name": "stdout",
     "output_type": "stream",
     "text": [
      "w1=+0.323, w2=+0.229, w3=+1.000\n",
      "\n"
     ]
    },
    {
     "data": {
      "text/markdown": [
       "<div style=\"font-weight:bold\">Iteration 9</div>"
      ],
      "text/plain": [
       "<IPython.core.display.Markdown object>"
      ]
     },
     "metadata": {},
     "output_type": "display_data"
    },
    {
     "name": "stdout",
     "output_type": "stream",
     "text": [
      "Output: [+0.637, +0.503, +0.583, +0.710, +0.586, +0.640, +0.507, +0.372]\n",
      "Target: [+0.500, +0.500, +0.731, +0.731, +0.731, +0.500, +0.500, +0.500]\n",
      "Memory: [+0.561, +0.012, +0.335, +0.897, +0.347, +0.576, +0.027, -0.522]\n"
     ]
    },
    {
     "data": {
      "text/markdown": [
       "<div>Loss: <span style=\"font-weight:bold\">0.20785</span>= <span style=\"font-family:monaco; font-size:12px\">0.039 + 0.000 + 0.047 + 0.001 + 0.046 + 0.041 + 0.000 + 0.034</span></div><div style=\"font-family:monaco; font-size:12px\">dL/dw1 = <span style=\"color:blue\">+0.148</span> + <span style=\"color:blue\">+0.000</span> + <span style=\"color:red\">-0.165</span> + <span style=\"color:red\">-0.046</span> + <span style=\"color:red\">-0.178</span> + <span style=\"color:blue\">+0.172</span> + <span style=\"color:blue\">+0.002</span> + <span style=\"color:blue\">+0.091</span> = <span style=\"color:blue; text-decoration:underline\">+0.024</span></div><div style=\"font-family:monaco; font-size:12px\">dL/dw2 = <span style=\"color:blue\">+0.126</span> + <span style=\"color:red\">-0.000</span> + <span style=\"color:blue\">+0.016</span> + <span style=\"color:red\">-0.017</span> + <span style=\"color:blue\">+0.032</span> + <span style=\"color:blue\">+0.110</span> + <span style=\"color:red\">-0.002</span> + <span style=\"color:blue\">+0.163</span> = <span style=\"color:blue; text-decoration:underline\">+0.428</span></div>"
      ],
      "text/plain": [
       "<IPython.core.display.Markdown object>"
      ]
     },
     "metadata": {},
     "output_type": "display_data"
    },
    {
     "name": "stdout",
     "output_type": "stream",
     "text": [
      "w1=+0.321, w2=+0.186, w3=+1.000\n",
      "\n"
     ]
    },
    {
     "data": {
      "text/markdown": [
       "<div style=\"font-weight:bold\">Iteration 10</div>"
      ],
      "text/plain": [
       "<IPython.core.display.Markdown object>"
      ]
     },
     "metadata": {},
     "output_type": "display_data"
    },
    {
     "name": "stdout",
     "output_type": "stream",
     "text": [
      "Output: [+0.627, +0.504, +0.583, +0.702, +0.588, +0.632, +0.509, +0.386]\n",
      "Target: [+0.500, +0.500, +0.731, +0.731, +0.731, +0.500, +0.500, +0.500]\n",
      "Memory: [+0.519, +0.017, +0.337, +0.856, +0.354, +0.540, +0.037, -0.466]\n"
     ]
    },
    {
     "data": {
      "text/markdown": [
       "<div>Loss: <span style=\"font-weight:bold\">0.19041</span>= <span style=\"font-family:monaco; font-size:12px\">0.033 + 0.000 + 0.047 + 0.002 + 0.045 + 0.036 + 0.000 + 0.027</span></div><div style=\"font-family:monaco; font-size:12px\">dL/dw1 = <span style=\"color:blue\">+0.138</span> + <span style=\"color:blue\">+0.000</span> + <span style=\"color:red\">-0.165</span> + <span style=\"color:red\">-0.064</span> + <span style=\"color:red\">-0.177</span> + <span style=\"color:blue\">+0.162</span> + <span style=\"color:blue\">+0.002</span> + <span style=\"color:blue\">+0.081</span> = <span style=\"color:red; text-decoration:underline\">-0.021</span></div><div style=\"font-family:monaco; font-size:12px\">dL/dw2 = <span style=\"color:blue\">+0.117</span> + <span style=\"color:red\">-0.000</span> + <span style=\"color:blue\">+0.016</span> + <span style=\"color:red\">-0.024</span> + <span style=\"color:blue\">+0.031</span> + <span style=\"color:blue\">+0.103</span> + <span style=\"color:red\">-0.002</span> + <span style=\"color:blue\">+0.146</span> = <span style=\"color:blue; text-decoration:underline\">+0.387</span></div>"
      ],
      "text/plain": [
       "<IPython.core.display.Markdown object>"
      ]
     },
     "metadata": {},
     "output_type": "display_data"
    },
    {
     "name": "stdout",
     "output_type": "stream",
     "text": [
      "w1=+0.323, w2=+0.147, w3=+1.000\n",
      "\n"
     ]
    },
    {
     "data": {
      "text/markdown": [
       "<div style=\"font-weight:bold\">Iteration 11</div>"
      ],
      "text/plain": [
       "<IPython.core.display.Markdown object>"
      ]
     },
     "metadata": {},
     "output_type": "display_data"
    },
    {
     "name": "stdout",
     "output_type": "stream",
     "text": [
      "Output: [+0.619, +0.505, +0.585, +0.696, +0.590, +0.625, +0.512, +0.397]\n",
      "Target: [+0.500, +0.500, +0.731, +0.731, +0.731, +0.500, +0.500, +0.500]\n",
      "Memory: [+0.486, +0.021, +0.344, +0.830, +0.365, +0.512, +0.047, -0.418]\n"
     ]
    },
    {
     "data": {
      "text/markdown": [
       "<div>Loss: <span style=\"font-weight:bold\">0.17597</span>= <span style=\"font-family:monaco; font-size:12px\">0.029 + 0.000 + 0.046 + 0.003 + 0.043 + 0.032 + 0.000 + 0.022</span></div><div style=\"font-family:monaco; font-size:12px\">dL/dw1 = <span style=\"color:blue\">+0.129</span> + <span style=\"color:blue\">+0.001</span> + <span style=\"color:red\">-0.163</span> + <span style=\"color:red\">-0.077</span> + <span style=\"color:red\">-0.173</span> + <span style=\"color:blue\">+0.154</span> + <span style=\"color:blue\">+0.003</span> + <span style=\"color:blue\">+0.073</span> = <span style=\"color:red; text-decoration:underline\">-0.052</span></div><div style=\"font-family:monaco; font-size:12px\">dL/dw2 = <span style=\"color:blue\">+0.110</span> + <span style=\"color:red\">-0.001</span> + <span style=\"color:blue\">+0.016</span> + <span style=\"color:red\">-0.028</span> + <span style=\"color:blue\">+0.031</span> + <span style=\"color:blue\">+0.098</span> + <span style=\"color:red\">-0.003</span> + <span style=\"color:blue\">+0.132</span> = <span style=\"color:blue; text-decoration:underline\">+0.354</span></div>"
      ],
      "text/plain": [
       "<IPython.core.display.Markdown object>"
      ]
     },
     "metadata": {},
     "output_type": "display_data"
    },
    {
     "name": "stdout",
     "output_type": "stream",
     "text": [
      "w1=+0.328, w2=+0.112, w3=+1.000\n",
      "\n"
     ]
    },
    {
     "data": {
      "text/markdown": [
       "<div style=\"font-weight:bold\">Iteration 12</div>"
      ],
      "text/plain": [
       "<IPython.core.display.Markdown object>"
      ]
     },
     "metadata": {},
     "output_type": "display_data"
    },
    {
     "name": "stdout",
     "output_type": "stream",
     "text": [
      "Output: [+0.613, +0.506, +0.587, +0.693, +0.594, +0.620, +0.514, +0.407]\n",
      "Target: [+0.500, +0.500, +0.731, +0.731, +0.731, +0.500, +0.500, +0.500]\n",
      "Memory: [+0.459, +0.026, +0.353, +0.812, +0.379, +0.491, +0.057, -0.376]\n"
     ]
    },
    {
     "data": {
      "text/markdown": [
       "<div>Loss: <span style=\"font-weight:bold\">0.16357</span>= <span style=\"font-family:monaco; font-size:12px\">0.026 + 0.000 + 0.045 + 0.004 + 0.041 + 0.030 + 0.000 + 0.018</span></div><div style=\"font-family:monaco; font-size:12px\">dL/dw1 = <span style=\"color:blue\">+0.122</span> + <span style=\"color:blue\">+0.001</span> + <span style=\"color:red\">-0.160</span> + <span style=\"color:red\">-0.085</span> + <span style=\"color:red\">-0.169</span> + <span style=\"color:blue\">+0.148</span> + <span style=\"color:blue\">+0.004</span> + <span style=\"color:blue\">+0.066</span> = <span style=\"color:red; text-decoration:underline\">-0.073</span></div><div style=\"font-family:monaco; font-size:12px\">dL/dw2 = <span style=\"color:blue\">+0.104</span> + <span style=\"color:red\">-0.001</span> + <span style=\"color:blue\">+0.016</span> + <span style=\"color:red\">-0.031</span> + <span style=\"color:blue\">+0.030</span> + <span style=\"color:blue\">+0.094</span> + <span style=\"color:red\">-0.004</span> + <span style=\"color:blue\">+0.119</span> = <span style=\"color:blue; text-decoration:underline\">+0.327</span></div>"
      ],
      "text/plain": [
       "<IPython.core.display.Markdown object>"
      ]
     },
     "metadata": {},
     "output_type": "display_data"
    },
    {
     "name": "stdout",
     "output_type": "stream",
     "text": [
      "w1=+0.335, w2=+0.079, w3=+1.000\n",
      "\n"
     ]
    },
    {
     "data": {
      "text/markdown": [
       "<div style=\"font-weight:bold\">Iteration 13</div>"
      ],
      "text/plain": [
       "<IPython.core.display.Markdown object>"
      ]
     },
     "metadata": {},
     "output_type": "display_data"
    },
    {
     "name": "stdout",
     "output_type": "stream",
     "text": [
      "Output: [+0.607, +0.507, +0.590, +0.690, +0.598, +0.616, +0.517, +0.416]\n",
      "Target: [+0.500, +0.500, +0.731, +0.731, +0.731, +0.500, +0.500, +0.500]\n",
      "Memory: [+0.437, +0.030, +0.365, +0.802, +0.395, +0.474, +0.067, -0.339]\n"
     ]
    },
    {
     "data": {
      "text/markdown": [
       "<div>Loss: <span style=\"font-weight:bold\">0.15267</span>= <span style=\"font-family:monaco; font-size:12px\">0.024 + 0.000 + 0.043 + 0.004 + 0.039 + 0.028 + 0.001 + 0.014</span></div><div style=\"font-family:monaco; font-size:12px\">dL/dw1 = <span style=\"color:blue\">+0.117</span> + <span style=\"color:blue\">+0.001</span> + <span style=\"color:red\">-0.157</span> + <span style=\"color:red\">-0.090</span> + <span style=\"color:red\">-0.164</span> + <span style=\"color:blue\">+0.143</span> + <span style=\"color:blue\">+0.004</span> + <span style=\"color:blue\">+0.060</span> = <span style=\"color:red; text-decoration:underline\">-0.086</span></div><div style=\"font-family:monaco; font-size:12px\">dL/dw2 = <span style=\"color:blue\">+0.099</span> + <span style=\"color:red\">-0.001</span> + <span style=\"color:blue\">+0.015</span> + <span style=\"color:red\">-0.033</span> + <span style=\"color:blue\">+0.029</span> + <span style=\"color:blue\">+0.091</span> + <span style=\"color:red\">-0.004</span> + <span style=\"color:blue\">+0.108</span> = <span style=\"color:blue; text-decoration:underline\">+0.304</span></div>"
      ],
      "text/plain": [
       "<IPython.core.display.Markdown object>"
      ]
     },
     "metadata": {},
     "output_type": "display_data"
    },
    {
     "name": "stdout",
     "output_type": "stream",
     "text": [
      "w1=+0.344, w2=+0.049, w3=+1.000\n",
      "\n"
     ]
    },
    {
     "data": {
      "text/markdown": [
       "<div style=\"font-weight:bold\">Iteration 14</div>"
      ],
      "text/plain": [
       "<IPython.core.display.Markdown object>"
      ]
     },
     "metadata": {},
     "output_type": "display_data"
    },
    {
     "name": "stdout",
     "output_type": "stream",
     "text": [
      "Output: [+0.603, +0.509, +0.593, +0.689, +0.602, +0.613, +0.519, +0.424]\n",
      "Target: [+0.500, +0.500, +0.731, +0.731, +0.731, +0.500, +0.500, +0.500]\n",
      "Memory: [+0.418, +0.034, +0.378, +0.796, +0.412, +0.461, +0.077, -0.307]\n"
     ]
    },
    {
     "data": {
      "text/markdown": [
       "<div>Loss: <span style=\"font-weight:bold\">0.14296</span>= <span style=\"font-family:monaco; font-size:12px\">0.022 + 0.000 + 0.041 + 0.004 + 0.037 + 0.026 + 0.001 + 0.012</span></div><div style=\"font-family:monaco; font-size:12px\">dL/dw1 = <span style=\"color:blue\">+0.112</span> + <span style=\"color:blue\">+0.001</span> + <span style=\"color:red\">-0.154</span> + <span style=\"color:red\">-0.092</span> + <span style=\"color:red\">-0.159</span> + <span style=\"color:blue\">+0.139</span> + <span style=\"color:blue\">+0.005</span> + <span style=\"color:blue\">+0.054</span> = <span style=\"color:red; text-decoration:underline\">-0.094</span></div><div style=\"font-family:monaco; font-size:12px\">dL/dw2 = <span style=\"color:blue\">+0.095</span> + <span style=\"color:red\">-0.001</span> + <span style=\"color:blue\">+0.015</span> + <span style=\"color:red\">-0.034</span> + <span style=\"color:blue\">+0.028</span> + <span style=\"color:blue\">+0.088</span> + <span style=\"color:red\">-0.005</span> + <span style=\"color:blue\">+0.097</span> = <span style=\"color:blue; text-decoration:underline\">+0.284</span></div>"
      ],
      "text/plain": [
       "<IPython.core.display.Markdown object>"
      ]
     },
     "metadata": {},
     "output_type": "display_data"
    },
    {
     "name": "stdout",
     "output_type": "stream",
     "text": [
      "w1=+0.353, w2=+0.020, w3=+1.000\n",
      "\n"
     ]
    },
    {
     "data": {
      "text/markdown": [
       "<div style=\"font-weight:bold\">Iteration 49</div>"
      ],
      "text/plain": [
       "<IPython.core.display.Markdown object>"
      ]
     },
     "metadata": {},
     "output_type": "display_data"
    },
    {
     "name": "stdout",
     "output_type": "stream",
     "text": [
      "Output: [+0.554, +0.528, +0.661, +0.708, +0.686, +0.588, +0.562, +0.537]\n",
      "Target: [+0.500, +0.500, +0.731, +0.731, +0.731, +0.500, +0.500, +0.500]\n",
      "Memory: [+0.215, +0.111, +0.669, +0.884, +0.780, +0.355, +0.251, +0.146]\n"
     ]
    },
    {
     "data": {
      "text/markdown": [
       "<div>Loss: <span style=\"font-weight:bold\">0.05109</span>= <span style=\"font-family:monaco; font-size:12px\">0.006 + 0.002 + 0.011 + 0.001 + 0.005 + 0.016 + 0.008 + 0.003</span></div><div style=\"font-family:monaco; font-size:12px\">dL/dw1 = <span style=\"color:blue\">+0.058</span> + <span style=\"color:blue\">+0.003</span> + <span style=\"color:red\">-0.078</span> + <span style=\"color:red\">-0.051</span> + <span style=\"color:red\">-0.056</span> + <span style=\"color:blue\">+0.108</span> + <span style=\"color:blue\">+0.016</span> + <span style=\"color:red\">-0.026</span> = <span style=\"color:red; text-decoration:underline\">-0.025</span></div><div style=\"font-family:monaco; font-size:12px\">dL/dw2 = <span style=\"color:blue\">+0.049</span> + <span style=\"color:red\">-0.003</span> + <span style=\"color:blue\">+0.008</span> + <span style=\"color:red\">-0.019</span> + <span style=\"color:blue\">+0.010</span> + <span style=\"color:blue\">+0.069</span> + <span style=\"color:red\">-0.016</span> + <span style=\"color:red\">-0.047</span> = <span style=\"color:blue; text-decoration:underline\">+0.051</span></div>"
      ],
      "text/plain": [
       "<IPython.core.display.Markdown object>"
      ]
     },
     "metadata": {},
     "output_type": "display_data"
    },
    {
     "name": "stdout",
     "output_type": "stream",
     "text": [
      "w1=+0.561, w2=-0.429, w3=+1.000\n",
      "\n"
     ]
    },
    {
     "data": {
      "text/markdown": [
       "<div style=\"font-weight:bold\">Iteration 99</div>"
      ],
      "text/plain": [
       "<IPython.core.display.Markdown object>"
      ]
     },
     "metadata": {},
     "output_type": "display_data"
    },
    {
     "name": "stdout",
     "output_type": "stream",
     "text": [
      "Output: [+0.544, +0.532, +0.676, +0.714, +0.704, +0.584, +0.572, +0.560]\n",
      "Target: [+0.500, +0.500, +0.731, +0.731, +0.731, +0.500, +0.500, +0.500]\n",
      "Memory: [+0.176, +0.128, +0.737, +0.913, +0.865, +0.338, +0.290, +0.242]\n"
     ]
    },
    {
     "data": {
      "text/markdown": [
       "<div>Loss: <span style=\"font-weight:bold\">0.04747</span>= <span style=\"font-family:monaco; font-size:12px\">0.004 + 0.002 + 0.007 + 0.001 + 0.002 + 0.014 + 0.010 + 0.007</span></div><div style=\"font-family:monaco; font-size:12px\">dL/dw1 = <span style=\"color:blue\">+0.048</span> + <span style=\"color:blue\">+0.004</span> + <span style=\"color:red\">-0.061</span> + <span style=\"color:red\">-0.038</span> + <span style=\"color:red\">-0.034</span> + <span style=\"color:blue\">+0.103</span> + <span style=\"color:blue\">+0.019</span> + <span style=\"color:red\">-0.043</span> = <span style=\"color:red; text-decoration:underline\">-0.003</span></div><div style=\"font-family:monaco; font-size:12px\">dL/dw2 = <span style=\"color:blue\">+0.040</span> + <span style=\"color:red\">-0.003</span> + <span style=\"color:blue\">+0.006</span> + <span style=\"color:red\">-0.014</span> + <span style=\"color:blue\">+0.006</span> + <span style=\"color:blue\">+0.065</span> + <span style=\"color:red\">-0.018</span> + <span style=\"color:red\">-0.077</span> = <span style=\"color:blue; text-decoration:underline\">+0.005</span></div>"
      ],
      "text/plain": [
       "<IPython.core.display.Markdown object>"
      ]
     },
     "metadata": {},
     "output_type": "display_data"
    },
    {
     "name": "stdout",
     "output_type": "stream",
     "text": [
      "w1=+0.610, w2=-0.528, w3=+1.000\n",
      "\n"
     ]
    },
    {
     "data": {
      "text/markdown": [
       "<div style=\"font-weight:bold\">Iteration 149</div>"
      ],
      "text/plain": [
       "<IPython.core.display.Markdown object>"
      ]
     },
     "metadata": {},
     "output_type": "display_data"
    },
    {
     "name": "stdout",
     "output_type": "stream",
     "text": [
      "Output: [+0.543, +0.532, +0.678, +0.714, +0.706, +0.583, +0.573, +0.563]\n",
      "Target: [+0.500, +0.500, +0.731, +0.731, +0.731, +0.500, +0.500, +0.500]\n",
      "Memory: [+0.172, +0.130, +0.744, +0.916, +0.874, +0.336, +0.294, +0.252]\n"
     ]
    },
    {
     "data": {
      "text/markdown": [
       "<div>Loss: <span style=\"font-weight:bold\">0.04743</span>= <span style=\"font-family:monaco; font-size:12px\">0.004 + 0.002 + 0.007 + 0.001 + 0.002 + 0.014 + 0.011 + 0.008</span></div><div style=\"font-family:monaco; font-size:12px\">dL/dw1 = <span style=\"color:blue\">+0.047</span> + <span style=\"color:blue\">+0.004</span> + <span style=\"color:red\">-0.059</span> + <span style=\"color:red\">-0.037</span> + <span style=\"color:red\">-0.031</span> + <span style=\"color:blue\">+0.102</span> + <span style=\"color:blue\">+0.019</span> + <span style=\"color:red\">-0.044</span> = <span style=\"color:red; text-decoration:underline\">-0.000</span></div><div style=\"font-family:monaco; font-size:12px\">dL/dw2 = <span style=\"color:blue\">+0.039</span> + <span style=\"color:red\">-0.004</span> + <span style=\"color:blue\">+0.006</span> + <span style=\"color:red\">-0.014</span> + <span style=\"color:blue\">+0.006</span> + <span style=\"color:blue\">+0.065</span> + <span style=\"color:red\">-0.018</span> + <span style=\"color:red\">-0.080</span> = <span style=\"color:blue; text-decoration:underline\">+0.001</span></div>"
      ],
      "text/plain": [
       "<IPython.core.display.Markdown object>"
      ]
     },
     "metadata": {},
     "output_type": "display_data"
    },
    {
     "name": "stdout",
     "output_type": "stream",
     "text": [
      "w1=+0.615, w2=-0.538, w3=+1.000\n",
      "\n"
     ]
    },
    {
     "data": {
      "text/markdown": [
       "<div style=\"font-weight:bold\">Iteration 199</div>"
      ],
      "text/plain": [
       "<IPython.core.display.Markdown object>"
      ]
     },
     "metadata": {},
     "output_type": "display_data"
    },
    {
     "name": "stdout",
     "output_type": "stream",
     "text": [
      "Output: [+0.543, +0.532, +0.678, +0.714, +0.706, +0.583, +0.573, +0.563]\n",
      "Target: [+0.500, +0.500, +0.731, +0.731, +0.731, +0.500, +0.500, +0.500]\n",
      "Memory: [+0.171, +0.130, +0.745, +0.917, +0.875, +0.336, +0.294, +0.253]\n"
     ]
    },
    {
     "data": {
      "text/markdown": [
       "<div>Loss: <span style=\"font-weight:bold\">0.04743</span>= <span style=\"font-family:monaco; font-size:12px\">0.004 + 0.002 + 0.007 + 0.001 + 0.002 + 0.014 + 0.011 + 0.008</span></div><div style=\"font-family:monaco; font-size:12px\">dL/dw1 = <span style=\"color:blue\">+0.046</span> + <span style=\"color:blue\">+0.004</span> + <span style=\"color:red\">-0.059</span> + <span style=\"color:red\">-0.037</span> + <span style=\"color:red\">-0.031</span> + <span style=\"color:blue\">+0.102</span> + <span style=\"color:blue\">+0.019</span> + <span style=\"color:red\">-0.045</span> = <span style=\"color:red; text-decoration:underline\">-0.000</span></div><div style=\"font-family:monaco; font-size:12px\">dL/dw2 = <span style=\"color:blue\">+0.039</span> + <span style=\"color:red\">-0.004</span> + <span style=\"color:blue\">+0.006</span> + <span style=\"color:red\">-0.014</span> + <span style=\"color:blue\">+0.006</span> + <span style=\"color:blue\">+0.065</span> + <span style=\"color:red\">-0.018</span> + <span style=\"color:red\">-0.080</span> = <span style=\"color:blue; text-decoration:underline\">+0.000</span></div>"
      ],
      "text/plain": [
       "<IPython.core.display.Markdown object>"
      ]
     },
     "metadata": {},
     "output_type": "display_data"
    },
    {
     "name": "stdout",
     "output_type": "stream",
     "text": [
      "w1=+0.615, w2=-0.539, w3=+1.000\n",
      "\n"
     ]
    },
    {
     "data": {
      "text/markdown": [
       "<div style=\"font-weight:bold\">Iteration 249</div>"
      ],
      "text/plain": [
       "<IPython.core.display.Markdown object>"
      ]
     },
     "metadata": {},
     "output_type": "display_data"
    },
    {
     "name": "stdout",
     "output_type": "stream",
     "text": [
      "Output: [+0.543, +0.532, +0.678, +0.714, +0.706, +0.583, +0.573, +0.563]\n",
      "Target: [+0.500, +0.500, +0.731, +0.731, +0.731, +0.500, +0.500, +0.500]\n",
      "Memory: [+0.171, +0.130, +0.745, +0.917, +0.875, +0.336, +0.294, +0.253]\n"
     ]
    },
    {
     "data": {
      "text/markdown": [
       "<div>Loss: <span style=\"font-weight:bold\">0.04743</span>= <span style=\"font-family:monaco; font-size:12px\">0.004 + 0.002 + 0.007 + 0.001 + 0.002 + 0.014 + 0.011 + 0.008</span></div><div style=\"font-family:monaco; font-size:12px\">dL/dw1 = <span style=\"color:blue\">+0.046</span> + <span style=\"color:blue\">+0.004</span> + <span style=\"color:red\">-0.059</span> + <span style=\"color:red\">-0.037</span> + <span style=\"color:red\">-0.031</span> + <span style=\"color:blue\">+0.102</span> + <span style=\"color:blue\">+0.019</span> + <span style=\"color:red\">-0.045</span> = <span style=\"color:red; text-decoration:underline\">-0.000</span></div><div style=\"font-family:monaco; font-size:12px\">dL/dw2 = <span style=\"color:blue\">+0.039</span> + <span style=\"color:red\">-0.004</span> + <span style=\"color:blue\">+0.006</span> + <span style=\"color:red\">-0.014</span> + <span style=\"color:blue\">+0.006</span> + <span style=\"color:blue\">+0.065</span> + <span style=\"color:red\">-0.018</span> + <span style=\"color:red\">-0.080</span> = <span style=\"color:blue; text-decoration:underline\">+0.000</span></div>"
      ],
      "text/plain": [
       "<IPython.core.display.Markdown object>"
      ]
     },
     "metadata": {},
     "output_type": "display_data"
    },
    {
     "name": "stdout",
     "output_type": "stream",
     "text": [
      "w1=+0.615, w2=-0.539, w3=+1.000\n",
      "\n"
     ]
    },
    {
     "data": {
      "text/plain": [
       "(0.6154230754502633, -0.5392067877091704, 1.0)"
      ]
     },
     "execution_count": 13,
     "metadata": {},
     "output_type": "execute_result"
    }
   ],
   "source": [
    "embedding['a'] = (a_1, a_2)\n",
    "embedding['b'] = (b_1, b_2)\n",
    "embedding['('] = (1, 0)\n",
    "embedding[')'] = (0, 1)\n",
    "\n",
    "experiment('ab(ab)bb', _w1=1.0, _w2=1.0, alpha=1e-1, max_iter=250, fixed_w3=True)"
   ]
  },
  {
   "cell_type": "code",
   "execution_count": 18,
   "metadata": {
    "collapsed": false
   },
   "outputs": [
    {
     "name": "stdout",
     "output_type": "stream",
     "text": [
      "w1=+1.000, w2=+1.000, w3=+1.000, w4=+1.000, w5=+1.000\n"
     ]
    },
    {
     "data": {
      "text/markdown": [
       "<div style=\"font-weight:bold\">Iteration 0</div>"
      ],
      "text/plain": [
       "<IPython.core.display.Markdown object>"
      ]
     },
     "metadata": {},
     "output_type": "display_data"
    },
    {
     "name": "stdout",
     "output_type": "stream",
     "text": [
      "Output: [+0.982, +0.503, +0.733, +0.993, +0.736, +0.883, +0.121, +0.003]\n",
      "Target: [+0.500, +0.500, +0.731, +0.731, +0.731, +0.500, +0.500, +0.500]\n",
      "Memory: [+4.014, +0.012, +1.012, +5.025, +1.023, +2.023, -1.978, -5.980]\n",
      "Input : [+2.007, -2.001, +1.000, +2.007, -2.001, +1.000, -2.001, -2.001]\n",
      "Gate  : [+2.000, +2.000, +1.000, +2.000, +2.000, +1.000, +2.000, +2.000]\n"
     ]
    },
    {
     "data": {
      "text/markdown": [
       "<div>Loss: <span style=\"font-weight:bold\">5.27520</span>= <span style=\"font-family:monaco\">1.332 + 0.000 + 0.000 + 0.776 + 0.000 + 0.443 + 0.426 + 2.299</span></div><div style=\"font-family:monaco; font-size:12px\">dL/dw1 = <span style=\"color:blue\">+1.047</span> + <span style=\"color:blue\">+0.001</span> + <span style=\"color:blue\">+0.003</span> + <span style=\"color:blue\">+0.893</span> + <span style=\"color:blue\">+0.007</span> + <span style=\"color:blue\">+0.560</span> + <span style=\"color:blue\">+0.182</span> + <span style=\"color:blue\">+1.204</span> = <span style=\"color:blue; text-decoration:underline\">+3.896</span></div><div style=\"font-family:monaco; font-size:12px\">dL/dw2 = <span style=\"color:blue\">+0.888</span> + <span style=\"color:red\">-0.001</span> + <span style=\"color:red\">-0.001</span> + <span style=\"color:blue\">+0.426</span> + <span style=\"color:red\">-0.002</span> + <span style=\"color:blue\">+0.216</span> + <span style=\"color:blue\">+0.567</span> + <span style=\"color:blue\">+1.771</span> = <span style=\"color:blue; text-decoration:underline\">+3.865</span></div><div style=\"font-family:monaco; font-size:12px\">dL/dw4 = <span style=\"color:blue\">+0.968</span> + <span style=\"color:blue\">+0.000</span> + <span style=\"color:blue\">+0.002</span> + <span style=\"color:blue\">+0.791</span> + <span style=\"color:blue\">+0.005</span> + <span style=\"color:blue\">+0.771</span> + <span style=\"color:red\">-0.004</span> + <span style=\"color:blue\">+0.990</span> = <span style=\"color:blue; text-decoration:underline\">+3.522</span></div><div style=\"font-family:monaco; font-size:12px\">dL/dw5 = <span style=\"color:blue\">+0.968</span> + <span style=\"color:blue\">+0.000</span> + <span style=\"color:blue\">+0.000</span> + <span style=\"color:blue\">+0.528</span> + <span style=\"color:blue\">+0.000</span> + <span style=\"color:blue\">+0.004</span> + <span style=\"color:blue\">+0.753</span> + <span style=\"color:blue\">+1.985</span> = <span style=\"color:blue; text-decoration:underline\">+4.238</span></div>"
      ],
      "text/plain": [
       "<IPython.core.display.Markdown object>"
      ]
     },
     "metadata": {},
     "output_type": "display_data"
    },
    {
     "name": "stdout",
     "output_type": "stream",
     "text": [
      "w1=+0.610, w2=+0.614, w3=+1.000, w4=+0.648, w5=+0.576\n",
      "\n"
     ]
    },
    {
     "data": {
      "text/markdown": [
       "<div style=\"font-weight:bold\">Iteration 1</div>"
      ],
      "text/plain": [
       "<IPython.core.display.Markdown object>"
      ]
     },
     "metadata": {},
     "output_type": "display_data"
    },
    {
     "name": "stdout",
     "output_type": "stream",
     "text": [
      "Output: [+0.818, +0.501, +0.599, +0.870, +0.599, +0.690, +0.332, +0.100]\n",
      "Target: [+0.500, +0.500, +0.731, +0.731, +0.731, +0.500, +0.500, +0.500]\n",
      "Memory: [+1.503, +0.004, +0.399, +1.902, +0.403, +0.801, -0.698, -2.197]\n",
      "Input : [+1.228, -1.225, +0.610, +1.228, -1.225, +0.614, -1.225, -1.225]\n",
      "Gate  : [+1.224, +1.224, +0.648, +1.224, +1.224, +0.648, +1.224, +1.224]\n"
     ]
    },
    {
     "data": {
      "text/markdown": [
       "<div>Loss: <span style=\"font-weight:bold\">1.05256</span>= <span style=\"font-family:monaco\">0.259 + 0.000 + 0.038 + 0.068 + 0.038 + 0.078 + 0.060 + 0.511</span></div><div style=\"font-family:monaco; font-size:12px\">dL/dw1 = <span style=\"color:blue\">+0.423</span> + <span style=\"color:blue\">+0.000</span> + <span style=\"color:red\">-0.105</span> + <span style=\"color:blue\">+0.294</span> + <span style=\"color:red\">-0.122</span> + <span style=\"color:blue\">+0.177</span> + <span style=\"color:blue\">+0.043</span> + <span style=\"color:blue\">+0.578</span> = <span style=\"color:blue; text-decoration:underline\">+1.289</span></div><div style=\"font-family:monaco; font-size:12px\">dL/dw2 = <span style=\"color:blue\">+0.359</span> + <span style=\"color:red\">-0.000</span> + <span style=\"color:blue\">+0.018</span> + <span style=\"color:blue\">+0.138</span> + <span style=\"color:blue\">+0.035</span> + <span style=\"color:blue\">+0.072</span> + <span style=\"color:blue\">+0.148</span> + <span style=\"color:blue\">+0.857</span> = <span style=\"color:blue; text-decoration:underline\">+1.626</span></div><div style=\"font-family:monaco; font-size:12px\">dL/dw4 = <span style=\"color:blue\">+0.390</span> + <span style=\"color:blue\">+0.000</span> + <span style=\"color:red\">-0.081</span> + <span style=\"color:blue\">+0.256</span> + <span style=\"color:red\">-0.081</span> + <span style=\"color:blue\">+0.234</span> + <span style=\"color:red\">-0.001</span> + <span style=\"color:blue\">+0.487</span> = <span style=\"color:blue; text-decoration:underline\">+1.205</span></div><div style=\"font-family:monaco; font-size:12px\">dL/dw5 = <span style=\"color:blue\">+0.390</span> + <span style=\"color:blue\">+0.000</span> + <span style=\"color:red\">-0.000</span> + <span style=\"color:blue\">+0.171</span> + <span style=\"color:red\">-0.001</span> + <span style=\"color:blue\">+0.001</span> + <span style=\"color:blue\">+0.204</span> + <span style=\"color:blue\">+0.977</span> = <span style=\"color:blue; text-decoration:underline\">+1.743</span></div>"
      ],
      "text/plain": [
       "<IPython.core.display.Markdown object>"
      ]
     },
     "metadata": {},
     "output_type": "display_data"
    },
    {
     "name": "stdout",
     "output_type": "stream",
     "text": [
      "w1=+0.482, w2=+0.451, w3=+1.000, w4=+0.527, w5=+0.402\n",
      "\n"
     ]
    },
    {
     "data": {
      "text/markdown": [
       "<div style=\"font-weight:bold\">Iteration 2</div>"
      ],
      "text/plain": [
       "<IPython.core.display.Markdown object>"
      ]
     },
     "metadata": {},
     "output_type": "display_data"
    },
    {
     "name": "stdout",
     "output_type": "stream",
     "text": [
      "Output: [+0.705, +0.501, +0.565, +0.756, +0.566, +0.623, +0.410, +0.226]\n",
      "Target: [+0.500, +0.500, +0.731, +0.731, +0.731, +0.500, +0.500, +0.500]\n",
      "Memory: [+0.872, +0.006, +0.260, +1.131, +0.265, +0.503, -0.363, -1.229]\n",
      "Input : [+0.938, -0.932, +0.482, +0.938, -0.932, +0.451, -0.932, -0.932]\n",
      "Gate  : [+0.929, +0.929, +0.527, +0.929, +0.929, +0.527, +0.929, +0.929]\n"
     ]
    },
    {
     "data": {
      "text/markdown": [
       "<div>Loss: <span style=\"font-weight:bold\">0.43714</span>= <span style=\"font-family:monaco\">0.092 + 0.000 + 0.059 + 0.002 + 0.058 + 0.031 + 0.016 + 0.178</span></div><div style=\"font-family:monaco; font-size:12px\">dL/dw1 = <span style=\"color:blue\">+0.207</span> + <span style=\"color:blue\">+0.000</span> + <span style=\"color:red\">-0.106</span> + <span style=\"color:blue\">+0.041</span> + <span style=\"color:red\">-0.122</span> + <span style=\"color:blue\">+0.091</span> + <span style=\"color:blue\">+0.014</span> + <span style=\"color:blue\">+0.291</span> = <span style=\"color:blue; text-decoration:underline\">+0.416</span></div><div style=\"font-family:monaco; font-size:12px\">dL/dw2 = <span style=\"color:blue\">+0.176</span> + <span style=\"color:red\">-0.000</span> + <span style=\"color:blue\">+0.017</span> + <span style=\"color:blue\">+0.019</span> + <span style=\"color:blue\">+0.034</span> + <span style=\"color:blue\">+0.040</span> + <span style=\"color:blue\">+0.057</span> + <span style=\"color:blue\">+0.435</span> = <span style=\"color:blue; text-decoration:underline\">+0.777</span></div><div style=\"font-family:monaco; font-size:12px\">dL/dw4 = <span style=\"color:blue\">+0.192</span> + <span style=\"color:blue\">+0.000</span> + <span style=\"color:red\">-0.081</span> + <span style=\"color:blue\">+0.036</span> + <span style=\"color:red\">-0.082</span> + <span style=\"color:blue\">+0.116</span> + <span style=\"color:red\">-0.001</span> + <span style=\"color:blue\">+0.251</span> = <span style=\"color:blue; text-decoration:underline\">+0.432</span></div><div style=\"font-family:monaco; font-size:12px\">dL/dw5 = <span style=\"color:blue\">+0.192</span> + <span style=\"color:blue\">+0.000</span> + <span style=\"color:red\">-0.001</span> + <span style=\"color:blue\">+0.024</span> + <span style=\"color:red\">-0.002</span> + <span style=\"color:blue\">+0.002</span> + <span style=\"color:blue\">+0.083</span> + <span style=\"color:blue\">+0.507</span> = <span style=\"color:blue; text-decoration:underline\">+0.804</span></div>"
      ],
      "text/plain": [
       "<IPython.core.display.Markdown object>"
      ]
     },
     "metadata": {},
     "output_type": "display_data"
    },
    {
     "name": "stdout",
     "output_type": "stream",
     "text": [
      "w1=+0.440, w2=+0.373, w3=+1.000, w4=+0.484, w5=+0.322\n",
      "\n"
     ]
    },
    {
     "data": {
      "text/markdown": [
       "<div style=\"font-weight:bold\">Iteration 3</div>"
      ],
      "text/plain": [
       "<IPython.core.display.Markdown object>"
      ]
     },
     "metadata": {},
     "output_type": "display_data"
    },
    {
     "name": "stdout",
     "output_type": "stream",
     "text": [
      "Output: [+0.660, +0.502, +0.555, +0.707, +0.557, +0.601, +0.439, +0.289]\n",
      "Target: [+0.500, +0.500, +0.731, +0.731, +0.731, +0.500, +0.500, +0.500]\n",
      "Memory: [+0.662, +0.008, +0.221, +0.883, +0.229, +0.410, -0.244, -0.898]\n",
      "Input : [+0.821, -0.811, +0.440, +0.821, -0.811, +0.373, -0.811, -0.811]\n",
      "Gate  : [+0.806, +0.806, +0.484, +0.806, +0.806, +0.484, +0.806, +0.806]\n"
     ]
    },
    {
     "data": {
      "text/markdown": [
       "<div>Loss: <span style=\"font-weight:bold\">0.31157</span>= <span style=\"font-family:monaco\">0.054 + 0.000 + 0.066 + 0.001 + 0.065 + 0.021 + 0.007 + 0.098</span></div><div style=\"font-family:monaco; font-size:12px\">dL/dw1 = <span style=\"color:blue\">+0.140</span> + <span style=\"color:blue\">+0.000</span> + <span style=\"color:red\">-0.102</span> + <span style=\"color:red\">-0.034</span> + <span style=\"color:red\">-0.117</span> + <span style=\"color:blue\">+0.068</span> + <span style=\"color:blue\">+0.007</span> + <span style=\"color:blue\">+0.188</span> = <span style=\"color:blue; text-decoration:underline\">+0.150</span></div><div style=\"font-family:monaco; font-size:12px\">dL/dw2 = <span style=\"color:blue\">+0.118</span> + <span style=\"color:red\">-0.000</span> + <span style=\"color:blue\">+0.016</span> + <span style=\"color:red\">-0.015</span> + <span style=\"color:blue\">+0.031</span> + <span style=\"color:blue\">+0.031</span> + <span style=\"color:blue\">+0.032</span> + <span style=\"color:blue\">+0.285</span> = <span style=\"color:blue; text-decoration:underline\">+0.497</span></div><div style=\"font-family:monaco; font-size:12px\">dL/dw4 = <span style=\"color:blue\">+0.131</span> + <span style=\"color:blue\">+0.000</span> + <span style=\"color:red\">-0.079</span> + <span style=\"color:red\">-0.030</span> + <span style=\"color:red\">-0.080</span> + <span style=\"color:blue\">+0.084</span> + <span style=\"color:red\">-0.001</span> + <span style=\"color:blue\">+0.166</span> = <span style=\"color:blue; text-decoration:underline\">+0.191</span></div><div style=\"font-family:monaco; font-size:12px\">dL/dw5 = <span style=\"color:blue\">+0.131</span> + <span style=\"color:blue\">+0.000</span> + <span style=\"color:red\">-0.002</span> + <span style=\"color:red\">-0.020</span> + <span style=\"color:red\">-0.003</span> + <span style=\"color:blue\">+0.002</span> + <span style=\"color:blue\">+0.048</span> + <span style=\"color:blue\">+0.338</span> = <span style=\"color:blue; text-decoration:underline\">+0.494</span></div>"
      ],
      "text/plain": [
       "<IPython.core.display.Markdown object>"
      ]
     },
     "metadata": {},
     "output_type": "display_data"
    },
    {
     "name": "stdout",
     "output_type": "stream",
     "text": [
      "w1=+0.425, w2=+0.324, w3=+1.000, w4=+0.465, w5=+0.272\n",
      "\n"
     ]
    },
    {
     "data": {
      "text/markdown": [
       "<div style=\"font-weight:bold\">Iteration 4</div>"
      ],
      "text/plain": [
       "<IPython.core.display.Markdown object>"
      ]
     },
     "metadata": {},
     "output_type": "display_data"
    },
    {
     "name": "stdout",
     "output_type": "stream",
     "text": [
      "Output: [+0.636, +0.502, +0.552, +0.683, +0.554, +0.591, +0.455, +0.325]\n",
      "Target: [+0.500, +0.500, +0.731, +0.731, +0.731, +0.500, +0.500, +0.500]\n",
      "Memory: [+0.560, +0.010, +0.208, +0.767, +0.218, +0.368, -0.182, -0.731]\n",
      "Input : [+0.759, -0.746, +0.425, +0.759, -0.746, +0.324, -0.746, -0.746]\n",
      "Gate  : [+0.737, +0.737, +0.465, +0.737, +0.737, +0.465, +0.737, +0.737]\n"
     ]
    },
    {
     "data": {
      "text/markdown": [
       "<div>Loss: <span style=\"font-weight:bold\">0.26550</span>= <span style=\"font-family:monaco\">0.039 + 0.000 + 0.068 + 0.006 + 0.067 + 0.017 + 0.004 + 0.065</span></div><div style=\"font-family:monaco; font-size:12px\">dL/dw1 = <span style=\"color:blue\">+0.109</span> + <span style=\"color:blue\">+0.000</span> + <span style=\"color:red\">-0.099</span> + <span style=\"color:red\">-0.065</span> + <span style=\"color:red\">-0.112</span> + <span style=\"color:blue\">+0.058</span> + <span style=\"color:blue\">+0.004</span> + <span style=\"color:blue\">+0.139</span> = <span style=\"color:blue; text-decoration:underline\">+0.034</span></div><div style=\"font-family:monaco; font-size:12px\">dL/dw2 = <span style=\"color:blue\">+0.093</span> + <span style=\"color:red\">-0.000</span> + <span style=\"color:blue\">+0.014</span> + <span style=\"color:red\">-0.029</span> + <span style=\"color:blue\">+0.029</span> + <span style=\"color:blue\">+0.028</span> + <span style=\"color:blue\">+0.021</span> + <span style=\"color:blue\">+0.213</span> = <span style=\"color:blue; text-decoration:underline\">+0.368</span></div><div style=\"font-family:monaco; font-size:12px\">dL/dw4 = <span style=\"color:blue\">+0.104</span> + <span style=\"color:blue\">+0.000</span> + <span style=\"color:red\">-0.079</span> + <span style=\"color:red\">-0.058</span> + <span style=\"color:red\">-0.080</span> + <span style=\"color:blue\">+0.071</span> + <span style=\"color:red\">-0.001</span> + <span style=\"color:blue\">+0.125</span> = <span style=\"color:blue; text-decoration:underline\">+0.082</span></div><div style=\"font-family:monaco; font-size:12px\">dL/dw5 = <span style=\"color:blue\">+0.104</span> + <span style=\"color:blue\">+0.000</span> + <span style=\"color:red\">-0.002</span> + <span style=\"color:red\">-0.037</span> + <span style=\"color:red\">-0.005</span> + <span style=\"color:blue\">+0.002</span> + <span style=\"color:blue\">+0.033</span> + <span style=\"color:blue\">+0.256</span> = <span style=\"color:blue; text-decoration:underline\">+0.351</span></div>"
      ],
      "text/plain": [
       "<IPython.core.display.Markdown object>"
      ]
     },
     "metadata": {},
     "output_type": "display_data"
    },
    {
     "name": "stdout",
     "output_type": "stream",
     "text": [
      "w1=+0.421, w2=+0.287, w3=+1.000, w4=+0.457, w5=+0.237\n",
      "\n"
     ]
    },
    {
     "data": {
      "text/markdown": [
       "<div style=\"font-weight:bold\">Iteration 5</div>"
      ],
      "text/plain": [
       "<IPython.core.display.Markdown object>"
      ]
     },
     "metadata": {},
     "output_type": "display_data"
    },
    {
     "name": "stdout",
     "output_type": "stream",
     "text": [
      "Output: [+0.623, +0.503, +0.551, +0.669, +0.554, +0.586, +0.465, +0.347]\n",
      "Target: [+0.500, +0.500, +0.731, +0.731, +0.731, +0.500, +0.500, +0.500]\n",
      "Memory: [+0.501, +0.012, +0.204, +0.705, +0.216, +0.347, -0.141, -0.630]\n",
      "Input : [+0.722, -0.705, +0.421, +0.722, -0.705, +0.287, -0.705, -0.705]\n",
      "Gate  : [+0.694, +0.694, +0.457, +0.694, +0.694, +0.457, +0.694, +0.694]\n"
     ]
    },
    {
     "data": {
      "text/markdown": [
       "<div>Loss: <span style=\"font-weight:bold\">0.24204</span>= <span style=\"font-family:monaco\">0.031 + 0.000 + 0.069 + 0.009 + 0.067 + 0.015 + 0.002 + 0.049</span></div><div style=\"font-family:monaco; font-size:12px\">dL/dw1 = <span style=\"color:blue\">+0.092</span> + <span style=\"color:blue\">+0.000</span> + <span style=\"color:red\">-0.097</span> + <span style=\"color:red\">-0.080</span> + <span style=\"color:red\">-0.109</span> + <span style=\"color:blue\">+0.053</span> + <span style=\"color:blue\">+0.002</span> + <span style=\"color:blue\">+0.111</span> = <span style=\"color:red; text-decoration:underline\">-0.026</span></div><div style=\"font-family:monaco; font-size:12px\">dL/dw2 = <span style=\"color:blue\">+0.078</span> + <span style=\"color:red\">-0.000</span> + <span style=\"color:blue\">+0.014</span> + <span style=\"color:red\">-0.035</span> + <span style=\"color:blue\">+0.027</span> + <span style=\"color:blue\">+0.026</span> + <span style=\"color:blue\">+0.014</span> + <span style=\"color:blue\">+0.172</span> = <span style=\"color:blue; text-decoration:underline\">+0.296</span></div><div style=\"font-family:monaco; font-size:12px\">dL/dw4 = <span style=\"color:blue\">+0.089</span> + <span style=\"color:blue\">+0.000</span> + <span style=\"color:red\">-0.079</span> + <span style=\"color:red\">-0.072</span> + <span style=\"color:red\">-0.081</span> + <span style=\"color:blue\">+0.064</span> + <span style=\"color:red\">-0.001</span> + <span style=\"color:blue\">+0.102</span> = <span style=\"color:blue; text-decoration:underline\">+0.021</span></div><div style=\"font-family:monaco; font-size:12px\">dL/dw5 = <span style=\"color:blue\">+0.089</span> + <span style=\"color:blue\">+0.000</span> + <span style=\"color:red\">-0.003</span> + <span style=\"color:red\">-0.046</span> + <span style=\"color:red\">-0.006</span> + <span style=\"color:blue\">+0.003</span> + <span style=\"color:blue\">+0.024</span> + <span style=\"color:blue\">+0.210</span> = <span style=\"color:blue; text-decoration:underline\">+0.270</span></div>"
      ],
      "text/plain": [
       "<IPython.core.display.Markdown object>"
      ]
     },
     "metadata": {},
     "output_type": "display_data"
    },
    {
     "name": "stdout",
     "output_type": "stream",
     "text": [
      "w1=+0.424, w2=+0.257, w3=+1.000, w4=+0.455, w5=+0.210\n",
      "\n"
     ]
    },
    {
     "data": {
      "text/markdown": [
       "<div style=\"font-weight:bold\">Iteration 6</div>"
      ],
      "text/plain": [
       "<IPython.core.display.Markdown object>"
      ]
     },
     "metadata": {},
     "output_type": "display_data"
    },
    {
     "name": "stdout",
     "output_type": "stream",
     "text": [
      "Output: [+0.614, +0.503, +0.551, +0.662, +0.555, +0.584, +0.472, +0.363]\n",
      "Target: [+0.500, +0.500, +0.731, +0.731, +0.731, +0.500, +0.500, +0.500]\n",
      "Memory: [+0.464, +0.014, +0.207, +0.670, +0.220, +0.337, -0.112, -0.562]\n",
      "Input : [+0.697, -0.677, +0.424, +0.697, -0.677, +0.257, -0.677, -0.677]\n",
      "Gate  : [+0.665, +0.665, +0.455, +0.665, +0.665, +0.455, +0.665, +0.665]\n"
     ]
    },
    {
     "data": {
      "text/markdown": [
       "<div>Loss: <span style=\"font-weight:bold\">0.22720</span>= <span style=\"font-family:monaco\">0.027 + 0.000 + 0.069 + 0.011 + 0.066 + 0.014 + 0.002 + 0.039</span></div><div style=\"font-family:monaco; font-size:12px\">dL/dw1 = <span style=\"color:blue\">+0.082</span> + <span style=\"color:blue\">+0.000</span> + <span style=\"color:red\">-0.095</span> + <span style=\"color:red\">-0.087</span> + <span style=\"color:red\">-0.107</span> + <span style=\"color:blue\">+0.051</span> + <span style=\"color:blue\">+0.001</span> + <span style=\"color:blue\">+0.093</span> = <span style=\"color:red; text-decoration:underline\">-0.062</span></div><div style=\"font-family:monaco; font-size:12px\">dL/dw2 = <span style=\"color:blue\">+0.070</span> + <span style=\"color:red\">-0.000</span> + <span style=\"color:blue\">+0.013</span> + <span style=\"color:red\">-0.038</span> + <span style=\"color:blue\">+0.026</span> + <span style=\"color:blue\">+0.026</span> + <span style=\"color:blue\">+0.011</span> + <span style=\"color:blue\">+0.145</span> = <span style=\"color:blue; text-decoration:underline\">+0.252</span></div><div style=\"font-family:monaco; font-size:12px\">dL/dw4 = <span style=\"color:blue\">+0.079</span> + <span style=\"color:blue\">+0.000</span> + <span style=\"color:red\">-0.080</span> + <span style=\"color:red\">-0.079</span> + <span style=\"color:red\">-0.082</span> + <span style=\"color:blue\">+0.060</span> + <span style=\"color:red\">-0.001</span> + <span style=\"color:blue\">+0.086</span> = <span style=\"color:red; text-decoration:underline\">-0.016</span></div><div style=\"font-family:monaco; font-size:12px\">dL/dw5 = <span style=\"color:blue\">+0.079</span> + <span style=\"color:blue\">+0.000</span> + <span style=\"color:red\">-0.004</span> + <span style=\"color:red\">-0.050</span> + <span style=\"color:red\">-0.007</span> + <span style=\"color:blue\">+0.003</span> + <span style=\"color:blue\">+0.018</span> + <span style=\"color:blue\">+0.180</span> = <span style=\"color:blue; text-decoration:underline\">+0.219</span></div>"
      ],
      "text/plain": [
       "<IPython.core.display.Markdown object>"
      ]
     },
     "metadata": {},
     "output_type": "display_data"
    },
    {
     "name": "stdout",
     "output_type": "stream",
     "text": [
      "w1=+0.430, w2=+0.232, w3=+1.000, w4=+0.456, w5=+0.188\n",
      "\n"
     ]
    },
    {
     "data": {
      "text/markdown": [
       "<div style=\"font-weight:bold\">Iteration 7</div>"
      ],
      "text/plain": [
       "<IPython.core.display.Markdown object>"
      ]
     },
     "metadata": {},
     "output_type": "display_data"
    },
    {
     "name": "stdout",
     "output_type": "stream",
     "text": [
      "Output: [+0.608, +0.504, +0.553, +0.657, +0.557, +0.583, +0.478, +0.375]\n",
      "Target: [+0.500, +0.500, +0.731, +0.731, +0.731, +0.500, +0.500, +0.500]\n",
      "Memory: [+0.439, +0.016, +0.212, +0.651, +0.228, +0.333, -0.090, -0.513]\n",
      "Input : [+0.681, -0.657, +0.430, +0.681, -0.657, +0.232, -0.657, -0.657]\n",
      "Gate  : [+0.644, +0.644, +0.456, +0.644, +0.644, +0.456, +0.644, +0.644]\n"
     ]
    },
    {
     "data": {
      "text/markdown": [
       "<div>Loss: <span style=\"font-weight:bold\">0.21627</span>= <span style=\"font-family:monaco\">0.024 + 0.000 + 0.068 + 0.013 + 0.065 + 0.014 + 0.001 + 0.033</span></div><div style=\"font-family:monaco; font-size:12px\">dL/dw1 = <span style=\"color:blue\">+0.076</span> + <span style=\"color:blue\">+0.000</span> + <span style=\"color:red\">-0.095</span> + <span style=\"color:red\">-0.091</span> + <span style=\"color:red\">-0.105</span> + <span style=\"color:blue\">+0.050</span> + <span style=\"color:blue\">+0.000</span> + <span style=\"color:blue\">+0.081</span> = <span style=\"color:red; text-decoration:underline\">-0.084</span></div><div style=\"font-family:monaco; font-size:12px\">dL/dw2 = <span style=\"color:blue\">+0.064</span> + <span style=\"color:red\">-0.000</span> + <span style=\"color:blue\">+0.013</span> + <span style=\"color:red\">-0.039</span> + <span style=\"color:blue\">+0.025</span> + <span style=\"color:blue\">+0.026</span> + <span style=\"color:blue\">+0.008</span> + <span style=\"color:blue\">+0.127</span> = <span style=\"color:blue; text-decoration:underline\">+0.223</span></div><div style=\"font-family:monaco; font-size:12px\">dL/dw4 = <span style=\"color:blue\">+0.073</span> + <span style=\"color:blue\">+0.000</span> + <span style=\"color:red\">-0.081</span> + <span style=\"color:red\">-0.084</span> + <span style=\"color:red\">-0.083</span> + <span style=\"color:blue\">+0.059</span> + <span style=\"color:red\">-0.001</span> + <span style=\"color:blue\">+0.076</span> = <span style=\"color:red; text-decoration:underline\">-0.042</span></div><div style=\"font-family:monaco; font-size:12px\">dL/dw5 = <span style=\"color:blue\">+0.073</span> + <span style=\"color:blue\">+0.000</span> + <span style=\"color:red\">-0.004</span> + <span style=\"color:red\">-0.052</span> + <span style=\"color:red\">-0.008</span> + <span style=\"color:blue\">+0.004</span> + <span style=\"color:blue\">+0.014</span> + <span style=\"color:blue\">+0.159</span> = <span style=\"color:blue; text-decoration:underline\">+0.185</span></div>"
      ],
      "text/plain": [
       "<IPython.core.display.Markdown object>"
      ]
     },
     "metadata": {},
     "output_type": "display_data"
    },
    {
     "name": "stdout",
     "output_type": "stream",
     "text": [
      "w1=+0.439, w2=+0.210, w3=+1.000, w4=+0.461, w5=+0.170\n",
      "\n"
     ]
    },
    {
     "data": {
      "text/markdown": [
       "<div style=\"font-weight:bold\">Iteration 8</div>"
      ],
      "text/plain": [
       "<IPython.core.display.Markdown object>"
      ]
     },
     "metadata": {},
     "output_type": "display_data"
    },
    {
     "name": "stdout",
     "output_type": "stream",
     "text": [
      "Output: [+0.604, +0.504, +0.555, +0.655, +0.559, +0.583, +0.482, +0.383]\n",
      "Target: [+0.500, +0.500, +0.731, +0.731, +0.731, +0.500, +0.500, +0.500]\n",
      "Memory: [+0.422, +0.017, +0.219, +0.641, +0.237, +0.333, -0.071, -0.475]\n",
      "Input : [+0.669, -0.642, +0.439, +0.669, -0.642, +0.210, -0.642, -0.642]\n",
      "Gate  : [+0.630, +0.630, +0.461, +0.630, +0.630, +0.461, +0.630, +0.630]\n"
     ]
    },
    {
     "data": {
      "text/markdown": [
       "<div>Loss: <span style=\"font-weight:bold\">0.20735</span>= <span style=\"font-family:monaco\">0.022 + 0.000 + 0.066 + 0.013 + 0.063 + 0.014 + 0.001 + 0.028</span></div><div style=\"font-family:monaco; font-size:12px\">dL/dw1 = <span style=\"color:blue\">+0.071</span> + <span style=\"color:blue\">+0.000</span> + <span style=\"color:red\">-0.094</span> + <span style=\"color:red\">-0.093</span> + <span style=\"color:red\">-0.104</span> + <span style=\"color:blue\">+0.050</span> + <span style=\"color:blue\">+0.000</span> + <span style=\"color:blue\">+0.072</span> = <span style=\"color:red; text-decoration:underline\">-0.097</span></div><div style=\"font-family:monaco; font-size:12px\">dL/dw2 = <span style=\"color:blue\">+0.060</span> + <span style=\"color:red\">-0.000</span> + <span style=\"color:blue\">+0.012</span> + <span style=\"color:red\">-0.039</span> + <span style=\"color:blue\">+0.024</span> + <span style=\"color:blue\">+0.027</span> + <span style=\"color:blue\">+0.006</span> + <span style=\"color:blue\">+0.114</span> = <span style=\"color:blue; text-decoration:underline\">+0.203</span></div><div style=\"font-family:monaco; font-size:12px\">dL/dw4 = <span style=\"color:blue\">+0.070</span> + <span style=\"color:blue\">+0.000</span> + <span style=\"color:red\">-0.082</span> + <span style=\"color:red\">-0.086</span> + <span style=\"color:red\">-0.085</span> + <span style=\"color:blue\">+0.058</span> + <span style=\"color:red\">-0.001</span> + <span style=\"color:blue\">+0.068</span> = <span style=\"color:red; text-decoration:underline\">-0.059</span></div><div style=\"font-family:monaco; font-size:12px\">dL/dw5 = <span style=\"color:blue\">+0.070</span> + <span style=\"color:blue\">+0.000</span> + <span style=\"color:red\">-0.005</span> + <span style=\"color:red\">-0.053</span> + <span style=\"color:red\">-0.010</span> + <span style=\"color:blue\">+0.005</span> + <span style=\"color:blue\">+0.010</span> + <span style=\"color:blue\">+0.143</span> = <span style=\"color:blue; text-decoration:underline\">+0.161</span></div>"
      ],
      "text/plain": [
       "<IPython.core.display.Markdown object>"
      ]
     },
     "metadata": {},
     "output_type": "display_data"
    },
    {
     "name": "stdout",
     "output_type": "stream",
     "text": [
      "w1=+0.448, w2=+0.189, w3=+1.000, w4=+0.466, w5=+0.154\n",
      "\n"
     ]
    },
    {
     "data": {
      "text/markdown": [
       "<div style=\"font-weight:bold\">Iteration 9</div>"
      ],
      "text/plain": [
       "<IPython.core.display.Markdown object>"
      ]
     },
     "metadata": {},
     "output_type": "display_data"
    },
    {
     "name": "stdout",
     "output_type": "stream",
     "text": [
      "Output: [+0.601, +0.505, +0.557, +0.654, +0.562, +0.583, +0.486, +0.390]\n",
      "Target: [+0.500, +0.500, +0.731, +0.731, +0.731, +0.500, +0.500, +0.500]\n",
      "Memory: [+0.410, +0.019, +0.228, +0.638, +0.248, +0.336, -0.055, -0.446]\n",
      "Input : [+0.661, -0.630, +0.448, +0.661, -0.630, +0.189, -0.630, -0.630]\n",
      "Gate  : [+0.620, +0.620, +0.466, +0.620, +0.620, +0.466, +0.620, +0.620]\n"
     ]
    },
    {
     "data": {
      "text/markdown": [
       "<div>Loss: <span style=\"font-weight:bold\">0.19955</span>= <span style=\"font-family:monaco\">0.021 + 0.000 + 0.065 + 0.014 + 0.061 + 0.014 + 0.000 + 0.025</span></div><div style=\"font-family:monaco; font-size:12px\">dL/dw1 = <span style=\"color:blue\">+0.068</span> + <span style=\"color:blue\">+0.000</span> + <span style=\"color:red\">-0.094</span> + <span style=\"color:red\">-0.093</span> + <span style=\"color:red\">-0.103</span> + <span style=\"color:blue\">+0.051</span> + <span style=\"color:red\">-0.000</span> + <span style=\"color:blue\">+0.065</span> = <span style=\"color:red; text-decoration:underline\">-0.106</span></div><div style=\"font-family:monaco; font-size:12px\">dL/dw2 = <span style=\"color:blue\">+0.058</span> + <span style=\"color:red\">-0.000</span> + <span style=\"color:blue\">+0.012</span> + <span style=\"color:red\">-0.039</span> + <span style=\"color:blue\">+0.023</span> + <span style=\"color:blue\">+0.028</span> + <span style=\"color:blue\">+0.004</span> + <span style=\"color:blue\">+0.104</span> = <span style=\"color:blue; text-decoration:underline\">+0.189</span></div><div style=\"font-family:monaco; font-size:12px\">dL/dw4 = <span style=\"color:blue\">+0.067</span> + <span style=\"color:blue\">+0.000</span> + <span style=\"color:red\">-0.084</span> + <span style=\"color:red\">-0.087</span> + <span style=\"color:red\">-0.086</span> + <span style=\"color:blue\">+0.058</span> + <span style=\"color:red\">-0.001</span> + <span style=\"color:blue\">+0.061</span> = <span style=\"color:red; text-decoration:underline\">-0.072</span></div><div style=\"font-family:monaco; font-size:12px\">dL/dw5 = <span style=\"color:blue\">+0.067</span> + <span style=\"color:blue\">+0.000</span> + <span style=\"color:red\">-0.005</span> + <span style=\"color:red\">-0.053</span> + <span style=\"color:red\">-0.010</span> + <span style=\"color:blue\">+0.005</span> + <span style=\"color:blue\">+0.008</span> + <span style=\"color:blue\">+0.131</span> = <span style=\"color:blue; text-decoration:underline\">+0.142</span></div>"
      ],
      "text/plain": [
       "<IPython.core.display.Markdown object>"
      ]
     },
     "metadata": {},
     "output_type": "display_data"
    },
    {
     "name": "stdout",
     "output_type": "stream",
     "text": [
      "w1=+0.459, w2=+0.170, w3=+1.000, w4=+0.474, w5=+0.139\n",
      "\n"
     ]
    },
    {
     "data": {
      "text/markdown": [
       "<div style=\"font-weight:bold\">Iteration 10</div>"
      ],
      "text/plain": [
       "<IPython.core.display.Markdown object>"
      ]
     },
     "metadata": {},
     "output_type": "display_data"
    },
    {
     "name": "stdout",
     "output_type": "stream",
     "text": [
      "Output: [+0.599, +0.505, +0.559, +0.655, +0.564, +0.584, +0.490, +0.396]\n",
      "Target: [+0.500, +0.500, +0.731, +0.731, +0.731, +0.500, +0.500, +0.500]\n",
      "Memory: [+0.402, +0.021, +0.238, +0.640, +0.259, +0.340, -0.041, -0.421]\n",
      "Input : [+0.655, -0.621, +0.459, +0.655, -0.621, +0.170, -0.621, -0.621]\n",
      "Gate  : [+0.613, +0.613, +0.474, +0.613, +0.613, +0.474, +0.613, +0.613]\n"
     ]
    },
    {
     "data": {
      "text/markdown": [
       "<div>Loss: <span style=\"font-weight:bold\">0.19246</span>= <span style=\"font-family:monaco\">0.020 + 0.000 + 0.063 + 0.013 + 0.059 + 0.014 + 0.000 + 0.022</span></div><div style=\"font-family:monaco; font-size:12px\">dL/dw1 = <span style=\"color:blue\">+0.066</span> + <span style=\"color:blue\">+0.000</span> + <span style=\"color:red\">-0.093</span> + <span style=\"color:red\">-0.092</span> + <span style=\"color:red\">-0.102</span> + <span style=\"color:blue\">+0.052</span> + <span style=\"color:red\">-0.000</span> + <span style=\"color:blue\">+0.060</span> = <span style=\"color:red; text-decoration:underline\">-0.111</span></div><div style=\"font-family:monaco; font-size:12px\">dL/dw2 = <span style=\"color:blue\">+0.056</span> + <span style=\"color:red\">-0.000</span> + <span style=\"color:blue\">+0.012</span> + <span style=\"color:red\">-0.038</span> + <span style=\"color:blue\">+0.022</span> + <span style=\"color:blue\">+0.029</span> + <span style=\"color:blue\">+0.003</span> + <span style=\"color:blue\">+0.096</span> = <span style=\"color:blue; text-decoration:underline\">+0.179</span></div><div style=\"font-family:monaco; font-size:12px\">dL/dw4 = <span style=\"color:blue\">+0.065</span> + <span style=\"color:blue\">+0.000</span> + <span style=\"color:red\">-0.085</span> + <span style=\"color:red\">-0.088</span> + <span style=\"color:red\">-0.088</span> + <span style=\"color:blue\">+0.059</span> + <span style=\"color:red\">-0.001</span> + <span style=\"color:blue\">+0.056</span> = <span style=\"color:red; text-decoration:underline\">-0.081</span></div><div style=\"font-family:monaco; font-size:12px\">dL/dw5 = <span style=\"color:blue\">+0.065</span> + <span style=\"color:blue\">+0.000</span> + <span style=\"color:red\">-0.006</span> + <span style=\"color:red\">-0.053</span> + <span style=\"color:red\">-0.011</span> + <span style=\"color:blue\">+0.006</span> + <span style=\"color:blue\">+0.006</span> + <span style=\"color:blue\">+0.122</span> = <span style=\"color:blue; text-decoration:underline\">+0.128</span></div>"
      ],
      "text/plain": [
       "<IPython.core.display.Markdown object>"
      ]
     },
     "metadata": {},
     "output_type": "display_data"
    },
    {
     "name": "stdout",
     "output_type": "stream",
     "text": [
      "w1=+0.470, w2=+0.153, w3=+1.000, w4=+0.482, w5=+0.126\n",
      "\n"
     ]
    },
    {
     "data": {
      "text/markdown": [
       "<div style=\"font-weight:bold\">Iteration 11</div>"
      ],
      "text/plain": [
       "<IPython.core.display.Markdown object>"
      ]
     },
     "metadata": {},
     "output_type": "display_data"
    },
    {
     "name": "stdout",
     "output_type": "stream",
     "text": [
      "Output: [+0.598, +0.506, +0.562, +0.656, +0.568, +0.586, +0.493, +0.401]\n",
      "Target: [+0.500, +0.500, +0.731, +0.731, +0.731, +0.500, +0.500, +0.500]\n",
      "Memory: [+0.396, +0.023, +0.249, +0.645, +0.272, +0.345, -0.028, -0.401]\n",
      "Input : [+0.651, -0.613, +0.470, +0.651, -0.613, +0.153, -0.613, -0.613]\n",
      "Gate  : [+0.608, +0.608, +0.482, +0.608, +0.608, +0.482, +0.608, +0.608]\n"
     ]
    },
    {
     "data": {
      "text/markdown": [
       "<div>Loss: <span style=\"font-weight:bold\">0.18584</span>= <span style=\"font-family:monaco\">0.019 + 0.000 + 0.061 + 0.013 + 0.057 + 0.015 + 0.000 + 0.020</span></div><div style=\"font-family:monaco; font-size:12px\">dL/dw1 = <span style=\"color:blue\">+0.064</span> + <span style=\"color:blue\">+0.000</span> + <span style=\"color:red\">-0.093</span> + <span style=\"color:red\">-0.091</span> + <span style=\"color:red\">-0.102</span> + <span style=\"color:blue\">+0.053</span> + <span style=\"color:red\">-0.000</span> + <span style=\"color:blue\">+0.055</span> = <span style=\"color:red; text-decoration:underline\">-0.113</span></div><div style=\"font-family:monaco; font-size:12px\">dL/dw2 = <span style=\"color:blue\">+0.055</span> + <span style=\"color:red\">-0.000</span> + <span style=\"color:blue\">+0.011</span> + <span style=\"color:red\">-0.037</span> + <span style=\"color:blue\">+0.022</span> + <span style=\"color:blue\">+0.030</span> + <span style=\"color:blue\">+0.002</span> + <span style=\"color:blue\">+0.089</span> = <span style=\"color:blue; text-decoration:underline\">+0.171</span></div><div style=\"font-family:monaco; font-size:12px\">dL/dw4 = <span style=\"color:blue\">+0.064</span> + <span style=\"color:blue\">+0.000</span> + <span style=\"color:red\">-0.086</span> + <span style=\"color:red\">-0.087</span> + <span style=\"color:red\">-0.089</span> + <span style=\"color:blue\">+0.060</span> + <span style=\"color:red\">-0.001</span> + <span style=\"color:blue\">+0.052</span> = <span style=\"color:red; text-decoration:underline\">-0.087</span></div><div style=\"font-family:monaco; font-size:12px\">dL/dw5 = <span style=\"color:blue\">+0.064</span> + <span style=\"color:blue\">+0.000</span> + <span style=\"color:red\">-0.006</span> + <span style=\"color:red\">-0.052</span> + <span style=\"color:red\">-0.012</span> + <span style=\"color:blue\">+0.006</span> + <span style=\"color:blue\">+0.004</span> + <span style=\"color:blue\">+0.114</span> = <span style=\"color:blue; text-decoration:underline\">+0.117</span></div>"
      ],
      "text/plain": [
       "<IPython.core.display.Markdown object>"
      ]
     },
     "metadata": {},
     "output_type": "display_data"
    },
    {
     "name": "stdout",
     "output_type": "stream",
     "text": [
      "w1=+0.481, w2=+0.135, w3=+1.000, w4=+0.490, w5=+0.115\n",
      "\n"
     ]
    },
    {
     "data": {
      "text/markdown": [
       "<div style=\"font-weight:bold\">Iteration 12</div>"
      ],
      "text/plain": [
       "<IPython.core.display.Markdown object>"
      ]
     },
     "metadata": {},
     "output_type": "display_data"
    },
    {
     "name": "stdout",
     "output_type": "stream",
     "text": [
      "Output: [+0.597, +0.506, +0.565, +0.658, +0.571, +0.587, +0.496, +0.406]\n",
      "Target: [+0.500, +0.500, +0.731, +0.731, +0.731, +0.500, +0.500, +0.500]\n",
      "Memory: [+0.392, +0.025, +0.261, +0.652, +0.285, +0.352, -0.015, -0.383]\n",
      "Input : [+0.647, -0.607, +0.481, +0.647, -0.607, +0.135, -0.607, -0.607]\n",
      "Gate  : [+0.605, +0.605, +0.490, +0.605, +0.605, +0.490, +0.605, +0.605]\n"
     ]
    },
    {
     "data": {
      "text/markdown": [
       "<div>Loss: <span style=\"font-weight:bold\">0.17957</span>= <span style=\"font-family:monaco\">0.019 + 0.000 + 0.059 + 0.012 + 0.055 + 0.015 + 0.000 + 0.018</span></div><div style=\"font-family:monaco; font-size:12px\">dL/dw1 = <span style=\"color:blue\">+0.064</span> + <span style=\"color:blue\">+0.000</span> + <span style=\"color:red\">-0.093</span> + <span style=\"color:red\">-0.089</span> + <span style=\"color:red\">-0.101</span> + <span style=\"color:blue\">+0.055</span> + <span style=\"color:red\">-0.000</span> + <span style=\"color:blue\">+0.051</span> = <span style=\"color:red; text-decoration:underline\">-0.113</span></div><div style=\"font-family:monaco; font-size:12px\">dL/dw2 = <span style=\"color:blue\">+0.054</span> + <span style=\"color:red\">-0.000</span> + <span style=\"color:blue\">+0.011</span> + <span style=\"color:red\">-0.036</span> + <span style=\"color:blue\">+0.021</span> + <span style=\"color:blue\">+0.031</span> + <span style=\"color:blue\">+0.001</span> + <span style=\"color:blue\">+0.084</span> = <span style=\"color:blue; text-decoration:underline\">+0.166</span></div><div style=\"font-family:monaco; font-size:12px\">dL/dw4 = <span style=\"color:blue\">+0.063</span> + <span style=\"color:blue\">+0.000</span> + <span style=\"color:red\">-0.087</span> + <span style=\"color:red\">-0.086</span> + <span style=\"color:red\">-0.090</span> + <span style=\"color:blue\">+0.061</span> + <span style=\"color:red\">-0.000</span> + <span style=\"color:blue\">+0.049</span> = <span style=\"color:red; text-decoration:underline\">-0.091</span></div><div style=\"font-family:monaco; font-size:12px\">dL/dw5 = <span style=\"color:blue\">+0.063</span> + <span style=\"color:blue\">+0.000</span> + <span style=\"color:red\">-0.007</span> + <span style=\"color:red\">-0.051</span> + <span style=\"color:red\">-0.013</span> + <span style=\"color:blue\">+0.007</span> + <span style=\"color:blue\">+0.002</span> + <span style=\"color:blue\">+0.107</span> = <span style=\"color:blue; text-decoration:underline\">+0.109</span></div>"
      ],
      "text/plain": [
       "<IPython.core.display.Markdown object>"
      ]
     },
     "metadata": {},
     "output_type": "display_data"
    },
    {
     "name": "stdout",
     "output_type": "stream",
     "text": [
      "w1=+0.493, w2=+0.119, w3=+1.000, w4=+0.499, w5=+0.104\n",
      "\n"
     ]
    },
    {
     "data": {
      "text/markdown": [
       "<div style=\"font-weight:bold\">Iteration 13</div>"
      ],
      "text/plain": [
       "<IPython.core.display.Markdown object>"
      ]
     },
     "metadata": {},
     "output_type": "display_data"
    },
    {
     "name": "stdout",
     "output_type": "stream",
     "text": [
      "Output: [+0.596, +0.507, +0.568, +0.660, +0.574, +0.589, +0.499, +0.409]\n",
      "Target: [+0.500, +0.500, +0.731, +0.731, +0.731, +0.500, +0.500, +0.500]\n",
      "Memory: [+0.389, +0.026, +0.273, +0.661, +0.299, +0.358, -0.004, -0.366]\n",
      "Input : [+0.644, -0.601, +0.493, +0.644, -0.601, +0.119, -0.601, -0.601]\n",
      "Gate  : [+0.603, +0.603, +0.499, +0.603, +0.603, +0.499, +0.603, +0.603]\n"
     ]
    },
    {
     "data": {
      "text/markdown": [
       "<div>Loss: <span style=\"font-weight:bold\">0.17360</span>= <span style=\"font-family:monaco\">0.019 + 0.000 + 0.057 + 0.012 + 0.053 + 0.016 + 0.000 + 0.017</span></div><div style=\"font-family:monaco; font-size:12px\">dL/dw1 = <span style=\"color:blue\">+0.063</span> + <span style=\"color:blue\">+0.000</span> + <span style=\"color:red\">-0.093</span> + <span style=\"color:red\">-0.088</span> + <span style=\"color:red\">-0.100</span> + <span style=\"color:blue\">+0.057</span> + <span style=\"color:red\">-0.000</span> + <span style=\"color:blue\">+0.048</span> = <span style=\"color:red; text-decoration:underline\">-0.113</span></div><div style=\"font-family:monaco; font-size:12px\">dL/dw2 = <span style=\"color:blue\">+0.053</span> + <span style=\"color:red\">-0.000</span> + <span style=\"color:blue\">+0.011</span> + <span style=\"color:red\">-0.035</span> + <span style=\"color:blue\">+0.021</span> + <span style=\"color:blue\">+0.033</span> + <span style=\"color:blue\">+0.000</span> + <span style=\"color:blue\">+0.079</span> = <span style=\"color:blue; text-decoration:underline\">+0.162</span></div><div style=\"font-family:monaco; font-size:12px\">dL/dw4 = <span style=\"color:blue\">+0.062</span> + <span style=\"color:blue\">+0.000</span> + <span style=\"color:red\">-0.088</span> + <span style=\"color:red\">-0.084</span> + <span style=\"color:red\">-0.091</span> + <span style=\"color:blue\">+0.062</span> + <span style=\"color:red\">-0.000</span> + <span style=\"color:blue\">+0.045</span> = <span style=\"color:red; text-decoration:underline\">-0.094</span></div><div style=\"font-family:monaco; font-size:12px\">dL/dw5 = <span style=\"color:blue\">+0.062</span> + <span style=\"color:blue\">+0.000</span> + <span style=\"color:red\">-0.007</span> + <span style=\"color:red\">-0.049</span> + <span style=\"color:red\">-0.014</span> + <span style=\"color:blue\">+0.008</span> + <span style=\"color:blue\">+0.001</span> + <span style=\"color:blue\">+0.101</span> = <span style=\"color:blue; text-decoration:underline\">+0.101</span></div>"
      ],
      "text/plain": [
       "<IPython.core.display.Markdown object>"
      ]
     },
     "metadata": {},
     "output_type": "display_data"
    },
    {
     "name": "stdout",
     "output_type": "stream",
     "text": [
      "w1=+0.504, w2=+0.103, w3=+1.000, w4=+0.509, w5=+0.094\n",
      "\n"
     ]
    },
    {
     "data": {
      "text/markdown": [
       "<div style=\"font-weight:bold\">Iteration 14</div>"
      ],
      "text/plain": [
       "<IPython.core.display.Markdown object>"
      ]
     },
     "metadata": {},
     "output_type": "display_data"
    },
    {
     "name": "stdout",
     "output_type": "stream",
     "text": [
      "Output: [+0.595, +0.507, +0.571, +0.662, +0.578, +0.590, +0.502, +0.413]\n",
      "Target: [+0.500, +0.500, +0.731, +0.731, +0.731, +0.500, +0.500, +0.500]\n",
      "Memory: [+0.387, +0.028, +0.285, +0.671, +0.313, +0.365, +0.007, -0.352]\n",
      "Input : [+0.642, -0.595, +0.504, +0.642, -0.595, +0.103, -0.595, -0.595]\n",
      "Gate  : [+0.603, +0.603, +0.509, +0.603, +0.603, +0.509, +0.603, +0.603]\n"
     ]
    },
    {
     "data": {
      "text/markdown": [
       "<div>Loss: <span style=\"font-weight:bold\">0.16788</span>= <span style=\"font-family:monaco\">0.019 + 0.000 + 0.055 + 0.011 + 0.051 + 0.017 + 0.000 + 0.015</span></div><div style=\"font-family:monaco; font-size:12px\">dL/dw1 = <span style=\"color:blue\">+0.062</span> + <span style=\"color:blue\">+0.000</span> + <span style=\"color:red\">-0.093</span> + <span style=\"color:red\">-0.085</span> + <span style=\"color:red\">-0.099</span> + <span style=\"color:blue\">+0.058</span> + <span style=\"color:blue\">+0.000</span> + <span style=\"color:blue\">+0.045</span> = <span style=\"color:red; text-decoration:underline\">-0.111</span></div><div style=\"font-family:monaco; font-size:12px\">dL/dw2 = <span style=\"color:blue\">+0.053</span> + <span style=\"color:red\">-0.000</span> + <span style=\"color:blue\">+0.011</span> + <span style=\"color:red\">-0.034</span> + <span style=\"color:blue\">+0.020</span> + <span style=\"color:blue\">+0.034</span> + <span style=\"color:red\">-0.000</span> + <span style=\"color:blue\">+0.075</span> = <span style=\"color:blue; text-decoration:underline\">+0.158</span></div><div style=\"font-family:monaco; font-size:12px\">dL/dw4 = <span style=\"color:blue\">+0.061</span> + <span style=\"color:blue\">+0.000</span> + <span style=\"color:red\">-0.088</span> + <span style=\"color:red\">-0.083</span> + <span style=\"color:red\">-0.092</span> + <span style=\"color:blue\">+0.063</span> + <span style=\"color:blue\">+0.000</span> + <span style=\"color:blue\">+0.043</span> = <span style=\"color:red; text-decoration:underline\">-0.095</span></div><div style=\"font-family:monaco; font-size:12px\">dL/dw5 = <span style=\"color:blue\">+0.061</span> + <span style=\"color:blue\">+0.000</span> + <span style=\"color:red\">-0.008</span> + <span style=\"color:red\">-0.048</span> + <span style=\"color:red\">-0.014</span> + <span style=\"color:blue\">+0.008</span> + <span style=\"color:red\">-0.001</span> + <span style=\"color:blue\">+0.095</span> = <span style=\"color:blue; text-decoration:underline\">+0.095</span></div>"
      ],
      "text/plain": [
       "<IPython.core.display.Markdown object>"
      ]
     },
     "metadata": {},
     "output_type": "display_data"
    },
    {
     "name": "stdout",
     "output_type": "stream",
     "text": [
      "w1=+0.515, w2=+0.087, w3=+1.000, w4=+0.518, w5=+0.084\n",
      "\n"
     ]
    },
    {
     "data": {
      "text/markdown": [
       "<div style=\"font-weight:bold\">Iteration 49</div>"
      ],
      "text/plain": [
       "<IPython.core.display.Markdown object>"
      ]
     },
     "metadata": {},
     "output_type": "display_data"
    },
    {
     "name": "stdout",
     "output_type": "stream",
     "text": [
      "Output: [+0.570, +0.521, +0.647, +0.708, +0.666, +0.600, +0.552, +0.502]\n",
      "Target: [+0.500, +0.500, +0.731, +0.731, +0.731, +0.500, +0.500, +0.500]\n",
      "Memory: [+0.282, +0.084, +0.605, +0.888, +0.689, +0.407, +0.208, +0.010]\n",
      "Input : [+0.399, -0.280, +0.679, +0.399, -0.280, -0.367, -0.280, -0.280]\n",
      "Gate  : [+0.708, +0.708, +0.768, +0.708, +0.708, +0.768, +0.708, +0.708]\n"
     ]
    },
    {
     "data": {
      "text/markdown": [
       "<div>Loss: <span style=\"font-weight:bold\">0.06425</span>= <span style=\"font-family:monaco\">0.010 + 0.001 + 0.016 + 0.001 + 0.010 + 0.021 + 0.005 + 0.000</span></div><div style=\"font-family:monaco; font-size:12px\">dL/dw1 = <span style=\"color:blue\">+0.054</span> + <span style=\"color:blue\">+0.002</span> + <span style=\"color:red\">-0.072</span> + <span style=\"color:red\">-0.037</span> + <span style=\"color:red\">-0.061</span> + <span style=\"color:blue\">+0.093</span> + <span style=\"color:blue\">+0.013</span> + <span style=\"color:red\">-0.001</span> = <span style=\"color:red; text-decoration:underline\">-0.008</span></div><div style=\"font-family:monaco; font-size:12px\">dL/dw2 = <span style=\"color:blue\">+0.046</span> + <span style=\"color:red\">-0.002</span> + <span style=\"color:blue\">+0.007</span> + <span style=\"color:red\">-0.013</span> + <span style=\"color:blue\">+0.010</span> + <span style=\"color:blue\">+0.062</span> + <span style=\"color:red\">-0.006</span> + <span style=\"color:red\">-0.002</span> = <span style=\"color:blue; text-decoration:underline\">+0.101</span></div><div style=\"font-family:monaco; font-size:12px\">dL/dw4 = <span style=\"color:blue\">+0.028</span> + <span style=\"color:blue\">+0.002</span> + <span style=\"color:red\">-0.067</span> + <span style=\"color:red\">-0.027</span> + <span style=\"color:red\">-0.060</span> + <span style=\"color:blue\">+0.055</span> + <span style=\"color:blue\">+0.014</span> + <span style=\"color:red\">-0.000</span> = <span style=\"color:red; text-decoration:underline\">-0.055</span></div><div style=\"font-family:monaco; font-size:12px\">dL/dw5 = <span style=\"color:blue\">+0.028</span> + <span style=\"color:blue\">+0.002</span> + <span style=\"color:red\">-0.010</span> + <span style=\"color:red\">-0.012</span> + <span style=\"color:red\">-0.015</span> + <span style=\"color:blue\">+0.024</span> + <span style=\"color:red\">-0.002</span> + <span style=\"color:red\">-0.001</span> = <span style=\"color:blue; text-decoration:underline\">+0.014</span></div>"
      ],
      "text/plain": [
       "<IPython.core.display.Markdown object>"
      ]
     },
     "metadata": {},
     "output_type": "display_data"
    },
    {
     "name": "stdout",
     "output_type": "stream",
     "text": [
      "w1=+0.679, w2=-0.377, w3=+1.000, w4=+0.774, w5=-0.061\n",
      "\n"
     ]
    },
    {
     "data": {
      "text/markdown": [
       "<div style=\"font-weight:bold\">Iteration 99</div>"
      ],
      "text/plain": [
       "<IPython.core.display.Markdown object>"
      ]
     },
     "metadata": {},
     "output_type": "display_data"
    },
    {
     "name": "stdout",
     "output_type": "stream",
     "text": [
      "Output: [+0.534, +0.528, +0.681, +0.710, +0.705, +0.571, +0.565, +0.559]\n",
      "Target: [+0.500, +0.500, +0.731, +0.731, +0.731, +0.500, +0.500, +0.500]\n",
      "Memory: [+0.135, +0.110, +0.759, +0.893, +0.869, +0.288, +0.263, +0.239]\n",
      "Input : [+0.183, -0.033, +0.703, +0.183, -0.033, -0.629, -0.033, -0.033]\n",
      "Gate  : [+0.736, +0.736, +0.923, +0.736, +0.736, +0.923, +0.736, +0.736]\n"
     ]
    },
    {
     "data": {
      "text/markdown": [
       "<div>Loss: <span style=\"font-weight:bold\">0.03864</span>= <span style=\"font-family:monaco\">0.002 + 0.002 + 0.006 + 0.001 + 0.002 + 0.010 + 0.009 + 0.007</span></div><div style=\"font-family:monaco; font-size:12px\">dL/dw1 = <span style=\"color:blue\">+0.027</span> + <span style=\"color:blue\">+0.002</span> + <span style=\"color:red\">-0.050</span> + <span style=\"color:red\">-0.039</span> + <span style=\"color:red\">-0.029</span> + <span style=\"color:blue\">+0.078</span> + <span style=\"color:blue\">+0.025</span> + <span style=\"color:red\">-0.020</span> = <span style=\"color:red; text-decoration:underline\">-0.006</span></div><div style=\"font-family:monaco; font-size:12px\">dL/dw2 = <span style=\"color:blue\">+0.023</span> + <span style=\"color:red\">-0.002</span> + <span style=\"color:blue\">+0.004</span> + <span style=\"color:red\">-0.013</span> + <span style=\"color:blue\">+0.004</span> + <span style=\"color:blue\">+0.054</span> + <span style=\"color:blue\">+0.000</span> + <span style=\"color:red\">-0.045</span> = <span style=\"color:blue; text-decoration:underline\">+0.026</span></div><div style=\"font-family:monaco; font-size:12px\">dL/dw4 = <span style=\"color:blue\">+0.006</span> + <span style=\"color:blue\">+0.004</span> + <span style=\"color:red\">-0.043</span> + <span style=\"color:red\">-0.022</span> + <span style=\"color:red\">-0.027</span> + <span style=\"color:blue\">+0.027</span> + <span style=\"color:blue\">+0.022</span> + <span style=\"color:blue\">+0.018</span> = <span style=\"color:red; text-decoration:underline\">-0.014</span></div><div style=\"font-family:monaco; font-size:12px\">dL/dw5 = <span style=\"color:blue\">+0.006</span> + <span style=\"color:blue\">+0.004</span> + <span style=\"color:red\">-0.007</span> + <span style=\"color:red\">-0.007</span> + <span style=\"color:red\">-0.008</span> + <span style=\"color:blue\">+0.021</span> + <span style=\"color:blue\">+0.017</span> + <span style=\"color:blue\">+0.014</span> = <span style=\"color:blue; text-decoration:underline\">+0.040</span></div>"
      ],
      "text/plain": [
       "<IPython.core.display.Markdown object>"
      ]
     },
     "metadata": {},
     "output_type": "display_data"
    },
    {
     "name": "stdout",
     "output_type": "stream",
     "text": [
      "w1=+0.703, w2=-0.632, w3=+1.000, w4=+0.925, w5=-0.192\n",
      "\n"
     ]
    },
    {
     "data": {
      "text/markdown": [
       "<div style=\"font-weight:bold\">Iteration 149</div>"
      ],
      "text/plain": [
       "<IPython.core.display.Markdown object>"
      ]
     },
     "metadata": {},
     "output_type": "display_data"
    },
    {
     "name": "stdout",
     "output_type": "stream",
     "text": [
      "Output: [+0.514, +0.524, +0.695, +0.707, +0.714, +0.541, +0.551, +0.560]\n",
      "Target: [+0.500, +0.500, +0.731, +0.731, +0.731, +0.500, +0.500, +0.500]\n",
      "Memory: [+0.056, +0.095, +0.823, +0.879, +0.917, +0.166, +0.204, +0.243]\n",
      "Input : [+0.101, +0.069, +0.743, +0.101, +0.069, -0.766, +0.069, +0.069]\n",
      "Gate  : [+0.558, +0.558, +0.980, +0.558, +0.558, +0.980, +0.558, +0.558]\n"
     ]
    },
    {
     "data": {
      "text/markdown": [
       "<div>Loss: <span style=\"font-weight:bold\">0.02286</span>= <span style=\"font-family:monaco\">0.000 + 0.001 + 0.003 + 0.001 + 0.001 + 0.003 + 0.005 + 0.007</span></div><div style=\"font-family:monaco; font-size:12px\">dL/dw1 = <span style=\"color:blue\">+0.009</span> + <span style=\"color:blue\">+0.002</span> + <span style=\"color:red\">-0.038</span> + <span style=\"color:red\">-0.040</span> + <span style=\"color:red\">-0.018</span> + <span style=\"color:blue\">+0.046</span> + <span style=\"color:blue\">+0.029</span> + <span style=\"color:blue\">+0.002</span> = <span style=\"color:red; text-decoration:underline\">-0.010</span></div><div style=\"font-family:monaco; font-size:12px\">dL/dw2 = <span style=\"color:blue\">+0.007</span> + <span style=\"color:red\">-0.001</span> + <span style=\"color:blue\">+0.002</span> + <span style=\"color:red\">-0.011</span> + <span style=\"color:blue\">+0.002</span> + <span style=\"color:blue\">+0.036</span> + <span style=\"color:blue\">+0.014</span> + <span style=\"color:red\">-0.018</span> = <span style=\"color:blue; text-decoration:underline\">+0.031</span></div><div style=\"font-family:monaco; font-size:12px\">dL/dw4 = <span style=\"color:blue\">+0.001</span> + <span style=\"color:blue\">+0.004</span> + <span style=\"color:red\">-0.033</span> + <span style=\"color:red\">-0.025</span> + <span style=\"color:red\">-0.018</span> + <span style=\"color:blue\">+0.013</span> + <span style=\"color:blue\">+0.020</span> + <span style=\"color:blue\">+0.027</span> = <span style=\"color:red; text-decoration:underline\">-0.010</span></div><div style=\"font-family:monaco; font-size:12px\">dL/dw5 = <span style=\"color:blue\">+0.001</span> + <span style=\"color:blue\">+0.004</span> + <span style=\"color:red\">-0.006</span> + <span style=\"color:red\">-0.007</span> + <span style=\"color:red\">-0.006</span> + <span style=\"color:blue\">+0.014</span> + <span style=\"color:blue\">+0.021</span> + <span style=\"color:blue\">+0.029</span> = <span style=\"color:blue; text-decoration:underline\">+0.051</span></div>"
      ],
      "text/plain": [
       "<IPython.core.display.Markdown object>"
      ]
     },
     "metadata": {},
     "output_type": "display_data"
    },
    {
     "name": "stdout",
     "output_type": "stream",
     "text": [
      "w1=+0.744, w2=-0.770, w3=+1.000, w4=+0.981, w5=-0.427\n",
      "\n"
     ]
    },
    {
     "data": {
      "text/markdown": [
       "<div style=\"font-weight:bold\">Iteration 199</div>"
      ],
      "text/plain": [
       "<IPython.core.display.Markdown object>"
      ]
     },
     "metadata": {},
     "output_type": "display_data"
    },
    {
     "name": "stdout",
     "output_type": "stream",
     "text": [
      "Output: [+0.503, +0.518, +0.711, +0.713, +0.725, +0.508, +0.523, +0.538]\n",
      "Target: [+0.500, +0.500, +0.731, +0.731, +0.731, +0.500, +0.500, +0.500]\n",
      "Memory: [+0.011, +0.073, +0.898, +0.909, +0.970, +0.032, +0.093, +0.154]\n",
      "Input : [+0.031, +0.162, +0.803, +0.031, +0.162, -0.914, +0.162, +0.162]\n",
      "Gate  : [+0.377, +0.377, +1.028, +0.377, +0.377, +1.028, +0.377, +0.377]\n"
     ]
    },
    {
     "data": {
      "text/markdown": [
       "<div>Loss: <span style=\"font-weight:bold\">0.00676</span>= <span style=\"font-family:monaco\">0.000 + 0.001 + 0.001 + 0.001 + 0.000 + 0.000 + 0.001 + 0.003</span></div><div style=\"font-family:monaco; font-size:12px\">dL/dw1 = <span style=\"color:blue\">+0.001</span> + <span style=\"color:blue\">+0.001</span> + <span style=\"color:red\">-0.022</span> + <span style=\"color:red\">-0.027</span> + <span style=\"color:red\">-0.007</span> + <span style=\"color:blue\">+0.009</span> + <span style=\"color:blue\">+0.017</span> + <span style=\"color:blue\">+0.015</span> = <span style=\"color:red; text-decoration:underline\">-0.013</span></div><div style=\"font-family:monaco; font-size:12px\">dL/dw2 = <span style=\"color:blue\">+0.001</span> + <span style=\"color:red\">-0.001</span> + <span style=\"color:blue\">+0.001</span> + <span style=\"color:red\">-0.006</span> + <span style=\"color:blue\">+0.000</span> + <span style=\"color:blue\">+0.007</span> + <span style=\"color:blue\">+0.013</span> + <span style=\"color:blue\">+0.006</span> = <span style=\"color:blue; text-decoration:underline\">+0.023</span></div><div style=\"font-family:monaco; font-size:12px\">dL/dw4 = <span style=\"color:blue\">+0.000</span> + <span style=\"color:blue\">+0.003</span> + <span style=\"color:red\">-0.020</span> + <span style=\"color:red\">-0.019</span> + <span style=\"color:red\">-0.007</span> + <span style=\"color:blue\">+0.002</span> + <span style=\"color:blue\">+0.010</span> + <span style=\"color:blue\">+0.023</span> = <span style=\"color:red; text-decoration:underline\">-0.007</span></div><div style=\"font-family:monaco; font-size:12px\">dL/dw5 = <span style=\"color:blue\">+0.000</span> + <span style=\"color:blue\">+0.003</span> + <span style=\"color:red\">-0.004</span> + <span style=\"color:red\">-0.004</span> + <span style=\"color:red\">-0.002</span> + <span style=\"color:blue\">+0.003</span> + <span style=\"color:blue\">+0.013</span> + <span style=\"color:blue\">+0.027</span> = <span style=\"color:blue; text-decoration:underline\">+0.036</span></div>"
      ],
      "text/plain": [
       "<IPython.core.display.Markdown object>"
      ]
     },
     "metadata": {},
     "output_type": "display_data"
    },
    {
     "name": "stdout",
     "output_type": "stream",
     "text": [
      "w1=+0.805, w2=-0.916, w3=+1.000, w4=+1.028, w5=-0.654\n",
      "\n"
     ]
    },
    {
     "data": {
      "text/markdown": [
       "<div style=\"font-weight:bold\">Iteration 249</div>"
      ],
      "text/plain": [
       "<IPython.core.display.Markdown object>"
      ]
     },
     "metadata": {},
     "output_type": "display_data"
    },
    {
     "name": "stdout",
     "output_type": "stream",
     "text": [
      "Output: [+0.502, +0.514, +0.721, +0.723, +0.732, +0.495, +0.507, +0.519]\n",
      "Target: [+0.500, +0.500, +0.731, +0.731, +0.731, +0.500, +0.500, +0.500]\n",
      "Memory: [+0.007, +0.055, +0.951, +0.958, +1.007, -0.021, +0.027, +0.076]\n",
      "Input : [+0.025, +0.181, +0.857, +0.025, +0.181, -0.983, +0.181, +0.181]\n",
      "Gate  : [+0.269, +0.269, +1.046, +0.269, +0.269, +1.046, +0.269, +0.269]\n"
     ]
    },
    {
     "data": {
      "text/markdown": [
       "<div>Loss: <span style=\"font-weight:bold\">0.00168</span>= <span style=\"font-family:monaco\">0.000 + 0.000 + 0.000 + 0.000 + 0.000 + 0.000 + 0.000 + 0.001</span></div><div style=\"font-family:monaco; font-size:12px\">dL/dw1 = <span style=\"color:blue\">+0.000</span> + <span style=\"color:blue\">+0.000</span> + <span style=\"color:red\">-0.010</span> + <span style=\"color:red\">-0.011</span> + <span style=\"color:blue\">+0.001</span> + <span style=\"color:red\">-0.006</span> + <span style=\"color:blue\">+0.006</span> + <span style=\"color:blue\">+0.011</span> = <span style=\"color:red; text-decoration:underline\">-0.008</span></div><div style=\"font-family:monaco; font-size:12px\">dL/dw2 = <span style=\"color:blue\">+0.000</span> + <span style=\"color:red\">-0.000</span> + <span style=\"color:blue\">+0.000</span> + <span style=\"color:red\">-0.002</span> + <span style=\"color:red\">-0.000</span> + <span style=\"color:red\">-0.005</span> + <span style=\"color:blue\">+0.005</span> + <span style=\"color:blue\">+0.008</span> = <span style=\"color:blue; text-decoration:underline\">+0.006</span></div><div style=\"font-family:monaco; font-size:12px\">dL/dw4 = <span style=\"color:blue\">+0.000</span> + <span style=\"color:blue\">+0.003</span> + <span style=\"color:red\">-0.010</span> + <span style=\"color:red\">-0.009</span> + <span style=\"color:blue\">+0.002</span> + <span style=\"color:red\">-0.002</span> + <span style=\"color:blue\">+0.003</span> + <span style=\"color:blue\">+0.012</span> = <span style=\"color:red; text-decoration:underline\">-0.001</span></div><div style=\"font-family:monaco; font-size:12px\">dL/dw5 = <span style=\"color:blue\">+0.000</span> + <span style=\"color:blue\">+0.003</span> + <span style=\"color:red\">-0.002</span> + <span style=\"color:red\">-0.002</span> + <span style=\"color:blue\">+0.001</span> + <span style=\"color:red\">-0.002</span> + <span style=\"color:blue\">+0.004</span> + <span style=\"color:blue\">+0.015</span> = <span style=\"color:blue; text-decoration:underline\">+0.016</span></div>"
      ],
      "text/plain": [
       "<IPython.core.display.Markdown object>"
      ]
     },
     "metadata": {},
     "output_type": "display_data"
    },
    {
     "name": "stdout",
     "output_type": "stream",
     "text": [
      "w1=+0.857, w2=-0.983, w3=+1.000, w4=+1.046, w5=-0.779\n",
      "\n"
     ]
    },
    {
     "data": {
      "text/plain": [
       "(0.8574027948869442,\n",
       " -0.9834139226816694,\n",
       " 1.0,\n",
       " 1.0462147551925352,\n",
       " -0.779044784043832)"
      ]
     },
     "execution_count": 18,
     "metadata": {},
     "output_type": "execute_result"
    }
   ],
   "source": [
    "embedding['a'] = (a_1, a_2)\n",
    "embedding['b'] = (b_1, b_2)\n",
    "embedding['('] = (1, 0)\n",
    "embedding[')'] = (0, 1)\n",
    "\n",
    "experiment_gated('ab(ab)bb', _w1=1.0, _w2=1.0, _w4=1.0, _w5=1.0, alpha=1e-1, max_iter=250, fixed_w3=True)"
   ]
  },
  {
   "cell_type": "markdown",
   "metadata": {},
   "source": [
    "Now we see that the input gate is closer to the true gate: it tries to ignore irrelevant input by setting the weights of those input closer to 0. Although in this case it is still far from the true gate (the irrelevant input still gets positive score), we see that it has good impact on the loss, reaching an order of magnitude lower. And actually if we run more iterations, we see later that the gate will be learned correctly ($w_4 = 1.0, w_5=-1.0$).\n",
    "\n",
    "Notice that in the network without input gate, at the end the overall gradient is zero, but actually the gradient at each position in the sequence is not zero, and in fact the magnitude is not quite small, meaning the network ends up at a non-optimal position, while in the gated version, we see the gradient approaches zero in all position."
   ]
  },
  {
   "cell_type": "code",
   "execution_count": null,
   "metadata": {
    "collapsed": true
   },
   "outputs": [],
   "source": []
  }
 ],
 "metadata": {
  "kernelspec": {
   "display_name": "Python 3",
   "language": "python",
   "name": "python3"
  },
  "language_info": {
   "codemirror_mode": {
    "name": "ipython",
    "version": 3
   },
   "file_extension": ".py",
   "mimetype": "text/x-python",
   "name": "python",
   "nbconvert_exporter": "python",
   "pygments_lexer": "ipython3",
   "version": "3.5.1"
  }
 },
 "nbformat": 4,
 "nbformat_minor": 0
}
