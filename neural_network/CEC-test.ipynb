{
 "cells": [
  {
   "cell_type": "markdown",
   "metadata": {},
   "source": [
    "# Long Short-Term Memory (LSTM)\n",
    "\n",
    "This page attempts to explain why LSTM was first proposed, and what are the core features together with some examples.\n",
    "\n",
    "This is based on the paper [Hochreiter and Schmidhuber. 1997. Long Short-Term Memory](http://deeplearning.cs.cmu.edu/pdfs/Hochreiter97_lstm.pdf)\n",
    "\n",
    "## Constant-Error Carrousel\n",
    "\n",
    "The core feature of an LSTM unit as first proposed is the constant-error carrousel (CEC) which solves the vanishing gradient problem with standard RNN.\n",
    "\n",
    "A CEC is neural network unit which consists of a single neuron with self-loop with weight fixed to 1.0 to ensure constant error flow when doing backpropagation.\n",
    "\n",
    "<div style=\"text-align:center\">\n",
    "<img src=\"CEC.png\"/>\n",
    "<caption>Fig 1. Diagram of a single CEC unit</caption>\n",
    "</div>\n",
    "\n",
    "Now let's see an example of CEC at work. We will use CEC to do very simple task: **recognizing whether current character is inside a bracketed expression**, with the opening bracket considered to be inside, and the closing bracket considered to be outside, for simplicity. This is solvable only using network that can store memory, since to recognize whether a character is inside a bracketed expression, we need to have the knowledge that there is an opening bracket to the left of current character which does not have the corresponding closing bracket.\n",
    "\n",
    "The input alphabets are coming from the set: $\\{`a`, `b`, `(`, `)`\\}$ with the following 2-dimensional embedding:\n",
    "\n",
    "$$\n",
    "\\begin{eqnarray}\n",
    "emb(`a`) &=& (1, 1) \\nonumber\\\\\n",
    "emb(`b`) &=& (-1, -1) \\nonumber\\\\\n",
    "emb(`(`) &=& (1, 0) \\nonumber\\\\\n",
    "emb(`)`) &=& (0, -1) \\nonumber\n",
    "\\end{eqnarray}\n",
    "$$\n",
    "\n",
    "For this task, we define a very simple network with two input units, one CEC unit, and one output unit with sigmoid activation ($\\sigma(x) = \\frac{1}{1 + e^{-x}}$), as follows:\n",
    "\n",
    "<div style=\"text-align:center\">\n",
    "![Fig 2. Network used for the bracketed expression recognition](CEC-example.png)\n",
    "<caption>Fig 2. Network used for the bracketed expression recognition</caption>\n",
    "</div>\n",
    "\n",
    "For this task, we define the loss function as the cross-entropy (CE) between the predicted and the true one:\n",
    "\n",
    "$$\n",
    "\\begin{eqnarray}\n",
    "\\mathrm{CE}(x, y) = - (x\\log(y) + (1-x)\\log(1-y)) \\nonumber\\\\\n",
    "\\mathrm{Loss}(\\hat{o}_t, o_t) = \\mathrm{CE}(\\hat{o}_t, o_t) - \\mathrm{CE}(\\hat{o}_t, \\hat{o}_t)\n",
    "\\end{eqnarray}\n",
    "$$\n",
    "\n",
    "with $\\hat{o}_t$ and $o_t$ represent the target value (gold standard) and output value (network prediction), respectively, at time step $t$. The first term is the cross-entropy between the target value and the output value, and the second term is the entropy of the target value itself. Note that the second term is a constant, and serves just to make the minimum achievable loss to be 0 (perfect output).\n",
    "\n",
    "More specifically, we have:\n",
    "\n",
    "$$\n",
    "\\begin{equation}\n",
    "o_t = \\sigma(w_3*s_t)\n",
    "\\end{equation}\n",
    "$$\n",
    "\n",
    "where $s_t$ is the output of the CEC unit (a.k.a. the memory), which depends on the previous value of the memory $s_{t-1}$, and the input $x_{t,1}$ and $x_{t,2}$ (representing the first and second dimension of the input at time step $t$):\n",
    "\n",
    "$$\n",
    "\\begin{equation}\n",
    "s_t = \\underbrace{w_s * s_{t-1}}_\\text{previous value} + \\underbrace{w_1 * x_{t,1} + w_2 * x_{t,2}}_\\text{input}\n",
    "\\end{equation}\n",
    "$$\n",
    "\n",
    "where $w_s$ is the weight of the self-loop, which is 1.0. But for clarity of why this should be 1.0, the calculation later does not assume $w_s=1.0$."
   ]
  },
  {
   "cell_type": "code",
   "execution_count": 76,
   "metadata": {
    "collapsed": true
   },
   "outputs": [],
   "source": [
    "import math\n",
    "from IPython.display import Markdown, display\n",
    "\n",
    "def printmd(string):\n",
    "    display(Markdown(string))\n",
    "\n",
    "# Embedding\n",
    "embedding = {}\n",
    "embedding['a'] = (1.0, 1)\n",
    "embedding['b'] = (-1, -1)\n",
    "embedding['('] = (1, 0)\n",
    "embedding[')'] = (0, 1)\n",
    "\n",
    "# embedding['a'] = (-1, 0)\n",
    "# embedding['b'] = (-0.5, 0)\n",
    "# embedding['('] = (1, 1)\n",
    "# embedding[')'] = (1, -1)\n",
    "\n",
    "# Weights\n",
    "w1=1.0\n",
    "w2=1.0\n",
    "w3=1.0\n",
    "ws=1.0\n",
    "\n",
    "memory_history = [0]\n",
    "output_history = [0]\n",
    "\n",
    "def sigmoid(x):\n",
    "    return 1.0/(1+math.exp(-x))\n",
    "\n",
    "def gold(seq):\n",
    "    result = [0]\n",
    "    in_bracket = False\n",
    "    for char in seq:\n",
    "        if char == '(':\n",
    "            in_bracket = True\n",
    "        if char == ')':\n",
    "            in_bracket = False\n",
    "        if in_bracket:\n",
    "            result.append(sigmoid(1))\n",
    "        else:\n",
    "            result.append(sigmoid(0))\n",
    "    return result\n",
    "\n",
    "def activate_memory(x1, x2):\n",
    "    prev_memory = memory_history[-1]\n",
    "    memory_history.append(ws*prev_memory + w1*x1 + w2*x2)\n",
    "    return memory_history[-1]\n",
    "\n",
    "def activate_output(h):\n",
    "    output_history.append(sigmoid(w3*h))\n",
    "    return output_history[-1]\n",
    "\n",
    "def predict(seq):\n",
    "    for char in seq:\n",
    "        activate_output(activate_memory(*embedding[char]))\n",
    "    result = output_history[:]\n",
    "    return result\n",
    "\n",
    "def reset():\n",
    "    global memory_history, output_history\n",
    "    memory_history = [0]\n",
    "    output_history = [0]\n",
    "    \n",
    "def loss(gold_seq, pred_seq):\n",
    "    result = 0.0\n",
    "    per_position_loss = []\n",
    "    for idx, (corr, pred) in enumerate(zip(gold_seq, pred_seq)):\n",
    "        cur_loss  = -(corr*math.log(pred) + (1-corr)*math.log(1-pred))\n",
    "        cur_loss -= -(corr*math.log(corr) + (1-corr)*math.log(1-corr))\n",
    "        result += cur_loss\n",
    "        per_position_loss.append(cur_loss)\n",
    "    return result, per_position_loss\n",
    "\n",
    "\n",
    "def print_list(lst):\n",
    "    '''A convenience method to print a list of real numbers'''\n",
    "    as_str = ['{:+.3f}'.format(num) for num in lst]\n",
    "    print('[{}]'.format(', '.join(as_str)))"
   ]
  },
  {
   "cell_type": "code",
   "execution_count": 7,
   "metadata": {
    "collapsed": false
   },
   "outputs": [
    {
     "name": "stdout",
     "output_type": "stream",
     "text": [
      "sigmoid(0) = 0.5\n",
      "sigmoid(1) = 0.7310585786300049\n",
      "sigmoid(2) = 0.8807970779778823\n",
      "sigmoid(3) = 0.9525741268224334\n",
      "sigmoid(4) = 0.9820137900379085\n"
     ]
    }
   ],
   "source": [
    "# See typical values of sigmoid\n",
    "for i in range(5):\n",
    "    print('sigmoid({}) = {}'.format(i, sigmoid(i)))"
   ]
  },
  {
   "cell_type": "markdown",
   "metadata": {},
   "source": [
    "Now let's check the function calculating the target value. Basically we want it to output $\\sigma(0)$ or $\\sigma(1)$ when the output is outside or inside a bracketed expression, respectively."
   ]
  },
  {
   "cell_type": "code",
   "execution_count": 8,
   "metadata": {
    "collapsed": false
   },
   "outputs": [
    {
     "data": {
      "text/plain": [
       "[0.5, 0.7310585786300049, 0.7310585786300049, 0.5, 0.5]"
      ]
     },
     "execution_count": 8,
     "metadata": {},
     "output_type": "execute_result"
    }
   ],
   "source": [
    "gold('a(a)a')[1:]  # The first element is dummy"
   ]
  },
  {
   "cell_type": "markdown",
   "metadata": {
    "collapsed": true
   },
   "source": [
    "Which is $\\sigma(0), \\sigma(1), \\sigma(1), \\sigma(0), \\sigma(0)$, which is what we expect. So far so good.\n",
    "<hr>\n",
    "Now let's see what our network outputs"
   ]
  },
  {
   "cell_type": "code",
   "execution_count": 9,
   "metadata": {
    "collapsed": false
   },
   "outputs": [
    {
     "name": "stdout",
     "output_type": "stream",
     "text": [
      "Output: [+0.881, +0.500, +0.731, +0.953, +0.731, +0.881, +0.982, +0.881]\n",
      "Target: [+0.500, +0.500, +0.731, +0.731, +0.731, +0.500, +0.500, +0.500]\n",
      "Loss  : 2.900\n"
     ]
    }
   ],
   "source": [
    "test_seq = 'ab(ab)ab'\n",
    "reset()\n",
    "w1 = 1.0\n",
    "w2 = 1.0\n",
    "w3 = 1.0\n",
    "result = predict(test_seq)\n",
    "correct = gold(test_seq)\n",
    "print('Output: ', end='')\n",
    "print_list(result[1:])\n",
    "print('Target: ', end='')\n",
    "print_list(correct[1:])\n",
    "print('Loss  : {:.3f}'.format(loss(correct[1:], result[1:])[0]))"
   ]
  },
  {
   "cell_type": "markdown",
   "metadata": {},
   "source": [
    "We see that the loss is still non-zero, and we see that some values are incorrectly predicted.\n",
    "\n",
    "Next we will see the gradient calculation in progress, so that we can update the weight to reduce the loss.\n",
    "\n",
    "### Calculating Gradients\n",
    "\n",
    "To do the weight update, we need to calculate the partial derivative of the loss function with respect to the each weight. We have three weight parameters $w_1, w_2$, and $w_3$, so we need to compute three different partial derivatives.\n",
    "\n",
    "For ease of notation, we denote $\\mathrm{Loss}_t = \\mathrm{Loss}(\\hat{o}_t, o_t)$ as the loss at time step $t$ and $\\mathrm{Loss} = \\sum_t \\mathrm{Loss}_t$ as the total loss over one sequence.\n",
    "\n",
    "Remember that our objective is to reduce the total loss.\n",
    "\n",
    "$$\n",
    "\\begin{eqnarray}\n",
    "\\frac{\\partial\\mathrm{Loss}}{\\partial w_i} & = & \\sum_t\\frac{\\partial \\mathrm{Loss}_t}{\\partial w_i} \\\\\n",
    "& = & \\sum_t\\frac{\\partial \\mathrm{Loss}_t}{\\partial o_t} \\cdot \\frac{\\partial o_t}{\\partial w_i} \\qquad \\text{(by chain rule)} \\\\\n",
    "\\end{eqnarray}\n",
    "$$\n",
    "\n",
    "for $w_3$, we can already compute the gradient here, which is:\n",
    "\n",
    "$$\n",
    "\\require{cancel}\n",
    "\\begin{eqnarray}\n",
    "\\frac{\\partial\\mathrm{Loss}}{\\partial w_3} & = & \\sum_t\\frac{\\partial \\mathrm{Loss}_t}{\\partial o_t} \\cdot \\frac{\\partial o_t}{\\partial w_i} \\\\\n",
    "& = & \\sum_t\\underbrace{\\frac{o_t - \\hat{o}_t}{\\cancel{o_t(1-o_t)}}}_{=\\frac{\\partial \\mathrm{Loss}_t}{\\partial o_t}} \\cdot \\underbrace{s_t \\cdot \\cancel{o_t(1-o_t)}}_{=\\frac{\\partial o_t}{\\partial w_i}} \\\\\n",
    "& = & \\sum_t(o_t-\\hat{o}_t)s_t\n",
    "\\end{eqnarray}\n",
    "$$\n",
    "\n",
    "for $w_1$ and $w_2$, we have:\n",
    "\n",
    "$$\n",
    "\\begin{eqnarray}\n",
    "\\frac{\\partial\\mathrm{Loss}}{\\partial w_i} & = & \\sum_t\\frac{\\partial \\mathrm{Loss}_t}{\\partial o_t} \\cdot \\frac{\\partial o_t}{\\partial w_i} \\\\\n",
    "& = & \\sum_t \\frac{o_t - \\hat{o}_t}{o_t(1-o_t)} \\cdot \\frac{\\partial o_t}{\\partial s_t} \\cdot \\frac{\\partial s_t}{\\partial w_i} \\\\\n",
    "& = & \\sum_t \\frac{o_t - \\hat{o}_t}{\\cancel{o_t(1-o_t)}} \\cdot w_3\\cdot \\cancel{o_t(1-o_t)} \\cdot \\frac{\\partial s_t}{\\partial w_i} \\\\\n",
    "& = & \\sum_t (o_t - \\hat{o}_t)w_3 \\cdot \\frac{\\partial s_t}{\\partial w_i} \\\\\n",
    "& = & \\sum_t (o_t - \\hat{o}_t)w_3 \\cdot \\left(w_s\\cdot\\frac{\\partial s_{t-1}}{\\partial w_i} + x_{t,i}\\right) \\\\\n",
    "& = & \\sum_t (o_t - \\hat{o}_t)w_3 \\cdot \\left({w_s}^2\\cdot\\frac{\\partial s_{t-2}}{\\partial w_i} + w_s\\cdot x_{t-1,i} + x_{t,i}\\right) \\\\\n",
    "& & \\ldots \\\\\n",
    "& = & \\sum_t (o_t - \\hat{o}_t)w_3 \\cdot \\left(\\sum_{t'\\leq t} {w_s}^{t-t'}x_{t',i}\\right) \\\\\n",
    "\\end{eqnarray}\n",
    "$$\n",
    "\n",
    "### Important Note on $w_s$!\n",
    "\n",
    "We see that the gradient with respect to $w_1$ and $w_2$ contains the factor ${w_s}^{t-t'}$, where $t-t'$ can be as large as the input sequence length. So if $w_s \\neq 1.0$, then either the gradient will vanish or blow up as the input sequence gets longer."
   ]
  },
  {
   "cell_type": "code",
   "execution_count": 10,
   "metadata": {
    "collapsed": false
   },
   "outputs": [],
   "source": [
    "def dLdw1(test_seq, gold_seq, pred_seq, state_seq, info):\n",
    "    result = 0.0\n",
    "    grad_str = '<div style=\"font-family:monaco; font-size:12px\">dL/dw1 = '\n",
    "    for time_step in range(1, len(gold_seq)):\n",
    "        cur_dell = (pred_seq[time_step] - gold_seq[time_step]) * w3\n",
    "        cur_dell *= sum(ws**(step-1)*embedding[test_seq[step-1]][0] for step in range(1, time_step+1))\n",
    "        if cur_dell < 0:\n",
    "            color = 'red'\n",
    "        else:\n",
    "            color = 'blue'\n",
    "        grad_str += '{}<span style=\"color:{}\">{:+.3f}</span>'.format(' + ' if time_step > 1 else '', color, cur_dell)\n",
    "        result += cur_dell\n",
    "    grad_str += ' = <span style=\"color:{}; text-decoration:underline\">{:+.3f}</span></div>'.format('red' if result < 0 else 'blue', result)\n",
    "    # printmd(grad_str)\n",
    "    info[0] += grad_str\n",
    "    return result\n",
    "\n",
    "def dLdw2(test_seq, gold_seq, pred_seq, state_seq, info):\n",
    "    result = 0.0\n",
    "    grad_str = '<div style=\"font-family:monaco; font-size:12px\">dL/dw2 = '\n",
    "    for time_step in range(1, len(gold_seq)):\n",
    "        cur_dell = (pred_seq[time_step] - gold_seq[time_step]) * w3\n",
    "        cur_dell *= sum(ws**(step-1)*embedding[test_seq[step-1]][1] for step in range(1, time_step+1))\n",
    "        if cur_dell < 0:\n",
    "            color = 'red'\n",
    "        else:\n",
    "            color = 'blue'\n",
    "        grad_str += '{}<span style=\"color:{}\">{:+.3f}</span>'.format(' + ' if time_step > 1 else '', color, cur_dell)\n",
    "        result += cur_dell\n",
    "    grad_str += ' = <span style=\"color:{}; text-decoration:underline\">{:+.3f}</span></div>'.format('red' if result < 0 else 'blue', result)\n",
    "    # printmd(grad_str)\n",
    "    info[0] += grad_str\n",
    "    return result\n",
    "\n",
    "def dLdw3(test_seq, gold_seq, pred_seq, state_seq, info):\n",
    "    result = 0.0\n",
    "    grad_str = '<div style=\"font-family:monaco; font-size:12px\">dL/dw3 = '\n",
    "    for time_step in range(1, len(gold_seq)):\n",
    "        cur_dell = (pred_seq[time_step] - gold_seq[time_step]) * state_seq[time_step]\n",
    "        if cur_dell < 0:\n",
    "            color = 'red'\n",
    "        else:\n",
    "            color = 'blue'\n",
    "        grad_str += '{}<span style=\"color:{}\">{:+.3f}</span>'.format(' + ' if time_step > 1 else '', color, cur_dell)\n",
    "        result += cur_dell\n",
    "    grad_str += ' = <span style=\"color:{}; text-decoration:underline\">{:+.3f}</span></div>'.format('red' if result < 0 else 'blue', result)\n",
    "    # printmd(grad_str)\n",
    "    info[0] += grad_str\n",
    "    return result"
   ]
  },
  {
   "cell_type": "markdown",
   "metadata": {},
   "source": [
    "## Experiment\n",
    "Now we define an experiment which takes in initial values of all the weights, learning rate, and maximum number of iterations. We also want to experiment with fixing the weight $w_3$ (i.e., it is not learned).\n",
    "\n",
    "The code below will print the total loss, the loss at each time step, the output, target, and memory at each time step, and also the gradient for each learned parameter at each time step."
   ]
  },
  {
   "cell_type": "code",
   "execution_count": 24,
   "metadata": {
    "collapsed": true
   },
   "outputs": [],
   "source": [
    "def experiment(test_seq, _w1=1.0, _w2=1.0, _w3=1.0, alpha=1e-1, max_iter=250, fixed_w3=True):\n",
    "    global w1, w2, w3\n",
    "    reset()\n",
    "    w1 = _w1\n",
    "    w2 = _w2\n",
    "    w3 = _w3\n",
    "    correct = gold(test_seq)\n",
    "    print('w1={:+.3f}, w2={:+.3f}, w3={:+.3f}'.format(w1, w2, w3))\n",
    "    for iter_num in range(max_iter):\n",
    "        result = predict(test_seq)\n",
    "        if iter_num < 50 or (iter_num % 50 == 49):\n",
    "            printmd('<div>**Iteration {}**</div>'.format(iter_num))\n",
    "            print('Output: ', end='')\n",
    "            print_list(result[1:])\n",
    "            print('Target: ', end='')\n",
    "            print_list(correct[1:])\n",
    "            print('Memory: ', end='')\n",
    "            print_list(memory_history[1:])\n",
    "        total_loss, per_position_loss = loss(correct[1:], result[1:])\n",
    "        info = ['', iter_num]\n",
    "        info[0] = '<div>Loss: **{:.5f}** = <span style=\"font-family:monaco; font-size:12px\">'.format(total_loss)\n",
    "        for idx, per_pos_loss in enumerate(per_position_loss):\n",
    "            info[0] += '{}{:.3f}'.format(' + ' if idx > 0 else '', per_pos_loss)\n",
    "        info[0] += '</span></div>'\n",
    "        # printmd(loss_str)\n",
    "        w1 -= alpha * dLdw1(test_seq, correct, result, memory_history, info)\n",
    "        w2 -= alpha * dLdw2(test_seq, correct, result, memory_history, info)\n",
    "        if not fixed_w3:\n",
    "            w3 -= alpha * dLdw3(test_seq, correct, result, memory_history, info)\n",
    "        if iter_num < 50 or (iter_num % 50 == 49):\n",
    "            printmd(info[0])\n",
    "            print('w1={:+.3f}, w2={:+.3f}, w3={:+.3f}'.format(w1, w2, w3))\n",
    "            print()\n",
    "        reset()\n",
    "    return w1, w2, w3"
   ]
  },
  {
   "cell_type": "code",
   "execution_count": 84,
   "metadata": {
    "collapsed": false,
    "scrolled": true
   },
   "outputs": [
    {
     "name": "stdout",
     "output_type": "stream",
     "text": [
      "w1=+1.000, w2=+1.000, w3=+1.000\n"
     ]
    },
    {
     "data": {
      "text/markdown": [
       "<div>**Iteration 0**</div>"
      ],
      "text/plain": [
       "<IPython.core.display.Markdown object>"
      ]
     },
     "metadata": {},
     "output_type": "display_data"
    },
    {
     "name": "stdout",
     "output_type": "stream",
     "text": [
      "Output: [+0.881, +0.500, +0.731, +0.953, +0.731, +0.881, +0.982, +0.881]\n",
      "Target: [+0.500, +0.500, +0.731, +0.731, +0.731, +0.500, +0.500, +0.500]\n",
      "Memory: [+2.000, +0.000, +1.000, +3.000, +1.000, +2.000, +4.000, +2.000]\n"
     ]
    },
    {
     "data": {
      "text/markdown": [
       "<div>Loss: **2.89955** = <span style=\"font-family:monaco; font-size:12px\">0.434 + 0.000 + 0.000 + 0.273 + 0.000 + 0.434 + 1.325 + 0.434</span></div><div style=\"font-family:monaco; font-size:12px\">dL/dw1 = <span style=\"color:blue\">+0.381</span> + <span style=\"color:blue\">+0.000</span> + <span style=\"color:blue\">+0.000</span> + <span style=\"color:blue\">+0.443</span> + <span style=\"color:blue\">+0.000</span> + <span style=\"color:blue\">+0.381</span> + <span style=\"color:blue\">+0.964</span> + <span style=\"color:blue\">+0.381</span> = <span style=\"color:blue; text-decoration:underline\">+2.549</span></div><div style=\"font-family:monaco; font-size:12px\">dL/dw2 = <span style=\"color:blue\">+0.381</span> + <span style=\"color:blue\">+0.000</span> + <span style=\"color:blue\">+0.000</span> + <span style=\"color:blue\">+0.222</span> + <span style=\"color:blue\">+0.000</span> + <span style=\"color:blue\">+0.381</span> + <span style=\"color:blue\">+0.964</span> + <span style=\"color:blue\">+0.381</span> = <span style=\"color:blue; text-decoration:underline\">+2.328</span></div>"
      ],
      "text/plain": [
       "<IPython.core.display.Markdown object>"
      ]
     },
     "metadata": {},
     "output_type": "display_data"
    },
    {
     "name": "stdout",
     "output_type": "stream",
     "text": [
      "w1=+0.745, w2=+0.767, w3=+1.000\n",
      "\n"
     ]
    },
    {
     "data": {
      "text/markdown": [
       "<div>**Iteration 1**</div>"
      ],
      "text/plain": [
       "<IPython.core.display.Markdown object>"
      ]
     },
     "metadata": {},
     "output_type": "display_data"
    },
    {
     "name": "stdout",
     "output_type": "stream",
     "text": [
      "Output: [+0.819, +0.500, +0.678, +0.905, +0.678, +0.819, +0.954, +0.819]\n",
      "Target: [+0.500, +0.500, +0.731, +0.731, +0.731, +0.500, +0.500, +0.500]\n",
      "Memory: [+1.512, +0.000, +0.745, +2.257, +0.745, +1.512, +3.025, +1.512]\n"
     ]
    },
    {
     "data": {
      "text/markdown": [
       "<div>Loss: **1.79073** = <span style=\"font-family:monaco; font-size:12px\">0.262 + 0.000 + 0.007 + 0.124 + 0.007 + 0.262 + 0.867 + 0.262</span></div><div style=\"font-family:monaco; font-size:12px\">dL/dw1 = <span style=\"color:blue\">+0.319</span> + <span style=\"color:blue\">+0.000</span> + <span style=\"color:red\">-0.053</span> + <span style=\"color:blue\">+0.348</span> + <span style=\"color:red\">-0.053</span> + <span style=\"color:blue\">+0.319</span> + <span style=\"color:blue\">+0.907</span> + <span style=\"color:blue\">+0.319</span> = <span style=\"color:blue; text-decoration:underline\">+2.108</span></div><div style=\"font-family:monaco; font-size:12px\">dL/dw2 = <span style=\"color:blue\">+0.319</span> + <span style=\"color:blue\">+0.000</span> + <span style=\"color:blue\">-0.000</span> + <span style=\"color:blue\">+0.174</span> + <span style=\"color:blue\">-0.000</span> + <span style=\"color:blue\">+0.319</span> + <span style=\"color:blue\">+0.907</span> + <span style=\"color:blue\">+0.319</span> = <span style=\"color:blue; text-decoration:underline\">+2.040</span></div>"
      ],
      "text/plain": [
       "<IPython.core.display.Markdown object>"
      ]
     },
     "metadata": {},
     "output_type": "display_data"
    },
    {
     "name": "stdout",
     "output_type": "stream",
     "text": [
      "w1=+0.534, w2=+0.563, w3=+1.000\n",
      "\n"
     ]
    },
    {
     "data": {
      "text/markdown": [
       "<div>**Iteration 2**</div>"
      ],
      "text/plain": [
       "<IPython.core.display.Markdown object>"
      ]
     },
     "metadata": {},
     "output_type": "display_data"
    },
    {
     "name": "stdout",
     "output_type": "stream",
     "text": [
      "Output: [+0.750, +0.500, +0.630, +0.836, +0.630, +0.750, +0.900, +0.750]\n",
      "Target: [+0.500, +0.500, +0.731, +0.731, +0.731, +0.500, +0.500, +0.500]\n",
      "Memory: [+1.097, +0.000, +0.534, +1.632, +0.534, +1.097, +2.195, +1.097]\n"
     ]
    },
    {
     "data": {
      "text/markdown": [
       "<div>Loss: **1.02140** = <span style=\"font-family:monaco; font-size:12px\">0.144 + 0.000 + 0.023 + 0.035 + 0.023 + 0.144 + 0.510 + 0.144</span></div><div style=\"font-family:monaco; font-size:12px\">dL/dw1 = <span style=\"color:blue\">+0.250</span> + <span style=\"color:blue\">+0.000</span> + <span style=\"color:red\">-0.101</span> + <span style=\"color:blue\">+0.211</span> + <span style=\"color:red\">-0.101</span> + <span style=\"color:blue\">+0.250</span> + <span style=\"color:blue\">+0.800</span> + <span style=\"color:blue\">+0.250</span> = <span style=\"color:blue; text-decoration:underline\">+1.558</span></div><div style=\"font-family:monaco; font-size:12px\">dL/dw2 = <span style=\"color:blue\">+0.250</span> + <span style=\"color:blue\">+0.000</span> + <span style=\"color:blue\">-0.000</span> + <span style=\"color:blue\">+0.105</span> + <span style=\"color:blue\">-0.000</span> + <span style=\"color:blue\">+0.250</span> + <span style=\"color:blue\">+0.800</span> + <span style=\"color:blue\">+0.250</span> = <span style=\"color:blue; text-decoration:underline\">+1.654</span></div>"
      ],
      "text/plain": [
       "<IPython.core.display.Markdown object>"
      ]
     },
     "metadata": {},
     "output_type": "display_data"
    },
    {
     "name": "stdout",
     "output_type": "stream",
     "text": [
      "w1=+0.378, w2=+0.398, w3=+1.000\n",
      "\n"
     ]
    },
    {
     "data": {
      "text/markdown": [
       "<div>**Iteration 3**</div>"
      ],
      "text/plain": [
       "<IPython.core.display.Markdown object>"
      ]
     },
     "metadata": {},
     "output_type": "display_data"
    },
    {
     "name": "stdout",
     "output_type": "stream",
     "text": [
      "Output: [+0.685, +0.500, +0.593, +0.760, +0.593, +0.685, +0.825, +0.685]\n",
      "Target: [+0.500, +0.500, +0.731, +0.731, +0.731, +0.500, +0.500, +0.500]\n",
      "Memory: [+0.776, +0.000, +0.378, +1.155, +0.378, +0.776, +1.552, +0.776]\n"
     ]
    },
    {
     "data": {
      "text/markdown": [
       "<div>Loss: **0.58049** = <span style=\"font-family:monaco; font-size:12px\">0.073 + 0.000 + 0.041 + 0.002 + 0.041 + 0.073 + 0.275 + 0.073</span></div><div style=\"font-family:monaco; font-size:12px\">dL/dw1 = <span style=\"color:blue\">+0.185</span> + <span style=\"color:blue\">+0.000</span> + <span style=\"color:red\">-0.138</span> + <span style=\"color:blue\">+0.059</span> + <span style=\"color:red\">-0.138</span> + <span style=\"color:blue\">+0.185</span> + <span style=\"color:blue\">+0.651</span> + <span style=\"color:blue\">+0.185</span> = <span style=\"color:blue; text-decoration:underline\">+0.989</span></div><div style=\"font-family:monaco; font-size:12px\">dL/dw2 = <span style=\"color:blue\">+0.185</span> + <span style=\"color:blue\">+0.000</span> + <span style=\"color:blue\">-0.000</span> + <span style=\"color:blue\">+0.029</span> + <span style=\"color:blue\">-0.000</span> + <span style=\"color:blue\">+0.185</span> + <span style=\"color:blue\">+0.651</span> + <span style=\"color:blue\">+0.185</span> = <span style=\"color:blue; text-decoration:underline\">+1.234</span></div>"
      ],
      "text/plain": [
       "<IPython.core.display.Markdown object>"
      ]
     },
     "metadata": {},
     "output_type": "display_data"
    },
    {
     "name": "stdout",
     "output_type": "stream",
     "text": [
      "w1=+0.280, w2=+0.274, w3=+1.000\n",
      "\n"
     ]
    },
    {
     "data": {
      "text/markdown": [
       "<div>**Iteration 4**</div>"
      ],
      "text/plain": [
       "<IPython.core.display.Markdown object>"
      ]
     },
     "metadata": {},
     "output_type": "display_data"
    },
    {
     "name": "stdout",
     "output_type": "stream",
     "text": [
      "Output: [+0.635, +0.500, +0.569, +0.697, +0.569, +0.635, +0.752, +0.635]\n",
      "Target: [+0.500, +0.500, +0.731, +0.731, +0.731, +0.500, +0.500, +0.500]\n",
      "Memory: [+0.554, +0.000, +0.280, +0.833, +0.280, +0.554, +1.108, +0.554]\n"
     ]
    },
    {
     "data": {
      "text/markdown": [
       "<div>Loss: **0.37474** = <span style=\"font-family:monaco; font-size:12px\">0.038 + 0.000 + 0.056 + 0.003 + 0.056 + 0.038 + 0.146 + 0.038</span></div><div style=\"font-family:monaco; font-size:12px\">dL/dw1 = <span style=\"color:blue\">+0.135</span> + <span style=\"color:blue\">+0.000</span> + <span style=\"color:red\">-0.162</span> + <span style=\"color:red\">-0.068</span> + <span style=\"color:red\">-0.162</span> + <span style=\"color:blue\">+0.135</span> + <span style=\"color:blue\">+0.503</span> + <span style=\"color:blue\">+0.135</span> = <span style=\"color:blue; text-decoration:underline\">+0.517</span></div><div style=\"font-family:monaco; font-size:12px\">dL/dw2 = <span style=\"color:blue\">+0.135</span> + <span style=\"color:blue\">+0.000</span> + <span style=\"color:blue\">-0.000</span> + <span style=\"color:red\">-0.034</span> + <span style=\"color:blue\">-0.000</span> + <span style=\"color:blue\">+0.135</span> + <span style=\"color:blue\">+0.503</span> + <span style=\"color:blue\">+0.135</span> = <span style=\"color:blue; text-decoration:underline\">+0.875</span></div>"
      ],
      "text/plain": [
       "<IPython.core.display.Markdown object>"
      ]
     },
     "metadata": {},
     "output_type": "display_data"
    },
    {
     "name": "stdout",
     "output_type": "stream",
     "text": [
      "w1=+0.228, w2=+0.187, w3=+1.000\n",
      "\n"
     ]
    },
    {
     "data": {
      "text/markdown": [
       "<div>**Iteration 5**</div>"
      ],
      "text/plain": [
       "<IPython.core.display.Markdown object>"
      ]
     },
     "metadata": {},
     "output_type": "display_data"
    },
    {
     "name": "stdout",
     "output_type": "stream",
     "text": [
      "Output: [+0.602, +0.500, +0.557, +0.655, +0.557, +0.602, +0.696, +0.602]\n",
      "Target: [+0.500, +0.500, +0.731, +0.731, +0.731, +0.500, +0.500, +0.500]\n",
      "Memory: [+0.415, +0.000, +0.228, +0.643, +0.228, +0.415, +0.829, +0.415]\n"
     ]
    },
    {
     "data": {
      "text/markdown": [
       "<div>Loss: **0.29046** = <span style=\"font-family:monaco; font-size:12px\">0.021 + 0.000 + 0.065 + 0.013 + 0.065 + 0.021 + 0.084 + 0.021</span></div><div style=\"font-family:monaco; font-size:12px\">dL/dw1 = <span style=\"color:blue\">+0.102</span> + <span style=\"color:blue\">+0.000</span> + <span style=\"color:red\">-0.174</span> + <span style=\"color:red\">-0.151</span> + <span style=\"color:red\">-0.174</span> + <span style=\"color:blue\">+0.102</span> + <span style=\"color:blue\">+0.392</span> + <span style=\"color:blue\">+0.102</span> = <span style=\"color:blue; text-decoration:underline\">+0.199</span></div><div style=\"font-family:monaco; font-size:12px\">dL/dw2 = <span style=\"color:blue\">+0.102</span> + <span style=\"color:blue\">+0.000</span> + <span style=\"color:blue\">-0.000</span> + <span style=\"color:red\">-0.076</span> + <span style=\"color:blue\">-0.000</span> + <span style=\"color:blue\">+0.102</span> + <span style=\"color:blue\">+0.392</span> + <span style=\"color:blue\">+0.102</span> = <span style=\"color:blue; text-decoration:underline\">+0.623</span></div>"
      ],
      "text/plain": [
       "<IPython.core.display.Markdown object>"
      ]
     },
     "metadata": {},
     "output_type": "display_data"
    },
    {
     "name": "stdout",
     "output_type": "stream",
     "text": [
      "w1=+0.208, w2=+0.125, w3=+1.000\n",
      "\n"
     ]
    },
    {
     "data": {
      "text/markdown": [
       "<div>**Iteration 6**</div>"
      ],
      "text/plain": [
       "<IPython.core.display.Markdown object>"
      ]
     },
     "metadata": {},
     "output_type": "display_data"
    },
    {
     "name": "stdout",
     "output_type": "stream",
     "text": [
      "Output: [+0.582, +0.500, +0.552, +0.632, +0.552, +0.582, +0.660, +0.582]\n",
      "Target: [+0.500, +0.500, +0.731, +0.731, +0.731, +0.500, +0.500, +0.500]\n",
      "Memory: [+0.332, +0.000, +0.208, +0.540, +0.208, +0.332, +0.665, +0.332]\n"
     ]
    },
    {
     "data": {
      "text/markdown": [
       "<div>Loss: **0.25429** = <span style=\"font-family:monaco; font-size:12px\">0.014 + 0.000 + 0.068 + 0.022 + 0.068 + 0.014 + 0.054 + 0.014</span></div><div style=\"font-family:monaco; font-size:12px\">dL/dw1 = <span style=\"color:blue\">+0.082</span> + <span style=\"color:blue\">+0.000</span> + <span style=\"color:red\">-0.179</span> + <span style=\"color:red\">-0.198</span> + <span style=\"color:red\">-0.179</span> + <span style=\"color:blue\">+0.082</span> + <span style=\"color:blue\">+0.321</span> + <span style=\"color:blue\">+0.082</span> = <span style=\"color:blue; text-decoration:underline\">+0.011</span></div><div style=\"font-family:monaco; font-size:12px\">dL/dw2 = <span style=\"color:blue\">+0.082</span> + <span style=\"color:blue\">+0.000</span> + <span style=\"color:blue\">-0.000</span> + <span style=\"color:red\">-0.099</span> + <span style=\"color:blue\">-0.000</span> + <span style=\"color:blue\">+0.082</span> + <span style=\"color:blue\">+0.321</span> + <span style=\"color:blue\">+0.082</span> = <span style=\"color:blue; text-decoration:underline\">+0.469</span></div>"
      ],
      "text/plain": [
       "<IPython.core.display.Markdown object>"
      ]
     },
     "metadata": {},
     "output_type": "display_data"
    },
    {
     "name": "stdout",
     "output_type": "stream",
     "text": [
      "w1=+0.207, w2=+0.078, w3=+1.000\n",
      "\n"
     ]
    },
    {
     "data": {
      "text/markdown": [
       "<div>**Iteration 7**</div>"
      ],
      "text/plain": [
       "<IPython.core.display.Markdown object>"
      ]
     },
     "metadata": {},
     "output_type": "display_data"
    },
    {
     "name": "stdout",
     "output_type": "stream",
     "text": [
      "Output: [+0.571, +0.500, +0.552, +0.620, +0.552, +0.571, +0.639, +0.571]\n",
      "Target: [+0.500, +0.500, +0.731, +0.731, +0.731, +0.500, +0.500, +0.500]\n",
      "Memory: [+0.285, +0.000, +0.207, +0.491, +0.207, +0.285, +0.569, +0.285]\n"
     ]
    },
    {
     "data": {
      "text/markdown": [
       "<div>Loss: **0.23448** = <span style=\"font-family:monaco; font-size:12px\">0.010 + 0.000 + 0.068 + 0.027 + 0.068 + 0.010 + 0.040 + 0.010</span></div><div style=\"font-family:monaco; font-size:12px\">dL/dw1 = <span style=\"color:blue\">+0.071</span> + <span style=\"color:blue\">+0.000</span> + <span style=\"color:red\">-0.180</span> + <span style=\"color:red\">-0.221</span> + <span style=\"color:red\">-0.180</span> + <span style=\"color:blue\">+0.071</span> + <span style=\"color:blue\">+0.277</span> + <span style=\"color:blue\">+0.071</span> = <span style=\"color:red; text-decoration:underline\">-0.091</span></div><div style=\"font-family:monaco; font-size:12px\">dL/dw2 = <span style=\"color:blue\">+0.071</span> + <span style=\"color:blue\">+0.000</span> + <span style=\"color:blue\">-0.000</span> + <span style=\"color:red\">-0.111</span> + <span style=\"color:blue\">-0.000</span> + <span style=\"color:blue\">+0.071</span> + <span style=\"color:blue\">+0.277</span> + <span style=\"color:blue\">+0.071</span> = <span style=\"color:blue; text-decoration:underline\">+0.378</span></div>"
      ],
      "text/plain": [
       "<IPython.core.display.Markdown object>"
      ]
     },
     "metadata": {},
     "output_type": "display_data"
    },
    {
     "name": "stdout",
     "output_type": "stream",
     "text": [
      "w1=+0.216, w2=+0.040, w3=+1.000\n",
      "\n"
     ]
    },
    {
     "data": {
      "text/markdown": [
       "<div>**Iteration 8**</div>"
      ],
      "text/plain": [
       "<IPython.core.display.Markdown object>"
      ]
     },
     "metadata": {},
     "output_type": "display_data"
    },
    {
     "name": "stdout",
     "output_type": "stream",
     "text": [
      "Output: [+0.564, +0.500, +0.554, +0.616, +0.554, +0.564, +0.625, +0.564]\n",
      "Target: [+0.500, +0.500, +0.731, +0.731, +0.731, +0.500, +0.500, +0.500]\n",
      "Memory: [+0.256, -0.000, +0.216, +0.472, +0.216, +0.256, +0.512, +0.256]\n"
     ]
    },
    {
     "data": {
      "text/markdown": [
       "<div>Loss: **0.22008** = <span style=\"font-family:monaco; font-size:12px\">0.008 + 0.000 + 0.067 + 0.030 + 0.067 + 0.008 + 0.032 + 0.008</span></div><div style=\"font-family:monaco; font-size:12px\">dL/dw1 = <span style=\"color:blue\">+0.064</span> + <span style=\"color:blue\">+0.000</span> + <span style=\"color:red\">-0.177</span> + <span style=\"color:red\">-0.231</span> + <span style=\"color:red\">-0.177</span> + <span style=\"color:blue\">+0.064</span> + <span style=\"color:blue\">+0.250</span> + <span style=\"color:blue\">+0.064</span> = <span style=\"color:red; text-decoration:underline\">-0.144</span></div><div style=\"font-family:monaco; font-size:12px\">dL/dw2 = <span style=\"color:blue\">+0.064</span> + <span style=\"color:blue\">+0.000</span> + <span style=\"color:blue\">-0.000</span> + <span style=\"color:red\">-0.115</span> + <span style=\"color:blue\">-0.000</span> + <span style=\"color:blue\">+0.064</span> + <span style=\"color:blue\">+0.250</span> + <span style=\"color:blue\">+0.064</span> = <span style=\"color:blue; text-decoration:underline\">+0.326</span></div>"
      ],
      "text/plain": [
       "<IPython.core.display.Markdown object>"
      ]
     },
     "metadata": {},
     "output_type": "display_data"
    },
    {
     "name": "stdout",
     "output_type": "stream",
     "text": [
      "w1=+0.230, w2=+0.007, w3=+1.000\n",
      "\n"
     ]
    },
    {
     "data": {
      "text/markdown": [
       "<div>**Iteration 9**</div>"
      ],
      "text/plain": [
       "<IPython.core.display.Markdown object>"
      ]
     },
     "metadata": {},
     "output_type": "display_data"
    },
    {
     "name": "stdout",
     "output_type": "stream",
     "text": [
      "Output: [+0.559, +0.500, +0.557, +0.615, +0.557, +0.559, +0.617, +0.559]\n",
      "Target: [+0.500, +0.500, +0.731, +0.731, +0.731, +0.500, +0.500, +0.500]\n",
      "Memory: [+0.238, +0.000, +0.230, +0.468, +0.230, +0.238, +0.475, +0.238]\n"
     ]
    },
    {
     "data": {
      "text/markdown": [
       "<div>Loss: **0.20771** = <span style=\"font-family:monaco; font-size:12px\">0.007 + 0.000 + 0.064 + 0.030 + 0.064 + 0.007 + 0.028 + 0.007</span></div><div style=\"font-family:monaco; font-size:12px\">dL/dw1 = <span style=\"color:blue\">+0.059</span> + <span style=\"color:blue\">+0.000</span> + <span style=\"color:red\">-0.174</span> + <span style=\"color:red\">-0.232</span> + <span style=\"color:red\">-0.174</span> + <span style=\"color:blue\">+0.059</span> + <span style=\"color:blue\">+0.233</span> + <span style=\"color:blue\">+0.059</span> = <span style=\"color:red; text-decoration:underline\">-0.169</span></div><div style=\"font-family:monaco; font-size:12px\">dL/dw2 = <span style=\"color:blue\">+0.059</span> + <span style=\"color:blue\">+0.000</span> + <span style=\"color:blue\">-0.000</span> + <span style=\"color:red\">-0.116</span> + <span style=\"color:blue\">-0.000</span> + <span style=\"color:blue\">+0.059</span> + <span style=\"color:blue\">+0.233</span> + <span style=\"color:blue\">+0.059</span> = <span style=\"color:blue; text-decoration:underline\">+0.294</span></div>"
      ],
      "text/plain": [
       "<IPython.core.display.Markdown object>"
      ]
     },
     "metadata": {},
     "output_type": "display_data"
    },
    {
     "name": "stdout",
     "output_type": "stream",
     "text": [
      "w1=+0.247, w2=-0.022, w3=+1.000\n",
      "\n"
     ]
    },
    {
     "data": {
      "text/markdown": [
       "<div>**Iteration 10**</div>"
      ],
      "text/plain": [
       "<IPython.core.display.Markdown object>"
      ]
     },
     "metadata": {},
     "output_type": "display_data"
    },
    {
     "name": "stdout",
     "output_type": "stream",
     "text": [
      "Output: [+0.556, +0.500, +0.562, +0.616, +0.562, +0.556, +0.611, +0.556]\n",
      "Target: [+0.500, +0.500, +0.731, +0.731, +0.731, +0.500, +0.500, +0.500]\n",
      "Memory: [+0.225, +0.000, +0.247, +0.472, +0.247, +0.225, +0.450, +0.225]\n"
     ]
    },
    {
     "data": {
      "text/markdown": [
       "<div>Loss: **0.19639** = <span style=\"font-family:monaco; font-size:12px\">0.006 + 0.000 + 0.061 + 0.029 + 0.061 + 0.006 + 0.025 + 0.006</span></div><div style=\"font-family:monaco; font-size:12px\">dL/dw1 = <span style=\"color:blue\">+0.056</span> + <span style=\"color:blue\">+0.000</span> + <span style=\"color:red\">-0.170</span> + <span style=\"color:red\">-0.230</span> + <span style=\"color:red\">-0.170</span> + <span style=\"color:blue\">+0.056</span> + <span style=\"color:blue\">+0.221</span> + <span style=\"color:blue\">+0.056</span> = <span style=\"color:red; text-decoration:underline\">-0.180</span></div><div style=\"font-family:monaco; font-size:12px\">dL/dw2 = <span style=\"color:blue\">+0.056</span> + <span style=\"color:blue\">+0.000</span> + <span style=\"color:blue\">-0.000</span> + <span style=\"color:red\">-0.115</span> + <span style=\"color:blue\">-0.000</span> + <span style=\"color:blue\">+0.056</span> + <span style=\"color:blue\">+0.221</span> + <span style=\"color:blue\">+0.056</span> = <span style=\"color:blue; text-decoration:underline\">+0.274</span></div>"
      ],
      "text/plain": [
       "<IPython.core.display.Markdown object>"
      ]
     },
     "metadata": {},
     "output_type": "display_data"
    },
    {
     "name": "stdout",
     "output_type": "stream",
     "text": [
      "w1=+0.265, w2=-0.050, w3=+1.000\n",
      "\n"
     ]
    },
    {
     "data": {
      "text/markdown": [
       "<div>**Iteration 11**</div>"
      ],
      "text/plain": [
       "<IPython.core.display.Markdown object>"
      ]
     },
     "metadata": {},
     "output_type": "display_data"
    },
    {
     "name": "stdout",
     "output_type": "stream",
     "text": [
      "Output: [+0.554, +0.500, +0.566, +0.618, +0.566, +0.554, +0.606, +0.554]\n",
      "Target: [+0.500, +0.500, +0.731, +0.731, +0.731, +0.500, +0.500, +0.500]\n",
      "Memory: [+0.216, +0.000, +0.265, +0.481, +0.265, +0.216, +0.431, +0.216]\n"
     ]
    },
    {
     "data": {
      "text/markdown": [
       "<div>Loss: **0.18579** = <span style=\"font-family:monaco; font-size:12px\">0.006 + 0.000 + 0.058 + 0.028 + 0.058 + 0.006 + 0.023 + 0.006</span></div><div style=\"font-family:monaco; font-size:12px\">dL/dw1 = <span style=\"color:blue\">+0.054</span> + <span style=\"color:blue\">+0.000</span> + <span style=\"color:red\">-0.165</span> + <span style=\"color:red\">-0.226</span> + <span style=\"color:red\">-0.165</span> + <span style=\"color:blue\">+0.054</span> + <span style=\"color:blue\">+0.212</span> + <span style=\"color:blue\">+0.054</span> = <span style=\"color:red; text-decoration:underline\">-0.183</span></div><div style=\"font-family:monaco; font-size:12px\">dL/dw2 = <span style=\"color:blue\">+0.054</span> + <span style=\"color:blue\">+0.000</span> + <span style=\"color:blue\">-0.000</span> + <span style=\"color:red\">-0.113</span> + <span style=\"color:blue\">-0.000</span> + <span style=\"color:blue\">+0.054</span> + <span style=\"color:blue\">+0.212</span> + <span style=\"color:blue\">+0.054</span> = <span style=\"color:blue; text-decoration:underline\">+0.260</span></div>"
      ],
      "text/plain": [
       "<IPython.core.display.Markdown object>"
      ]
     },
     "metadata": {},
     "output_type": "display_data"
    },
    {
     "name": "stdout",
     "output_type": "stream",
     "text": [
      "w1=+0.284, w2=-0.076, w3=+1.000\n",
      "\n"
     ]
    },
    {
     "data": {
      "text/markdown": [
       "<div>**Iteration 12**</div>"
      ],
      "text/plain": [
       "<IPython.core.display.Markdown object>"
      ]
     },
     "metadata": {},
     "output_type": "display_data"
    },
    {
     "name": "stdout",
     "output_type": "stream",
     "text": [
      "Output: [+0.552, +0.500, +0.570, +0.620, +0.570, +0.552, +0.602, +0.552]\n",
      "Target: [+0.500, +0.500, +0.731, +0.731, +0.731, +0.500, +0.500, +0.500]\n",
      "Memory: [+0.208, +0.000, +0.284, +0.491, +0.284, +0.208, +0.416, +0.208]\n"
     ]
    },
    {
     "data": {
      "text/markdown": [
       "<div>Loss: **0.17581** = <span style=\"font-family:monaco; font-size:12px\">0.005 + 0.000 + 0.055 + 0.027 + 0.055 + 0.005 + 0.021 + 0.005</span></div><div style=\"font-family:monaco; font-size:12px\">dL/dw1 = <span style=\"color:blue\">+0.052</span> + <span style=\"color:blue\">+0.000</span> + <span style=\"color:red\">-0.161</span> + <span style=\"color:red\">-0.221</span> + <span style=\"color:red\">-0.161</span> + <span style=\"color:blue\">+0.052</span> + <span style=\"color:blue\">+0.205</span> + <span style=\"color:blue\">+0.052</span> = <span style=\"color:red; text-decoration:underline\">-0.182</span></div><div style=\"font-family:monaco; font-size:12px\">dL/dw2 = <span style=\"color:blue\">+0.052</span> + <span style=\"color:blue\">+0.000</span> + <span style=\"color:blue\">-0.000</span> + <span style=\"color:red\">-0.111</span> + <span style=\"color:blue\">-0.000</span> + <span style=\"color:blue\">+0.052</span> + <span style=\"color:blue\">+0.205</span> + <span style=\"color:blue\">+0.052</span> = <span style=\"color:blue; text-decoration:underline\">+0.250</span></div>"
      ],
      "text/plain": [
       "<IPython.core.display.Markdown object>"
      ]
     },
     "metadata": {},
     "output_type": "display_data"
    },
    {
     "name": "stdout",
     "output_type": "stream",
     "text": [
      "w1=+0.302, w2=-0.101, w3=+1.000\n",
      "\n"
     ]
    },
    {
     "data": {
      "text/markdown": [
       "<div>**Iteration 13**</div>"
      ],
      "text/plain": [
       "<IPython.core.display.Markdown object>"
      ]
     },
     "metadata": {},
     "output_type": "display_data"
    },
    {
     "name": "stdout",
     "output_type": "stream",
     "text": [
      "Output: [+0.550, +0.500, +0.575, +0.623, +0.575, +0.550, +0.599, +0.550]\n",
      "Target: [+0.500, +0.500, +0.731, +0.731, +0.731, +0.500, +0.500, +0.500]\n",
      "Memory: [+0.201, -0.000, +0.302, +0.503, +0.302, +0.201, +0.402, +0.201]\n"
     ]
    },
    {
     "data": {
      "text/markdown": [
       "<div>Loss: **0.16639** = <span style=\"font-family:monaco; font-size:12px\">0.005 + 0.000 + 0.053 + 0.026 + 0.053 + 0.005 + 0.020 + 0.005</span></div><div style=\"font-family:monaco; font-size:12px\">dL/dw1 = <span style=\"color:blue\">+0.050</span> + <span style=\"color:blue\">+0.000</span> + <span style=\"color:red\">-0.156</span> + <span style=\"color:red\">-0.216</span> + <span style=\"color:red\">-0.156</span> + <span style=\"color:blue\">+0.050</span> + <span style=\"color:blue\">+0.198</span> + <span style=\"color:blue\">+0.050</span> = <span style=\"color:red; text-decoration:underline\">-0.179</span></div><div style=\"font-family:monaco; font-size:12px\">dL/dw2 = <span style=\"color:blue\">+0.050</span> + <span style=\"color:blue\">+0.000</span> + <span style=\"color:blue\">-0.000</span> + <span style=\"color:red\">-0.108</span> + <span style=\"color:blue\">-0.000</span> + <span style=\"color:blue\">+0.050</span> + <span style=\"color:blue\">+0.198</span> + <span style=\"color:blue\">+0.050</span> = <span style=\"color:blue; text-decoration:underline\">+0.241</span></div>"
      ],
      "text/plain": [
       "<IPython.core.display.Markdown object>"
      ]
     },
     "metadata": {},
     "output_type": "display_data"
    },
    {
     "name": "stdout",
     "output_type": "stream",
     "text": [
      "w1=+0.320, w2=-0.125, w3=+1.000\n",
      "\n"
     ]
    },
    {
     "data": {
      "text/markdown": [
       "<div>**Iteration 14**</div>"
      ],
      "text/plain": [
       "<IPython.core.display.Markdown object>"
      ]
     },
     "metadata": {},
     "output_type": "display_data"
    },
    {
     "name": "stdout",
     "output_type": "stream",
     "text": [
      "Output: [+0.549, +0.500, +0.579, +0.626, +0.579, +0.549, +0.596, +0.549]\n",
      "Target: [+0.500, +0.500, +0.731, +0.731, +0.731, +0.500, +0.500, +0.500]\n",
      "Memory: [+0.195, -0.000, +0.320, +0.515, +0.320, +0.195, +0.390, +0.195]\n"
     ]
    },
    {
     "data": {
      "text/markdown": [
       "<div>Loss: **0.15749** = <span style=\"font-family:monaco; font-size:12px\">0.005 + 0.000 + 0.050 + 0.025 + 0.050 + 0.005 + 0.019 + 0.005</span></div><div style=\"font-family:monaco; font-size:12px\">dL/dw1 = <span style=\"color:blue\">+0.049</span> + <span style=\"color:blue\">+0.000</span> + <span style=\"color:red\">-0.152</span> + <span style=\"color:red\">-0.210</span> + <span style=\"color:red\">-0.152</span> + <span style=\"color:blue\">+0.049</span> + <span style=\"color:blue\">+0.193</span> + <span style=\"color:blue\">+0.049</span> = <span style=\"color:red; text-decoration:underline\">-0.176</span></div><div style=\"font-family:monaco; font-size:12px\">dL/dw2 = <span style=\"color:blue\">+0.049</span> + <span style=\"color:blue\">+0.000</span> + <span style=\"color:blue\">-0.000</span> + <span style=\"color:red\">-0.105</span> + <span style=\"color:blue\">-0.000</span> + <span style=\"color:blue\">+0.049</span> + <span style=\"color:blue\">+0.193</span> + <span style=\"color:blue\">+0.049</span> = <span style=\"color:blue; text-decoration:underline\">+0.233</span></div>"
      ],
      "text/plain": [
       "<IPython.core.display.Markdown object>"
      ]
     },
     "metadata": {},
     "output_type": "display_data"
    },
    {
     "name": "stdout",
     "output_type": "stream",
     "text": [
      "w1=+0.337, w2=-0.148, w3=+1.000\n",
      "\n"
     ]
    },
    {
     "data": {
      "text/markdown": [
       "<div>**Iteration 15**</div>"
      ],
      "text/plain": [
       "<IPython.core.display.Markdown object>"
      ]
     },
     "metadata": {},
     "output_type": "display_data"
    },
    {
     "name": "stdout",
     "output_type": "stream",
     "text": [
      "Output: [+0.547, +0.500, +0.584, +0.629, +0.584, +0.547, +0.594, +0.547]\n",
      "Target: [+0.500, +0.500, +0.731, +0.731, +0.731, +0.500, +0.500, +0.500]\n",
      "Memory: [+0.189, +0.000, +0.337, +0.526, +0.337, +0.189, +0.378, +0.189]\n"
     ]
    },
    {
     "data": {
      "text/markdown": [
       "<div>Loss: **0.14909** = <span style=\"font-family:monaco; font-size:12px\">0.004 + 0.000 + 0.047 + 0.024 + 0.047 + 0.004 + 0.018 + 0.004</span></div><div style=\"font-family:monaco; font-size:12px\">dL/dw1 = <span style=\"color:blue\">+0.047</span> + <span style=\"color:blue\">+0.000</span> + <span style=\"color:red\">-0.148</span> + <span style=\"color:red\">-0.205</span> + <span style=\"color:red\">-0.148</span> + <span style=\"color:blue\">+0.047</span> + <span style=\"color:blue\">+0.187</span> + <span style=\"color:blue\">+0.047</span> = <span style=\"color:red; text-decoration:underline\">-0.171</span></div><div style=\"font-family:monaco; font-size:12px\">dL/dw2 = <span style=\"color:blue\">+0.047</span> + <span style=\"color:blue\">+0.000</span> + <span style=\"color:blue\">-0.000</span> + <span style=\"color:red\">-0.102</span> + <span style=\"color:blue\">-0.000</span> + <span style=\"color:blue\">+0.047</span> + <span style=\"color:blue\">+0.187</span> + <span style=\"color:blue\">+0.047</span> = <span style=\"color:blue; text-decoration:underline\">+0.226</span></div>"
      ],
      "text/plain": [
       "<IPython.core.display.Markdown object>"
      ]
     },
     "metadata": {},
     "output_type": "display_data"
    },
    {
     "name": "stdout",
     "output_type": "stream",
     "text": [
      "w1=+0.354, w2=-0.171, w3=+1.000\n",
      "\n"
     ]
    },
    {
     "data": {
      "text/markdown": [
       "<div>**Iteration 16**</div>"
      ],
      "text/plain": [
       "<IPython.core.display.Markdown object>"
      ]
     },
     "metadata": {},
     "output_type": "display_data"
    },
    {
     "name": "stdout",
     "output_type": "stream",
     "text": [
      "Output: [+0.546, +0.500, +0.588, +0.631, +0.588, +0.546, +0.591, +0.546]\n",
      "Target: [+0.500, +0.500, +0.731, +0.731, +0.731, +0.500, +0.500, +0.500]\n",
      "Memory: [+0.184, +0.000, +0.354, +0.538, +0.354, +0.184, +0.368, +0.184]\n"
     ]
    },
    {
     "data": {
      "text/markdown": [
       "<div>Loss: **0.14116** = <span style=\"font-family:monaco; font-size:12px\">0.004 + 0.000 + 0.045 + 0.022 + 0.045 + 0.004 + 0.017 + 0.004</span></div><div style=\"font-family:monaco; font-size:12px\">dL/dw1 = <span style=\"color:blue\">+0.046</span> + <span style=\"color:blue\">+0.000</span> + <span style=\"color:red\">-0.143</span> + <span style=\"color:red\">-0.199</span> + <span style=\"color:red\">-0.143</span> + <span style=\"color:blue\">+0.046</span> + <span style=\"color:blue\">+0.182</span> + <span style=\"color:blue\">+0.046</span> = <span style=\"color:red; text-decoration:underline\">-0.167</span></div><div style=\"font-family:monaco; font-size:12px\">dL/dw2 = <span style=\"color:blue\">+0.046</span> + <span style=\"color:blue\">+0.000</span> + <span style=\"color:blue\">-0.000</span> + <span style=\"color:red\">-0.100</span> + <span style=\"color:blue\">-0.000</span> + <span style=\"color:blue\">+0.046</span> + <span style=\"color:blue\">+0.182</span> + <span style=\"color:blue\">+0.046</span> = <span style=\"color:blue; text-decoration:underline\">+0.219</span></div>"
      ],
      "text/plain": [
       "<IPython.core.display.Markdown object>"
      ]
     },
     "metadata": {},
     "output_type": "display_data"
    },
    {
     "name": "stdout",
     "output_type": "stream",
     "text": [
      "w1=+0.371, w2=-0.193, w3=+1.000\n",
      "\n"
     ]
    },
    {
     "data": {
      "text/markdown": [
       "<div>**Iteration 17**</div>"
      ],
      "text/plain": [
       "<IPython.core.display.Markdown object>"
      ]
     },
     "metadata": {},
     "output_type": "display_data"
    },
    {
     "name": "stdout",
     "output_type": "stream",
     "text": [
      "Output: [+0.545, +0.500, +0.592, +0.634, +0.592, +0.545, +0.588, +0.545]\n",
      "Target: [+0.500, +0.500, +0.731, +0.731, +0.731, +0.500, +0.500, +0.500]\n",
      "Memory: [+0.179, +0.000, +0.371, +0.550, +0.371, +0.179, +0.357, +0.179]\n"
     ]
    },
    {
     "data": {
      "text/markdown": [
       "<div>Loss: **0.13366** = <span style=\"font-family:monaco; font-size:12px\">0.004 + 0.000 + 0.042 + 0.021 + 0.042 + 0.004 + 0.016 + 0.004</span></div><div style=\"font-family:monaco; font-size:12px\">dL/dw1 = <span style=\"color:blue\">+0.045</span> + <span style=\"color:blue\">+0.000</span> + <span style=\"color:red\">-0.139</span> + <span style=\"color:red\">-0.194</span> + <span style=\"color:red\">-0.139</span> + <span style=\"color:blue\">+0.045</span> + <span style=\"color:blue\">+0.177</span> + <span style=\"color:blue\">+0.045</span> = <span style=\"color:red; text-decoration:underline\">-0.163</span></div><div style=\"font-family:monaco; font-size:12px\">dL/dw2 = <span style=\"color:blue\">+0.045</span> + <span style=\"color:blue\">+0.000</span> + <span style=\"color:blue\">-0.000</span> + <span style=\"color:red\">-0.097</span> + <span style=\"color:blue\">-0.000</span> + <span style=\"color:blue\">+0.045</span> + <span style=\"color:blue\">+0.177</span> + <span style=\"color:blue\">+0.045</span> = <span style=\"color:blue; text-decoration:underline\">+0.213</span></div>"
      ],
      "text/plain": [
       "<IPython.core.display.Markdown object>"
      ]
     },
     "metadata": {},
     "output_type": "display_data"
    },
    {
     "name": "stdout",
     "output_type": "stream",
     "text": [
      "w1=+0.387, w2=-0.214, w3=+1.000\n",
      "\n"
     ]
    },
    {
     "data": {
      "text/markdown": [
       "<div>**Iteration 18**</div>"
      ],
      "text/plain": [
       "<IPython.core.display.Markdown object>"
      ]
     },
     "metadata": {},
     "output_type": "display_data"
    },
    {
     "name": "stdout",
     "output_type": "stream",
     "text": [
      "Output: [+0.543, +0.500, +0.596, +0.637, +0.596, +0.543, +0.586, +0.543]\n",
      "Target: [+0.500, +0.500, +0.731, +0.731, +0.731, +0.500, +0.500, +0.500]\n",
      "Memory: [+0.173, +0.000, +0.387, +0.561, +0.387, +0.173, +0.347, +0.173]\n"
     ]
    },
    {
     "data": {
      "text/markdown": [
       "<div>Loss: **0.12657** = <span style=\"font-family:monaco; font-size:12px\">0.004 + 0.000 + 0.040 + 0.020 + 0.040 + 0.004 + 0.015 + 0.004</span></div><div style=\"font-family:monaco; font-size:12px\">dL/dw1 = <span style=\"color:blue\">+0.043</span> + <span style=\"color:blue\">+0.000</span> + <span style=\"color:red\">-0.135</span> + <span style=\"color:red\">-0.189</span> + <span style=\"color:red\">-0.135</span> + <span style=\"color:blue\">+0.043</span> + <span style=\"color:blue\">+0.172</span> + <span style=\"color:blue\">+0.043</span> = <span style=\"color:red; text-decoration:underline\">-0.158</span></div><div style=\"font-family:monaco; font-size:12px\">dL/dw2 = <span style=\"color:blue\">+0.043</span> + <span style=\"color:blue\">+0.000</span> + <span style=\"color:blue\">-0.000</span> + <span style=\"color:red\">-0.094</span> + <span style=\"color:blue\">-0.000</span> + <span style=\"color:blue\">+0.043</span> + <span style=\"color:blue\">+0.172</span> + <span style=\"color:blue\">+0.043</span> = <span style=\"color:blue; text-decoration:underline\">+0.207</span></div>"
      ],
      "text/plain": [
       "<IPython.core.display.Markdown object>"
      ]
     },
     "metadata": {},
     "output_type": "display_data"
    },
    {
     "name": "stdout",
     "output_type": "stream",
     "text": [
      "w1=+0.403, w2=-0.235, w3=+1.000\n",
      "\n"
     ]
    },
    {
     "data": {
      "text/markdown": [
       "<div>**Iteration 19**</div>"
      ],
      "text/plain": [
       "<IPython.core.display.Markdown object>"
      ]
     },
     "metadata": {},
     "output_type": "display_data"
    },
    {
     "name": "stdout",
     "output_type": "stream",
     "text": [
      "Output: [+0.542, +0.500, +0.599, +0.639, +0.599, +0.542, +0.583, +0.542]\n",
      "Target: [+0.500, +0.500, +0.731, +0.731, +0.731, +0.500, +0.500, +0.500]\n",
      "Memory: [+0.169, +0.000, +0.403, +0.572, +0.403, +0.169, +0.337, +0.169]\n"
     ]
    },
    {
     "data": {
      "text/markdown": [
       "<div>Loss: **0.11988** = <span style=\"font-family:monaco; font-size:12px\">0.004 + 0.000 + 0.038 + 0.019 + 0.038 + 0.004 + 0.014 + 0.004</span></div><div style=\"font-family:monaco; font-size:12px\">dL/dw1 = <span style=\"color:blue\">+0.042</span> + <span style=\"color:blue\">+0.000</span> + <span style=\"color:red\">-0.132</span> + <span style=\"color:red\">-0.184</span> + <span style=\"color:red\">-0.132</span> + <span style=\"color:blue\">+0.042</span> + <span style=\"color:blue\">+0.167</span> + <span style=\"color:blue\">+0.042</span> = <span style=\"color:red; text-decoration:underline\">-0.154</span></div><div style=\"font-family:monaco; font-size:12px\">dL/dw2 = <span style=\"color:blue\">+0.042</span> + <span style=\"color:blue\">+0.000</span> + <span style=\"color:blue\">-0.000</span> + <span style=\"color:red\">-0.092</span> + <span style=\"color:blue\">-0.000</span> + <span style=\"color:blue\">+0.042</span> + <span style=\"color:blue\">+0.167</span> + <span style=\"color:blue\">+0.042</span> = <span style=\"color:blue; text-decoration:underline\">+0.201</span></div>"
      ],
      "text/plain": [
       "<IPython.core.display.Markdown object>"
      ]
     },
     "metadata": {},
     "output_type": "display_data"
    },
    {
     "name": "stdout",
     "output_type": "stream",
     "text": [
      "w1=+0.419, w2=-0.255, w3=+1.000\n",
      "\n"
     ]
    },
    {
     "data": {
      "text/markdown": [
       "<div>**Iteration 20**</div>"
      ],
      "text/plain": [
       "<IPython.core.display.Markdown object>"
      ]
     },
     "metadata": {},
     "output_type": "display_data"
    },
    {
     "name": "stdout",
     "output_type": "stream",
     "text": [
      "Output: [+0.541, +0.500, +0.603, +0.642, +0.603, +0.541, +0.581, +0.541]\n",
      "Target: [+0.500, +0.500, +0.731, +0.731, +0.731, +0.500, +0.500, +0.500]\n",
      "Memory: [+0.164, +0.000, +0.419, +0.582, +0.419, +0.164, +0.328, +0.164]\n"
     ]
    },
    {
     "data": {
      "text/markdown": [
       "<div>Loss: **0.11355** = <span style=\"font-family:monaco; font-size:12px\">0.003 + 0.000 + 0.036 + 0.018 + 0.036 + 0.003 + 0.013 + 0.003</span></div><div style=\"font-family:monaco; font-size:12px\">dL/dw1 = <span style=\"color:blue\">+0.041</span> + <span style=\"color:blue\">+0.000</span> + <span style=\"color:red\">-0.128</span> + <span style=\"color:red\">-0.179</span> + <span style=\"color:red\">-0.128</span> + <span style=\"color:blue\">+0.041</span> + <span style=\"color:blue\">+0.162</span> + <span style=\"color:blue\">+0.041</span> = <span style=\"color:red; text-decoration:underline\">-0.150</span></div><div style=\"font-family:monaco; font-size:12px\">dL/dw2 = <span style=\"color:blue\">+0.041</span> + <span style=\"color:blue\">+0.000</span> + <span style=\"color:blue\">-0.000</span> + <span style=\"color:red\">-0.089</span> + <span style=\"color:blue\">-0.000</span> + <span style=\"color:blue\">+0.041</span> + <span style=\"color:blue\">+0.162</span> + <span style=\"color:blue\">+0.041</span> = <span style=\"color:blue; text-decoration:underline\">+0.196</span></div>"
      ],
      "text/plain": [
       "<IPython.core.display.Markdown object>"
      ]
     },
     "metadata": {},
     "output_type": "display_data"
    },
    {
     "name": "stdout",
     "output_type": "stream",
     "text": [
      "w1=+0.434, w2=-0.274, w3=+1.000\n",
      "\n"
     ]
    },
    {
     "data": {
      "text/markdown": [
       "<div>**Iteration 21**</div>"
      ],
      "text/plain": [
       "<IPython.core.display.Markdown object>"
      ]
     },
     "metadata": {},
     "output_type": "display_data"
    },
    {
     "name": "stdout",
     "output_type": "stream",
     "text": [
      "Output: [+0.540, +0.500, +0.607, +0.644, +0.607, +0.540, +0.579, +0.540]\n",
      "Target: [+0.500, +0.500, +0.731, +0.731, +0.731, +0.500, +0.500, +0.500]\n",
      "Memory: [+0.159, +0.000, +0.434, +0.593, +0.434, +0.159, +0.319, +0.159]\n"
     ]
    },
    {
     "data": {
      "text/markdown": [
       "<div>Loss: **0.10757** = <span style=\"font-family:monaco; font-size:12px\">0.003 + 0.000 + 0.034 + 0.017 + 0.034 + 0.003 + 0.013 + 0.003</span></div><div style=\"font-family:monaco; font-size:12px\">dL/dw1 = <span style=\"color:blue\">+0.040</span> + <span style=\"color:blue\">+0.000</span> + <span style=\"color:red\">-0.124</span> + <span style=\"color:red\">-0.174</span> + <span style=\"color:red\">-0.124</span> + <span style=\"color:blue\">+0.040</span> + <span style=\"color:blue\">+0.158</span> + <span style=\"color:blue\">+0.040</span> = <span style=\"color:red; text-decoration:underline\">-0.146</span></div><div style=\"font-family:monaco; font-size:12px\">dL/dw2 = <span style=\"color:blue\">+0.040</span> + <span style=\"color:blue\">+0.000</span> + <span style=\"color:blue\">-0.000</span> + <span style=\"color:red\">-0.087</span> + <span style=\"color:blue\">-0.000</span> + <span style=\"color:blue\">+0.040</span> + <span style=\"color:blue\">+0.158</span> + <span style=\"color:blue\">+0.040</span> = <span style=\"color:blue; text-decoration:underline\">+0.190</span></div>"
      ],
      "text/plain": [
       "<IPython.core.display.Markdown object>"
      ]
     },
     "metadata": {},
     "output_type": "display_data"
    },
    {
     "name": "stdout",
     "output_type": "stream",
     "text": [
      "w1=+0.448, w2=-0.293, w3=+1.000\n",
      "\n"
     ]
    },
    {
     "data": {
      "text/markdown": [
       "<div>**Iteration 22**</div>"
      ],
      "text/plain": [
       "<IPython.core.display.Markdown object>"
      ]
     },
     "metadata": {},
     "output_type": "display_data"
    },
    {
     "name": "stdout",
     "output_type": "stream",
     "text": [
      "Output: [+0.539, +0.500, +0.610, +0.646, +0.610, +0.539, +0.577, +0.539]\n",
      "Target: [+0.500, +0.500, +0.731, +0.731, +0.731, +0.500, +0.500, +0.500]\n",
      "Memory: [+0.155, +0.000, +0.448, +0.603, +0.448, +0.155, +0.310, +0.155]\n"
     ]
    },
    {
     "data": {
      "text/markdown": [
       "<div>Loss: **0.10191** = <span style=\"font-family:monaco; font-size:12px\">0.003 + 0.000 + 0.032 + 0.016 + 0.032 + 0.003 + 0.012 + 0.003</span></div><div style=\"font-family:monaco; font-size:12px\">dL/dw1 = <span style=\"color:blue\">+0.039</span> + <span style=\"color:blue\">+0.000</span> + <span style=\"color:red\">-0.121</span> + <span style=\"color:red\">-0.169</span> + <span style=\"color:red\">-0.121</span> + <span style=\"color:blue\">+0.039</span> + <span style=\"color:blue\">+0.154</span> + <span style=\"color:blue\">+0.039</span> = <span style=\"color:red; text-decoration:underline\">-0.142</span></div><div style=\"font-family:monaco; font-size:12px\">dL/dw2 = <span style=\"color:blue\">+0.039</span> + <span style=\"color:blue\">+0.000</span> + <span style=\"color:blue\">-0.000</span> + <span style=\"color:red\">-0.085</span> + <span style=\"color:blue\">-0.000</span> + <span style=\"color:blue\">+0.039</span> + <span style=\"color:blue\">+0.154</span> + <span style=\"color:blue\">+0.039</span> = <span style=\"color:blue; text-decoration:underline\">+0.185</span></div>"
      ],
      "text/plain": [
       "<IPython.core.display.Markdown object>"
      ]
     },
     "metadata": {},
     "output_type": "display_data"
    },
    {
     "name": "stdout",
     "output_type": "stream",
     "text": [
      "w1=+0.462, w2=-0.312, w3=+1.000\n",
      "\n"
     ]
    },
    {
     "data": {
      "text/markdown": [
       "<div>**Iteration 23**</div>"
      ],
      "text/plain": [
       "<IPython.core.display.Markdown object>"
      ]
     },
     "metadata": {},
     "output_type": "display_data"
    },
    {
     "name": "stdout",
     "output_type": "stream",
     "text": [
      "Output: [+0.538, +0.500, +0.614, +0.649, +0.614, +0.538, +0.575, +0.538]\n",
      "Target: [+0.500, +0.500, +0.731, +0.731, +0.731, +0.500, +0.500, +0.500]\n",
      "Memory: [+0.151, +0.000, +0.462, +0.613, +0.462, +0.151, +0.301, +0.151]\n"
     ]
    },
    {
     "data": {
      "text/markdown": [
       "<div>Loss: **0.09657** = <span style=\"font-family:monaco; font-size:12px\">0.003 + 0.000 + 0.031 + 0.016 + 0.031 + 0.003 + 0.011 + 0.003</span></div><div style=\"font-family:monaco; font-size:12px\">dL/dw1 = <span style=\"color:blue\">+0.038</span> + <span style=\"color:blue\">+0.000</span> + <span style=\"color:red\">-0.118</span> + <span style=\"color:red\">-0.165</span> + <span style=\"color:red\">-0.118</span> + <span style=\"color:blue\">+0.038</span> + <span style=\"color:blue\">+0.149</span> + <span style=\"color:blue\">+0.038</span> = <span style=\"color:red; text-decoration:underline\">-0.138</span></div><div style=\"font-family:monaco; font-size:12px\">dL/dw2 = <span style=\"color:blue\">+0.038</span> + <span style=\"color:blue\">+0.000</span> + <span style=\"color:blue\">-0.000</span> + <span style=\"color:red\">-0.082</span> + <span style=\"color:blue\">-0.000</span> + <span style=\"color:blue\">+0.038</span> + <span style=\"color:blue\">+0.149</span> + <span style=\"color:blue\">+0.038</span> = <span style=\"color:blue; text-decoration:underline\">+0.180</span></div>"
      ],
      "text/plain": [
       "<IPython.core.display.Markdown object>"
      ]
     },
     "metadata": {},
     "output_type": "display_data"
    },
    {
     "name": "stdout",
     "output_type": "stream",
     "text": [
      "w1=+0.476, w2=-0.330, w3=+1.000\n",
      "\n"
     ]
    },
    {
     "data": {
      "text/markdown": [
       "<div>**Iteration 24**</div>"
      ],
      "text/plain": [
       "<IPython.core.display.Markdown object>"
      ]
     },
     "metadata": {},
     "output_type": "display_data"
    },
    {
     "name": "stdout",
     "output_type": "stream",
     "text": [
      "Output: [+0.537, +0.500, +0.617, +0.651, +0.617, +0.537, +0.573, +0.537]\n",
      "Target: [+0.500, +0.500, +0.731, +0.731, +0.731, +0.500, +0.500, +0.500]\n",
      "Memory: [+0.146, +0.000, +0.476, +0.622, +0.476, +0.146, +0.293, +0.146]\n"
     ]
    },
    {
     "data": {
      "text/markdown": [
       "<div>Loss: **0.09151** = <span style=\"font-family:monaco; font-size:12px\">0.003 + 0.000 + 0.029 + 0.015 + 0.029 + 0.003 + 0.011 + 0.003</span></div><div style=\"font-family:monaco; font-size:12px\">dL/dw1 = <span style=\"color:blue\">+0.037</span> + <span style=\"color:blue\">+0.000</span> + <span style=\"color:red\">-0.114</span> + <span style=\"color:red\">-0.161</span> + <span style=\"color:red\">-0.114</span> + <span style=\"color:blue\">+0.037</span> + <span style=\"color:blue\">+0.145</span> + <span style=\"color:blue\">+0.037</span> = <span style=\"color:red; text-decoration:underline\">-0.134</span></div><div style=\"font-family:monaco; font-size:12px\">dL/dw2 = <span style=\"color:blue\">+0.037</span> + <span style=\"color:blue\">+0.000</span> + <span style=\"color:blue\">-0.000</span> + <span style=\"color:red\">-0.080</span> + <span style=\"color:blue\">-0.000</span> + <span style=\"color:blue\">+0.037</span> + <span style=\"color:blue\">+0.145</span> + <span style=\"color:blue\">+0.037</span> = <span style=\"color:blue; text-decoration:underline\">+0.175</span></div>"
      ],
      "text/plain": [
       "<IPython.core.display.Markdown object>"
      ]
     },
     "metadata": {},
     "output_type": "display_data"
    },
    {
     "name": "stdout",
     "output_type": "stream",
     "text": [
      "w1=+0.489, w2=-0.347, w3=+1.000\n",
      "\n"
     ]
    },
    {
     "data": {
      "text/markdown": [
       "<div>**Iteration 25**</div>"
      ],
      "text/plain": [
       "<IPython.core.display.Markdown object>"
      ]
     },
     "metadata": {},
     "output_type": "display_data"
    },
    {
     "name": "stdout",
     "output_type": "stream",
     "text": [
      "Output: [+0.536, +0.500, +0.620, +0.653, +0.620, +0.536, +0.571, +0.536]\n",
      "Target: [+0.500, +0.500, +0.731, +0.731, +0.731, +0.500, +0.500, +0.500]\n",
      "Memory: [+0.142, +0.000, +0.489, +0.632, +0.489, +0.142, +0.285, +0.142]\n"
     ]
    },
    {
     "data": {
      "text/markdown": [
       "<div>Loss: **0.08673** = <span style=\"font-family:monaco; font-size:12px\">0.003 + 0.000 + 0.027 + 0.014 + 0.027 + 0.003 + 0.010 + 0.003</span></div><div style=\"font-family:monaco; font-size:12px\">dL/dw1 = <span style=\"color:blue\">+0.036</span> + <span style=\"color:blue\">+0.000</span> + <span style=\"color:red\">-0.111</span> + <span style=\"color:red\">-0.156</span> + <span style=\"color:red\">-0.111</span> + <span style=\"color:blue\">+0.036</span> + <span style=\"color:blue\">+0.141</span> + <span style=\"color:blue\">+0.036</span> = <span style=\"color:red; text-decoration:underline\">-0.131</span></div><div style=\"font-family:monaco; font-size:12px\">dL/dw2 = <span style=\"color:blue\">+0.036</span> + <span style=\"color:blue\">+0.000</span> + <span style=\"color:blue\">-0.000</span> + <span style=\"color:red\">-0.078</span> + <span style=\"color:blue\">-0.000</span> + <span style=\"color:blue\">+0.036</span> + <span style=\"color:blue\">+0.141</span> + <span style=\"color:blue\">+0.036</span> = <span style=\"color:blue; text-decoration:underline\">+0.170</span></div>"
      ],
      "text/plain": [
       "<IPython.core.display.Markdown object>"
      ]
     },
     "metadata": {},
     "output_type": "display_data"
    },
    {
     "name": "stdout",
     "output_type": "stream",
     "text": [
      "w1=+0.503, w2=-0.364, w3=+1.000\n",
      "\n"
     ]
    },
    {
     "data": {
      "text/markdown": [
       "<div>**Iteration 26**</div>"
      ],
      "text/plain": [
       "<IPython.core.display.Markdown object>"
      ]
     },
     "metadata": {},
     "output_type": "display_data"
    },
    {
     "name": "stdout",
     "output_type": "stream",
     "text": [
      "Output: [+0.535, +0.500, +0.623, +0.655, +0.623, +0.535, +0.569, +0.535]\n",
      "Target: [+0.500, +0.500, +0.731, +0.731, +0.731, +0.500, +0.500, +0.500]\n",
      "Memory: [+0.138, +0.000, +0.503, +0.641, +0.503, +0.138, +0.277, +0.138]\n"
     ]
    },
    {
     "data": {
      "text/markdown": [
       "<div>Loss: **0.08221** = <span style=\"font-family:monaco; font-size:12px\">0.002 + 0.000 + 0.026 + 0.013 + 0.026 + 0.002 + 0.010 + 0.002</span></div><div style=\"font-family:monaco; font-size:12px\">dL/dw1 = <span style=\"color:blue\">+0.035</span> + <span style=\"color:blue\">+0.000</span> + <span style=\"color:red\">-0.108</span> + <span style=\"color:red\">-0.152</span> + <span style=\"color:red\">-0.108</span> + <span style=\"color:blue\">+0.035</span> + <span style=\"color:blue\">+0.138</span> + <span style=\"color:blue\">+0.035</span> = <span style=\"color:red; text-decoration:underline\">-0.127</span></div><div style=\"font-family:monaco; font-size:12px\">dL/dw2 = <span style=\"color:blue\">+0.035</span> + <span style=\"color:blue\">+0.000</span> + <span style=\"color:blue\">-0.000</span> + <span style=\"color:red\">-0.076</span> + <span style=\"color:blue\">-0.000</span> + <span style=\"color:blue\">+0.035</span> + <span style=\"color:blue\">+0.138</span> + <span style=\"color:blue\">+0.035</span> = <span style=\"color:blue; text-decoration:underline\">+0.165</span></div>"
      ],
      "text/plain": [
       "<IPython.core.display.Markdown object>"
      ]
     },
     "metadata": {},
     "output_type": "display_data"
    },
    {
     "name": "stdout",
     "output_type": "stream",
     "text": [
      "w1=+0.515, w2=-0.381, w3=+1.000\n",
      "\n"
     ]
    },
    {
     "data": {
      "text/markdown": [
       "<div>**Iteration 27**</div>"
      ],
      "text/plain": [
       "<IPython.core.display.Markdown object>"
      ]
     },
     "metadata": {},
     "output_type": "display_data"
    },
    {
     "name": "stdout",
     "output_type": "stream",
     "text": [
      "Output: [+0.534, +0.500, +0.626, +0.657, +0.626, +0.534, +0.567, +0.534]\n",
      "Target: [+0.500, +0.500, +0.731, +0.731, +0.731, +0.500, +0.500, +0.500]\n",
      "Memory: [+0.135, +0.000, +0.515, +0.650, +0.515, +0.135, +0.269, +0.135]\n"
     ]
    },
    {
     "data": {
      "text/markdown": [
       "<div>Loss: **0.07793** = <span style=\"font-family:monaco; font-size:12px\">0.002 + 0.000 + 0.025 + 0.013 + 0.025 + 0.002 + 0.009 + 0.002</span></div><div style=\"font-family:monaco; font-size:12px\">dL/dw1 = <span style=\"color:blue\">+0.034</span> + <span style=\"color:blue\">+0.000</span> + <span style=\"color:red\">-0.105</span> + <span style=\"color:red\">-0.148</span> + <span style=\"color:red\">-0.105</span> + <span style=\"color:blue\">+0.034</span> + <span style=\"color:blue\">+0.134</span> + <span style=\"color:blue\">+0.034</span> = <span style=\"color:red; text-decoration:underline\">-0.124</span></div><div style=\"font-family:monaco; font-size:12px\">dL/dw2 = <span style=\"color:blue\">+0.034</span> + <span style=\"color:blue\">+0.000</span> + <span style=\"color:blue\">-0.000</span> + <span style=\"color:red\">-0.074</span> + <span style=\"color:blue\">-0.000</span> + <span style=\"color:blue\">+0.034</span> + <span style=\"color:blue\">+0.134</span> + <span style=\"color:blue\">+0.034</span> = <span style=\"color:blue; text-decoration:underline\">+0.160</span></div>"
      ],
      "text/plain": [
       "<IPython.core.display.Markdown object>"
      ]
     },
     "metadata": {},
     "output_type": "display_data"
    },
    {
     "name": "stdout",
     "output_type": "stream",
     "text": [
      "w1=+0.528, w2=-0.397, w3=+1.000\n",
      "\n"
     ]
    },
    {
     "data": {
      "text/markdown": [
       "<div>**Iteration 28**</div>"
      ],
      "text/plain": [
       "<IPython.core.display.Markdown object>"
      ]
     },
     "metadata": {},
     "output_type": "display_data"
    },
    {
     "name": "stdout",
     "output_type": "stream",
     "text": [
      "Output: [+0.533, +0.500, +0.629, +0.659, +0.629, +0.533, +0.565, +0.533]\n",
      "Target: [+0.500, +0.500, +0.731, +0.731, +0.731, +0.500, +0.500, +0.500]\n",
      "Memory: [+0.131, +0.000, +0.528, +0.659, +0.528, +0.131, +0.262, +0.131]\n"
     ]
    },
    {
     "data": {
      "text/markdown": [
       "<div>Loss: **0.07388** = <span style=\"font-family:monaco; font-size:12px\">0.002 + 0.000 + 0.023 + 0.012 + 0.023 + 0.002 + 0.009 + 0.002</span></div><div style=\"font-family:monaco; font-size:12px\">dL/dw1 = <span style=\"color:blue\">+0.033</span> + <span style=\"color:blue\">+0.000</span> + <span style=\"color:red\">-0.102</span> + <span style=\"color:red\">-0.144</span> + <span style=\"color:red\">-0.102</span> + <span style=\"color:blue\">+0.033</span> + <span style=\"color:blue\">+0.130</span> + <span style=\"color:blue\">+0.033</span> = <span style=\"color:red; text-decoration:underline\">-0.120</span></div><div style=\"font-family:monaco; font-size:12px\">dL/dw2 = <span style=\"color:blue\">+0.033</span> + <span style=\"color:blue\">+0.000</span> + <span style=\"color:blue\">-0.000</span> + <span style=\"color:red\">-0.072</span> + <span style=\"color:blue\">-0.000</span> + <span style=\"color:blue\">+0.033</span> + <span style=\"color:blue\">+0.130</span> + <span style=\"color:blue\">+0.033</span> = <span style=\"color:blue; text-decoration:underline\">+0.156</span></div>"
      ],
      "text/plain": [
       "<IPython.core.display.Markdown object>"
      ]
     },
     "metadata": {},
     "output_type": "display_data"
    },
    {
     "name": "stdout",
     "output_type": "stream",
     "text": [
      "w1=+0.540, w2=-0.412, w3=+1.000\n",
      "\n"
     ]
    },
    {
     "data": {
      "text/markdown": [
       "<div>**Iteration 29**</div>"
      ],
      "text/plain": [
       "<IPython.core.display.Markdown object>"
      ]
     },
     "metadata": {},
     "output_type": "display_data"
    },
    {
     "name": "stdout",
     "output_type": "stream",
     "text": [
      "Output: [+0.532, +0.500, +0.632, +0.661, +0.632, +0.532, +0.563, +0.532]\n",
      "Target: [+0.500, +0.500, +0.731, +0.731, +0.731, +0.500, +0.500, +0.500]\n",
      "Memory: [+0.127, +0.000, +0.540, +0.667, +0.540, +0.127, +0.255, +0.127]\n"
     ]
    },
    {
     "data": {
      "text/markdown": [
       "<div>Loss: **0.07005** = <span style=\"font-family:monaco; font-size:12px\">0.002 + 0.000 + 0.022 + 0.011 + 0.022 + 0.002 + 0.008 + 0.002</span></div><div style=\"font-family:monaco; font-size:12px\">dL/dw1 = <span style=\"color:blue\">+0.032</span> + <span style=\"color:blue\">+0.000</span> + <span style=\"color:red\">-0.099</span> + <span style=\"color:red\">-0.140</span> + <span style=\"color:red\">-0.099</span> + <span style=\"color:blue\">+0.032</span> + <span style=\"color:blue\">+0.127</span> + <span style=\"color:blue\">+0.032</span> = <span style=\"color:red; text-decoration:underline\">-0.117</span></div><div style=\"font-family:monaco; font-size:12px\">dL/dw2 = <span style=\"color:blue\">+0.032</span> + <span style=\"color:blue\">+0.000</span> + <span style=\"color:blue\">-0.000</span> + <span style=\"color:red\">-0.070</span> + <span style=\"color:blue\">-0.000</span> + <span style=\"color:blue\">+0.032</span> + <span style=\"color:blue\">+0.127</span> + <span style=\"color:blue\">+0.032</span> = <span style=\"color:blue; text-decoration:underline\">+0.152</span></div>"
      ],
      "text/plain": [
       "<IPython.core.display.Markdown object>"
      ]
     },
     "metadata": {},
     "output_type": "display_data"
    },
    {
     "name": "stdout",
     "output_type": "stream",
     "text": [
      "w1=+0.551, w2=-0.427, w3=+1.000\n",
      "\n"
     ]
    },
    {
     "data": {
      "text/markdown": [
       "<div>**Iteration 30**</div>"
      ],
      "text/plain": [
       "<IPython.core.display.Markdown object>"
      ]
     },
     "metadata": {},
     "output_type": "display_data"
    },
    {
     "name": "stdout",
     "output_type": "stream",
     "text": [
      "Output: [+0.531, +0.500, +0.634, +0.663, +0.634, +0.531, +0.562, +0.531]\n",
      "Target: [+0.500, +0.500, +0.731, +0.731, +0.731, +0.500, +0.500, +0.500]\n",
      "Memory: [+0.124, +0.000, +0.551, +0.675, +0.551, +0.124, +0.248, +0.124]\n"
     ]
    },
    {
     "data": {
      "text/markdown": [
       "<div>Loss: **0.06642** = <span style=\"font-family:monaco; font-size:12px\">0.002 + 0.000 + 0.021 + 0.011 + 0.021 + 0.002 + 0.008 + 0.002</span></div><div style=\"font-family:monaco; font-size:12px\">dL/dw1 = <span style=\"color:blue\">+0.031</span> + <span style=\"color:blue\">+0.000</span> + <span style=\"color:red\">-0.097</span> + <span style=\"color:red\">-0.137</span> + <span style=\"color:red\">-0.097</span> + <span style=\"color:blue\">+0.031</span> + <span style=\"color:blue\">+0.123</span> + <span style=\"color:blue\">+0.031</span> = <span style=\"color:red; text-decoration:underline\">-0.114</span></div><div style=\"font-family:monaco; font-size:12px\">dL/dw2 = <span style=\"color:blue\">+0.031</span> + <span style=\"color:blue\">+0.000</span> + <span style=\"color:blue\">-0.000</span> + <span style=\"color:red\">-0.068</span> + <span style=\"color:blue\">-0.000</span> + <span style=\"color:blue\">+0.031</span> + <span style=\"color:blue\">+0.123</span> + <span style=\"color:blue\">+0.031</span> = <span style=\"color:blue; text-decoration:underline\">+0.148</span></div>"
      ],
      "text/plain": [
       "<IPython.core.display.Markdown object>"
      ]
     },
     "metadata": {},
     "output_type": "display_data"
    },
    {
     "name": "stdout",
     "output_type": "stream",
     "text": [
      "w1=+0.563, w2=-0.442, w3=+1.000\n",
      "\n"
     ]
    },
    {
     "data": {
      "text/markdown": [
       "<div>**Iteration 31**</div>"
      ],
      "text/plain": [
       "<IPython.core.display.Markdown object>"
      ]
     },
     "metadata": {},
     "output_type": "display_data"
    },
    {
     "name": "stdout",
     "output_type": "stream",
     "text": [
      "Output: [+0.530, +0.500, +0.637, +0.664, +0.637, +0.530, +0.560, +0.530]\n",
      "Target: [+0.500, +0.500, +0.731, +0.731, +0.731, +0.500, +0.500, +0.500]\n",
      "Memory: [+0.120, +0.000, +0.563, +0.683, +0.563, +0.120, +0.241, +0.120]\n"
     ]
    },
    {
     "data": {
      "text/markdown": [
       "<div>Loss: **0.06299** = <span style=\"font-family:monaco; font-size:12px\">0.002 + 0.000 + 0.020 + 0.010 + 0.020 + 0.002 + 0.007 + 0.002</span></div><div style=\"font-family:monaco; font-size:12px\">dL/dw1 = <span style=\"color:blue\">+0.030</span> + <span style=\"color:blue\">+0.000</span> + <span style=\"color:red\">-0.094</span> + <span style=\"color:red\">-0.133</span> + <span style=\"color:red\">-0.094</span> + <span style=\"color:blue\">+0.030</span> + <span style=\"color:blue\">+0.120</span> + <span style=\"color:blue\">+0.030</span> = <span style=\"color:red; text-decoration:underline\">-0.111</span></div><div style=\"font-family:monaco; font-size:12px\">dL/dw2 = <span style=\"color:blue\">+0.030</span> + <span style=\"color:blue\">+0.000</span> + <span style=\"color:blue\">-0.000</span> + <span style=\"color:red\">-0.067</span> + <span style=\"color:blue\">-0.000</span> + <span style=\"color:blue\">+0.030</span> + <span style=\"color:blue\">+0.120</span> + <span style=\"color:blue\">+0.030</span> = <span style=\"color:blue; text-decoration:underline\">+0.144</span></div>"
      ],
      "text/plain": [
       "<IPython.core.display.Markdown object>"
      ]
     },
     "metadata": {},
     "output_type": "display_data"
    },
    {
     "name": "stdout",
     "output_type": "stream",
     "text": [
      "w1=+0.574, w2=-0.457, w3=+1.000\n",
      "\n"
     ]
    },
    {
     "data": {
      "text/markdown": [
       "<div>**Iteration 32**</div>"
      ],
      "text/plain": [
       "<IPython.core.display.Markdown object>"
      ]
     },
     "metadata": {},
     "output_type": "display_data"
    },
    {
     "name": "stdout",
     "output_type": "stream",
     "text": [
      "Output: [+0.529, +0.500, +0.640, +0.666, +0.640, +0.529, +0.558, +0.529]\n",
      "Target: [+0.500, +0.500, +0.731, +0.731, +0.731, +0.500, +0.500, +0.500]\n",
      "Memory: [+0.117, +0.000, +0.574, +0.691, +0.574, +0.117, +0.234, +0.117]\n"
     ]
    },
    {
     "data": {
      "text/markdown": [
       "<div>Loss: **0.05974** = <span style=\"font-family:monaco; font-size:12px\">0.002 + 0.000 + 0.019 + 0.010 + 0.019 + 0.002 + 0.007 + 0.002</span></div><div style=\"font-family:monaco; font-size:12px\">dL/dw1 = <span style=\"color:blue\">+0.029</span> + <span style=\"color:blue\">+0.000</span> + <span style=\"color:red\">-0.091</span> + <span style=\"color:red\">-0.130</span> + <span style=\"color:red\">-0.091</span> + <span style=\"color:blue\">+0.029</span> + <span style=\"color:blue\">+0.117</span> + <span style=\"color:blue\">+0.029</span> = <span style=\"color:red; text-decoration:underline\">-0.108</span></div><div style=\"font-family:monaco; font-size:12px\">dL/dw2 = <span style=\"color:blue\">+0.029</span> + <span style=\"color:blue\">+0.000</span> + <span style=\"color:blue\">-0.000</span> + <span style=\"color:red\">-0.065</span> + <span style=\"color:blue\">-0.000</span> + <span style=\"color:blue\">+0.029</span> + <span style=\"color:blue\">+0.117</span> + <span style=\"color:blue\">+0.029</span> = <span style=\"color:blue; text-decoration:underline\">+0.140</span></div>"
      ],
      "text/plain": [
       "<IPython.core.display.Markdown object>"
      ]
     },
     "metadata": {},
     "output_type": "display_data"
    },
    {
     "name": "stdout",
     "output_type": "stream",
     "text": [
      "w1=+0.585, w2=-0.471, w3=+1.000\n",
      "\n"
     ]
    },
    {
     "data": {
      "text/markdown": [
       "<div>**Iteration 33**</div>"
      ],
      "text/plain": [
       "<IPython.core.display.Markdown object>"
      ]
     },
     "metadata": {},
     "output_type": "display_data"
    },
    {
     "name": "stdout",
     "output_type": "stream",
     "text": [
      "Output: [+0.528, +0.500, +0.642, +0.668, +0.642, +0.528, +0.557, +0.528]\n",
      "Target: [+0.500, +0.500, +0.731, +0.731, +0.731, +0.500, +0.500, +0.500]\n",
      "Memory: [+0.114, +0.000, +0.585, +0.699, +0.585, +0.114, +0.228, +0.114]\n"
     ]
    },
    {
     "data": {
      "text/markdown": [
       "<div>Loss: **0.05667** = <span style=\"font-family:monaco; font-size:12px\">0.002 + 0.000 + 0.018 + 0.009 + 0.018 + 0.002 + 0.006 + 0.002</span></div><div style=\"font-family:monaco; font-size:12px\">dL/dw1 = <span style=\"color:blue\">+0.028</span> + <span style=\"color:blue\">+0.000</span> + <span style=\"color:red\">-0.089</span> + <span style=\"color:red\">-0.126</span> + <span style=\"color:red\">-0.089</span> + <span style=\"color:blue\">+0.028</span> + <span style=\"color:blue\">+0.114</span> + <span style=\"color:blue\">+0.028</span> = <span style=\"color:red; text-decoration:underline\">-0.105</span></div><div style=\"font-family:monaco; font-size:12px\">dL/dw2 = <span style=\"color:blue\">+0.028</span> + <span style=\"color:blue\">+0.000</span> + <span style=\"color:blue\">-0.000</span> + <span style=\"color:red\">-0.063</span> + <span style=\"color:blue\">-0.000</span> + <span style=\"color:blue\">+0.028</span> + <span style=\"color:blue\">+0.114</span> + <span style=\"color:blue\">+0.028</span> = <span style=\"color:blue; text-decoration:underline\">+0.136</span></div>"
      ],
      "text/plain": [
       "<IPython.core.display.Markdown object>"
      ]
     },
     "metadata": {},
     "output_type": "display_data"
    },
    {
     "name": "stdout",
     "output_type": "stream",
     "text": [
      "w1=+0.595, w2=-0.484, w3=+1.000\n",
      "\n"
     ]
    },
    {
     "data": {
      "text/markdown": [
       "<div>**Iteration 34**</div>"
      ],
      "text/plain": [
       "<IPython.core.display.Markdown object>"
      ]
     },
     "metadata": {},
     "output_type": "display_data"
    },
    {
     "name": "stdout",
     "output_type": "stream",
     "text": [
      "Output: [+0.528, +0.500, +0.645, +0.670, +0.645, +0.528, +0.555, +0.528]\n",
      "Target: [+0.500, +0.500, +0.731, +0.731, +0.731, +0.500, +0.500, +0.500]\n",
      "Memory: [+0.111, +0.000, +0.595, +0.706, +0.595, +0.111, +0.222, +0.111]\n"
     ]
    },
    {
     "data": {
      "text/markdown": [
       "<div>Loss: **0.05376** = <span style=\"font-family:monaco; font-size:12px\">0.002 + 0.000 + 0.017 + 0.009 + 0.017 + 0.002 + 0.006 + 0.002</span></div><div style=\"font-family:monaco; font-size:12px\">dL/dw1 = <span style=\"color:blue\">+0.028</span> + <span style=\"color:blue\">+0.000</span> + <span style=\"color:red\">-0.087</span> + <span style=\"color:red\">-0.123</span> + <span style=\"color:red\">-0.087</span> + <span style=\"color:blue\">+0.028</span> + <span style=\"color:blue\">+0.111</span> + <span style=\"color:blue\">+0.028</span> = <span style=\"color:red; text-decoration:underline\">-0.102</span></div><div style=\"font-family:monaco; font-size:12px\">dL/dw2 = <span style=\"color:blue\">+0.028</span> + <span style=\"color:blue\">+0.000</span> + <span style=\"color:blue\">-0.000</span> + <span style=\"color:red\">-0.062</span> + <span style=\"color:blue\">-0.000</span> + <span style=\"color:blue\">+0.028</span> + <span style=\"color:blue\">+0.111</span> + <span style=\"color:blue\">+0.028</span> = <span style=\"color:blue; text-decoration:underline\">+0.132</span></div>"
      ],
      "text/plain": [
       "<IPython.core.display.Markdown object>"
      ]
     },
     "metadata": {},
     "output_type": "display_data"
    },
    {
     "name": "stdout",
     "output_type": "stream",
     "text": [
      "w1=+0.605, w2=-0.497, w3=+1.000\n",
      "\n"
     ]
    },
    {
     "data": {
      "text/markdown": [
       "<div>**Iteration 35**</div>"
      ],
      "text/plain": [
       "<IPython.core.display.Markdown object>"
      ]
     },
     "metadata": {},
     "output_type": "display_data"
    },
    {
     "name": "stdout",
     "output_type": "stream",
     "text": [
      "Output: [+0.527, +0.500, +0.647, +0.671, +0.647, +0.527, +0.554, +0.527]\n",
      "Target: [+0.500, +0.500, +0.731, +0.731, +0.731, +0.500, +0.500, +0.500]\n",
      "Memory: [+0.108, +0.000, +0.605, +0.713, +0.605, +0.108, +0.216, +0.108]\n"
     ]
    },
    {
     "data": {
      "text/markdown": [
       "<div>Loss: **0.05100** = <span style=\"font-family:monaco; font-size:12px\">0.001 + 0.000 + 0.016 + 0.008 + 0.016 + 0.001 + 0.006 + 0.001</span></div><div style=\"font-family:monaco; font-size:12px\">dL/dw1 = <span style=\"color:blue\">+0.027</span> + <span style=\"color:blue\">+0.000</span> + <span style=\"color:red\">-0.084</span> + <span style=\"color:red\">-0.120</span> + <span style=\"color:red\">-0.084</span> + <span style=\"color:blue\">+0.027</span> + <span style=\"color:blue\">+0.108</span> + <span style=\"color:blue\">+0.027</span> = <span style=\"color:red; text-decoration:underline\">-0.100</span></div><div style=\"font-family:monaco; font-size:12px\">dL/dw2 = <span style=\"color:blue\">+0.027</span> + <span style=\"color:blue\">+0.000</span> + <span style=\"color:blue\">-0.000</span> + <span style=\"color:red\">-0.060</span> + <span style=\"color:blue\">-0.000</span> + <span style=\"color:blue\">+0.027</span> + <span style=\"color:blue\">+0.108</span> + <span style=\"color:blue\">+0.027</span> = <span style=\"color:blue; text-decoration:underline\">+0.129</span></div>"
      ],
      "text/plain": [
       "<IPython.core.display.Markdown object>"
      ]
     },
     "metadata": {},
     "output_type": "display_data"
    },
    {
     "name": "stdout",
     "output_type": "stream",
     "text": [
      "w1=+0.615, w2=-0.510, w3=+1.000\n",
      "\n"
     ]
    },
    {
     "data": {
      "text/markdown": [
       "<div>**Iteration 36**</div>"
      ],
      "text/plain": [
       "<IPython.core.display.Markdown object>"
      ]
     },
     "metadata": {},
     "output_type": "display_data"
    },
    {
     "name": "stdout",
     "output_type": "stream",
     "text": [
      "Output: [+0.526, +0.500, +0.649, +0.673, +0.649, +0.526, +0.552, +0.526]\n",
      "Target: [+0.500, +0.500, +0.731, +0.731, +0.731, +0.500, +0.500, +0.500]\n",
      "Memory: [+0.105, +0.000, +0.615, +0.720, +0.615, +0.105, +0.210, +0.105]\n"
     ]
    },
    {
     "data": {
      "text/markdown": [
       "<div>Loss: **0.04839** = <span style=\"font-family:monaco; font-size:12px\">0.001 + 0.000 + 0.015 + 0.008 + 0.015 + 0.001 + 0.006 + 0.001</span></div><div style=\"font-family:monaco; font-size:12px\">dL/dw1 = <span style=\"color:blue\">+0.026</span> + <span style=\"color:blue\">+0.000</span> + <span style=\"color:red\">-0.082</span> + <span style=\"color:red\">-0.117</span> + <span style=\"color:red\">-0.082</span> + <span style=\"color:blue\">+0.026</span> + <span style=\"color:blue\">+0.105</span> + <span style=\"color:blue\">+0.026</span> = <span style=\"color:red; text-decoration:underline\">-0.097</span></div><div style=\"font-family:monaco; font-size:12px\">dL/dw2 = <span style=\"color:blue\">+0.026</span> + <span style=\"color:blue\">+0.000</span> + <span style=\"color:blue\">-0.000</span> + <span style=\"color:red\">-0.058</span> + <span style=\"color:blue\">-0.000</span> + <span style=\"color:blue\">+0.026</span> + <span style=\"color:blue\">+0.105</span> + <span style=\"color:blue\">+0.026</span> = <span style=\"color:blue; text-decoration:underline\">+0.125</span></div>"
      ],
      "text/plain": [
       "<IPython.core.display.Markdown object>"
      ]
     },
     "metadata": {},
     "output_type": "display_data"
    },
    {
     "name": "stdout",
     "output_type": "stream",
     "text": [
      "w1=+0.625, w2=-0.523, w3=+1.000\n",
      "\n"
     ]
    },
    {
     "data": {
      "text/markdown": [
       "<div>**Iteration 37**</div>"
      ],
      "text/plain": [
       "<IPython.core.display.Markdown object>"
      ]
     },
     "metadata": {},
     "output_type": "display_data"
    },
    {
     "name": "stdout",
     "output_type": "stream",
     "text": [
      "Output: [+0.526, +0.500, +0.651, +0.674, +0.651, +0.526, +0.551, +0.526]\n",
      "Target: [+0.500, +0.500, +0.731, +0.731, +0.731, +0.500, +0.500, +0.500]\n",
      "Memory: [+0.102, +0.000, +0.625, +0.727, +0.625, +0.102, +0.205, +0.102]\n"
     ]
    },
    {
     "data": {
      "text/markdown": [
       "<div>Loss: **0.04591** = <span style=\"font-family:monaco; font-size:12px\">0.001 + 0.000 + 0.015 + 0.008 + 0.015 + 0.001 + 0.005 + 0.001</span></div><div style=\"font-family:monaco; font-size:12px\">dL/dw1 = <span style=\"color:blue\">+0.026</span> + <span style=\"color:blue\">+0.000</span> + <span style=\"color:red\">-0.080</span> + <span style=\"color:red\">-0.114</span> + <span style=\"color:red\">-0.080</span> + <span style=\"color:blue\">+0.026</span> + <span style=\"color:blue\">+0.102</span> + <span style=\"color:blue\">+0.026</span> = <span style=\"color:red; text-decoration:underline\">-0.094</span></div><div style=\"font-family:monaco; font-size:12px\">dL/dw2 = <span style=\"color:blue\">+0.026</span> + <span style=\"color:blue\">+0.000</span> + <span style=\"color:blue\">-0.000</span> + <span style=\"color:red\">-0.057</span> + <span style=\"color:blue\">-0.000</span> + <span style=\"color:blue\">+0.026</span> + <span style=\"color:blue\">+0.102</span> + <span style=\"color:blue\">+0.026</span> = <span style=\"color:blue; text-decoration:underline\">+0.122</span></div>"
      ],
      "text/plain": [
       "<IPython.core.display.Markdown object>"
      ]
     },
     "metadata": {},
     "output_type": "display_data"
    },
    {
     "name": "stdout",
     "output_type": "stream",
     "text": [
      "w1=+0.635, w2=-0.535, w3=+1.000\n",
      "\n"
     ]
    },
    {
     "data": {
      "text/markdown": [
       "<div>**Iteration 38**</div>"
      ],
      "text/plain": [
       "<IPython.core.display.Markdown object>"
      ]
     },
     "metadata": {},
     "output_type": "display_data"
    },
    {
     "name": "stdout",
     "output_type": "stream",
     "text": [
      "Output: [+0.525, +0.500, +0.654, +0.676, +0.654, +0.525, +0.550, +0.525]\n",
      "Target: [+0.500, +0.500, +0.731, +0.731, +0.731, +0.500, +0.500, +0.500]\n",
      "Memory: [+0.100, +0.000, +0.635, +0.734, +0.635, +0.100, +0.199, +0.100]\n"
     ]
    },
    {
     "data": {
      "text/markdown": [
       "<div>Loss: **0.04357** = <span style=\"font-family:monaco; font-size:12px\">0.001 + 0.000 + 0.014 + 0.007 + 0.014 + 0.001 + 0.005 + 0.001</span></div><div style=\"font-family:monaco; font-size:12px\">dL/dw1 = <span style=\"color:blue\">+0.025</span> + <span style=\"color:blue\">+0.000</span> + <span style=\"color:red\">-0.078</span> + <span style=\"color:red\">-0.111</span> + <span style=\"color:red\">-0.078</span> + <span style=\"color:blue\">+0.025</span> + <span style=\"color:blue\">+0.099</span> + <span style=\"color:blue\">+0.025</span> = <span style=\"color:red; text-decoration:underline\">-0.092</span></div><div style=\"font-family:monaco; font-size:12px\">dL/dw2 = <span style=\"color:blue\">+0.025</span> + <span style=\"color:blue\">+0.000</span> + <span style=\"color:blue\">-0.000</span> + <span style=\"color:red\">-0.055</span> + <span style=\"color:blue\">-0.000</span> + <span style=\"color:blue\">+0.025</span> + <span style=\"color:blue\">+0.099</span> + <span style=\"color:blue\">+0.025</span> = <span style=\"color:blue; text-decoration:underline\">+0.118</span></div>"
      ],
      "text/plain": [
       "<IPython.core.display.Markdown object>"
      ]
     },
     "metadata": {},
     "output_type": "display_data"
    },
    {
     "name": "stdout",
     "output_type": "stream",
     "text": [
      "w1=+0.644, w2=-0.547, w3=+1.000\n",
      "\n"
     ]
    },
    {
     "data": {
      "text/markdown": [
       "<div>**Iteration 39**</div>"
      ],
      "text/plain": [
       "<IPython.core.display.Markdown object>"
      ]
     },
     "metadata": {},
     "output_type": "display_data"
    },
    {
     "name": "stdout",
     "output_type": "stream",
     "text": [
      "Output: [+0.524, +0.500, +0.656, +0.677, +0.656, +0.524, +0.548, +0.524]\n",
      "Target: [+0.500, +0.500, +0.731, +0.731, +0.731, +0.500, +0.500, +0.500]\n",
      "Memory: [+0.097, +0.000, +0.644, +0.741, +0.644, +0.097, +0.194, +0.097]\n"
     ]
    },
    {
     "data": {
      "text/markdown": [
       "<div>Loss: **0.04135** = <span style=\"font-family:monaco; font-size:12px\">0.001 + 0.000 + 0.013 + 0.007 + 0.013 + 0.001 + 0.005 + 0.001</span></div><div style=\"font-family:monaco; font-size:12px\">dL/dw1 = <span style=\"color:blue\">+0.024</span> + <span style=\"color:blue\">+0.000</span> + <span style=\"color:red\">-0.075</span> + <span style=\"color:red\">-0.108</span> + <span style=\"color:red\">-0.075</span> + <span style=\"color:blue\">+0.024</span> + <span style=\"color:blue\">+0.097</span> + <span style=\"color:blue\">+0.024</span> = <span style=\"color:red; text-decoration:underline\">-0.090</span></div><div style=\"font-family:monaco; font-size:12px\">dL/dw2 = <span style=\"color:blue\">+0.024</span> + <span style=\"color:blue\">+0.000</span> + <span style=\"color:blue\">-0.000</span> + <span style=\"color:red\">-0.054</span> + <span style=\"color:blue\">-0.000</span> + <span style=\"color:blue\">+0.024</span> + <span style=\"color:blue\">+0.097</span> + <span style=\"color:blue\">+0.024</span> = <span style=\"color:blue; text-decoration:underline\">+0.115</span></div>"
      ],
      "text/plain": [
       "<IPython.core.display.Markdown object>"
      ]
     },
     "metadata": {},
     "output_type": "display_data"
    },
    {
     "name": "stdout",
     "output_type": "stream",
     "text": [
      "w1=+0.653, w2=-0.558, w3=+1.000\n",
      "\n"
     ]
    },
    {
     "data": {
      "text/markdown": [
       "<div>**Iteration 40**</div>"
      ],
      "text/plain": [
       "<IPython.core.display.Markdown object>"
      ]
     },
     "metadata": {},
     "output_type": "display_data"
    },
    {
     "name": "stdout",
     "output_type": "stream",
     "text": [
      "Output: [+0.524, +0.500, +0.658, +0.679, +0.658, +0.524, +0.547, +0.524]\n",
      "Target: [+0.500, +0.500, +0.731, +0.731, +0.731, +0.500, +0.500, +0.500]\n",
      "Memory: [+0.094, +0.000, +0.653, +0.747, +0.653, +0.094, +0.189, +0.094]\n"
     ]
    },
    {
     "data": {
      "text/markdown": [
       "<div>Loss: **0.03925** = <span style=\"font-family:monaco; font-size:12px\">0.001 + 0.000 + 0.012 + 0.007 + 0.012 + 0.001 + 0.004 + 0.001</span></div><div style=\"font-family:monaco; font-size:12px\">dL/dw1 = <span style=\"color:blue\">+0.024</span> + <span style=\"color:blue\">+0.000</span> + <span style=\"color:red\">-0.073</span> + <span style=\"color:red\">-0.105</span> + <span style=\"color:red\">-0.073</span> + <span style=\"color:blue\">+0.024</span> + <span style=\"color:blue\">+0.094</span> + <span style=\"color:blue\">+0.024</span> = <span style=\"color:red; text-decoration:underline\">-0.087</span></div><div style=\"font-family:monaco; font-size:12px\">dL/dw2 = <span style=\"color:blue\">+0.024</span> + <span style=\"color:blue\">+0.000</span> + <span style=\"color:blue\">-0.000</span> + <span style=\"color:red\">-0.053</span> + <span style=\"color:blue\">-0.000</span> + <span style=\"color:blue\">+0.024</span> + <span style=\"color:blue\">+0.094</span> + <span style=\"color:blue\">+0.024</span> = <span style=\"color:blue; text-decoration:underline\">+0.112</span></div>"
      ],
      "text/plain": [
       "<IPython.core.display.Markdown object>"
      ]
     },
     "metadata": {},
     "output_type": "display_data"
    },
    {
     "name": "stdout",
     "output_type": "stream",
     "text": [
      "w1=+0.661, w2=-0.570, w3=+1.000\n",
      "\n"
     ]
    },
    {
     "data": {
      "text/markdown": [
       "<div>**Iteration 41**</div>"
      ],
      "text/plain": [
       "<IPython.core.display.Markdown object>"
      ]
     },
     "metadata": {},
     "output_type": "display_data"
    },
    {
     "name": "stdout",
     "output_type": "stream",
     "text": [
      "Output: [+0.523, +0.500, +0.660, +0.680, +0.660, +0.523, +0.546, +0.523]\n",
      "Target: [+0.500, +0.500, +0.731, +0.731, +0.731, +0.500, +0.500, +0.500]\n",
      "Memory: [+0.092, +0.000, +0.661, +0.753, +0.661, +0.092, +0.184, +0.092]\n"
     ]
    },
    {
     "data": {
      "text/markdown": [
       "<div>Loss: **0.03725** = <span style=\"font-family:monaco; font-size:12px\">0.001 + 0.000 + 0.012 + 0.006 + 0.012 + 0.001 + 0.004 + 0.001</span></div><div style=\"font-family:monaco; font-size:12px\">dL/dw1 = <span style=\"color:blue\">+0.023</span> + <span style=\"color:blue\">+0.000</span> + <span style=\"color:red\">-0.071</span> + <span style=\"color:red\">-0.102</span> + <span style=\"color:red\">-0.071</span> + <span style=\"color:blue\">+0.023</span> + <span style=\"color:blue\">+0.092</span> + <span style=\"color:blue\">+0.023</span> = <span style=\"color:red; text-decoration:underline\">-0.085</span></div><div style=\"font-family:monaco; font-size:12px\">dL/dw2 = <span style=\"color:blue\">+0.023</span> + <span style=\"color:blue\">+0.000</span> + <span style=\"color:blue\">-0.000</span> + <span style=\"color:red\">-0.051</span> + <span style=\"color:blue\">-0.000</span> + <span style=\"color:blue\">+0.023</span> + <span style=\"color:blue\">+0.092</span> + <span style=\"color:blue\">+0.023</span> = <span style=\"color:blue; text-decoration:underline\">+0.109</span></div>"
      ],
      "text/plain": [
       "<IPython.core.display.Markdown object>"
      ]
     },
     "metadata": {},
     "output_type": "display_data"
    },
    {
     "name": "stdout",
     "output_type": "stream",
     "text": [
      "w1=+0.670, w2=-0.580, w3=+1.000\n",
      "\n"
     ]
    },
    {
     "data": {
      "text/markdown": [
       "<div>**Iteration 42**</div>"
      ],
      "text/plain": [
       "<IPython.core.display.Markdown object>"
      ]
     },
     "metadata": {},
     "output_type": "display_data"
    },
    {
     "name": "stdout",
     "output_type": "stream",
     "text": [
      "Output: [+0.522, +0.500, +0.661, +0.681, +0.661, +0.522, +0.545, +0.522]\n",
      "Target: [+0.500, +0.500, +0.731, +0.731, +0.731, +0.500, +0.500, +0.500]\n",
      "Memory: [+0.089, +0.000, +0.670, +0.759, +0.670, +0.089, +0.179, +0.089]\n"
     ]
    },
    {
     "data": {
      "text/markdown": [
       "<div>Loss: **0.03536** = <span style=\"font-family:monaco; font-size:12px\">0.001 + 0.000 + 0.011 + 0.006 + 0.011 + 0.001 + 0.004 + 0.001</span></div><div style=\"font-family:monaco; font-size:12px\">dL/dw1 = <span style=\"color:blue\">+0.022</span> + <span style=\"color:blue\">+0.000</span> + <span style=\"color:red\">-0.070</span> + <span style=\"color:red\">-0.100</span> + <span style=\"color:red\">-0.070</span> + <span style=\"color:blue\">+0.022</span> + <span style=\"color:blue\">+0.089</span> + <span style=\"color:blue\">+0.022</span> = <span style=\"color:red; text-decoration:underline\">-0.083</span></div><div style=\"font-family:monaco; font-size:12px\">dL/dw2 = <span style=\"color:blue\">+0.022</span> + <span style=\"color:blue\">+0.000</span> + <span style=\"color:blue\">-0.000</span> + <span style=\"color:red\">-0.050</span> + <span style=\"color:blue\">-0.000</span> + <span style=\"color:blue\">+0.022</span> + <span style=\"color:blue\">+0.089</span> + <span style=\"color:blue\">+0.022</span> = <span style=\"color:blue; text-decoration:underline\">+0.106</span></div>"
      ],
      "text/plain": [
       "<IPython.core.display.Markdown object>"
      ]
     },
     "metadata": {},
     "output_type": "display_data"
    },
    {
     "name": "stdout",
     "output_type": "stream",
     "text": [
      "w1=+0.678, w2=-0.591, w3=+1.000\n",
      "\n"
     ]
    },
    {
     "data": {
      "text/markdown": [
       "<div>**Iteration 43**</div>"
      ],
      "text/plain": [
       "<IPython.core.display.Markdown object>"
      ]
     },
     "metadata": {},
     "output_type": "display_data"
    },
    {
     "name": "stdout",
     "output_type": "stream",
     "text": [
      "Output: [+0.522, +0.500, +0.663, +0.682, +0.663, +0.522, +0.543, +0.522]\n",
      "Target: [+0.500, +0.500, +0.731, +0.731, +0.731, +0.500, +0.500, +0.500]\n",
      "Memory: [+0.087, +0.000, +0.678, +0.765, +0.678, +0.087, +0.174, +0.087]\n"
     ]
    },
    {
     "data": {
      "text/markdown": [
       "<div>Loss: **0.03357** = <span style=\"font-family:monaco; font-size:12px\">0.001 + 0.000 + 0.011 + 0.006 + 0.011 + 0.001 + 0.004 + 0.001</span></div><div style=\"font-family:monaco; font-size:12px\">dL/dw1 = <span style=\"color:blue\">+0.022</span> + <span style=\"color:blue\">+0.000</span> + <span style=\"color:red\">-0.068</span> + <span style=\"color:red\">-0.097</span> + <span style=\"color:red\">-0.068</span> + <span style=\"color:blue\">+0.022</span> + <span style=\"color:blue\">+0.087</span> + <span style=\"color:blue\">+0.022</span> = <span style=\"color:red; text-decoration:underline\">-0.081</span></div><div style=\"font-family:monaco; font-size:12px\">dL/dw2 = <span style=\"color:blue\">+0.022</span> + <span style=\"color:blue\">+0.000</span> + <span style=\"color:blue\">-0.000</span> + <span style=\"color:red\">-0.049</span> + <span style=\"color:blue\">-0.000</span> + <span style=\"color:blue\">+0.022</span> + <span style=\"color:blue\">+0.087</span> + <span style=\"color:blue\">+0.022</span> = <span style=\"color:blue; text-decoration:underline\">+0.103</span></div>"
      ],
      "text/plain": [
       "<IPython.core.display.Markdown object>"
      ]
     },
     "metadata": {},
     "output_type": "display_data"
    },
    {
     "name": "stdout",
     "output_type": "stream",
     "text": [
      "w1=+0.686, w2=-0.601, w3=+1.000\n",
      "\n"
     ]
    },
    {
     "data": {
      "text/markdown": [
       "<div>**Iteration 44**</div>"
      ],
      "text/plain": [
       "<IPython.core.display.Markdown object>"
      ]
     },
     "metadata": {},
     "output_type": "display_data"
    },
    {
     "name": "stdout",
     "output_type": "stream",
     "text": [
      "Output: [+0.521, +0.500, +0.665, +0.684, +0.665, +0.521, +0.542, +0.521]\n",
      "Target: [+0.500, +0.500, +0.731, +0.731, +0.731, +0.500, +0.500, +0.500]\n",
      "Memory: [+0.085, +0.000, +0.686, +0.771, +0.686, +0.085, +0.170, +0.085]\n"
     ]
    },
    {
     "data": {
      "text/markdown": [
       "<div>Loss: **0.03188** = <span style=\"font-family:monaco; font-size:12px\">0.001 + 0.000 + 0.010 + 0.005 + 0.010 + 0.001 + 0.004 + 0.001</span></div><div style=\"font-family:monaco; font-size:12px\">dL/dw1 = <span style=\"color:blue\">+0.021</span> + <span style=\"color:blue\">+0.000</span> + <span style=\"color:red\">-0.066</span> + <span style=\"color:red\">-0.095</span> + <span style=\"color:red\">-0.066</span> + <span style=\"color:blue\">+0.021</span> + <span style=\"color:blue\">+0.085</span> + <span style=\"color:blue\">+0.021</span> = <span style=\"color:red; text-decoration:underline\">-0.078</span></div><div style=\"font-family:monaco; font-size:12px\">dL/dw2 = <span style=\"color:blue\">+0.021</span> + <span style=\"color:blue\">+0.000</span> + <span style=\"color:blue\">-0.000</span> + <span style=\"color:red\">-0.047</span> + <span style=\"color:blue\">-0.000</span> + <span style=\"color:blue\">+0.021</span> + <span style=\"color:blue\">+0.085</span> + <span style=\"color:blue\">+0.021</span> = <span style=\"color:blue; text-decoration:underline\">+0.101</span></div>"
      ],
      "text/plain": [
       "<IPython.core.display.Markdown object>"
      ]
     },
     "metadata": {},
     "output_type": "display_data"
    },
    {
     "name": "stdout",
     "output_type": "stream",
     "text": [
      "w1=+0.694, w2=-0.612, w3=+1.000\n",
      "\n"
     ]
    },
    {
     "data": {
      "text/markdown": [
       "<div>**Iteration 45**</div>"
      ],
      "text/plain": [
       "<IPython.core.display.Markdown object>"
      ]
     },
     "metadata": {},
     "output_type": "display_data"
    },
    {
     "name": "stdout",
     "output_type": "stream",
     "text": [
      "Output: [+0.521, +0.500, +0.667, +0.685, +0.667, +0.521, +0.541, +0.521]\n",
      "Target: [+0.500, +0.500, +0.731, +0.731, +0.731, +0.500, +0.500, +0.500]\n",
      "Memory: [+0.083, +0.000, +0.694, +0.777, +0.694, +0.083, +0.165, +0.083]\n"
     ]
    },
    {
     "data": {
      "text/markdown": [
       "<div>Loss: **0.03027** = <span style=\"font-family:monaco; font-size:12px\">0.001 + 0.000 + 0.010 + 0.005 + 0.010 + 0.001 + 0.003 + 0.001</span></div><div style=\"font-family:monaco; font-size:12px\">dL/dw1 = <span style=\"color:blue\">+0.021</span> + <span style=\"color:blue\">+0.000</span> + <span style=\"color:red\">-0.064</span> + <span style=\"color:red\">-0.092</span> + <span style=\"color:red\">-0.064</span> + <span style=\"color:blue\">+0.021</span> + <span style=\"color:blue\">+0.082</span> + <span style=\"color:blue\">+0.021</span> = <span style=\"color:red; text-decoration:underline\">-0.076</span></div><div style=\"font-family:monaco; font-size:12px\">dL/dw2 = <span style=\"color:blue\">+0.021</span> + <span style=\"color:blue\">+0.000</span> + <span style=\"color:blue\">-0.000</span> + <span style=\"color:red\">-0.046</span> + <span style=\"color:blue\">-0.000</span> + <span style=\"color:blue\">+0.021</span> + <span style=\"color:blue\">+0.082</span> + <span style=\"color:blue\">+0.021</span> = <span style=\"color:blue; text-decoration:underline\">+0.098</span></div>"
      ],
      "text/plain": [
       "<IPython.core.display.Markdown object>"
      ]
     },
     "metadata": {},
     "output_type": "display_data"
    },
    {
     "name": "stdout",
     "output_type": "stream",
     "text": [
      "w1=+0.702, w2=-0.621, w3=+1.000\n",
      "\n"
     ]
    },
    {
     "data": {
      "text/markdown": [
       "<div>**Iteration 46**</div>"
      ],
      "text/plain": [
       "<IPython.core.display.Markdown object>"
      ]
     },
     "metadata": {},
     "output_type": "display_data"
    },
    {
     "name": "stdout",
     "output_type": "stream",
     "text": [
      "Output: [+0.520, +0.500, +0.669, +0.686, +0.669, +0.520, +0.540, +0.520]\n",
      "Target: [+0.500, +0.500, +0.731, +0.731, +0.731, +0.500, +0.500, +0.500]\n",
      "Memory: [+0.080, +0.000, +0.702, +0.782, +0.702, +0.080, +0.161, +0.080]\n"
     ]
    },
    {
     "data": {
      "text/markdown": [
       "<div>Loss: **0.02874** = <span style=\"font-family:monaco; font-size:12px\">0.001 + 0.000 + 0.009 + 0.005 + 0.009 + 0.001 + 0.003 + 0.001</span></div><div style=\"font-family:monaco; font-size:12px\">dL/dw1 = <span style=\"color:blue\">+0.020</span> + <span style=\"color:blue\">+0.000</span> + <span style=\"color:red\">-0.062</span> + <span style=\"color:red\">-0.090</span> + <span style=\"color:red\">-0.062</span> + <span style=\"color:blue\">+0.020</span> + <span style=\"color:blue\">+0.080</span> + <span style=\"color:blue\">+0.020</span> = <span style=\"color:red; text-decoration:underline\">-0.074</span></div><div style=\"font-family:monaco; font-size:12px\">dL/dw2 = <span style=\"color:blue\">+0.020</span> + <span style=\"color:blue\">+0.000</span> + <span style=\"color:blue\">-0.000</span> + <span style=\"color:red\">-0.045</span> + <span style=\"color:blue\">-0.000</span> + <span style=\"color:blue\">+0.020</span> + <span style=\"color:blue\">+0.080</span> + <span style=\"color:blue\">+0.020</span> = <span style=\"color:blue; text-decoration:underline\">+0.095</span></div>"
      ],
      "text/plain": [
       "<IPython.core.display.Markdown object>"
      ]
     },
     "metadata": {},
     "output_type": "display_data"
    },
    {
     "name": "stdout",
     "output_type": "stream",
     "text": [
      "w1=+0.709, w2=-0.631, w3=+1.000\n",
      "\n"
     ]
    },
    {
     "data": {
      "text/markdown": [
       "<div>**Iteration 47**</div>"
      ],
      "text/plain": [
       "<IPython.core.display.Markdown object>"
      ]
     },
     "metadata": {},
     "output_type": "display_data"
    },
    {
     "name": "stdout",
     "output_type": "stream",
     "text": [
      "Output: [+0.520, +0.500, +0.670, +0.687, +0.670, +0.520, +0.539, +0.520]\n",
      "Target: [+0.500, +0.500, +0.731, +0.731, +0.731, +0.500, +0.500, +0.500]\n",
      "Memory: [+0.078, +0.000, +0.709, +0.787, +0.709, +0.078, +0.157, +0.078]\n"
     ]
    },
    {
     "data": {
      "text/markdown": [
       "<div>Loss: **0.02730** = <span style=\"font-family:monaco; font-size:12px\">0.001 + 0.000 + 0.009 + 0.005 + 0.009 + 0.001 + 0.003 + 0.001</span></div><div style=\"font-family:monaco; font-size:12px\">dL/dw1 = <span style=\"color:blue\">+0.020</span> + <span style=\"color:blue\">+0.000</span> + <span style=\"color:red\">-0.061</span> + <span style=\"color:red\">-0.088</span> + <span style=\"color:red\">-0.061</span> + <span style=\"color:blue\">+0.020</span> + <span style=\"color:blue\">+0.078</span> + <span style=\"color:blue\">+0.020</span> = <span style=\"color:red; text-decoration:underline\">-0.073</span></div><div style=\"font-family:monaco; font-size:12px\">dL/dw2 = <span style=\"color:blue\">+0.020</span> + <span style=\"color:blue\">+0.000</span> + <span style=\"color:blue\">-0.000</span> + <span style=\"color:red\">-0.044</span> + <span style=\"color:blue\">-0.000</span> + <span style=\"color:blue\">+0.020</span> + <span style=\"color:blue\">+0.078</span> + <span style=\"color:blue\">+0.020</span> = <span style=\"color:blue; text-decoration:underline\">+0.093</span></div>"
      ],
      "text/plain": [
       "<IPython.core.display.Markdown object>"
      ]
     },
     "metadata": {},
     "output_type": "display_data"
    },
    {
     "name": "stdout",
     "output_type": "stream",
     "text": [
      "w1=+0.716, w2=-0.640, w3=+1.000\n",
      "\n"
     ]
    },
    {
     "data": {
      "text/markdown": [
       "<div>**Iteration 48**</div>"
      ],
      "text/plain": [
       "<IPython.core.display.Markdown object>"
      ]
     },
     "metadata": {},
     "output_type": "display_data"
    },
    {
     "name": "stdout",
     "output_type": "stream",
     "text": [
      "Output: [+0.519, +0.500, +0.672, +0.688, +0.672, +0.519, +0.538, +0.519]\n",
      "Target: [+0.500, +0.500, +0.731, +0.731, +0.731, +0.500, +0.500, +0.500]\n",
      "Memory: [+0.076, +0.000, +0.716, +0.793, +0.716, +0.076, +0.152, +0.076]\n"
     ]
    },
    {
     "data": {
      "text/markdown": [
       "<div>Loss: **0.02592** = <span style=\"font-family:monaco; font-size:12px\">0.001 + 0.000 + 0.008 + 0.004 + 0.008 + 0.001 + 0.003 + 0.001</span></div><div style=\"font-family:monaco; font-size:12px\">dL/dw1 = <span style=\"color:blue\">+0.019</span> + <span style=\"color:blue\">+0.000</span> + <span style=\"color:red\">-0.059</span> + <span style=\"color:red\">-0.085</span> + <span style=\"color:red\">-0.059</span> + <span style=\"color:blue\">+0.019</span> + <span style=\"color:blue\">+0.076</span> + <span style=\"color:blue\">+0.019</span> = <span style=\"color:red; text-decoration:underline\">-0.071</span></div><div style=\"font-family:monaco; font-size:12px\">dL/dw2 = <span style=\"color:blue\">+0.019</span> + <span style=\"color:blue\">+0.000</span> + <span style=\"color:blue\">-0.000</span> + <span style=\"color:red\">-0.043</span> + <span style=\"color:blue\">-0.000</span> + <span style=\"color:blue\">+0.019</span> + <span style=\"color:blue\">+0.076</span> + <span style=\"color:blue\">+0.019</span> = <span style=\"color:blue; text-decoration:underline\">+0.091</span></div>"
      ],
      "text/plain": [
       "<IPython.core.display.Markdown object>"
      ]
     },
     "metadata": {},
     "output_type": "display_data"
    },
    {
     "name": "stdout",
     "output_type": "stream",
     "text": [
      "w1=+0.723, w2=-0.649, w3=+1.000\n",
      "\n"
     ]
    },
    {
     "data": {
      "text/markdown": [
       "<div>**Iteration 49**</div>"
      ],
      "text/plain": [
       "<IPython.core.display.Markdown object>"
      ]
     },
     "metadata": {},
     "output_type": "display_data"
    },
    {
     "name": "stdout",
     "output_type": "stream",
     "text": [
      "Output: [+0.519, +0.500, +0.673, +0.689, +0.673, +0.519, +0.537, +0.519]\n",
      "Target: [+0.500, +0.500, +0.731, +0.731, +0.731, +0.500, +0.500, +0.500]\n",
      "Memory: [+0.074, +0.000, +0.723, +0.798, +0.723, +0.074, +0.148, +0.074]\n"
     ]
    },
    {
     "data": {
      "text/markdown": [
       "<div>Loss: **0.02462** = <span style=\"font-family:monaco; font-size:12px\">0.001 + 0.000 + 0.008 + 0.004 + 0.008 + 0.001 + 0.003 + 0.001</span></div><div style=\"font-family:monaco; font-size:12px\">dL/dw1 = <span style=\"color:blue\">+0.019</span> + <span style=\"color:blue\">+0.000</span> + <span style=\"color:red\">-0.058</span> + <span style=\"color:red\">-0.083</span> + <span style=\"color:red\">-0.058</span> + <span style=\"color:blue\">+0.019</span> + <span style=\"color:blue\">+0.074</span> + <span style=\"color:blue\">+0.019</span> = <span style=\"color:red; text-decoration:underline\">-0.069</span></div><div style=\"font-family:monaco; font-size:12px\">dL/dw2 = <span style=\"color:blue\">+0.019</span> + <span style=\"color:blue\">+0.000</span> + <span style=\"color:blue\">-0.000</span> + <span style=\"color:red\">-0.042</span> + <span style=\"color:blue\">-0.000</span> + <span style=\"color:blue\">+0.019</span> + <span style=\"color:blue\">+0.074</span> + <span style=\"color:blue\">+0.019</span> = <span style=\"color:blue; text-decoration:underline\">+0.088</span></div>"
      ],
      "text/plain": [
       "<IPython.core.display.Markdown object>"
      ]
     },
     "metadata": {},
     "output_type": "display_data"
    },
    {
     "name": "stdout",
     "output_type": "stream",
     "text": [
      "w1=+0.730, w2=-0.658, w3=+1.000\n",
      "\n"
     ]
    },
    {
     "data": {
      "text/markdown": [
       "<div>**Iteration 99**</div>"
      ],
      "text/plain": [
       "<IPython.core.display.Markdown object>"
      ]
     },
     "metadata": {},
     "output_type": "display_data"
    },
    {
     "name": "stdout",
     "output_type": "stream",
     "text": [
      "Output: [+0.505, +0.500, +0.715, +0.719, +0.715, +0.505, +0.510, +0.505]\n",
      "Target: [+0.500, +0.500, +0.731, +0.731, +0.731, +0.500, +0.500, +0.500]\n",
      "Memory: [+0.021, +0.000, +0.920, +0.941, +0.920, +0.021, +0.041, +0.021]\n"
     ]
    },
    {
     "data": {
      "text/markdown": [
       "<div>Loss: **0.00200** = <span style=\"font-family:monaco; font-size:12px\">0.000 + 0.000 + 0.001 + 0.000 + 0.001 + 0.000 + 0.000 + 0.000</span></div><div style=\"font-family:monaco; font-size:12px\">dL/dw1 = <span style=\"color:blue\">+0.005</span> + <span style=\"color:blue\">+0.000</span> + <span style=\"color:red\">-0.016</span> + <span style=\"color:red\">-0.024</span> + <span style=\"color:red\">-0.016</span> + <span style=\"color:blue\">+0.005</span> + <span style=\"color:blue\">+0.021</span> + <span style=\"color:blue\">+0.005</span> = <span style=\"color:red; text-decoration:underline\">-0.019</span></div><div style=\"font-family:monaco; font-size:12px\">dL/dw2 = <span style=\"color:blue\">+0.005</span> + <span style=\"color:blue\">+0.000</span> + <span style=\"color:blue\">-0.000</span> + <span style=\"color:red\">-0.012</span> + <span style=\"color:blue\">-0.000</span> + <span style=\"color:blue\">+0.005</span> + <span style=\"color:blue\">+0.021</span> + <span style=\"color:blue\">+0.005</span> = <span style=\"color:blue; text-decoration:underline\">+0.024</span></div>"
      ],
      "text/plain": [
       "<IPython.core.display.Markdown object>"
      ]
     },
     "metadata": {},
     "output_type": "display_data"
    },
    {
     "name": "stdout",
     "output_type": "stream",
     "text": [
      "w1=+0.922, w2=-0.902, w3=+1.000\n",
      "\n"
     ]
    },
    {
     "data": {
      "text/markdown": [
       "<div>**Iteration 149**</div>"
      ],
      "text/plain": [
       "<IPython.core.display.Markdown object>"
      ]
     },
     "metadata": {},
     "output_type": "display_data"
    },
    {
     "name": "stdout",
     "output_type": "stream",
     "text": [
      "Output: [+0.502, +0.500, +0.726, +0.728, +0.726, +0.502, +0.503, +0.502]\n",
      "Target: [+0.500, +0.500, +0.731, +0.731, +0.731, +0.500, +0.500, +0.500]\n",
      "Memory: [+0.006, +0.000, +0.976, +0.982, +0.976, +0.006, +0.012, +0.006]\n"
     ]
    },
    {
     "data": {
      "text/markdown": [
       "<div>Loss: **0.00017** = <span style=\"font-family:monaco; font-size:12px\">0.000 + 0.000 + 0.000 + 0.000 + 0.000 + 0.000 + 0.000 + 0.000</span></div><div style=\"font-family:monaco; font-size:12px\">dL/dw1 = <span style=\"color:blue\">+0.002</span> + <span style=\"color:blue\">+0.000</span> + <span style=\"color:red\">-0.005</span> + <span style=\"color:red\">-0.007</span> + <span style=\"color:red\">-0.005</span> + <span style=\"color:blue\">+0.002</span> + <span style=\"color:blue\">+0.006</span> + <span style=\"color:blue\">+0.002</span> = <span style=\"color:red; text-decoration:underline\">-0.006</span></div><div style=\"font-family:monaco; font-size:12px\">dL/dw2 = <span style=\"color:blue\">+0.002</span> + <span style=\"color:blue\">+0.000</span> + <span style=\"color:blue\">-0.000</span> + <span style=\"color:red\">-0.003</span> + <span style=\"color:blue\">-0.000</span> + <span style=\"color:blue\">+0.002</span> + <span style=\"color:blue\">+0.006</span> + <span style=\"color:blue\">+0.002</span> = <span style=\"color:blue; text-decoration:underline\">+0.007</span></div>"
      ],
      "text/plain": [
       "<IPython.core.display.Markdown object>"
      ]
     },
     "metadata": {},
     "output_type": "display_data"
    },
    {
     "name": "stdout",
     "output_type": "stream",
     "text": [
      "w1=+0.977, w2=-0.971, w3=+1.000\n",
      "\n"
     ]
    },
    {
     "data": {
      "text/markdown": [
       "<div>**Iteration 199**</div>"
      ],
      "text/plain": [
       "<IPython.core.display.Markdown object>"
      ]
     },
     "metadata": {},
     "output_type": "display_data"
    },
    {
     "name": "stdout",
     "output_type": "stream",
     "text": [
      "Output: [+0.500, +0.500, +0.730, +0.730, +0.730, +0.500, +0.501, +0.500]\n",
      "Target: [+0.500, +0.500, +0.731, +0.731, +0.731, +0.500, +0.500, +0.500]\n",
      "Memory: [+0.002, +0.000, +0.993, +0.995, +0.993, +0.002, +0.004, +0.002]\n"
     ]
    },
    {
     "data": {
      "text/markdown": [
       "<div>Loss: **0.00002** = <span style=\"font-family:monaco; font-size:12px\">0.000 + 0.000 + 0.000 + 0.000 + 0.000 + 0.000 + 0.000 + 0.000</span></div><div style=\"font-family:monaco; font-size:12px\">dL/dw1 = <span style=\"color:blue\">+0.000</span> + <span style=\"color:blue\">+0.000</span> + <span style=\"color:red\">-0.001</span> + <span style=\"color:red\">-0.002</span> + <span style=\"color:red\">-0.001</span> + <span style=\"color:blue\">+0.000</span> + <span style=\"color:blue\">+0.002</span> + <span style=\"color:blue\">+0.000</span> = <span style=\"color:red; text-decoration:underline\">-0.002</span></div><div style=\"font-family:monaco; font-size:12px\">dL/dw2 = <span style=\"color:blue\">+0.000</span> + <span style=\"color:blue\">+0.000</span> + <span style=\"color:blue\">-0.000</span> + <span style=\"color:red\">-0.001</span> + <span style=\"color:blue\">-0.000</span> + <span style=\"color:blue\">+0.000</span> + <span style=\"color:blue\">+0.002</span> + <span style=\"color:blue\">+0.000</span> = <span style=\"color:blue; text-decoration:underline\">+0.002</span></div>"
      ],
      "text/plain": [
       "<IPython.core.display.Markdown object>"
      ]
     },
     "metadata": {},
     "output_type": "display_data"
    },
    {
     "name": "stdout",
     "output_type": "stream",
     "text": [
      "w1=+0.993, w2=-0.991, w3=+1.000\n",
      "\n"
     ]
    },
    {
     "data": {
      "text/markdown": [
       "<div>**Iteration 249**</div>"
      ],
      "text/plain": [
       "<IPython.core.display.Markdown object>"
      ]
     },
     "metadata": {},
     "output_type": "display_data"
    },
    {
     "name": "stdout",
     "output_type": "stream",
     "text": [
      "Output: [+0.500, +0.500, +0.731, +0.731, +0.731, +0.500, +0.500, +0.500]\n",
      "Target: [+0.500, +0.500, +0.731, +0.731, +0.731, +0.500, +0.500, +0.500]\n",
      "Memory: [+0.001, +0.000, +0.998, +0.998, +0.998, +0.001, +0.001, +0.001]\n"
     ]
    },
    {
     "data": {
      "text/markdown": [
       "<div>Loss: **0.00000** = <span style=\"font-family:monaco; font-size:12px\">0.000 + 0.000 + 0.000 + 0.000 + 0.000 + 0.000 + 0.000 + 0.000</span></div><div style=\"font-family:monaco; font-size:12px\">dL/dw1 = <span style=\"color:blue\">+0.000</span> + <span style=\"color:blue\">+0.000</span> + <span style=\"color:red\">-0.000</span> + <span style=\"color:red\">-0.001</span> + <span style=\"color:red\">-0.000</span> + <span style=\"color:blue\">+0.000</span> + <span style=\"color:blue\">+0.001</span> + <span style=\"color:blue\">+0.000</span> = <span style=\"color:red; text-decoration:underline\">-0.001</span></div><div style=\"font-family:monaco; font-size:12px\">dL/dw2 = <span style=\"color:blue\">+0.000</span> + <span style=\"color:blue\">+0.000</span> + <span style=\"color:blue\">-0.000</span> + <span style=\"color:red\">-0.000</span> + <span style=\"color:blue\">-0.000</span> + <span style=\"color:blue\">+0.000</span> + <span style=\"color:blue\">+0.001</span> + <span style=\"color:blue\">+0.000</span> = <span style=\"color:blue; text-decoration:underline\">+0.001</span></div>"
      ],
      "text/plain": [
       "<IPython.core.display.Markdown object>"
      ]
     },
     "metadata": {},
     "output_type": "display_data"
    },
    {
     "name": "stdout",
     "output_type": "stream",
     "text": [
      "w1=+0.998, w2=-0.997, w3=+1.000\n",
      "\n",
      "w1=+0.998, w2=-0.997, w3=+1.000\n"
     ]
    },
    {
     "data": {
      "text/markdown": [
       "<div>**Iteration 0**</div>"
      ],
      "text/plain": [
       "<IPython.core.display.Markdown object>"
      ]
     },
     "metadata": {},
     "output_type": "display_data"
    },
    {
     "name": "stdout",
     "output_type": "stream",
     "text": [
      "Output: [+0.500, +0.500, +0.500, +0.500, +0.500, +0.731, +0.731, +0.731, +0.731, +0.500, +0.500, +0.500, +0.500]\n",
      "Target: [+0.500, +0.500, +0.500, +0.500, +0.500, +0.731, +0.731, +0.731, +0.731, +0.500, +0.500, +0.500, +0.500]\n",
      "Memory: [+0.001, +0.001, +0.001, +0.000, +0.001, +0.998, +0.999, +0.998, +0.999, +0.002, +0.001, +0.002, +0.001]\n"
     ]
    },
    {
     "data": {
      "text/markdown": [
       "<div>Loss: **0.00000** = <span style=\"font-family:monaco; font-size:12px\">0.000 + 0.000 + 0.000 + 0.000 + 0.000 + 0.000 + 0.000 + 0.000 + 0.000 + 0.000 + 0.000 + 0.000 + 0.000</span></div><div style=\"font-family:monaco; font-size:12px\">dL/dw1 = <span style=\"color:blue\">+0.000</span> + <span style=\"color:blue\">+0.001</span> + <span style=\"color:blue\">+0.000</span> + <span style=\"color:blue\">+0.000</span> + <span style=\"color:blue\">+0.000</span> + <span style=\"color:red\">-0.001</span> + <span style=\"color:red\">-0.001</span> + <span style=\"color:red\">-0.001</span> + <span style=\"color:red\">-0.001</span> + <span style=\"color:blue\">+0.001</span> + <span style=\"color:blue\">+0.001</span> + <span style=\"color:blue\">+0.001</span> + <span style=\"color:blue\">+0.001</span> = <span style=\"color:blue; text-decoration:underline\">+0.002</span></div><div style=\"font-family:monaco; font-size:12px\">dL/dw2 = <span style=\"color:blue\">+0.000</span> + <span style=\"color:blue\">+0.001</span> + <span style=\"color:blue\">+0.000</span> + <span style=\"color:blue\">+0.000</span> + <span style=\"color:blue\">+0.000</span> + <span style=\"color:red\">-0.000</span> + <span style=\"color:red\">-0.000</span> + <span style=\"color:red\">-0.000</span> + <span style=\"color:red\">-0.000</span> + <span style=\"color:blue\">+0.001</span> + <span style=\"color:blue\">+0.001</span> + <span style=\"color:blue\">+0.001</span> + <span style=\"color:blue\">+0.001</span> = <span style=\"color:blue; text-decoration:underline\">+0.003</span></div>"
      ],
      "text/plain": [
       "<IPython.core.display.Markdown object>"
      ]
     },
     "metadata": {},
     "output_type": "display_data"
    },
    {
     "name": "stdout",
     "output_type": "stream",
     "text": [
      "w1=+0.998, w2=-0.998, w3=+1.000\n",
      "\n"
     ]
    },
    {
     "data": {
      "text/plain": [
       "(0.9977669148201216, -0.9977300614516468, 1.0)"
      ]
     },
     "execution_count": 84,
     "metadata": {},
     "output_type": "execute_result"
    }
   ],
   "source": [
    "w1, w2, w3 = experiment('ab(ab)ab', _w1=1.0, _w2=1.0, max_iter=250, alpha=1e-1, fixed_w3=True)\n",
    "experiment('aabba(aba)bab', _w1=w1, _w2=w2, _w3=w3, max_iter=1)"
   ]
  },
  {
   "cell_type": "markdown",
   "metadata": {},
   "source": [
    "# Let's Try Adding Input Gate\n",
    "\n",
    "In the following, we try adding an ideal input gate, which activates (value = 1) only when it sees an opening bracket or closing bracket, so basically we are telling the network which inputs are relevant and which are not.\n",
    "\n",
    "**Note**: The $w_4$ and $w_5$ were an attempt to create a learned gate, but later I realized that the input doesn't allow the gate (which is linear) to be useful. So at the end I use a bilinear gate."
   ]
  },
  {
   "cell_type": "code",
   "execution_count": 58,
   "metadata": {
    "collapsed": false
   },
   "outputs": [],
   "source": [
    "w4 = 1.0\n",
    "w5 = 1.0\n",
    "input_history = [0]\n",
    "gate_history = [0]\n",
    "\n",
    "def reset_gated():\n",
    "    global memory_history, output_history, input_history, gate_history\n",
    "    memory_history = [0]\n",
    "    output_history = [0]\n",
    "    input_history = [0]\n",
    "    gate_history = [0]\n",
    "\n",
    "def activate_input(x1, x2):\n",
    "    result = (w1*x1+w2*x2)\n",
    "    input_history.append(result)\n",
    "    return result\n",
    "\n",
    "def activate_gate(x1, x2, bilinear_gate=True):\n",
    "    if bilinear_gate:\n",
    "        result = w4 + w5*x1*x2  # Bilinear gate\n",
    "    else:\n",
    "        result = sigmoid(w4*x1+w5*x2)  # The true linear gate\n",
    "    gate_history.append(result)\n",
    "    return result\n",
    "\n",
    "def dLdw1_gated(test_seq, gold_seq, pred_seq, state_seq, input_seq, gate_seq, info, bilinear_gate=True):\n",
    "    result = 0.0\n",
    "    grad_str = '<div style=\"font-family:monaco; font-size:12px\">dL/dw1 = '\n",
    "    for time_step in range(1, len(gold_seq)):\n",
    "        cur_dell = (pred_seq[time_step] - gold_seq[time_step]) * w3\n",
    "        cur_dell *= sum(embedding[test_seq[step-1]][0]*gate_seq[step] for step in range(1, time_step+1))\n",
    "        if cur_dell < 0:\n",
    "            color = 'red'\n",
    "        else:\n",
    "            color = 'blue'\n",
    "        grad_str += '{}<span style=\"color:{}\">{:+.3f}</span>'.format(' + ' if time_step > 1 else '', color, cur_dell)\n",
    "        result += cur_dell\n",
    "    grad_str += ' = <span style=\"color:{}; text-decoration:underline\">{:+.3f}</span></div>'.format('red' if result < 0 else 'blue', result)\n",
    "    # printmd(grad_str)\n",
    "    info[0] += grad_str\n",
    "    return result\n",
    "\n",
    "def dLdw2_gated(test_seq, gold_seq, pred_seq, state_seq, input_seq, gate_seq, info, bilinear_gate=True):\n",
    "    result = 0.0\n",
    "    grad_str = '<div style=\"font-family:monaco; font-size:12px\">dL/dw2 = '\n",
    "    for time_step in range(1, len(gold_seq)):\n",
    "        cur_dell = (pred_seq[time_step] - gold_seq[time_step]) * w3\n",
    "        cur_dell *= sum(embedding[test_seq[step-1]][1]*gate_seq[step] for step in range(1, time_step+1))\n",
    "        if cur_dell < 0:\n",
    "            color = 'red'\n",
    "        else:\n",
    "            color = 'blue'\n",
    "        grad_str += '{}<span style=\"color:{}\">{:+.3f}</span>'.format(' + ' if time_step > 1 else '', color, cur_dell)\n",
    "        result += cur_dell\n",
    "    grad_str += ' = <span style=\"color:{}; text-decoration:underline\">{:+.3f}</span></div>'.format('red' if result < 0 else 'blue', result)\n",
    "    # printmd(grad_str)\n",
    "    info[0] += grad_str\n",
    "    return result\n",
    "\n",
    "def dLdw4_gated(test_seq, gold_seq, pred_seq, state_seq, input_seq, gate_seq, info, bilinear_gate=True):\n",
    "    result = 0.0\n",
    "    grad_str = '<div style=\"font-family:monaco; font-size:12px\">dL/dw4 = '\n",
    "    for time_step in range(1, len(gold_seq)):\n",
    "        cur_dell = (pred_seq[time_step] - gold_seq[time_step]) * w3\n",
    "        if bilinear_gate:\n",
    "            cur_dell *= sum(input_seq[step] for step in range(1, time_step+1))\n",
    "        else:\n",
    "            cur_dell *= sum(embedding[test_seq[step-1]][0]*gate_seq[step]*input_seq[step]*(1-gate_seq[step]) for step in range(1,time_step+1))\n",
    "        if cur_dell < 0:\n",
    "            color = 'red'\n",
    "        else:\n",
    "            color = 'blue'\n",
    "        grad_str += '{}<span style=\"color:{}\">{:+.3f}</span>'.format(' + ' if time_step > 1 else '', color, cur_dell)\n",
    "        result += cur_dell\n",
    "    grad_str += ' = <span style=\"color:{}; text-decoration:underline\">{:+.3f}</span></div>'.format('red' if result < 0 else 'blue', result)\n",
    "    # printmd(grad_str)\n",
    "    info[0] += grad_str\n",
    "    return result\n",
    "\n",
    "def dLdw5_gated(test_seq, gold_seq, pred_seq, state_seq, input_seq, gate_seq, info, bilinear_gate=True):\n",
    "    result = 0.0\n",
    "    grad_str = '<div style=\"font-family:monaco; font-size:12px\">dL/dw5 = '\n",
    "    for time_step in range(1, len(gold_seq)):\n",
    "        cur_dell = (pred_seq[time_step] - gold_seq[time_step]) * w3\n",
    "        if bilinear_gate:\n",
    "            cur_dell *= sum(embedding[test_seq[step-1]][0]*embedding[test_seq[step-1]][1]*input_seq[step] for step in range(1, time_step+1))\n",
    "        else:\n",
    "            cur_dell *= sum(embedding[test_seq[step-1]][1]*gate_seq[step]*input_seq[step]*(1-gate_seq[step]) for step in range(1,time_step+1))\n",
    "        if cur_dell < 0:\n",
    "            color = 'red'\n",
    "        else:\n",
    "            color = 'blue'\n",
    "        grad_str += '{}<span style=\"color:{}\">{:+.3f}</span>'.format(' + ' if time_step > 1 else '', color, cur_dell)\n",
    "        result += cur_dell\n",
    "    grad_str += ' = <span style=\"color:{}; text-decoration:underline\">{:+.3f}</span></div>'.format('red' if result < 0 else 'blue', result)\n",
    "    # printmd(grad_str)\n",
    "    info[0] += grad_str\n",
    "    return result\n",
    "\n",
    "def activate_memory_gated():\n",
    "    memory_history.append(ws*memory_history[-1] + input_history[-1]*gate_history[-1])\n",
    "    return memory_history[-1]\n",
    "\n",
    "def predict_gated(seq):\n",
    "    for char in seq:\n",
    "        activate_input(*embedding[char])\n",
    "        activate_gate(*embedding[char])\n",
    "        activate_output(activate_memory_gated())\n",
    "    result = output_history[:]\n",
    "    return result\n",
    "\n",
    "def experiment_gated(test_seq, _w1=1.0, _w2=1.0, _w3=1.0, _w4=1.0, _w5=1.0, alpha=1e-1, max_iter=750, bilinear_gate=True, fixed_w3=True, fixed_w4=False, fixed_w5=False):\n",
    "    global w1, w2, w3, w4, w5\n",
    "    reset_gated()\n",
    "    w1 = _w1\n",
    "    w2 = _w2\n",
    "    w3 = _w3\n",
    "    w4 = _w4\n",
    "    w5 = _w5\n",
    "    correct = gold(test_seq)\n",
    "    print('w1={:+.3f}, w2={:+.3f}, w3={:+.3f}, w4={:+.3f}, w5={:+.3f}'.format(w1, w2, w3, w4, w5))\n",
    "    for iter_num in range(max_iter):\n",
    "        result = predict_gated(test_seq)\n",
    "        if iter_num < 50 or (iter_num % 50 == 49):\n",
    "            printmd('**Iteration {}**'.format(iter_num))\n",
    "            print('Output: ', end='')\n",
    "            print_list(result[1:])\n",
    "            print('Target: ', end='')\n",
    "            print_list(correct[1:])\n",
    "            print('Memory: ', end='')\n",
    "            print_list(memory_history[1:])\n",
    "            print('Input : ', end='')\n",
    "            print_list(input_history[1:])\n",
    "            print('Gate  : ', end='')\n",
    "            print_list(gate_history[1:])\n",
    "        total_loss, per_position_loss = loss(correct[1:], result[1:])\n",
    "        info = ['', iter_num]\n",
    "        info[0] = '<div>Loss: **{:.5f}** = <span style=\"font-family:monaco\">'.format(total_loss)\n",
    "        for idx, per_pos_loss in enumerate(per_position_loss):\n",
    "            info[0] += '{}{:.3f}'.format(' + ' if idx > 0 else '', per_pos_loss)\n",
    "        info[0] += '</span></div>'\n",
    "        # printmd(loss_str)\n",
    "        w1 -= alpha * dLdw1_gated(test_seq, correct, result, memory_history, input_history, gate_history, info, bilinear_gate)\n",
    "        w2 -= alpha * dLdw2_gated(test_seq, correct, result, memory_history, input_history, gate_history, info, bilinear_gate)\n",
    "        if not fixed_w3:\n",
    "            w3 -= alpha * dLdw3(test_seq, correct, result, memory_history, info, bilinear_gate)\n",
    "        if not fixed_w4:\n",
    "            w4 -= alpha * dLdw4_gated(test_seq, correct, result, memory_history, input_history, gate_history, info, bilinear_gate)\n",
    "        if not fixed_w5:\n",
    "            w5 -= alpha * dLdw5_gated(test_seq, correct, result, memory_history, input_history, gate_history, info, bilinear_gate)\n",
    "        if iter_num < 50 or (iter_num % 50 == 49):\n",
    "            printmd(info[0])\n",
    "            print('w1={:+.3f}, w2={:+.3f}, w3={:+.3f}, w4={:+.3f}, w5={:+.3f}'.format(w1, w2, w3, w4, w5))\n",
    "            print()\n",
    "        reset_gated()\n",
    "    return w1, w2, w3, w4, w5"
   ]
  },
  {
   "cell_type": "code",
   "execution_count": 83,
   "metadata": {
    "collapsed": false
   },
   "outputs": [
    {
     "name": "stdout",
     "output_type": "stream",
     "text": [
      "w1=+1.000, w2=+1.000, w3=+1.000, w4=+1.000, w5=+1.000\n"
     ]
    },
    {
     "data": {
      "text/markdown": [
       "**Iteration 0**"
      ],
      "text/plain": [
       "<IPython.core.display.Markdown object>"
      ]
     },
     "metadata": {},
     "output_type": "display_data"
    },
    {
     "name": "stdout",
     "output_type": "stream",
     "text": [
      "Output: [+0.982, +0.500, +0.731, +0.993, +0.731, +0.881, +0.119, +0.002]\n",
      "Target: [+0.500, +0.500, +0.731, +0.731, +0.731, +0.500, +0.500, +0.500]\n",
      "Memory: [+4.000, +0.000, +1.000, +5.000, +1.000, +2.000, -2.000, -6.000]\n",
      "Input : [+2.000, -2.000, +1.000, +2.000, -2.000, +1.000, -2.000, -2.000]\n",
      "Gate  : [+2.000, +2.000, +1.000, +2.000, +2.000, +1.000, +2.000, +2.000]\n"
     ]
    },
    {
     "data": {
      "text/markdown": [
       "<div>Loss: **5.27111** = <span style=\"font-family:monaco\">1.325 + 0.000 + 0.000 + 0.769 + 0.000 + 0.434 + 0.434 + 2.309</span></div><div style=\"font-family:monaco; font-size:12px\">dL/dw1 = <span style=\"color:blue\">+0.964</span> + <span style=\"color:blue\">+0.000</span> + <span style=\"color:blue\">+0.000</span> + <span style=\"color:blue\">+0.787</span> + <span style=\"color:blue\">+0.000</span> + <span style=\"color:blue\">+0.381</span> + <span style=\"color:blue\">+0.381</span> + <span style=\"color:blue\">+1.493</span> = <span style=\"color:blue; text-decoration:underline\">+4.005</span></div><div style=\"font-family:monaco; font-size:12px\">dL/dw2 = <span style=\"color:blue\">+0.964</span> + <span style=\"color:blue\">+0.000</span> + <span style=\"color:blue\">+0.000</span> + <span style=\"color:blue\">+0.524</span> + <span style=\"color:blue\">+0.000</span> + <span style=\"color:blue\">+0.381</span> + <span style=\"color:blue\">+0.381</span> + <span style=\"color:blue\">+1.493</span> = <span style=\"color:blue; text-decoration:underline\">+3.743</span></div><div style=\"font-family:monaco; font-size:12px\">dL/dw4 = <span style=\"color:blue\">+0.964</span> + <span style=\"color:blue\">+0.000</span> + <span style=\"color:blue\">+0.000</span> + <span style=\"color:blue\">+0.787</span> + <span style=\"color:blue\">+0.000</span> + <span style=\"color:blue\">+0.762</span> + <span style=\"color:blue\">-0.000</span> + <span style=\"color:blue\">+0.995</span> = <span style=\"color:blue; text-decoration:underline\">+3.507</span></div><div style=\"font-family:monaco; font-size:12px\">dL/dw5 = <span style=\"color:blue\">+0.964</span> + <span style=\"color:blue\">+0.000</span> + <span style=\"color:blue\">+0.000</span> + <span style=\"color:blue\">+0.524</span> + <span style=\"color:blue\">+0.000</span> + <span style=\"color:blue\">+0.000</span> + <span style=\"color:blue\">+0.762</span> + <span style=\"color:blue\">+1.990</span> = <span style=\"color:blue; text-decoration:underline\">+4.240</span></div>"
      ],
      "text/plain": [
       "<IPython.core.display.Markdown object>"
      ]
     },
     "metadata": {},
     "output_type": "display_data"
    },
    {
     "name": "stdout",
     "output_type": "stream",
     "text": [
      "w1=+0.600, w2=+0.626, w3=+1.000, w4=+0.649, w5=+0.576\n",
      "\n"
     ]
    },
    {
     "data": {
      "text/markdown": [
       "**Iteration 1**"
      ],
      "text/plain": [
       "<IPython.core.display.Markdown object>"
      ]
     },
     "metadata": {},
     "output_type": "display_data"
    },
    {
     "name": "stdout",
     "output_type": "stream",
     "text": [
      "Output: [+0.818, +0.500, +0.596, +0.869, +0.596, +0.689, +0.331, +0.099]\n",
      "Target: [+0.500, +0.500, +0.731, +0.731, +0.731, +0.500, +0.500, +0.500]\n",
      "Memory: [+1.501, +0.000, +0.389, +1.890, +0.389, +0.795, -0.706, -2.207]\n",
      "Input : [+1.225, -1.225, +0.600, +1.225, -1.225, +0.626, -1.225, -1.225]\n",
      "Gate  : [+1.225, +1.225, +0.649, +1.225, +1.225, +0.649, +1.225, +1.225]\n"
     ]
    },
    {
     "data": {
      "text/markdown": [
       "<div>Loss: **1.05796** = <span style=\"font-family:monaco\">0.259 + 0.000 + 0.040 + 0.067 + 0.040 + 0.077 + 0.061 + 0.515</span></div><div style=\"font-family:monaco; font-size:12px\">dL/dw1 = <span style=\"color:blue\">+0.389</span> + <span style=\"color:blue\">+0.000</span> + <span style=\"color:red\">-0.088</span> + <span style=\"color:blue\">+0.258</span> + <span style=\"color:red\">-0.088</span> + <span style=\"color:blue\">+0.123</span> + <span style=\"color:blue\">+0.098</span> + <span style=\"color:blue\">+0.722</span> = <span style=\"color:blue; text-decoration:underline\">+1.415</span></div><div style=\"font-family:monaco; font-size:12px\">dL/dw2 = <span style=\"color:blue\">+0.389</span> + <span style=\"color:blue\">+0.000</span> + <span style=\"color:blue\">-0.000</span> + <span style=\"color:blue\">+0.169</span> + <span style=\"color:blue\">-0.000</span> + <span style=\"color:blue\">+0.123</span> + <span style=\"color:blue\">+0.098</span> + <span style=\"color:blue\">+0.722</span> = <span style=\"color:blue; text-decoration:underline\">+1.500</span></div><div style=\"font-family:monaco; font-size:12px\">dL/dw4 = <span style=\"color:blue\">+0.389</span> + <span style=\"color:blue\">+0.000</span> + <span style=\"color:red\">-0.081</span> + <span style=\"color:blue\">+0.251</span> + <span style=\"color:red\">-0.081</span> + <span style=\"color:blue\">+0.232</span> + <span style=\"color:blue\">-0.000</span> + <span style=\"color:blue\">+0.491</span> = <span style=\"color:blue; text-decoration:underline\">+1.202</span></div><div style=\"font-family:monaco; font-size:12px\">dL/dw5 = <span style=\"color:blue\">+0.389</span> + <span style=\"color:blue\">+0.000</span> + <span style=\"color:blue\">-0.000</span> + <span style=\"color:blue\">+0.169</span> + <span style=\"color:blue\">-0.000</span> + <span style=\"color:blue\">+0.000</span> + <span style=\"color:blue\">+0.208</span> + <span style=\"color:blue\">+0.982</span> = <span style=\"color:blue; text-decoration:underline\">+1.748</span></div>"
      ],
      "text/plain": [
       "<IPython.core.display.Markdown object>"
      ]
     },
     "metadata": {},
     "output_type": "display_data"
    },
    {
     "name": "stdout",
     "output_type": "stream",
     "text": [
      "w1=+0.458, w2=+0.476, w3=+1.000, w4=+0.529, w5=+0.401\n",
      "\n"
     ]
    },
    {
     "data": {
      "text/markdown": [
       "**Iteration 2**"
      ],
      "text/plain": [
       "<IPython.core.display.Markdown object>"
      ]
     },
     "metadata": {},
     "output_type": "display_data"
    },
    {
     "name": "stdout",
     "output_type": "stream",
     "text": [
      "Output: [+0.704, +0.500, +0.560, +0.752, +0.560, +0.621, +0.407, +0.224]\n",
      "Target: [+0.500, +0.500, +0.731, +0.731, +0.731, +0.500, +0.500, +0.500]\n",
      "Memory: [+0.869, +0.000, +0.242, +1.111, +0.242, +0.494, -0.375, -1.243]\n",
      "Input : [+0.934, -0.934, +0.458, +0.934, -0.934, +0.476, -0.934, -0.934]\n",
      "Gate  : [+0.930, +0.930, +0.529, +0.930, +0.930, +0.529, +0.930, +0.930]\n"
     ]
    },
    {
     "data": {
      "text/markdown": [
       "<div>Loss: **0.44676** = <span style=\"font-family:monaco\">0.091 + 0.000 + 0.062 + 0.001 + 0.062 + 0.030 + 0.017 + 0.182</span></div><div style=\"font-family:monaco; font-size:12px\">dL/dw1 = <span style=\"color:blue\">+0.190</span> + <span style=\"color:blue\">+0.000</span> + <span style=\"color:red\">-0.090</span> + <span style=\"color:blue\">+0.031</span> + <span style=\"color:red\">-0.090</span> + <span style=\"color:blue\">+0.064</span> + <span style=\"color:blue\">+0.037</span> + <span style=\"color:blue\">+0.368</span> = <span style=\"color:blue; text-decoration:underline\">+0.509</span></div><div style=\"font-family:monaco; font-size:12px\">dL/dw2 = <span style=\"color:blue\">+0.190</span> + <span style=\"color:blue\">+0.000</span> + <span style=\"color:blue\">-0.000</span> + <span style=\"color:blue\">+0.020</span> + <span style=\"color:blue\">-0.000</span> + <span style=\"color:blue\">+0.064</span> + <span style=\"color:blue\">+0.037</span> + <span style=\"color:blue\">+0.368</span> = <span style=\"color:blue; text-decoration:underline\">+0.679</span></div><div style=\"font-family:monaco; font-size:12px\">dL/dw4 = <span style=\"color:blue\">+0.191</span> + <span style=\"color:blue\">+0.000</span> + <span style=\"color:red\">-0.078</span> + <span style=\"color:blue\">+0.030</span> + <span style=\"color:red\">-0.078</span> + <span style=\"color:blue\">+0.113</span> + <span style=\"color:blue\">+0.000</span> + <span style=\"color:blue\">+0.258</span> = <span style=\"color:blue; text-decoration:underline\">+0.435</span></div><div style=\"font-family:monaco; font-size:12px\">dL/dw5 = <span style=\"color:blue\">+0.191</span> + <span style=\"color:blue\">+0.000</span> + <span style=\"color:blue\">-0.000</span> + <span style=\"color:blue\">+0.020</span> + <span style=\"color:blue\">-0.000</span> + <span style=\"color:blue\">+0.000</span> + <span style=\"color:blue\">+0.086</span> + <span style=\"color:blue\">+0.516</span> = <span style=\"color:blue; text-decoration:underline\">+0.813</span></div>"
      ],
      "text/plain": [
       "<IPython.core.display.Markdown object>"
      ]
     },
     "metadata": {},
     "output_type": "display_data"
    },
    {
     "name": "stdout",
     "output_type": "stream",
     "text": [
      "w1=+0.407, w2=+0.408, w3=+1.000, w4=+0.486, w5=+0.320\n",
      "\n"
     ]
    },
    {
     "data": {
      "text/markdown": [
       "**Iteration 3**"
      ],
      "text/plain": [
       "<IPython.core.display.Markdown object>"
      ]
     },
     "metadata": {},
     "output_type": "display_data"
    },
    {
     "name": "stdout",
     "output_type": "stream",
     "text": [
      "Output: [+0.658, +0.500, +0.549, +0.701, +0.549, +0.598, +0.435, +0.286]\n",
      "Target: [+0.500, +0.500, +0.731, +0.731, +0.731, +0.500, +0.500, +0.500]\n",
      "Memory: [+0.656, +0.000, +0.198, +0.854, +0.198, +0.396, -0.261, -0.917]\n",
      "Input : [+0.815, -0.815, +0.407, +0.815, -0.815, +0.408, -0.815, -0.815]\n",
      "Gate  : [+0.806, +0.806, +0.486, +0.806, +0.806, +0.486, +0.806, +0.806]\n"
     ]
    },
    {
     "data": {
      "text/markdown": [
       "<div>Loss: **0.32491** = <span style=\"font-family:monaco\">0.053 + 0.000 + 0.070 + 0.002 + 0.070 + 0.019 + 0.008 + 0.102</span></div><div style=\"font-family:monaco; font-size:12px\">dL/dw1 = <span style=\"color:blue\">+0.128</span> + <span style=\"color:blue\">+0.000</span> + <span style=\"color:red\">-0.088</span> + <span style=\"color:red\">-0.038</span> + <span style=\"color:red\">-0.088</span> + <span style=\"color:blue\">+0.047</span> + <span style=\"color:blue\">+0.021</span> + <span style=\"color:blue\">+0.241</span> = <span style=\"color:blue; text-decoration:underline\">+0.222</span></div><div style=\"font-family:monaco; font-size:12px\">dL/dw2 = <span style=\"color:blue\">+0.128</span> + <span style=\"color:blue\">+0.000</span> + <span style=\"color:blue\">-0.000</span> + <span style=\"color:red\">-0.024</span> + <span style=\"color:blue\">-0.000</span> + <span style=\"color:blue\">+0.047</span> + <span style=\"color:blue\">+0.021</span> + <span style=\"color:blue\">+0.241</span> = <span style=\"color:blue; text-decoration:underline\">+0.413</span></div><div style=\"font-family:monaco; font-size:12px\">dL/dw4 = <span style=\"color:blue\">+0.129</span> + <span style=\"color:blue\">+0.000</span> + <span style=\"color:red\">-0.074</span> + <span style=\"color:red\">-0.036</span> + <span style=\"color:red\">-0.074</span> + <span style=\"color:blue\">+0.080</span> + <span style=\"color:red\">-0.000</span> + <span style=\"color:blue\">+0.175</span> = <span style=\"color:blue; text-decoration:underline\">+0.199</span></div><div style=\"font-family:monaco; font-size:12px\">dL/dw5 = <span style=\"color:blue\">+0.129</span> + <span style=\"color:blue\">+0.000</span> + <span style=\"color:blue\">-0.000</span> + <span style=\"color:red\">-0.024</span> + <span style=\"color:blue\">-0.000</span> + <span style=\"color:blue\">+0.000</span> + <span style=\"color:blue\">+0.053</span> + <span style=\"color:blue\">+0.350</span> = <span style=\"color:blue; text-decoration:underline\">+0.507</span></div>"
      ],
      "text/plain": [
       "<IPython.core.display.Markdown object>"
      ]
     },
     "metadata": {},
     "output_type": "display_data"
    },
    {
     "name": "stdout",
     "output_type": "stream",
     "text": [
      "w1=+0.385, w2=+0.366, w3=+1.000, w4=+0.466, w5=+0.269\n",
      "\n"
     ]
    },
    {
     "data": {
      "text/markdown": [
       "**Iteration 4**"
      ],
      "text/plain": [
       "<IPython.core.display.Markdown object>"
      ]
     },
     "metadata": {},
     "output_type": "display_data"
    },
    {
     "name": "stdout",
     "output_type": "stream",
     "text": [
      "Output: [+0.635, +0.500, +0.545, +0.675, +0.545, +0.587, +0.450, +0.320]\n",
      "Target: [+0.500, +0.500, +0.731, +0.731, +0.731, +0.500, +0.500, +0.500]\n",
      "Memory: [+0.552, +0.000, +0.179, +0.731, +0.179, +0.350, -0.202, -0.754]\n",
      "Input : [+0.751, -0.751, +0.385, +0.751, -0.751, +0.366, -0.751, -0.751]\n",
      "Gate  : [+0.735, +0.735, +0.466, +0.735, +0.735, +0.466, +0.735, +0.735]\n"
     ]
    },
    {
     "data": {
      "text/markdown": [
       "<div>Loss: **0.28193** = <span style=\"font-family:monaco\">0.038 + 0.000 + 0.074 + 0.007 + 0.074 + 0.015 + 0.005 + 0.070</span></div><div style=\"font-family:monaco; font-size:12px\">dL/dw1 = <span style=\"color:blue\">+0.099</span> + <span style=\"color:blue\">+0.000</span> + <span style=\"color:red\">-0.087</span> + <span style=\"color:red\">-0.067</span> + <span style=\"color:red\">-0.087</span> + <span style=\"color:blue\">+0.040</span> + <span style=\"color:blue\">+0.014</span> + <span style=\"color:blue\">+0.181</span> = <span style=\"color:blue; text-decoration:underline\">+0.093</span></div><div style=\"font-family:monaco; font-size:12px\">dL/dw2 = <span style=\"color:blue\">+0.099</span> + <span style=\"color:blue\">+0.000</span> + <span style=\"color:blue\">-0.000</span> + <span style=\"color:red\">-0.041</span> + <span style=\"color:blue\">-0.000</span> + <span style=\"color:blue\">+0.040</span> + <span style=\"color:blue\">+0.014</span> + <span style=\"color:blue\">+0.181</span> = <span style=\"color:blue; text-decoration:underline\">+0.293</span></div><div style=\"font-family:monaco; font-size:12px\">dL/dw4 = <span style=\"color:blue\">+0.101</span> + <span style=\"color:blue\">+0.000</span> + <span style=\"color:red\">-0.072</span> + <span style=\"color:red\">-0.064</span> + <span style=\"color:red\">-0.072</span> + <span style=\"color:blue\">+0.065</span> + <span style=\"color:blue\">-0.000</span> + <span style=\"color:blue\">+0.135</span> = <span style=\"color:blue; text-decoration:underline\">+0.095</span></div><div style=\"font-family:monaco; font-size:12px\">dL/dw5 = <span style=\"color:blue\">+0.101</span> + <span style=\"color:blue\">+0.000</span> + <span style=\"color:blue\">-0.000</span> + <span style=\"color:red\">-0.042</span> + <span style=\"color:blue\">-0.000</span> + <span style=\"color:blue\">+0.000</span> + <span style=\"color:blue\">+0.038</span> + <span style=\"color:blue\">+0.271</span> = <span style=\"color:blue; text-decoration:underline\">+0.368</span></div>"
      ],
      "text/plain": [
       "<IPython.core.display.Markdown object>"
      ]
     },
     "metadata": {},
     "output_type": "display_data"
    },
    {
     "name": "stdout",
     "output_type": "stream",
     "text": [
      "w1=+0.376, w2=+0.337, w3=+1.000, w4=+0.456, w5=+0.232\n",
      "\n"
     ]
    },
    {
     "data": {
      "text/markdown": [
       "**Iteration 5**"
      ],
      "text/plain": [
       "<IPython.core.display.Markdown object>"
      ]
     },
     "metadata": {},
     "output_type": "display_data"
    },
    {
     "name": "stdout",
     "output_type": "stream",
     "text": [
      "Output: [+0.620, +0.500, +0.543, +0.660, +0.543, +0.581, +0.459, +0.342]\n",
      "Target: [+0.500, +0.500, +0.731, +0.731, +0.731, +0.500, +0.500, +0.500]\n",
      "Memory: [+0.491, +0.000, +0.171, +0.662, +0.171, +0.325, -0.166, -0.657]\n",
      "Input : [+0.713, -0.713, +0.376, +0.713, -0.713, +0.337, -0.713, -0.713]\n",
      "Gate  : [+0.689, +0.689, +0.456, +0.689, +0.689, +0.456, +0.689, +0.689]\n"
     ]
    },
    {
     "data": {
      "text/markdown": [
       "<div>Loss: **0.26115** = <span style=\"font-family:monaco\">0.030 + 0.000 + 0.075 + 0.012 + 0.075 + 0.013 + 0.003 + 0.053</span></div><div style=\"font-family:monaco; font-size:12px\">dL/dw1 = <span style=\"color:blue\">+0.083</span> + <span style=\"color:blue\">+0.000</span> + <span style=\"color:red\">-0.086</span> + <span style=\"color:red\">-0.082</span> + <span style=\"color:red\">-0.086</span> + <span style=\"color:blue\">+0.037</span> + <span style=\"color:blue\">+0.010</span> + <span style=\"color:blue\">+0.146</span> = <span style=\"color:blue; text-decoration:underline\">+0.022</span></div><div style=\"font-family:monaco; font-size:12px\">dL/dw2 = <span style=\"color:blue\">+0.083</span> + <span style=\"color:blue\">+0.000</span> + <span style=\"color:blue\">-0.000</span> + <span style=\"color:red\">-0.049</span> + <span style=\"color:blue\">-0.000</span> + <span style=\"color:blue\">+0.037</span> + <span style=\"color:blue\">+0.010</span> + <span style=\"color:blue\">+0.146</span> = <span style=\"color:blue; text-decoration:underline\">+0.226</span></div><div style=\"font-family:monaco; font-size:12px\">dL/dw4 = <span style=\"color:blue\">+0.086</span> + <span style=\"color:blue\">+0.000</span> + <span style=\"color:red\">-0.071</span> + <span style=\"color:red\">-0.078</span> + <span style=\"color:red\">-0.071</span> + <span style=\"color:blue\">+0.057</span> + <span style=\"color:blue\">+0.000</span> + <span style=\"color:blue\">+0.113</span> = <span style=\"color:blue; text-decoration:underline\">+0.037</span></div><div style=\"font-family:monaco; font-size:12px\">dL/dw5 = <span style=\"color:blue\">+0.086</span> + <span style=\"color:blue\">+0.000</span> + <span style=\"color:blue\">-0.000</span> + <span style=\"color:red\">-0.051</span> + <span style=\"color:blue\">-0.000</span> + <span style=\"color:blue\">+0.000</span> + <span style=\"color:blue\">+0.029</span> + <span style=\"color:blue\">+0.226</span> = <span style=\"color:blue; text-decoration:underline\">+0.290</span></div>"
      ],
      "text/plain": [
       "<IPython.core.display.Markdown object>"
      ]
     },
     "metadata": {},
     "output_type": "display_data"
    },
    {
     "name": "stdout",
     "output_type": "stream",
     "text": [
      "w1=+0.373, w2=+0.315, w3=+1.000, w4=+0.453, w5=+0.203\n",
      "\n"
     ]
    },
    {
     "data": {
      "text/markdown": [
       "**Iteration 6**"
      ],
      "text/plain": [
       "<IPython.core.display.Markdown object>"
      ]
     },
     "metadata": {},
     "output_type": "display_data"
    },
    {
     "name": "stdout",
     "output_type": "stream",
     "text": [
      "Output: [+0.611, +0.500, +0.542, +0.650, +0.542, +0.577, +0.465, +0.356]\n",
      "Target: [+0.500, +0.500, +0.731, +0.731, +0.731, +0.500, +0.500, +0.500]\n",
      "Memory: [+0.451, +0.000, +0.169, +0.620, +0.169, +0.311, -0.140, -0.591]\n",
      "Input : [+0.688, -0.688, +0.373, +0.688, -0.688, +0.315, -0.688, -0.688]\n",
      "Gate  : [+0.656, +0.656, +0.453, +0.656, +0.656, +0.453, +0.656, +0.656]\n"
     ]
    },
    {
     "data": {
      "text/markdown": [
       "<div>Loss: **0.24872** = <span style=\"font-family:monaco\">0.025 + 0.000 + 0.075 + 0.015 + 0.075 + 0.012 + 0.002 + 0.043</span></div><div style=\"font-family:monaco; font-size:12px\">dL/dw1 = <span style=\"color:blue\">+0.073</span> + <span style=\"color:blue\">+0.000</span> + <span style=\"color:red\">-0.085</span> + <span style=\"color:red\">-0.090</span> + <span style=\"color:red\">-0.085</span> + <span style=\"color:blue\">+0.035</span> + <span style=\"color:blue\">+0.007</span> + <span style=\"color:blue\">+0.123</span> = <span style=\"color:red; text-decoration:underline\">-0.022</span></div><div style=\"font-family:monaco; font-size:12px\">dL/dw2 = <span style=\"color:blue\">+0.073</span> + <span style=\"color:blue\">+0.000</span> + <span style=\"color:blue\">-0.000</span> + <span style=\"color:red\">-0.053</span> + <span style=\"color:blue\">-0.000</span> + <span style=\"color:blue\">+0.035</span> + <span style=\"color:blue\">+0.007</span> + <span style=\"color:blue\">+0.123</span> = <span style=\"color:blue; text-decoration:underline\">+0.185</span></div><div style=\"font-family:monaco; font-size:12px\">dL/dw4 = <span style=\"color:blue\">+0.076</span> + <span style=\"color:blue\">+0.000</span> + <span style=\"color:red\">-0.071</span> + <span style=\"color:red\">-0.086</span> + <span style=\"color:red\">-0.071</span> + <span style=\"color:blue\">+0.053</span> + <span style=\"color:blue\">-0.000</span> + <span style=\"color:blue\">+0.099</span> = <span style=\"color:blue; text-decoration:underline\">+0.001</span></div><div style=\"font-family:monaco; font-size:12px\">dL/dw5 = <span style=\"color:blue\">+0.076</span> + <span style=\"color:blue\">+0.000</span> + <span style=\"color:blue\">-0.000</span> + <span style=\"color:red\">-0.056</span> + <span style=\"color:blue\">-0.000</span> + <span style=\"color:blue\">+0.000</span> + <span style=\"color:blue\">+0.024</span> + <span style=\"color:blue\">+0.198</span> = <span style=\"color:blue; text-decoration:underline\">+0.242</span></div>"
      ],
      "text/plain": [
       "<IPython.core.display.Markdown object>"
      ]
     },
     "metadata": {},
     "output_type": "display_data"
    },
    {
     "name": "stdout",
     "output_type": "stream",
     "text": [
      "w1=+0.376, w2=+0.296, w3=+1.000, w4=+0.452, w5=+0.179\n",
      "\n"
     ]
    },
    {
     "data": {
      "text/markdown": [
       "**Iteration 7**"
      ],
      "text/plain": [
       "<IPython.core.display.Markdown object>"
      ]
     },
     "metadata": {},
     "output_type": "display_data"
    },
    {
     "name": "stdout",
     "output_type": "stream",
     "text": [
      "Output: [+0.604, +0.500, +0.542, +0.644, +0.542, +0.575, +0.470, +0.367]\n",
      "Target: [+0.500, +0.500, +0.731, +0.731, +0.731, +0.500, +0.500, +0.500]\n",
      "Memory: [+0.424, +0.000, +0.170, +0.594, +0.170, +0.304, -0.120, -0.545]\n",
      "Input : [+0.672, -0.672, +0.376, +0.672, -0.672, +0.296, -0.672, -0.672]\n",
      "Gate  : [+0.631, +0.631, +0.452, +0.631, +0.631, +0.452, +0.631, +0.631]\n"
     ]
    },
    {
     "data": {
      "text/markdown": [
       "<div>Loss: **0.23997** = <span style=\"font-family:monaco\">0.022 + 0.000 + 0.075 + 0.017 + 0.075 + 0.011 + 0.002 + 0.037</span></div><div style=\"font-family:monaco; font-size:12px\">dL/dw1 = <span style=\"color:blue\">+0.066</span> + <span style=\"color:blue\">+0.000</span> + <span style=\"color:red\">-0.085</span> + <span style=\"color:red\">-0.094</span> + <span style=\"color:red\">-0.085</span> + <span style=\"color:blue\">+0.034</span> + <span style=\"color:blue\">+0.005</span> + <span style=\"color:blue\">+0.108</span> = <span style=\"color:red; text-decoration:underline\">-0.052</span></div><div style=\"font-family:monaco; font-size:12px\">dL/dw2 = <span style=\"color:blue\">+0.066</span> + <span style=\"color:blue\">+0.000</span> + <span style=\"color:blue\">-0.000</span> + <span style=\"color:red\">-0.055</span> + <span style=\"color:blue\">-0.000</span> + <span style=\"color:blue\">+0.034</span> + <span style=\"color:blue\">+0.005</span> + <span style=\"color:blue\">+0.108</span> = <span style=\"color:blue; text-decoration:underline\">+0.158</span></div><div style=\"font-family:monaco; font-size:12px\">dL/dw4 = <span style=\"color:blue\">+0.070</span> + <span style=\"color:blue\">+0.000</span> + <span style=\"color:red\">-0.071</span> + <span style=\"color:red\">-0.091</span> + <span style=\"color:red\">-0.071</span> + <span style=\"color:blue\">+0.051</span> + <span style=\"color:blue\">-0.000</span> + <span style=\"color:blue\">+0.089</span> = <span style=\"color:red; text-decoration:underline\">-0.023</span></div><div style=\"font-family:monaco; font-size:12px\">dL/dw5 = <span style=\"color:blue\">+0.070</span> + <span style=\"color:blue\">+0.000</span> + <span style=\"color:blue\">-0.000</span> + <span style=\"color:red\">-0.058</span> + <span style=\"color:blue\">-0.000</span> + <span style=\"color:blue\">+0.000</span> + <span style=\"color:blue\">+0.020</span> + <span style=\"color:blue\">+0.178</span> = <span style=\"color:blue; text-decoration:underline\">+0.211</span></div>"
      ],
      "text/plain": [
       "<IPython.core.display.Markdown object>"
      ]
     },
     "metadata": {},
     "output_type": "display_data"
    },
    {
     "name": "stdout",
     "output_type": "stream",
     "text": [
      "w1=+0.381, w2=+0.280, w3=+1.000, w4=+0.455, w5=+0.158\n",
      "\n"
     ]
    },
    {
     "data": {
      "text/markdown": [
       "**Iteration 8**"
      ],
      "text/plain": [
       "<IPython.core.display.Markdown object>"
      ]
     },
     "metadata": {},
     "output_type": "display_data"
    },
    {
     "name": "stdout",
     "output_type": "stream",
     "text": [
      "Output: [+0.600, +0.500, +0.543, +0.641, +0.543, +0.575, +0.474, +0.375]\n",
      "Target: [+0.500, +0.500, +0.731, +0.731, +0.731, +0.500, +0.500, +0.500]\n",
      "Memory: [+0.405, +0.000, +0.173, +0.578, +0.173, +0.301, -0.104, -0.510]\n",
      "Input : [+0.661, -0.661, +0.381, +0.661, -0.661, +0.280, -0.661, -0.661]\n",
      "Gate  : [+0.613, +0.613, +0.455, +0.613, +0.613, +0.455, +0.613, +0.613]\n"
     ]
    },
    {
     "data": {
      "text/markdown": [
       "<div>Loss: **0.23302** = <span style=\"font-family:monaco\">0.020 + 0.000 + 0.075 + 0.019 + 0.075 + 0.011 + 0.001 + 0.032</span></div><div style=\"font-family:monaco; font-size:12px\">dL/dw1 = <span style=\"color:blue\">+0.061</span> + <span style=\"color:blue\">+0.000</span> + <span style=\"color:red\">-0.085</span> + <span style=\"color:red\">-0.097</span> + <span style=\"color:red\">-0.085</span> + <span style=\"color:blue\">+0.034</span> + <span style=\"color:blue\">+0.004</span> + <span style=\"color:blue\">+0.096</span> = <span style=\"color:red; text-decoration:underline\">-0.072</span></div><div style=\"font-family:monaco; font-size:12px\">dL/dw2 = <span style=\"color:blue\">+0.061</span> + <span style=\"color:blue\">+0.000</span> + <span style=\"color:blue\">-0.000</span> + <span style=\"color:red\">-0.055</span> + <span style=\"color:blue\">-0.000</span> + <span style=\"color:blue\">+0.034</span> + <span style=\"color:blue\">+0.004</span> + <span style=\"color:blue\">+0.096</span> = <span style=\"color:blue; text-decoration:underline\">+0.140</span></div><div style=\"font-family:monaco; font-size:12px\">dL/dw4 = <span style=\"color:blue\">+0.066</span> + <span style=\"color:blue\">+0.000</span> + <span style=\"color:red\">-0.072</span> + <span style=\"color:red\">-0.094</span> + <span style=\"color:red\">-0.072</span> + <span style=\"color:blue\">+0.049</span> + <span style=\"color:blue\">+0.000</span> + <span style=\"color:blue\">+0.082</span> = <span style=\"color:red; text-decoration:underline\">-0.040</span></div><div style=\"font-family:monaco; font-size:12px\">dL/dw5 = <span style=\"color:blue\">+0.066</span> + <span style=\"color:blue\">+0.000</span> + <span style=\"color:blue\">-0.000</span> + <span style=\"color:red\">-0.060</span> + <span style=\"color:blue\">-0.000</span> + <span style=\"color:blue\">+0.000</span> + <span style=\"color:blue\">+0.017</span> + <span style=\"color:blue\">+0.165</span> = <span style=\"color:blue; text-decoration:underline\">+0.188</span></div>"
      ],
      "text/plain": [
       "<IPython.core.display.Markdown object>"
      ]
     },
     "metadata": {},
     "output_type": "display_data"
    },
    {
     "name": "stdout",
     "output_type": "stream",
     "text": [
      "w1=+0.388, w2=+0.266, w3=+1.000, w4=+0.459, w5=+0.139\n",
      "\n"
     ]
    },
    {
     "data": {
      "text/markdown": [
       "**Iteration 9**"
      ],
      "text/plain": [
       "<IPython.core.display.Markdown object>"
      ]
     },
     "metadata": {},
     "output_type": "display_data"
    },
    {
     "name": "stdout",
     "output_type": "stream",
     "text": [
      "Output: [+0.597, +0.500, +0.544, +0.639, +0.544, +0.574, +0.477, +0.382]\n",
      "Target: [+0.500, +0.500, +0.731, +0.731, +0.731, +0.500, +0.500, +0.500]\n",
      "Memory: [+0.391, +0.000, +0.178, +0.569, +0.178, +0.300, -0.091, -0.482]\n",
      "Input : [+0.654, -0.654, +0.388, +0.654, -0.654, +0.266, -0.654, -0.654]\n",
      "Gate  : [+0.598, +0.598, +0.459, +0.598, +0.598, +0.459, +0.598, +0.598]\n"
     ]
    },
    {
     "data": {
      "text/markdown": [
       "<div>Loss: **0.22701** = <span style=\"font-family:monaco\">0.019 + 0.000 + 0.074 + 0.019 + 0.074 + 0.011 + 0.001 + 0.029</span></div><div style=\"font-family:monaco; font-size:12px\">dL/dw1 = <span style=\"color:blue\">+0.058</span> + <span style=\"color:blue\">+0.000</span> + <span style=\"color:red\">-0.086</span> + <span style=\"color:red\">-0.098</span> + <span style=\"color:red\">-0.086</span> + <span style=\"color:blue\">+0.034</span> + <span style=\"color:blue\">+0.003</span> + <span style=\"color:blue\">+0.087</span> = <span style=\"color:red; text-decoration:underline\">-0.087</span></div><div style=\"font-family:monaco; font-size:12px\">dL/dw2 = <span style=\"color:blue\">+0.058</span> + <span style=\"color:blue\">+0.000</span> + <span style=\"color:blue\">-0.000</span> + <span style=\"color:red\">-0.055</span> + <span style=\"color:blue\">-0.000</span> + <span style=\"color:blue\">+0.034</span> + <span style=\"color:blue\">+0.003</span> + <span style=\"color:blue\">+0.087</span> = <span style=\"color:blue; text-decoration:underline\">+0.127</span></div><div style=\"font-family:monaco; font-size:12px\">dL/dw4 = <span style=\"color:blue\">+0.063</span> + <span style=\"color:blue\">+0.000</span> + <span style=\"color:red\">-0.072</span> + <span style=\"color:red\">-0.096</span> + <span style=\"color:red\">-0.072</span> + <span style=\"color:blue\">+0.049</span> + <span style=\"color:blue\">-0.000</span> + <span style=\"color:blue\">+0.077</span> = <span style=\"color:red; text-decoration:underline\">-0.052</span></div><div style=\"font-family:monaco; font-size:12px\">dL/dw5 = <span style=\"color:blue\">+0.063</span> + <span style=\"color:blue\">+0.000</span> + <span style=\"color:blue\">-0.000</span> + <span style=\"color:red\">-0.061</span> + <span style=\"color:blue\">-0.000</span> + <span style=\"color:blue\">+0.000</span> + <span style=\"color:blue\">+0.015</span> + <span style=\"color:blue\">+0.155</span> = <span style=\"color:blue; text-decoration:underline\">+0.172</span></div>"
      ],
      "text/plain": [
       "<IPython.core.display.Markdown object>"
      ]
     },
     "metadata": {},
     "output_type": "display_data"
    },
    {
     "name": "stdout",
     "output_type": "stream",
     "text": [
      "w1=+0.397, w2=+0.254, w3=+1.000, w4=+0.464, w5=+0.122\n",
      "\n"
     ]
    },
    {
     "data": {
      "text/markdown": [
       "**Iteration 10**"
      ],
      "text/plain": [
       "<IPython.core.display.Markdown object>"
      ]
     },
     "metadata": {},
     "output_type": "display_data"
    },
    {
     "name": "stdout",
     "output_type": "stream",
     "text": [
      "Output: [+0.594, +0.500, +0.546, +0.638, +0.546, +0.575, +0.480, +0.387]\n",
      "Target: [+0.500, +0.500, +0.731, +0.731, +0.731, +0.500, +0.500, +0.500]\n",
      "Memory: [+0.381, +0.000, +0.184, +0.565, +0.184, +0.302, -0.079, -0.460]\n",
      "Input : [+0.650, -0.650, +0.397, +0.650, -0.650, +0.254, -0.650, -0.650]\n",
      "Gate  : [+0.586, +0.586, +0.464, +0.586, +0.586, +0.464, +0.586, +0.586]\n"
     ]
    },
    {
     "data": {
      "text/markdown": [
       "<div>Loss: **0.22150** = <span style=\"font-family:monaco\">0.018 + 0.000 + 0.073 + 0.020 + 0.073 + 0.011 + 0.001 + 0.026</span></div><div style=\"font-family:monaco; font-size:12px\">dL/dw1 = <span style=\"color:blue\">+0.055</span> + <span style=\"color:blue\">+0.000</span> + <span style=\"color:red\">-0.086</span> + <span style=\"color:red\">-0.098</span> + <span style=\"color:red\">-0.086</span> + <span style=\"color:blue\">+0.035</span> + <span style=\"color:blue\">+0.002</span> + <span style=\"color:blue\">+0.080</span> = <span style=\"color:red; text-decoration:underline\">-0.098</span></div><div style=\"font-family:monaco; font-size:12px\">dL/dw2 = <span style=\"color:blue\">+0.055</span> + <span style=\"color:blue\">+0.000</span> + <span style=\"color:blue\">-0.000</span> + <span style=\"color:red\">-0.055</span> + <span style=\"color:blue\">-0.000</span> + <span style=\"color:blue\">+0.035</span> + <span style=\"color:blue\">+0.002</span> + <span style=\"color:blue\">+0.080</span> = <span style=\"color:blue; text-decoration:underline\">+0.118</span></div><div style=\"font-family:monaco; font-size:12px\">dL/dw4 = <span style=\"color:blue\">+0.061</span> + <span style=\"color:blue\">+0.000</span> + <span style=\"color:red\">-0.073</span> + <span style=\"color:red\">-0.098</span> + <span style=\"color:red\">-0.073</span> + <span style=\"color:blue\">+0.049</span> + <span style=\"color:blue\">+0.000</span> + <span style=\"color:blue\">+0.074</span> = <span style=\"color:red; text-decoration:underline\">-0.061</span></div><div style=\"font-family:monaco; font-size:12px\">dL/dw5 = <span style=\"color:blue\">+0.061</span> + <span style=\"color:blue\">+0.000</span> + <span style=\"color:blue\">-0.000</span> + <span style=\"color:red\">-0.061</span> + <span style=\"color:blue\">-0.000</span> + <span style=\"color:blue\">+0.000</span> + <span style=\"color:blue\">+0.013</span> + <span style=\"color:blue\">+0.147</span> = <span style=\"color:blue; text-decoration:underline\">+0.160</span></div>"
      ],
      "text/plain": [
       "<IPython.core.display.Markdown object>"
      ]
     },
     "metadata": {},
     "output_type": "display_data"
    },
    {
     "name": "stdout",
     "output_type": "stream",
     "text": [
      "w1=+0.406, w2=+0.242, w3=+1.000, w4=+0.470, w5=+0.106\n",
      "\n"
     ]
    },
    {
     "data": {
      "text/markdown": [
       "**Iteration 11**"
      ],
      "text/plain": [
       "<IPython.core.display.Markdown object>"
      ]
     },
     "metadata": {},
     "output_type": "display_data"
    },
    {
     "name": "stdout",
     "output_type": "stream",
     "text": [
      "Output: [+0.592, +0.500, +0.548, +0.637, +0.548, +0.576, +0.483, +0.391]\n",
      "Target: [+0.500, +0.500, +0.731, +0.731, +0.731, +0.500, +0.500, +0.500]\n",
      "Memory: [+0.373, +0.000, +0.191, +0.564, +0.191, +0.305, -0.069, -0.442]\n",
      "Input : [+0.648, -0.648, +0.406, +0.648, -0.648, +0.242, -0.648, -0.648]\n",
      "Gate  : [+0.576, +0.576, +0.470, +0.576, +0.576, +0.470, +0.576, +0.576]\n"
     ]
    },
    {
     "data": {
      "text/markdown": [
       "<div>Loss: **0.21627** = <span style=\"font-family:monaco\">0.017 + 0.000 + 0.071 + 0.020 + 0.071 + 0.012 + 0.001 + 0.024</span></div><div style=\"font-family:monaco; font-size:12px\">dL/dw1 = <span style=\"color:blue\">+0.053</span> + <span style=\"color:blue\">+0.000</span> + <span style=\"color:red\">-0.086</span> + <span style=\"color:red\">-0.098</span> + <span style=\"color:red\">-0.086</span> + <span style=\"color:blue\">+0.036</span> + <span style=\"color:blue\">+0.002</span> + <span style=\"color:blue\">+0.074</span> = <span style=\"color:red; text-decoration:underline\">-0.106</span></div><div style=\"font-family:monaco; font-size:12px\">dL/dw2 = <span style=\"color:blue\">+0.053</span> + <span style=\"color:blue\">+0.000</span> + <span style=\"color:blue\">-0.000</span> + <span style=\"color:red\">-0.054</span> + <span style=\"color:blue\">-0.000</span> + <span style=\"color:blue\">+0.036</span> + <span style=\"color:blue\">+0.002</span> + <span style=\"color:blue\">+0.074</span> = <span style=\"color:blue; text-decoration:underline\">+0.111</span></div><div style=\"font-family:monaco; font-size:12px\">dL/dw4 = <span style=\"color:blue\">+0.060</span> + <span style=\"color:blue\">+0.000</span> + <span style=\"color:red\">-0.075</span> + <span style=\"color:red\">-0.099</span> + <span style=\"color:red\">-0.075</span> + <span style=\"color:blue\">+0.049</span> + <span style=\"color:blue\">-0.000</span> + <span style=\"color:blue\">+0.070</span> = <span style=\"color:red; text-decoration:underline\">-0.069</span></div><div style=\"font-family:monaco; font-size:12px\">dL/dw5 = <span style=\"color:blue\">+0.060</span> + <span style=\"color:blue\">+0.000</span> + <span style=\"color:blue\">-0.000</span> + <span style=\"color:red\">-0.061</span> + <span style=\"color:blue\">-0.000</span> + <span style=\"color:blue\">+0.000</span> + <span style=\"color:blue\">+0.011</span> + <span style=\"color:blue\">+0.141</span> = <span style=\"color:blue; text-decoration:underline\">+0.151</span></div>"
      ],
      "text/plain": [
       "<IPython.core.display.Markdown object>"
      ]
     },
     "metadata": {},
     "output_type": "display_data"
    },
    {
     "name": "stdout",
     "output_type": "stream",
     "text": [
      "w1=+0.417, w2=+0.231, w3=+1.000, w4=+0.477, w5=+0.091\n",
      "\n"
     ]
    },
    {
     "data": {
      "text/markdown": [
       "**Iteration 12**"
      ],
      "text/plain": [
       "<IPython.core.display.Markdown object>"
      ]
     },
     "metadata": {},
     "output_type": "display_data"
    },
    {
     "name": "stdout",
     "output_type": "stream",
     "text": [
      "Output: [+0.591, +0.500, +0.550, +0.638, +0.550, +0.577, +0.485, +0.395]\n",
      "Target: [+0.500, +0.500, +0.731, +0.731, +0.731, +0.500, +0.500, +0.500]\n",
      "Memory: [+0.368, +0.000, +0.199, +0.567, +0.199, +0.309, -0.059, -0.427]\n",
      "Input : [+0.648, -0.648, +0.417, +0.648, -0.648, +0.231, -0.648, -0.648]\n",
      "Gate  : [+0.568, +0.568, +0.477, +0.568, +0.568, +0.477, +0.568, +0.568]\n"
     ]
    },
    {
     "data": {
      "text/markdown": [
       "<div>Loss: **0.21120** = <span style=\"font-family:monaco\">0.017 + 0.000 + 0.070 + 0.020 + 0.070 + 0.012 + 0.000 + 0.023</span></div><div style=\"font-family:monaco; font-size:12px\">dL/dw1 = <span style=\"color:blue\">+0.052</span> + <span style=\"color:blue\">+0.000</span> + <span style=\"color:red\">-0.087</span> + <span style=\"color:red\">-0.097</span> + <span style=\"color:red\">-0.087</span> + <span style=\"color:blue\">+0.037</span> + <span style=\"color:blue\">+0.001</span> + <span style=\"color:blue\">+0.069</span> = <span style=\"color:red; text-decoration:underline\">-0.112</span></div><div style=\"font-family:monaco; font-size:12px\">dL/dw2 = <span style=\"color:blue\">+0.052</span> + <span style=\"color:blue\">+0.000</span> + <span style=\"color:blue\">-0.000</span> + <span style=\"color:red\">-0.053</span> + <span style=\"color:blue\">-0.000</span> + <span style=\"color:blue\">+0.037</span> + <span style=\"color:blue\">+0.001</span> + <span style=\"color:blue\">+0.069</span> = <span style=\"color:blue; text-decoration:underline\">+0.106</span></div><div style=\"font-family:monaco; font-size:12px\">dL/dw4 = <span style=\"color:blue\">+0.059</span> + <span style=\"color:blue\">+0.000</span> + <span style=\"color:red\">-0.076</span> + <span style=\"color:red\">-0.099</span> + <span style=\"color:red\">-0.076</span> + <span style=\"color:blue\">+0.050</span> + <span style=\"color:red\">-0.000</span> + <span style=\"color:blue\">+0.068</span> = <span style=\"color:red; text-decoration:underline\">-0.074</span></div><div style=\"font-family:monaco; font-size:12px\">dL/dw5 = <span style=\"color:blue\">+0.059</span> + <span style=\"color:blue\">+0.000</span> + <span style=\"color:blue\">-0.000</span> + <span style=\"color:red\">-0.060</span> + <span style=\"color:blue\">-0.000</span> + <span style=\"color:blue\">+0.000</span> + <span style=\"color:blue\">+0.010</span> + <span style=\"color:blue\">+0.136</span> = <span style=\"color:blue; text-decoration:underline\">+0.144</span></div>"
      ],
      "text/plain": [
       "<IPython.core.display.Markdown object>"
      ]
     },
     "metadata": {},
     "output_type": "display_data"
    },
    {
     "name": "stdout",
     "output_type": "stream",
     "text": [
      "w1=+0.428, w2=+0.220, w3=+1.000, w4=+0.484, w5=+0.076\n",
      "\n"
     ]
    },
    {
     "data": {
      "text/markdown": [
       "**Iteration 13**"
      ],
      "text/plain": [
       "<IPython.core.display.Markdown object>"
      ]
     },
     "metadata": {},
     "output_type": "display_data"
    },
    {
     "name": "stdout",
     "output_type": "stream",
     "text": [
      "Output: [+0.590, +0.500, +0.552, +0.639, +0.552, +0.578, +0.488, +0.398]\n",
      "Target: [+0.500, +0.500, +0.731, +0.731, +0.731, +0.500, +0.500, +0.500]\n",
      "Memory: [+0.363, +0.000, +0.207, +0.571, +0.207, +0.314, -0.050, -0.413]\n",
      "Input : [+0.648, -0.648, +0.428, +0.648, -0.648, +0.220, -0.648, -0.648]\n",
      "Gate  : [+0.561, +0.561, +0.484, +0.561, +0.561, +0.484, +0.561, +0.561]\n"
     ]
    },
    {
     "data": {
      "text/markdown": [
       "<div>Loss: **0.20622** = <span style=\"font-family:monaco\">0.016 + 0.000 + 0.068 + 0.019 + 0.068 + 0.012 + 0.000 + 0.021</span></div><div style=\"font-family:monaco; font-size:12px\">dL/dw1 = <span style=\"color:blue\">+0.050</span> + <span style=\"color:blue\">+0.000</span> + <span style=\"color:red\">-0.087</span> + <span style=\"color:red\">-0.096</span> + <span style=\"color:red\">-0.087</span> + <span style=\"color:blue\">+0.038</span> + <span style=\"color:blue\">+0.001</span> + <span style=\"color:blue\">+0.065</span> = <span style=\"color:red; text-decoration:underline\">-0.116</span></div><div style=\"font-family:monaco; font-size:12px\">dL/dw2 = <span style=\"color:blue\">+0.050</span> + <span style=\"color:blue\">+0.000</span> + <span style=\"color:blue\">-0.000</span> + <span style=\"color:red\">-0.052</span> + <span style=\"color:blue\">-0.000</span> + <span style=\"color:blue\">+0.038</span> + <span style=\"color:blue\">+0.001</span> + <span style=\"color:blue\">+0.065</span> = <span style=\"color:blue; text-decoration:underline\">+0.102</span></div><div style=\"font-family:monaco; font-size:12px\">dL/dw4 = <span style=\"color:blue\">+0.058</span> + <span style=\"color:blue\">+0.000</span> + <span style=\"color:red\">-0.077</span> + <span style=\"color:red\">-0.099</span> + <span style=\"color:red\">-0.077</span> + <span style=\"color:blue\">+0.050</span> + <span style=\"color:blue\">-0.000</span> + <span style=\"color:blue\">+0.066</span> = <span style=\"color:red; text-decoration:underline\">-0.078</span></div><div style=\"font-family:monaco; font-size:12px\">dL/dw5 = <span style=\"color:blue\">+0.058</span> + <span style=\"color:blue\">+0.000</span> + <span style=\"color:blue\">-0.000</span> + <span style=\"color:red\">-0.060</span> + <span style=\"color:blue\">-0.000</span> + <span style=\"color:blue\">+0.000</span> + <span style=\"color:blue\">+0.008</span> + <span style=\"color:blue\">+0.132</span> = <span style=\"color:blue; text-decoration:underline\">+0.139</span></div>"
      ],
      "text/plain": [
       "<IPython.core.display.Markdown object>"
      ]
     },
     "metadata": {},
     "output_type": "display_data"
    },
    {
     "name": "stdout",
     "output_type": "stream",
     "text": [
      "w1=+0.440, w2=+0.210, w3=+1.000, w4=+0.492, w5=+0.063\n",
      "\n"
     ]
    },
    {
     "data": {
      "text/markdown": [
       "**Iteration 14**"
      ],
      "text/plain": [
       "<IPython.core.display.Markdown object>"
      ]
     },
     "metadata": {},
     "output_type": "display_data"
    },
    {
     "name": "stdout",
     "output_type": "stream",
     "text": [
      "Output: [+0.589, +0.500, +0.554, +0.640, +0.554, +0.579, +0.490, +0.401]\n",
      "Target: [+0.500, +0.500, +0.731, +0.731, +0.731, +0.500, +0.500, +0.500]\n",
      "Memory: [+0.360, +0.000, +0.216, +0.577, +0.216, +0.320, -0.041, -0.401]\n",
      "Input : [+0.650, -0.650, +0.440, +0.650, -0.650, +0.210, -0.650, -0.650]\n",
      "Gate  : [+0.555, +0.555, +0.492, +0.555, +0.555, +0.492, +0.555, +0.555]\n"
     ]
    },
    {
     "data": {
      "text/markdown": [
       "<div>Loss: **0.20131** = <span style=\"font-family:monaco\">0.016 + 0.000 + 0.067 + 0.019 + 0.067 + 0.013 + 0.000 + 0.020</span></div><div style=\"font-family:monaco; font-size:12px\">dL/dw1 = <span style=\"color:blue\">+0.049</span> + <span style=\"color:blue\">+0.000</span> + <span style=\"color:red\">-0.087</span> + <span style=\"color:red\">-0.095</span> + <span style=\"color:red\">-0.087</span> + <span style=\"color:blue\">+0.039</span> + <span style=\"color:blue\">+0.001</span> + <span style=\"color:blue\">+0.061</span> = <span style=\"color:red; text-decoration:underline\">-0.119</span></div><div style=\"font-family:monaco; font-size:12px\">dL/dw2 = <span style=\"color:blue\">+0.049</span> + <span style=\"color:blue\">+0.000</span> + <span style=\"color:blue\">-0.000</span> + <span style=\"color:red\">-0.050</span> + <span style=\"color:blue\">-0.000</span> + <span style=\"color:blue\">+0.039</span> + <span style=\"color:blue\">+0.001</span> + <span style=\"color:blue\">+0.061</span> = <span style=\"color:blue; text-decoration:underline\">+0.100</span></div><div style=\"font-family:monaco; font-size:12px\">dL/dw4 = <span style=\"color:blue\">+0.058</span> + <span style=\"color:blue\">+0.000</span> + <span style=\"color:red\">-0.078</span> + <span style=\"color:red\">-0.099</span> + <span style=\"color:red\">-0.078</span> + <span style=\"color:blue\">+0.051</span> + <span style=\"color:red\">-0.000</span> + <span style=\"color:blue\">+0.064</span> = <span style=\"color:red; text-decoration:underline\">-0.081</span></div><div style=\"font-family:monaco; font-size:12px\">dL/dw5 = <span style=\"color:blue\">+0.058</span> + <span style=\"color:blue\">+0.000</span> + <span style=\"color:blue\">-0.000</span> + <span style=\"color:red\">-0.059</span> + <span style=\"color:blue\">-0.000</span> + <span style=\"color:blue\">+0.000</span> + <span style=\"color:blue\">+0.007</span> + <span style=\"color:blue\">+0.129</span> = <span style=\"color:blue; text-decoration:underline\">+0.134</span></div>"
      ],
      "text/plain": [
       "<IPython.core.display.Markdown object>"
      ]
     },
     "metadata": {},
     "output_type": "display_data"
    },
    {
     "name": "stdout",
     "output_type": "stream",
     "text": [
      "w1=+0.452, w2=+0.200, w3=+1.000, w4=+0.500, w5=+0.049\n",
      "\n"
     ]
    },
    {
     "data": {
      "text/markdown": [
       "**Iteration 15**"
      ],
      "text/plain": [
       "<IPython.core.display.Markdown object>"
      ]
     },
     "metadata": {},
     "output_type": "display_data"
    },
    {
     "name": "stdout",
     "output_type": "stream",
     "text": [
      "Output: [+0.589, +0.500, +0.556, +0.642, +0.556, +0.581, +0.492, +0.404]\n",
      "Target: [+0.500, +0.500, +0.731, +0.731, +0.731, +0.500, +0.500, +0.500]\n",
      "Memory: [+0.358, +0.000, +0.226, +0.584, +0.226, +0.326, -0.032, -0.390]\n",
      "Input : [+0.652, -0.652, +0.452, +0.652, -0.652, +0.200, -0.652, -0.652]\n",
      "Gate  : [+0.549, +0.549, +0.500, +0.549, +0.549, +0.500, +0.549, +0.549]\n"
     ]
    },
    {
     "data": {
      "text/markdown": [
       "<div>Loss: **0.19645** = <span style=\"font-family:monaco\">0.016 + 0.000 + 0.065 + 0.018 + 0.065 + 0.013 + 0.000 + 0.019</span></div><div style=\"font-family:monaco; font-size:12px\">dL/dw1 = <span style=\"color:blue\">+0.049</span> + <span style=\"color:blue\">+0.000</span> + <span style=\"color:red\">-0.087</span> + <span style=\"color:red\">-0.094</span> + <span style=\"color:red\">-0.087</span> + <span style=\"color:blue\">+0.040</span> + <span style=\"color:blue\">+0.000</span> + <span style=\"color:blue\">+0.058</span> = <span style=\"color:red; text-decoration:underline\">-0.121</span></div><div style=\"font-family:monaco; font-size:12px\">dL/dw2 = <span style=\"color:blue\">+0.049</span> + <span style=\"color:blue\">+0.000</span> + <span style=\"color:blue\">-0.000</span> + <span style=\"color:red\">-0.049</span> + <span style=\"color:blue\">-0.000</span> + <span style=\"color:blue\">+0.040</span> + <span style=\"color:blue\">+0.000</span> + <span style=\"color:blue\">+0.058</span> = <span style=\"color:blue; text-decoration:underline\">+0.098</span></div><div style=\"font-family:monaco; font-size:12px\">dL/dw4 = <span style=\"color:blue\">+0.058</span> + <span style=\"color:blue\">+0.000</span> + <span style=\"color:red\">-0.079</span> + <span style=\"color:red\">-0.098</span> + <span style=\"color:red\">-0.079</span> + <span style=\"color:blue\">+0.053</span> + <span style=\"color:blue\">-0.000</span> + <span style=\"color:blue\">+0.063</span> = <span style=\"color:red; text-decoration:underline\">-0.083</span></div><div style=\"font-family:monaco; font-size:12px\">dL/dw5 = <span style=\"color:blue\">+0.058</span> + <span style=\"color:blue\">+0.000</span> + <span style=\"color:blue\">-0.000</span> + <span style=\"color:red\">-0.058</span> + <span style=\"color:blue\">-0.000</span> + <span style=\"color:blue\">+0.000</span> + <span style=\"color:blue\">+0.005</span> + <span style=\"color:blue\">+0.125</span> = <span style=\"color:blue; text-decoration:underline\">+0.130</span></div>"
      ],
      "text/plain": [
       "<IPython.core.display.Markdown object>"
      ]
     },
     "metadata": {},
     "output_type": "display_data"
    },
    {
     "name": "stdout",
     "output_type": "stream",
     "text": [
      "w1=+0.464, w2=+0.190, w3=+1.000, w4=+0.508, w5=+0.036\n",
      "\n"
     ]
    },
    {
     "data": {
      "text/markdown": [
       "**Iteration 16**"
      ],
      "text/plain": [
       "<IPython.core.display.Markdown object>"
      ]
     },
     "metadata": {},
     "output_type": "display_data"
    },
    {
     "name": "stdout",
     "output_type": "stream",
     "text": [
      "Output: [+0.588, +0.500, +0.559, +0.644, +0.559, +0.582, +0.494, +0.406]\n",
      "Target: [+0.500, +0.500, +0.731, +0.731, +0.731, +0.500, +0.500, +0.500]\n",
      "Memory: [+0.356, +0.000, +0.236, +0.592, +0.236, +0.333, -0.024, -0.380]\n",
      "Input : [+0.654, -0.654, +0.464, +0.654, -0.654, +0.190, -0.654, -0.654]\n",
      "Gate  : [+0.545, +0.545, +0.508, +0.545, +0.545, +0.508, +0.545, +0.545]\n"
     ]
    },
    {
     "data": {
      "text/markdown": [
       "<div>Loss: **0.19164** = <span style=\"font-family:monaco\">0.016 + 0.000 + 0.063 + 0.017 + 0.063 + 0.014 + 0.000 + 0.018</span></div><div style=\"font-family:monaco; font-size:12px\">dL/dw1 = <span style=\"color:blue\">+0.048</span> + <span style=\"color:blue\">+0.000</span> + <span style=\"color:red\">-0.088</span> + <span style=\"color:red\">-0.092</span> + <span style=\"color:red\">-0.088</span> + <span style=\"color:blue\">+0.042</span> + <span style=\"color:blue\">+0.000</span> + <span style=\"color:blue\">+0.054</span> = <span style=\"color:red; text-decoration:underline\">-0.123</span></div><div style=\"font-family:monaco; font-size:12px\">dL/dw2 = <span style=\"color:blue\">+0.048</span> + <span style=\"color:blue\">+0.000</span> + <span style=\"color:blue\">-0.000</span> + <span style=\"color:red\">-0.048</span> + <span style=\"color:blue\">-0.000</span> + <span style=\"color:blue\">+0.042</span> + <span style=\"color:blue\">+0.000</span> + <span style=\"color:blue\">+0.054</span> = <span style=\"color:blue; text-decoration:underline\">+0.097</span></div><div style=\"font-family:monaco; font-size:12px\">dL/dw4 = <span style=\"color:blue\">+0.058</span> + <span style=\"color:blue\">+0.000</span> + <span style=\"color:red\">-0.080</span> + <span style=\"color:red\">-0.098</span> + <span style=\"color:red\">-0.080</span> + <span style=\"color:blue\">+0.054</span> + <span style=\"color:red\">-0.000</span> + <span style=\"color:blue\">+0.061</span> = <span style=\"color:red; text-decoration:underline\">-0.085</span></div><div style=\"font-family:monaco; font-size:12px\">dL/dw5 = <span style=\"color:blue\">+0.058</span> + <span style=\"color:blue\">+0.000</span> + <span style=\"color:blue\">-0.000</span> + <span style=\"color:red\">-0.057</span> + <span style=\"color:blue\">-0.000</span> + <span style=\"color:blue\">+0.000</span> + <span style=\"color:blue\">+0.004</span> + <span style=\"color:blue\">+0.123</span> = <span style=\"color:blue; text-decoration:underline\">+0.127</span></div>"
      ],
      "text/plain": [
       "<IPython.core.display.Markdown object>"
      ]
     },
     "metadata": {},
     "output_type": "display_data"
    },
    {
     "name": "stdout",
     "output_type": "stream",
     "text": [
      "w1=+0.476, w2=+0.180, w3=+1.000, w4=+0.517, w5=+0.023\n",
      "\n"
     ]
    },
    {
     "data": {
      "text/markdown": [
       "**Iteration 17**"
      ],
      "text/plain": [
       "<IPython.core.display.Markdown object>"
      ]
     },
     "metadata": {},
     "output_type": "display_data"
    },
    {
     "name": "stdout",
     "output_type": "stream",
     "text": [
      "Output: [+0.588, +0.500, +0.561, +0.646, +0.561, +0.584, +0.496, +0.409]\n",
      "Target: [+0.500, +0.500, +0.731, +0.731, +0.731, +0.500, +0.500, +0.500]\n",
      "Memory: [+0.355, +0.000, +0.246, +0.601, +0.246, +0.339, -0.015, -0.370]\n",
      "Input : [+0.657, -0.657, +0.476, +0.657, -0.657, +0.180, -0.657, -0.657]\n",
      "Gate  : [+0.540, +0.540, +0.517, +0.540, +0.540, +0.517, +0.540, +0.540]\n"
     ]
    },
    {
     "data": {
      "text/markdown": [
       "<div>Loss: **0.18688** = <span style=\"font-family:monaco\">0.016 + 0.000 + 0.062 + 0.017 + 0.062 + 0.014 + 0.000 + 0.017</span></div><div style=\"font-family:monaco; font-size:12px\">dL/dw1 = <span style=\"color:blue\">+0.047</span> + <span style=\"color:blue\">+0.000</span> + <span style=\"color:red\">-0.088</span> + <span style=\"color:red\">-0.090</span> + <span style=\"color:red\">-0.088</span> + <span style=\"color:blue\">+0.043</span> + <span style=\"color:blue\">+0.000</span> + <span style=\"color:blue\">+0.052</span> = <span style=\"color:red; text-decoration:underline\">-0.123</span></div><div style=\"font-family:monaco; font-size:12px\">dL/dw2 = <span style=\"color:blue\">+0.047</span> + <span style=\"color:blue\">+0.000</span> + <span style=\"color:blue\">-0.000</span> + <span style=\"color:red\">-0.046</span> + <span style=\"color:blue\">-0.000</span> + <span style=\"color:blue\">+0.043</span> + <span style=\"color:blue\">+0.000</span> + <span style=\"color:blue\">+0.052</span> = <span style=\"color:blue; text-decoration:underline\">+0.096</span></div><div style=\"font-family:monaco; font-size:12px\">dL/dw4 = <span style=\"color:blue\">+0.058</span> + <span style=\"color:blue\">+0.000</span> + <span style=\"color:red\">-0.081</span> + <span style=\"color:red\">-0.097</span> + <span style=\"color:red\">-0.081</span> + <span style=\"color:blue\">+0.055</span> + <span style=\"color:blue\">+0.000</span> + <span style=\"color:blue\">+0.060</span> = <span style=\"color:red; text-decoration:underline\">-0.085</span></div><div style=\"font-family:monaco; font-size:12px\">dL/dw5 = <span style=\"color:blue\">+0.058</span> + <span style=\"color:blue\">+0.000</span> + <span style=\"color:blue\">-0.000</span> + <span style=\"color:red\">-0.056</span> + <span style=\"color:blue\">-0.000</span> + <span style=\"color:blue\">+0.000</span> + <span style=\"color:blue\">+0.003</span> + <span style=\"color:blue\">+0.120</span> = <span style=\"color:blue; text-decoration:underline\">+0.124</span></div>"
      ],
      "text/plain": [
       "<IPython.core.display.Markdown object>"
      ]
     },
     "metadata": {},
     "output_type": "display_data"
    },
    {
     "name": "stdout",
     "output_type": "stream",
     "text": [
      "w1=+0.488, w2=+0.171, w3=+1.000, w4=+0.525, w5=+0.011\n",
      "\n"
     ]
    },
    {
     "data": {
      "text/markdown": [
       "**Iteration 18**"
      ],
      "text/plain": [
       "<IPython.core.display.Markdown object>"
      ]
     },
     "metadata": {},
     "output_type": "display_data"
    },
    {
     "name": "stdout",
     "output_type": "stream",
     "text": [
      "Output: [+0.587, +0.500, +0.564, +0.648, +0.564, +0.586, +0.498, +0.411]\n",
      "Target: [+0.500, +0.500, +0.731, +0.731, +0.731, +0.500, +0.500, +0.500]\n",
      "Memory: [+0.354, +0.000, +0.257, +0.610, +0.257, +0.346, -0.007, -0.361]\n",
      "Input : [+0.659, -0.659, +0.488, +0.659, -0.659, +0.171, -0.659, -0.659]\n",
      "Gate  : [+0.536, +0.536, +0.525, +0.536, +0.536, +0.525, +0.536, +0.536]\n"
     ]
    },
    {
     "data": {
      "text/markdown": [
       "<div>Loss: **0.18217** = <span style=\"font-family:monaco\">0.016 + 0.000 + 0.060 + 0.016 + 0.060 + 0.015 + 0.000 + 0.016</span></div><div style=\"font-family:monaco; font-size:12px\">dL/dw1 = <span style=\"color:blue\">+0.047</span> + <span style=\"color:blue\">+0.000</span> + <span style=\"color:red\">-0.088</span> + <span style=\"color:red\">-0.088</span> + <span style=\"color:red\">-0.088</span> + <span style=\"color:blue\">+0.045</span> + <span style=\"color:blue\">+0.000</span> + <span style=\"color:blue\">+0.049</span> = <span style=\"color:red; text-decoration:underline\">-0.123</span></div><div style=\"font-family:monaco; font-size:12px\">dL/dw2 = <span style=\"color:blue\">+0.047</span> + <span style=\"color:blue\">+0.000</span> + <span style=\"color:blue\">-0.000</span> + <span style=\"color:red\">-0.045</span> + <span style=\"color:blue\">-0.000</span> + <span style=\"color:blue\">+0.045</span> + <span style=\"color:blue\">+0.000</span> + <span style=\"color:blue\">+0.049</span> = <span style=\"color:blue; text-decoration:underline\">+0.096</span></div><div style=\"font-family:monaco; font-size:12px\">dL/dw4 = <span style=\"color:blue\">+0.058</span> + <span style=\"color:blue\">+0.000</span> + <span style=\"color:red\">-0.082</span> + <span style=\"color:red\">-0.095</span> + <span style=\"color:red\">-0.082</span> + <span style=\"color:blue\">+0.057</span> + <span style=\"color:red\">-0.000</span> + <span style=\"color:blue\">+0.059</span> = <span style=\"color:red; text-decoration:underline\">-0.086</span></div><div style=\"font-family:monaco; font-size:12px\">dL/dw5 = <span style=\"color:blue\">+0.058</span> + <span style=\"color:blue\">+0.000</span> + <span style=\"color:blue\">-0.000</span> + <span style=\"color:red\">-0.055</span> + <span style=\"color:blue\">-0.000</span> + <span style=\"color:blue\">+0.000</span> + <span style=\"color:blue\">+0.001</span> + <span style=\"color:blue\">+0.118</span> = <span style=\"color:blue; text-decoration:underline\">+0.122</span></div>"
      ],
      "text/plain": [
       "<IPython.core.display.Markdown object>"
      ]
     },
     "metadata": {},
     "output_type": "display_data"
    },
    {
     "name": "stdout",
     "output_type": "stream",
     "text": [
      "w1=+0.501, w2=+0.161, w3=+1.000, w4=+0.534, w5=-0.001\n",
      "\n"
     ]
    },
    {
     "data": {
      "text/markdown": [
       "**Iteration 19**"
      ],
      "text/plain": [
       "<IPython.core.display.Markdown object>"
      ]
     },
     "metadata": {},
     "output_type": "display_data"
    },
    {
     "name": "stdout",
     "output_type": "stream",
     "text": [
      "Output: [+0.587, +0.500, +0.566, +0.650, +0.566, +0.587, +0.500, +0.413]\n",
      "Target: [+0.500, +0.500, +0.731, +0.731, +0.731, +0.500, +0.500, +0.500]\n",
      "Memory: [+0.353, +0.000, +0.267, +0.620, +0.267, +0.353, +0.001, -0.352]\n",
      "Input : [+0.662, -0.662, +0.501, +0.662, -0.662, +0.161, -0.662, -0.662]\n",
      "Gate  : [+0.533, +0.533, +0.534, +0.533, +0.533, +0.534, +0.533, +0.533]\n"
     ]
    },
    {
     "data": {
      "text/markdown": [
       "<div>Loss: **0.17753** = <span style=\"font-family:monaco\">0.015 + 0.000 + 0.058 + 0.015 + 0.058 + 0.016 + 0.000 + 0.015</span></div><div style=\"font-family:monaco; font-size:12px\">dL/dw1 = <span style=\"color:blue\">+0.046</span> + <span style=\"color:blue\">+0.000</span> + <span style=\"color:red\">-0.088</span> + <span style=\"color:red\">-0.086</span> + <span style=\"color:red\">-0.088</span> + <span style=\"color:blue\">+0.047</span> + <span style=\"color:blue\">+0.000</span> + <span style=\"color:blue\">+0.046</span> = <span style=\"color:red; text-decoration:underline\">-0.123</span></div><div style=\"font-family:monaco; font-size:12px\">dL/dw2 = <span style=\"color:blue\">+0.046</span> + <span style=\"color:blue\">+0.000</span> + <span style=\"color:blue\">-0.000</span> + <span style=\"color:red\">-0.043</span> + <span style=\"color:blue\">-0.000</span> + <span style=\"color:blue\">+0.047</span> + <span style=\"color:blue\">+0.000</span> + <span style=\"color:blue\">+0.046</span> = <span style=\"color:blue; text-decoration:underline\">+0.096</span></div><div style=\"font-family:monaco; font-size:12px\">dL/dw4 = <span style=\"color:blue\">+0.058</span> + <span style=\"color:blue\">+0.000</span> + <span style=\"color:red\">-0.082</span> + <span style=\"color:red\">-0.094</span> + <span style=\"color:red\">-0.082</span> + <span style=\"color:blue\">+0.058</span> + <span style=\"color:blue\">+0.000</span> + <span style=\"color:blue\">+0.058</span> = <span style=\"color:red; text-decoration:underline\">-0.086</span></div><div style=\"font-family:monaco; font-size:12px\">dL/dw5 = <span style=\"color:blue\">+0.058</span> + <span style=\"color:blue\">+0.000</span> + <span style=\"color:blue\">-0.000</span> + <span style=\"color:red\">-0.054</span> + <span style=\"color:blue\">-0.000</span> + <span style=\"color:blue\">+0.000</span> + <span style=\"color:red\">-0.000</span> + <span style=\"color:blue\">+0.115</span> = <span style=\"color:blue; text-decoration:underline\">+0.119</span></div>"
      ],
      "text/plain": [
       "<IPython.core.display.Markdown object>"
      ]
     },
     "metadata": {},
     "output_type": "display_data"
    },
    {
     "name": "stdout",
     "output_type": "stream",
     "text": [
      "w1=+0.513, w2=+0.152, w3=+1.000, w4=+0.543, w5=-0.013\n",
      "\n"
     ]
    },
    {
     "data": {
      "text/markdown": [
       "**Iteration 20**"
      ],
      "text/plain": [
       "<IPython.core.display.Markdown object>"
      ]
     },
     "metadata": {},
     "output_type": "display_data"
    },
    {
     "name": "stdout",
     "output_type": "stream",
     "text": [
      "Output: [+0.587, +0.500, +0.569, +0.653, +0.569, +0.589, +0.502, +0.415]\n",
      "Target: [+0.500, +0.500, +0.731, +0.731, +0.731, +0.500, +0.500, +0.500]\n",
      "Memory: [+0.352, +0.000, +0.278, +0.630, +0.278, +0.361, +0.009, -0.343]\n",
      "Input : [+0.665, -0.665, +0.513, +0.665, -0.665, +0.152, -0.665, -0.665]\n",
      "Gate  : [+0.529, +0.529, +0.543, +0.529, +0.529, +0.543, +0.529, +0.529]\n"
     ]
    },
    {
     "data": {
      "text/markdown": [
       "<div>Loss: **0.17296** = <span style=\"font-family:monaco\">0.015 + 0.000 + 0.056 + 0.014 + 0.056 + 0.016 + 0.000 + 0.015</span></div><div style=\"font-family:monaco; font-size:12px\">dL/dw1 = <span style=\"color:blue\">+0.046</span> + <span style=\"color:blue\">+0.000</span> + <span style=\"color:red\">-0.088</span> + <span style=\"color:red\">-0.084</span> + <span style=\"color:red\">-0.088</span> + <span style=\"color:blue\">+0.048</span> + <span style=\"color:blue\">+0.000</span> + <span style=\"color:blue\">+0.044</span> = <span style=\"color:red; text-decoration:underline\">-0.122</span></div><div style=\"font-family:monaco; font-size:12px\">dL/dw2 = <span style=\"color:blue\">+0.046</span> + <span style=\"color:blue\">+0.000</span> + <span style=\"color:blue\">-0.000</span> + <span style=\"color:red\">-0.042</span> + <span style=\"color:blue\">-0.000</span> + <span style=\"color:blue\">+0.048</span> + <span style=\"color:blue\">+0.000</span> + <span style=\"color:blue\">+0.044</span> = <span style=\"color:blue; text-decoration:underline\">+0.097</span></div><div style=\"font-family:monaco; font-size:12px\">dL/dw4 = <span style=\"color:blue\">+0.058</span> + <span style=\"color:blue\">+0.000</span> + <span style=\"color:red\">-0.083</span> + <span style=\"color:red\">-0.092</span> + <span style=\"color:red\">-0.083</span> + <span style=\"color:blue\">+0.059</span> + <span style=\"color:blue\">+0.000</span> + <span style=\"color:blue\">+0.056</span> = <span style=\"color:red; text-decoration:underline\">-0.085</span></div><div style=\"font-family:monaco; font-size:12px\">dL/dw5 = <span style=\"color:blue\">+0.058</span> + <span style=\"color:blue\">+0.000</span> + <span style=\"color:blue\">-0.000</span> + <span style=\"color:red\">-0.052</span> + <span style=\"color:blue\">-0.000</span> + <span style=\"color:blue\">+0.000</span> + <span style=\"color:red\">-0.001</span> + <span style=\"color:blue\">+0.113</span> = <span style=\"color:blue; text-decoration:underline\">+0.117</span></div>"
      ],
      "text/plain": [
       "<IPython.core.display.Markdown object>"
      ]
     },
     "metadata": {},
     "output_type": "display_data"
    },
    {
     "name": "stdout",
     "output_type": "stream",
     "text": [
      "w1=+0.525, w2=+0.142, w3=+1.000, w4=+0.551, w5=-0.025\n",
      "\n"
     ]
    },
    {
     "data": {
      "text/markdown": [
       "**Iteration 21**"
      ],
      "text/plain": [
       "<IPython.core.display.Markdown object>"
      ]
     },
     "metadata": {},
     "output_type": "display_data"
    },
    {
     "name": "stdout",
     "output_type": "stream",
     "text": [
      "Output: [+0.587, +0.500, +0.572, +0.655, +0.572, +0.591, +0.504, +0.417]\n",
      "Target: [+0.500, +0.500, +0.731, +0.731, +0.731, +0.500, +0.500, +0.500]\n",
      "Memory: [+0.351, +0.000, +0.289, +0.640, +0.289, +0.368, +0.017, -0.334]\n",
      "Input : [+0.667, -0.667, +0.525, +0.667, -0.667, +0.142, -0.667, -0.667]\n",
      "Gate  : [+0.526, +0.526, +0.551, +0.526, +0.526, +0.551, +0.526, +0.526]\n"
     ]
    },
    {
     "data": {
      "text/markdown": [
       "<div>Loss: **0.16847** = <span style=\"font-family:monaco\">0.015 + 0.000 + 0.055 + 0.013 + 0.055 + 0.017 + 0.000 + 0.014</span></div><div style=\"font-family:monaco; font-size:12px\">dL/dw1 = <span style=\"color:blue\">+0.046</span> + <span style=\"color:blue\">+0.000</span> + <span style=\"color:red\">-0.088</span> + <span style=\"color:red\">-0.082</span> + <span style=\"color:red\">-0.088</span> + <span style=\"color:blue\">+0.050</span> + <span style=\"color:blue\">+0.000</span> + <span style=\"color:blue\">+0.042</span> = <span style=\"color:red; text-decoration:underline\">-0.120</span></div><div style=\"font-family:monaco; font-size:12px\">dL/dw2 = <span style=\"color:blue\">+0.046</span> + <span style=\"color:blue\">+0.000</span> + <span style=\"color:blue\">-0.000</span> + <span style=\"color:red\">-0.040</span> + <span style=\"color:blue\">-0.000</span> + <span style=\"color:blue\">+0.050</span> + <span style=\"color:blue\">+0.000</span> + <span style=\"color:blue\">+0.042</span> = <span style=\"color:blue; text-decoration:underline\">+0.097</span></div><div style=\"font-family:monaco; font-size:12px\">dL/dw4 = <span style=\"color:blue\">+0.058</span> + <span style=\"color:blue\">+0.000</span> + <span style=\"color:red\">-0.084</span> + <span style=\"color:red\">-0.091</span> + <span style=\"color:red\">-0.084</span> + <span style=\"color:blue\">+0.061</span> + <span style=\"color:blue\">+0.000</span> + <span style=\"color:blue\">+0.055</span> = <span style=\"color:red; text-decoration:underline\">-0.084</span></div><div style=\"font-family:monaco; font-size:12px\">dL/dw5 = <span style=\"color:blue\">+0.058</span> + <span style=\"color:blue\">+0.000</span> + <span style=\"color:blue\">-0.000</span> + <span style=\"color:red\">-0.051</span> + <span style=\"color:blue\">-0.000</span> + <span style=\"color:blue\">+0.000</span> + <span style=\"color:red\">-0.003</span> + <span style=\"color:blue\">+0.110</span> = <span style=\"color:blue; text-decoration:underline\">+0.115</span></div>"
      ],
      "text/plain": [
       "<IPython.core.display.Markdown object>"
      ]
     },
     "metadata": {},
     "output_type": "display_data"
    },
    {
     "name": "stdout",
     "output_type": "stream",
     "text": [
      "w1=+0.537, w2=+0.132, w3=+1.000, w4=+0.559, w5=-0.036\n",
      "\n"
     ]
    },
    {
     "data": {
      "text/markdown": [
       "**Iteration 22**"
      ],
      "text/plain": [
       "<IPython.core.display.Markdown object>"
      ]
     },
     "metadata": {},
     "output_type": "display_data"
    },
    {
     "name": "stdout",
     "output_type": "stream",
     "text": [
      "Output: [+0.587, +0.500, +0.575, +0.657, +0.575, +0.593, +0.506, +0.419]\n",
      "Target: [+0.500, +0.500, +0.731, +0.731, +0.731, +0.500, +0.500, +0.500]\n",
      "Memory: [+0.350, +0.000, +0.301, +0.651, +0.301, +0.374, +0.024, -0.326]\n",
      "Input : [+0.669, -0.669, +0.537, +0.669, -0.669, +0.132, -0.669, -0.669]\n",
      "Gate  : [+0.523, +0.523, +0.559, +0.523, +0.523, +0.559, +0.523, +0.523]\n"
     ]
    },
    {
     "data": {
      "text/markdown": [
       "<div>Loss: **0.16408** = <span style=\"font-family:monaco\">0.015 + 0.000 + 0.053 + 0.013 + 0.053 + 0.017 + 0.000 + 0.013</span></div><div style=\"font-family:monaco; font-size:12px\">dL/dw1 = <span style=\"color:blue\">+0.045</span> + <span style=\"color:blue\">+0.000</span> + <span style=\"color:red\">-0.088</span> + <span style=\"color:red\">-0.080</span> + <span style=\"color:red\">-0.088</span> + <span style=\"color:blue\">+0.052</span> + <span style=\"color:blue\">+0.000</span> + <span style=\"color:blue\">+0.039</span> = <span style=\"color:red; text-decoration:underline\">-0.118</span></div><div style=\"font-family:monaco; font-size:12px\">dL/dw2 = <span style=\"color:blue\">+0.045</span> + <span style=\"color:blue\">+0.000</span> + <span style=\"color:blue\">-0.000</span> + <span style=\"color:red\">-0.039</span> + <span style=\"color:blue\">-0.000</span> + <span style=\"color:blue\">+0.052</span> + <span style=\"color:blue\">+0.000</span> + <span style=\"color:blue\">+0.039</span> = <span style=\"color:blue; text-decoration:underline\">+0.098</span></div><div style=\"font-family:monaco; font-size:12px\">dL/dw4 = <span style=\"color:blue\">+0.058</span> + <span style=\"color:blue\">+0.000</span> + <span style=\"color:red\">-0.084</span> + <span style=\"color:red\">-0.089</span> + <span style=\"color:red\">-0.084</span> + <span style=\"color:blue\">+0.062</span> + <span style=\"color:red\">-0.000</span> + <span style=\"color:blue\">+0.054</span> = <span style=\"color:red; text-decoration:underline\">-0.083</span></div><div style=\"font-family:monaco; font-size:12px\">dL/dw5 = <span style=\"color:blue\">+0.058</span> + <span style=\"color:blue\">+0.000</span> + <span style=\"color:blue\">-0.000</span> + <span style=\"color:red\">-0.049</span> + <span style=\"color:blue\">-0.000</span> + <span style=\"color:blue\">+0.000</span> + <span style=\"color:red\">-0.004</span> + <span style=\"color:blue\">+0.108</span> = <span style=\"color:blue; text-decoration:underline\">+0.113</span></div>"
      ],
      "text/plain": [
       "<IPython.core.display.Markdown object>"
      ]
     },
     "metadata": {},
     "output_type": "display_data"
    },
    {
     "name": "stdout",
     "output_type": "stream",
     "text": [
      "w1=+0.549, w2=+0.122, w3=+1.000, w4=+0.568, w5=-0.048\n",
      "\n"
     ]
    },
    {
     "data": {
      "text/markdown": [
       "**Iteration 23**"
      ],
      "text/plain": [
       "<IPython.core.display.Markdown object>"
      ]
     },
     "metadata": {},
     "output_type": "display_data"
    },
    {
     "name": "stdout",
     "output_type": "stream",
     "text": [
      "Output: [+0.586, +0.500, +0.577, +0.659, +0.577, +0.594, +0.508, +0.421]\n",
      "Target: [+0.500, +0.500, +0.731, +0.731, +0.731, +0.500, +0.500, +0.500]\n",
      "Memory: [+0.349, +0.000, +0.312, +0.661, +0.312, +0.381, +0.032, -0.317]\n",
      "Input : [+0.671, -0.671, +0.549, +0.671, -0.671, +0.122, -0.671, -0.671]\n",
      "Gate  : [+0.520, +0.520, +0.568, +0.520, +0.520, +0.568, +0.520, +0.520]\n"
     ]
    },
    {
     "data": {
      "text/markdown": [
       "<div>Loss: **0.15978** = <span style=\"font-family:monaco\">0.015 + 0.000 + 0.051 + 0.012 + 0.051 + 0.018 + 0.000 + 0.013</span></div><div style=\"font-family:monaco; font-size:12px\">dL/dw1 = <span style=\"color:blue\">+0.045</span> + <span style=\"color:blue\">+0.000</span> + <span style=\"color:red\">-0.087</span> + <span style=\"color:red\">-0.078</span> + <span style=\"color:red\">-0.087</span> + <span style=\"color:blue\">+0.053</span> + <span style=\"color:blue\">+0.000</span> + <span style=\"color:blue\">+0.037</span> = <span style=\"color:red; text-decoration:underline\">-0.116</span></div><div style=\"font-family:monaco; font-size:12px\">dL/dw2 = <span style=\"color:blue\">+0.045</span> + <span style=\"color:blue\">+0.000</span> + <span style=\"color:blue\">-0.000</span> + <span style=\"color:red\">-0.037</span> + <span style=\"color:blue\">-0.000</span> + <span style=\"color:blue\">+0.053</span> + <span style=\"color:blue\">+0.000</span> + <span style=\"color:blue\">+0.037</span> = <span style=\"color:blue; text-decoration:underline\">+0.099</span></div><div style=\"font-family:monaco; font-size:12px\">dL/dw4 = <span style=\"color:blue\">+0.058</span> + <span style=\"color:blue\">+0.000</span> + <span style=\"color:red\">-0.084</span> + <span style=\"color:red\">-0.087</span> + <span style=\"color:red\">-0.084</span> + <span style=\"color:blue\">+0.063</span> + <span style=\"color:blue\">+0.000</span> + <span style=\"color:blue\">+0.053</span> = <span style=\"color:red; text-decoration:underline\">-0.082</span></div><div style=\"font-family:monaco; font-size:12px\">dL/dw5 = <span style=\"color:blue\">+0.058</span> + <span style=\"color:blue\">+0.000</span> + <span style=\"color:blue\">-0.000</span> + <span style=\"color:red\">-0.048</span> + <span style=\"color:blue\">-0.000</span> + <span style=\"color:blue\">+0.000</span> + <span style=\"color:red\">-0.005</span> + <span style=\"color:blue\">+0.106</span> = <span style=\"color:blue; text-decoration:underline\">+0.110</span></div>"
      ],
      "text/plain": [
       "<IPython.core.display.Markdown object>"
      ]
     },
     "metadata": {},
     "output_type": "display_data"
    },
    {
     "name": "stdout",
     "output_type": "stream",
     "text": [
      "w1=+0.561, w2=+0.112, w3=+1.000, w4=+0.576, w5=-0.059\n",
      "\n"
     ]
    },
    {
     "data": {
      "text/markdown": [
       "**Iteration 24**"
      ],
      "text/plain": [
       "<IPython.core.display.Markdown object>"
      ]
     },
     "metadata": {},
     "output_type": "display_data"
    },
    {
     "name": "stdout",
     "output_type": "stream",
     "text": [
      "Output: [+0.586, +0.500, +0.580, +0.662, +0.580, +0.596, +0.510, +0.423]\n",
      "Target: [+0.500, +0.500, +0.731, +0.731, +0.731, +0.500, +0.500, +0.500]\n",
      "Memory: [+0.348, +0.000, +0.323, +0.671, +0.323, +0.388, +0.039, -0.309]\n",
      "Input : [+0.673, -0.673, +0.561, +0.673, -0.673, +0.112, -0.673, -0.673]\n",
      "Gate  : [+0.517, +0.517, +0.576, +0.517, +0.517, +0.576, +0.517, +0.517]\n"
     ]
    },
    {
     "data": {
      "text/markdown": [
       "<div>Loss: **0.15558** = <span style=\"font-family:monaco\">0.015 + 0.000 + 0.049 + 0.011 + 0.049 + 0.019 + 0.000 + 0.012</span></div><div style=\"font-family:monaco; font-size:12px\">dL/dw1 = <span style=\"color:blue\">+0.045</span> + <span style=\"color:blue\">+0.000</span> + <span style=\"color:red\">-0.087</span> + <span style=\"color:red\">-0.076</span> + <span style=\"color:red\">-0.087</span> + <span style=\"color:blue\">+0.055</span> + <span style=\"color:blue\">+0.001</span> + <span style=\"color:blue\">+0.035</span> = <span style=\"color:red; text-decoration:underline\">-0.114</span></div><div style=\"font-family:monaco; font-size:12px\">dL/dw2 = <span style=\"color:blue\">+0.045</span> + <span style=\"color:blue\">+0.000</span> + <span style=\"color:blue\">-0.000</span> + <span style=\"color:red\">-0.036</span> + <span style=\"color:blue\">-0.000</span> + <span style=\"color:blue\">+0.055</span> + <span style=\"color:blue\">+0.001</span> + <span style=\"color:blue\">+0.035</span> = <span style=\"color:blue; text-decoration:underline\">+0.100</span></div><div style=\"font-family:monaco; font-size:12px\">dL/dw4 = <span style=\"color:blue\">+0.058</span> + <span style=\"color:blue\">+0.000</span> + <span style=\"color:red\">-0.085</span> + <span style=\"color:red\">-0.085</span> + <span style=\"color:red\">-0.085</span> + <span style=\"color:blue\">+0.064</span> + <span style=\"color:blue\">+0.000</span> + <span style=\"color:blue\">+0.052</span> = <span style=\"color:red; text-decoration:underline\">-0.081</span></div><div style=\"font-family:monaco; font-size:12px\">dL/dw5 = <span style=\"color:blue\">+0.058</span> + <span style=\"color:blue\">+0.000</span> + <span style=\"color:blue\">-0.000</span> + <span style=\"color:red\">-0.047</span> + <span style=\"color:blue\">-0.000</span> + <span style=\"color:blue\">+0.000</span> + <span style=\"color:red\">-0.007</span> + <span style=\"color:blue\">+0.103</span> = <span style=\"color:blue; text-decoration:underline\">+0.108</span></div>"
      ],
      "text/plain": [
       "<IPython.core.display.Markdown object>"
      ]
     },
     "metadata": {},
     "output_type": "display_data"
    },
    {
     "name": "stdout",
     "output_type": "stream",
     "text": [
      "w1=+0.572, w2=+0.103, w3=+1.000, w4=+0.584, w5=-0.069\n",
      "\n"
     ]
    },
    {
     "data": {
      "text/markdown": [
       "**Iteration 25**"
      ],
      "text/plain": [
       "<IPython.core.display.Markdown object>"
      ]
     },
     "metadata": {},
     "output_type": "display_data"
    },
    {
     "name": "stdout",
     "output_type": "stream",
     "text": [
      "Output: [+0.586, +0.500, +0.583, +0.664, +0.583, +0.597, +0.512, +0.425]\n",
      "Target: [+0.500, +0.500, +0.731, +0.731, +0.731, +0.500, +0.500, +0.500]\n",
      "Memory: [+0.347, +0.000, +0.334, +0.681, +0.334, +0.394, +0.047, -0.300]\n",
      "Input : [+0.675, -0.675, +0.572, +0.675, -0.675, +0.103, -0.675, -0.675]\n",
      "Gate  : [+0.515, +0.515, +0.584, +0.515, +0.515, +0.584, +0.515, +0.515]\n"
     ]
    },
    {
     "data": {
      "text/markdown": [
       "<div>Loss: **0.15150** = <span style=\"font-family:monaco\">0.015 + 0.000 + 0.048 + 0.010 + 0.048 + 0.019 + 0.000 + 0.011</span></div><div style=\"font-family:monaco; font-size:12px\">dL/dw1 = <span style=\"color:blue\">+0.044</span> + <span style=\"color:blue\">+0.000</span> + <span style=\"color:red\">-0.087</span> + <span style=\"color:red\">-0.074</span> + <span style=\"color:red\">-0.087</span> + <span style=\"color:blue\">+0.057</span> + <span style=\"color:blue\">+0.001</span> + <span style=\"color:blue\">+0.033</span> = <span style=\"color:red; text-decoration:underline\">-0.112</span></div><div style=\"font-family:monaco; font-size:12px\">dL/dw2 = <span style=\"color:blue\">+0.044</span> + <span style=\"color:blue\">+0.000</span> + <span style=\"color:blue\">-0.000</span> + <span style=\"color:red\">-0.034</span> + <span style=\"color:blue\">-0.000</span> + <span style=\"color:blue\">+0.057</span> + <span style=\"color:blue\">+0.001</span> + <span style=\"color:blue\">+0.033</span> = <span style=\"color:blue; text-decoration:underline\">+0.101</span></div><div style=\"font-family:monaco; font-size:12px\">dL/dw4 = <span style=\"color:blue\">+0.058</span> + <span style=\"color:blue\">+0.000</span> + <span style=\"color:red\">-0.085</span> + <span style=\"color:red\">-0.084</span> + <span style=\"color:red\">-0.085</span> + <span style=\"color:blue\">+0.066</span> + <span style=\"color:blue\">+0.000</span> + <span style=\"color:blue\">+0.050</span> = <span style=\"color:red; text-decoration:underline\">-0.079</span></div><div style=\"font-family:monaco; font-size:12px\">dL/dw5 = <span style=\"color:blue\">+0.058</span> + <span style=\"color:blue\">+0.000</span> + <span style=\"color:blue\">-0.000</span> + <span style=\"color:red\">-0.045</span> + <span style=\"color:blue\">-0.000</span> + <span style=\"color:blue\">+0.000</span> + <span style=\"color:red\">-0.008</span> + <span style=\"color:blue\">+0.101</span> = <span style=\"color:blue; text-decoration:underline\">+0.105</span></div>"
      ],
      "text/plain": [
       "<IPython.core.display.Markdown object>"
      ]
     },
     "metadata": {},
     "output_type": "display_data"
    },
    {
     "name": "stdout",
     "output_type": "stream",
     "text": [
      "w1=+0.583, w2=+0.092, w3=+1.000, w4=+0.592, w5=-0.080\n",
      "\n"
     ]
    },
    {
     "data": {
      "text/markdown": [
       "**Iteration 26**"
      ],
      "text/plain": [
       "<IPython.core.display.Markdown object>"
      ]
     },
     "metadata": {},
     "output_type": "display_data"
    },
    {
     "name": "stdout",
     "output_type": "stream",
     "text": [
      "Output: [+0.586, +0.500, +0.585, +0.666, +0.585, +0.599, +0.514, +0.428]\n",
      "Target: [+0.500, +0.500, +0.731, +0.731, +0.731, +0.500, +0.500, +0.500]\n",
      "Memory: [+0.346, +0.000, +0.345, +0.691, +0.345, +0.400, +0.054, -0.292]\n",
      "Input : [+0.676, -0.676, +0.583, +0.676, -0.676, +0.092, -0.676, -0.676]\n",
      "Gate  : [+0.512, +0.512, +0.592, +0.512, +0.512, +0.592, +0.512, +0.512]\n"
     ]
    },
    {
     "data": {
      "text/markdown": [
       "<div>Loss: **0.14752** = <span style=\"font-family:monaco\">0.015 + 0.000 + 0.046 + 0.010 + 0.046 + 0.020 + 0.000 + 0.011</span></div><div style=\"font-family:monaco; font-size:12px\">dL/dw1 = <span style=\"color:blue\">+0.044</span> + <span style=\"color:blue\">+0.000</span> + <span style=\"color:red\">-0.086</span> + <span style=\"color:red\">-0.072</span> + <span style=\"color:red\">-0.086</span> + <span style=\"color:blue\">+0.058</span> + <span style=\"color:blue\">+0.001</span> + <span style=\"color:blue\">+0.031</span> = <span style=\"color:red; text-decoration:underline\">-0.109</span></div><div style=\"font-family:monaco; font-size:12px\">dL/dw2 = <span style=\"color:blue\">+0.044</span> + <span style=\"color:blue\">+0.000</span> + <span style=\"color:blue\">-0.000</span> + <span style=\"color:red\">-0.033</span> + <span style=\"color:blue\">-0.000</span> + <span style=\"color:blue\">+0.058</span> + <span style=\"color:blue\">+0.001</span> + <span style=\"color:blue\">+0.031</span> = <span style=\"color:blue; text-decoration:underline\">+0.102</span></div><div style=\"font-family:monaco; font-size:12px\">dL/dw4 = <span style=\"color:blue\">+0.058</span> + <span style=\"color:blue\">+0.000</span> + <span style=\"color:red\">-0.085</span> + <span style=\"color:red\">-0.082</span> + <span style=\"color:red\">-0.085</span> + <span style=\"color:blue\">+0.067</span> + <span style=\"color:blue\">+0.000</span> + <span style=\"color:blue\">+0.049</span> = <span style=\"color:red; text-decoration:underline\">-0.078</span></div><div style=\"font-family:monaco; font-size:12px\">dL/dw5 = <span style=\"color:blue\">+0.058</span> + <span style=\"color:blue\">+0.000</span> + <span style=\"color:blue\">-0.000</span> + <span style=\"color:red\">-0.044</span> + <span style=\"color:blue\">-0.000</span> + <span style=\"color:blue\">+0.000</span> + <span style=\"color:red\">-0.009</span> + <span style=\"color:blue\">+0.098</span> = <span style=\"color:blue; text-decoration:underline\">+0.103</span></div>"
      ],
      "text/plain": [
       "<IPython.core.display.Markdown object>"
      ]
     },
     "metadata": {},
     "output_type": "display_data"
    },
    {
     "name": "stdout",
     "output_type": "stream",
     "text": [
      "w1=+0.594, w2=+0.082, w3=+1.000, w4=+0.600, w5=-0.090\n",
      "\n"
     ]
    },
    {
     "data": {
      "text/markdown": [
       "**Iteration 27**"
      ],
      "text/plain": [
       "<IPython.core.display.Markdown object>"
      ]
     },
     "metadata": {},
     "output_type": "display_data"
    },
    {
     "name": "stdout",
     "output_type": "stream",
     "text": [
      "Output: [+0.585, +0.500, +0.588, +0.668, +0.588, +0.600, +0.515, +0.430]\n",
      "Target: [+0.500, +0.500, +0.731, +0.731, +0.731, +0.500, +0.500, +0.500]\n",
      "Memory: [+0.345, +0.000, +0.356, +0.701, +0.356, +0.406, +0.061, -0.284]\n",
      "Input : [+0.676, -0.676, +0.594, +0.676, -0.676, +0.082, -0.676, -0.676]\n",
      "Gate  : [+0.510, +0.510, +0.600, +0.510, +0.510, +0.600, +0.510, +0.510]\n"
     ]
    },
    {
     "data": {
      "text/markdown": [
       "<div>Loss: **0.14366** = <span style=\"font-family:monaco\">0.015 + 0.000 + 0.044 + 0.009 + 0.044 + 0.020 + 0.000 + 0.010</span></div><div style=\"font-family:monaco; font-size:12px\">dL/dw1 = <span style=\"color:blue\">+0.043</span> + <span style=\"color:blue\">+0.000</span> + <span style=\"color:red\">-0.086</span> + <span style=\"color:red\">-0.069</span> + <span style=\"color:red\">-0.086</span> + <span style=\"color:blue\">+0.060</span> + <span style=\"color:blue\">+0.001</span> + <span style=\"color:blue\">+0.030</span> = <span style=\"color:red; text-decoration:underline\">-0.106</span></div><div style=\"font-family:monaco; font-size:12px\">dL/dw2 = <span style=\"color:blue\">+0.043</span> + <span style=\"color:blue\">+0.000</span> + <span style=\"color:blue\">-0.000</span> + <span style=\"color:red\">-0.032</span> + <span style=\"color:blue\">-0.000</span> + <span style=\"color:blue\">+0.060</span> + <span style=\"color:blue\">+0.001</span> + <span style=\"color:blue\">+0.030</span> = <span style=\"color:blue; text-decoration:underline\">+0.103</span></div><div style=\"font-family:monaco; font-size:12px\">dL/dw4 = <span style=\"color:blue\">+0.058</span> + <span style=\"color:blue\">+0.000</span> + <span style=\"color:red\">-0.085</span> + <span style=\"color:red\">-0.080</span> + <span style=\"color:red\">-0.085</span> + <span style=\"color:blue\">+0.068</span> + <span style=\"color:red\">-0.000</span> + <span style=\"color:blue\">+0.048</span> = <span style=\"color:red; text-decoration:underline\">-0.076</span></div><div style=\"font-family:monaco; font-size:12px\">dL/dw5 = <span style=\"color:blue\">+0.058</span> + <span style=\"color:blue\">+0.000</span> + <span style=\"color:blue\">-0.000</span> + <span style=\"color:red\">-0.042</span> + <span style=\"color:blue\">-0.000</span> + <span style=\"color:blue\">+0.000</span> + <span style=\"color:red\">-0.010</span> + <span style=\"color:blue\">+0.095</span> = <span style=\"color:blue; text-decoration:underline\">+0.100</span></div>"
      ],
      "text/plain": [
       "<IPython.core.display.Markdown object>"
      ]
     },
     "metadata": {},
     "output_type": "display_data"
    },
    {
     "name": "stdout",
     "output_type": "stream",
     "text": [
      "w1=+0.605, w2=+0.072, w3=+1.000, w4=+0.607, w5=-0.100\n",
      "\n"
     ]
    },
    {
     "data": {
      "text/markdown": [
       "**Iteration 28**"
      ],
      "text/plain": [
       "<IPython.core.display.Markdown object>"
      ]
     },
     "metadata": {},
     "output_type": "display_data"
    },
    {
     "name": "stdout",
     "output_type": "stream",
     "text": [
      "Output: [+0.585, +0.500, +0.591, +0.671, +0.591, +0.601, +0.517, +0.432]\n",
      "Target: [+0.500, +0.500, +0.731, +0.731, +0.731, +0.500, +0.500, +0.500]\n",
      "Memory: [+0.343, +0.000, +0.367, +0.711, +0.367, +0.411, +0.068, -0.275]\n",
      "Input : [+0.677, -0.677, +0.605, +0.677, -0.677, +0.072, -0.677, -0.677]\n",
      "Gate  : [+0.507, +0.507, +0.607, +0.507, +0.507, +0.607, +0.507, +0.507]\n"
     ]
    },
    {
     "data": {
      "text/markdown": [
       "<div>Loss: **0.13992** = <span style=\"font-family:monaco\">0.015 + 0.000 + 0.043 + 0.009 + 0.043 + 0.021 + 0.001 + 0.009</span></div><div style=\"font-family:monaco; font-size:12px\">dL/dw1 = <span style=\"color:blue\">+0.043</span> + <span style=\"color:blue\">+0.000</span> + <span style=\"color:red\">-0.085</span> + <span style=\"color:red\">-0.067</span> + <span style=\"color:red\">-0.085</span> + <span style=\"color:blue\">+0.062</span> + <span style=\"color:blue\">+0.002</span> + <span style=\"color:blue\">+0.028</span> = <span style=\"color:red; text-decoration:underline\">-0.104</span></div><div style=\"font-family:monaco; font-size:12px\">dL/dw2 = <span style=\"color:blue\">+0.043</span> + <span style=\"color:blue\">+0.000</span> + <span style=\"color:blue\">-0.000</span> + <span style=\"color:red\">-0.031</span> + <span style=\"color:blue\">-0.000</span> + <span style=\"color:blue\">+0.062</span> + <span style=\"color:blue\">+0.002</span> + <span style=\"color:blue\">+0.028</span> = <span style=\"color:blue; text-decoration:underline\">+0.104</span></div><div style=\"font-family:monaco; font-size:12px\">dL/dw4 = <span style=\"color:blue\">+0.058</span> + <span style=\"color:blue\">+0.000</span> + <span style=\"color:red\">-0.085</span> + <span style=\"color:red\">-0.078</span> + <span style=\"color:red\">-0.085</span> + <span style=\"color:blue\">+0.069</span> + <span style=\"color:blue\">+0.000</span> + <span style=\"color:blue\">+0.046</span> = <span style=\"color:red; text-decoration:underline\">-0.075</span></div><div style=\"font-family:monaco; font-size:12px\">dL/dw5 = <span style=\"color:blue\">+0.058</span> + <span style=\"color:blue\">+0.000</span> + <span style=\"color:blue\">-0.000</span> + <span style=\"color:red\">-0.041</span> + <span style=\"color:blue\">-0.000</span> + <span style=\"color:blue\">+0.000</span> + <span style=\"color:red\">-0.011</span> + <span style=\"color:blue\">+0.093</span> = <span style=\"color:blue; text-decoration:underline\">+0.098</span></div>"
      ],
      "text/plain": [
       "<IPython.core.display.Markdown object>"
      ]
     },
     "metadata": {},
     "output_type": "display_data"
    },
    {
     "name": "stdout",
     "output_type": "stream",
     "text": [
      "w1=+0.615, w2=+0.062, w3=+1.000, w4=+0.615, w5=-0.110\n",
      "\n"
     ]
    },
    {
     "data": {
      "text/markdown": [
       "**Iteration 29**"
      ],
      "text/plain": [
       "<IPython.core.display.Markdown object>"
      ]
     },
     "metadata": {},
     "output_type": "display_data"
    },
    {
     "name": "stdout",
     "output_type": "stream",
     "text": [
      "Output: [+0.585, +0.500, +0.593, +0.673, +0.593, +0.603, +0.519, +0.434]\n",
      "Target: [+0.500, +0.500, +0.731, +0.731, +0.731, +0.500, +0.500, +0.500]\n",
      "Memory: [+0.342, +0.000, +0.378, +0.720, +0.378, +0.416, +0.074, -0.267]\n",
      "Input : [+0.677, -0.677, +0.615, +0.677, -0.677, +0.062, -0.677, -0.677]\n",
      "Gate  : [+0.505, +0.505, +0.615, +0.505, +0.505, +0.615, +0.505, +0.505]\n"
     ]
    },
    {
     "data": {
      "text/markdown": [
       "<div>Loss: **0.13629** = <span style=\"font-family:monaco\">0.015 + 0.000 + 0.041 + 0.008 + 0.041 + 0.022 + 0.001 + 0.009</span></div><div style=\"font-family:monaco; font-size:12px\">dL/dw1 = <span style=\"color:blue\">+0.043</span> + <span style=\"color:blue\">+0.000</span> + <span style=\"color:red\">-0.085</span> + <span style=\"color:red\">-0.065</span> + <span style=\"color:red\">-0.085</span> + <span style=\"color:blue\">+0.063</span> + <span style=\"color:blue\">+0.002</span> + <span style=\"color:blue\">+0.026</span> = <span style=\"color:red; text-decoration:underline\">-0.101</span></div><div style=\"font-family:monaco; font-size:12px\">dL/dw2 = <span style=\"color:blue\">+0.043</span> + <span style=\"color:blue\">+0.000</span> + <span style=\"color:blue\">-0.000</span> + <span style=\"color:red\">-0.030</span> + <span style=\"color:blue\">-0.000</span> + <span style=\"color:blue\">+0.063</span> + <span style=\"color:blue\">+0.002</span> + <span style=\"color:blue\">+0.026</span> = <span style=\"color:blue; text-decoration:underline\">+0.105</span></div><div style=\"font-family:monaco; font-size:12px\">dL/dw4 = <span style=\"color:blue\">+0.057</span> + <span style=\"color:blue\">+0.000</span> + <span style=\"color:red\">-0.085</span> + <span style=\"color:red\">-0.076</span> + <span style=\"color:red\">-0.085</span> + <span style=\"color:blue\">+0.069</span> + <span style=\"color:red\">-0.000</span> + <span style=\"color:blue\">+0.045</span> = <span style=\"color:red; text-decoration:underline\">-0.073</span></div><div style=\"font-family:monaco; font-size:12px\">dL/dw5 = <span style=\"color:blue\">+0.057</span> + <span style=\"color:blue\">+0.000</span> + <span style=\"color:blue\">-0.000</span> + <span style=\"color:red\">-0.040</span> + <span style=\"color:blue\">-0.000</span> + <span style=\"color:blue\">+0.000</span> + <span style=\"color:red\">-0.013</span> + <span style=\"color:blue\">+0.090</span> = <span style=\"color:blue; text-decoration:underline\">+0.095</span></div>"
      ],
      "text/plain": [
       "<IPython.core.display.Markdown object>"
      ]
     },
     "metadata": {},
     "output_type": "display_data"
    },
    {
     "name": "stdout",
     "output_type": "stream",
     "text": [
      "w1=+0.625, w2=+0.051, w3=+1.000, w4=+0.622, w5=-0.120\n",
      "\n"
     ]
    },
    {
     "data": {
      "text/markdown": [
       "**Iteration 30**"
      ],
      "text/plain": [
       "<IPython.core.display.Markdown object>"
      ]
     },
     "metadata": {},
     "output_type": "display_data"
    },
    {
     "name": "stdout",
     "output_type": "stream",
     "text": [
      "Output: [+0.584, +0.500, +0.596, +0.675, +0.596, +0.604, +0.520, +0.436]\n",
      "Target: [+0.500, +0.500, +0.731, +0.731, +0.731, +0.500, +0.500, +0.500]\n",
      "Memory: [+0.340, +0.000, +0.389, +0.729, +0.389, +0.421, +0.081, -0.259]\n",
      "Input : [+0.676, -0.676, +0.625, +0.676, -0.676, +0.051, -0.676, -0.676]\n",
      "Gate  : [+0.503, +0.503, +0.622, +0.503, +0.503, +0.622, +0.503, +0.503]\n"
     ]
    },
    {
     "data": {
      "text/markdown": [
       "<div>Loss: **0.13277** = <span style=\"font-family:monaco\">0.014 + 0.000 + 0.040 + 0.008 + 0.040 + 0.022 + 0.001 + 0.008</span></div><div style=\"font-family:monaco; font-size:12px\">dL/dw1 = <span style=\"color:blue\">+0.042</span> + <span style=\"color:blue\">+0.000</span> + <span style=\"color:red\">-0.084</span> + <span style=\"color:red\">-0.064</span> + <span style=\"color:red\">-0.084</span> + <span style=\"color:blue\">+0.065</span> + <span style=\"color:blue\">+0.002</span> + <span style=\"color:blue\">+0.025</span> = <span style=\"color:red; text-decoration:underline\">-0.098</span></div><div style=\"font-family:monaco; font-size:12px\">dL/dw2 = <span style=\"color:blue\">+0.042</span> + <span style=\"color:blue\">+0.000</span> + <span style=\"color:blue\">-0.000</span> + <span style=\"color:red\">-0.028</span> + <span style=\"color:blue\">-0.000</span> + <span style=\"color:blue\">+0.065</span> + <span style=\"color:blue\">+0.002</span> + <span style=\"color:blue\">+0.025</span> = <span style=\"color:blue; text-decoration:underline\">+0.106</span></div><div style=\"font-family:monaco; font-size:12px\">dL/dw4 = <span style=\"color:blue\">+0.057</span> + <span style=\"color:blue\">+0.000</span> + <span style=\"color:red\">-0.084</span> + <span style=\"color:red\">-0.073</span> + <span style=\"color:red\">-0.084</span> + <span style=\"color:blue\">+0.070</span> + <span style=\"color:blue\">+0.000</span> + <span style=\"color:blue\">+0.044</span> = <span style=\"color:red; text-decoration:underline\">-0.072</span></div><div style=\"font-family:monaco; font-size:12px\">dL/dw5 = <span style=\"color:blue\">+0.057</span> + <span style=\"color:blue\">+0.000</span> + <span style=\"color:blue\">-0.000</span> + <span style=\"color:red\">-0.038</span> + <span style=\"color:blue\">-0.000</span> + <span style=\"color:blue\">+0.000</span> + <span style=\"color:red\">-0.014</span> + <span style=\"color:blue\">+0.087</span> = <span style=\"color:blue; text-decoration:underline\">+0.092</span></div>"
      ],
      "text/plain": [
       "<IPython.core.display.Markdown object>"
      ]
     },
     "metadata": {},
     "output_type": "display_data"
    },
    {
     "name": "stdout",
     "output_type": "stream",
     "text": [
      "w1=+0.635, w2=+0.041, w3=+1.000, w4=+0.629, w5=-0.129\n",
      "\n"
     ]
    },
    {
     "data": {
      "text/markdown": [
       "**Iteration 31**"
      ],
      "text/plain": [
       "<IPython.core.display.Markdown object>"
      ]
     },
     "metadata": {},
     "output_type": "display_data"
    },
    {
     "name": "stdout",
     "output_type": "stream",
     "text": [
      "Output: [+0.584, +0.500, +0.599, +0.677, +0.599, +0.605, +0.522, +0.438]\n",
      "Target: [+0.500, +0.500, +0.731, +0.731, +0.731, +0.500, +0.500, +0.500]\n",
      "Memory: [+0.338, +0.000, +0.400, +0.738, +0.400, +0.425, +0.087, -0.251]\n",
      "Input : [+0.676, -0.676, +0.635, +0.676, -0.676, +0.041, -0.676, -0.676]\n",
      "Gate  : [+0.501, +0.501, +0.629, +0.501, +0.501, +0.629, +0.501, +0.501]\n"
     ]
    },
    {
     "data": {
      "text/markdown": [
       "<div>Loss: **0.12937** = <span style=\"font-family:monaco\">0.014 + 0.000 + 0.038 + 0.007 + 0.038 + 0.022 + 0.001 + 0.008</span></div><div style=\"font-family:monaco; font-size:12px\">dL/dw1 = <span style=\"color:blue\">+0.042</span> + <span style=\"color:blue\">+0.000</span> + <span style=\"color:red\">-0.083</span> + <span style=\"color:red\">-0.062</span> + <span style=\"color:red\">-0.083</span> + <span style=\"color:blue\">+0.066</span> + <span style=\"color:blue\">+0.003</span> + <span style=\"color:blue\">+0.023</span> = <span style=\"color:red; text-decoration:underline\">-0.094</span></div><div style=\"font-family:monaco; font-size:12px\">dL/dw2 = <span style=\"color:blue\">+0.042</span> + <span style=\"color:blue\">+0.000</span> + <span style=\"color:blue\">-0.000</span> + <span style=\"color:red\">-0.027</span> + <span style=\"color:blue\">-0.000</span> + <span style=\"color:blue\">+0.066</span> + <span style=\"color:blue\">+0.003</span> + <span style=\"color:blue\">+0.023</span> = <span style=\"color:blue; text-decoration:underline\">+0.107</span></div><div style=\"font-family:monaco; font-size:12px\">dL/dw4 = <span style=\"color:blue\">+0.057</span> + <span style=\"color:blue\">+0.000</span> + <span style=\"color:red\">-0.084</span> + <span style=\"color:red\">-0.071</span> + <span style=\"color:red\">-0.084</span> + <span style=\"color:blue\">+0.071</span> + <span style=\"color:blue\">+0.000</span> + <span style=\"color:blue\">+0.042</span> = <span style=\"color:red; text-decoration:underline\">-0.070</span></div><div style=\"font-family:monaco; font-size:12px\">dL/dw5 = <span style=\"color:blue\">+0.057</span> + <span style=\"color:blue\">+0.000</span> + <span style=\"color:blue\">-0.000</span> + <span style=\"color:red\">-0.037</span> + <span style=\"color:blue\">-0.000</span> + <span style=\"color:blue\">+0.000</span> + <span style=\"color:red\">-0.015</span> + <span style=\"color:blue\">+0.084</span> = <span style=\"color:blue; text-decoration:underline\">+0.090</span></div>"
      ],
      "text/plain": [
       "<IPython.core.display.Markdown object>"
      ]
     },
     "metadata": {},
     "output_type": "display_data"
    },
    {
     "name": "stdout",
     "output_type": "stream",
     "text": [
      "w1=+0.644, w2=+0.030, w3=+1.000, w4=+0.636, w5=-0.138\n",
      "\n"
     ]
    },
    {
     "data": {
      "text/markdown": [
       "**Iteration 32**"
      ],
      "text/plain": [
       "<IPython.core.display.Markdown object>"
      ]
     },
     "metadata": {},
     "output_type": "display_data"
    },
    {
     "name": "stdout",
     "output_type": "stream",
     "text": [
      "Output: [+0.583, +0.500, +0.601, +0.678, +0.601, +0.606, +0.523, +0.439]\n",
      "Target: [+0.500, +0.500, +0.731, +0.731, +0.731, +0.500, +0.500, +0.500]\n",
      "Memory: [+0.336, +0.000, +0.410, +0.746, +0.410, +0.429, +0.093, -0.243]\n",
      "Input : [+0.674, -0.674, +0.644, +0.674, -0.674, +0.030, -0.674, -0.674]\n",
      "Gate  : [+0.499, +0.499, +0.636, +0.499, +0.499, +0.636, +0.499, +0.499]\n"
     ]
    },
    {
     "data": {
      "text/markdown": [
       "<div>Loss: **0.12608** = <span style=\"font-family:monaco\">0.014 + 0.000 + 0.037 + 0.007 + 0.037 + 0.023 + 0.001 + 0.007</span></div><div style=\"font-family:monaco; font-size:12px\">dL/dw1 = <span style=\"color:blue\">+0.042</span> + <span style=\"color:blue\">+0.000</span> + <span style=\"color:red\">-0.083</span> + <span style=\"color:red\">-0.060</span> + <span style=\"color:red\">-0.083</span> + <span style=\"color:blue\">+0.067</span> + <span style=\"color:blue\">+0.003</span> + <span style=\"color:blue\">+0.022</span> = <span style=\"color:red; text-decoration:underline\">-0.091</span></div><div style=\"font-family:monaco; font-size:12px\">dL/dw2 = <span style=\"color:blue\">+0.042</span> + <span style=\"color:blue\">+0.000</span> + <span style=\"color:blue\">-0.000</span> + <span style=\"color:red\">-0.026</span> + <span style=\"color:blue\">-0.000</span> + <span style=\"color:blue\">+0.067</span> + <span style=\"color:blue\">+0.003</span> + <span style=\"color:blue\">+0.022</span> = <span style=\"color:blue; text-decoration:underline\">+0.108</span></div><div style=\"font-family:monaco; font-size:12px\">dL/dw4 = <span style=\"color:blue\">+0.056</span> + <span style=\"color:blue\">+0.000</span> + <span style=\"color:red\">-0.084</span> + <span style=\"color:red\">-0.069</span> + <span style=\"color:red\">-0.084</span> + <span style=\"color:blue\">+0.071</span> + <span style=\"color:blue\">+0.000</span> + <span style=\"color:blue\">+0.041</span> = <span style=\"color:red; text-decoration:underline\">-0.069</span></div><div style=\"font-family:monaco; font-size:12px\">dL/dw5 = <span style=\"color:blue\">+0.056</span> + <span style=\"color:blue\">+0.000</span> + <span style=\"color:blue\">-0.000</span> + <span style=\"color:red\">-0.036</span> + <span style=\"color:blue\">-0.000</span> + <span style=\"color:blue\">+0.000</span> + <span style=\"color:red\">-0.016</span> + <span style=\"color:blue\">+0.082</span> = <span style=\"color:blue; text-decoration:underline\">+0.087</span></div>"
      ],
      "text/plain": [
       "<IPython.core.display.Markdown object>"
      ]
     },
     "metadata": {},
     "output_type": "display_data"
    },
    {
     "name": "stdout",
     "output_type": "stream",
     "text": [
      "w1=+0.654, w2=+0.019, w3=+1.000, w4=+0.643, w5=-0.146\n",
      "\n"
     ]
    },
    {
     "data": {
      "text/markdown": [
       "**Iteration 33**"
      ],
      "text/plain": [
       "<IPython.core.display.Markdown object>"
      ]
     },
     "metadata": {},
     "output_type": "display_data"
    },
    {
     "name": "stdout",
     "output_type": "stream",
     "text": [
      "Output: [+0.583, +0.500, +0.604, +0.680, +0.604, +0.607, +0.525, +0.441]\n",
      "Target: [+0.500, +0.500, +0.731, +0.731, +0.731, +0.500, +0.500, +0.500]\n",
      "Memory: [+0.334, +0.000, +0.420, +0.755, +0.420, +0.433, +0.099, -0.236]\n",
      "Input : [+0.673, -0.673, +0.654, +0.673, -0.673, +0.019, -0.673, -0.673]\n",
      "Gate  : [+0.497, +0.497, +0.643, +0.497, +0.497, +0.643, +0.497, +0.497]\n"
     ]
    },
    {
     "data": {
      "text/markdown": [
       "<div>Loss: **0.12289** = <span style=\"font-family:monaco\">0.014 + 0.000 + 0.036 + 0.006 + 0.036 + 0.023 + 0.001 + 0.007</span></div><div style=\"font-family:monaco; font-size:12px\">dL/dw1 = <span style=\"color:blue\">+0.041</span> + <span style=\"color:blue\">+0.000</span> + <span style=\"color:red\">-0.082</span> + <span style=\"color:red\">-0.058</span> + <span style=\"color:red\">-0.082</span> + <span style=\"color:blue\">+0.069</span> + <span style=\"color:blue\">+0.004</span> + <span style=\"color:blue\">+0.021</span> = <span style=\"color:red; text-decoration:underline\">-0.088</span></div><div style=\"font-family:monaco; font-size:12px\">dL/dw2 = <span style=\"color:blue\">+0.041</span> + <span style=\"color:blue\">+0.000</span> + <span style=\"color:blue\">-0.000</span> + <span style=\"color:red\">-0.025</span> + <span style=\"color:blue\">-0.000</span> + <span style=\"color:blue\">+0.069</span> + <span style=\"color:blue\">+0.004</span> + <span style=\"color:blue\">+0.021</span> = <span style=\"color:blue; text-decoration:underline\">+0.109</span></div><div style=\"font-family:monaco; font-size:12px\">dL/dw4 = <span style=\"color:blue\">+0.056</span> + <span style=\"color:blue\">+0.000</span> + <span style=\"color:red\">-0.083</span> + <span style=\"color:red\">-0.067</span> + <span style=\"color:red\">-0.083</span> + <span style=\"color:blue\">+0.072</span> + <span style=\"color:blue\">+0.000</span> + <span style=\"color:blue\">+0.039</span> = <span style=\"color:red; text-decoration:underline\">-0.067</span></div><div style=\"font-family:monaco; font-size:12px\">dL/dw5 = <span style=\"color:blue\">+0.056</span> + <span style=\"color:blue\">+0.000</span> + <span style=\"color:blue\">-0.000</span> + <span style=\"color:red\">-0.034</span> + <span style=\"color:blue\">-0.000</span> + <span style=\"color:blue\">+0.000</span> + <span style=\"color:red\">-0.017</span> + <span style=\"color:blue\">+0.079</span> = <span style=\"color:blue; text-decoration:underline\">+0.084</span></div>"
      ],
      "text/plain": [
       "<IPython.core.display.Markdown object>"
      ]
     },
     "metadata": {},
     "output_type": "display_data"
    },
    {
     "name": "stdout",
     "output_type": "stream",
     "text": [
      "w1=+0.662, w2=+0.008, w3=+1.000, w4=+0.650, w5=-0.155\n",
      "\n"
     ]
    },
    {
     "data": {
      "text/markdown": [
       "**Iteration 34**"
      ],
      "text/plain": [
       "<IPython.core.display.Markdown object>"
      ]
     },
     "metadata": {},
     "output_type": "display_data"
    },
    {
     "name": "stdout",
     "output_type": "stream",
     "text": [
      "Output: [+0.582, +0.500, +0.606, +0.682, +0.606, +0.607, +0.526, +0.443]\n",
      "Target: [+0.500, +0.500, +0.731, +0.731, +0.731, +0.500, +0.500, +0.500]\n",
      "Memory: [+0.332, +0.000, +0.431, +0.763, +0.431, +0.436, +0.104, -0.228]\n",
      "Input : [+0.671, -0.671, +0.662, +0.671, -0.671, +0.008, -0.671, -0.671]\n",
      "Gate  : [+0.495, +0.495, +0.650, +0.495, +0.495, +0.650, +0.495, +0.495]\n"
     ]
    },
    {
     "data": {
      "text/markdown": [
       "<div>Loss: **0.11980** = <span style=\"font-family:monaco\">0.014 + 0.000 + 0.034 + 0.006 + 0.034 + 0.024 + 0.001 + 0.007</span></div><div style=\"font-family:monaco; font-size:12px\">dL/dw1 = <span style=\"color:blue\">+0.041</span> + <span style=\"color:blue\">+0.000</span> + <span style=\"color:red\">-0.081</span> + <span style=\"color:red\">-0.056</span> + <span style=\"color:red\">-0.081</span> + <span style=\"color:blue\">+0.070</span> + <span style=\"color:blue\">+0.004</span> + <span style=\"color:blue\">+0.019</span> = <span style=\"color:red; text-decoration:underline\">-0.085</span></div><div style=\"font-family:monaco; font-size:12px\">dL/dw2 = <span style=\"color:blue\">+0.041</span> + <span style=\"color:blue\">+0.000</span> + <span style=\"color:blue\">-0.000</span> + <span style=\"color:red\">-0.024</span> + <span style=\"color:blue\">-0.000</span> + <span style=\"color:blue\">+0.070</span> + <span style=\"color:blue\">+0.004</span> + <span style=\"color:blue\">+0.019</span> = <span style=\"color:blue; text-decoration:underline\">+0.110</span></div><div style=\"font-family:monaco; font-size:12px\">dL/dw4 = <span style=\"color:blue\">+0.055</span> + <span style=\"color:blue\">+0.000</span> + <span style=\"color:red\">-0.083</span> + <span style=\"color:red\">-0.065</span> + <span style=\"color:red\">-0.083</span> + <span style=\"color:blue\">+0.072</span> + <span style=\"color:red\">-0.000</span> + <span style=\"color:blue\">+0.038</span> = <span style=\"color:red; text-decoration:underline\">-0.066</span></div><div style=\"font-family:monaco; font-size:12px\">dL/dw5 = <span style=\"color:blue\">+0.055</span> + <span style=\"color:blue\">+0.000</span> + <span style=\"color:blue\">-0.000</span> + <span style=\"color:red\">-0.033</span> + <span style=\"color:blue\">-0.000</span> + <span style=\"color:blue\">+0.000</span> + <span style=\"color:red\">-0.017</span> + <span style=\"color:blue\">+0.076</span> = <span style=\"color:blue; text-decoration:underline\">+0.081</span></div>"
      ],
      "text/plain": [
       "<IPython.core.display.Markdown object>"
      ]
     },
     "metadata": {},
     "output_type": "display_data"
    },
    {
     "name": "stdout",
     "output_type": "stream",
     "text": [
      "w1=+0.671, w2=-0.003, w3=+1.000, w4=+0.657, w5=-0.163\n",
      "\n"
     ]
    },
    {
     "data": {
      "text/markdown": [
       "**Iteration 35**"
      ],
      "text/plain": [
       "<IPython.core.display.Markdown object>"
      ]
     },
     "metadata": {},
     "output_type": "display_data"
    },
    {
     "name": "stdout",
     "output_type": "stream",
     "text": [
      "Output: [+0.582, +0.500, +0.608, +0.684, +0.608, +0.608, +0.527, +0.445]\n",
      "Target: [+0.500, +0.500, +0.731, +0.731, +0.731, +0.500, +0.500, +0.500]\n",
      "Memory: [+0.330, +0.000, +0.440, +0.770, +0.440, +0.439, +0.109, -0.221]\n",
      "Input : [+0.668, -0.668, +0.671, +0.668, -0.668, -0.003, -0.668, -0.668]\n",
      "Gate  : [+0.494, +0.494, +0.657, +0.494, +0.494, +0.657, +0.494, +0.494]\n"
     ]
    },
    {
     "data": {
      "text/markdown": [
       "<div>Loss: **0.11681** = <span style=\"font-family:monaco\">0.014 + 0.000 + 0.033 + 0.005 + 0.033 + 0.024 + 0.001 + 0.006</span></div><div style=\"font-family:monaco; font-size:12px\">dL/dw1 = <span style=\"color:blue\">+0.040</span> + <span style=\"color:blue\">+0.000</span> + <span style=\"color:red\">-0.081</span> + <span style=\"color:red\">-0.055</span> + <span style=\"color:red\">-0.081</span> + <span style=\"color:blue\">+0.071</span> + <span style=\"color:blue\">+0.004</span> + <span style=\"color:blue\">+0.018</span> = <span style=\"color:red; text-decoration:underline\">-0.082</span></div><div style=\"font-family:monaco; font-size:12px\">dL/dw2 = <span style=\"color:blue\">+0.040</span> + <span style=\"color:blue\">+0.000</span> + <span style=\"color:blue\">-0.000</span> + <span style=\"color:red\">-0.023</span> + <span style=\"color:blue\">-0.000</span> + <span style=\"color:blue\">+0.071</span> + <span style=\"color:blue\">+0.004</span> + <span style=\"color:blue\">+0.018</span> = <span style=\"color:blue; text-decoration:underline\">+0.110</span></div><div style=\"font-family:monaco; font-size:12px\">dL/dw4 = <span style=\"color:blue\">+0.055</span> + <span style=\"color:blue\">+0.000</span> + <span style=\"color:red\">-0.082</span> + <span style=\"color:red\">-0.064</span> + <span style=\"color:red\">-0.082</span> + <span style=\"color:blue\">+0.072</span> + <span style=\"color:blue\">+0.000</span> + <span style=\"color:blue\">+0.037</span> = <span style=\"color:red; text-decoration:underline\">-0.065</span></div><div style=\"font-family:monaco; font-size:12px\">dL/dw5 = <span style=\"color:blue\">+0.055</span> + <span style=\"color:blue\">+0.000</span> + <span style=\"color:blue\">-0.000</span> + <span style=\"color:red\">-0.032</span> + <span style=\"color:blue\">-0.000</span> + <span style=\"color:blue\">+0.000</span> + <span style=\"color:red\">-0.018</span> + <span style=\"color:blue\">+0.074</span> = <span style=\"color:blue; text-decoration:underline\">+0.078</span></div>"
      ],
      "text/plain": [
       "<IPython.core.display.Markdown object>"
      ]
     },
     "metadata": {},
     "output_type": "display_data"
    },
    {
     "name": "stdout",
     "output_type": "stream",
     "text": [
      "w1=+0.679, w2=-0.014, w3=+1.000, w4=+0.663, w5=-0.171\n",
      "\n"
     ]
    },
    {
     "data": {
      "text/markdown": [
       "**Iteration 36**"
      ],
      "text/plain": [
       "<IPython.core.display.Markdown object>"
      ]
     },
     "metadata": {},
     "output_type": "display_data"
    },
    {
     "name": "stdout",
     "output_type": "stream",
     "text": [
      "Output: [+0.581, +0.500, +0.611, +0.685, +0.611, +0.609, +0.528, +0.447]\n",
      "Target: [+0.500, +0.500, +0.731, +0.731, +0.731, +0.500, +0.500, +0.500]\n",
      "Memory: [+0.328, +0.000, +0.450, +0.778, +0.450, +0.441, +0.114, -0.214]\n",
      "Input : [+0.665, -0.665, +0.679, +0.665, -0.665, -0.014, -0.665, -0.665]\n",
      "Gate  : [+0.492, +0.492, +0.663, +0.492, +0.492, +0.663, +0.492, +0.492]\n"
     ]
    },
    {
     "data": {
      "text/markdown": [
       "<div>Loss: **0.11392** = <span style=\"font-family:monaco\">0.013 + 0.000 + 0.032 + 0.005 + 0.032 + 0.024 + 0.002 + 0.006</span></div><div style=\"font-family:monaco; font-size:12px\">dL/dw1 = <span style=\"color:blue\">+0.040</span> + <span style=\"color:blue\">+0.000</span> + <span style=\"color:red\">-0.080</span> + <span style=\"color:red\">-0.053</span> + <span style=\"color:red\">-0.080</span> + <span style=\"color:blue\">+0.072</span> + <span style=\"color:blue\">+0.005</span> + <span style=\"color:blue\">+0.017</span> = <span style=\"color:red; text-decoration:underline\">-0.079</span></div><div style=\"font-family:monaco; font-size:12px\">dL/dw2 = <span style=\"color:blue\">+0.040</span> + <span style=\"color:blue\">+0.000</span> + <span style=\"color:blue\">-0.000</span> + <span style=\"color:red\">-0.023</span> + <span style=\"color:blue\">-0.000</span> + <span style=\"color:blue\">+0.072</span> + <span style=\"color:blue\">+0.005</span> + <span style=\"color:blue\">+0.017</span> = <span style=\"color:blue; text-decoration:underline\">+0.111</span></div><div style=\"font-family:monaco; font-size:12px\">dL/dw4 = <span style=\"color:blue\">+0.054</span> + <span style=\"color:blue\">+0.000</span> + <span style=\"color:red\">-0.082</span> + <span style=\"color:red\">-0.062</span> + <span style=\"color:red\">-0.082</span> + <span style=\"color:blue\">+0.072</span> + <span style=\"color:blue\">+0.000</span> + <span style=\"color:blue\">+0.035</span> = <span style=\"color:red; text-decoration:underline\">-0.063</span></div><div style=\"font-family:monaco; font-size:12px\">dL/dw5 = <span style=\"color:blue\">+0.054</span> + <span style=\"color:blue\">+0.000</span> + <span style=\"color:blue\">-0.000</span> + <span style=\"color:red\">-0.031</span> + <span style=\"color:blue\">-0.000</span> + <span style=\"color:blue\">+0.000</span> + <span style=\"color:red\">-0.019</span> + <span style=\"color:blue\">+0.071</span> = <span style=\"color:blue; text-decoration:underline\">+0.076</span></div>"
      ],
      "text/plain": [
       "<IPython.core.display.Markdown object>"
      ]
     },
     "metadata": {},
     "output_type": "display_data"
    },
    {
     "name": "stdout",
     "output_type": "stream",
     "text": [
      "w1=+0.687, w2=-0.025, w3=+1.000, w4=+0.669, w5=-0.178\n",
      "\n"
     ]
    },
    {
     "data": {
      "text/markdown": [
       "**Iteration 37**"
      ],
      "text/plain": [
       "<IPython.core.display.Markdown object>"
      ]
     },
     "metadata": {},
     "output_type": "display_data"
    },
    {
     "name": "stdout",
     "output_type": "stream",
     "text": [
      "Output: [+0.581, +0.500, +0.613, +0.687, +0.613, +0.609, +0.529, +0.448]\n",
      "Target: [+0.500, +0.500, +0.731, +0.731, +0.731, +0.500, +0.500, +0.500]\n",
      "Memory: [+0.325, +0.000, +0.460, +0.785, +0.460, +0.443, +0.118, -0.207]\n",
      "Input : [+0.662, -0.662, +0.687, +0.662, -0.662, -0.025, -0.662, -0.662]\n",
      "Gate  : [+0.491, +0.491, +0.669, +0.491, +0.491, +0.669, +0.491, +0.491]\n"
     ]
    },
    {
     "data": {
      "text/markdown": [
       "<div>Loss: **0.11111** = <span style=\"font-family:monaco\">0.013 + 0.000 + 0.031 + 0.005 + 0.031 + 0.024 + 0.002 + 0.005</span></div><div style=\"font-family:monaco; font-size:12px\">dL/dw1 = <span style=\"color:blue\">+0.040</span> + <span style=\"color:blue\">+0.000</span> + <span style=\"color:red\">-0.079</span> + <span style=\"color:red\">-0.051</span> + <span style=\"color:red\">-0.079</span> + <span style=\"color:blue\">+0.073</span> + <span style=\"color:blue\">+0.005</span> + <span style=\"color:blue\">+0.016</span> = <span style=\"color:red; text-decoration:underline\">-0.076</span></div><div style=\"font-family:monaco; font-size:12px\">dL/dw2 = <span style=\"color:blue\">+0.040</span> + <span style=\"color:blue\">+0.000</span> + <span style=\"color:blue\">-0.000</span> + <span style=\"color:red\">-0.022</span> + <span style=\"color:blue\">-0.000</span> + <span style=\"color:blue\">+0.073</span> + <span style=\"color:blue\">+0.005</span> + <span style=\"color:blue\">+0.016</span> = <span style=\"color:blue; text-decoration:underline\">+0.112</span></div><div style=\"font-family:monaco; font-size:12px\">dL/dw4 = <span style=\"color:blue\">+0.053</span> + <span style=\"color:blue\">+0.000</span> + <span style=\"color:red\">-0.081</span> + <span style=\"color:red\">-0.060</span> + <span style=\"color:red\">-0.081</span> + <span style=\"color:blue\">+0.072</span> + <span style=\"color:blue\">+0.000</span> + <span style=\"color:blue\">+0.034</span> = <span style=\"color:red; text-decoration:underline\">-0.062</span></div><div style=\"font-family:monaco; font-size:12px\">dL/dw5 = <span style=\"color:blue\">+0.053</span> + <span style=\"color:blue\">+0.000</span> + <span style=\"color:blue\">-0.000</span> + <span style=\"color:red\">-0.029</span> + <span style=\"color:blue\">-0.000</span> + <span style=\"color:blue\">+0.000</span> + <span style=\"color:red\">-0.020</span> + <span style=\"color:blue\">+0.068</span> = <span style=\"color:blue; text-decoration:underline\">+0.073</span></div>"
      ],
      "text/plain": [
       "<IPython.core.display.Markdown object>"
      ]
     },
     "metadata": {},
     "output_type": "display_data"
    },
    {
     "name": "stdout",
     "output_type": "stream",
     "text": [
      "w1=+0.694, w2=-0.036, w3=+1.000, w4=+0.676, w5=-0.186\n",
      "\n"
     ]
    },
    {
     "data": {
      "text/markdown": [
       "**Iteration 38**"
      ],
      "text/plain": [
       "<IPython.core.display.Markdown object>"
      ]
     },
     "metadata": {},
     "output_type": "display_data"
    },
    {
     "name": "stdout",
     "output_type": "stream",
     "text": [
      "Output: [+0.580, +0.500, +0.615, +0.688, +0.615, +0.609, +0.531, +0.450]\n",
      "Target: [+0.500, +0.500, +0.731, +0.731, +0.731, +0.500, +0.500, +0.500]\n",
      "Memory: [+0.323, +0.000, +0.469, +0.792, +0.469, +0.445, +0.122, -0.200]\n",
      "Input : [+0.659, -0.659, +0.694, +0.659, -0.659, -0.036, -0.659, -0.659]\n",
      "Gate  : [+0.490, +0.490, +0.676, +0.490, +0.490, +0.676, +0.490, +0.490]\n"
     ]
    },
    {
     "data": {
      "text/markdown": [
       "<div>Loss: **0.10838** = <span style=\"font-family:monaco\">0.013 + 0.000 + 0.030 + 0.004 + 0.030 + 0.025 + 0.002 + 0.005</span></div><div style=\"font-family:monaco; font-size:12px\">dL/dw1 = <span style=\"color:blue\">+0.039</span> + <span style=\"color:blue\">+0.000</span> + <span style=\"color:red\">-0.078</span> + <span style=\"color:red\">-0.050</span> + <span style=\"color:red\">-0.078</span> + <span style=\"color:blue\">+0.074</span> + <span style=\"color:blue\">+0.006</span> + <span style=\"color:blue\">+0.015</span> = <span style=\"color:red; text-decoration:underline\">-0.072</span></div><div style=\"font-family:monaco; font-size:12px\">dL/dw2 = <span style=\"color:blue\">+0.039</span> + <span style=\"color:blue\">+0.000</span> + <span style=\"color:blue\">-0.000</span> + <span style=\"color:red\">-0.021</span> + <span style=\"color:blue\">-0.000</span> + <span style=\"color:blue\">+0.074</span> + <span style=\"color:blue\">+0.006</span> + <span style=\"color:blue\">+0.015</span> = <span style=\"color:blue; text-decoration:underline\">+0.113</span></div><div style=\"font-family:monaco; font-size:12px\">dL/dw4 = <span style=\"color:blue\">+0.053</span> + <span style=\"color:blue\">+0.000</span> + <span style=\"color:red\">-0.080</span> + <span style=\"color:red\">-0.058</span> + <span style=\"color:red\">-0.080</span> + <span style=\"color:blue\">+0.072</span> + <span style=\"color:blue\">+0.000</span> + <span style=\"color:blue\">+0.033</span> = <span style=\"color:red; text-decoration:underline\">-0.061</span></div><div style=\"font-family:monaco; font-size:12px\">dL/dw5 = <span style=\"color:blue\">+0.053</span> + <span style=\"color:blue\">+0.000</span> + <span style=\"color:blue\">-0.000</span> + <span style=\"color:red\">-0.028</span> + <span style=\"color:blue\">-0.000</span> + <span style=\"color:blue\">+0.000</span> + <span style=\"color:red\">-0.020</span> + <span style=\"color:blue\">+0.066</span> = <span style=\"color:blue; text-decoration:underline\">+0.070</span></div>"
      ],
      "text/plain": [
       "<IPython.core.display.Markdown object>"
      ]
     },
     "metadata": {},
     "output_type": "display_data"
    },
    {
     "name": "stdout",
     "output_type": "stream",
     "text": [
      "w1=+0.702, w2=-0.047, w3=+1.000, w4=+0.682, w5=-0.193\n",
      "\n"
     ]
    },
    {
     "data": {
      "text/markdown": [
       "**Iteration 39**"
      ],
      "text/plain": [
       "<IPython.core.display.Markdown object>"
      ]
     },
     "metadata": {},
     "output_type": "display_data"
    },
    {
     "name": "stdout",
     "output_type": "stream",
     "text": [
      "Output: [+0.579, +0.500, +0.617, +0.690, +0.617, +0.610, +0.531, +0.452]\n",
      "Target: [+0.500, +0.500, +0.731, +0.731, +0.731, +0.500, +0.500, +0.500]\n",
      "Memory: [+0.320, +0.000, +0.478, +0.799, +0.478, +0.446, +0.126, -0.194]\n",
      "Input : [+0.654, -0.654, +0.702, +0.654, -0.654, -0.047, -0.654, -0.654]\n",
      "Gate  : [+0.489, +0.489, +0.682, +0.489, +0.489, +0.682, +0.489, +0.489]\n"
     ]
    },
    {
     "data": {
      "text/markdown": [
       "<div>Loss: **0.10573** = <span style=\"font-family:monaco\">0.013 + 0.000 + 0.029 + 0.004 + 0.029 + 0.025 + 0.002 + 0.005</span></div><div style=\"font-family:monaco; font-size:12px\">dL/dw1 = <span style=\"color:blue\">+0.039</span> + <span style=\"color:blue\">+0.000</span> + <span style=\"color:red\">-0.078</span> + <span style=\"color:red\">-0.048</span> + <span style=\"color:red\">-0.078</span> + <span style=\"color:blue\">+0.075</span> + <span style=\"color:blue\">+0.006</span> + <span style=\"color:blue\">+0.014</span> = <span style=\"color:red; text-decoration:underline\">-0.069</span></div><div style=\"font-family:monaco; font-size:12px\">dL/dw2 = <span style=\"color:blue\">+0.039</span> + <span style=\"color:blue\">+0.000</span> + <span style=\"color:blue\">-0.000</span> + <span style=\"color:red\">-0.020</span> + <span style=\"color:blue\">-0.000</span> + <span style=\"color:blue\">+0.075</span> + <span style=\"color:blue\">+0.006</span> + <span style=\"color:blue\">+0.014</span> = <span style=\"color:blue; text-decoration:underline\">+0.114</span></div><div style=\"font-family:monaco; font-size:12px\">dL/dw4 = <span style=\"color:blue\">+0.052</span> + <span style=\"color:blue\">+0.000</span> + <span style=\"color:red\">-0.080</span> + <span style=\"color:red\">-0.056</span> + <span style=\"color:red\">-0.080</span> + <span style=\"color:blue\">+0.072</span> + <span style=\"color:blue\">+0.000</span> + <span style=\"color:blue\">+0.032</span> = <span style=\"color:red; text-decoration:underline\">-0.060</span></div><div style=\"font-family:monaco; font-size:12px\">dL/dw5 = <span style=\"color:blue\">+0.052</span> + <span style=\"color:blue\">+0.000</span> + <span style=\"color:blue\">-0.000</span> + <span style=\"color:red\">-0.027</span> + <span style=\"color:blue\">-0.000</span> + <span style=\"color:blue\">+0.000</span> + <span style=\"color:red\">-0.021</span> + <span style=\"color:blue\">+0.063</span> = <span style=\"color:blue; text-decoration:underline\">+0.068</span></div>"
      ],
      "text/plain": [
       "<IPython.core.display.Markdown object>"
      ]
     },
     "metadata": {},
     "output_type": "display_data"
    },
    {
     "name": "stdout",
     "output_type": "stream",
     "text": [
      "w1=+0.709, w2=-0.059, w3=+1.000, w4=+0.688, w5=-0.199\n",
      "\n"
     ]
    },
    {
     "data": {
      "text/markdown": [
       "**Iteration 40**"
      ],
      "text/plain": [
       "<IPython.core.display.Markdown object>"
      ]
     },
     "metadata": {},
     "output_type": "display_data"
    },
    {
     "name": "stdout",
     "output_type": "stream",
     "text": [
      "Output: [+0.579, +0.500, +0.619, +0.691, +0.619, +0.610, +0.532, +0.453]\n",
      "Target: [+0.500, +0.500, +0.731, +0.731, +0.731, +0.500, +0.500, +0.500]\n",
      "Memory: [+0.317, +0.000, +0.487, +0.805, +0.487, +0.447, +0.130, -0.188]\n",
      "Input : [+0.650, -0.650, +0.709, +0.650, -0.650, -0.059, -0.650, -0.650]\n",
      "Gate  : [+0.488, +0.488, +0.688, +0.488, +0.488, +0.688, +0.488, +0.488]\n"
     ]
    },
    {
     "data": {
      "text/markdown": [
       "<div>Loss: **0.10315** = <span style=\"font-family:monaco\">0.013 + 0.000 + 0.028 + 0.004 + 0.028 + 0.025 + 0.002 + 0.004</span></div><div style=\"font-family:monaco; font-size:12px\">dL/dw1 = <span style=\"color:blue\">+0.038</span> + <span style=\"color:blue\">+0.000</span> + <span style=\"color:red\">-0.077</span> + <span style=\"color:red\">-0.047</span> + <span style=\"color:red\">-0.077</span> + <span style=\"color:blue\">+0.076</span> + <span style=\"color:blue\">+0.006</span> + <span style=\"color:blue\">+0.014</span> = <span style=\"color:red; text-decoration:underline\">-0.067</span></div><div style=\"font-family:monaco; font-size:12px\">dL/dw2 = <span style=\"color:blue\">+0.038</span> + <span style=\"color:blue\">+0.000</span> + <span style=\"color:blue\">-0.000</span> + <span style=\"color:red\">-0.020</span> + <span style=\"color:blue\">-0.000</span> + <span style=\"color:blue\">+0.076</span> + <span style=\"color:blue\">+0.006</span> + <span style=\"color:blue\">+0.014</span> = <span style=\"color:blue; text-decoration:underline\">+0.114</span></div><div style=\"font-family:monaco; font-size:12px\">dL/dw4 = <span style=\"color:blue\">+0.051</span> + <span style=\"color:blue\">+0.000</span> + <span style=\"color:red\">-0.079</span> + <span style=\"color:red\">-0.054</span> + <span style=\"color:red\">-0.079</span> + <span style=\"color:blue\">+0.071</span> + <span style=\"color:blue\">+0.000</span> + <span style=\"color:blue\">+0.030</span> = <span style=\"color:red; text-decoration:underline\">-0.059</span></div><div style=\"font-family:monaco; font-size:12px\">dL/dw5 = <span style=\"color:blue\">+0.051</span> + <span style=\"color:blue\">+0.000</span> + <span style=\"color:blue\">-0.000</span> + <span style=\"color:red\">-0.026</span> + <span style=\"color:blue\">-0.000</span> + <span style=\"color:blue\">+0.000</span> + <span style=\"color:red\">-0.021</span> + <span style=\"color:blue\">+0.061</span> = <span style=\"color:blue; text-decoration:underline\">+0.065</span></div>"
      ],
      "text/plain": [
       "<IPython.core.display.Markdown object>"
      ]
     },
     "metadata": {},
     "output_type": "display_data"
    },
    {
     "name": "stdout",
     "output_type": "stream",
     "text": [
      "w1=+0.715, w2=-0.070, w3=+1.000, w4=+0.694, w5=-0.206\n",
      "\n"
     ]
    },
    {
     "data": {
      "text/markdown": [
       "**Iteration 41**"
      ],
      "text/plain": [
       "<IPython.core.display.Markdown object>"
      ]
     },
     "metadata": {},
     "output_type": "display_data"
    },
    {
     "name": "stdout",
     "output_type": "stream",
     "text": [
      "Output: [+0.578, +0.500, +0.622, +0.692, +0.622, +0.610, +0.533, +0.455]\n",
      "Target: [+0.500, +0.500, +0.731, +0.731, +0.731, +0.500, +0.500, +0.500]\n",
      "Memory: [+0.315, +0.000, +0.496, +0.811, +0.496, +0.448, +0.133, -0.182]\n",
      "Input : [+0.645, -0.645, +0.715, +0.645, -0.645, -0.070, -0.645, -0.645]\n",
      "Gate  : [+0.488, +0.488, +0.694, +0.488, +0.488, +0.694, +0.488, +0.488]\n"
     ]
    },
    {
     "data": {
      "text/markdown": [
       "<div>Loss: **0.10063** = <span style=\"font-family:monaco\">0.012 + 0.000 + 0.027 + 0.004 + 0.027 + 0.025 + 0.002 + 0.004</span></div><div style=\"font-family:monaco; font-size:12px\">dL/dw1 = <span style=\"color:blue\">+0.038</span> + <span style=\"color:blue\">+0.000</span> + <span style=\"color:red\">-0.076</span> + <span style=\"color:red\">-0.046</span> + <span style=\"color:red\">-0.076</span> + <span style=\"color:blue\">+0.076</span> + <span style=\"color:blue\">+0.007</span> + <span style=\"color:blue\">+0.013</span> = <span style=\"color:red; text-decoration:underline\">-0.064</span></div><div style=\"font-family:monaco; font-size:12px\">dL/dw2 = <span style=\"color:blue\">+0.038</span> + <span style=\"color:blue\">+0.000</span> + <span style=\"color:blue\">-0.000</span> + <span style=\"color:red\">-0.019</span> + <span style=\"color:blue\">-0.000</span> + <span style=\"color:blue\">+0.076</span> + <span style=\"color:blue\">+0.007</span> + <span style=\"color:blue\">+0.013</span> = <span style=\"color:blue; text-decoration:underline\">+0.115</span></div><div style=\"font-family:monaco; font-size:12px\">dL/dw4 = <span style=\"color:blue\">+0.050</span> + <span style=\"color:blue\">+0.000</span> + <span style=\"color:red\">-0.078</span> + <span style=\"color:red\">-0.053</span> + <span style=\"color:red\">-0.078</span> + <span style=\"color:blue\">+0.071</span> + <span style=\"color:blue\">+0.000</span> + <span style=\"color:blue\">+0.029</span> = <span style=\"color:red; text-decoration:underline\">-0.059</span></div><div style=\"font-family:monaco; font-size:12px\">dL/dw5 = <span style=\"color:blue\">+0.050</span> + <span style=\"color:blue\">+0.000</span> + <span style=\"color:blue\">-0.000</span> + <span style=\"color:red\">-0.025</span> + <span style=\"color:blue\">-0.000</span> + <span style=\"color:blue\">+0.000</span> + <span style=\"color:red\">-0.021</span> + <span style=\"color:blue\">+0.059</span> = <span style=\"color:blue; text-decoration:underline\">+0.063</span></div>"
      ],
      "text/plain": [
       "<IPython.core.display.Markdown object>"
      ]
     },
     "metadata": {},
     "output_type": "display_data"
    },
    {
     "name": "stdout",
     "output_type": "stream",
     "text": [
      "w1=+0.722, w2=-0.082, w3=+1.000, w4=+0.700, w5=-0.212\n",
      "\n"
     ]
    },
    {
     "data": {
      "text/markdown": [
       "**Iteration 42**"
      ],
      "text/plain": [
       "<IPython.core.display.Markdown object>"
      ]
     },
     "metadata": {},
     "output_type": "display_data"
    },
    {
     "name": "stdout",
     "output_type": "stream",
     "text": [
      "Output: [+0.577, +0.500, +0.624, +0.694, +0.624, +0.610, +0.534, +0.456]\n",
      "Target: [+0.500, +0.500, +0.731, +0.731, +0.731, +0.500, +0.500, +0.500]\n",
      "Memory: [+0.312, +0.000, +0.505, +0.817, +0.505, +0.448, +0.136, -0.176]\n",
      "Input : [+0.640, -0.640, +0.722, +0.640, -0.640, -0.082, -0.640, -0.640]\n",
      "Gate  : [+0.487, +0.487, +0.700, +0.487, +0.487, +0.700, +0.487, +0.487]\n"
     ]
    },
    {
     "data": {
      "text/markdown": [
       "<div>Loss: **0.09818** = <span style=\"font-family:monaco\">0.012 + 0.000 + 0.026 + 0.003 + 0.026 + 0.025 + 0.002 + 0.004</span></div><div style=\"font-family:monaco; font-size:12px\">dL/dw1 = <span style=\"color:blue\">+0.038</span> + <span style=\"color:blue\">+0.000</span> + <span style=\"color:red\">-0.075</span> + <span style=\"color:red\">-0.044</span> + <span style=\"color:red\">-0.075</span> + <span style=\"color:blue\">+0.077</span> + <span style=\"color:blue\">+0.007</span> + <span style=\"color:blue\">+0.012</span> = <span style=\"color:red; text-decoration:underline\">-0.061</span></div><div style=\"font-family:monaco; font-size:12px\">dL/dw2 = <span style=\"color:blue\">+0.038</span> + <span style=\"color:blue\">+0.000</span> + <span style=\"color:blue\">-0.000</span> + <span style=\"color:red\">-0.018</span> + <span style=\"color:blue\">-0.000</span> + <span style=\"color:blue\">+0.077</span> + <span style=\"color:blue\">+0.007</span> + <span style=\"color:blue\">+0.012</span> = <span style=\"color:blue; text-decoration:underline\">+0.116</span></div><div style=\"font-family:monaco; font-size:12px\">dL/dw4 = <span style=\"color:blue\">+0.050</span> + <span style=\"color:blue\">+0.000</span> + <span style=\"color:red\">-0.078</span> + <span style=\"color:red\">-0.051</span> + <span style=\"color:red\">-0.078</span> + <span style=\"color:blue\">+0.070</span> + <span style=\"color:blue\">+0.000</span> + <span style=\"color:blue\">+0.028</span> = <span style=\"color:red; text-decoration:underline\">-0.058</span></div><div style=\"font-family:monaco; font-size:12px\">dL/dw5 = <span style=\"color:blue\">+0.050</span> + <span style=\"color:blue\">+0.000</span> + <span style=\"color:blue\">-0.000</span> + <span style=\"color:red\">-0.024</span> + <span style=\"color:blue\">-0.000</span> + <span style=\"color:blue\">+0.000</span> + <span style=\"color:red\">-0.022</span> + <span style=\"color:blue\">+0.056</span> = <span style=\"color:blue; text-decoration:underline\">+0.060</span></div>"
      ],
      "text/plain": [
       "<IPython.core.display.Markdown object>"
      ]
     },
     "metadata": {},
     "output_type": "display_data"
    },
    {
     "name": "stdout",
     "output_type": "stream",
     "text": [
      "w1=+0.728, w2=-0.093, w3=+1.000, w4=+0.705, w5=-0.218\n",
      "\n"
     ]
    },
    {
     "data": {
      "text/markdown": [
       "**Iteration 43**"
      ],
      "text/plain": [
       "<IPython.core.display.Markdown object>"
      ]
     },
     "metadata": {},
     "output_type": "display_data"
    },
    {
     "name": "stdout",
     "output_type": "stream",
     "text": [
      "Output: [+0.577, +0.500, +0.626, +0.695, +0.626, +0.610, +0.535, +0.457]\n",
      "Target: [+0.500, +0.500, +0.731, +0.731, +0.731, +0.500, +0.500, +0.500]\n",
      "Memory: [+0.309, +0.000, +0.513, +0.823, +0.513, +0.448, +0.138, -0.171]\n",
      "Input : [+0.635, -0.635, +0.728, +0.635, -0.635, -0.093, -0.635, -0.635]\n",
      "Gate  : [+0.487, +0.487, +0.705, +0.487, +0.487, +0.705, +0.487, +0.487]\n"
     ]
    },
    {
     "data": {
      "text/markdown": [
       "<div>Loss: **0.09579** = <span style=\"font-family:monaco\">0.012 + 0.000 + 0.025 + 0.003 + 0.025 + 0.025 + 0.002 + 0.004</span></div><div style=\"font-family:monaco; font-size:12px\">dL/dw1 = <span style=\"color:blue\">+0.037</span> + <span style=\"color:blue\">+0.000</span> + <span style=\"color:red\">-0.074</span> + <span style=\"color:red\">-0.043</span> + <span style=\"color:red\">-0.074</span> + <span style=\"color:blue\">+0.078</span> + <span style=\"color:blue\">+0.008</span> + <span style=\"color:blue\">+0.011</span> = <span style=\"color:red; text-decoration:underline\">-0.058</span></div><div style=\"font-family:monaco; font-size:12px\">dL/dw2 = <span style=\"color:blue\">+0.037</span> + <span style=\"color:blue\">+0.000</span> + <span style=\"color:blue\">-0.000</span> + <span style=\"color:red\">-0.018</span> + <span style=\"color:blue\">-0.000</span> + <span style=\"color:blue\">+0.078</span> + <span style=\"color:blue\">+0.008</span> + <span style=\"color:blue\">+0.011</span> = <span style=\"color:blue; text-decoration:underline\">+0.116</span></div><div style=\"font-family:monaco; font-size:12px\">dL/dw4 = <span style=\"color:blue\">+0.049</span> + <span style=\"color:blue\">+0.000</span> + <span style=\"color:red\">-0.077</span> + <span style=\"color:red\">-0.049</span> + <span style=\"color:red\">-0.077</span> + <span style=\"color:blue\">+0.070</span> + <span style=\"color:blue\">+0.000</span> + <span style=\"color:blue\">+0.027</span> = <span style=\"color:red; text-decoration:underline\">-0.057</span></div><div style=\"font-family:monaco; font-size:12px\">dL/dw5 = <span style=\"color:blue\">+0.049</span> + <span style=\"color:blue\">+0.000</span> + <span style=\"color:blue\">-0.000</span> + <span style=\"color:red\">-0.023</span> + <span style=\"color:blue\">-0.000</span> + <span style=\"color:blue\">+0.000</span> + <span style=\"color:red\">-0.022</span> + <span style=\"color:blue\">+0.054</span> = <span style=\"color:blue; text-decoration:underline\">+0.058</span></div>"
      ],
      "text/plain": [
       "<IPython.core.display.Markdown object>"
      ]
     },
     "metadata": {},
     "output_type": "display_data"
    },
    {
     "name": "stdout",
     "output_type": "stream",
     "text": [
      "w1=+0.734, w2=-0.105, w3=+1.000, w4=+0.711, w5=-0.224\n",
      "\n"
     ]
    },
    {
     "data": {
      "text/markdown": [
       "**Iteration 44**"
      ],
      "text/plain": [
       "<IPython.core.display.Markdown object>"
      ]
     },
     "metadata": {},
     "output_type": "display_data"
    },
    {
     "name": "stdout",
     "output_type": "stream",
     "text": [
      "Output: [+0.576, +0.500, +0.628, +0.696, +0.628, +0.610, +0.535, +0.459]\n",
      "Target: [+0.500, +0.500, +0.731, +0.731, +0.731, +0.500, +0.500, +0.500]\n",
      "Memory: [+0.306, +0.000, +0.522, +0.828, +0.522, +0.447, +0.141, -0.166]\n",
      "Input : [+0.629, -0.629, +0.734, +0.629, -0.629, -0.105, -0.629, -0.629]\n",
      "Gate  : [+0.487, +0.487, +0.711, +0.487, +0.487, +0.711, +0.487, +0.487]\n"
     ]
    },
    {
     "data": {
      "text/markdown": [
       "<div>Loss: **0.09345** = <span style=\"font-family:monaco\">0.012 + 0.000 + 0.024 + 0.003 + 0.024 + 0.025 + 0.002 + 0.003</span></div><div style=\"font-family:monaco; font-size:12px\">dL/dw1 = <span style=\"color:blue\">+0.037</span> + <span style=\"color:blue\">+0.000</span> + <span style=\"color:red\">-0.074</span> + <span style=\"color:red\">-0.042</span> + <span style=\"color:red\">-0.074</span> + <span style=\"color:blue\">+0.078</span> + <span style=\"color:blue\">+0.008</span> + <span style=\"color:blue\">+0.011</span> = <span style=\"color:red; text-decoration:underline\">-0.055</span></div><div style=\"font-family:monaco; font-size:12px\">dL/dw2 = <span style=\"color:blue\">+0.037</span> + <span style=\"color:blue\">+0.000</span> + <span style=\"color:blue\">-0.000</span> + <span style=\"color:red\">-0.017</span> + <span style=\"color:blue\">-0.000</span> + <span style=\"color:blue\">+0.078</span> + <span style=\"color:blue\">+0.008</span> + <span style=\"color:blue\">+0.011</span> = <span style=\"color:blue; text-decoration:underline\">+0.117</span></div><div style=\"font-family:monaco; font-size:12px\">dL/dw4 = <span style=\"color:blue\">+0.048</span> + <span style=\"color:blue\">+0.000</span> + <span style=\"color:red\">-0.076</span> + <span style=\"color:red\">-0.048</span> + <span style=\"color:red\">-0.076</span> + <span style=\"color:blue\">+0.069</span> + <span style=\"color:red\">-0.000</span> + <span style=\"color:blue\">+0.026</span> = <span style=\"color:red; text-decoration:underline\">-0.057</span></div><div style=\"font-family:monaco; font-size:12px\">dL/dw5 = <span style=\"color:blue\">+0.048</span> + <span style=\"color:blue\">+0.000</span> + <span style=\"color:blue\">-0.000</span> + <span style=\"color:red\">-0.022</span> + <span style=\"color:blue\">-0.000</span> + <span style=\"color:blue\">+0.000</span> + <span style=\"color:red\">-0.022</span> + <span style=\"color:blue\">+0.052</span> = <span style=\"color:blue; text-decoration:underline\">+0.056</span></div>"
      ],
      "text/plain": [
       "<IPython.core.display.Markdown object>"
      ]
     },
     "metadata": {},
     "output_type": "display_data"
    },
    {
     "name": "stdout",
     "output_type": "stream",
     "text": [
      "w1=+0.739, w2=-0.116, w3=+1.000, w4=+0.717, w5=-0.229\n",
      "\n"
     ]
    },
    {
     "data": {
      "text/markdown": [
       "**Iteration 45**"
      ],
      "text/plain": [
       "<IPython.core.display.Markdown object>"
      ]
     },
     "metadata": {},
     "output_type": "display_data"
    },
    {
     "name": "stdout",
     "output_type": "stream",
     "text": [
      "Output: [+0.575, +0.500, +0.629, +0.697, +0.629, +0.610, +0.536, +0.460]\n",
      "Target: [+0.500, +0.500, +0.731, +0.731, +0.731, +0.500, +0.500, +0.500]\n",
      "Memory: [+0.303, +0.000, +0.530, +0.833, +0.530, +0.446, +0.143, -0.161]\n",
      "Input : [+0.623, -0.623, +0.739, +0.623, -0.623, -0.116, -0.623, -0.623]\n",
      "Gate  : [+0.487, +0.487, +0.717, +0.487, +0.487, +0.717, +0.487, +0.487]\n"
     ]
    },
    {
     "data": {
      "text/markdown": [
       "<div>Loss: **0.09116** = <span style=\"font-family:monaco\">0.011 + 0.000 + 0.023 + 0.003 + 0.023 + 0.025 + 0.003 + 0.003</span></div><div style=\"font-family:monaco; font-size:12px\">dL/dw1 = <span style=\"color:blue\">+0.037</span> + <span style=\"color:blue\">+0.000</span> + <span style=\"color:red\">-0.073</span> + <span style=\"color:red\">-0.041</span> + <span style=\"color:red\">-0.073</span> + <span style=\"color:blue\">+0.079</span> + <span style=\"color:blue\">+0.008</span> + <span style=\"color:blue\">+0.010</span> = <span style=\"color:red; text-decoration:underline\">-0.053</span></div><div style=\"font-family:monaco; font-size:12px\">dL/dw2 = <span style=\"color:blue\">+0.037</span> + <span style=\"color:blue\">+0.000</span> + <span style=\"color:blue\">-0.000</span> + <span style=\"color:red\">-0.017</span> + <span style=\"color:blue\">-0.000</span> + <span style=\"color:blue\">+0.079</span> + <span style=\"color:blue\">+0.008</span> + <span style=\"color:blue\">+0.010</span> = <span style=\"color:blue; text-decoration:underline\">+0.117</span></div><div style=\"font-family:monaco; font-size:12px\">dL/dw4 = <span style=\"color:blue\">+0.047</span> + <span style=\"color:blue\">+0.000</span> + <span style=\"color:red\">-0.075</span> + <span style=\"color:red\">-0.046</span> + <span style=\"color:red\">-0.075</span> + <span style=\"color:blue\">+0.068</span> + <span style=\"color:blue\">+0.000</span> + <span style=\"color:blue\">+0.025</span> = <span style=\"color:red; text-decoration:underline\">-0.056</span></div><div style=\"font-family:monaco; font-size:12px\">dL/dw5 = <span style=\"color:blue\">+0.047</span> + <span style=\"color:blue\">+0.000</span> + <span style=\"color:blue\">-0.000</span> + <span style=\"color:red\">-0.021</span> + <span style=\"color:blue\">-0.000</span> + <span style=\"color:blue\">+0.000</span> + <span style=\"color:red\">-0.022</span> + <span style=\"color:blue\">+0.050</span> = <span style=\"color:blue; text-decoration:underline\">+0.053</span></div>"
      ],
      "text/plain": [
       "<IPython.core.display.Markdown object>"
      ]
     },
     "metadata": {},
     "output_type": "display_data"
    },
    {
     "name": "stdout",
     "output_type": "stream",
     "text": [
      "w1=+0.744, w2=-0.128, w3=+1.000, w4=+0.722, w5=-0.235\n",
      "\n"
     ]
    },
    {
     "data": {
      "text/markdown": [
       "**Iteration 46**"
      ],
      "text/plain": [
       "<IPython.core.display.Markdown object>"
      ]
     },
     "metadata": {},
     "output_type": "display_data"
    },
    {
     "name": "stdout",
     "output_type": "stream",
     "text": [
      "Output: [+0.575, +0.500, +0.631, +0.698, +0.631, +0.609, +0.536, +0.461]\n",
      "Target: [+0.500, +0.500, +0.731, +0.731, +0.731, +0.500, +0.500, +0.500]\n",
      "Memory: [+0.300, +0.000, +0.538, +0.838, +0.538, +0.445, +0.145, -0.156]\n",
      "Input : [+0.616, -0.616, +0.744, +0.616, -0.616, -0.128, -0.616, -0.616]\n",
      "Gate  : [+0.488, +0.488, +0.722, +0.488, +0.488, +0.722, +0.488, +0.488]\n"
     ]
    },
    {
     "data": {
      "text/markdown": [
       "<div>Loss: **0.08891** = <span style=\"font-family:monaco\">0.011 + 0.000 + 0.022 + 0.003 + 0.022 + 0.025 + 0.003 + 0.003</span></div><div style=\"font-family:monaco; font-size:12px\">dL/dw1 = <span style=\"color:blue\">+0.036</span> + <span style=\"color:blue\">+0.000</span> + <span style=\"color:red\">-0.072</span> + <span style=\"color:red\">-0.040</span> + <span style=\"color:red\">-0.072</span> + <span style=\"color:blue\">+0.079</span> + <span style=\"color:blue\">+0.008</span> + <span style=\"color:blue\">+0.010</span> = <span style=\"color:red; text-decoration:underline\">-0.050</span></div><div style=\"font-family:monaco; font-size:12px\">dL/dw2 = <span style=\"color:blue\">+0.036</span> + <span style=\"color:blue\">+0.000</span> + <span style=\"color:blue\">-0.000</span> + <span style=\"color:red\">-0.016</span> + <span style=\"color:blue\">-0.000</span> + <span style=\"color:blue\">+0.079</span> + <span style=\"color:blue\">+0.008</span> + <span style=\"color:blue\">+0.010</span> = <span style=\"color:blue; text-decoration:underline\">+0.118</span></div><div style=\"font-family:monaco; font-size:12px\">dL/dw4 = <span style=\"color:blue\">+0.046</span> + <span style=\"color:blue\">+0.000</span> + <span style=\"color:red\">-0.074</span> + <span style=\"color:red\">-0.045</span> + <span style=\"color:red\">-0.074</span> + <span style=\"color:blue\">+0.067</span> + <span style=\"color:blue\">+0.000</span> + <span style=\"color:blue\">+0.024</span> = <span style=\"color:red; text-decoration:underline\">-0.056</span></div><div style=\"font-family:monaco; font-size:12px\">dL/dw5 = <span style=\"color:blue\">+0.046</span> + <span style=\"color:blue\">+0.000</span> + <span style=\"color:blue\">-0.000</span> + <span style=\"color:red\">-0.020</span> + <span style=\"color:blue\">-0.000</span> + <span style=\"color:blue\">+0.000</span> + <span style=\"color:red\">-0.022</span> + <span style=\"color:blue\">+0.048</span> = <span style=\"color:blue; text-decoration:underline\">+0.051</span></div>"
      ],
      "text/plain": [
       "<IPython.core.display.Markdown object>"
      ]
     },
     "metadata": {},
     "output_type": "display_data"
    },
    {
     "name": "stdout",
     "output_type": "stream",
     "text": [
      "w1=+0.749, w2=-0.140, w3=+1.000, w4=+0.728, w5=-0.240\n",
      "\n"
     ]
    },
    {
     "data": {
      "text/markdown": [
       "**Iteration 47**"
      ],
      "text/plain": [
       "<IPython.core.display.Markdown object>"
      ]
     },
     "metadata": {},
     "output_type": "display_data"
    },
    {
     "name": "stdout",
     "output_type": "stream",
     "text": [
      "Output: [+0.574, +0.500, +0.633, +0.699, +0.633, +0.609, +0.536, +0.462]\n",
      "Target: [+0.500, +0.500, +0.731, +0.731, +0.731, +0.500, +0.500, +0.500]\n",
      "Memory: [+0.297, +0.000, +0.546, +0.843, +0.546, +0.444, +0.146, -0.151]\n",
      "Input : [+0.609, -0.609, +0.749, +0.609, -0.609, -0.140, -0.609, -0.609]\n",
      "Gate  : [+0.488, +0.488, +0.728, +0.488, +0.488, +0.728, +0.488, +0.488]\n"
     ]
    },
    {
     "data": {
      "text/markdown": [
       "<div>Loss: **0.08671** = <span style=\"font-family:monaco\">0.011 + 0.000 + 0.022 + 0.002 + 0.022 + 0.024 + 0.003 + 0.003</span></div><div style=\"font-family:monaco; font-size:12px\">dL/dw1 = <span style=\"color:blue\">+0.036</span> + <span style=\"color:blue\">+0.000</span> + <span style=\"color:red\">-0.071</span> + <span style=\"color:red\">-0.039</span> + <span style=\"color:red\">-0.071</span> + <span style=\"color:blue\">+0.079</span> + <span style=\"color:blue\">+0.009</span> + <span style=\"color:blue\">+0.009</span> = <span style=\"color:red; text-decoration:underline\">-0.048</span></div><div style=\"font-family:monaco; font-size:12px\">dL/dw2 = <span style=\"color:blue\">+0.036</span> + <span style=\"color:blue\">+0.000</span> + <span style=\"color:blue\">-0.000</span> + <span style=\"color:red\">-0.016</span> + <span style=\"color:blue\">-0.000</span> + <span style=\"color:blue\">+0.079</span> + <span style=\"color:blue\">+0.009</span> + <span style=\"color:blue\">+0.009</span> = <span style=\"color:blue; text-decoration:underline\">+0.118</span></div><div style=\"font-family:monaco; font-size:12px\">dL/dw4 = <span style=\"color:blue\">+0.045</span> + <span style=\"color:blue\">+0.000</span> + <span style=\"color:red\">-0.073</span> + <span style=\"color:red\">-0.043</span> + <span style=\"color:red\">-0.073</span> + <span style=\"color:blue\">+0.067</span> + <span style=\"color:blue\">+0.000</span> + <span style=\"color:blue\">+0.023</span> = <span style=\"color:red; text-decoration:underline\">-0.056</span></div><div style=\"font-family:monaco; font-size:12px\">dL/dw5 = <span style=\"color:blue\">+0.045</span> + <span style=\"color:blue\">+0.000</span> + <span style=\"color:blue\">-0.000</span> + <span style=\"color:red\">-0.019</span> + <span style=\"color:blue\">-0.000</span> + <span style=\"color:blue\">+0.000</span> + <span style=\"color:red\">-0.022</span> + <span style=\"color:blue\">+0.046</span> = <span style=\"color:blue; text-decoration:underline\">+0.049</span></div>"
      ],
      "text/plain": [
       "<IPython.core.display.Markdown object>"
      ]
     },
     "metadata": {},
     "output_type": "display_data"
    },
    {
     "name": "stdout",
     "output_type": "stream",
     "text": [
      "w1=+0.754, w2=-0.152, w3=+1.000, w4=+0.734, w5=-0.245\n",
      "\n"
     ]
    },
    {
     "data": {
      "text/markdown": [
       "**Iteration 48**"
      ],
      "text/plain": [
       "<IPython.core.display.Markdown object>"
      ]
     },
     "metadata": {},
     "output_type": "display_data"
    },
    {
     "name": "stdout",
     "output_type": "stream",
     "text": [
      "Output: [+0.573, +0.500, +0.635, +0.700, +0.635, +0.609, +0.537, +0.463]\n",
      "Target: [+0.500, +0.500, +0.731, +0.731, +0.731, +0.500, +0.500, +0.500]\n",
      "Memory: [+0.294, +0.000, +0.553, +0.848, +0.553, +0.442, +0.147, -0.147]\n",
      "Input : [+0.602, -0.602, +0.754, +0.602, -0.602, -0.152, -0.602, -0.602]\n",
      "Gate  : [+0.489, +0.489, +0.734, +0.489, +0.489, +0.734, +0.489, +0.489]\n"
     ]
    },
    {
     "data": {
      "text/markdown": [
       "<div>Loss: **0.08454** = <span style=\"font-family:monaco\">0.011 + 0.000 + 0.021 + 0.002 + 0.021 + 0.024 + 0.003 + 0.003</span></div><div style=\"font-family:monaco; font-size:12px\">dL/dw1 = <span style=\"color:blue\">+0.036</span> + <span style=\"color:blue\">+0.000</span> + <span style=\"color:red\">-0.071</span> + <span style=\"color:red\">-0.038</span> + <span style=\"color:red\">-0.071</span> + <span style=\"color:blue\">+0.080</span> + <span style=\"color:blue\">+0.009</span> + <span style=\"color:blue\">+0.009</span> = <span style=\"color:red; text-decoration:underline\">-0.046</span></div><div style=\"font-family:monaco; font-size:12px\">dL/dw2 = <span style=\"color:blue\">+0.036</span> + <span style=\"color:blue\">+0.000</span> + <span style=\"color:blue\">-0.000</span> + <span style=\"color:red\">-0.015</span> + <span style=\"color:blue\">-0.000</span> + <span style=\"color:blue\">+0.080</span> + <span style=\"color:blue\">+0.009</span> + <span style=\"color:blue\">+0.009</span> = <span style=\"color:blue; text-decoration:underline\">+0.118</span></div><div style=\"font-family:monaco; font-size:12px\">dL/dw4 = <span style=\"color:blue\">+0.044</span> + <span style=\"color:blue\">+0.000</span> + <span style=\"color:red\">-0.073</span> + <span style=\"color:red\">-0.042</span> + <span style=\"color:red\">-0.073</span> + <span style=\"color:blue\">+0.065</span> + <span style=\"color:blue\">+0.000</span> + <span style=\"color:blue\">+0.022</span> = <span style=\"color:red; text-decoration:underline\">-0.055</span></div><div style=\"font-family:monaco; font-size:12px\">dL/dw5 = <span style=\"color:blue\">+0.044</span> + <span style=\"color:blue\">+0.000</span> + <span style=\"color:blue\">-0.000</span> + <span style=\"color:red\">-0.019</span> + <span style=\"color:blue\">-0.000</span> + <span style=\"color:blue\">+0.000</span> + <span style=\"color:red\">-0.022</span> + <span style=\"color:blue\">+0.044</span> = <span style=\"color:blue; text-decoration:underline\">+0.047</span></div>"
      ],
      "text/plain": [
       "<IPython.core.display.Markdown object>"
      ]
     },
     "metadata": {},
     "output_type": "display_data"
    },
    {
     "name": "stdout",
     "output_type": "stream",
     "text": [
      "w1=+0.759, w2=-0.164, w3=+1.000, w4=+0.739, w5=-0.250\n",
      "\n"
     ]
    },
    {
     "data": {
      "text/markdown": [
       "**Iteration 49**"
      ],
      "text/plain": [
       "<IPython.core.display.Markdown object>"
      ]
     },
     "metadata": {},
     "output_type": "display_data"
    },
    {
     "name": "stdout",
     "output_type": "stream",
     "text": [
      "Output: [+0.572, +0.500, +0.637, +0.701, +0.637, +0.608, +0.537, +0.464]\n",
      "Target: [+0.500, +0.500, +0.731, +0.731, +0.731, +0.500, +0.500, +0.500]\n",
      "Memory: [+0.291, +0.000, +0.561, +0.852, +0.561, +0.440, +0.149, -0.143]\n",
      "Input : [+0.595, -0.595, +0.759, +0.595, -0.595, -0.164, -0.595, -0.595]\n",
      "Gate  : [+0.490, +0.490, +0.739, +0.490, +0.490, +0.739, +0.490, +0.490]\n"
     ]
    },
    {
     "data": {
      "text/markdown": [
       "<div>Loss: **0.08241** = <span style=\"font-family:monaco\">0.011 + 0.000 + 0.020 + 0.002 + 0.020 + 0.024 + 0.003 + 0.003</span></div><div style=\"font-family:monaco; font-size:12px\">dL/dw1 = <span style=\"color:blue\">+0.035</span> + <span style=\"color:blue\">+0.000</span> + <span style=\"color:red\">-0.070</span> + <span style=\"color:red\">-0.037</span> + <span style=\"color:red\">-0.070</span> + <span style=\"color:blue\">+0.080</span> + <span style=\"color:blue\">+0.009</span> + <span style=\"color:blue\">+0.009</span> = <span style=\"color:red; text-decoration:underline\">-0.043</span></div><div style=\"font-family:monaco; font-size:12px\">dL/dw2 = <span style=\"color:blue\">+0.035</span> + <span style=\"color:blue\">+0.000</span> + <span style=\"color:blue\">-0.000</span> + <span style=\"color:red\">-0.015</span> + <span style=\"color:blue\">-0.000</span> + <span style=\"color:blue\">+0.080</span> + <span style=\"color:blue\">+0.009</span> + <span style=\"color:blue\">+0.009</span> = <span style=\"color:blue; text-decoration:underline\">+0.119</span></div><div style=\"font-family:monaco; font-size:12px\">dL/dw4 = <span style=\"color:blue\">+0.043</span> + <span style=\"color:blue\">+0.000</span> + <span style=\"color:red\">-0.072</span> + <span style=\"color:red\">-0.041</span> + <span style=\"color:red\">-0.072</span> + <span style=\"color:blue\">+0.064</span> + <span style=\"color:blue\">+0.000</span> + <span style=\"color:blue\">+0.021</span> = <span style=\"color:red; text-decoration:underline\">-0.055</span></div><div style=\"font-family:monaco; font-size:12px\">dL/dw5 = <span style=\"color:blue\">+0.043</span> + <span style=\"color:blue\">+0.000</span> + <span style=\"color:blue\">-0.000</span> + <span style=\"color:red\">-0.018</span> + <span style=\"color:blue\">-0.000</span> + <span style=\"color:blue\">+0.000</span> + <span style=\"color:red\">-0.022</span> + <span style=\"color:blue\">+0.042</span> = <span style=\"color:blue; text-decoration:underline\">+0.046</span></div>"
      ],
      "text/plain": [
       "<IPython.core.display.Markdown object>"
      ]
     },
     "metadata": {},
     "output_type": "display_data"
    },
    {
     "name": "stdout",
     "output_type": "stream",
     "text": [
      "w1=+0.763, w2=-0.175, w3=+1.000, w4=+0.745, w5=-0.254\n",
      "\n"
     ]
    },
    {
     "data": {
      "text/markdown": [
       "**Iteration 99**"
      ],
      "text/plain": [
       "<IPython.core.display.Markdown object>"
      ]
     },
     "metadata": {},
     "output_type": "display_data"
    },
    {
     "name": "stdout",
     "output_type": "stream",
     "text": [
      "Output: [+0.528, +0.500, +0.700, +0.723, +0.700, +0.543, +0.515, +0.487]\n",
      "Target: [+0.500, +0.500, +0.731, +0.731, +0.731, +0.500, +0.500, +0.500]\n",
      "Memory: [+0.111, +0.000, +0.848, +0.960, +0.848, +0.171, +0.059, -0.052]\n",
      "Input : [+0.168, -0.168, +0.837, +0.168, -0.168, -0.669, -0.168, -0.168]\n",
      "Gate  : [+0.661, +0.661, +1.013, +0.661, +0.661, +1.013, +0.661, +0.661]\n"
     ]
    },
    {
     "data": {
      "text/markdown": [
       "<div>Loss: **0.01076** = <span style=\"font-family:monaco\">0.002 + 0.000 + 0.002 + 0.000 + 0.002 + 0.004 + 0.000 + 0.000</span></div><div style=\"font-family:monaco; font-size:12px\">dL/dw1 = <span style=\"color:blue\">+0.018</span> + <span style=\"color:blue\">+0.000</span> + <span style=\"color:red\">-0.031</span> + <span style=\"color:red\">-0.013</span> + <span style=\"color:red\">-0.031</span> + <span style=\"color:blue\">+0.043</span> + <span style=\"color:blue\">+0.005</span> + <span style=\"color:blue\">+0.004</span> = <span style=\"color:red; text-decoration:underline\">-0.005</span></div><div style=\"font-family:monaco; font-size:12px\">dL/dw2 = <span style=\"color:blue\">+0.018</span> + <span style=\"color:blue\">+0.000</span> + <span style=\"color:blue\">-0.000</span> + <span style=\"color:red\">-0.005</span> + <span style=\"color:blue\">-0.000</span> + <span style=\"color:blue\">+0.043</span> + <span style=\"color:blue\">+0.005</span> + <span style=\"color:blue\">+0.004</span> = <span style=\"color:blue; text-decoration:underline\">+0.065</span></div><div style=\"font-family:monaco; font-size:12px\">dL/dw4 = <span style=\"color:blue\">+0.005</span> + <span style=\"color:blue\">+0.000</span> + <span style=\"color:red\">-0.026</span> + <span style=\"color:red\">-0.008</span> + <span style=\"color:red\">-0.026</span> + <span style=\"color:blue\">+0.007</span> + <span style=\"color:blue\">+0.000</span> + <span style=\"color:blue\">+0.002</span> = <span style=\"color:red; text-decoration:underline\">-0.046</span></div><div style=\"font-family:monaco; font-size:12px\">dL/dw5 = <span style=\"color:blue\">+0.005</span> + <span style=\"color:blue\">+0.000</span> + <span style=\"color:blue\">-0.000</span> + <span style=\"color:red\">-0.001</span> + <span style=\"color:blue\">-0.000</span> + <span style=\"color:blue\">+0.000</span> + <span style=\"color:red\">-0.002</span> + <span style=\"color:blue\">+0.004</span> = <span style=\"color:blue; text-decoration:underline\">+0.005</span></div>"
      ],
      "text/plain": [
       "<IPython.core.display.Markdown object>"
      ]
     },
     "metadata": {},
     "output_type": "display_data"
    },
    {
     "name": "stdout",
     "output_type": "stream",
     "text": [
      "w1=+0.838, w2=-0.675, w3=+1.000, w4=+1.018, w5=-0.353\n",
      "\n"
     ]
    },
    {
     "data": {
      "text/markdown": [
       "**Iteration 149**"
      ],
      "text/plain": [
       "<IPython.core.display.Markdown object>"
      ]
     },
     "metadata": {},
     "output_type": "display_data"
    },
    {
     "name": "stdout",
     "output_type": "stream",
     "text": [
      "Output: [+0.504, +0.500, +0.726, +0.730, +0.726, +0.506, +0.502, +0.498]\n",
      "Target: [+0.500, +0.500, +0.731, +0.731, +0.731, +0.500, +0.500, +0.500]\n",
      "Memory: [+0.017, +0.000, +0.975, +0.993, +0.975, +0.025, +0.008, -0.009]\n",
      "Input : [+0.022, -0.022, +0.856, +0.022, -0.022, -0.834, -0.022, -0.022]\n",
      "Gate  : [+0.780, +0.780, +1.140, +0.780, +0.780, +1.140, +0.780, +0.780]\n"
     ]
    },
    {
     "data": {
      "text/markdown": [
       "<div>Loss: **0.00026** = <span style=\"font-family:monaco\">0.000 + 0.000 + 0.000 + 0.000 + 0.000 + 0.000 + 0.000 + 0.000</span></div><div style=\"font-family:monaco; font-size:12px\">dL/dw1 = <span style=\"color:blue\">+0.003</span> + <span style=\"color:blue\">+0.000</span> + <span style=\"color:red\">-0.006</span> + <span style=\"color:red\">-0.003</span> + <span style=\"color:red\">-0.006</span> + <span style=\"color:blue\">+0.007</span> + <span style=\"color:blue\">+0.001</span> + <span style=\"color:blue\">+0.001</span> = <span style=\"color:red; text-decoration:underline\">-0.002</span></div><div style=\"font-family:monaco; font-size:12px\">dL/dw2 = <span style=\"color:blue\">+0.003</span> + <span style=\"color:blue\">+0.000</span> + <span style=\"color:blue\">-0.000</span> + <span style=\"color:red\">-0.001</span> + <span style=\"color:blue\">-0.000</span> + <span style=\"color:blue\">+0.007</span> + <span style=\"color:blue\">+0.001</span> + <span style=\"color:blue\">+0.001</span> = <span style=\"color:blue; text-decoration:underline\">+0.011</span></div><div style=\"font-family:monaco; font-size:12px\">dL/dw4 = <span style=\"color:blue\">+0.000</span> + <span style=\"color:blue\">+0.000</span> + <span style=\"color:red\">-0.004</span> + <span style=\"color:red\">-0.001</span> + <span style=\"color:red\">-0.004</span> + <span style=\"color:blue\">+0.000</span> + <span style=\"color:blue\">+0.000</span> + <span style=\"color:blue\">+0.000</span> = <span style=\"color:red; text-decoration:underline\">-0.009</span></div><div style=\"font-family:monaco; font-size:12px\">dL/dw5 = <span style=\"color:blue\">+0.000</span> + <span style=\"color:blue\">+0.000</span> + <span style=\"color:blue\">-0.000</span> + <span style=\"color:red\">-0.000</span> + <span style=\"color:blue\">-0.000</span> + <span style=\"color:blue\">+0.000</span> + <span style=\"color:red\">-0.000</span> + <span style=\"color:blue\">+0.000</span> = <span style=\"color:blue; text-decoration:underline\">+0.000</span></div>"
      ],
      "text/plain": [
       "<IPython.core.display.Markdown object>"
      ]
     },
     "metadata": {},
     "output_type": "display_data"
    },
    {
     "name": "stdout",
     "output_type": "stream",
     "text": [
      "w1=+0.856, w2=-0.835, w3=+1.000, w4=+1.141, w5=-0.360\n",
      "\n"
     ]
    },
    {
     "data": {
      "text/markdown": [
       "**Iteration 199**"
      ],
      "text/plain": [
       "<IPython.core.display.Markdown object>"
      ]
     },
     "metadata": {},
     "output_type": "display_data"
    },
    {
     "name": "stdout",
     "output_type": "stream",
     "text": [
      "Output: [+0.500, +0.500, +0.730, +0.731, +0.730, +0.501, +0.500, +0.500]\n",
      "Target: [+0.500, +0.500, +0.731, +0.731, +0.731, +0.500, +0.500, +0.500]\n",
      "Memory: [+0.002, +0.000, +0.997, +0.999, +0.997, +0.003, +0.001, -0.001]\n",
      "Input : [+0.002, -0.002, +0.859, +0.002, -0.002, -0.857, -0.002, -0.002]\n",
      "Gate  : [+0.800, +0.800, +1.160, +0.800, +0.800, +1.160, +0.800, +0.800]\n"
     ]
    },
    {
     "data": {
      "text/markdown": [
       "<div>Loss: **0.00000** = <span style=\"font-family:monaco\">0.000 + 0.000 + 0.000 + 0.000 + 0.000 + 0.000 + 0.000 + 0.000</span></div><div style=\"font-family:monaco; font-size:12px\">dL/dw1 = <span style=\"color:blue\">+0.000</span> + <span style=\"color:blue\">+0.000</span> + <span style=\"color:red\">-0.001</span> + <span style=\"color:red\">-0.000</span> + <span style=\"color:red\">-0.001</span> + <span style=\"color:blue\">+0.001</span> + <span style=\"color:blue\">+0.000</span> + <span style=\"color:blue\">+0.000</span> = <span style=\"color:red; text-decoration:underline\">-0.000</span></div><div style=\"font-family:monaco; font-size:12px\">dL/dw2 = <span style=\"color:blue\">+0.000</span> + <span style=\"color:blue\">+0.000</span> + <span style=\"color:blue\">-0.000</span> + <span style=\"color:red\">-0.000</span> + <span style=\"color:blue\">-0.000</span> + <span style=\"color:blue\">+0.001</span> + <span style=\"color:blue\">+0.000</span> + <span style=\"color:blue\">+0.000</span> = <span style=\"color:blue; text-decoration:underline\">+0.001</span></div><div style=\"font-family:monaco; font-size:12px\">dL/dw4 = <span style=\"color:blue\">+0.000</span> + <span style=\"color:blue\">+0.000</span> + <span style=\"color:red\">-0.000</span> + <span style=\"color:red\">-0.000</span> + <span style=\"color:red\">-0.000</span> + <span style=\"color:blue\">+0.000</span> + <span style=\"color:blue\">+0.000</span> + <span style=\"color:blue\">+0.000</span> = <span style=\"color:red; text-decoration:underline\">-0.001</span></div><div style=\"font-family:monaco; font-size:12px\">dL/dw5 = <span style=\"color:blue\">+0.000</span> + <span style=\"color:blue\">+0.000</span> + <span style=\"color:blue\">-0.000</span> + <span style=\"color:red\">-0.000</span> + <span style=\"color:blue\">-0.000</span> + <span style=\"color:blue\">+0.000</span> + <span style=\"color:red\">-0.000</span> + <span style=\"color:blue\">+0.000</span> = <span style=\"color:blue; text-decoration:underline\">+0.000</span></div>"
      ],
      "text/plain": [
       "<IPython.core.display.Markdown object>"
      ]
     },
     "metadata": {},
     "output_type": "display_data"
    },
    {
     "name": "stdout",
     "output_type": "stream",
     "text": [
      "w1=+0.860, w2=-0.857, w3=+1.000, w4=+1.160, w5=-0.360\n",
      "\n"
     ]
    },
    {
     "data": {
      "text/markdown": [
       "**Iteration 249**"
      ],
      "text/plain": [
       "<IPython.core.display.Markdown object>"
      ]
     },
     "metadata": {},
     "output_type": "display_data"
    },
    {
     "name": "stdout",
     "output_type": "stream",
     "text": [
      "Output: [+0.500, +0.500, +0.731, +0.731, +0.731, +0.500, +0.500, +0.500]\n",
      "Target: [+0.500, +0.500, +0.731, +0.731, +0.731, +0.500, +0.500, +0.500]\n",
      "Memory: [+0.000, +0.000, +1.000, +1.000, +1.000, +0.000, +0.000, -0.000]\n",
      "Input : [+0.000, -0.000, +0.860, +0.000, -0.000, -0.860, -0.000, -0.000]\n",
      "Gate  : [+0.803, +0.803, +1.162, +0.803, +0.803, +1.162, +0.803, +0.803]\n"
     ]
    },
    {
     "data": {
      "text/markdown": [
       "<div>Loss: **0.00000** = <span style=\"font-family:monaco\">0.000 + 0.000 + 0.000 + 0.000 + 0.000 + 0.000 + 0.000 + 0.000</span></div><div style=\"font-family:monaco; font-size:12px\">dL/dw1 = <span style=\"color:blue\">+0.000</span> + <span style=\"color:blue\">+0.000</span> + <span style=\"color:red\">-0.000</span> + <span style=\"color:red\">-0.000</span> + <span style=\"color:red\">-0.000</span> + <span style=\"color:blue\">+0.000</span> + <span style=\"color:blue\">+0.000</span> + <span style=\"color:blue\">+0.000</span> = <span style=\"color:red; text-decoration:underline\">-0.000</span></div><div style=\"font-family:monaco; font-size:12px\">dL/dw2 = <span style=\"color:blue\">+0.000</span> + <span style=\"color:blue\">+0.000</span> + <span style=\"color:blue\">-0.000</span> + <span style=\"color:red\">-0.000</span> + <span style=\"color:blue\">-0.000</span> + <span style=\"color:blue\">+0.000</span> + <span style=\"color:blue\">+0.000</span> + <span style=\"color:blue\">+0.000</span> = <span style=\"color:blue; text-decoration:underline\">+0.000</span></div><div style=\"font-family:monaco; font-size:12px\">dL/dw4 = <span style=\"color:blue\">+0.000</span> + <span style=\"color:blue\">+0.000</span> + <span style=\"color:red\">-0.000</span> + <span style=\"color:red\">-0.000</span> + <span style=\"color:red\">-0.000</span> + <span style=\"color:blue\">+0.000</span> + <span style=\"color:blue\">+0.000</span> + <span style=\"color:blue\">+0.000</span> = <span style=\"color:red; text-decoration:underline\">-0.000</span></div><div style=\"font-family:monaco; font-size:12px\">dL/dw5 = <span style=\"color:blue\">+0.000</span> + <span style=\"color:blue\">+0.000</span> + <span style=\"color:blue\">-0.000</span> + <span style=\"color:red\">-0.000</span> + <span style=\"color:blue\">-0.000</span> + <span style=\"color:blue\">+0.000</span> + <span style=\"color:red\">-0.000</span> + <span style=\"color:blue\">+0.000</span> = <span style=\"color:blue; text-decoration:underline\">+0.000</span></div>"
      ],
      "text/plain": [
       "<IPython.core.display.Markdown object>"
      ]
     },
     "metadata": {},
     "output_type": "display_data"
    },
    {
     "name": "stdout",
     "output_type": "stream",
     "text": [
      "w1=+0.860, w2=-0.860, w3=+1.000, w4=+1.162, w5=-0.360\n",
      "\n"
     ]
    },
    {
     "data": {
      "text/plain": [
       "(0.8599643112688363,\n",
       " -0.859699702729852,\n",
       " 1.0,\n",
       " 1.162480041288255,\n",
       " -0.3597956247833731)"
      ]
     },
     "execution_count": 83,
     "metadata": {},
     "output_type": "execute_result"
    }
   ],
   "source": [
    "experiment_gated('ab(ab)bb', _w1=1.0, _w2=1.0, _w4=1.0, _w5=1.0, alpha=1e-1, max_iter=250, fixed_w3=True)"
   ]
  },
  {
   "cell_type": "markdown",
   "metadata": {
    "collapsed": true
   },
   "source": [
    "## Discussion\n",
    "\n",
    "We see that after adding input gate (assuming it is possible for the input gate to exhibit the same properties as the _true_ input gate, manifested by using bilinear gate here), can reach the optimal (loss = 0.0) faster (after iteration 199) compared to the one without input gate (only after iteration 249), although there are more parameters to learn with the input gate (two more: $w_4$ and $w_5$) and that the initial loss is higher with input gate (due to the incorrect gate value initially).\n",
    "\n",
    "Also we see that the gate learned is actually not the true gate that we want. This is because the input is already separable even without input gate.\n",
    "\n",
    "## Noisy embedding\n",
    "\n",
    "In previous experiment, the input gate learned is not the true gate that we want, but that's because the input embedding is ideal, i.e., it allows separation even without input gate.\n",
    "\n",
    "Now let's experiment with noisy embedding, in which the true function cannot be obtained without input gate."
   ]
  },
  {
   "cell_type": "code",
   "execution_count": 104,
   "metadata": {
    "collapsed": false
   },
   "outputs": [
    {
     "name": "stdout",
     "output_type": "stream",
     "text": [
      "{'(': (1, 0),\n",
      " ')': (0, 1),\n",
      " 'a': (0.9716151077177457, 1.0292141322801458),\n",
      " 'b': (-0.996461318907738, -1.003551247825797)}\n"
     ]
    }
   ],
   "source": [
    "import random\n",
    "a_1 = 1.0 + 0.1*(random.random()-0.5)\n",
    "a_2 = 1.0/a_1\n",
    "b_1 = -1.0 + 0.1*(random.random()-0.5)\n",
    "b_2 = 1.0/b_1\n",
    "embedding['a'] = (a_1, a_2)\n",
    "embedding['b'] = (b_1, b_2)\n",
    "embedding['('] = (1, 0)\n",
    "embedding[')'] = (0, 1)\n",
    "\n",
    "from pprint import pprint\n",
    "pprint(embedding)"
   ]
  },
  {
   "cell_type": "code",
   "execution_count": 119,
   "metadata": {
    "collapsed": false
   },
   "outputs": [
    {
     "name": "stdout",
     "output_type": "stream",
     "text": [
      "w1=+1.000, w2=+1.000, w3=+1.000\n"
     ]
    },
    {
     "data": {
      "text/markdown": [
       "<div>**Iteration 0**</div>"
      ],
      "text/plain": [
       "<IPython.core.display.Markdown object>"
      ]
     },
     "metadata": {},
     "output_type": "display_data"
    },
    {
     "name": "stdout",
     "output_type": "stream",
     "text": [
      "Output: [+0.881, +0.500, +0.731, +0.953, +0.731, +0.881, +0.500, +0.119]\n",
      "Target: [+0.500, +0.500, +0.731, +0.731, +0.731, +0.500, +0.500, +0.500]\n",
      "Memory: [+2.001, +0.001, +1.001, +3.002, +1.002, +2.002, +0.002, -1.998]\n"
     ]
    },
    {
     "data": {
      "text/markdown": [
       "<div>Loss: **1.57524** = <span style=\"font-family:monaco; font-size:12px\">0.434 + 0.000 + 0.000 + 0.274 + 0.000 + 0.434 + 0.000 + 0.433</span></div><div style=\"font-family:monaco; font-size:12px\">dL/dw1 = <span style=\"color:blue\">+0.370</span> + <span style=\"color:red\">-0.000</span> + <span style=\"color:blue\">+0.000</span> + <span style=\"color:blue\">+0.431</span> + <span style=\"color:blue\">+0.000</span> + <span style=\"color:blue\">+0.362</span> + <span style=\"color:red\">-0.000</span> + <span style=\"color:blue\">+0.397</span> = <span style=\"color:blue; text-decoration:underline\">+1.561</span></div><div style=\"font-family:monaco; font-size:12px\">dL/dw2 = <span style=\"color:blue\">+0.392</span> + <span style=\"color:blue\">+0.000</span> + <span style=\"color:blue\">+0.000</span> + <span style=\"color:blue\">+0.234</span> + <span style=\"color:blue\">+0.000</span> + <span style=\"color:blue\">+0.401</span> + <span style=\"color:blue\">+0.000</span> + <span style=\"color:blue\">+0.364</span> = <span style=\"color:blue; text-decoration:underline\">+1.390</span></div>"
      ],
      "text/plain": [
       "<IPython.core.display.Markdown object>"
      ]
     },
     "metadata": {},
     "output_type": "display_data"
    },
    {
     "name": "stdout",
     "output_type": "stream",
     "text": [
      "w1=+0.844, w2=+0.861, w3=+1.000\n",
      "\n"
     ]
    },
    {
     "data": {
      "text/markdown": [
       "<div>**Iteration 1**</div>"
      ],
      "text/plain": [
       "<IPython.core.display.Markdown object>"
      ]
     },
     "metadata": {},
     "output_type": "display_data"
    },
    {
     "name": "stdout",
     "output_type": "stream",
     "text": [
      "Output: [+0.846, +0.500, +0.700, +0.928, +0.700, +0.846, +0.501, +0.154]\n",
      "Target: [+0.500, +0.500, +0.731, +0.731, +0.731, +0.500, +0.500, +0.500]\n",
      "Memory: [+1.706, +0.001, +0.845, +2.551, +0.846, +1.707, +0.002, -1.703]\n"
     ]
    },
    {
     "data": {
      "text/markdown": [
       "<div>Loss: **1.16328** = <span style=\"font-family:monaco; font-size:12px\">0.327 + 0.000 + 0.002 + 0.179 + 0.002 + 0.327 + 0.000 + 0.326</span></div><div style=\"font-family:monaco; font-size:12px\">dL/dw1 = <span style=\"color:blue\">+0.337</span> + <span style=\"color:red\">-0.000</span> + <span style=\"color:red\">-0.031</span> + <span style=\"color:blue\">+0.383</span> + <span style=\"color:red\">-0.030</span> + <span style=\"color:blue\">+0.329</span> + <span style=\"color:red\">-0.000</span> + <span style=\"color:blue\">+0.361</span> = <span style=\"color:blue; text-decoration:underline\">+1.349</span></div><div style=\"font-family:monaco; font-size:12px\">dL/dw2 = <span style=\"color:blue\">+0.356</span> + <span style=\"color:blue\">+0.000</span> + <span style=\"color:red\">-0.001</span> + <span style=\"color:blue\">+0.207</span> + <span style=\"color:red\">-0.002</span> + <span style=\"color:blue\">+0.364</span> + <span style=\"color:blue\">+0.000</span> + <span style=\"color:blue\">+0.331</span> = <span style=\"color:blue; text-decoration:underline\">+1.256</span></div>"
      ],
      "text/plain": [
       "<IPython.core.display.Markdown object>"
      ]
     },
     "metadata": {},
     "output_type": "display_data"
    },
    {
     "name": "stdout",
     "output_type": "stream",
     "text": [
      "w1=+0.709, w2=+0.735, w3=+1.000\n",
      "\n"
     ]
    },
    {
     "data": {
      "text/markdown": [
       "<div>**Iteration 2**</div>"
      ],
      "text/plain": [
       "<IPython.core.display.Markdown object>"
      ]
     },
     "metadata": {},
     "output_type": "display_data"
    },
    {
     "name": "stdout",
     "output_type": "stream",
     "text": [
      "Output: [+0.809, +0.500, +0.670, +0.896, +0.671, +0.810, +0.501, +0.191]\n",
      "Target: [+0.500, +0.500, +0.731, +0.731, +0.731, +0.500, +0.500, +0.500]\n",
      "Memory: [+1.446, +0.001, +0.710, +2.156, +0.712, +1.447, +0.002, -1.442]\n"
     ]
    },
    {
     "data": {
      "text/markdown": [
       "<div>Loss: **0.84737** = <span style=\"font-family:monaco; font-size:12px\">0.241 + 0.000 + 0.009 + 0.107 + 0.009 + 0.242 + 0.000 + 0.240</span></div><div style=\"font-family:monaco; font-size:12px\">dL/dw1 = <span style=\"color:blue\">+0.301</span> + <span style=\"color:red\">-0.000</span> + <span style=\"color:red\">-0.059</span> + <span style=\"color:blue\">+0.322</span> + <span style=\"color:red\">-0.057</span> + <span style=\"color:blue\">+0.294</span> + <span style=\"color:red\">-0.000</span> + <span style=\"color:blue\">+0.322</span> = <span style=\"color:blue; text-decoration:underline\">+1.122</span></div><div style=\"font-family:monaco; font-size:12px\">dL/dw2 = <span style=\"color:blue\">+0.318</span> + <span style=\"color:blue\">+0.000</span> + <span style=\"color:red\">-0.002</span> + <span style=\"color:blue\">+0.174</span> + <span style=\"color:red\">-0.003</span> + <span style=\"color:blue\">+0.325</span> + <span style=\"color:blue\">+0.000</span> + <span style=\"color:blue\">+0.295</span> = <span style=\"color:blue; text-decoration:underline\">+1.109</span></div>"
      ],
      "text/plain": [
       "<IPython.core.display.Markdown object>"
      ]
     },
     "metadata": {},
     "output_type": "display_data"
    },
    {
     "name": "stdout",
     "output_type": "stream",
     "text": [
      "w1=+0.597, w2=+0.625, w3=+1.000\n",
      "\n"
     ]
    },
    {
     "data": {
      "text/markdown": [
       "<div>**Iteration 3**</div>"
      ],
      "text/plain": [
       "<IPython.core.display.Markdown object>"
      ]
     },
     "metadata": {},
     "output_type": "display_data"
    },
    {
     "name": "stdout",
     "output_type": "stream",
     "text": [
      "Output: [+0.773, +0.500, +0.645, +0.861, +0.645, +0.773, +0.501, +0.228]\n",
      "Target: [+0.500, +0.500, +0.731, +0.731, +0.731, +0.500, +0.500, +0.500]\n",
      "Memory: [+1.223, +0.001, +0.598, +1.821, +0.599, +1.224, +0.002, -1.219]\n"
     ]
    },
    {
     "data": {
      "text/markdown": [
       "<div>Loss: **0.61923** = <span style=\"font-family:monaco; font-size:12px\">0.176 + 0.000 + 0.017 + 0.058 + 0.017 + 0.177 + 0.000 + 0.175</span></div><div style=\"font-family:monaco; font-size:12px\">dL/dw1 = <span style=\"color:blue\">+0.265</span> + <span style=\"color:red\">-0.000</span> + <span style=\"color:red\">-0.084</span> + <span style=\"color:blue\">+0.252</span> + <span style=\"color:red\">-0.081</span> + <span style=\"color:blue\">+0.259</span> + <span style=\"color:red\">-0.000</span> + <span style=\"color:blue\">+0.284</span> = <span style=\"color:blue; text-decoration:underline\">+0.895</span></div><div style=\"font-family:monaco; font-size:12px\">dL/dw2 = <span style=\"color:blue\">+0.280</span> + <span style=\"color:blue\">+0.000</span> + <span style=\"color:red\">-0.002</span> + <span style=\"color:blue\">+0.137</span> + <span style=\"color:red\">-0.004</span> + <span style=\"color:blue\">+0.287</span> + <span style=\"color:blue\">+0.000</span> + <span style=\"color:blue\">+0.260</span> = <span style=\"color:blue; text-decoration:underline\">+0.957</span></div>"
      ],
      "text/plain": [
       "<IPython.core.display.Markdown object>"
      ]
     },
     "metadata": {},
     "output_type": "display_data"
    },
    {
     "name": "stdout",
     "output_type": "stream",
     "text": [
      "w1=+0.507, w2=+0.529, w3=+1.000\n",
      "\n"
     ]
    },
    {
     "data": {
      "text/markdown": [
       "<div>**Iteration 4**</div>"
      ],
      "text/plain": [
       "<IPython.core.display.Markdown object>"
      ]
     },
     "metadata": {},
     "output_type": "display_data"
    },
    {
     "name": "stdout",
     "output_type": "stream",
     "text": [
      "Output: [+0.738, +0.500, +0.624, +0.824, +0.625, +0.738, +0.500, +0.262]\n",
      "Target: [+0.500, +0.500, +0.731, +0.731, +0.731, +0.500, +0.500, +0.500]\n",
      "Memory: [+1.037, +0.001, +0.508, +1.546, +0.509, +1.038, +0.002, -1.034]\n"
     ]
    },
    {
     "data": {
      "text/markdown": [
       "<div>Loss: **0.46361** = <span style=\"font-family:monaco; font-size:12px\">0.129 + 0.000 + 0.025 + 0.027 + 0.025 + 0.129 + 0.000 + 0.128</span></div><div style=\"font-family:monaco; font-size:12px\">dL/dw1 = <span style=\"color:blue\">+0.232</span> + <span style=\"color:red\">-0.000</span> + <span style=\"color:red\">-0.104</span> + <span style=\"color:blue\">+0.181</span> + <span style=\"color:red\">-0.101</span> + <span style=\"color:blue\">+0.227</span> + <span style=\"color:red\">-0.000</span> + <span style=\"color:blue\">+0.248</span> = <span style=\"color:blue; text-decoration:underline\">+0.682</span></div><div style=\"font-family:monaco; font-size:12px\">dL/dw2 = <span style=\"color:blue\">+0.245</span> + <span style=\"color:blue\">+0.000</span> + <span style=\"color:red\">-0.003</span> + <span style=\"color:blue\">+0.098</span> + <span style=\"color:red\">-0.005</span> + <span style=\"color:blue\">+0.251</span> + <span style=\"color:blue\">+0.000</span> + <span style=\"color:blue\">+0.227</span> = <span style=\"color:blue; text-decoration:underline\">+0.813</span></div>"
      ],
      "text/plain": [
       "<IPython.core.display.Markdown object>"
      ]
     },
     "metadata": {},
     "output_type": "display_data"
    },
    {
     "name": "stdout",
     "output_type": "stream",
     "text": [
      "w1=+0.439, w2=+0.447, w3=+1.000\n",
      "\n"
     ]
    },
    {
     "data": {
      "text/markdown": [
       "<div>**Iteration 5**</div>"
      ],
      "text/plain": [
       "<IPython.core.display.Markdown object>"
      ]
     },
     "metadata": {},
     "output_type": "display_data"
    },
    {
     "name": "stdout",
     "output_type": "stream",
     "text": [
      "Output: [+0.708, +0.500, +0.608, +0.790, +0.608, +0.708, +0.500, +0.292]\n",
      "Target: [+0.500, +0.500, +0.731, +0.731, +0.731, +0.500, +0.500, +0.500]\n",
      "Memory: [+0.887, +0.001, +0.440, +1.327, +0.440, +0.888, +0.001, -0.886]\n"
     ]
    },
    {
     "data": {
      "text/markdown": [
       "<div>Loss: **0.36227** = <span style=\"font-family:monaco; font-size:12px\">0.095 + 0.000 + 0.033 + 0.010 + 0.033 + 0.095 + 0.000 + 0.095</span></div><div style=\"font-family:monaco; font-size:12px\">dL/dw1 = <span style=\"color:blue\">+0.202</span> + <span style=\"color:red\">-0.000</span> + <span style=\"color:red\">-0.120</span> + <span style=\"color:blue\">+0.115</span> + <span style=\"color:red\">-0.117</span> + <span style=\"color:blue\">+0.198</span> + <span style=\"color:red\">-0.000</span> + <span style=\"color:blue\">+0.217</span> = <span style=\"color:blue; text-decoration:underline\">+0.496</span></div><div style=\"font-family:monaco; font-size:12px\">dL/dw2 = <span style=\"color:blue\">+0.214</span> + <span style=\"color:blue\">+0.000</span> + <span style=\"color:red\">-0.003</span> + <span style=\"color:blue\">+0.063</span> + <span style=\"color:red\">-0.006</span> + <span style=\"color:blue\">+0.219</span> + <span style=\"color:blue\">+0.000</span> + <span style=\"color:blue\">+0.199</span> = <span style=\"color:blue; text-decoration:underline\">+0.685</span></div>"
      ],
      "text/plain": [
       "<IPython.core.display.Markdown object>"
      ]
     },
     "metadata": {},
     "output_type": "display_data"
    },
    {
     "name": "stdout",
     "output_type": "stream",
     "text": [
      "w1=+0.390, w2=+0.379, w3=+1.000\n",
      "\n"
     ]
    },
    {
     "data": {
      "text/markdown": [
       "<div>**Iteration 6**</div>"
      ],
      "text/plain": [
       "<IPython.core.display.Markdown object>"
      ]
     },
     "metadata": {},
     "output_type": "display_data"
    },
    {
     "name": "stdout",
     "output_type": "stream",
     "text": [
      "Output: [+0.683, +0.500, +0.596, +0.761, +0.596, +0.683, +0.500, +0.317]\n",
      "Target: [+0.500, +0.500, +0.731, +0.731, +0.731, +0.500, +0.500, +0.500]\n",
      "Memory: [+0.768, +0.000, +0.390, +1.158, +0.390, +0.769, +0.000, -0.768]\n"
     ]
    },
    {
     "data": {
      "text/markdown": [
       "<div>Loss: **0.29813** = <span style=\"font-family:monaco; font-size:12px\">0.072 + 0.000 + 0.040 + 0.002 + 0.040 + 0.072 + 0.000 + 0.072</span></div><div style=\"font-family:monaco; font-size:12px\">dL/dw1 = <span style=\"color:blue\">+0.178</span> + <span style=\"color:red\">-0.000</span> + <span style=\"color:red\">-0.132</span> + <span style=\"color:blue\">+0.058</span> + <span style=\"color:red\">-0.128</span> + <span style=\"color:blue\">+0.174</span> + <span style=\"color:red\">-0.000</span> + <span style=\"color:blue\">+0.191</span> = <span style=\"color:blue; text-decoration:underline\">+0.342</span></div><div style=\"font-family:monaco; font-size:12px\">dL/dw2 = <span style=\"color:blue\">+0.189</span> + <span style=\"color:blue\">+0.000</span> + <span style=\"color:red\">-0.003</span> + <span style=\"color:blue\">+0.032</span> + <span style=\"color:red\">-0.007</span> + <span style=\"color:blue\">+0.193</span> + <span style=\"color:blue\">+0.000</span> + <span style=\"color:blue\">+0.175</span> = <span style=\"color:blue; text-decoration:underline\">+0.577</span></div>"
      ],
      "text/plain": [
       "<IPython.core.display.Markdown object>"
      ]
     },
     "metadata": {},
     "output_type": "display_data"
    },
    {
     "name": "stdout",
     "output_type": "stream",
     "text": [
      "w1=+0.355, w2=+0.321, w3=+1.000\n",
      "\n"
     ]
    },
    {
     "data": {
      "text/markdown": [
       "<div>**Iteration 7**</div>"
      ],
      "text/plain": [
       "<IPython.core.display.Markdown object>"
      ]
     },
     "metadata": {},
     "output_type": "display_data"
    },
    {
     "name": "stdout",
     "output_type": "stream",
     "text": [
      "Output: [+0.663, +0.500, +0.588, +0.737, +0.588, +0.663, +0.500, +0.337]\n",
      "Target: [+0.500, +0.500, +0.731, +0.731, +0.731, +0.500, +0.500, +0.500]\n",
      "Memory: [+0.676, -0.001, +0.355, +1.031, +0.354, +0.675, -0.001, -0.677]\n"
     ]
    },
    {
     "data": {
      "text/markdown": [
       "<div>Loss: **0.25772** = <span style=\"font-family:monaco; font-size:12px\">0.056 + 0.000 + 0.045 + 0.000 + 0.045 + 0.056 + 0.000 + 0.056</span></div><div style=\"font-family:monaco; font-size:12px\">dL/dw1 = <span style=\"color:blue\">+0.158</span> + <span style=\"color:blue\">+0.000</span> + <span style=\"color:red\">-0.140</span> + <span style=\"color:blue\">+0.012</span> + <span style=\"color:red\">-0.136</span> + <span style=\"color:blue\">+0.155</span> + <span style=\"color:blue\">+0.000</span> + <span style=\"color:blue\">+0.170</span> = <span style=\"color:blue; text-decoration:underline\">+0.219</span></div><div style=\"font-family:monaco; font-size:12px\">dL/dw2 = <span style=\"color:blue\">+0.168</span> + <span style=\"color:red\">-0.000</span> + <span style=\"color:red\">-0.004</span> + <span style=\"color:blue\">+0.006</span> + <span style=\"color:red\">-0.007</span> + <span style=\"color:blue\">+0.171</span> + <span style=\"color:red\">-0.000</span> + <span style=\"color:blue\">+0.156</span> = <span style=\"color:blue; text-decoration:underline\">+0.490</span></div>"
      ],
      "text/plain": [
       "<IPython.core.display.Markdown object>"
      ]
     },
     "metadata": {},
     "output_type": "display_data"
    },
    {
     "name": "stdout",
     "output_type": "stream",
     "text": [
      "w1=+0.334, w2=+0.272, w3=+1.000\n",
      "\n"
     ]
    },
    {
     "data": {
      "text/markdown": [
       "<div>**Iteration 8**</div>"
      ],
      "text/plain": [
       "<IPython.core.display.Markdown object>"
      ]
     },
     "metadata": {},
     "output_type": "display_data"
    },
    {
     "name": "stdout",
     "output_type": "stream",
     "text": [
      "Output: [+0.647, +0.500, +0.582, +0.718, +0.582, +0.646, +0.499, +0.353]\n",
      "Target: [+0.500, +0.500, +0.731, +0.731, +0.731, +0.500, +0.500, +0.500]\n",
      "Memory: [+0.604, -0.001, +0.332, +0.936, +0.331, +0.603, -0.002, -0.608]\n"
     ]
    },
    {
     "data": {
      "text/markdown": [
       "<div>Loss: **0.23167** = <span style=\"font-family:monaco; font-size:12px\">0.045 + 0.000 + 0.048 + 0.000 + 0.048 + 0.045 + 0.000 + 0.045</span></div><div style=\"font-family:monaco; font-size:12px\">dL/dw1 = <span style=\"color:blue\">+0.142</span> + <span style=\"color:blue\">+0.000</span> + <span style=\"color:red\">-0.145</span> + <span style=\"color:red\">-0.025</span> + <span style=\"color:red\">-0.142</span> + <span style=\"color:blue\">+0.139</span> + <span style=\"color:blue\">+0.000</span> + <span style=\"color:blue\">+0.154</span> = <span style=\"color:blue; text-decoration:underline\">+0.124</span></div><div style=\"font-family:monaco; font-size:12px\">dL/dw2 = <span style=\"color:blue\">+0.151</span> + <span style=\"color:red\">-0.000</span> + <span style=\"color:red\">-0.004</span> + <span style=\"color:red\">-0.013</span> + <span style=\"color:red\">-0.008</span> + <span style=\"color:blue\">+0.154</span> + <span style=\"color:red\">-0.000</span> + <span style=\"color:blue\">+0.141</span> = <span style=\"color:blue; text-decoration:underline\">+0.421</span></div>"
      ],
      "text/plain": [
       "<IPython.core.display.Markdown object>"
      ]
     },
     "metadata": {},
     "output_type": "display_data"
    },
    {
     "name": "stdout",
     "output_type": "stream",
     "text": [
      "w1=+0.321, w2=+0.230, w3=+1.000\n",
      "\n"
     ]
    },
    {
     "data": {
      "text/markdown": [
       "<div>**Iteration 9**</div>"
      ],
      "text/plain": [
       "<IPython.core.display.Markdown object>"
      ]
     },
     "metadata": {},
     "output_type": "display_data"
    },
    {
     "name": "stdout",
     "output_type": "stream",
     "text": [
      "Output: [+0.634, +0.499, +0.579, +0.704, +0.579, +0.633, +0.499, +0.365]\n",
      "Target: [+0.500, +0.500, +0.731, +0.731, +0.731, +0.500, +0.500, +0.500]\n",
      "Memory: [+0.549, -0.002, +0.319, +0.868, +0.317, +0.547, -0.004, -0.555]\n"
     ]
    },
    {
     "data": {
      "text/markdown": [
       "<div>Loss: **0.21398** = <span style=\"font-family:monaco; font-size:12px\">0.037 + 0.000 + 0.050 + 0.002 + 0.050 + 0.037 + 0.000 + 0.038</span></div><div style=\"font-family:monaco; font-size:12px\">dL/dw1 = <span style=\"color:blue\">+0.130</span> + <span style=\"color:blue\">+0.000</span> + <span style=\"color:red\">-0.148</span> + <span style=\"color:red\">-0.052</span> + <span style=\"color:red\">-0.145</span> + <span style=\"color:blue\">+0.127</span> + <span style=\"color:blue\">+0.000</span> + <span style=\"color:blue\">+0.141</span> = <span style=\"color:blue; text-decoration:underline\">+0.053</span></div><div style=\"font-family:monaco; font-size:12px\">dL/dw2 = <span style=\"color:blue\">+0.138</span> + <span style=\"color:red\">-0.000</span> + <span style=\"color:red\">-0.004</span> + <span style=\"color:red\">-0.028</span> + <span style=\"color:red\">-0.008</span> + <span style=\"color:blue\">+0.140</span> + <span style=\"color:red\">-0.000</span> + <span style=\"color:blue\">+0.129</span> = <span style=\"color:blue; text-decoration:underline\">+0.367</span></div>"
      ],
      "text/plain": [
       "<IPython.core.display.Markdown object>"
      ]
     },
     "metadata": {},
     "output_type": "display_data"
    },
    {
     "name": "stdout",
     "output_type": "stream",
     "text": [
      "w1=+0.316, w2=+0.193, w3=+1.000\n",
      "\n"
     ]
    },
    {
     "data": {
      "text/markdown": [
       "<div>**Iteration 10**</div>"
      ],
      "text/plain": [
       "<IPython.core.display.Markdown object>"
      ]
     },
     "metadata": {},
     "output_type": "display_data"
    },
    {
     "name": "stdout",
     "output_type": "stream",
     "text": [
      "Output: [+0.624, +0.499, +0.578, +0.694, +0.577, +0.623, +0.499, +0.374]\n",
      "Target: [+0.500, +0.500, +0.731, +0.731, +0.731, +0.500, +0.500, +0.500]\n",
      "Memory: [+0.506, -0.003, +0.313, +0.819, +0.310, +0.503, -0.005, -0.514]\n"
     ]
    },
    {
     "data": {
      "text/markdown": [
       "<div>Loss: **0.20110** = <span style=\"font-family:monaco; font-size:12px\">0.032 + 0.000 + 0.051 + 0.003 + 0.051 + 0.031 + 0.000 + 0.033</span></div><div style=\"font-family:monaco; font-size:12px\">dL/dw1 = <span style=\"color:blue\">+0.120</span> + <span style=\"color:blue\">+0.000</span> + <span style=\"color:red\">-0.150</span> + <span style=\"color:red\">-0.072</span> + <span style=\"color:red\">-0.146</span> + <span style=\"color:blue\">+0.117</span> + <span style=\"color:blue\">+0.000</span> + <span style=\"color:blue\">+0.131</span> = <span style=\"color:blue; text-decoration:underline\">+0.000</span></div><div style=\"font-family:monaco; font-size:12px\">dL/dw2 = <span style=\"color:blue\">+0.127</span> + <span style=\"color:red\">-0.000</span> + <span style=\"color:red\">-0.004</span> + <span style=\"color:red\">-0.039</span> + <span style=\"color:red\">-0.008</span> + <span style=\"color:blue\">+0.130</span> + <span style=\"color:red\">-0.000</span> + <span style=\"color:blue\">+0.120</span> = <span style=\"color:blue; text-decoration:underline\">+0.326</span></div>"
      ],
      "text/plain": [
       "<IPython.core.display.Markdown object>"
      ]
     },
     "metadata": {},
     "output_type": "display_data"
    },
    {
     "name": "stdout",
     "output_type": "stream",
     "text": [
      "w1=+0.316, w2=+0.161, w3=+1.000\n",
      "\n"
     ]
    },
    {
     "data": {
      "text/markdown": [
       "<div>**Iteration 11**</div>"
      ],
      "text/plain": [
       "<IPython.core.display.Markdown object>"
      ]
     },
     "metadata": {},
     "output_type": "display_data"
    },
    {
     "name": "stdout",
     "output_type": "stream",
     "text": [
      "Output: [+0.616, +0.499, +0.577, +0.687, +0.576, +0.615, +0.498, +0.382]\n",
      "Target: [+0.500, +0.500, +0.731, +0.731, +0.731, +0.500, +0.500, +0.500]\n",
      "Memory: [+0.472, -0.004, +0.312, +0.784, +0.308, +0.469, -0.007, -0.483]\n"
     ]
    },
    {
     "data": {
      "text/markdown": [
       "<div>Loss: **0.19097** = <span style=\"font-family:monaco; font-size:12px\">0.028 + 0.000 + 0.051 + 0.005 + 0.052 + 0.027 + 0.000 + 0.029</span></div><div style=\"font-family:monaco; font-size:12px\">dL/dw1 = <span style=\"color:blue\">+0.113</span> + <span style=\"color:blue\">+0.000</span> + <span style=\"color:red\">-0.150</span> + <span style=\"color:red\">-0.087</span> + <span style=\"color:red\">-0.147</span> + <span style=\"color:blue\">+0.109</span> + <span style=\"color:blue\">+0.000</span> + <span style=\"color:blue\">+0.123</span> = <span style=\"color:red; text-decoration:underline\">-0.038</span></div><div style=\"font-family:monaco; font-size:12px\">dL/dw2 = <span style=\"color:blue\">+0.119</span> + <span style=\"color:red\">-0.000</span> + <span style=\"color:red\">-0.004</span> + <span style=\"color:red\">-0.047</span> + <span style=\"color:red\">-0.008</span> + <span style=\"color:blue\">+0.121</span> + <span style=\"color:red\">-0.000</span> + <span style=\"color:blue\">+0.113</span> = <span style=\"color:blue; text-decoration:underline\">+0.295</span></div>"
      ],
      "text/plain": [
       "<IPython.core.display.Markdown object>"
      ]
     },
     "metadata": {},
     "output_type": "display_data"
    },
    {
     "name": "stdout",
     "output_type": "stream",
     "text": [
      "w1=+0.320, w2=+0.131, w3=+1.000\n",
      "\n"
     ]
    },
    {
     "data": {
      "text/markdown": [
       "<div>**Iteration 12**</div>"
      ],
      "text/plain": [
       "<IPython.core.display.Markdown object>"
      ]
     },
     "metadata": {},
     "output_type": "display_data"
    },
    {
     "name": "stdout",
     "output_type": "stream",
     "text": [
      "Output: [+0.610, +0.499, +0.578, +0.681, +0.577, +0.609, +0.498, +0.387]\n",
      "Target: [+0.500, +0.500, +0.731, +0.731, +0.731, +0.500, +0.500, +0.500]\n",
      "Memory: [+0.446, -0.005, +0.315, +0.761, +0.310, +0.442, -0.008, -0.459]\n"
     ]
    },
    {
     "data": {
      "text/markdown": [
       "<div>Loss: **0.18245** = <span style=\"font-family:monaco; font-size:12px\">0.025 + 0.000 + 0.051 + 0.006 + 0.051 + 0.024 + 0.000 + 0.026</span></div><div style=\"font-family:monaco; font-size:12px\">dL/dw1 = <span style=\"color:blue\">+0.106</span> + <span style=\"color:blue\">+0.000</span> + <span style=\"color:red\">-0.149</span> + <span style=\"color:red\">-0.097</span> + <span style=\"color:red\">-0.146</span> + <span style=\"color:blue\">+0.103</span> + <span style=\"color:blue\">+0.000</span> + <span style=\"color:blue\">+0.117</span> = <span style=\"color:red; text-decoration:underline\">-0.065</span></div><div style=\"font-family:monaco; font-size:12px\">dL/dw2 = <span style=\"color:blue\">+0.113</span> + <span style=\"color:red\">-0.000</span> + <span style=\"color:red\">-0.004</span> + <span style=\"color:red\">-0.052</span> + <span style=\"color:red\">-0.008</span> + <span style=\"color:blue\">+0.114</span> + <span style=\"color:red\">-0.000</span> + <span style=\"color:blue\">+0.108</span> = <span style=\"color:blue; text-decoration:underline\">+0.270</span></div>"
      ],
      "text/plain": [
       "<IPython.core.display.Markdown object>"
      ]
     },
     "metadata": {},
     "output_type": "display_data"
    },
    {
     "name": "stdout",
     "output_type": "stream",
     "text": [
      "w1=+0.326, w2=+0.104, w3=+1.000\n",
      "\n"
     ]
    },
    {
     "data": {
      "text/markdown": [
       "<div>**Iteration 13**</div>"
      ],
      "text/plain": [
       "<IPython.core.display.Markdown object>"
      ]
     },
     "metadata": {},
     "output_type": "display_data"
    },
    {
     "name": "stdout",
     "output_type": "stream",
     "text": [
      "Output: [+0.604, +0.499, +0.579, +0.678, +0.578, +0.603, +0.497, +0.392]\n",
      "Target: [+0.500, +0.500, +0.731, +0.731, +0.731, +0.500, +0.500, +0.500]\n",
      "Memory: [+0.424, -0.005, +0.321, +0.745, +0.315, +0.419, -0.010, -0.440]\n"
     ]
    },
    {
     "data": {
      "text/markdown": [
       "<div>Loss: **0.17491** = <span style=\"font-family:monaco; font-size:12px\">0.022 + 0.000 + 0.050 + 0.007 + 0.050 + 0.022 + 0.000 + 0.024</span></div><div style=\"font-family:monaco; font-size:12px\">dL/dw1 = <span style=\"color:blue\">+0.101</span> + <span style=\"color:blue\">+0.000</span> + <span style=\"color:red\">-0.148</span> + <span style=\"color:red\">-0.103</span> + <span style=\"color:red\">-0.145</span> + <span style=\"color:blue\">+0.098</span> + <span style=\"color:blue\">+0.000</span> + <span style=\"color:blue\">+0.113</span> = <span style=\"color:red; text-decoration:underline\">-0.084</span></div><div style=\"font-family:monaco; font-size:12px\">dL/dw2 = <span style=\"color:blue\">+0.108</span> + <span style=\"color:red\">-0.000</span> + <span style=\"color:red\">-0.004</span> + <span style=\"color:red\">-0.056</span> + <span style=\"color:red\">-0.008</span> + <span style=\"color:blue\">+0.109</span> + <span style=\"color:red\">-0.000</span> + <span style=\"color:blue\">+0.103</span> = <span style=\"color:blue; text-decoration:underline\">+0.252</span></div>"
      ],
      "text/plain": [
       "<IPython.core.display.Markdown object>"
      ]
     },
     "metadata": {},
     "output_type": "display_data"
    },
    {
     "name": "stdout",
     "output_type": "stream",
     "text": [
      "w1=+0.334, w2=+0.079, w3=+1.000\n",
      "\n"
     ]
    },
    {
     "data": {
      "text/markdown": [
       "<div>**Iteration 14**</div>"
      ],
      "text/plain": [
       "<IPython.core.display.Markdown object>"
      ]
     },
     "metadata": {},
     "output_type": "display_data"
    },
    {
     "name": "stdout",
     "output_type": "stream",
     "text": [
      "Output: [+0.600, +0.498, +0.581, +0.676, +0.580, +0.599, +0.497, +0.396]\n",
      "Target: [+0.500, +0.500, +0.731, +0.731, +0.731, +0.500, +0.500, +0.500]\n",
      "Memory: [+0.406, -0.006, +0.328, +0.734, +0.322, +0.401, -0.012, -0.424]\n"
     ]
    },
    {
     "data": {
      "text/markdown": [
       "<div>Loss: **0.16800** = <span style=\"font-family:monaco; font-size:12px\">0.020 + 0.000 + 0.049 + 0.007 + 0.049 + 0.020 + 0.000 + 0.022</span></div><div style=\"font-family:monaco; font-size:12px\">dL/dw1 = <span style=\"color:blue\">+0.097</span> + <span style=\"color:blue\">+0.000</span> + <span style=\"color:red\">-0.146</span> + <span style=\"color:red\">-0.108</span> + <span style=\"color:red\">-0.144</span> + <span style=\"color:blue\">+0.094</span> + <span style=\"color:blue\">+0.000</span> + <span style=\"color:blue\">+0.109</span> = <span style=\"color:red; text-decoration:underline\">-0.097</span></div><div style=\"font-family:monaco; font-size:12px\">dL/dw2 = <span style=\"color:blue\">+0.103</span> + <span style=\"color:red\">-0.000</span> + <span style=\"color:red\">-0.004</span> + <span style=\"color:red\">-0.058</span> + <span style=\"color:red\">-0.008</span> + <span style=\"color:blue\">+0.104</span> + <span style=\"color:red\">-0.000</span> + <span style=\"color:blue\">+0.100</span> = <span style=\"color:blue; text-decoration:underline\">+0.237</span></div>"
      ],
      "text/plain": [
       "<IPython.core.display.Markdown object>"
      ]
     },
     "metadata": {},
     "output_type": "display_data"
    },
    {
     "name": "stdout",
     "output_type": "stream",
     "text": [
      "w1=+0.344, w2=+0.055, w3=+1.000\n",
      "\n"
     ]
    },
    {
     "data": {
      "text/markdown": [
       "<div>**Iteration 15**</div>"
      ],
      "text/plain": [
       "<IPython.core.display.Markdown object>"
      ]
     },
     "metadata": {},
     "output_type": "display_data"
    },
    {
     "name": "stdout",
     "output_type": "stream",
     "text": [
      "Output: [+0.597, +0.498, +0.583, +0.674, +0.582, +0.595, +0.497, +0.399]\n",
      "Target: [+0.500, +0.500, +0.731, +0.731, +0.731, +0.500, +0.500, +0.500]\n",
      "Memory: [+0.391, -0.007, +0.337, +0.728, +0.330, +0.385, -0.013, -0.412]\n"
     ]
    },
    {
     "data": {
      "text/markdown": [
       "<div>Loss: **0.16155** = <span style=\"font-family:monaco; font-size:12px\">0.019 + 0.000 + 0.047 + 0.008 + 0.048 + 0.018 + 0.000 + 0.021</span></div><div style=\"font-family:monaco; font-size:12px\">dL/dw1 = <span style=\"color:blue\">+0.094</span> + <span style=\"color:blue\">+0.000</span> + <span style=\"color:red\">-0.144</span> + <span style=\"color:red\">-0.110</span> + <span style=\"color:red\">-0.142</span> + <span style=\"color:blue\">+0.090</span> + <span style=\"color:blue\">+0.000</span> + <span style=\"color:blue\">+0.106</span> = <span style=\"color:red; text-decoration:underline\">-0.106</span></div><div style=\"font-family:monaco; font-size:12px\">dL/dw2 = <span style=\"color:blue\">+0.099</span> + <span style=\"color:red\">-0.000</span> + <span style=\"color:red\">-0.004</span> + <span style=\"color:red\">-0.060</span> + <span style=\"color:red\">-0.008</span> + <span style=\"color:blue\">+0.100</span> + <span style=\"color:red\">-0.000</span> + <span style=\"color:blue\">+0.097</span> = <span style=\"color:blue; text-decoration:underline\">+0.225</span></div>"
      ],
      "text/plain": [
       "<IPython.core.display.Markdown object>"
      ]
     },
     "metadata": {},
     "output_type": "display_data"
    },
    {
     "name": "stdout",
     "output_type": "stream",
     "text": [
      "w1=+0.355, w2=+0.033, w3=+1.000\n",
      "\n"
     ]
    },
    {
     "data": {
      "text/markdown": [
       "<div>**Iteration 16**</div>"
      ],
      "text/plain": [
       "<IPython.core.display.Markdown object>"
      ]
     },
     "metadata": {},
     "output_type": "display_data"
    },
    {
     "name": "stdout",
     "output_type": "stream",
     "text": [
      "Output: [+0.593, +0.498, +0.586, +0.674, +0.584, +0.592, +0.496, +0.401]\n",
      "Target: [+0.500, +0.500, +0.731, +0.731, +0.731, +0.500, +0.500, +0.500]\n",
      "Memory: [+0.378, -0.008, +0.347, +0.725, +0.339, +0.372, -0.015, -0.401]\n"
     ]
    },
    {
     "data": {
      "text/markdown": [
       "<div>Loss: **0.15544** = <span style=\"font-family:monaco; font-size:12px\">0.018 + 0.000 + 0.046 + 0.008 + 0.047 + 0.017 + 0.000 + 0.020</span></div><div style=\"font-family:monaco; font-size:12px\">dL/dw1 = <span style=\"color:blue\">+0.091</span> + <span style=\"color:blue\">+0.000</span> + <span style=\"color:red\">-0.142</span> + <span style=\"color:red\">-0.112</span> + <span style=\"color:red\">-0.140</span> + <span style=\"color:blue\">+0.087</span> + <span style=\"color:blue\">+0.000</span> + <span style=\"color:blue\">+0.103</span> = <span style=\"color:red; text-decoration:underline\">-0.112</span></div><div style=\"font-family:monaco; font-size:12px\">dL/dw2 = <span style=\"color:blue\">+0.096</span> + <span style=\"color:red\">-0.000</span> + <span style=\"color:red\">-0.004</span> + <span style=\"color:red\">-0.060</span> + <span style=\"color:red\">-0.008</span> + <span style=\"color:blue\">+0.097</span> + <span style=\"color:red\">-0.000</span> + <span style=\"color:blue\">+0.095</span> = <span style=\"color:blue; text-decoration:underline\">+0.215</span></div>"
      ],
      "text/plain": [
       "<IPython.core.display.Markdown object>"
      ]
     },
     "metadata": {},
     "output_type": "display_data"
    },
    {
     "name": "stdout",
     "output_type": "stream",
     "text": [
      "w1=+0.366, w2=+0.011, w3=+1.000\n",
      "\n"
     ]
    },
    {
     "data": {
      "text/markdown": [
       "<div>**Iteration 17**</div>"
      ],
      "text/plain": [
       "<IPython.core.display.Markdown object>"
      ]
     },
     "metadata": {},
     "output_type": "display_data"
    },
    {
     "name": "stdout",
     "output_type": "stream",
     "text": [
      "Output: [+0.591, +0.498, +0.588, +0.674, +0.586, +0.589, +0.496, +0.403]\n",
      "Target: [+0.500, +0.500, +0.731, +0.731, +0.731, +0.500, +0.500, +0.500]\n",
      "Memory: [+0.367, -0.009, +0.357, +0.724, +0.348, +0.360, -0.016, -0.392]\n"
     ]
    },
    {
     "data": {
      "text/markdown": [
       "<div>Loss: **0.14963** = <span style=\"font-family:monaco; font-size:12px\">0.017 + 0.000 + 0.044 + 0.008 + 0.046 + 0.016 + 0.000 + 0.019</span></div><div style=\"font-family:monaco; font-size:12px\">dL/dw1 = <span style=\"color:blue\">+0.088</span> + <span style=\"color:blue\">+0.000</span> + <span style=\"color:red\">-0.139</span> + <span style=\"color:red\">-0.112</span> + <span style=\"color:red\">-0.138</span> + <span style=\"color:blue\">+0.085</span> + <span style=\"color:blue\">+0.000</span> + <span style=\"color:blue\">+0.101</span> = <span style=\"color:red; text-decoration:underline\">-0.115</span></div><div style=\"font-family:monaco; font-size:12px\">dL/dw2 = <span style=\"color:blue\">+0.093</span> + <span style=\"color:red\">-0.000</span> + <span style=\"color:red\">-0.004</span> + <span style=\"color:red\">-0.061</span> + <span style=\"color:red\">-0.007</span> + <span style=\"color:blue\">+0.093</span> + <span style=\"color:red\">-0.000</span> + <span style=\"color:blue\">+0.093</span> = <span style=\"color:blue; text-decoration:underline\">+0.207</span></div>"
      ],
      "text/plain": [
       "<IPython.core.display.Markdown object>"
      ]
     },
     "metadata": {},
     "output_type": "display_data"
    },
    {
     "name": "stdout",
     "output_type": "stream",
     "text": [
      "w1=+0.377, w2=-0.009, w3=+1.000\n",
      "\n"
     ]
    },
    {
     "data": {
      "text/markdown": [
       "<div>**Iteration 18**</div>"
      ],
      "text/plain": [
       "<IPython.core.display.Markdown object>"
      ]
     },
     "metadata": {},
     "output_type": "display_data"
    },
    {
     "name": "stdout",
     "output_type": "stream",
     "text": [
      "Output: [+0.588, +0.498, +0.591, +0.674, +0.589, +0.586, +0.496, +0.405]\n",
      "Target: [+0.500, +0.500, +0.731, +0.731, +0.731, +0.500, +0.500, +0.500]\n",
      "Memory: [+0.357, -0.010, +0.368, +0.725, +0.358, +0.349, -0.018, -0.384]\n"
     ]
    },
    {
     "data": {
      "text/markdown": [
       "<div>Loss: **0.14406** = <span style=\"font-family:monaco; font-size:12px\">0.016 + 0.000 + 0.043 + 0.008 + 0.044 + 0.015 + 0.000 + 0.018</span></div><div style=\"font-family:monaco; font-size:12px\">dL/dw1 = <span style=\"color:blue\">+0.086</span> + <span style=\"color:blue\">+0.000</span> + <span style=\"color:red\">-0.137</span> + <span style=\"color:red\">-0.112</span> + <span style=\"color:red\">-0.135</span> + <span style=\"color:blue\">+0.082</span> + <span style=\"color:blue\">+0.000</span> + <span style=\"color:blue\">+0.099</span> = <span style=\"color:red; text-decoration:underline\">-0.117</span></div><div style=\"font-family:monaco; font-size:12px\">dL/dw2 = <span style=\"color:blue\">+0.091</span> + <span style=\"color:red\">-0.000</span> + <span style=\"color:red\">-0.004</span> + <span style=\"color:red\">-0.061</span> + <span style=\"color:red\">-0.007</span> + <span style=\"color:blue\">+0.091</span> + <span style=\"color:red\">-0.000</span> + <span style=\"color:blue\">+0.091</span> = <span style=\"color:blue; text-decoration:underline\">+0.201</span></div>"
      ],
      "text/plain": [
       "<IPython.core.display.Markdown object>"
      ]
     },
     "metadata": {},
     "output_type": "display_data"
    },
    {
     "name": "stdout",
     "output_type": "stream",
     "text": [
      "w1=+0.389, w2=-0.029, w3=+1.000\n",
      "\n"
     ]
    },
    {
     "data": {
      "text/markdown": [
       "<div>**Iteration 19**</div>"
      ],
      "text/plain": [
       "<IPython.core.display.Markdown object>"
      ]
     },
     "metadata": {},
     "output_type": "display_data"
    },
    {
     "name": "stdout",
     "output_type": "stream",
     "text": [
      "Output: [+0.586, +0.497, +0.594, +0.674, +0.591, +0.584, +0.495, +0.407]\n",
      "Target: [+0.500, +0.500, +0.731, +0.731, +0.731, +0.500, +0.500, +0.500]\n",
      "Memory: [+0.348, -0.010, +0.379, +0.726, +0.368, +0.339, -0.019, -0.377]\n"
     ]
    },
    {
     "data": {
      "text/markdown": [
       "<div>Loss: **0.13873** = <span style=\"font-family:monaco; font-size:12px\">0.015 + 0.000 + 0.041 + 0.008 + 0.043 + 0.014 + 0.000 + 0.018</span></div><div style=\"font-family:monaco; font-size:12px\">dL/dw1 = <span style=\"color:blue\">+0.084</span> + <span style=\"color:blue\">+0.000</span> + <span style=\"color:red\">-0.134</span> + <span style=\"color:red\">-0.111</span> + <span style=\"color:red\">-0.133</span> + <span style=\"color:blue\">+0.080</span> + <span style=\"color:blue\">+0.000</span> + <span style=\"color:blue\">+0.097</span> = <span style=\"color:red; text-decoration:underline\">-0.117</span></div><div style=\"font-family:monaco; font-size:12px\">dL/dw2 = <span style=\"color:blue\">+0.089</span> + <span style=\"color:red\">-0.000</span> + <span style=\"color:red\">-0.004</span> + <span style=\"color:red\">-0.060</span> + <span style=\"color:red\">-0.007</span> + <span style=\"color:blue\">+0.088</span> + <span style=\"color:red\">-0.000</span> + <span style=\"color:blue\">+0.089</span> = <span style=\"color:blue; text-decoration:underline\">+0.195</span></div>"
      ],
      "text/plain": [
       "<IPython.core.display.Markdown object>"
      ]
     },
     "metadata": {},
     "output_type": "display_data"
    },
    {
     "name": "stdout",
     "output_type": "stream",
     "text": [
      "w1=+0.401, w2=-0.049, w3=+1.000\n",
      "\n"
     ]
    },
    {
     "data": {
      "text/markdown": [
       "<div>**Iteration 20**</div>"
      ],
      "text/plain": [
       "<IPython.core.display.Markdown object>"
      ]
     },
     "metadata": {},
     "output_type": "display_data"
    },
    {
     "name": "stdout",
     "output_type": "stream",
     "text": [
      "Output: [+0.584, +0.497, +0.596, +0.674, +0.593, +0.582, +0.495, +0.408]\n",
      "Target: [+0.500, +0.500, +0.731, +0.731, +0.731, +0.500, +0.500, +0.500]\n",
      "Memory: [+0.339, -0.011, +0.390, +0.729, +0.378, +0.329, -0.021, -0.371]\n"
     ]
    },
    {
     "data": {
      "text/markdown": [
       "<div>Loss: **0.13361** = <span style=\"font-family:monaco; font-size:12px\">0.014 + 0.000 + 0.040 + 0.008 + 0.041 + 0.014 + 0.000 + 0.017</span></div><div style=\"font-family:monaco; font-size:12px\">dL/dw1 = <span style=\"color:blue\">+0.082</span> + <span style=\"color:blue\">+0.000</span> + <span style=\"color:red\">-0.132</span> + <span style=\"color:red\">-0.110</span> + <span style=\"color:red\">-0.131</span> + <span style=\"color:blue\">+0.078</span> + <span style=\"color:blue\">+0.000</span> + <span style=\"color:blue\">+0.096</span> = <span style=\"color:red; text-decoration:underline\">-0.117</span></div><div style=\"font-family:monaco; font-size:12px\">dL/dw2 = <span style=\"color:blue\">+0.086</span> + <span style=\"color:red\">-0.000</span> + <span style=\"color:red\">-0.003</span> + <span style=\"color:red\">-0.060</span> + <span style=\"color:red\">-0.007</span> + <span style=\"color:blue\">+0.086</span> + <span style=\"color:red\">-0.000</span> + <span style=\"color:blue\">+0.088</span> = <span style=\"color:blue; text-decoration:underline\">+0.189</span></div>"
      ],
      "text/plain": [
       "<IPython.core.display.Markdown object>"
      ]
     },
     "metadata": {},
     "output_type": "display_data"
    },
    {
     "name": "stdout",
     "output_type": "stream",
     "text": [
      "w1=+0.413, w2=-0.068, w3=+1.000\n",
      "\n"
     ]
    },
    {
     "data": {
      "text/markdown": [
       "<div>**Iteration 21**</div>"
      ],
      "text/plain": [
       "<IPython.core.display.Markdown object>"
      ]
     },
     "metadata": {},
     "output_type": "display_data"
    },
    {
     "name": "stdout",
     "output_type": "stream",
     "text": [
      "Output: [+0.582, +0.497, +0.599, +0.675, +0.596, +0.579, +0.494, +0.410]\n",
      "Target: [+0.500, +0.500, +0.731, +0.731, +0.731, +0.500, +0.500, +0.500]\n",
      "Memory: [+0.331, -0.012, +0.401, +0.731, +0.389, +0.321, -0.022, -0.365]\n"
     ]
    },
    {
     "data": {
      "text/markdown": [
       "<div>Loss: **0.12870** = <span style=\"font-family:monaco; font-size:12px\">0.014 + 0.000 + 0.038 + 0.007 + 0.040 + 0.013 + 0.000 + 0.017</span></div><div style=\"font-family:monaco; font-size:12px\">dL/dw1 = <span style=\"color:blue\">+0.080</span> + <span style=\"color:blue\">+0.000</span> + <span style=\"color:red\">-0.129</span> + <span style=\"color:red\">-0.109</span> + <span style=\"color:red\">-0.128</span> + <span style=\"color:blue\">+0.076</span> + <span style=\"color:blue\">+0.000</span> + <span style=\"color:blue\">+0.094</span> = <span style=\"color:red; text-decoration:underline\">-0.117</span></div><div style=\"font-family:monaco; font-size:12px\">dL/dw2 = <span style=\"color:blue\">+0.084</span> + <span style=\"color:red\">-0.000</span> + <span style=\"color:red\">-0.003</span> + <span style=\"color:red\">-0.059</span> + <span style=\"color:red\">-0.007</span> + <span style=\"color:blue\">+0.084</span> + <span style=\"color:red\">-0.000</span> + <span style=\"color:blue\">+0.086</span> = <span style=\"color:blue; text-decoration:underline\">+0.185</span></div>"
      ],
      "text/plain": [
       "<IPython.core.display.Markdown object>"
      ]
     },
     "metadata": {},
     "output_type": "display_data"
    },
    {
     "name": "stdout",
     "output_type": "stream",
     "text": [
      "w1=+0.424, w2=-0.086, w3=+1.000\n",
      "\n"
     ]
    },
    {
     "data": {
      "text/markdown": [
       "<div>**Iteration 22**</div>"
      ],
      "text/plain": [
       "<IPython.core.display.Markdown object>"
      ]
     },
     "metadata": {},
     "output_type": "display_data"
    },
    {
     "name": "stdout",
     "output_type": "stream",
     "text": [
      "Output: [+0.580, +0.497, +0.601, +0.676, +0.598, +0.577, +0.494, +0.411]\n",
      "Target: [+0.500, +0.500, +0.731, +0.731, +0.731, +0.500, +0.500, +0.500]\n",
      "Memory: [+0.323, -0.013, +0.411, +0.735, +0.399, +0.312, -0.024, -0.360]\n"
     ]
    },
    {
     "data": {
      "text/markdown": [
       "<div>Loss: **0.12398** = <span style=\"font-family:monaco; font-size:12px\">0.013 + 0.000 + 0.037 + 0.007 + 0.039 + 0.012 + 0.000 + 0.016</span></div><div style=\"font-family:monaco; font-size:12px\">dL/dw1 = <span style=\"color:blue\">+0.078</span> + <span style=\"color:blue\">+0.000</span> + <span style=\"color:red\">-0.126</span> + <span style=\"color:red\">-0.108</span> + <span style=\"color:red\">-0.126</span> + <span style=\"color:blue\">+0.074</span> + <span style=\"color:blue\">+0.000</span> + <span style=\"color:blue\">+0.093</span> = <span style=\"color:red; text-decoration:underline\">-0.115</span></div><div style=\"font-family:monaco; font-size:12px\">dL/dw2 = <span style=\"color:blue\">+0.082</span> + <span style=\"color:red\">-0.000</span> + <span style=\"color:red\">-0.003</span> + <span style=\"color:red\">-0.058</span> + <span style=\"color:red\">-0.007</span> + <span style=\"color:blue\">+0.081</span> + <span style=\"color:red\">-0.000</span> + <span style=\"color:blue\">+0.085</span> = <span style=\"color:blue; text-decoration:underline\">+0.180</span></div>"
      ],
      "text/plain": [
       "<IPython.core.display.Markdown object>"
      ]
     },
     "metadata": {},
     "output_type": "display_data"
    },
    {
     "name": "stdout",
     "output_type": "stream",
     "text": [
      "w1=+0.436, w2=-0.104, w3=+1.000\n",
      "\n"
     ]
    },
    {
     "data": {
      "text/markdown": [
       "<div>**Iteration 23**</div>"
      ],
      "text/plain": [
       "<IPython.core.display.Markdown object>"
      ]
     },
     "metadata": {},
     "output_type": "display_data"
    },
    {
     "name": "stdout",
     "output_type": "stream",
     "text": [
      "Output: [+0.578, +0.497, +0.604, +0.677, +0.601, +0.576, +0.494, +0.412]\n",
      "Target: [+0.500, +0.500, +0.731, +0.731, +0.731, +0.500, +0.500, +0.500]\n",
      "Memory: [+0.316, -0.014, +0.422, +0.738, +0.409, +0.304, -0.025, -0.355]\n"
     ]
    },
    {
     "data": {
      "text/markdown": [
       "<div>Loss: **0.11945** = <span style=\"font-family:monaco; font-size:12px\">0.012 + 0.000 + 0.036 + 0.007 + 0.037 + 0.012 + 0.000 + 0.016</span></div><div style=\"font-family:monaco; font-size:12px\">dL/dw1 = <span style=\"color:blue\">+0.076</span> + <span style=\"color:blue\">+0.000</span> + <span style=\"color:red\">-0.124</span> + <span style=\"color:red\">-0.106</span> + <span style=\"color:red\">-0.124</span> + <span style=\"color:blue\">+0.072</span> + <span style=\"color:blue\">+0.000</span> + <span style=\"color:blue\">+0.091</span> = <span style=\"color:red; text-decoration:underline\">-0.114</span></div><div style=\"font-family:monaco; font-size:12px\">dL/dw2 = <span style=\"color:blue\">+0.081</span> + <span style=\"color:red\">-0.000</span> + <span style=\"color:red\">-0.003</span> + <span style=\"color:red\">-0.057</span> + <span style=\"color:red\">-0.007</span> + <span style=\"color:blue\">+0.079</span> + <span style=\"color:red\">-0.000</span> + <span style=\"color:blue\">+0.084</span> = <span style=\"color:blue; text-decoration:underline\">+0.176</span></div>"
      ],
      "text/plain": [
       "<IPython.core.display.Markdown object>"
      ]
     },
     "metadata": {},
     "output_type": "display_data"
    },
    {
     "name": "stdout",
     "output_type": "stream",
     "text": [
      "w1=+0.447, w2=-0.122, w3=+1.000\n",
      "\n"
     ]
    },
    {
     "data": {
      "text/markdown": [
       "<div>**Iteration 24**</div>"
      ],
      "text/plain": [
       "<IPython.core.display.Markdown object>"
      ]
     },
     "metadata": {},
     "output_type": "display_data"
    },
    {
     "name": "stdout",
     "output_type": "stream",
     "text": [
      "Output: [+0.577, +0.496, +0.607, +0.677, +0.603, +0.574, +0.493, +0.413]\n",
      "Target: [+0.500, +0.500, +0.731, +0.731, +0.731, +0.500, +0.500, +0.500]\n",
      "Memory: [+0.309, -0.014, +0.433, +0.742, +0.419, +0.297, -0.026, -0.350]\n"
     ]
    },
    {
     "data": {
      "text/markdown": [
       "<div>Loss: **0.11509** = <span style=\"font-family:monaco; font-size:12px\">0.012 + 0.000 + 0.034 + 0.007 + 0.036 + 0.011 + 0.000 + 0.015</span></div><div style=\"font-family:monaco; font-size:12px\">dL/dw1 = <span style=\"color:blue\">+0.074</span> + <span style=\"color:blue\">+0.000</span> + <span style=\"color:red\">-0.121</span> + <span style=\"color:red\">-0.104</span> + <span style=\"color:red\">-0.122</span> + <span style=\"color:blue\">+0.070</span> + <span style=\"color:blue\">+0.000</span> + <span style=\"color:blue\">+0.090</span> = <span style=\"color:red; text-decoration:underline\">-0.112</span></div><div style=\"font-family:monaco; font-size:12px\">dL/dw2 = <span style=\"color:blue\">+0.079</span> + <span style=\"color:red\">-0.000</span> + <span style=\"color:red\">-0.003</span> + <span style=\"color:red\">-0.057</span> + <span style=\"color:red\">-0.007</span> + <span style=\"color:blue\">+0.077</span> + <span style=\"color:red\">-0.000</span> + <span style=\"color:blue\">+0.083</span> = <span style=\"color:blue; text-decoration:underline\">+0.172</span></div>"
      ],
      "text/plain": [
       "<IPython.core.display.Markdown object>"
      ]
     },
     "metadata": {},
     "output_type": "display_data"
    },
    {
     "name": "stdout",
     "output_type": "stream",
     "text": [
      "w1=+0.458, w2=-0.139, w3=+1.000\n",
      "\n"
     ]
    },
    {
     "data": {
      "text/markdown": [
       "<div>**Iteration 25**</div>"
      ],
      "text/plain": [
       "<IPython.core.display.Markdown object>"
      ]
     },
     "metadata": {},
     "output_type": "display_data"
    },
    {
     "name": "stdout",
     "output_type": "stream",
     "text": [
      "Output: [+0.575, +0.496, +0.609, +0.678, +0.606, +0.572, +0.493, +0.415]\n",
      "Target: [+0.500, +0.500, +0.731, +0.731, +0.731, +0.500, +0.500, +0.500]\n",
      "Memory: [+0.302, -0.015, +0.443, +0.746, +0.428, +0.289, -0.028, -0.345]\n"
     ]
    },
    {
     "data": {
      "text/markdown": [
       "<div>Loss: **0.11091** = <span style=\"font-family:monaco; font-size:12px\">0.011 + 0.000 + 0.033 + 0.007 + 0.035 + 0.010 + 0.000 + 0.015</span></div><div style=\"font-family:monaco; font-size:12px\">dL/dw1 = <span style=\"color:blue\">+0.073</span> + <span style=\"color:blue\">+0.000</span> + <span style=\"color:red\">-0.119</span> + <span style=\"color:red\">-0.103</span> + <span style=\"color:red\">-0.119</span> + <span style=\"color:blue\">+0.068</span> + <span style=\"color:blue\">+0.000</span> + <span style=\"color:blue\">+0.089</span> = <span style=\"color:red; text-decoration:underline\">-0.111</span></div><div style=\"font-family:monaco; font-size:12px\">dL/dw2 = <span style=\"color:blue\">+0.077</span> + <span style=\"color:red\">-0.000</span> + <span style=\"color:red\">-0.003</span> + <span style=\"color:red\">-0.056</span> + <span style=\"color:red\">-0.006</span> + <span style=\"color:blue\">+0.076</span> + <span style=\"color:red\">-0.000</span> + <span style=\"color:blue\">+0.082</span> = <span style=\"color:blue; text-decoration:underline\">+0.168</span></div>"
      ],
      "text/plain": [
       "<IPython.core.display.Markdown object>"
      ]
     },
     "metadata": {},
     "output_type": "display_data"
    },
    {
     "name": "stdout",
     "output_type": "stream",
     "text": [
      "w1=+0.469, w2=-0.156, w3=+1.000\n",
      "\n"
     ]
    },
    {
     "data": {
      "text/markdown": [
       "<div>**Iteration 26**</div>"
      ],
      "text/plain": [
       "<IPython.core.display.Markdown object>"
      ]
     },
     "metadata": {},
     "output_type": "display_data"
    },
    {
     "name": "stdout",
     "output_type": "stream",
     "text": [
      "Output: [+0.573, +0.496, +0.612, +0.679, +0.608, +0.570, +0.493, +0.416]\n",
      "Target: [+0.500, +0.500, +0.731, +0.731, +0.731, +0.500, +0.500, +0.500]\n",
      "Memory: [+0.296, -0.016, +0.454, +0.749, +0.438, +0.282, -0.029, -0.340]\n"
     ]
    },
    {
     "data": {
      "text/markdown": [
       "<div>Loss: **0.10688** = <span style=\"font-family:monaco; font-size:12px\">0.011 + 0.000 + 0.032 + 0.006 + 0.034 + 0.010 + 0.000 + 0.014</span></div><div style=\"font-family:monaco; font-size:12px\">dL/dw1 = <span style=\"color:blue\">+0.071</span> + <span style=\"color:blue\">+0.000</span> + <span style=\"color:red\">-0.117</span> + <span style=\"color:red\">-0.101</span> + <span style=\"color:red\">-0.117</span> + <span style=\"color:blue\">+0.067</span> + <span style=\"color:blue\">+0.000</span> + <span style=\"color:blue\">+0.088</span> = <span style=\"color:red; text-decoration:underline\">-0.109</span></div><div style=\"font-family:monaco; font-size:12px\">dL/dw2 = <span style=\"color:blue\">+0.075</span> + <span style=\"color:red\">-0.000</span> + <span style=\"color:red\">-0.003</span> + <span style=\"color:red\">-0.055</span> + <span style=\"color:red\">-0.006</span> + <span style=\"color:blue\">+0.074</span> + <span style=\"color:red\">-0.000</span> + <span style=\"color:blue\">+0.081</span> = <span style=\"color:blue; text-decoration:underline\">+0.165</span></div>"
      ],
      "text/plain": [
       "<IPython.core.display.Markdown object>"
      ]
     },
     "metadata": {},
     "output_type": "display_data"
    },
    {
     "name": "stdout",
     "output_type": "stream",
     "text": [
      "w1=+0.480, w2=-0.173, w3=+1.000\n",
      "\n"
     ]
    },
    {
     "data": {
      "text/markdown": [
       "<div>**Iteration 27**</div>"
      ],
      "text/plain": [
       "<IPython.core.display.Markdown object>"
      ]
     },
     "metadata": {},
     "output_type": "display_data"
    },
    {
     "name": "stdout",
     "output_type": "stream",
     "text": [
      "Output: [+0.572, +0.496, +0.614, +0.680, +0.610, +0.568, +0.492, +0.417]\n",
      "Target: [+0.500, +0.500, +0.731, +0.731, +0.731, +0.500, +0.500, +0.500]\n",
      "Memory: [+0.289, -0.016, +0.464, +0.753, +0.448, +0.275, -0.030, -0.336]\n"
     ]
    },
    {
     "data": {
      "text/markdown": [
       "<div>Loss: **0.10301** = <span style=\"font-family:monaco; font-size:12px\">0.010 + 0.000 + 0.030 + 0.006 + 0.032 + 0.009 + 0.000 + 0.014</span></div><div style=\"font-family:monaco; font-size:12px\">dL/dw1 = <span style=\"color:blue\">+0.070</span> + <span style=\"color:blue\">+0.000</span> + <span style=\"color:red\">-0.114</span> + <span style=\"color:red\">-0.100</span> + <span style=\"color:red\">-0.115</span> + <span style=\"color:blue\">+0.065</span> + <span style=\"color:blue\">+0.000</span> + <span style=\"color:blue\">+0.087</span> = <span style=\"color:red; text-decoration:underline\">-0.107</span></div><div style=\"font-family:monaco; font-size:12px\">dL/dw2 = <span style=\"color:blue\">+0.074</span> + <span style=\"color:red\">-0.000</span> + <span style=\"color:red\">-0.003</span> + <span style=\"color:red\">-0.054</span> + <span style=\"color:red\">-0.006</span> + <span style=\"color:blue\">+0.072</span> + <span style=\"color:red\">-0.000</span> + <span style=\"color:blue\">+0.080</span> = <span style=\"color:blue; text-decoration:underline\">+0.162</span></div>"
      ],
      "text/plain": [
       "<IPython.core.display.Markdown object>"
      ]
     },
     "metadata": {},
     "output_type": "display_data"
    },
    {
     "name": "stdout",
     "output_type": "stream",
     "text": [
      "w1=+0.491, w2=-0.189, w3=+1.000\n",
      "\n"
     ]
    },
    {
     "data": {
      "text/markdown": [
       "<div>**Iteration 28**</div>"
      ],
      "text/plain": [
       "<IPython.core.display.Markdown object>"
      ]
     },
     "metadata": {},
     "output_type": "display_data"
    },
    {
     "name": "stdout",
     "output_type": "stream",
     "text": [
      "Output: [+0.570, +0.496, +0.616, +0.681, +0.612, +0.567, +0.492, +0.418]\n",
      "Target: [+0.500, +0.500, +0.731, +0.731, +0.731, +0.500, +0.500, +0.500]\n",
      "Memory: [+0.283, -0.017, +0.474, +0.757, +0.457, +0.268, -0.032, -0.332]\n"
     ]
    },
    {
     "data": {
      "text/markdown": [
       "<div>Loss: **0.09930** = <span style=\"font-family:monaco; font-size:12px\">0.010 + 0.000 + 0.029 + 0.006 + 0.031 + 0.009 + 0.000 + 0.014</span></div><div style=\"font-family:monaco; font-size:12px\">dL/dw1 = <span style=\"color:blue\">+0.068</span> + <span style=\"color:blue\">+0.000</span> + <span style=\"color:red\">-0.112</span> + <span style=\"color:red\">-0.098</span> + <span style=\"color:red\">-0.113</span> + <span style=\"color:blue\">+0.063</span> + <span style=\"color:blue\">+0.000</span> + <span style=\"color:blue\">+0.086</span> = <span style=\"color:red; text-decoration:underline\">-0.105</span></div><div style=\"font-family:monaco; font-size:12px\">dL/dw2 = <span style=\"color:blue\">+0.072</span> + <span style=\"color:red\">-0.000</span> + <span style=\"color:red\">-0.003</span> + <span style=\"color:red\">-0.053</span> + <span style=\"color:red\">-0.006</span> + <span style=\"color:blue\">+0.070</span> + <span style=\"color:red\">-0.000</span> + <span style=\"color:blue\">+0.079</span> = <span style=\"color:blue; text-decoration:underline\">+0.158</span></div>"
      ],
      "text/plain": [
       "<IPython.core.display.Markdown object>"
      ]
     },
     "metadata": {},
     "output_type": "display_data"
    },
    {
     "name": "stdout",
     "output_type": "stream",
     "text": [
      "w1=+0.502, w2=-0.205, w3=+1.000\n",
      "\n"
     ]
    },
    {
     "data": {
      "text/markdown": [
       "<div>**Iteration 29**</div>"
      ],
      "text/plain": [
       "<IPython.core.display.Markdown object>"
      ]
     },
     "metadata": {},
     "output_type": "display_data"
    },
    {
     "name": "stdout",
     "output_type": "stream",
     "text": [
      "Output: [+0.569, +0.496, +0.619, +0.681, +0.614, +0.565, +0.492, +0.419]\n",
      "Target: [+0.500, +0.500, +0.731, +0.731, +0.731, +0.500, +0.500, +0.500]\n",
      "Memory: [+0.277, -0.018, +0.484, +0.761, +0.466, +0.262, -0.033, -0.327]\n"
     ]
    },
    {
     "data": {
      "text/markdown": [
       "<div>Loss: **0.09572** = <span style=\"font-family:monaco; font-size:12px\">0.010 + 0.000 + 0.028 + 0.006 + 0.030 + 0.009 + 0.000 + 0.013</span></div><div style=\"font-family:monaco; font-size:12px\">dL/dw1 = <span style=\"color:blue\">+0.067</span> + <span style=\"color:blue\">+0.000</span> + <span style=\"color:red\">-0.110</span> + <span style=\"color:red\">-0.096</span> + <span style=\"color:red\">-0.111</span> + <span style=\"color:blue\">+0.062</span> + <span style=\"color:blue\">+0.000</span> + <span style=\"color:blue\">+0.085</span> = <span style=\"color:red; text-decoration:underline\">-0.103</span></div><div style=\"font-family:monaco; font-size:12px\">dL/dw2 = <span style=\"color:blue\">+0.071</span> + <span style=\"color:red\">-0.000</span> + <span style=\"color:red\">-0.003</span> + <span style=\"color:red\">-0.052</span> + <span style=\"color:red\">-0.006</span> + <span style=\"color:blue\">+0.068</span> + <span style=\"color:red\">-0.000</span> + <span style=\"color:blue\">+0.078</span> = <span style=\"color:blue; text-decoration:underline\">+0.155</span></div>"
      ],
      "text/plain": [
       "<IPython.core.display.Markdown object>"
      ]
     },
     "metadata": {},
     "output_type": "display_data"
    },
    {
     "name": "stdout",
     "output_type": "stream",
     "text": [
      "w1=+0.512, w2=-0.220, w3=+1.000\n",
      "\n"
     ]
    },
    {
     "data": {
      "text/markdown": [
       "<div>**Iteration 30**</div>"
      ],
      "text/plain": [
       "<IPython.core.display.Markdown object>"
      ]
     },
     "metadata": {},
     "output_type": "display_data"
    },
    {
     "name": "stdout",
     "output_type": "stream",
     "text": [
      "Output: [+0.567, +0.495, +0.621, +0.682, +0.617, +0.563, +0.491, +0.420]\n",
      "Target: [+0.500, +0.500, +0.731, +0.731, +0.731, +0.500, +0.500, +0.500]\n",
      "Memory: [+0.271, -0.018, +0.493, +0.764, +0.475, +0.255, -0.034, -0.323]\n"
     ]
    },
    {
     "data": {
      "text/markdown": [
       "<div>Loss: **0.09229** = <span style=\"font-family:monaco; font-size:12px\">0.009 + 0.000 + 0.027 + 0.006 + 0.029 + 0.008 + 0.000 + 0.013</span></div><div style=\"font-family:monaco; font-size:12px\">dL/dw1 = <span style=\"color:blue\">+0.065</span> + <span style=\"color:blue\">+0.000</span> + <span style=\"color:red\">-0.107</span> + <span style=\"color:red\">-0.095</span> + <span style=\"color:red\">-0.109</span> + <span style=\"color:blue\">+0.060</span> + <span style=\"color:blue\">+0.000</span> + <span style=\"color:blue\">+0.084</span> = <span style=\"color:red; text-decoration:underline\">-0.101</span></div><div style=\"font-family:monaco; font-size:12px\">dL/dw2 = <span style=\"color:blue\">+0.069</span> + <span style=\"color:red\">-0.000</span> + <span style=\"color:red\">-0.003</span> + <span style=\"color:red\">-0.051</span> + <span style=\"color:red\">-0.006</span> + <span style=\"color:blue\">+0.067</span> + <span style=\"color:red\">-0.000</span> + <span style=\"color:blue\">+0.077</span> = <span style=\"color:blue; text-decoration:underline\">+0.152</span></div>"
      ],
      "text/plain": [
       "<IPython.core.display.Markdown object>"
      ]
     },
     "metadata": {},
     "output_type": "display_data"
    },
    {
     "name": "stdout",
     "output_type": "stream",
     "text": [
      "w1=+0.522, w2=-0.235, w3=+1.000\n",
      "\n"
     ]
    },
    {
     "data": {
      "text/markdown": [
       "<div>**Iteration 31**</div>"
      ],
      "text/plain": [
       "<IPython.core.display.Markdown object>"
      ]
     },
     "metadata": {},
     "output_type": "display_data"
    },
    {
     "name": "stdout",
     "output_type": "stream",
     "text": [
      "Output: [+0.566, +0.495, +0.623, +0.683, +0.619, +0.562, +0.491, +0.421]\n",
      "Target: [+0.500, +0.500, +0.731, +0.731, +0.731, +0.500, +0.500, +0.500]\n",
      "Memory: [+0.265, -0.019, +0.503, +0.768, +0.484, +0.249, -0.035, -0.319]\n"
     ]
    },
    {
     "data": {
      "text/markdown": [
       "<div>Loss: **0.08899** = <span style=\"font-family:monaco; font-size:12px\">0.009 + 0.000 + 0.026 + 0.005 + 0.028 + 0.008 + 0.000 + 0.013</span></div><div style=\"font-family:monaco; font-size:12px\">dL/dw1 = <span style=\"color:blue\">+0.064</span> + <span style=\"color:blue\">+0.000</span> + <span style=\"color:red\">-0.105</span> + <span style=\"color:red\">-0.093</span> + <span style=\"color:red\">-0.107</span> + <span style=\"color:blue\">+0.059</span> + <span style=\"color:blue\">+0.000</span> + <span style=\"color:blue\">+0.083</span> = <span style=\"color:red; text-decoration:underline\">-0.099</span></div><div style=\"font-family:monaco; font-size:12px\">dL/dw2 = <span style=\"color:blue\">+0.068</span> + <span style=\"color:red\">-0.000</span> + <span style=\"color:red\">-0.003</span> + <span style=\"color:red\">-0.051</span> + <span style=\"color:red\">-0.006</span> + <span style=\"color:blue\">+0.065</span> + <span style=\"color:red\">-0.000</span> + <span style=\"color:blue\">+0.076</span> = <span style=\"color:blue; text-decoration:underline\">+0.149</span></div>"
      ],
      "text/plain": [
       "<IPython.core.display.Markdown object>"
      ]
     },
     "metadata": {},
     "output_type": "display_data"
    },
    {
     "name": "stdout",
     "output_type": "stream",
     "text": [
      "w1=+0.532, w2=-0.250, w3=+1.000\n",
      "\n"
     ]
    },
    {
     "data": {
      "text/markdown": [
       "<div>**Iteration 32**</div>"
      ],
      "text/plain": [
       "<IPython.core.display.Markdown object>"
      ]
     },
     "metadata": {},
     "output_type": "display_data"
    },
    {
     "name": "stdout",
     "output_type": "stream",
     "text": [
      "Output: [+0.564, +0.495, +0.625, +0.684, +0.621, +0.560, +0.491, +0.422]\n",
      "Target: [+0.500, +0.500, +0.731, +0.731, +0.731, +0.500, +0.500, +0.500]\n",
      "Memory: [+0.259, -0.020, +0.512, +0.772, +0.493, +0.243, -0.036, -0.316]\n"
     ]
    },
    {
     "data": {
      "text/markdown": [
       "<div>Loss: **0.08581** = <span style=\"font-family:monaco; font-size:12px\">0.008 + 0.000 + 0.025 + 0.005 + 0.027 + 0.007 + 0.000 + 0.012</span></div><div style=\"font-family:monaco; font-size:12px\">dL/dw1 = <span style=\"color:blue\">+0.063</span> + <span style=\"color:blue\">+0.000</span> + <span style=\"color:red\">-0.103</span> + <span style=\"color:red\">-0.092</span> + <span style=\"color:red\">-0.105</span> + <span style=\"color:blue\">+0.057</span> + <span style=\"color:blue\">+0.000</span> + <span style=\"color:blue\">+0.082</span> = <span style=\"color:red; text-decoration:underline\">-0.098</span></div><div style=\"font-family:monaco; font-size:12px\">dL/dw2 = <span style=\"color:blue\">+0.066</span> + <span style=\"color:red\">-0.000</span> + <span style=\"color:red\">-0.003</span> + <span style=\"color:red\">-0.050</span> + <span style=\"color:red\">-0.006</span> + <span style=\"color:blue\">+0.063</span> + <span style=\"color:red\">-0.000</span> + <span style=\"color:blue\">+0.075</span> = <span style=\"color:blue; text-decoration:underline\">+0.146</span></div>"
      ],
      "text/plain": [
       "<IPython.core.display.Markdown object>"
      ]
     },
     "metadata": {},
     "output_type": "display_data"
    },
    {
     "name": "stdout",
     "output_type": "stream",
     "text": [
      "w1=+0.542, w2=-0.265, w3=+1.000\n",
      "\n"
     ]
    },
    {
     "data": {
      "text/markdown": [
       "<div>**Iteration 33**</div>"
      ],
      "text/plain": [
       "<IPython.core.display.Markdown object>"
      ]
     },
     "metadata": {},
     "output_type": "display_data"
    },
    {
     "name": "stdout",
     "output_type": "stream",
     "text": [
      "Output: [+0.563, +0.495, +0.627, +0.685, +0.623, +0.559, +0.491, +0.423]\n",
      "Target: [+0.500, +0.500, +0.731, +0.731, +0.731, +0.500, +0.500, +0.500]\n",
      "Memory: [+0.254, -0.020, +0.521, +0.775, +0.501, +0.237, -0.038, -0.312]\n"
     ]
    },
    {
     "data": {
      "text/markdown": [
       "<div>Loss: **0.08276** = <span style=\"font-family:monaco; font-size:12px\">0.008 + 0.000 + 0.024 + 0.005 + 0.026 + 0.007 + 0.000 + 0.012</span></div><div style=\"font-family:monaco; font-size:12px\">dL/dw1 = <span style=\"color:blue\">+0.061</span> + <span style=\"color:blue\">+0.000</span> + <span style=\"color:red\">-0.101</span> + <span style=\"color:red\">-0.090</span> + <span style=\"color:red\">-0.103</span> + <span style=\"color:blue\">+0.056</span> + <span style=\"color:blue\">+0.000</span> + <span style=\"color:blue\">+0.081</span> = <span style=\"color:red; text-decoration:underline\">-0.096</span></div><div style=\"font-family:monaco; font-size:12px\">dL/dw2 = <span style=\"color:blue\">+0.065</span> + <span style=\"color:red\">-0.000</span> + <span style=\"color:red\">-0.003</span> + <span style=\"color:red\">-0.049</span> + <span style=\"color:red\">-0.006</span> + <span style=\"color:blue\">+0.062</span> + <span style=\"color:red\">-0.000</span> + <span style=\"color:blue\">+0.074</span> = <span style=\"color:blue; text-decoration:underline\">+0.143</span></div>"
      ],
      "text/plain": [
       "<IPython.core.display.Markdown object>"
      ]
     },
     "metadata": {},
     "output_type": "display_data"
    },
    {
     "name": "stdout",
     "output_type": "stream",
     "text": [
      "w1=+0.551, w2=-0.279, w3=+1.000\n",
      "\n"
     ]
    },
    {
     "data": {
      "text/markdown": [
       "<div>**Iteration 34**</div>"
      ],
      "text/plain": [
       "<IPython.core.display.Markdown object>"
      ]
     },
     "metadata": {},
     "output_type": "display_data"
    },
    {
     "name": "stdout",
     "output_type": "stream",
     "text": [
      "Output: [+0.562, +0.495, +0.630, +0.685, +0.625, +0.557, +0.490, +0.424]\n",
      "Target: [+0.500, +0.500, +0.731, +0.731, +0.731, +0.500, +0.500, +0.500]\n",
      "Memory: [+0.248, -0.021, +0.530, +0.779, +0.510, +0.231, -0.039, -0.308]\n"
     ]
    },
    {
     "data": {
      "text/markdown": [
       "<div>Loss: **0.07983** = <span style=\"font-family:monaco; font-size:12px\">0.008 + 0.000 + 0.023 + 0.005 + 0.025 + 0.007 + 0.000 + 0.012</span></div><div style=\"font-family:monaco; font-size:12px\">dL/dw1 = <span style=\"color:blue\">+0.060</span> + <span style=\"color:blue\">+0.000</span> + <span style=\"color:red\">-0.099</span> + <span style=\"color:red\">-0.089</span> + <span style=\"color:red\">-0.101</span> + <span style=\"color:blue\">+0.055</span> + <span style=\"color:blue\">+0.000</span> + <span style=\"color:blue\">+0.080</span> = <span style=\"color:red; text-decoration:underline\">-0.094</span></div><div style=\"font-family:monaco; font-size:12px\">dL/dw2 = <span style=\"color:blue\">+0.064</span> + <span style=\"color:red\">-0.000</span> + <span style=\"color:red\">-0.003</span> + <span style=\"color:red\">-0.048</span> + <span style=\"color:red\">-0.005</span> + <span style=\"color:blue\">+0.060</span> + <span style=\"color:red\">-0.000</span> + <span style=\"color:blue\">+0.073</span> = <span style=\"color:blue; text-decoration:underline\">+0.140</span></div>"
      ],
      "text/plain": [
       "<IPython.core.display.Markdown object>"
      ]
     },
     "metadata": {},
     "output_type": "display_data"
    },
    {
     "name": "stdout",
     "output_type": "stream",
     "text": [
      "w1=+0.561, w2=-0.293, w3=+1.000\n",
      "\n"
     ]
    },
    {
     "data": {
      "text/markdown": [
       "<div>**Iteration 35**</div>"
      ],
      "text/plain": [
       "<IPython.core.display.Markdown object>"
      ]
     },
     "metadata": {},
     "output_type": "display_data"
    },
    {
     "name": "stdout",
     "output_type": "stream",
     "text": [
      "Output: [+0.560, +0.495, +0.632, +0.686, +0.627, +0.556, +0.490, +0.424]\n",
      "Target: [+0.500, +0.500, +0.731, +0.731, +0.731, +0.500, +0.500, +0.500]\n",
      "Memory: [+0.243, -0.021, +0.539, +0.782, +0.518, +0.225, -0.040, -0.305]\n"
     ]
    },
    {
     "data": {
      "text/markdown": [
       "<div>Loss: **0.07700** = <span style=\"font-family:monaco; font-size:12px\">0.007 + 0.000 + 0.022 + 0.005 + 0.024 + 0.006 + 0.000 + 0.012</span></div><div style=\"font-family:monaco; font-size:12px\">dL/dw1 = <span style=\"color:blue\">+0.059</span> + <span style=\"color:blue\">+0.000</span> + <span style=\"color:red\">-0.097</span> + <span style=\"color:red\">-0.087</span> + <span style=\"color:red\">-0.099</span> + <span style=\"color:blue\">+0.053</span> + <span style=\"color:blue\">+0.000</span> + <span style=\"color:blue\">+0.079</span> = <span style=\"color:red; text-decoration:underline\">-0.092</span></div><div style=\"font-family:monaco; font-size:12px\">dL/dw2 = <span style=\"color:blue\">+0.062</span> + <span style=\"color:red\">-0.000</span> + <span style=\"color:red\">-0.003</span> + <span style=\"color:red\">-0.047</span> + <span style=\"color:red\">-0.005</span> + <span style=\"color:blue\">+0.059</span> + <span style=\"color:red\">-0.000</span> + <span style=\"color:blue\">+0.072</span> = <span style=\"color:blue; text-decoration:underline\">+0.137</span></div>"
      ],
      "text/plain": [
       "<IPython.core.display.Markdown object>"
      ]
     },
     "metadata": {},
     "output_type": "display_data"
    },
    {
     "name": "stdout",
     "output_type": "stream",
     "text": [
      "w1=+0.570, w2=-0.307, w3=+1.000\n",
      "\n"
     ]
    },
    {
     "data": {
      "text/markdown": [
       "<div>**Iteration 36**</div>"
      ],
      "text/plain": [
       "<IPython.core.display.Markdown object>"
      ]
     },
     "metadata": {},
     "output_type": "display_data"
    },
    {
     "name": "stdout",
     "output_type": "stream",
     "text": [
      "Output: [+0.559, +0.494, +0.634, +0.687, +0.629, +0.555, +0.490, +0.425]\n",
      "Target: [+0.500, +0.500, +0.731, +0.731, +0.731, +0.500, +0.500, +0.500]\n",
      "Memory: [+0.238, -0.022, +0.548, +0.786, +0.526, +0.219, -0.041, -0.301]\n"
     ]
    },
    {
     "data": {
      "text/markdown": [
       "<div>Loss: **0.07429** = <span style=\"font-family:monaco; font-size:12px\">0.007 + 0.000 + 0.021 + 0.005 + 0.024 + 0.006 + 0.000 + 0.011</span></div><div style=\"font-family:monaco; font-size:12px\">dL/dw1 = <span style=\"color:blue\">+0.058</span> + <span style=\"color:blue\">+0.000</span> + <span style=\"color:red\">-0.095</span> + <span style=\"color:red\">-0.086</span> + <span style=\"color:red\">-0.097</span> + <span style=\"color:blue\">+0.052</span> + <span style=\"color:blue\">+0.000</span> + <span style=\"color:blue\">+0.078</span> = <span style=\"color:red; text-decoration:underline\">-0.090</span></div><div style=\"font-family:monaco; font-size:12px\">dL/dw2 = <span style=\"color:blue\">+0.061</span> + <span style=\"color:red\">-0.000</span> + <span style=\"color:red\">-0.003</span> + <span style=\"color:red\">-0.047</span> + <span style=\"color:red\">-0.005</span> + <span style=\"color:blue\">+0.057</span> + <span style=\"color:red\">-0.000</span> + <span style=\"color:blue\">+0.071</span> = <span style=\"color:blue; text-decoration:underline\">+0.135</span></div>"
      ],
      "text/plain": [
       "<IPython.core.display.Markdown object>"
      ]
     },
     "metadata": {},
     "output_type": "display_data"
    },
    {
     "name": "stdout",
     "output_type": "stream",
     "text": [
      "w1=+0.579, w2=-0.320, w3=+1.000\n",
      "\n"
     ]
    },
    {
     "data": {
      "text/markdown": [
       "<div>**Iteration 37**</div>"
      ],
      "text/plain": [
       "<IPython.core.display.Markdown object>"
      ]
     },
     "metadata": {},
     "output_type": "display_data"
    },
    {
     "name": "stdout",
     "output_type": "stream",
     "text": [
      "Output: [+0.558, +0.494, +0.636, +0.688, +0.630, +0.553, +0.489, +0.426]\n",
      "Target: [+0.500, +0.500, +0.731, +0.731, +0.731, +0.500, +0.500, +0.500]\n",
      "Memory: [+0.233, -0.023, +0.556, +0.789, +0.534, +0.214, -0.042, -0.298]\n"
     ]
    },
    {
     "data": {
      "text/markdown": [
       "<div>Loss: **0.07168** = <span style=\"font-family:monaco; font-size:12px\">0.007 + 0.000 + 0.021 + 0.005 + 0.023 + 0.006 + 0.000 + 0.011</span></div><div style=\"font-family:monaco; font-size:12px\">dL/dw1 = <span style=\"color:blue\">+0.056</span> + <span style=\"color:blue\">+0.000</span> + <span style=\"color:red\">-0.093</span> + <span style=\"color:red\">-0.084</span> + <span style=\"color:red\">-0.096</span> + <span style=\"color:blue\">+0.051</span> + <span style=\"color:blue\">+0.000</span> + <span style=\"color:blue\">+0.077</span> = <span style=\"color:red; text-decoration:underline\">-0.089</span></div><div style=\"font-family:monaco; font-size:12px\">dL/dw2 = <span style=\"color:blue\">+0.060</span> + <span style=\"color:red\">-0.000</span> + <span style=\"color:red\">-0.002</span> + <span style=\"color:red\">-0.046</span> + <span style=\"color:red\">-0.005</span> + <span style=\"color:blue\">+0.056</span> + <span style=\"color:red\">-0.001</span> + <span style=\"color:blue\">+0.071</span> = <span style=\"color:blue; text-decoration:underline\">+0.132</span></div>"
      ],
      "text/plain": [
       "<IPython.core.display.Markdown object>"
      ]
     },
     "metadata": {},
     "output_type": "display_data"
    },
    {
     "name": "stdout",
     "output_type": "stream",
     "text": [
      "w1=+0.588, w2=-0.333, w3=+1.000\n",
      "\n"
     ]
    },
    {
     "data": {
      "text/markdown": [
       "<div>**Iteration 38**</div>"
      ],
      "text/plain": [
       "<IPython.core.display.Markdown object>"
      ]
     },
     "metadata": {},
     "output_type": "display_data"
    },
    {
     "name": "stdout",
     "output_type": "stream",
     "text": [
      "Output: [+0.557, +0.494, +0.638, +0.688, +0.632, +0.552, +0.489, +0.427]\n",
      "Target: [+0.500, +0.500, +0.731, +0.731, +0.731, +0.500, +0.500, +0.500]\n",
      "Memory: [+0.228, -0.023, +0.565, +0.793, +0.541, +0.208, -0.043, -0.294]\n"
     ]
    },
    {
     "data": {
      "text/markdown": [
       "<div>Loss: **0.06917** = <span style=\"font-family:monaco; font-size:12px\">0.006 + 0.000 + 0.020 + 0.004 + 0.022 + 0.005 + 0.000 + 0.011</span></div><div style=\"font-family:monaco; font-size:12px\">dL/dw1 = <span style=\"color:blue\">+0.055</span> + <span style=\"color:blue\">+0.000</span> + <span style=\"color:red\">-0.091</span> + <span style=\"color:red\">-0.083</span> + <span style=\"color:red\">-0.094</span> + <span style=\"color:blue\">+0.049</span> + <span style=\"color:blue\">+0.000</span> + <span style=\"color:blue\">+0.076</span> = <span style=\"color:red; text-decoration:underline\">-0.087</span></div><div style=\"font-family:monaco; font-size:12px\">dL/dw2 = <span style=\"color:blue\">+0.058</span> + <span style=\"color:red\">-0.000</span> + <span style=\"color:red\">-0.002</span> + <span style=\"color:red\">-0.045</span> + <span style=\"color:red\">-0.005</span> + <span style=\"color:blue\">+0.054</span> + <span style=\"color:red\">-0.001</span> + <span style=\"color:blue\">+0.070</span> = <span style=\"color:blue; text-decoration:underline\">+0.130</span></div>"
      ],
      "text/plain": [
       "<IPython.core.display.Markdown object>"
      ]
     },
     "metadata": {},
     "output_type": "display_data"
    },
    {
     "name": "stdout",
     "output_type": "stream",
     "text": [
      "w1=+0.597, w2=-0.346, w3=+1.000\n",
      "\n"
     ]
    },
    {
     "data": {
      "text/markdown": [
       "<div>**Iteration 39**</div>"
      ],
      "text/plain": [
       "<IPython.core.display.Markdown object>"
      ]
     },
     "metadata": {},
     "output_type": "display_data"
    },
    {
     "name": "stdout",
     "output_type": "stream",
     "text": [
      "Output: [+0.556, +0.494, +0.639, +0.689, +0.634, +0.551, +0.489, +0.428]\n",
      "Target: [+0.500, +0.500, +0.731, +0.731, +0.731, +0.500, +0.500, +0.500]\n",
      "Memory: [+0.223, -0.024, +0.573, +0.796, +0.549, +0.203, -0.044, -0.291]\n"
     ]
    },
    {
     "data": {
      "text/markdown": [
       "<div>Loss: **0.06676** = <span style=\"font-family:monaco; font-size:12px\">0.006 + 0.000 + 0.019 + 0.004 + 0.021 + 0.005 + 0.000 + 0.011</span></div><div style=\"font-family:monaco; font-size:12px\">dL/dw1 = <span style=\"color:blue\">+0.054</span> + <span style=\"color:blue\">+0.000</span> + <span style=\"color:red\">-0.089</span> + <span style=\"color:red\">-0.082</span> + <span style=\"color:red\">-0.092</span> + <span style=\"color:blue\">+0.048</span> + <span style=\"color:blue\">+0.001</span> + <span style=\"color:blue\">+0.075</span> = <span style=\"color:red; text-decoration:underline\">-0.085</span></div><div style=\"font-family:monaco; font-size:12px\">dL/dw2 = <span style=\"color:blue\">+0.057</span> + <span style=\"color:red\">-0.000</span> + <span style=\"color:red\">-0.002</span> + <span style=\"color:red\">-0.044</span> + <span style=\"color:red\">-0.005</span> + <span style=\"color:blue\">+0.053</span> + <span style=\"color:red\">-0.001</span> + <span style=\"color:blue\">+0.069</span> = <span style=\"color:blue; text-decoration:underline\">+0.127</span></div>"
      ],
      "text/plain": [
       "<IPython.core.display.Markdown object>"
      ]
     },
     "metadata": {},
     "output_type": "display_data"
    },
    {
     "name": "stdout",
     "output_type": "stream",
     "text": [
      "w1=+0.605, w2=-0.359, w3=+1.000\n",
      "\n"
     ]
    },
    {
     "data": {
      "text/markdown": [
       "<div>**Iteration 40**</div>"
      ],
      "text/plain": [
       "<IPython.core.display.Markdown object>"
      ]
     },
     "metadata": {},
     "output_type": "display_data"
    },
    {
     "name": "stdout",
     "output_type": "stream",
     "text": [
      "Output: [+0.554, +0.494, +0.641, +0.690, +0.636, +0.549, +0.489, +0.429]\n",
      "Target: [+0.500, +0.500, +0.731, +0.731, +0.731, +0.500, +0.500, +0.500]\n",
      "Memory: [+0.218, -0.024, +0.581, +0.799, +0.557, +0.197, -0.045, -0.288]\n"
     ]
    },
    {
     "data": {
      "text/markdown": [
       "<div>Loss: **0.06444** = <span style=\"font-family:monaco; font-size:12px\">0.006 + 0.000 + 0.018 + 0.004 + 0.021 + 0.005 + 0.000 + 0.010</span></div><div style=\"font-family:monaco; font-size:12px\">dL/dw1 = <span style=\"color:blue\">+0.053</span> + <span style=\"color:blue\">+0.000</span> + <span style=\"color:red\">-0.088</span> + <span style=\"color:red\">-0.080</span> + <span style=\"color:red\">-0.091</span> + <span style=\"color:blue\">+0.047</span> + <span style=\"color:blue\">+0.001</span> + <span style=\"color:blue\">+0.074</span> = <span style=\"color:red; text-decoration:underline\">-0.084</span></div><div style=\"font-family:monaco; font-size:12px\">dL/dw2 = <span style=\"color:blue\">+0.056</span> + <span style=\"color:red\">-0.000</span> + <span style=\"color:red\">-0.002</span> + <span style=\"color:red\">-0.044</span> + <span style=\"color:red\">-0.005</span> + <span style=\"color:blue\">+0.052</span> + <span style=\"color:red\">-0.001</span> + <span style=\"color:blue\">+0.068</span> = <span style=\"color:blue; text-decoration:underline\">+0.125</span></div>"
      ],
      "text/plain": [
       "<IPython.core.display.Markdown object>"
      ]
     },
     "metadata": {},
     "output_type": "display_data"
    },
    {
     "name": "stdout",
     "output_type": "stream",
     "text": [
      "w1=+0.613, w2=-0.372, w3=+1.000\n",
      "\n"
     ]
    },
    {
     "data": {
      "text/markdown": [
       "<div>**Iteration 41**</div>"
      ],
      "text/plain": [
       "<IPython.core.display.Markdown object>"
      ]
     },
     "metadata": {},
     "output_type": "display_data"
    },
    {
     "name": "stdout",
     "output_type": "stream",
     "text": [
      "Output: [+0.553, +0.494, +0.643, +0.690, +0.637, +0.548, +0.488, +0.429]\n",
      "Target: [+0.500, +0.500, +0.731, +0.731, +0.731, +0.500, +0.500, +0.500]\n",
      "Memory: [+0.214, -0.025, +0.589, +0.802, +0.564, +0.192, -0.046, -0.284]\n"
     ]
    },
    {
     "data": {
      "text/markdown": [
       "<div>Loss: **0.06221** = <span style=\"font-family:monaco; font-size:12px\">0.006 + 0.000 + 0.018 + 0.004 + 0.020 + 0.005 + 0.000 + 0.010</span></div><div style=\"font-family:monaco; font-size:12px\">dL/dw1 = <span style=\"color:blue\">+0.052</span> + <span style=\"color:blue\">+0.000</span> + <span style=\"color:red\">-0.086</span> + <span style=\"color:red\">-0.079</span> + <span style=\"color:red\">-0.089</span> + <span style=\"color:blue\">+0.046</span> + <span style=\"color:blue\">+0.001</span> + <span style=\"color:blue\">+0.074</span> = <span style=\"color:red; text-decoration:underline\">-0.082</span></div><div style=\"font-family:monaco; font-size:12px\">dL/dw2 = <span style=\"color:blue\">+0.055</span> + <span style=\"color:red\">-0.000</span> + <span style=\"color:red\">-0.002</span> + <span style=\"color:red\">-0.043</span> + <span style=\"color:red\">-0.005</span> + <span style=\"color:blue\">+0.050</span> + <span style=\"color:red\">-0.001</span> + <span style=\"color:blue\">+0.068</span> = <span style=\"color:blue; text-decoration:underline\">+0.122</span></div>"
      ],
      "text/plain": [
       "<IPython.core.display.Markdown object>"
      ]
     },
     "metadata": {},
     "output_type": "display_data"
    },
    {
     "name": "stdout",
     "output_type": "stream",
     "text": [
      "w1=+0.622, w2=-0.384, w3=+1.000\n",
      "\n"
     ]
    },
    {
     "data": {
      "text/markdown": [
       "<div>**Iteration 42**</div>"
      ],
      "text/plain": [
       "<IPython.core.display.Markdown object>"
      ]
     },
     "metadata": {},
     "output_type": "display_data"
    },
    {
     "name": "stdout",
     "output_type": "stream",
     "text": [
      "Output: [+0.552, +0.494, +0.645, +0.691, +0.639, +0.547, +0.488, +0.430]\n",
      "Target: [+0.500, +0.500, +0.731, +0.731, +0.731, +0.500, +0.500, +0.500]\n",
      "Memory: [+0.209, -0.025, +0.596, +0.805, +0.571, +0.187, -0.047, -0.281]\n"
     ]
    },
    {
     "data": {
      "text/markdown": [
       "<div>Loss: **0.06006** = <span style=\"font-family:monaco; font-size:12px\">0.005 + 0.000 + 0.017 + 0.004 + 0.019 + 0.004 + 0.000 + 0.010</span></div><div style=\"font-family:monaco; font-size:12px\">dL/dw1 = <span style=\"color:blue\">+0.051</span> + <span style=\"color:blue\">+0.000</span> + <span style=\"color:red\">-0.084</span> + <span style=\"color:red\">-0.078</span> + <span style=\"color:red\">-0.087</span> + <span style=\"color:blue\">+0.044</span> + <span style=\"color:blue\">+0.001</span> + <span style=\"color:blue\">+0.073</span> = <span style=\"color:red; text-decoration:underline\">-0.081</span></div><div style=\"font-family:monaco; font-size:12px\">dL/dw2 = <span style=\"color:blue\">+0.054</span> + <span style=\"color:red\">-0.000</span> + <span style=\"color:red\">-0.002</span> + <span style=\"color:red\">-0.042</span> + <span style=\"color:red\">-0.005</span> + <span style=\"color:blue\">+0.049</span> + <span style=\"color:red\">-0.001</span> + <span style=\"color:blue\">+0.067</span> = <span style=\"color:blue; text-decoration:underline\">+0.120</span></div>"
      ],
      "text/plain": [
       "<IPython.core.display.Markdown object>"
      ]
     },
     "metadata": {},
     "output_type": "display_data"
    },
    {
     "name": "stdout",
     "output_type": "stream",
     "text": [
      "w1=+0.630, w2=-0.396, w3=+1.000\n",
      "\n"
     ]
    },
    {
     "data": {
      "text/markdown": [
       "<div>**Iteration 43**</div>"
      ],
      "text/plain": [
       "<IPython.core.display.Markdown object>"
      ]
     },
     "metadata": {},
     "output_type": "display_data"
    },
    {
     "name": "stdout",
     "output_type": "stream",
     "text": [
      "Output: [+0.551, +0.494, +0.647, +0.692, +0.641, +0.545, +0.488, +0.431]\n",
      "Target: [+0.500, +0.500, +0.731, +0.731, +0.731, +0.500, +0.500, +0.500]\n",
      "Memory: [+0.205, -0.026, +0.604, +0.809, +0.578, +0.182, -0.048, -0.278]\n"
     ]
    },
    {
     "data": {
      "text/markdown": [
       "<div>Loss: **0.05800** = <span style=\"font-family:monaco; font-size:12px\">0.005 + 0.000 + 0.016 + 0.004 + 0.019 + 0.004 + 0.000 + 0.010</span></div><div style=\"font-family:monaco; font-size:12px\">dL/dw1 = <span style=\"color:blue\">+0.050</span> + <span style=\"color:blue\">+0.000</span> + <span style=\"color:red\">-0.082</span> + <span style=\"color:red\">-0.076</span> + <span style=\"color:red\">-0.086</span> + <span style=\"color:blue\">+0.043</span> + <span style=\"color:blue\">+0.001</span> + <span style=\"color:blue\">+0.072</span> = <span style=\"color:red; text-decoration:underline\">-0.079</span></div><div style=\"font-family:monaco; font-size:12px\">dL/dw2 = <span style=\"color:blue\">+0.052</span> + <span style=\"color:red\">-0.000</span> + <span style=\"color:red\">-0.002</span> + <span style=\"color:red\">-0.041</span> + <span style=\"color:red\">-0.005</span> + <span style=\"color:blue\">+0.048</span> + <span style=\"color:red\">-0.001</span> + <span style=\"color:blue\">+0.066</span> = <span style=\"color:blue; text-decoration:underline\">+0.117</span></div>"
      ],
      "text/plain": [
       "<IPython.core.display.Markdown object>"
      ]
     },
     "metadata": {},
     "output_type": "display_data"
    },
    {
     "name": "stdout",
     "output_type": "stream",
     "text": [
      "w1=+0.638, w2=-0.407, w3=+1.000\n",
      "\n"
     ]
    },
    {
     "data": {
      "text/markdown": [
       "<div>**Iteration 44**</div>"
      ],
      "text/plain": [
       "<IPython.core.display.Markdown object>"
      ]
     },
     "metadata": {},
     "output_type": "display_data"
    },
    {
     "name": "stdout",
     "output_type": "stream",
     "text": [
      "Output: [+0.550, +0.493, +0.648, +0.692, +0.642, +0.544, +0.488, +0.432]\n",
      "Target: [+0.500, +0.500, +0.731, +0.731, +0.731, +0.500, +0.500, +0.500]\n",
      "Memory: [+0.200, -0.026, +0.611, +0.812, +0.585, +0.178, -0.049, -0.275]\n"
     ]
    },
    {
     "data": {
      "text/markdown": [
       "<div>Loss: **0.05601** = <span style=\"font-family:monaco; font-size:12px\">0.005 + 0.000 + 0.016 + 0.004 + 0.018 + 0.004 + 0.000 + 0.009</span></div><div style=\"font-family:monaco; font-size:12px\">dL/dw1 = <span style=\"color:blue\">+0.048</span> + <span style=\"color:blue\">+0.000</span> + <span style=\"color:red\">-0.081</span> + <span style=\"color:red\">-0.075</span> + <span style=\"color:red\">-0.084</span> + <span style=\"color:blue\">+0.042</span> + <span style=\"color:blue\">+0.001</span> + <span style=\"color:blue\">+0.071</span> = <span style=\"color:red; text-decoration:underline\">-0.078</span></div><div style=\"font-family:monaco; font-size:12px\">dL/dw2 = <span style=\"color:blue\">+0.051</span> + <span style=\"color:red\">-0.000</span> + <span style=\"color:red\">-0.002</span> + <span style=\"color:red\">-0.041</span> + <span style=\"color:red\">-0.005</span> + <span style=\"color:blue\">+0.047</span> + <span style=\"color:red\">-0.001</span> + <span style=\"color:blue\">+0.065</span> = <span style=\"color:blue; text-decoration:underline\">+0.115</span></div>"
      ],
      "text/plain": [
       "<IPython.core.display.Markdown object>"
      ]
     },
     "metadata": {},
     "output_type": "display_data"
    },
    {
     "name": "stdout",
     "output_type": "stream",
     "text": [
      "w1=+0.645, w2=-0.419, w3=+1.000\n",
      "\n"
     ]
    },
    {
     "data": {
      "text/markdown": [
       "<div>**Iteration 45**</div>"
      ],
      "text/plain": [
       "<IPython.core.display.Markdown object>"
      ]
     },
     "metadata": {},
     "output_type": "display_data"
    },
    {
     "name": "stdout",
     "output_type": "stream",
     "text": [
      "Output: [+0.549, +0.493, +0.650, +0.693, +0.644, +0.543, +0.488, +0.432]\n",
      "Target: [+0.500, +0.500, +0.731, +0.731, +0.731, +0.500, +0.500, +0.500]\n",
      "Memory: [+0.196, -0.027, +0.619, +0.815, +0.592, +0.173, -0.050, -0.273]\n"
     ]
    },
    {
     "data": {
      "text/markdown": [
       "<div>Loss: **0.05410** = <span style=\"font-family:monaco; font-size:12px\">0.005 + 0.000 + 0.015 + 0.003 + 0.017 + 0.004 + 0.000 + 0.009</span></div><div style=\"font-family:monaco; font-size:12px\">dL/dw1 = <span style=\"color:blue\">+0.047</span> + <span style=\"color:blue\">+0.000</span> + <span style=\"color:red\">-0.079</span> + <span style=\"color:red\">-0.074</span> + <span style=\"color:red\">-0.083</span> + <span style=\"color:blue\">+0.041</span> + <span style=\"color:blue\">+0.001</span> + <span style=\"color:blue\">+0.071</span> = <span style=\"color:red; text-decoration:underline\">-0.076</span></div><div style=\"font-family:monaco; font-size:12px\">dL/dw2 = <span style=\"color:blue\">+0.050</span> + <span style=\"color:red\">-0.000</span> + <span style=\"color:red\">-0.002</span> + <span style=\"color:red\">-0.040</span> + <span style=\"color:red\">-0.004</span> + <span style=\"color:blue\">+0.045</span> + <span style=\"color:red\">-0.001</span> + <span style=\"color:blue\">+0.065</span> = <span style=\"color:blue; text-decoration:underline\">+0.113</span></div>"
      ],
      "text/plain": [
       "<IPython.core.display.Markdown object>"
      ]
     },
     "metadata": {},
     "output_type": "display_data"
    },
    {
     "name": "stdout",
     "output_type": "stream",
     "text": [
      "w1=+0.653, w2=-0.430, w3=+1.000\n",
      "\n"
     ]
    },
    {
     "data": {
      "text/markdown": [
       "<div>**Iteration 46**</div>"
      ],
      "text/plain": [
       "<IPython.core.display.Markdown object>"
      ]
     },
     "metadata": {},
     "output_type": "display_data"
    },
    {
     "name": "stdout",
     "output_type": "stream",
     "text": [
      "Output: [+0.548, +0.493, +0.652, +0.694, +0.645, +0.542, +0.487, +0.433]\n",
      "Target: [+0.500, +0.500, +0.731, +0.731, +0.731, +0.500, +0.500, +0.500]\n",
      "Memory: [+0.192, -0.027, +0.626, +0.817, +0.599, +0.168, -0.051, -0.270]\n"
     ]
    },
    {
     "data": {
      "text/markdown": [
       "<div>Loss: **0.05226** = <span style=\"font-family:monaco; font-size:12px\">0.005 + 0.000 + 0.015 + 0.003 + 0.017 + 0.004 + 0.000 + 0.009</span></div><div style=\"font-family:monaco; font-size:12px\">dL/dw1 = <span style=\"color:blue\">+0.046</span> + <span style=\"color:blue\">+0.000</span> + <span style=\"color:red\">-0.078</span> + <span style=\"color:red\">-0.073</span> + <span style=\"color:red\">-0.081</span> + <span style=\"color:blue\">+0.040</span> + <span style=\"color:blue\">+0.001</span> + <span style=\"color:blue\">+0.070</span> = <span style=\"color:red; text-decoration:underline\">-0.075</span></div><div style=\"font-family:monaco; font-size:12px\">dL/dw2 = <span style=\"color:blue\">+0.049</span> + <span style=\"color:red\">-0.000</span> + <span style=\"color:red\">-0.002</span> + <span style=\"color:red\">-0.039</span> + <span style=\"color:red\">-0.004</span> + <span style=\"color:blue\">+0.044</span> + <span style=\"color:red\">-0.001</span> + <span style=\"color:blue\">+0.064</span> = <span style=\"color:blue; text-decoration:underline\">+0.111</span></div>"
      ],
      "text/plain": [
       "<IPython.core.display.Markdown object>"
      ]
     },
     "metadata": {},
     "output_type": "display_data"
    },
    {
     "name": "stdout",
     "output_type": "stream",
     "text": [
      "w1=+0.661, w2=-0.441, w3=+1.000\n",
      "\n"
     ]
    },
    {
     "data": {
      "text/markdown": [
       "<div>**Iteration 47**</div>"
      ],
      "text/plain": [
       "<IPython.core.display.Markdown object>"
      ]
     },
     "metadata": {},
     "output_type": "display_data"
    },
    {
     "name": "stdout",
     "output_type": "stream",
     "text": [
      "Output: [+0.547, +0.493, +0.653, +0.694, +0.647, +0.541, +0.487, +0.434]\n",
      "Target: [+0.500, +0.500, +0.731, +0.731, +0.731, +0.500, +0.500, +0.500]\n",
      "Memory: [+0.188, -0.028, +0.633, +0.820, +0.605, +0.164, -0.052, -0.267]\n"
     ]
    },
    {
     "data": {
      "text/markdown": [
       "<div>Loss: **0.05049** = <span style=\"font-family:monaco; font-size:12px\">0.004 + 0.000 + 0.014 + 0.003 + 0.016 + 0.003 + 0.000 + 0.009</span></div><div style=\"font-family:monaco; font-size:12px\">dL/dw1 = <span style=\"color:blue\">+0.045</span> + <span style=\"color:blue\">+0.000</span> + <span style=\"color:red\">-0.076</span> + <span style=\"color:red\">-0.072</span> + <span style=\"color:red\">-0.080</span> + <span style=\"color:blue\">+0.039</span> + <span style=\"color:blue\">+0.001</span> + <span style=\"color:blue\">+0.069</span> = <span style=\"color:red; text-decoration:underline\">-0.073</span></div><div style=\"font-family:monaco; font-size:12px\">dL/dw2 = <span style=\"color:blue\">+0.048</span> + <span style=\"color:red\">-0.000</span> + <span style=\"color:red\">-0.002</span> + <span style=\"color:red\">-0.039</span> + <span style=\"color:red\">-0.004</span> + <span style=\"color:blue\">+0.043</span> + <span style=\"color:red\">-0.001</span> + <span style=\"color:blue\">+0.063</span> = <span style=\"color:blue; text-decoration:underline\">+0.109</span></div>"
      ],
      "text/plain": [
       "<IPython.core.display.Markdown object>"
      ]
     },
     "metadata": {},
     "output_type": "display_data"
    },
    {
     "name": "stdout",
     "output_type": "stream",
     "text": [
      "w1=+0.668, w2=-0.452, w3=+1.000\n",
      "\n"
     ]
    },
    {
     "data": {
      "text/markdown": [
       "<div>**Iteration 48**</div>"
      ],
      "text/plain": [
       "<IPython.core.display.Markdown object>"
      ]
     },
     "metadata": {},
     "output_type": "display_data"
    },
    {
     "name": "stdout",
     "output_type": "stream",
     "text": [
      "Output: [+0.546, +0.493, +0.655, +0.695, +0.648, +0.540, +0.487, +0.434]\n",
      "Target: [+0.500, +0.500, +0.731, +0.731, +0.731, +0.500, +0.500, +0.500]\n",
      "Memory: [+0.184, -0.028, +0.640, +0.823, +0.611, +0.159, -0.052, -0.264]\n"
     ]
    },
    {
     "data": {
      "text/markdown": [
       "<div>Loss: **0.04879** = <span style=\"font-family:monaco; font-size:12px\">0.004 + 0.000 + 0.013 + 0.003 + 0.016 + 0.003 + 0.000 + 0.009</span></div><div style=\"font-family:monaco; font-size:12px\">dL/dw1 = <span style=\"color:blue\">+0.044</span> + <span style=\"color:blue\">+0.000</span> + <span style=\"color:red\">-0.074</span> + <span style=\"color:red\">-0.070</span> + <span style=\"color:red\">-0.079</span> + <span style=\"color:blue\">+0.038</span> + <span style=\"color:blue\">+0.001</span> + <span style=\"color:blue\">+0.068</span> = <span style=\"color:red; text-decoration:underline\">-0.072</span></div><div style=\"font-family:monaco; font-size:12px\">dL/dw2 = <span style=\"color:blue\">+0.047</span> + <span style=\"color:red\">-0.000</span> + <span style=\"color:red\">-0.002</span> + <span style=\"color:red\">-0.038</span> + <span style=\"color:red\">-0.004</span> + <span style=\"color:blue\">+0.042</span> + <span style=\"color:red\">-0.001</span> + <span style=\"color:blue\">+0.063</span> = <span style=\"color:blue; text-decoration:underline\">+0.106</span></div>"
      ],
      "text/plain": [
       "<IPython.core.display.Markdown object>"
      ]
     },
     "metadata": {},
     "output_type": "display_data"
    },
    {
     "name": "stdout",
     "output_type": "stream",
     "text": [
      "w1=+0.675, w2=-0.463, w3=+1.000\n",
      "\n"
     ]
    },
    {
     "data": {
      "text/markdown": [
       "<div>**Iteration 49**</div>"
      ],
      "text/plain": [
       "<IPython.core.display.Markdown object>"
      ]
     },
     "metadata": {},
     "output_type": "display_data"
    },
    {
     "name": "stdout",
     "output_type": "stream",
     "text": [
      "Output: [+0.545, +0.493, +0.656, +0.696, +0.650, +0.539, +0.487, +0.435]\n",
      "Target: [+0.500, +0.500, +0.731, +0.731, +0.731, +0.500, +0.500, +0.500]\n",
      "Memory: [+0.180, -0.029, +0.646, +0.826, +0.618, +0.155, -0.053, -0.261]\n"
     ]
    },
    {
     "data": {
      "text/markdown": [
       "<div>Loss: **0.04715** = <span style=\"font-family:monaco; font-size:12px\">0.004 + 0.000 + 0.013 + 0.003 + 0.015 + 0.003 + 0.000 + 0.009</span></div><div style=\"font-family:monaco; font-size:12px\">dL/dw1 = <span style=\"color:blue\">+0.044</span> + <span style=\"color:blue\">+0.000</span> + <span style=\"color:red\">-0.073</span> + <span style=\"color:red\">-0.069</span> + <span style=\"color:red\">-0.077</span> + <span style=\"color:blue\">+0.037</span> + <span style=\"color:blue\">+0.001</span> + <span style=\"color:blue\">+0.068</span> = <span style=\"color:red; text-decoration:underline\">-0.071</span></div><div style=\"font-family:monaco; font-size:12px\">dL/dw2 = <span style=\"color:blue\">+0.046</span> + <span style=\"color:red\">-0.000</span> + <span style=\"color:red\">-0.002</span> + <span style=\"color:red\">-0.037</span> + <span style=\"color:red\">-0.004</span> + <span style=\"color:blue\">+0.041</span> + <span style=\"color:red\">-0.001</span> + <span style=\"color:blue\">+0.062</span> = <span style=\"color:blue; text-decoration:underline\">+0.104</span></div>"
      ],
      "text/plain": [
       "<IPython.core.display.Markdown object>"
      ]
     },
     "metadata": {},
     "output_type": "display_data"
    },
    {
     "name": "stdout",
     "output_type": "stream",
     "text": [
      "w1=+0.682, w2=-0.473, w3=+1.000\n",
      "\n"
     ]
    },
    {
     "data": {
      "text/markdown": [
       "<div>**Iteration 99**</div>"
      ],
      "text/plain": [
       "<IPython.core.display.Markdown object>"
      ]
     },
     "metadata": {},
     "output_type": "display_data"
    },
    {
     "name": "stdout",
     "output_type": "stream",
     "text": [
      "Output: [+0.514, +0.489, +0.703, +0.715, +0.694, +0.505, +0.480, +0.455]\n",
      "Target: [+0.500, +0.500, +0.731, +0.731, +0.731, +0.500, +0.500, +0.500]\n",
      "Memory: [+0.055, -0.043, +0.864, +0.919, +0.821, +0.018, -0.080, -0.179]\n"
     ]
    },
    {
     "data": {
      "text/markdown": [
       "<div>Loss: **0.01120** = <span style=\"font-family:monaco; font-size:12px\">0.000 + 0.000 + 0.002 + 0.001 + 0.003 + 0.000 + 0.001 + 0.004</span></div><div style=\"font-family:monaco; font-size:12px\">dL/dw1 = <span style=\"color:blue\">+0.013</span> + <span style=\"color:blue\">+0.000</span> + <span style=\"color:red\">-0.027</span> + <span style=\"color:red\">-0.032</span> + <span style=\"color:red\">-0.035</span> + <span style=\"color:blue\">+0.004</span> + <span style=\"color:blue\">+0.001</span> + <span style=\"color:blue\">+0.046</span> = <span style=\"color:red; text-decoration:underline\">-0.028</span></div><div style=\"font-family:monaco; font-size:12px\">dL/dw2 = <span style=\"color:blue\">+0.014</span> + <span style=\"color:red\">-0.000</span> + <span style=\"color:red\">-0.001</span> + <span style=\"color:red\">-0.017</span> + <span style=\"color:red\">-0.002</span> + <span style=\"color:blue\">+0.005</span> + <span style=\"color:red\">-0.001</span> + <span style=\"color:blue\">+0.043</span> = <span style=\"color:blue; text-decoration:underline\">+0.041</span></div>"
      ],
      "text/plain": [
       "<IPython.core.display.Markdown object>"
      ]
     },
     "metadata": {},
     "output_type": "display_data"
    },
    {
     "name": "stdout",
     "output_type": "stream",
     "text": [
      "w1=+0.910, w2=-0.807, w3=+1.000\n",
      "\n"
     ]
    },
    {
     "data": {
      "text/markdown": [
       "<div>**Iteration 149**</div>"
      ],
      "text/plain": [
       "<IPython.core.display.Markdown object>"
      ]
     },
     "metadata": {},
     "output_type": "display_data"
    },
    {
     "name": "stdout",
     "output_type": "stream",
     "text": [
      "Output: [+0.502, +0.488, +0.721, +0.723, +0.711, +0.491, +0.477, +0.463]\n",
      "Target: [+0.500, +0.500, +0.731, +0.731, +0.731, +0.500, +0.500, +0.500]\n",
      "Memory: [+0.007, -0.049, +0.951, +0.958, +0.902, -0.035, -0.091, -0.147]\n"
     ]
    },
    {
     "data": {
      "text/markdown": [
       "<div>Loss: **0.00556** = <span style=\"font-family:monaco; font-size:12px\">0.000 + 0.000 + 0.000 + 0.000 + 0.001 + 0.000 + 0.001 + 0.003</span></div><div style=\"font-family:monaco; font-size:12px\">dL/dw1 = <span style=\"color:blue\">+0.002</span> + <span style=\"color:blue\">+0.000</span> + <span style=\"color:red\">-0.010</span> + <span style=\"color:red\">-0.016</span> + <span style=\"color:red\">-0.019</span> + <span style=\"color:red\">-0.008</span> + <span style=\"color:blue\">+0.001</span> + <span style=\"color:blue\">+0.038</span> = <span style=\"color:red; text-decoration:underline\">-0.011</span></div><div style=\"font-family:monaco; font-size:12px\">dL/dw2 = <span style=\"color:blue\">+0.002</span> + <span style=\"color:red\">-0.000</span> + <span style=\"color:red\">-0.000</span> + <span style=\"color:red\">-0.009</span> + <span style=\"color:red\">-0.001</span> + <span style=\"color:red\">-0.009</span> + <span style=\"color:red\">-0.001</span> + <span style=\"color:blue\">+0.035</span> = <span style=\"color:blue; text-decoration:underline\">+0.016</span></div>"
      ],
      "text/plain": [
       "<IPython.core.display.Markdown object>"
      ]
     },
     "metadata": {},
     "output_type": "display_data"
    },
    {
     "name": "stdout",
     "output_type": "stream",
     "text": [
      "w1=+1.001, w2=-0.938, w3=+1.000\n",
      "\n"
     ]
    },
    {
     "data": {
      "text/markdown": [
       "<div>**Iteration 199**</div>"
      ],
      "text/plain": [
       "<IPython.core.display.Markdown object>"
      ]
     },
     "metadata": {},
     "output_type": "display_data"
    },
    {
     "name": "stdout",
     "output_type": "stream",
     "text": [
      "Output: [+0.497, +0.487, +0.728, +0.726, +0.718, +0.486, +0.476, +0.466]\n",
      "Target: [+0.500, +0.500, +0.731, +0.731, +0.731, +0.500, +0.500, +0.500]\n",
      "Memory: [-0.012, -0.051, +0.986, +0.974, +0.935, -0.056, -0.095, -0.134]\n"
     ]
    },
    {
     "data": {
      "text/markdown": [
       "<div>Loss: **0.00463** = <span style=\"font-family:monaco; font-size:12px\">0.000 + 0.000 + 0.000 + 0.000 + 0.000 + 0.000 + 0.001 + 0.002</span></div><div style=\"font-family:monaco; font-size:12px\">dL/dw1 = <span style=\"color:red\">-0.003</span> + <span style=\"color:blue\">+0.000</span> + <span style=\"color:red\">-0.003</span> + <span style=\"color:red\">-0.010</span> + <span style=\"color:red\">-0.012</span> + <span style=\"color:red\">-0.013</span> + <span style=\"color:blue\">+0.001</span> + <span style=\"color:blue\">+0.035</span> = <span style=\"color:red; text-decoration:underline\">-0.005</span></div><div style=\"font-family:monaco; font-size:12px\">dL/dw2 = <span style=\"color:red\">-0.003</span> + <span style=\"color:red\">-0.000</span> + <span style=\"color:red\">-0.000</span> + <span style=\"color:red\">-0.005</span> + <span style=\"color:red\">-0.001</span> + <span style=\"color:red\">-0.015</span> + <span style=\"color:red\">-0.001</span> + <span style=\"color:blue\">+0.032</span> = <span style=\"color:blue; text-decoration:underline\">+0.007</span></div>"
      ],
      "text/plain": [
       "<IPython.core.display.Markdown object>"
      ]
     },
     "metadata": {},
     "output_type": "display_data"
    },
    {
     "name": "stdout",
     "output_type": "stream",
     "text": [
      "w1=+1.038, w2=-0.992, w3=+1.000\n",
      "\n"
     ]
    },
    {
     "data": {
      "text/markdown": [
       "<div>**Iteration 249**</div>"
      ],
      "text/plain": [
       "<IPython.core.display.Markdown object>"
      ]
     },
     "metadata": {},
     "output_type": "display_data"
    },
    {
     "name": "stdout",
     "output_type": "stream",
     "text": [
      "Output: [+0.495, +0.487, +0.731, +0.727, +0.721, +0.484, +0.476, +0.468]\n",
      "Target: [+0.500, +0.500, +0.731, +0.731, +0.731, +0.500, +0.500, +0.500]\n",
      "Memory: [-0.020, -0.052, +1.001, +0.981, +0.949, -0.065, -0.097, -0.129]\n"
     ]
    },
    {
     "data": {
      "text/markdown": [
       "<div>Loss: **0.00447** = <span style=\"font-family:monaco; font-size:12px\">0.000 + 0.000 + 0.000 + 0.000 + 0.000 + 0.001 + 0.001 + 0.002</span></div><div style=\"font-family:monaco; font-size:12px\">dL/dw1 = <span style=\"color:red\">-0.005</span> + <span style=\"color:blue\">+0.000</span> + <span style=\"color:blue\">+0.000</span> + <span style=\"color:red\">-0.007</span> + <span style=\"color:red\">-0.010</span> + <span style=\"color:red\">-0.015</span> + <span style=\"color:blue\">+0.001</span> + <span style=\"color:blue\">+0.034</span> = <span style=\"color:red; text-decoration:underline\">-0.002</span></div><div style=\"font-family:monaco; font-size:12px\">dL/dw2 = <span style=\"color:red\">-0.005</span> + <span style=\"color:red\">-0.000</span> + <span style=\"color:blue\">+0.000</span> + <span style=\"color:red\">-0.004</span> + <span style=\"color:red\">-0.001</span> + <span style=\"color:red\">-0.017</span> + <span style=\"color:red\">-0.001</span> + <span style=\"color:blue\">+0.031</span> = <span style=\"color:blue; text-decoration:underline\">+0.003</span></div>"
      ],
      "text/plain": [
       "<IPython.core.display.Markdown object>"
      ]
     },
     "metadata": {},
     "output_type": "display_data"
    },
    {
     "name": "stdout",
     "output_type": "stream",
     "text": [
      "w1=+1.053, w2=-1.014, w3=+1.000\n",
      "\n"
     ]
    },
    {
     "data": {
      "text/plain": [
       "(1.0533303510284309, -1.0138310154752996, 1.0)"
      ]
     },
     "execution_count": 119,
     "metadata": {},
     "output_type": "execute_result"
    }
   ],
   "source": [
    "experiment('ab(ab)bb', _w1=1.0, _w2=1.0, alpha=1e-1, max_iter=250, fixed_w3=True)"
   ]
  },
  {
   "cell_type": "code",
   "execution_count": 120,
   "metadata": {
    "collapsed": false
   },
   "outputs": [
    {
     "name": "stdout",
     "output_type": "stream",
     "text": [
      "w1=+1.000, w2=+1.000, w3=+1.000, w4=+1.000, w5=+1.000\n"
     ]
    },
    {
     "data": {
      "text/markdown": [
       "**Iteration 0**"
      ],
      "text/plain": [
       "<IPython.core.display.Markdown object>"
      ]
     },
     "metadata": {},
     "output_type": "display_data"
    },
    {
     "name": "stdout",
     "output_type": "stream",
     "text": [
      "Output: [+0.982, +0.500, +0.731, +0.993, +0.732, +0.881, +0.120, +0.002]\n",
      "Target: [+0.500, +0.500, +0.731, +0.731, +0.731, +0.500, +0.500, +0.500]\n",
      "Memory: [+4.002, +0.002, +1.002, +5.003, +1.003, +2.003, -1.997, -5.997]\n",
      "Input : [+2.001, -2.000, +1.000, +2.001, -2.000, +1.000, -2.000, -2.000]\n",
      "Gate  : [+2.000, +2.000, +1.000, +2.000, +2.000, +1.000, +2.000, +2.000]\n"
     ]
    },
    {
     "data": {
      "text/markdown": [
       "<div>Loss: **5.27119** = <span style=\"font-family:monaco\">1.326 + 0.000 + 0.000 + 0.770 + 0.000 + 0.435 + 0.433 + 2.308</span></div><div style=\"font-family:monaco; font-size:12px\">dL/dw1 = <span style=\"color:blue\">+0.937</span> + <span style=\"color:red\">-0.000</span> + <span style=\"color:blue\">+0.000</span> + <span style=\"color:blue\">+0.759</span> + <span style=\"color:blue\">+0.001</span> + <span style=\"color:blue\">+0.343</span> + <span style=\"color:blue\">+0.416</span> + <span style=\"color:blue\">+1.535</span> = <span style=\"color:blue; text-decoration:underline\">+3.990</span></div><div style=\"font-family:monaco; font-size:12px\">dL/dw2 = <span style=\"color:blue\">+0.992</span> + <span style=\"color:blue\">+0.000</span> + <span style=\"color:blue\">+0.000</span> + <span style=\"color:blue\">+0.553</span> + <span style=\"color:blue\">+0.000</span> + <span style=\"color:blue\">+0.420</span> + <span style=\"color:blue\">+0.344</span> + <span style=\"color:blue\">+1.449</span> = <span style=\"color:blue; text-decoration:underline\">+3.759</span></div><div style=\"font-family:monaco; font-size:12px\">dL/dw4 = <span style=\"color:blue\">+0.964</span> + <span style=\"color:blue\">+0.000</span> + <span style=\"color:blue\">+0.000</span> + <span style=\"color:blue\">+0.787</span> + <span style=\"color:blue\">+0.001</span> + <span style=\"color:blue\">+0.763</span> + <span style=\"color:red\">-0.001</span> + <span style=\"color:blue\">+0.994</span> = <span style=\"color:blue; text-decoration:underline\">+3.509</span></div><div style=\"font-family:monaco; font-size:12px\">dL/dw5 = <span style=\"color:blue\">+0.964</span> + <span style=\"color:blue\">+0.000</span> + <span style=\"color:blue\">+0.000</span> + <span style=\"color:blue\">+0.525</span> + <span style=\"color:blue\">+0.000</span> + <span style=\"color:blue\">+0.001</span> + <span style=\"color:blue\">+0.760</span> + <span style=\"color:blue\">+1.989</span> = <span style=\"color:blue; text-decoration:underline\">+4.240</span></div>"
      ],
      "text/plain": [
       "<IPython.core.display.Markdown object>"
      ]
     },
     "metadata": {},
     "output_type": "display_data"
    },
    {
     "name": "stdout",
     "output_type": "stream",
     "text": [
      "w1=+0.601, w2=+0.624, w3=+1.000, w4=+0.649, w5=+0.576\n",
      "\n"
     ]
    },
    {
     "data": {
      "text/markdown": [
       "**Iteration 1**"
      ],
      "text/plain": [
       "<IPython.core.display.Markdown object>"
      ]
     },
     "metadata": {},
     "output_type": "display_data"
    },
    {
     "name": "stdout",
     "output_type": "stream",
     "text": [
      "Output: [+0.818, +0.500, +0.597, +0.869, +0.597, +0.690, +0.331, +0.099]\n",
      "Target: [+0.500, +0.500, +0.731, +0.731, +0.731, +0.500, +0.500, +0.500]\n",
      "Memory: [+1.502, +0.001, +0.391, +1.894, +0.393, +0.798, -0.703, -2.204]\n",
      "Input : [+1.226, -1.225, +0.601, +1.226, -1.225, +0.624, -1.225, -1.225]\n",
      "Gate  : [+1.225, +1.225, +0.649, +1.225, +1.225, +0.649, +1.225, +1.225]\n"
     ]
    },
    {
     "data": {
      "text/markdown": [
       "<div>Loss: **1.05693** = <span style=\"font-family:monaco\">0.259 + 0.000 + 0.040 + 0.067 + 0.039 + 0.078 + 0.061 + 0.514</span></div><div style=\"font-family:monaco; font-size:12px\">dL/dw1 = <span style=\"color:blue\">+0.378</span> + <span style=\"color:red\">-0.000</span> + <span style=\"color:red\">-0.083</span> + <span style=\"color:blue\">+0.250</span> + <span style=\"color:red\">-0.079</span> + <span style=\"color:blue\">+0.111</span> + <span style=\"color:blue\">+0.107</span> + <span style=\"color:blue\">+0.742</span> = <span style=\"color:blue; text-decoration:underline\">+1.427</span></div><div style=\"font-family:monaco; font-size:12px\">dL/dw2 = <span style=\"color:blue\">+0.401</span> + <span style=\"color:blue\">+0.000</span> + <span style=\"color:red\">-0.004</span> + <span style=\"color:blue\">+0.179</span> + <span style=\"color:red\">-0.008</span> + <span style=\"color:blue\">+0.135</span> + <span style=\"color:blue\">+0.087</span> + <span style=\"color:blue\">+0.700</span> = <span style=\"color:blue; text-decoration:underline\">+1.489</span></div><div style=\"font-family:monaco; font-size:12px\">dL/dw4 = <span style=\"color:blue\">+0.390</span> + <span style=\"color:blue\">+0.000</span> + <span style=\"color:red\">-0.081</span> + <span style=\"color:blue\">+0.253</span> + <span style=\"color:red\">-0.081</span> + <span style=\"color:blue\">+0.233</span> + <span style=\"color:red\">-0.000</span> + <span style=\"color:blue\">+0.490</span> = <span style=\"color:blue; text-decoration:underline\">+1.203</span></div><div style=\"font-family:monaco; font-size:12px\">dL/dw5 = <span style=\"color:blue\">+0.390</span> + <span style=\"color:blue\">+0.000</span> + <span style=\"color:red\">-0.000</span> + <span style=\"color:blue\">+0.170</span> + <span style=\"color:red\">-0.000</span> + <span style=\"color:blue\">+0.000</span> + <span style=\"color:blue\">+0.207</span> + <span style=\"color:blue\">+0.981</span> = <span style=\"color:blue; text-decoration:underline\">+1.747</span></div>"
      ],
      "text/plain": [
       "<IPython.core.display.Markdown object>"
      ]
     },
     "metadata": {},
     "output_type": "display_data"
    },
    {
     "name": "stdout",
     "output_type": "stream",
     "text": [
      "w1=+0.458, w2=+0.475, w3=+1.000, w4=+0.529, w5=+0.401\n",
      "\n"
     ]
    },
    {
     "data": {
      "text/markdown": [
       "**Iteration 2**"
      ],
      "text/plain": [
       "<IPython.core.display.Markdown object>"
      ]
     },
     "metadata": {},
     "output_type": "display_data"
    },
    {
     "name": "stdout",
     "output_type": "stream",
     "text": [
      "Output: [+0.705, +0.500, +0.560, +0.753, +0.561, +0.621, +0.408, +0.224]\n",
      "Target: [+0.500, +0.500, +0.731, +0.731, +0.731, +0.500, +0.500, +0.500]\n",
      "Memory: [+0.869, +0.001, +0.243, +1.112, +0.244, +0.495, -0.373, -1.242]\n",
      "Input : [+0.934, -0.934, +0.458, +0.934, -0.934, +0.475, -0.934, -0.934]\n",
      "Gate  : [+0.930, +0.930, +0.529, +0.930, +0.930, +0.529, +0.930, +0.930]\n"
     ]
    },
    {
     "data": {
      "text/markdown": [
       "<div>Loss: **0.44608** = <span style=\"font-family:monaco\">0.092 + 0.000 + 0.062 + 0.001 + 0.062 + 0.030 + 0.017 + 0.181</span></div><div style=\"font-family:monaco; font-size:12px\">dL/dw1 = <span style=\"color:blue\">+0.185</span> + <span style=\"color:red\">-0.000</span> + <span style=\"color:red\">-0.086</span> + <span style=\"color:blue\">+0.030</span> + <span style=\"color:red\">-0.082</span> + <span style=\"color:blue\">+0.059</span> + <span style=\"color:blue\">+0.041</span> + <span style=\"color:blue\">+0.378</span> = <span style=\"color:blue; text-decoration:underline\">+0.524</span></div><div style=\"font-family:monaco; font-size:12px\">dL/dw2 = <span style=\"color:blue\">+0.196</span> + <span style=\"color:blue\">+0.000</span> + <span style=\"color:red\">-0.004</span> + <span style=\"color:blue\">+0.021</span> + <span style=\"color:red\">-0.008</span> + <span style=\"color:blue\">+0.070</span> + <span style=\"color:blue\">+0.033</span> + <span style=\"color:blue\">+0.356</span> = <span style=\"color:blue; text-decoration:underline\">+0.664</span></div><div style=\"font-family:monaco; font-size:12px\">dL/dw4 = <span style=\"color:blue\">+0.191</span> + <span style=\"color:blue\">+0.000</span> + <span style=\"color:red\">-0.078</span> + <span style=\"color:blue\">+0.030</span> + <span style=\"color:red\">-0.078</span> + <span style=\"color:blue\">+0.113</span> + <span style=\"color:red\">-0.000</span> + <span style=\"color:blue\">+0.257</span> = <span style=\"color:blue; text-decoration:underline\">+0.435</span></div><div style=\"font-family:monaco; font-size:12px\">dL/dw5 = <span style=\"color:blue\">+0.191</span> + <span style=\"color:blue\">+0.000</span> + <span style=\"color:red\">-0.000</span> + <span style=\"color:blue\">+0.020</span> + <span style=\"color:red\">-0.000</span> + <span style=\"color:blue\">+0.000</span> + <span style=\"color:blue\">+0.086</span> + <span style=\"color:blue\">+0.515</span> = <span style=\"color:blue; text-decoration:underline\">+0.812</span></div>"
      ],
      "text/plain": [
       "<IPython.core.display.Markdown object>"
      ]
     },
     "metadata": {},
     "output_type": "display_data"
    },
    {
     "name": "stdout",
     "output_type": "stream",
     "text": [
      "w1=+0.406, w2=+0.409, w3=+1.000, w4=+0.485, w5=+0.320\n",
      "\n"
     ]
    },
    {
     "data": {
      "text/markdown": [
       "**Iteration 3**"
      ],
      "text/plain": [
       "<IPython.core.display.Markdown object>"
      ]
     },
     "metadata": {},
     "output_type": "display_data"
    },
    {
     "name": "stdout",
     "output_type": "stream",
     "text": [
      "Output: [+0.659, +0.500, +0.549, +0.701, +0.549, +0.598, +0.435, +0.286]\n",
      "Target: [+0.500, +0.500, +0.731, +0.731, +0.731, +0.500, +0.500, +0.500]\n",
      "Memory: [+0.657, +0.000, +0.197, +0.854, +0.198, +0.396, -0.260, -0.917]\n",
      "Input : [+0.815, -0.815, +0.406, +0.815, -0.815, +0.409, -0.815, -0.815]\n",
      "Gate  : [+0.806, +0.806, +0.485, +0.806, +0.806, +0.485, +0.806, +0.806]\n"
     ]
    },
    {
     "data": {
      "text/markdown": [
       "<div>Loss: **0.32491** = <span style=\"font-family:monaco\">0.053 + 0.000 + 0.070 + 0.002 + 0.070 + 0.019 + 0.008 + 0.102</span></div><div style=\"font-family:monaco; font-size:12px\">dL/dw1 = <span style=\"color:blue\">+0.124</span> + <span style=\"color:red\">-0.000</span> + <span style=\"color:red\">-0.085</span> + <span style=\"color:red\">-0.037</span> + <span style=\"color:red\">-0.081</span> + <span style=\"color:blue\">+0.044</span> + <span style=\"color:blue\">+0.023</span> + <span style=\"color:blue\">+0.249</span> = <span style=\"color:blue; text-decoration:underline\">+0.237</span></div><div style=\"font-family:monaco; font-size:12px\">dL/dw2 = <span style=\"color:blue\">+0.131</span> + <span style=\"color:blue\">+0.000</span> + <span style=\"color:red\">-0.004</span> + <span style=\"color:red\">-0.025</span> + <span style=\"color:red\">-0.008</span> + <span style=\"color:blue\">+0.051</span> + <span style=\"color:blue\">+0.018</span> + <span style=\"color:blue\">+0.234</span> = <span style=\"color:blue; text-decoration:underline\">+0.398</span></div><div style=\"font-family:monaco; font-size:12px\">dL/dw4 = <span style=\"color:blue\">+0.129</span> + <span style=\"color:blue\">+0.000</span> + <span style=\"color:red\">-0.074</span> + <span style=\"color:red\">-0.036</span> + <span style=\"color:red\">-0.074</span> + <span style=\"color:blue\">+0.080</span> + <span style=\"color:red\">-0.000</span> + <span style=\"color:blue\">+0.174</span> = <span style=\"color:blue; text-decoration:underline\">+0.199</span></div><div style=\"font-family:monaco; font-size:12px\">dL/dw5 = <span style=\"color:blue\">+0.129</span> + <span style=\"color:blue\">+0.000</span> + <span style=\"color:red\">-0.000</span> + <span style=\"color:red\">-0.024</span> + <span style=\"color:red\">-0.000</span> + <span style=\"color:blue\">+0.000</span> + <span style=\"color:blue\">+0.053</span> + <span style=\"color:blue\">+0.349</span> = <span style=\"color:blue; text-decoration:underline\">+0.507</span></div>"
      ],
      "text/plain": [
       "<IPython.core.display.Markdown object>"
      ]
     },
     "metadata": {},
     "output_type": "display_data"
    },
    {
     "name": "stdout",
     "output_type": "stream",
     "text": [
      "w1=+0.382, w2=+0.369, w3=+1.000, w4=+0.465, w5=+0.270\n",
      "\n"
     ]
    },
    {
     "data": {
      "text/markdown": [
       "**Iteration 4**"
      ],
      "text/plain": [
       "<IPython.core.display.Markdown object>"
      ]
     },
     "metadata": {},
     "output_type": "display_data"
    },
    {
     "name": "stdout",
     "output_type": "stream",
     "text": [
      "Output: [+0.635, +0.500, +0.544, +0.675, +0.544, +0.587, +0.450, +0.320]\n",
      "Target: [+0.500, +0.500, +0.731, +0.731, +0.731, +0.500, +0.500, +0.500]\n",
      "Memory: [+0.552, -0.000, +0.178, +0.730, +0.178, +0.350, -0.202, -0.755]\n",
      "Input : [+0.751, -0.751, +0.382, +0.751, -0.751, +0.369, -0.751, -0.751]\n",
      "Gate  : [+0.735, +0.735, +0.465, +0.735, +0.735, +0.465, +0.735, +0.735]\n"
     ]
    },
    {
     "data": {
      "text/markdown": [
       "<div>Loss: **0.28255** = <span style=\"font-family:monaco\">0.038 + 0.000 + 0.074 + 0.007 + 0.074 + 0.015 + 0.005 + 0.070</span></div><div style=\"font-family:monaco; font-size:12px\">dL/dw1 = <span style=\"color:blue\">+0.096</span> + <span style=\"color:blue\">+0.000</span> + <span style=\"color:red\">-0.083</span> + <span style=\"color:red\">-0.065</span> + <span style=\"color:red\">-0.080</span> + <span style=\"color:blue\">+0.037</span> + <span style=\"color:blue\">+0.015</span> + <span style=\"color:blue\">+0.187</span> = <span style=\"color:blue; text-decoration:underline\">+0.106</span></div><div style=\"font-family:monaco; font-size:12px\">dL/dw2 = <span style=\"color:blue\">+0.102</span> + <span style=\"color:red\">-0.000</span> + <span style=\"color:red\">-0.004</span> + <span style=\"color:red\">-0.044</span> + <span style=\"color:red\">-0.007</span> + <span style=\"color:blue\">+0.044</span> + <span style=\"color:blue\">+0.012</span> + <span style=\"color:blue\">+0.175</span> = <span style=\"color:blue; text-decoration:underline\">+0.278</span></div><div style=\"font-family:monaco; font-size:12px\">dL/dw4 = <span style=\"color:blue\">+0.101</span> + <span style=\"color:blue\">+0.000</span> + <span style=\"color:red\">-0.071</span> + <span style=\"color:red\">-0.064</span> + <span style=\"color:red\">-0.071</span> + <span style=\"color:blue\">+0.065</span> + <span style=\"color:blue\">+0.000</span> + <span style=\"color:blue\">+0.135</span> = <span style=\"color:blue; text-decoration:underline\">+0.095</span></div><div style=\"font-family:monaco; font-size:12px\">dL/dw5 = <span style=\"color:blue\">+0.101</span> + <span style=\"color:blue\">+0.000</span> + <span style=\"color:blue\">+0.000</span> + <span style=\"color:red\">-0.042</span> + <span style=\"color:blue\">+0.000</span> + <span style=\"color:red\">-0.000</span> + <span style=\"color:blue\">+0.038</span> + <span style=\"color:blue\">+0.271</span> = <span style=\"color:blue; text-decoration:underline\">+0.367</span></div>"
      ],
      "text/plain": [
       "<IPython.core.display.Markdown object>"
      ]
     },
     "metadata": {},
     "output_type": "display_data"
    },
    {
     "name": "stdout",
     "output_type": "stream",
     "text": [
      "w1=+0.372, w2=+0.341, w3=+1.000, w4=+0.456, w5=+0.233\n",
      "\n"
     ]
    },
    {
     "data": {
      "text/markdown": [
       "**Iteration 5**"
      ],
      "text/plain": [
       "<IPython.core.display.Markdown object>"
      ]
     },
     "metadata": {},
     "output_type": "display_data"
    },
    {
     "name": "stdout",
     "output_type": "stream",
     "text": [
      "Output: [+0.620, +0.500, +0.542, +0.659, +0.542, +0.580, +0.458, +0.341]\n",
      "Target: [+0.500, +0.500, +0.731, +0.731, +0.731, +0.500, +0.500, +0.500]\n",
      "Memory: [+0.490, -0.000, +0.169, +0.660, +0.169, +0.324, -0.167, -0.657]\n",
      "Input : [+0.712, -0.713, +0.372, +0.712, -0.713, +0.341, -0.713, -0.713]\n",
      "Gate  : [+0.689, +0.689, +0.456, +0.689, +0.689, +0.456, +0.689, +0.689]\n"
     ]
    },
    {
     "data": {
      "text/markdown": [
       "<div>Loss: **0.26233** = <span style=\"font-family:monaco\">0.030 + 0.000 + 0.075 + 0.012 + 0.076 + 0.013 + 0.003 + 0.053</span></div><div style=\"font-family:monaco; font-size:12px\">dL/dw1 = <span style=\"color:blue\">+0.080</span> + <span style=\"color:blue\">+0.000</span> + <span style=\"color:red\">-0.083</span> + <span style=\"color:red\">-0.080</span> + <span style=\"color:red\">-0.080</span> + <span style=\"color:blue\">+0.034</span> + <span style=\"color:blue\">+0.011</span> + <span style=\"color:blue\">+0.151</span> = <span style=\"color:blue; text-decoration:underline\">+0.034</span></div><div style=\"font-family:monaco; font-size:12px\">dL/dw2 = <span style=\"color:blue\">+0.085</span> + <span style=\"color:red\">-0.000</span> + <span style=\"color:red\">-0.003</span> + <span style=\"color:red\">-0.052</span> + <span style=\"color:red\">-0.007</span> + <span style=\"color:blue\">+0.039</span> + <span style=\"color:blue\">+0.008</span> + <span style=\"color:blue\">+0.141</span> = <span style=\"color:blue; text-decoration:underline\">+0.212</span></div><div style=\"font-family:monaco; font-size:12px\">dL/dw4 = <span style=\"color:blue\">+0.086</span> + <span style=\"color:blue\">+0.000</span> + <span style=\"color:red\">-0.070</span> + <span style=\"color:red\">-0.078</span> + <span style=\"color:red\">-0.070</span> + <span style=\"color:blue\">+0.057</span> + <span style=\"color:blue\">+0.000</span> + <span style=\"color:blue\">+0.113</span> = <span style=\"color:blue; text-decoration:underline\">+0.038</span></div><div style=\"font-family:monaco; font-size:12px\">dL/dw5 = <span style=\"color:blue\">+0.086</span> + <span style=\"color:blue\">+0.000</span> + <span style=\"color:blue\">+0.000</span> + <span style=\"color:red\">-0.051</span> + <span style=\"color:blue\">+0.000</span> + <span style=\"color:red\">-0.000</span> + <span style=\"color:blue\">+0.030</span> + <span style=\"color:blue\">+0.226</span> = <span style=\"color:blue; text-decoration:underline\">+0.291</span></div>"
      ],
      "text/plain": [
       "<IPython.core.display.Markdown object>"
      ]
     },
     "metadata": {},
     "output_type": "display_data"
    },
    {
     "name": "stdout",
     "output_type": "stream",
     "text": [
      "w1=+0.368, w2=+0.320, w3=+1.000, w4=+0.452, w5=+0.204\n",
      "\n"
     ]
    },
    {
     "data": {
      "text/markdown": [
       "**Iteration 6**"
      ],
      "text/plain": [
       "<IPython.core.display.Markdown object>"
      ]
     },
     "metadata": {},
     "output_type": "display_data"
    },
    {
     "name": "stdout",
     "output_type": "stream",
     "text": [
      "Output: [+0.611, +0.500, +0.541, +0.649, +0.541, +0.577, +0.465, +0.356]\n",
      "Target: [+0.500, +0.500, +0.731, +0.731, +0.731, +0.500, +0.500, +0.500]\n",
      "Memory: [+0.451, -0.001, +0.166, +0.616, +0.165, +0.310, -0.141, -0.593]\n",
      "Input : [+0.687, -0.688, +0.368, +0.687, -0.688, +0.320, -0.688, -0.688]\n",
      "Gate  : [+0.656, +0.656, +0.452, +0.656, +0.656, +0.452, +0.656, +0.656]\n"
     ]
    },
    {
     "data": {
      "text/markdown": [
       "<div>Loss: **0.25040** = <span style=\"font-family:monaco\">0.025 + 0.000 + 0.076 + 0.015 + 0.076 + 0.012 + 0.002 + 0.043</span></div><div style=\"font-family:monaco; font-size:12px\">dL/dw1 = <span style=\"color:blue\">+0.071</span> + <span style=\"color:blue\">+0.000</span> + <span style=\"color:red\">-0.083</span> + <span style=\"color:red\">-0.088</span> + <span style=\"color:red\">-0.080</span> + <span style=\"color:blue\">+0.032</span> + <span style=\"color:blue\">+0.008</span> + <span style=\"color:blue\">+0.128</span> = <span style=\"color:red; text-decoration:underline\">-0.011</span></div><div style=\"font-family:monaco; font-size:12px\">dL/dw2 = <span style=\"color:blue\">+0.075</span> + <span style=\"color:red\">-0.000</span> + <span style=\"color:red\">-0.003</span> + <span style=\"color:red\">-0.056</span> + <span style=\"color:red\">-0.006</span> + <span style=\"color:blue\">+0.037</span> + <span style=\"color:blue\">+0.006</span> + <span style=\"color:blue\">+0.120</span> = <span style=\"color:blue; text-decoration:underline\">+0.172</span></div><div style=\"font-family:monaco; font-size:12px\">dL/dw4 = <span style=\"color:blue\">+0.076</span> + <span style=\"color:blue\">+0.000</span> + <span style=\"color:red\">-0.070</span> + <span style=\"color:red\">-0.086</span> + <span style=\"color:red\">-0.070</span> + <span style=\"color:blue\">+0.053</span> + <span style=\"color:blue\">+0.000</span> + <span style=\"color:blue\">+0.099</span> = <span style=\"color:blue; text-decoration:underline\">+0.003</span></div><div style=\"font-family:monaco; font-size:12px\">dL/dw5 = <span style=\"color:blue\">+0.076</span> + <span style=\"color:blue\">+0.000</span> + <span style=\"color:blue\">+0.000</span> + <span style=\"color:red\">-0.056</span> + <span style=\"color:blue\">+0.000</span> + <span style=\"color:red\">-0.000</span> + <span style=\"color:blue\">+0.024</span> + <span style=\"color:blue\">+0.198</span> = <span style=\"color:blue; text-decoration:underline\">+0.243</span></div>"
      ],
      "text/plain": [
       "<IPython.core.display.Markdown object>"
      ]
     },
     "metadata": {},
     "output_type": "display_data"
    },
    {
     "name": "stdout",
     "output_type": "stream",
     "text": [
      "w1=+0.369, w2=+0.303, w3=+1.000, w4=+0.452, w5=+0.179\n",
      "\n"
     ]
    },
    {
     "data": {
      "text/markdown": [
       "**Iteration 7**"
      ],
      "text/plain": [
       "<IPython.core.display.Markdown object>"
      ]
     },
     "metadata": {},
     "output_type": "display_data"
    },
    {
     "name": "stdout",
     "output_type": "stream",
     "text": [
      "Output: [+0.604, +0.500, +0.541, +0.643, +0.541, +0.575, +0.469, +0.367]\n",
      "Target: [+0.500, +0.500, +0.731, +0.731, +0.731, +0.500, +0.500, +0.500]\n",
      "Memory: [+0.423, -0.001, +0.166, +0.589, +0.165, +0.302, -0.122, -0.546]\n",
      "Input : [+0.670, -0.672, +0.369, +0.670, -0.672, +0.303, -0.672, -0.672]\n",
      "Gate  : [+0.631, +0.631, +0.452, +0.631, +0.631, +0.452, +0.631, +0.631]\n"
     ]
    },
    {
     "data": {
      "text/markdown": [
       "<div>Loss: **0.24213** = <span style=\"font-family:monaco\">0.022 + 0.000 + 0.076 + 0.018 + 0.076 + 0.011 + 0.002 + 0.037</span></div><div style=\"font-family:monaco; font-size:12px\">dL/dw1 = <span style=\"color:blue\">+0.064</span> + <span style=\"color:blue\">+0.000</span> + <span style=\"color:red\">-0.083</span> + <span style=\"color:red\">-0.092</span> + <span style=\"color:red\">-0.080</span> + <span style=\"color:blue\">+0.031</span> + <span style=\"color:blue\">+0.006</span> + <span style=\"color:blue\">+0.112</span> = <span style=\"color:red; text-decoration:underline\">-0.041</span></div><div style=\"font-family:monaco; font-size:12px\">dL/dw2 = <span style=\"color:blue\">+0.068</span> + <span style=\"color:red\">-0.000</span> + <span style=\"color:red\">-0.003</span> + <span style=\"color:red\">-0.059</span> + <span style=\"color:red\">-0.006</span> + <span style=\"color:blue\">+0.036</span> + <span style=\"color:blue\">+0.005</span> + <span style=\"color:blue\">+0.104</span> = <span style=\"color:blue; text-decoration:underline\">+0.145</span></div><div style=\"font-family:monaco; font-size:12px\">dL/dw4 = <span style=\"color:blue\">+0.070</span> + <span style=\"color:blue\">+0.000</span> + <span style=\"color:red\">-0.070</span> + <span style=\"color:red\">-0.091</span> + <span style=\"color:red\">-0.070</span> + <span style=\"color:blue\">+0.050</span> + <span style=\"color:blue\">+0.000</span> + <span style=\"color:blue\">+0.090</span> = <span style=\"color:red; text-decoration:underline\">-0.021</span></div><div style=\"font-family:monaco; font-size:12px\">dL/dw5 = <span style=\"color:blue\">+0.070</span> + <span style=\"color:blue\">+0.000</span> + <span style=\"color:blue\">+0.000</span> + <span style=\"color:red\">-0.059</span> + <span style=\"color:blue\">+0.001</span> + <span style=\"color:red\">-0.000</span> + <span style=\"color:blue\">+0.021</span> + <span style=\"color:blue\">+0.179</span> = <span style=\"color:blue; text-decoration:underline\">+0.212</span></div>"
      ],
      "text/plain": [
       "<IPython.core.display.Markdown object>"
      ]
     },
     "metadata": {},
     "output_type": "display_data"
    },
    {
     "name": "stdout",
     "output_type": "stream",
     "text": [
      "w1=+0.373, w2=+0.288, w3=+1.000, w4=+0.454, w5=+0.158\n",
      "\n"
     ]
    },
    {
     "data": {
      "text/markdown": [
       "**Iteration 8**"
      ],
      "text/plain": [
       "<IPython.core.display.Markdown object>"
      ]
     },
     "metadata": {},
     "output_type": "display_data"
    },
    {
     "name": "stdout",
     "output_type": "stream",
     "text": [
      "Output: [+0.600, +0.500, +0.542, +0.639, +0.542, +0.574, +0.473, +0.375]\n",
      "Target: [+0.500, +0.500, +0.731, +0.731, +0.731, +0.500, +0.500, +0.500]\n",
      "Memory: [+0.404, -0.001, +0.168, +0.572, +0.167, +0.298, -0.107, -0.512]\n",
      "Input : [+0.660, -0.661, +0.373, +0.660, -0.661, +0.288, -0.661, -0.661]\n",
      "Gate  : [+0.612, +0.612, +0.454, +0.612, +0.612, +0.454, +0.612, +0.612]\n"
     ]
    },
    {
     "data": {
      "text/markdown": [
       "<div>Loss: **0.23563** = <span style=\"font-family:monaco\">0.020 + 0.000 + 0.076 + 0.019 + 0.076 + 0.011 + 0.001 + 0.032</span></div><div style=\"font-family:monaco; font-size:12px\">dL/dw1 = <span style=\"color:blue\">+0.059</span> + <span style=\"color:blue\">+0.000</span> + <span style=\"color:red\">-0.083</span> + <span style=\"color:red\">-0.095</span> + <span style=\"color:red\">-0.080</span> + <span style=\"color:blue\">+0.031</span> + <span style=\"color:blue\">+0.005</span> + <span style=\"color:blue\">+0.100</span> = <span style=\"color:red; text-decoration:underline\">-0.063</span></div><div style=\"font-family:monaco; font-size:12px\">dL/dw2 = <span style=\"color:blue\">+0.063</span> + <span style=\"color:red\">-0.000</span> + <span style=\"color:red\">-0.003</span> + <span style=\"color:red\">-0.059</span> + <span style=\"color:red\">-0.006</span> + <span style=\"color:blue\">+0.036</span> + <span style=\"color:blue\">+0.003</span> + <span style=\"color:blue\">+0.093</span> = <span style=\"color:blue; text-decoration:underline\">+0.127</span></div><div style=\"font-family:monaco; font-size:12px\">dL/dw4 = <span style=\"color:blue\">+0.066</span> + <span style=\"color:blue\">+0.000</span> + <span style=\"color:red\">-0.070</span> + <span style=\"color:red\">-0.095</span> + <span style=\"color:red\">-0.070</span> + <span style=\"color:blue\">+0.049</span> + <span style=\"color:blue\">+0.000</span> + <span style=\"color:blue\">+0.083</span> = <span style=\"color:red; text-decoration:underline\">-0.037</span></div><div style=\"font-family:monaco; font-size:12px\">dL/dw5 = <span style=\"color:blue\">+0.066</span> + <span style=\"color:blue\">+0.000</span> + <span style=\"color:blue\">+0.000</span> + <span style=\"color:red\">-0.060</span> + <span style=\"color:blue\">+0.001</span> + <span style=\"color:red\">-0.000</span> + <span style=\"color:blue\">+0.018</span> + <span style=\"color:blue\">+0.166</span> = <span style=\"color:blue; text-decoration:underline\">+0.190</span></div>"
      ],
      "text/plain": [
       "<IPython.core.display.Markdown object>"
      ]
     },
     "metadata": {},
     "output_type": "display_data"
    },
    {
     "name": "stdout",
     "output_type": "stream",
     "text": [
      "w1=+0.380, w2=+0.276, w3=+1.000, w4=+0.458, w5=+0.139\n",
      "\n"
     ]
    },
    {
     "data": {
      "text/markdown": [
       "**Iteration 9**"
      ],
      "text/plain": [
       "<IPython.core.display.Markdown object>"
      ]
     },
     "metadata": {},
     "output_type": "display_data"
    },
    {
     "name": "stdout",
     "output_type": "stream",
     "text": [
      "Output: [+0.596, +0.500, +0.543, +0.637, +0.543, +0.574, +0.477, +0.381]\n",
      "Target: [+0.500, +0.500, +0.731, +0.731, +0.731, +0.500, +0.500, +0.500]\n",
      "Memory: [+0.389, -0.001, +0.172, +0.562, +0.171, +0.297, -0.094, -0.485]\n",
      "Input : [+0.653, -0.655, +0.380, +0.653, -0.655, +0.276, -0.655, -0.655]\n",
      "Gate  : [+0.597, +0.597, +0.458, +0.597, +0.597, +0.458, +0.597, +0.597]\n"
     ]
    },
    {
     "data": {
      "text/markdown": [
       "<div>Loss: **0.23004** = <span style=\"font-family:monaco\">0.019 + 0.000 + 0.075 + 0.020 + 0.075 + 0.011 + 0.001 + 0.029</span></div><div style=\"font-family:monaco; font-size:12px\">dL/dw1 = <span style=\"color:blue\">+0.056</span> + <span style=\"color:blue\">+0.000</span> + <span style=\"color:red\">-0.083</span> + <span style=\"color:red\">-0.096</span> + <span style=\"color:red\">-0.081</span> + <span style=\"color:blue\">+0.032</span> + <span style=\"color:blue\">+0.004</span> + <span style=\"color:blue\">+0.091</span> = <span style=\"color:red; text-decoration:underline\">-0.078</span></div><div style=\"font-family:monaco; font-size:12px\">dL/dw2 = <span style=\"color:blue\">+0.059</span> + <span style=\"color:red\">-0.000</span> + <span style=\"color:red\">-0.003</span> + <span style=\"color:red\">-0.059</span> + <span style=\"color:red\">-0.006</span> + <span style=\"color:blue\">+0.036</span> + <span style=\"color:blue\">+0.003</span> + <span style=\"color:blue\">+0.084</span> = <span style=\"color:blue; text-decoration:underline\">+0.114</span></div><div style=\"font-family:monaco; font-size:12px\">dL/dw4 = <span style=\"color:blue\">+0.063</span> + <span style=\"color:blue\">+0.000</span> + <span style=\"color:red\">-0.071</span> + <span style=\"color:red\">-0.097</span> + <span style=\"color:red\">-0.071</span> + <span style=\"color:blue\">+0.048</span> + <span style=\"color:blue\">+0.000</span> + <span style=\"color:blue\">+0.078</span> = <span style=\"color:red; text-decoration:underline\">-0.049</span></div><div style=\"font-family:monaco; font-size:12px\">dL/dw5 = <span style=\"color:blue\">+0.063</span> + <span style=\"color:blue\">+0.000</span> + <span style=\"color:blue\">+0.000</span> + <span style=\"color:red\">-0.061</span> + <span style=\"color:blue\">+0.001</span> + <span style=\"color:red\">-0.000</span> + <span style=\"color:blue\">+0.015</span> + <span style=\"color:blue\">+0.156</span> = <span style=\"color:blue; text-decoration:underline\">+0.174</span></div>"
      ],
      "text/plain": [
       "<IPython.core.display.Markdown object>"
      ]
     },
     "metadata": {},
     "output_type": "display_data"
    },
    {
     "name": "stdout",
     "output_type": "stream",
     "text": [
      "w1=+0.388, w2=+0.264, w3=+1.000, w4=+0.463, w5=+0.122\n",
      "\n"
     ]
    },
    {
     "data": {
      "text/markdown": [
       "**Iteration 10**"
      ],
      "text/plain": [
       "<IPython.core.display.Markdown object>"
      ]
     },
     "metadata": {},
     "output_type": "display_data"
    },
    {
     "name": "stdout",
     "output_type": "stream",
     "text": [
      "Output: [+0.594, +0.500, +0.544, +0.636, +0.544, +0.574, +0.479, +0.386]\n",
      "Target: [+0.500, +0.500, +0.731, +0.731, +0.731, +0.500, +0.500, +0.500]\n",
      "Memory: [+0.379, -0.002, +0.178, +0.557, +0.176, +0.298, -0.082, -0.463]\n",
      "Input : [+0.648, -0.651, +0.388, +0.648, -0.651, +0.264, -0.651, -0.651]\n",
      "Gate  : [+0.584, +0.584, +0.463, +0.584, +0.584, +0.463, +0.584, +0.584]\n"
     ]
    },
    {
     "data": {
      "text/markdown": [
       "<div>Loss: **0.22493** = <span style=\"font-family:monaco\">0.018 + 0.000 + 0.074 + 0.021 + 0.074 + 0.011 + 0.001 + 0.027</span></div><div style=\"font-family:monaco; font-size:12px\">dL/dw1 = <span style=\"color:blue\">+0.053</span> + <span style=\"color:blue\">+0.000</span> + <span style=\"color:red\">-0.084</span> + <span style=\"color:red\">-0.097</span> + <span style=\"color:red\">-0.081</span> + <span style=\"color:blue\">+0.032</span> + <span style=\"color:blue\">+0.003</span> + <span style=\"color:blue\">+0.083</span> = <span style=\"color:red; text-decoration:underline\">-0.090</span></div><div style=\"font-family:monaco; font-size:12px\">dL/dw2 = <span style=\"color:blue\">+0.056</span> + <span style=\"color:red\">-0.000</span> + <span style=\"color:red\">-0.003</span> + <span style=\"color:red\">-0.059</span> + <span style=\"color:red\">-0.006</span> + <span style=\"color:blue\">+0.036</span> + <span style=\"color:blue\">+0.002</span> + <span style=\"color:blue\">+0.077</span> = <span style=\"color:blue; text-decoration:underline\">+0.105</span></div><div style=\"font-family:monaco; font-size:12px\">dL/dw4 = <span style=\"color:blue\">+0.061</span> + <span style=\"color:blue\">+0.000</span> + <span style=\"color:red\">-0.072</span> + <span style=\"color:red\">-0.099</span> + <span style=\"color:red\">-0.071</span> + <span style=\"color:blue\">+0.048</span> + <span style=\"color:blue\">+0.000</span> + <span style=\"color:blue\">+0.075</span> = <span style=\"color:red; text-decoration:underline\">-0.059</span></div><div style=\"font-family:monaco; font-size:12px\">dL/dw5 = <span style=\"color:blue\">+0.061</span> + <span style=\"color:blue\">+0.000</span> + <span style=\"color:blue\">+0.001</span> + <span style=\"color:red\">-0.062</span> + <span style=\"color:blue\">+0.001</span> + <span style=\"color:red\">-0.000</span> + <span style=\"color:blue\">+0.014</span> + <span style=\"color:blue\">+0.149</span> = <span style=\"color:blue; text-decoration:underline\">+0.163</span></div>"
      ],
      "text/plain": [
       "<IPython.core.display.Markdown object>"
      ]
     },
     "metadata": {},
     "output_type": "display_data"
    },
    {
     "name": "stdout",
     "output_type": "stream",
     "text": [
      "w1=+0.397, w2=+0.254, w3=+1.000, w4=+0.468, w5=+0.106\n",
      "\n"
     ]
    },
    {
     "data": {
      "text/markdown": [
       "**Iteration 11**"
      ],
      "text/plain": [
       "<IPython.core.display.Markdown object>"
      ]
     },
     "metadata": {},
     "output_type": "display_data"
    },
    {
     "name": "stdout",
     "output_type": "stream",
     "text": [
      "Output: [+0.592, +0.500, +0.546, +0.635, +0.545, +0.575, +0.482, +0.391]\n",
      "Target: [+0.500, +0.500, +0.731, +0.731, +0.731, +0.500, +0.500, +0.500]\n",
      "Memory: [+0.371, -0.002, +0.184, +0.555, +0.182, +0.301, -0.072, -0.445]\n",
      "Input : [+0.646, -0.650, +0.397, +0.646, -0.650, +0.254, -0.650, -0.650]\n",
      "Gate  : [+0.574, +0.574, +0.468, +0.574, +0.574, +0.468, +0.574, +0.574]\n"
     ]
    },
    {
     "data": {
      "text/markdown": [
       "<div>Loss: **0.22007** = <span style=\"font-family:monaco\">0.017 + 0.000 + 0.073 + 0.021 + 0.073 + 0.011 + 0.001 + 0.025</span></div><div style=\"font-family:monaco; font-size:12px\">dL/dw1 = <span style=\"color:blue\">+0.051</span> + <span style=\"color:blue\">+0.000</span> + <span style=\"color:red\">-0.084</span> + <span style=\"color:red\">-0.097</span> + <span style=\"color:red\">-0.082</span> + <span style=\"color:blue\">+0.033</span> + <span style=\"color:blue\">+0.002</span> + <span style=\"color:blue\">+0.077</span> = <span style=\"color:red; text-decoration:underline\">-0.099</span></div><div style=\"font-family:monaco; font-size:12px\">dL/dw2 = <span style=\"color:blue\">+0.054</span> + <span style=\"color:red\">-0.000</span> + <span style=\"color:red\">-0.003</span> + <span style=\"color:red\">-0.058</span> + <span style=\"color:red\">-0.005</span> + <span style=\"color:blue\">+0.037</span> + <span style=\"color:blue\">+0.001</span> + <span style=\"color:blue\">+0.072</span> = <span style=\"color:blue; text-decoration:underline\">+0.098</span></div><div style=\"font-family:monaco; font-size:12px\">dL/dw4 = <span style=\"color:blue\">+0.059</span> + <span style=\"color:blue\">+0.000</span> + <span style=\"color:red\">-0.073</span> + <span style=\"color:red\">-0.100</span> + <span style=\"color:red\">-0.072</span> + <span style=\"color:blue\">+0.048</span> + <span style=\"color:blue\">+0.000</span> + <span style=\"color:blue\">+0.072</span> = <span style=\"color:red; text-decoration:underline\">-0.066</span></div><div style=\"font-family:monaco; font-size:12px\">dL/dw5 = <span style=\"color:blue\">+0.059</span> + <span style=\"color:blue\">+0.000</span> + <span style=\"color:blue\">+0.001</span> + <span style=\"color:red\">-0.062</span> + <span style=\"color:blue\">+0.001</span> + <span style=\"color:red\">-0.000</span> + <span style=\"color:blue\">+0.012</span> + <span style=\"color:blue\">+0.143</span> = <span style=\"color:blue; text-decoration:underline\">+0.154</span></div>"
      ],
      "text/plain": [
       "<IPython.core.display.Markdown object>"
      ]
     },
     "metadata": {},
     "output_type": "display_data"
    },
    {
     "name": "stdout",
     "output_type": "stream",
     "text": [
      "w1=+0.406, w2=+0.244, w3=+1.000, w4=+0.475, w5=+0.090\n",
      "\n"
     ]
    },
    {
     "data": {
      "text/markdown": [
       "**Iteration 12**"
      ],
      "text/plain": [
       "<IPython.core.display.Markdown object>"
      ]
     },
     "metadata": {},
     "output_type": "display_data"
    },
    {
     "name": "stdout",
     "output_type": "stream",
     "text": [
      "Output: [+0.590, +0.499, +0.548, +0.636, +0.547, +0.576, +0.484, +0.394]\n",
      "Target: [+0.500, +0.500, +0.731, +0.731, +0.731, +0.500, +0.500, +0.500]\n",
      "Memory: [+0.365, -0.002, +0.191, +0.556, +0.189, +0.305, -0.063, -0.430]\n",
      "Input : [+0.646, -0.650, +0.406, +0.646, -0.650, +0.244, -0.650, -0.650]\n",
      "Gate  : [+0.565, +0.565, +0.475, +0.565, +0.565, +0.475, +0.565, +0.565]\n"
     ]
    },
    {
     "data": {
      "text/markdown": [
       "<div>Loss: **0.21535** = <span style=\"font-family:monaco\">0.017 + 0.000 + 0.071 + 0.021 + 0.072 + 0.012 + 0.000 + 0.023</span></div><div style=\"font-family:monaco; font-size:12px\">dL/dw1 = <span style=\"color:blue\">+0.050</span> + <span style=\"color:blue\">+0.000</span> + <span style=\"color:red\">-0.085</span> + <span style=\"color:red\">-0.096</span> + <span style=\"color:red\">-0.082</span> + <span style=\"color:blue\">+0.034</span> + <span style=\"color:blue\">+0.002</span> + <span style=\"color:blue\">+0.072</span> = <span style=\"color:red; text-decoration:underline\">-0.106</span></div><div style=\"font-family:monaco; font-size:12px\">dL/dw2 = <span style=\"color:blue\">+0.053</span> + <span style=\"color:red\">-0.000</span> + <span style=\"color:red\">-0.003</span> + <span style=\"color:red\">-0.057</span> + <span style=\"color:red\">-0.005</span> + <span style=\"color:blue\">+0.038</span> + <span style=\"color:blue\">+0.001</span> + <span style=\"color:blue\">+0.067</span> = <span style=\"color:blue; text-decoration:underline\">+0.093</span></div><div style=\"font-family:monaco; font-size:12px\">dL/dw4 = <span style=\"color:blue\">+0.058</span> + <span style=\"color:blue\">+0.000</span> + <span style=\"color:red\">-0.074</span> + <span style=\"color:red\">-0.100</span> + <span style=\"color:red\">-0.073</span> + <span style=\"color:blue\">+0.049</span> + <span style=\"color:blue\">+0.000</span> + <span style=\"color:blue\">+0.070</span> = <span style=\"color:red; text-decoration:underline\">-0.071</span></div><div style=\"font-family:monaco; font-size:12px\">dL/dw5 = <span style=\"color:blue\">+0.058</span> + <span style=\"color:blue\">+0.000</span> + <span style=\"color:blue\">+0.001</span> + <span style=\"color:red\">-0.061</span> + <span style=\"color:blue\">+0.001</span> + <span style=\"color:red\">-0.001</span> + <span style=\"color:blue\">+0.010</span> + <span style=\"color:blue\">+0.138</span> = <span style=\"color:blue; text-decoration:underline\">+0.147</span></div>"
      ],
      "text/plain": [
       "<IPython.core.display.Markdown object>"
      ]
     },
     "metadata": {},
     "output_type": "display_data"
    },
    {
     "name": "stdout",
     "output_type": "stream",
     "text": [
      "w1=+0.417, w2=+0.235, w3=+1.000, w4=+0.482, w5=+0.075\n",
      "\n"
     ]
    },
    {
     "data": {
      "text/markdown": [
       "**Iteration 13**"
      ],
      "text/plain": [
       "<IPython.core.display.Markdown object>"
      ]
     },
     "metadata": {},
     "output_type": "display_data"
    },
    {
     "name": "stdout",
     "output_type": "stream",
     "text": [
      "Output: [+0.589, +0.499, +0.549, +0.636, +0.549, +0.577, +0.487, +0.397]\n",
      "Target: [+0.500, +0.500, +0.731, +0.731, +0.731, +0.500, +0.500, +0.500]\n",
      "Memory: [+0.361, -0.002, +0.199, +0.559, +0.196, +0.309, -0.054, -0.417]\n",
      "Input : [+0.647, -0.651, +0.417, +0.647, -0.651, +0.235, -0.651, -0.651]\n",
      "Gate  : [+0.557, +0.557, +0.482, +0.557, +0.557, +0.482, +0.557, +0.557]\n"
     ]
    },
    {
     "data": {
      "text/markdown": [
       "<div>Loss: **0.21069** = <span style=\"font-family:monaco\">0.016 + 0.000 + 0.070 + 0.020 + 0.070 + 0.012 + 0.000 + 0.022</span></div><div style=\"font-family:monaco; font-size:12px\">dL/dw1 = <span style=\"color:blue\">+0.048</span> + <span style=\"color:blue\">+0.000</span> + <span style=\"color:red\">-0.085</span> + <span style=\"color:red\">-0.096</span> + <span style=\"color:red\">-0.083</span> + <span style=\"color:blue\">+0.035</span> + <span style=\"color:blue\">+0.001</span> + <span style=\"color:blue\">+0.067</span> = <span style=\"color:red; text-decoration:underline\">-0.112</span></div><div style=\"font-family:monaco; font-size:12px\">dL/dw2 = <span style=\"color:blue\">+0.051</span> + <span style=\"color:red\">-0.000</span> + <span style=\"color:red\">-0.003</span> + <span style=\"color:red\">-0.056</span> + <span style=\"color:red\">-0.005</span> + <span style=\"color:blue\">+0.039</span> + <span style=\"color:blue\">+0.001</span> + <span style=\"color:blue\">+0.062</span> = <span style=\"color:blue; text-decoration:underline\">+0.090</span></div><div style=\"font-family:monaco; font-size:12px\">dL/dw4 = <span style=\"color:blue\">+0.058</span> + <span style=\"color:blue\">+0.000</span> + <span style=\"color:red\">-0.075</span> + <span style=\"color:red\">-0.100</span> + <span style=\"color:red\">-0.074</span> + <span style=\"color:blue\">+0.049</span> + <span style=\"color:blue\">+0.000</span> + <span style=\"color:blue\">+0.068</span> = <span style=\"color:red; text-decoration:underline\">-0.075</span></div><div style=\"font-family:monaco; font-size:12px\">dL/dw5 = <span style=\"color:blue\">+0.058</span> + <span style=\"color:blue\">+0.000</span> + <span style=\"color:blue\">+0.001</span> + <span style=\"color:red\">-0.061</span> + <span style=\"color:blue\">+0.002</span> + <span style=\"color:red\">-0.001</span> + <span style=\"color:blue\">+0.009</span> + <span style=\"color:blue\">+0.135</span> = <span style=\"color:blue; text-decoration:underline\">+0.142</span></div>"
      ],
      "text/plain": [
       "<IPython.core.display.Markdown object>"
      ]
     },
     "metadata": {},
     "output_type": "display_data"
    },
    {
     "name": "stdout",
     "output_type": "stream",
     "text": [
      "w1=+0.428, w2=+0.226, w3=+1.000, w4=+0.490, w5=+0.061\n",
      "\n"
     ]
    },
    {
     "data": {
      "text/markdown": [
       "**Iteration 14**"
      ],
      "text/plain": [
       "<IPython.core.display.Markdown object>"
      ]
     },
     "metadata": {},
     "output_type": "display_data"
    },
    {
     "name": "stdout",
     "output_type": "stream",
     "text": [
      "Output: [+0.588, +0.499, +0.552, +0.637, +0.551, +0.578, +0.489, +0.400]\n",
      "Target: [+0.500, +0.500, +0.731, +0.731, +0.731, +0.500, +0.500, +0.500]\n",
      "Memory: [+0.357, -0.003, +0.207, +0.564, +0.204, +0.315, -0.045, -0.405]\n",
      "Input : [+0.648, -0.653, +0.428, +0.648, -0.653, +0.226, -0.653, -0.653]\n",
      "Gate  : [+0.551, +0.551, +0.490, +0.551, +0.551, +0.490, +0.551, +0.551]\n"
     ]
    },
    {
     "data": {
      "text/markdown": [
       "<div>Loss: **0.20607** = <span style=\"font-family:monaco\">0.016 + 0.000 + 0.068 + 0.020 + 0.069 + 0.012 + 0.000 + 0.020</span></div><div style=\"font-family:monaco; font-size:12px\">dL/dw1 = <span style=\"color:blue\">+0.047</span> + <span style=\"color:blue\">+0.000</span> + <span style=\"color:red\">-0.085</span> + <span style=\"color:red\">-0.095</span> + <span style=\"color:red\">-0.083</span> + <span style=\"color:blue\">+0.036</span> + <span style=\"color:blue\">+0.001</span> + <span style=\"color:blue\">+0.063</span> = <span style=\"color:red; text-decoration:underline\">-0.116</span></div><div style=\"font-family:monaco; font-size:12px\">dL/dw2 = <span style=\"color:blue\">+0.050</span> + <span style=\"color:red\">-0.000</span> + <span style=\"color:red\">-0.003</span> + <span style=\"color:red\">-0.054</span> + <span style=\"color:red\">-0.005</span> + <span style=\"color:blue\">+0.040</span> + <span style=\"color:blue\">+0.000</span> + <span style=\"color:blue\">+0.059</span> = <span style=\"color:blue; text-decoration:underline\">+0.087</span></div><div style=\"font-family:monaco; font-size:12px\">dL/dw4 = <span style=\"color:blue\">+0.057</span> + <span style=\"color:blue\">+0.000</span> + <span style=\"color:red\">-0.076</span> + <span style=\"color:red\">-0.100</span> + <span style=\"color:red\">-0.075</span> + <span style=\"color:blue\">+0.050</span> + <span style=\"color:blue\">+0.000</span> + <span style=\"color:blue\">+0.066</span> = <span style=\"color:red; text-decoration:underline\">-0.078</span></div><div style=\"font-family:monaco; font-size:12px\">dL/dw5 = <span style=\"color:blue\">+0.057</span> + <span style=\"color:blue\">+0.000</span> + <span style=\"color:blue\">+0.001</span> + <span style=\"color:red\">-0.060</span> + <span style=\"color:blue\">+0.002</span> + <span style=\"color:red\">-0.001</span> + <span style=\"color:blue\">+0.007</span> + <span style=\"color:blue\">+0.131</span> = <span style=\"color:blue; text-decoration:underline\">+0.138</span></div>"
      ],
      "text/plain": [
       "<IPython.core.display.Markdown object>"
      ]
     },
     "metadata": {},
     "output_type": "display_data"
    },
    {
     "name": "stdout",
     "output_type": "stream",
     "text": [
      "w1=+0.440, w2=+0.217, w3=+1.000, w4=+0.497, w5=+0.047\n",
      "\n"
     ]
    },
    {
     "data": {
      "text/markdown": [
       "**Iteration 15**"
      ],
      "text/plain": [
       "<IPython.core.display.Markdown object>"
      ]
     },
     "metadata": {},
     "output_type": "display_data"
    },
    {
     "name": "stdout",
     "output_type": "stream",
     "text": [
      "Output: [+0.588, +0.499, +0.554, +0.639, +0.553, +0.580, +0.491, +0.403]\n",
      "Target: [+0.500, +0.500, +0.731, +0.731, +0.731, +0.500, +0.500, +0.500]\n",
      "Memory: [+0.354, -0.003, +0.216, +0.570, +0.213, +0.321, -0.037, -0.394]\n",
      "Input : [+0.651, -0.656, +0.440, +0.651, -0.656, +0.217, -0.656, -0.656]\n",
      "Gate  : [+0.545, +0.545, +0.497, +0.545, +0.545, +0.497, +0.545, +0.545]\n"
     ]
    },
    {
     "data": {
      "text/markdown": [
       "<div>Loss: **0.20147** = <span style=\"font-family:monaco\">0.016 + 0.000 + 0.067 + 0.019 + 0.067 + 0.013 + 0.000 + 0.019</span></div><div style=\"font-family:monaco; font-size:12px\">dL/dw1 = <span style=\"color:blue\">+0.046</span> + <span style=\"color:blue\">+0.000</span> + <span style=\"color:red\">-0.086</span> + <span style=\"color:red\">-0.093</span> + <span style=\"color:red\">-0.084</span> + <span style=\"color:blue\">+0.037</span> + <span style=\"color:blue\">+0.001</span> + <span style=\"color:blue\">+0.060</span> = <span style=\"color:red; text-decoration:underline\">-0.119</span></div><div style=\"font-family:monaco; font-size:12px\">dL/dw2 = <span style=\"color:blue\">+0.049</span> + <span style=\"color:red\">-0.000</span> + <span style=\"color:red\">-0.002</span> + <span style=\"color:red\">-0.053</span> + <span style=\"color:red\">-0.005</span> + <span style=\"color:blue\">+0.042</span> + <span style=\"color:blue\">+0.000</span> + <span style=\"color:blue\">+0.055</span> = <span style=\"color:blue; text-decoration:underline\">+0.086</span></div><div style=\"font-family:monaco; font-size:12px\">dL/dw4 = <span style=\"color:blue\">+0.057</span> + <span style=\"color:blue\">+0.000</span> + <span style=\"color:red\">-0.077</span> + <span style=\"color:red\">-0.100</span> + <span style=\"color:red\">-0.076</span> + <span style=\"color:blue\">+0.051</span> + <span style=\"color:blue\">+0.000</span> + <span style=\"color:blue\">+0.065</span> = <span style=\"color:red; text-decoration:underline\">-0.080</span></div><div style=\"font-family:monaco; font-size:12px\">dL/dw5 = <span style=\"color:blue\">+0.057</span> + <span style=\"color:blue\">+0.000</span> + <span style=\"color:blue\">+0.001</span> + <span style=\"color:red\">-0.060</span> + <span style=\"color:blue\">+0.002</span> + <span style=\"color:red\">-0.001</span> + <span style=\"color:blue\">+0.006</span> + <span style=\"color:blue\">+0.129</span> = <span style=\"color:blue; text-decoration:underline\">+0.134</span></div>"
      ],
      "text/plain": [
       "<IPython.core.display.Markdown object>"
      ]
     },
     "metadata": {},
     "output_type": "display_data"
    },
    {
     "name": "stdout",
     "output_type": "stream",
     "text": [
      "w1=+0.452, w2=+0.208, w3=+1.000, w4=+0.505, w5=+0.034\n",
      "\n"
     ]
    },
    {
     "data": {
      "text/markdown": [
       "**Iteration 16**"
      ],
      "text/plain": [
       "<IPython.core.display.Markdown object>"
      ]
     },
     "metadata": {},
     "output_type": "display_data"
    },
    {
     "name": "stdout",
     "output_type": "stream",
     "text": [
      "Output: [+0.587, +0.499, +0.556, +0.640, +0.555, +0.581, +0.493, +0.405]\n",
      "Target: [+0.500, +0.500, +0.731, +0.731, +0.731, +0.500, +0.500, +0.500]\n",
      "Memory: [+0.352, -0.003, +0.225, +0.577, +0.222, +0.327, -0.028, -0.384]\n",
      "Input : [+0.653, -0.659, +0.452, +0.653, -0.659, +0.208, -0.659, -0.659]\n",
      "Gate  : [+0.539, +0.539, +0.505, +0.539, +0.539, +0.505, +0.539, +0.539]\n"
     ]
    },
    {
     "data": {
      "text/markdown": [
       "<div>Loss: **0.19688** = <span style=\"font-family:monaco\">0.015 + 0.000 + 0.065 + 0.019 + 0.066 + 0.013 + 0.000 + 0.018</span></div><div style=\"font-family:monaco; font-size:12px\">dL/dw1 = <span style=\"color:blue\">+0.046</span> + <span style=\"color:blue\">+0.000</span> + <span style=\"color:red\">-0.086</span> + <span style=\"color:red\">-0.092</span> + <span style=\"color:red\">-0.084</span> + <span style=\"color:blue\">+0.039</span> + <span style=\"color:blue\">+0.000</span> + <span style=\"color:blue\">+0.057</span> = <span style=\"color:red; text-decoration:underline\">-0.121</span></div><div style=\"font-family:monaco; font-size:12px\">dL/dw2 = <span style=\"color:blue\">+0.048</span> + <span style=\"color:red\">-0.000</span> + <span style=\"color:red\">-0.002</span> + <span style=\"color:red\">-0.052</span> + <span style=\"color:red\">-0.005</span> + <span style=\"color:blue\">+0.043</span> + <span style=\"color:blue\">+0.000</span> + <span style=\"color:blue\">+0.052</span> = <span style=\"color:blue; text-decoration:underline\">+0.085</span></div><div style=\"font-family:monaco; font-size:12px\">dL/dw4 = <span style=\"color:blue\">+0.057</span> + <span style=\"color:blue\">+0.000</span> + <span style=\"color:red\">-0.078</span> + <span style=\"color:red\">-0.100</span> + <span style=\"color:red\">-0.077</span> + <span style=\"color:blue\">+0.053</span> + <span style=\"color:blue\">+0.000</span> + <span style=\"color:blue\">+0.064</span> = <span style=\"color:red; text-decoration:underline\">-0.082</span></div><div style=\"font-family:monaco; font-size:12px\">dL/dw5 = <span style=\"color:blue\">+0.057</span> + <span style=\"color:blue\">+0.000</span> + <span style=\"color:blue\">+0.001</span> + <span style=\"color:red\">-0.059</span> + <span style=\"color:blue\">+0.002</span> + <span style=\"color:red\">-0.001</span> + <span style=\"color:blue\">+0.005</span> + <span style=\"color:blue\">+0.126</span> = <span style=\"color:blue; text-decoration:underline\">+0.131</span></div>"
      ],
      "text/plain": [
       "<IPython.core.display.Markdown object>"
      ]
     },
     "metadata": {},
     "output_type": "display_data"
    },
    {
     "name": "stdout",
     "output_type": "stream",
     "text": [
      "w1=+0.464, w2=+0.200, w3=+1.000, w4=+0.514, w5=+0.021\n",
      "\n"
     ]
    },
    {
     "data": {
      "text/markdown": [
       "**Iteration 17**"
      ],
      "text/plain": [
       "<IPython.core.display.Markdown object>"
      ]
     },
     "metadata": {},
     "output_type": "display_data"
    },
    {
     "name": "stdout",
     "output_type": "stream",
     "text": [
      "Output: [+0.587, +0.499, +0.558, +0.642, +0.558, +0.583, +0.495, +0.407]\n",
      "Target: [+0.500, +0.500, +0.731, +0.731, +0.731, +0.500, +0.500, +0.500]\n",
      "Memory: [+0.351, -0.003, +0.235, +0.585, +0.231, +0.334, -0.020, -0.374]\n",
      "Input : [+0.656, -0.663, +0.464, +0.656, -0.663, +0.200, -0.663, -0.663]\n",
      "Gate  : [+0.534, +0.534, +0.514, +0.534, +0.534, +0.514, +0.534, +0.534]\n"
     ]
    },
    {
     "data": {
      "text/markdown": [
       "<div>Loss: **0.19231** = <span style=\"font-family:monaco\">0.015 + 0.000 + 0.064 + 0.018 + 0.064 + 0.014 + 0.000 + 0.017</span></div><div style=\"font-family:monaco; font-size:12px\">dL/dw1 = <span style=\"color:blue\">+0.045</span> + <span style=\"color:blue\">+0.000</span> + <span style=\"color:red\">-0.086</span> + <span style=\"color:red\">-0.090</span> + <span style=\"color:red\">-0.084</span> + <span style=\"color:blue\">+0.040</span> + <span style=\"color:blue\">+0.000</span> + <span style=\"color:blue\">+0.053</span> = <span style=\"color:red; text-decoration:underline\">-0.122</span></div><div style=\"font-family:monaco; font-size:12px\">dL/dw2 = <span style=\"color:blue\">+0.048</span> + <span style=\"color:red\">-0.000</span> + <span style=\"color:red\">-0.002</span> + <span style=\"color:red\">-0.050</span> + <span style=\"color:red\">-0.005</span> + <span style=\"color:blue\">+0.045</span> + <span style=\"color:red\">-0.000</span> + <span style=\"color:blue\">+0.049</span> = <span style=\"color:blue; text-decoration:underline\">+0.084</span></div><div style=\"font-family:monaco; font-size:12px\">dL/dw4 = <span style=\"color:blue\">+0.057</span> + <span style=\"color:blue\">+0.000</span> + <span style=\"color:red\">-0.079</span> + <span style=\"color:red\">-0.099</span> + <span style=\"color:red\">-0.078</span> + <span style=\"color:blue\">+0.054</span> + <span style=\"color:blue\">+0.000</span> + <span style=\"color:blue\">+0.062</span> = <span style=\"color:red; text-decoration:underline\">-0.083</span></div><div style=\"font-family:monaco; font-size:12px\">dL/dw5 = <span style=\"color:blue\">+0.057</span> + <span style=\"color:blue\">+0.000</span> + <span style=\"color:blue\">+0.001</span> + <span style=\"color:red\">-0.058</span> + <span style=\"color:blue\">+0.002</span> + <span style=\"color:red\">-0.001</span> + <span style=\"color:blue\">+0.003</span> + <span style=\"color:blue\">+0.124</span> = <span style=\"color:blue; text-decoration:underline\">+0.129</span></div>"
      ],
      "text/plain": [
       "<IPython.core.display.Markdown object>"
      ]
     },
     "metadata": {},
     "output_type": "display_data"
    },
    {
     "name": "stdout",
     "output_type": "stream",
     "text": [
      "w1=+0.476, w2=+0.191, w3=+1.000, w4=+0.522, w5=+0.008\n",
      "\n"
     ]
    },
    {
     "data": {
      "text/markdown": [
       "**Iteration 18**"
      ],
      "text/plain": [
       "<IPython.core.display.Markdown object>"
      ]
     },
     "metadata": {},
     "output_type": "display_data"
    },
    {
     "name": "stdout",
     "output_type": "stream",
     "text": [
      "Output: [+0.586, +0.499, +0.561, +0.644, +0.560, +0.584, +0.497, +0.410]\n",
      "Target: [+0.500, +0.500, +0.731, +0.731, +0.731, +0.500, +0.500, +0.500]\n",
      "Memory: [+0.349, -0.004, +0.245, +0.594, +0.241, +0.341, -0.012, -0.365]\n",
      "Input : [+0.659, -0.666, +0.476, +0.659, -0.666, +0.191, -0.666, -0.666]\n",
      "Gate  : [+0.530, +0.530, +0.522, +0.530, +0.530, +0.522, +0.530, +0.530]\n"
     ]
    },
    {
     "data": {
      "text/markdown": [
       "<div>Loss: **0.18777** = <span style=\"font-family:monaco\">0.015 + 0.000 + 0.062 + 0.017 + 0.062 + 0.014 + 0.000 + 0.017</span></div><div style=\"font-family:monaco; font-size:12px\">dL/dw1 = <span style=\"color:blue\">+0.045</span> + <span style=\"color:blue\">+0.000</span> + <span style=\"color:red\">-0.087</span> + <span style=\"color:red\">-0.089</span> + <span style=\"color:red\">-0.085</span> + <span style=\"color:blue\">+0.042</span> + <span style=\"color:blue\">+0.000</span> + <span style=\"color:blue\">+0.051</span> = <span style=\"color:red; text-decoration:underline\">-0.123</span></div><div style=\"font-family:monaco; font-size:12px\">dL/dw2 = <span style=\"color:blue\">+0.047</span> + <span style=\"color:red\">-0.000</span> + <span style=\"color:red\">-0.002</span> + <span style=\"color:red\">-0.048</span> + <span style=\"color:red\">-0.005</span> + <span style=\"color:blue\">+0.046</span> + <span style=\"color:red\">-0.000</span> + <span style=\"color:blue\">+0.046</span> = <span style=\"color:blue; text-decoration:underline\">+0.084</span></div><div style=\"font-family:monaco; font-size:12px\">dL/dw4 = <span style=\"color:blue\">+0.057</span> + <span style=\"color:blue\">+0.000</span> + <span style=\"color:red\">-0.080</span> + <span style=\"color:red\">-0.098</span> + <span style=\"color:red\">-0.079</span> + <span style=\"color:blue\">+0.055</span> + <span style=\"color:blue\">+0.000</span> + <span style=\"color:blue\">+0.061</span> = <span style=\"color:red; text-decoration:underline\">-0.083</span></div><div style=\"font-family:monaco; font-size:12px\">dL/dw5 = <span style=\"color:blue\">+0.057</span> + <span style=\"color:blue\">+0.000</span> + <span style=\"color:blue\">+0.001</span> + <span style=\"color:red\">-0.057</span> + <span style=\"color:blue\">+0.002</span> + <span style=\"color:red\">-0.001</span> + <span style=\"color:blue\">+0.002</span> + <span style=\"color:blue\">+0.122</span> = <span style=\"color:blue; text-decoration:underline\">+0.126</span></div>"
      ],
      "text/plain": [
       "<IPython.core.display.Markdown object>"
      ]
     },
     "metadata": {},
     "output_type": "display_data"
    },
    {
     "name": "stdout",
     "output_type": "stream",
     "text": [
      "w1=+0.488, w2=+0.183, w3=+1.000, w4=+0.530, w5=-0.005\n",
      "\n"
     ]
    },
    {
     "data": {
      "text/markdown": [
       "**Iteration 19**"
      ],
      "text/plain": [
       "<IPython.core.display.Markdown object>"
      ]
     },
     "metadata": {},
     "output_type": "display_data"
    },
    {
     "name": "stdout",
     "output_type": "stream",
     "text": [
      "Output: [+0.586, +0.499, +0.563, +0.646, +0.562, +0.586, +0.499, +0.412]\n",
      "Target: [+0.500, +0.500, +0.731, +0.731, +0.731, +0.500, +0.500, +0.500]\n",
      "Memory: [+0.348, -0.004, +0.255, +0.603, +0.251, +0.348, -0.004, -0.356]\n",
      "Input : [+0.663, -0.670, +0.488, +0.663, -0.670, +0.183, -0.670, -0.670]\n",
      "Gate  : [+0.526, +0.526, +0.530, +0.526, +0.526, +0.530, +0.526, +0.526]\n"
     ]
    },
    {
     "data": {
      "text/markdown": [
       "<div>Loss: **0.18326** = <span style=\"font-family:monaco\">0.015 + 0.000 + 0.060 + 0.016 + 0.061 + 0.015 + 0.000 + 0.016</span></div><div style=\"font-family:monaco; font-size:12px\">dL/dw1 = <span style=\"color:blue\">+0.044</span> + <span style=\"color:blue\">+0.000</span> + <span style=\"color:red\">-0.087</span> + <span style=\"color:red\">-0.087</span> + <span style=\"color:red\">-0.085</span> + <span style=\"color:blue\">+0.043</span> + <span style=\"color:blue\">+0.000</span> + <span style=\"color:blue\">+0.048</span> = <span style=\"color:red; text-decoration:underline\">-0.123</span></div><div style=\"font-family:monaco; font-size:12px\">dL/dw2 = <span style=\"color:blue\">+0.047</span> + <span style=\"color:red\">-0.000</span> + <span style=\"color:red\">-0.002</span> + <span style=\"color:red\">-0.047</span> + <span style=\"color:red\">-0.005</span> + <span style=\"color:blue\">+0.048</span> + <span style=\"color:red\">-0.000</span> + <span style=\"color:blue\">+0.044</span> = <span style=\"color:blue; text-decoration:underline\">+0.085</span></div><div style=\"font-family:monaco; font-size:12px\">dL/dw4 = <span style=\"color:blue\">+0.057</span> + <span style=\"color:blue\">+0.000</span> + <span style=\"color:red\">-0.081</span> + <span style=\"color:red\">-0.097</span> + <span style=\"color:red\">-0.080</span> + <span style=\"color:blue\">+0.057</span> + <span style=\"color:blue\">+0.000</span> + <span style=\"color:blue\">+0.060</span> = <span style=\"color:red; text-decoration:underline\">-0.083</span></div><div style=\"font-family:monaco; font-size:12px\">dL/dw5 = <span style=\"color:blue\">+0.057</span> + <span style=\"color:blue\">+0.000</span> + <span style=\"color:blue\">+0.001</span> + <span style=\"color:red\">-0.055</span> + <span style=\"color:blue\">+0.003</span> + <span style=\"color:red\">-0.001</span> + <span style=\"color:blue\">+0.001</span> + <span style=\"color:blue\">+0.119</span> = <span style=\"color:blue; text-decoration:underline\">+0.124</span></div>"
      ],
      "text/plain": [
       "<IPython.core.display.Markdown object>"
      ]
     },
     "metadata": {},
     "output_type": "display_data"
    },
    {
     "name": "stdout",
     "output_type": "stream",
     "text": [
      "w1=+0.501, w2=+0.174, w3=+1.000, w4=+0.538, w5=-0.017\n",
      "\n"
     ]
    },
    {
     "data": {
      "text/markdown": [
       "**Iteration 20**"
      ],
      "text/plain": [
       "<IPython.core.display.Markdown object>"
      ]
     },
     "metadata": {},
     "output_type": "display_data"
    },
    {
     "name": "stdout",
     "output_type": "stream",
     "text": [
      "Output: [+0.586, +0.499, +0.566, +0.649, +0.565, +0.588, +0.501, +0.414]\n",
      "Target: [+0.500, +0.500, +0.731, +0.731, +0.731, +0.500, +0.500, +0.500]\n",
      "Memory: [+0.347, -0.004, +0.265, +0.613, +0.261, +0.355, +0.004, -0.348]\n",
      "Input : [+0.666, -0.674, +0.501, +0.666, -0.674, +0.174, -0.674, -0.674]\n",
      "Gate  : [+0.521, +0.521, +0.538, +0.521, +0.521, +0.538, +0.521, +0.521]\n"
     ]
    },
    {
     "data": {
      "text/markdown": [
       "<div>Loss: **0.17879** = <span style=\"font-family:monaco\">0.015 + 0.000 + 0.058 + 0.016 + 0.059 + 0.016 + 0.000 + 0.015</span></div><div style=\"font-family:monaco; font-size:12px\">dL/dw1 = <span style=\"color:blue\">+0.044</span> + <span style=\"color:blue\">+0.000</span> + <span style=\"color:red\">-0.087</span> + <span style=\"color:red\">-0.085</span> + <span style=\"color:red\">-0.085</span> + <span style=\"color:blue\">+0.045</span> + <span style=\"color:red\">-0.000</span> + <span style=\"color:blue\">+0.045</span> = <span style=\"color:red; text-decoration:underline\">-0.123</span></div><div style=\"font-family:monaco; font-size:12px\">dL/dw2 = <span style=\"color:blue\">+0.046</span> + <span style=\"color:red\">-0.000</span> + <span style=\"color:red\">-0.002</span> + <span style=\"color:red\">-0.045</span> + <span style=\"color:red\">-0.004</span> + <span style=\"color:blue\">+0.050</span> + <span style=\"color:blue\">+0.000</span> + <span style=\"color:blue\">+0.041</span> = <span style=\"color:blue; text-decoration:underline\">+0.085</span></div><div style=\"font-family:monaco; font-size:12px\">dL/dw4 = <span style=\"color:blue\">+0.057</span> + <span style=\"color:blue\">+0.000</span> + <span style=\"color:red\">-0.081</span> + <span style=\"color:red\">-0.096</span> + <span style=\"color:red\">-0.081</span> + <span style=\"color:blue\">+0.058</span> + <span style=\"color:red\">-0.000</span> + <span style=\"color:blue\">+0.059</span> = <span style=\"color:red; text-decoration:underline\">-0.083</span></div><div style=\"font-family:monaco; font-size:12px\">dL/dw5 = <span style=\"color:blue\">+0.057</span> + <span style=\"color:blue\">+0.000</span> + <span style=\"color:blue\">+0.001</span> + <span style=\"color:red\">-0.054</span> + <span style=\"color:blue\">+0.003</span> + <span style=\"color:red\">-0.001</span> + <span style=\"color:red\">-0.001</span> + <span style=\"color:blue\">+0.117</span> = <span style=\"color:blue; text-decoration:underline\">+0.122</span></div>"
      ],
      "text/plain": [
       "<IPython.core.display.Markdown object>"
      ]
     },
     "metadata": {},
     "output_type": "display_data"
    },
    {
     "name": "stdout",
     "output_type": "stream",
     "text": [
      "w1=+0.513, w2=+0.166, w3=+1.000, w4=+0.547, w5=-0.029\n",
      "\n"
     ]
    },
    {
     "data": {
      "text/markdown": [
       "**Iteration 21**"
      ],
      "text/plain": [
       "<IPython.core.display.Markdown object>"
      ]
     },
     "metadata": {},
     "output_type": "display_data"
    },
    {
     "name": "stdout",
     "output_type": "stream",
     "text": [
      "Output: [+0.586, +0.499, +0.569, +0.651, +0.568, +0.590, +0.503, +0.416]\n",
      "Target: [+0.500, +0.500, +0.731, +0.731, +0.731, +0.500, +0.500, +0.500]\n",
      "Memory: [+0.346, -0.004, +0.276, +0.622, +0.272, +0.362, +0.012, -0.339]\n",
      "Input : [+0.669, -0.678, +0.513, +0.669, -0.678, +0.166, -0.678, -0.678]\n",
      "Gate  : [+0.518, +0.518, +0.547, +0.518, +0.518, +0.547, +0.518, +0.518]\n"
     ]
    },
    {
     "data": {
      "text/markdown": [
       "<div>Loss: **0.17438** = <span style=\"font-family:monaco\">0.015 + 0.000 + 0.057 + 0.015 + 0.057 + 0.016 + 0.000 + 0.014</span></div><div style=\"font-family:monaco; font-size:12px\">dL/dw1 = <span style=\"color:blue\">+0.043</span> + <span style=\"color:blue\">+0.000</span> + <span style=\"color:red\">-0.087</span> + <span style=\"color:red\">-0.083</span> + <span style=\"color:red\">-0.085</span> + <span style=\"color:blue\">+0.047</span> + <span style=\"color:blue\">+0.000</span> + <span style=\"color:blue\">+0.043</span> = <span style=\"color:red; text-decoration:underline\">-0.123</span></div><div style=\"font-family:monaco; font-size:12px\">dL/dw2 = <span style=\"color:blue\">+0.046</span> + <span style=\"color:red\">-0.000</span> + <span style=\"color:red\">-0.002</span> + <span style=\"color:red\">-0.044</span> + <span style=\"color:red\">-0.004</span> + <span style=\"color:blue\">+0.051</span> + <span style=\"color:blue\">+0.000</span> + <span style=\"color:blue\">+0.039</span> = <span style=\"color:blue; text-decoration:underline\">+0.086</span></div><div style=\"font-family:monaco; font-size:12px\">dL/dw4 = <span style=\"color:blue\">+0.057</span> + <span style=\"color:blue\">+0.000</span> + <span style=\"color:red\">-0.082</span> + <span style=\"color:red\">-0.094</span> + <span style=\"color:red\">-0.081</span> + <span style=\"color:blue\">+0.059</span> + <span style=\"color:red\">-0.000</span> + <span style=\"color:blue\">+0.058</span> = <span style=\"color:red; text-decoration:underline\">-0.082</span></div><div style=\"font-family:monaco; font-size:12px\">dL/dw5 = <span style=\"color:blue\">+0.057</span> + <span style=\"color:blue\">+0.000</span> + <span style=\"color:blue\">+0.001</span> + <span style=\"color:red\">-0.053</span> + <span style=\"color:blue\">+0.003</span> + <span style=\"color:red\">-0.002</span> + <span style=\"color:red\">-0.002</span> + <span style=\"color:blue\">+0.115</span> = <span style=\"color:blue; text-decoration:underline\">+0.120</span></div>"
      ],
      "text/plain": [
       "<IPython.core.display.Markdown object>"
      ]
     },
     "metadata": {},
     "output_type": "display_data"
    },
    {
     "name": "stdout",
     "output_type": "stream",
     "text": [
      "w1=+0.525, w2=+0.157, w3=+1.000, w4=+0.555, w5=-0.041\n",
      "\n"
     ]
    },
    {
     "data": {
      "text/markdown": [
       "**Iteration 22**"
      ],
      "text/plain": [
       "<IPython.core.display.Markdown object>"
      ]
     },
     "metadata": {},
     "output_type": "display_data"
    },
    {
     "name": "stdout",
     "output_type": "stream",
     "text": [
      "Output: [+0.585, +0.499, +0.571, +0.653, +0.570, +0.591, +0.505, +0.418]\n",
      "Target: [+0.500, +0.500, +0.731, +0.731, +0.731, +0.500, +0.500, +0.500]\n",
      "Memory: [+0.345, -0.005, +0.287, +0.632, +0.282, +0.370, +0.020, -0.330]\n",
      "Input : [+0.672, -0.681, +0.525, +0.672, -0.681, +0.157, -0.681, -0.681]\n",
      "Gate  : [+0.514, +0.514, +0.555, +0.514, +0.514, +0.555, +0.514, +0.514]\n"
     ]
    },
    {
     "data": {
      "text/markdown": [
       "<div>Loss: **0.17004** = <span style=\"font-family:monaco\">0.015 + 0.000 + 0.055 + 0.014 + 0.056 + 0.017 + 0.000 + 0.014</span></div><div style=\"font-family:monaco; font-size:12px\">dL/dw1 = <span style=\"color:blue\">+0.043</span> + <span style=\"color:blue\">+0.000</span> + <span style=\"color:red\">-0.087</span> + <span style=\"color:red\">-0.081</span> + <span style=\"color:red\">-0.085</span> + <span style=\"color:blue\">+0.048</span> + <span style=\"color:blue\">+0.000</span> + <span style=\"color:blue\">+0.040</span> = <span style=\"color:red; text-decoration:underline\">-0.122</span></div><div style=\"font-family:monaco; font-size:12px\">dL/dw2 = <span style=\"color:blue\">+0.045</span> + <span style=\"color:red\">-0.000</span> + <span style=\"color:red\">-0.002</span> + <span style=\"color:red\">-0.042</span> + <span style=\"color:red\">-0.004</span> + <span style=\"color:blue\">+0.053</span> + <span style=\"color:blue\">+0.000</span> + <span style=\"color:blue\">+0.037</span> = <span style=\"color:blue; text-decoration:underline\">+0.087</span></div><div style=\"font-family:monaco; font-size:12px\">dL/dw4 = <span style=\"color:blue\">+0.057</span> + <span style=\"color:blue\">+0.000</span> + <span style=\"color:red\">-0.083</span> + <span style=\"color:red\">-0.093</span> + <span style=\"color:red\">-0.082</span> + <span style=\"color:blue\">+0.061</span> + <span style=\"color:red\">-0.000</span> + <span style=\"color:blue\">+0.057</span> = <span style=\"color:red; text-decoration:underline\">-0.082</span></div><div style=\"font-family:monaco; font-size:12px\">dL/dw5 = <span style=\"color:blue\">+0.057</span> + <span style=\"color:blue\">+0.000</span> + <span style=\"color:blue\">+0.001</span> + <span style=\"color:red\">-0.052</span> + <span style=\"color:blue\">+0.003</span> + <span style=\"color:red\">-0.002</span> + <span style=\"color:red\">-0.003</span> + <span style=\"color:blue\">+0.113</span> = <span style=\"color:blue; text-decoration:underline\">+0.118</span></div>"
      ],
      "text/plain": [
       "<IPython.core.display.Markdown object>"
      ]
     },
     "metadata": {},
     "output_type": "display_data"
    },
    {
     "name": "stdout",
     "output_type": "stream",
     "text": [
      "w1=+0.537, w2=+0.149, w3=+1.000, w4=+0.563, w5=-0.053\n",
      "\n"
     ]
    },
    {
     "data": {
      "text/markdown": [
       "**Iteration 23**"
      ],
      "text/plain": [
       "<IPython.core.display.Markdown object>"
      ]
     },
     "metadata": {},
     "output_type": "display_data"
    },
    {
     "name": "stdout",
     "output_type": "stream",
     "text": [
      "Output: [+0.585, +0.499, +0.574, +0.655, +0.573, +0.593, +0.507, +0.420]\n",
      "Target: [+0.500, +0.500, +0.731, +0.731, +0.731, +0.500, +0.500, +0.500]\n",
      "Memory: [+0.344, -0.005, +0.298, +0.642, +0.293, +0.377, +0.027, -0.322]\n",
      "Input : [+0.675, -0.685, +0.537, +0.675, -0.685, +0.149, -0.685, -0.685]\n",
      "Gate  : [+0.510, +0.510, +0.563, +0.510, +0.510, +0.563, +0.510, +0.510]\n"
     ]
    },
    {
     "data": {
      "text/markdown": [
       "<div>Loss: **0.16577** = <span style=\"font-family:monaco\">0.015 + 0.000 + 0.053 + 0.013 + 0.054 + 0.018 + 0.000 + 0.013</span></div><div style=\"font-family:monaco; font-size:12px\">dL/dw1 = <span style=\"color:blue\">+0.042</span> + <span style=\"color:blue\">+0.000</span> + <span style=\"color:red\">-0.087</span> + <span style=\"color:red\">-0.079</span> + <span style=\"color:red\">-0.085</span> + <span style=\"color:blue\">+0.050</span> + <span style=\"color:blue\">+0.000</span> + <span style=\"color:blue\">+0.038</span> = <span style=\"color:red; text-decoration:underline\">-0.120</span></div><div style=\"font-family:monaco; font-size:12px\">dL/dw2 = <span style=\"color:blue\">+0.045</span> + <span style=\"color:red\">-0.000</span> + <span style=\"color:red\">-0.002</span> + <span style=\"color:red\">-0.041</span> + <span style=\"color:red\">-0.004</span> + <span style=\"color:blue\">+0.055</span> + <span style=\"color:blue\">+0.001</span> + <span style=\"color:blue\">+0.035</span> = <span style=\"color:blue; text-decoration:underline\">+0.088</span></div><div style=\"font-family:monaco; font-size:12px\">dL/dw4 = <span style=\"color:blue\">+0.058</span> + <span style=\"color:blue\">+0.000</span> + <span style=\"color:red\">-0.083</span> + <span style=\"color:red\">-0.091</span> + <span style=\"color:red\">-0.082</span> + <span style=\"color:blue\">+0.062</span> + <span style=\"color:red\">-0.000</span> + <span style=\"color:blue\">+0.056</span> = <span style=\"color:red; text-decoration:underline\">-0.081</span></div><div style=\"font-family:monaco; font-size:12px\">dL/dw5 = <span style=\"color:blue\">+0.058</span> + <span style=\"color:blue\">+0.000</span> + <span style=\"color:blue\">+0.001</span> + <span style=\"color:red\">-0.050</span> + <span style=\"color:blue\">+0.003</span> + <span style=\"color:red\">-0.002</span> + <span style=\"color:red\">-0.005</span> + <span style=\"color:blue\">+0.111</span> = <span style=\"color:blue; text-decoration:underline\">+0.116</span></div>"
      ],
      "text/plain": [
       "<IPython.core.display.Markdown object>"
      ]
     },
     "metadata": {},
     "output_type": "display_data"
    },
    {
     "name": "stdout",
     "output_type": "stream",
     "text": [
      "w1=+0.549, w2=+0.140, w3=+1.000, w4=+0.571, w5=-0.065\n",
      "\n"
     ]
    },
    {
     "data": {
      "text/markdown": [
       "**Iteration 24**"
      ],
      "text/plain": [
       "<IPython.core.display.Markdown object>"
      ]
     },
     "metadata": {},
     "output_type": "display_data"
    },
    {
     "name": "stdout",
     "output_type": "stream",
     "text": [
      "Output: [+0.585, +0.499, +0.577, +0.657, +0.575, +0.595, +0.509, +0.422]\n",
      "Target: [+0.500, +0.500, +0.731, +0.731, +0.731, +0.500, +0.500, +0.500]\n",
      "Memory: [+0.343, -0.005, +0.309, +0.652, +0.304, +0.384, +0.035, -0.313]\n",
      "Input : [+0.678, -0.688, +0.549, +0.678, -0.688, +0.140, -0.688, -0.688]\n",
      "Gate  : [+0.507, +0.507, +0.571, +0.507, +0.507, +0.571, +0.507, +0.507]\n"
     ]
    },
    {
     "data": {
      "text/markdown": [
       "<div>Loss: **0.16158** = <span style=\"font-family:monaco\">0.015 + 0.000 + 0.051 + 0.013 + 0.052 + 0.018 + 0.000 + 0.012</span></div><div style=\"font-family:monaco; font-size:12px\">dL/dw1 = <span style=\"color:blue\">+0.042</span> + <span style=\"color:blue\">+0.000</span> + <span style=\"color:red\">-0.086</span> + <span style=\"color:red\">-0.077</span> + <span style=\"color:red\">-0.085</span> + <span style=\"color:blue\">+0.052</span> + <span style=\"color:blue\">+0.000</span> + <span style=\"color:blue\">+0.036</span> = <span style=\"color:red; text-decoration:underline\">-0.119</span></div><div style=\"font-family:monaco; font-size:12px\">dL/dw2 = <span style=\"color:blue\">+0.044</span> + <span style=\"color:red\">-0.000</span> + <span style=\"color:red\">-0.002</span> + <span style=\"color:red\">-0.039</span> + <span style=\"color:red\">-0.004</span> + <span style=\"color:blue\">+0.057</span> + <span style=\"color:blue\">+0.001</span> + <span style=\"color:blue\">+0.033</span> = <span style=\"color:blue; text-decoration:underline\">+0.089</span></div><div style=\"font-family:monaco; font-size:12px\">dL/dw4 = <span style=\"color:blue\">+0.058</span> + <span style=\"color:blue\">+0.000</span> + <span style=\"color:red\">-0.083</span> + <span style=\"color:red\">-0.090</span> + <span style=\"color:red\">-0.082</span> + <span style=\"color:blue\">+0.063</span> + <span style=\"color:red\">-0.000</span> + <span style=\"color:blue\">+0.055</span> = <span style=\"color:red; text-decoration:underline\">-0.080</span></div><div style=\"font-family:monaco; font-size:12px\">dL/dw5 = <span style=\"color:blue\">+0.058</span> + <span style=\"color:blue\">+0.000</span> + <span style=\"color:blue\">+0.002</span> + <span style=\"color:red\">-0.049</span> + <span style=\"color:blue\">+0.003</span> + <span style=\"color:red\">-0.002</span> + <span style=\"color:red\">-0.006</span> + <span style=\"color:blue\">+0.108</span> = <span style=\"color:blue; text-decoration:underline\">+0.114</span></div>"
      ],
      "text/plain": [
       "<IPython.core.display.Markdown object>"
      ]
     },
     "metadata": {},
     "output_type": "display_data"
    },
    {
     "name": "stdout",
     "output_type": "stream",
     "text": [
      "w1=+0.561, w2=+0.131, w3=+1.000, w4=+0.579, w5=-0.076\n",
      "\n"
     ]
    },
    {
     "data": {
      "text/markdown": [
       "**Iteration 25**"
      ],
      "text/plain": [
       "<IPython.core.display.Markdown object>"
      ]
     },
     "metadata": {},
     "output_type": "display_data"
    },
    {
     "name": "stdout",
     "output_type": "stream",
     "text": [
      "Output: [+0.585, +0.499, +0.579, +0.660, +0.578, +0.596, +0.511, +0.424]\n",
      "Target: [+0.500, +0.500, +0.731, +0.731, +0.731, +0.500, +0.500, +0.500]\n",
      "Memory: [+0.342, -0.005, +0.320, +0.662, +0.314, +0.390, +0.043, -0.305]\n",
      "Input : [+0.680, -0.691, +0.561, +0.680, -0.691, +0.131, -0.691, -0.691]\n",
      "Gate  : [+0.503, +0.503, +0.579, +0.503, +0.503, +0.579, +0.503, +0.503]\n"
     ]
    },
    {
     "data": {
      "text/markdown": [
       "<div>Loss: **0.15748** = <span style=\"font-family:monaco\">0.015 + 0.000 + 0.050 + 0.012 + 0.051 + 0.019 + 0.000 + 0.012</span></div><div style=\"font-family:monaco; font-size:12px\">dL/dw1 = <span style=\"color:blue\">+0.041</span> + <span style=\"color:blue\">+0.000</span> + <span style=\"color:red\">-0.086</span> + <span style=\"color:red\">-0.075</span> + <span style=\"color:red\">-0.085</span> + <span style=\"color:blue\">+0.053</span> + <span style=\"color:blue\">+0.001</span> + <span style=\"color:blue\">+0.034</span> = <span style=\"color:red; text-decoration:underline\">-0.117</span></div><div style=\"font-family:monaco; font-size:12px\">dL/dw2 = <span style=\"color:blue\">+0.044</span> + <span style=\"color:red\">-0.000</span> + <span style=\"color:red\">-0.002</span> + <span style=\"color:red\">-0.038</span> + <span style=\"color:red\">-0.004</span> + <span style=\"color:blue\">+0.058</span> + <span style=\"color:blue\">+0.001</span> + <span style=\"color:blue\">+0.031</span> = <span style=\"color:blue; text-decoration:underline\">+0.090</span></div><div style=\"font-family:monaco; font-size:12px\">dL/dw4 = <span style=\"color:blue\">+0.058</span> + <span style=\"color:blue\">+0.000</span> + <span style=\"color:red\">-0.084</span> + <span style=\"color:red\">-0.088</span> + <span style=\"color:red\">-0.083</span> + <span style=\"color:blue\">+0.065</span> + <span style=\"color:red\">-0.000</span> + <span style=\"color:blue\">+0.054</span> = <span style=\"color:red; text-decoration:underline\">-0.078</span></div><div style=\"font-family:monaco; font-size:12px\">dL/dw5 = <span style=\"color:blue\">+0.058</span> + <span style=\"color:blue\">+0.000</span> + <span style=\"color:blue\">+0.002</span> + <span style=\"color:red\">-0.048</span> + <span style=\"color:blue\">+0.003</span> + <span style=\"color:red\">-0.002</span> + <span style=\"color:red\">-0.008</span> + <span style=\"color:blue\">+0.106</span> = <span style=\"color:blue; text-decoration:underline\">+0.111</span></div>"
      ],
      "text/plain": [
       "<IPython.core.display.Markdown object>"
      ]
     },
     "metadata": {},
     "output_type": "display_data"
    },
    {
     "name": "stdout",
     "output_type": "stream",
     "text": [
      "w1=+0.573, w2=+0.122, w3=+1.000, w4=+0.587, w5=-0.087\n",
      "\n"
     ]
    },
    {
     "data": {
      "text/markdown": [
       "**Iteration 26**"
      ],
      "text/plain": [
       "<IPython.core.display.Markdown object>"
      ]
     },
     "metadata": {},
     "output_type": "display_data"
    },
    {
     "name": "stdout",
     "output_type": "stream",
     "text": [
      "Output: [+0.584, +0.499, +0.582, +0.662, +0.581, +0.598, +0.513, +0.426]\n",
      "Target: [+0.500, +0.500, +0.731, +0.731, +0.731, +0.500, +0.500, +0.500]\n",
      "Memory: [+0.341, -0.006, +0.331, +0.672, +0.325, +0.397, +0.050, -0.296]\n",
      "Input : [+0.682, -0.693, +0.573, +0.682, -0.693, +0.122, -0.693, -0.693]\n",
      "Gate  : [+0.500, +0.500, +0.587, +0.500, +0.500, +0.587, +0.500, +0.500]\n"
     ]
    },
    {
     "data": {
      "text/markdown": [
       "<div>Loss: **0.15348** = <span style=\"font-family:monaco\">0.014 + 0.000 + 0.048 + 0.011 + 0.049 + 0.020 + 0.000 + 0.011</span></div><div style=\"font-family:monaco; font-size:12px\">dL/dw1 = <span style=\"color:blue\">+0.041</span> + <span style=\"color:blue\">+0.000</span> + <span style=\"color:red\">-0.086</span> + <span style=\"color:red\">-0.073</span> + <span style=\"color:red\">-0.085</span> + <span style=\"color:blue\">+0.055</span> + <span style=\"color:blue\">+0.001</span> + <span style=\"color:blue\">+0.032</span> = <span style=\"color:red; text-decoration:underline\">-0.115</span></div><div style=\"font-family:monaco; font-size:12px\">dL/dw2 = <span style=\"color:blue\">+0.043</span> + <span style=\"color:red\">-0.000</span> + <span style=\"color:red\">-0.002</span> + <span style=\"color:red\">-0.036</span> + <span style=\"color:red\">-0.004</span> + <span style=\"color:blue\">+0.060</span> + <span style=\"color:blue\">+0.001</span> + <span style=\"color:blue\">+0.029</span> = <span style=\"color:blue; text-decoration:underline\">+0.091</span></div><div style=\"font-family:monaco; font-size:12px\">dL/dw4 = <span style=\"color:blue\">+0.058</span> + <span style=\"color:blue\">+0.000</span> + <span style=\"color:red\">-0.084</span> + <span style=\"color:red\">-0.086</span> + <span style=\"color:red\">-0.083</span> + <span style=\"color:blue\">+0.066</span> + <span style=\"color:red\">-0.000</span> + <span style=\"color:blue\">+0.053</span> = <span style=\"color:red; text-decoration:underline\">-0.077</span></div><div style=\"font-family:monaco; font-size:12px\">dL/dw5 = <span style=\"color:blue\">+0.058</span> + <span style=\"color:blue\">+0.000</span> + <span style=\"color:blue\">+0.002</span> + <span style=\"color:red\">-0.046</span> + <span style=\"color:blue\">+0.003</span> + <span style=\"color:red\">-0.002</span> + <span style=\"color:red\">-0.009</span> + <span style=\"color:blue\">+0.104</span> = <span style=\"color:blue; text-decoration:underline\">+0.109</span></div>"
      ],
      "text/plain": [
       "<IPython.core.display.Markdown object>"
      ]
     },
     "metadata": {},
     "output_type": "display_data"
    },
    {
     "name": "stdout",
     "output_type": "stream",
     "text": [
      "w1=+0.584, w2=+0.113, w3=+1.000, w4=+0.595, w5=-0.098\n",
      "\n"
     ]
    },
    {
     "data": {
      "text/markdown": [
       "**Iteration 27**"
      ],
      "text/plain": [
       "<IPython.core.display.Markdown object>"
      ]
     },
     "metadata": {},
     "output_type": "display_data"
    },
    {
     "name": "stdout",
     "output_type": "stream",
     "text": [
      "Output: [+0.584, +0.499, +0.585, +0.664, +0.583, +0.599, +0.514, +0.429]\n",
      "Target: [+0.500, +0.500, +0.731, +0.731, +0.731, +0.500, +0.500, +0.500]\n",
      "Memory: [+0.340, -0.006, +0.342, +0.682, +0.336, +0.403, +0.058, -0.288]\n",
      "Input : [+0.684, -0.696, +0.584, +0.684, -0.696, +0.113, -0.696, -0.696]\n",
      "Gate  : [+0.497, +0.497, +0.595, +0.497, +0.497, +0.595, +0.497, +0.497]\n"
     ]
    },
    {
     "data": {
      "text/markdown": [
       "<div>Loss: **0.14958** = <span style=\"font-family:monaco\">0.014 + 0.000 + 0.047 + 0.010 + 0.047 + 0.020 + 0.000 + 0.010</span></div><div style=\"font-family:monaco; font-size:12px\">dL/dw1 = <span style=\"color:blue\">+0.041</span> + <span style=\"color:blue\">+0.000</span> + <span style=\"color:red\">-0.085</span> + <span style=\"color:red\">-0.071</span> + <span style=\"color:red\">-0.084</span> + <span style=\"color:blue\">+0.057</span> + <span style=\"color:blue\">+0.001</span> + <span style=\"color:blue\">+0.030</span> = <span style=\"color:red; text-decoration:underline\">-0.112</span></div><div style=\"font-family:monaco; font-size:12px\">dL/dw2 = <span style=\"color:blue\">+0.043</span> + <span style=\"color:red\">-0.000</span> + <span style=\"color:red\">-0.002</span> + <span style=\"color:red\">-0.035</span> + <span style=\"color:red\">-0.004</span> + <span style=\"color:blue\">+0.062</span> + <span style=\"color:blue\">+0.002</span> + <span style=\"color:blue\">+0.027</span> = <span style=\"color:blue; text-decoration:underline\">+0.093</span></div><div style=\"font-family:monaco; font-size:12px\">dL/dw4 = <span style=\"color:blue\">+0.058</span> + <span style=\"color:blue\">+0.000</span> + <span style=\"color:red\">-0.084</span> + <span style=\"color:red\">-0.084</span> + <span style=\"color:red\">-0.083</span> + <span style=\"color:blue\">+0.067</span> + <span style=\"color:red\">-0.000</span> + <span style=\"color:blue\">+0.051</span> = <span style=\"color:red; text-decoration:underline\">-0.075</span></div><div style=\"font-family:monaco; font-size:12px\">dL/dw5 = <span style=\"color:blue\">+0.058</span> + <span style=\"color:blue\">+0.000</span> + <span style=\"color:blue\">+0.002</span> + <span style=\"color:red\">-0.045</span> + <span style=\"color:blue\">+0.003</span> + <span style=\"color:red\">-0.002</span> + <span style=\"color:red\">-0.010</span> + <span style=\"color:blue\">+0.101</span> = <span style=\"color:blue; text-decoration:underline\">+0.106</span></div>"
      ],
      "text/plain": [
       "<IPython.core.display.Markdown object>"
      ]
     },
     "metadata": {},
     "output_type": "display_data"
    },
    {
     "name": "stdout",
     "output_type": "stream",
     "text": [
      "w1=+0.596, w2=+0.104, w3=+1.000, w4=+0.602, w5=-0.109\n",
      "\n"
     ]
    },
    {
     "data": {
      "text/markdown": [
       "**Iteration 28**"
      ],
      "text/plain": [
       "<IPython.core.display.Markdown object>"
      ]
     },
     "metadata": {},
     "output_type": "display_data"
    },
    {
     "name": "stdout",
     "output_type": "stream",
     "text": [
      "Output: [+0.584, +0.499, +0.587, +0.666, +0.586, +0.601, +0.516, +0.431]\n",
      "Target: [+0.500, +0.500, +0.731, +0.731, +0.731, +0.500, +0.500, +0.500]\n",
      "Memory: [+0.338, -0.006, +0.353, +0.691, +0.347, +0.409, +0.065, -0.280]\n",
      "Input : [+0.685, -0.697, +0.596, +0.685, -0.697, +0.104, -0.697, -0.697]\n",
      "Gate  : [+0.494, +0.494, +0.602, +0.494, +0.494, +0.602, +0.494, +0.494]\n"
     ]
    },
    {
     "data": {
      "text/markdown": [
       "<div>Loss: **0.14579** = <span style=\"font-family:monaco\">0.014 + 0.000 + 0.045 + 0.010 + 0.046 + 0.021 + 0.001 + 0.010</span></div><div style=\"font-family:monaco; font-size:12px\">dL/dw1 = <span style=\"color:blue\">+0.040</span> + <span style=\"color:blue\">+0.000</span> + <span style=\"color:red\">-0.085</span> + <span style=\"color:red\">-0.069</span> + <span style=\"color:red\">-0.084</span> + <span style=\"color:blue\">+0.058</span> + <span style=\"color:blue\">+0.001</span> + <span style=\"color:blue\">+0.028</span> = <span style=\"color:red; text-decoration:underline\">-0.110</span></div><div style=\"font-family:monaco; font-size:12px\">dL/dw2 = <span style=\"color:blue\">+0.043</span> + <span style=\"color:red\">-0.000</span> + <span style=\"color:red\">-0.002</span> + <span style=\"color:red\">-0.034</span> + <span style=\"color:red\">-0.004</span> + <span style=\"color:blue\">+0.063</span> + <span style=\"color:blue\">+0.002</span> + <span style=\"color:blue\">+0.025</span> = <span style=\"color:blue; text-decoration:underline\">+0.094</span></div><div style=\"font-family:monaco; font-size:12px\">dL/dw4 = <span style=\"color:blue\">+0.057</span> + <span style=\"color:blue\">+0.000</span> + <span style=\"color:red\">-0.084</span> + <span style=\"color:red\">-0.082</span> + <span style=\"color:red\">-0.083</span> + <span style=\"color:blue\">+0.068</span> + <span style=\"color:red\">-0.000</span> + <span style=\"color:blue\">+0.050</span> = <span style=\"color:red; text-decoration:underline\">-0.074</span></div><div style=\"font-family:monaco; font-size:12px\">dL/dw5 = <span style=\"color:blue\">+0.057</span> + <span style=\"color:blue\">+0.000</span> + <span style=\"color:blue\">+0.002</span> + <span style=\"color:red\">-0.044</span> + <span style=\"color:blue\">+0.004</span> + <span style=\"color:red\">-0.002</span> + <span style=\"color:red\">-0.012</span> + <span style=\"color:blue\">+0.099</span> = <span style=\"color:blue; text-decoration:underline\">+0.103</span></div>"
      ],
      "text/plain": [
       "<IPython.core.display.Markdown object>"
      ]
     },
     "metadata": {},
     "output_type": "display_data"
    },
    {
     "name": "stdout",
     "output_type": "stream",
     "text": [
      "w1=+0.607, w2=+0.094, w3=+1.000, w4=+0.610, w5=-0.119\n",
      "\n"
     ]
    },
    {
     "data": {
      "text/markdown": [
       "**Iteration 29**"
      ],
      "text/plain": [
       "<IPython.core.display.Markdown object>"
      ]
     },
     "metadata": {},
     "output_type": "display_data"
    },
    {
     "name": "stdout",
     "output_type": "stream",
     "text": [
      "Output: [+0.583, +0.498, +0.590, +0.668, +0.588, +0.602, +0.518, +0.433]\n",
      "Target: [+0.500, +0.500, +0.731, +0.731, +0.731, +0.500, +0.500, +0.500]\n",
      "Memory: [+0.337, -0.006, +0.364, +0.700, +0.357, +0.415, +0.072, -0.271]\n",
      "Input : [+0.686, -0.699, +0.607, +0.686, -0.699, +0.094, -0.699, -0.699]\n",
      "Gate  : [+0.491, +0.491, +0.610, +0.491, +0.491, +0.610, +0.491, +0.491]\n"
     ]
    },
    {
     "data": {
      "text/markdown": [
       "<div>Loss: **0.14211** = <span style=\"font-family:monaco\">0.014 + 0.000 + 0.043 + 0.009 + 0.044 + 0.021 + 0.001 + 0.009</span></div><div style=\"font-family:monaco; font-size:12px\">dL/dw1 = <span style=\"color:blue\">+0.040</span> + <span style=\"color:blue\">+0.000</span> + <span style=\"color:red\">-0.084</span> + <span style=\"color:red\">-0.067</span> + <span style=\"color:red\">-0.083</span> + <span style=\"color:blue\">+0.060</span> + <span style=\"color:blue\">+0.002</span> + <span style=\"color:blue\">+0.026</span> = <span style=\"color:red; text-decoration:underline\">-0.107</span></div><div style=\"font-family:monaco; font-size:12px\">dL/dw2 = <span style=\"color:blue\">+0.042</span> + <span style=\"color:red\">-0.000</span> + <span style=\"color:red\">-0.002</span> + <span style=\"color:red\">-0.032</span> + <span style=\"color:red\">-0.004</span> + <span style=\"color:blue\">+0.065</span> + <span style=\"color:blue\">+0.003</span> + <span style=\"color:blue\">+0.024</span> = <span style=\"color:blue; text-decoration:underline\">+0.095</span></div><div style=\"font-family:monaco; font-size:12px\">dL/dw4 = <span style=\"color:blue\">+0.057</span> + <span style=\"color:blue\">+0.000</span> + <span style=\"color:red\">-0.084</span> + <span style=\"color:red\">-0.080</span> + <span style=\"color:red\">-0.083</span> + <span style=\"color:blue\">+0.069</span> + <span style=\"color:red\">-0.000</span> + <span style=\"color:blue\">+0.049</span> = <span style=\"color:red; text-decoration:underline\">-0.072</span></div><div style=\"font-family:monaco; font-size:12px\">dL/dw5 = <span style=\"color:blue\">+0.057</span> + <span style=\"color:blue\">+0.000</span> + <span style=\"color:blue\">+0.002</span> + <span style=\"color:red\">-0.042</span> + <span style=\"color:blue\">+0.004</span> + <span style=\"color:red\">-0.003</span> + <span style=\"color:red\">-0.013</span> + <span style=\"color:blue\">+0.096</span> = <span style=\"color:blue; text-decoration:underline\">+0.101</span></div>"
      ],
      "text/plain": [
       "<IPython.core.display.Markdown object>"
      ]
     },
     "metadata": {},
     "output_type": "display_data"
    },
    {
     "name": "stdout",
     "output_type": "stream",
     "text": [
      "w1=+0.617, w2=+0.085, w3=+1.000, w4=+0.617, w5=-0.129\n",
      "\n"
     ]
    },
    {
     "data": {
      "text/markdown": [
       "**Iteration 30**"
      ],
      "text/plain": [
       "<IPython.core.display.Markdown object>"
      ]
     },
     "metadata": {},
     "output_type": "display_data"
    },
    {
     "name": "stdout",
     "output_type": "stream",
     "text": [
      "Output: [+0.583, +0.498, +0.593, +0.670, +0.591, +0.604, +0.520, +0.435]\n",
      "Target: [+0.500, +0.500, +0.731, +0.731, +0.731, +0.500, +0.500, +0.500]\n",
      "Memory: [+0.335, -0.006, +0.374, +0.710, +0.368, +0.420, +0.079, -0.263]\n",
      "Input : [+0.687, -0.700, +0.617, +0.687, -0.700, +0.085, -0.700, -0.700]\n",
      "Gate  : [+0.488, +0.488, +0.617, +0.488, +0.488, +0.617, +0.488, +0.488]\n"
     ]
    },
    {
     "data": {
      "text/markdown": [
       "<div>Loss: **0.13853** = <span style=\"font-family:monaco\">0.014 + 0.000 + 0.042 + 0.009 + 0.043 + 0.022 + 0.001 + 0.009</span></div><div style=\"font-family:monaco; font-size:12px\">dL/dw1 = <span style=\"color:blue\">+0.039</span> + <span style=\"color:blue\">+0.000</span> + <span style=\"color:red\">-0.084</span> + <span style=\"color:red\">-0.066</span> + <span style=\"color:red\">-0.083</span> + <span style=\"color:blue\">+0.061</span> + <span style=\"color:blue\">+0.002</span> + <span style=\"color:blue\">+0.025</span> = <span style=\"color:red; text-decoration:underline\">-0.105</span></div><div style=\"font-family:monaco; font-size:12px\">dL/dw2 = <span style=\"color:blue\">+0.042</span> + <span style=\"color:red\">-0.000</span> + <span style=\"color:red\">-0.002</span> + <span style=\"color:red\">-0.031</span> + <span style=\"color:red\">-0.004</span> + <span style=\"color:blue\">+0.066</span> + <span style=\"color:blue\">+0.003</span> + <span style=\"color:blue\">+0.022</span> = <span style=\"color:blue; text-decoration:underline\">+0.097</span></div><div style=\"font-family:monaco; font-size:12px\">dL/dw4 = <span style=\"color:blue\">+0.057</span> + <span style=\"color:blue\">+0.000</span> + <span style=\"color:red\">-0.084</span> + <span style=\"color:red\">-0.078</span> + <span style=\"color:red\">-0.083</span> + <span style=\"color:blue\">+0.070</span> + <span style=\"color:red\">-0.000</span> + <span style=\"color:blue\">+0.047</span> = <span style=\"color:red; text-decoration:underline\">-0.071</span></div><div style=\"font-family:monaco; font-size:12px\">dL/dw5 = <span style=\"color:blue\">+0.057</span> + <span style=\"color:blue\">+0.000</span> + <span style=\"color:blue\">+0.002</span> + <span style=\"color:red\">-0.041</span> + <span style=\"color:blue\">+0.004</span> + <span style=\"color:red\">-0.003</span> + <span style=\"color:red\">-0.014</span> + <span style=\"color:blue\">+0.093</span> = <span style=\"color:blue; text-decoration:underline\">+0.098</span></div>"
      ],
      "text/plain": [
       "<IPython.core.display.Markdown object>"
      ]
     },
     "metadata": {},
     "output_type": "display_data"
    },
    {
     "name": "stdout",
     "output_type": "stream",
     "text": [
      "w1=+0.628, w2=+0.075, w3=+1.000, w4=+0.624, w5=-0.139\n",
      "\n"
     ]
    },
    {
     "data": {
      "text/markdown": [
       "**Iteration 31**"
      ],
      "text/plain": [
       "<IPython.core.display.Markdown object>"
      ]
     },
     "metadata": {},
     "output_type": "display_data"
    },
    {
     "name": "stdout",
     "output_type": "stream",
     "text": [
      "Output: [+0.583, +0.498, +0.595, +0.672, +0.594, +0.605, +0.521, +0.437]\n",
      "Target: [+0.500, +0.500, +0.731, +0.731, +0.731, +0.500, +0.500, +0.500]\n",
      "Memory: [+0.333, -0.007, +0.385, +0.719, +0.379, +0.425, +0.085, -0.255]\n",
      "Input : [+0.687, -0.701, +0.628, +0.687, -0.701, +0.075, -0.701, -0.701]\n",
      "Gate  : [+0.485, +0.485, +0.624, +0.485, +0.485, +0.624, +0.485, +0.485]\n"
     ]
    },
    {
     "data": {
      "text/markdown": [
       "<div>Loss: **0.13507** = <span style=\"font-family:monaco\">0.014 + 0.000 + 0.040 + 0.008 + 0.041 + 0.022 + 0.001 + 0.008</span></div><div style=\"font-family:monaco; font-size:12px\">dL/dw1 = <span style=\"color:blue\">+0.039</span> + <span style=\"color:blue\">+0.000</span> + <span style=\"color:red\">-0.083</span> + <span style=\"color:red\">-0.064</span> + <span style=\"color:red\">-0.083</span> + <span style=\"color:blue\">+0.063</span> + <span style=\"color:blue\">+0.002</span> + <span style=\"color:blue\">+0.023</span> = <span style=\"color:red; text-decoration:underline\">-0.102</span></div><div style=\"font-family:monaco; font-size:12px\">dL/dw2 = <span style=\"color:blue\">+0.041</span> + <span style=\"color:red\">-0.000</span> + <span style=\"color:red\">-0.002</span> + <span style=\"color:red\">-0.030</span> + <span style=\"color:red\">-0.003</span> + <span style=\"color:blue\">+0.068</span> + <span style=\"color:blue\">+0.003</span> + <span style=\"color:blue\">+0.021</span> = <span style=\"color:blue; text-decoration:underline\">+0.098</span></div><div style=\"font-family:monaco; font-size:12px\">dL/dw4 = <span style=\"color:blue\">+0.057</span> + <span style=\"color:blue\">+0.000</span> + <span style=\"color:red\">-0.083</span> + <span style=\"color:red\">-0.076</span> + <span style=\"color:red\">-0.083</span> + <span style=\"color:blue\">+0.071</span> + <span style=\"color:red\">-0.001</span> + <span style=\"color:blue\">+0.046</span> = <span style=\"color:red; text-decoration:underline\">-0.070</span></div><div style=\"font-family:monaco; font-size:12px\">dL/dw5 = <span style=\"color:blue\">+0.057</span> + <span style=\"color:blue\">+0.000</span> + <span style=\"color:blue\">+0.002</span> + <span style=\"color:red\">-0.040</span> + <span style=\"color:blue\">+0.004</span> + <span style=\"color:red\">-0.003</span> + <span style=\"color:red\">-0.016</span> + <span style=\"color:blue\">+0.091</span> = <span style=\"color:blue; text-decoration:underline\">+0.095</span></div>"
      ],
      "text/plain": [
       "<IPython.core.display.Markdown object>"
      ]
     },
     "metadata": {},
     "output_type": "display_data"
    },
    {
     "name": "stdout",
     "output_type": "stream",
     "text": [
      "w1=+0.638, w2=+0.065, w3=+1.000, w4=+0.631, w5=-0.148\n",
      "\n"
     ]
    },
    {
     "data": {
      "text/markdown": [
       "**Iteration 32**"
      ],
      "text/plain": [
       "<IPython.core.display.Markdown object>"
      ]
     },
     "metadata": {},
     "output_type": "display_data"
    },
    {
     "name": "stdout",
     "output_type": "stream",
     "text": [
      "Output: [+0.582, +0.498, +0.598, +0.674, +0.596, +0.606, +0.523, +0.439]\n",
      "Target: [+0.500, +0.500, +0.731, +0.731, +0.731, +0.500, +0.500, +0.500]\n",
      "Memory: [+0.332, -0.007, +0.396, +0.727, +0.389, +0.430, +0.092, -0.247]\n",
      "Input : [+0.687, -0.701, +0.638, +0.687, -0.701, +0.065, -0.701, -0.701]\n",
      "Gate  : [+0.483, +0.483, +0.631, +0.483, +0.483, +0.631, +0.483, +0.483]\n"
     ]
    },
    {
     "data": {
      "text/markdown": [
       "<div>Loss: **0.13171** = <span style=\"font-family:monaco\">0.014 + 0.000 + 0.039 + 0.008 + 0.040 + 0.023 + 0.001 + 0.008</span></div><div style=\"font-family:monaco; font-size:12px\">dL/dw1 = <span style=\"color:blue\">+0.039</span> + <span style=\"color:blue\">+0.000</span> + <span style=\"color:red\">-0.083</span> + <span style=\"color:red\">-0.062</span> + <span style=\"color:red\">-0.082</span> + <span style=\"color:blue\">+0.064</span> + <span style=\"color:blue\">+0.003</span> + <span style=\"color:blue\">+0.022</span> = <span style=\"color:red; text-decoration:underline\">-0.099</span></div><div style=\"font-family:monaco; font-size:12px\">dL/dw2 = <span style=\"color:blue\">+0.041</span> + <span style=\"color:red\">-0.000</span> + <span style=\"color:red\">-0.002</span> + <span style=\"color:red\">-0.029</span> + <span style=\"color:red\">-0.003</span> + <span style=\"color:blue\">+0.069</span> + <span style=\"color:blue\">+0.004</span> + <span style=\"color:blue\">+0.019</span> = <span style=\"color:blue; text-decoration:underline\">+0.099</span></div><div style=\"font-family:monaco; font-size:12px\">dL/dw4 = <span style=\"color:blue\">+0.056</span> + <span style=\"color:blue\">+0.000</span> + <span style=\"color:red\">-0.083</span> + <span style=\"color:red\">-0.075</span> + <span style=\"color:red\">-0.082</span> + <span style=\"color:blue\">+0.071</span> + <span style=\"color:red\">-0.001</span> + <span style=\"color:blue\">+0.045</span> = <span style=\"color:red; text-decoration:underline\">-0.068</span></div><div style=\"font-family:monaco; font-size:12px\">dL/dw5 = <span style=\"color:blue\">+0.056</span> + <span style=\"color:blue\">+0.000</span> + <span style=\"color:blue\">+0.002</span> + <span style=\"color:red\">-0.038</span> + <span style=\"color:blue\">+0.004</span> + <span style=\"color:red\">-0.003</span> + <span style=\"color:red\">-0.017</span> + <span style=\"color:blue\">+0.088</span> = <span style=\"color:blue; text-decoration:underline\">+0.092</span></div>"
      ],
      "text/plain": [
       "<IPython.core.display.Markdown object>"
      ]
     },
     "metadata": {},
     "output_type": "display_data"
    },
    {
     "name": "stdout",
     "output_type": "stream",
     "text": [
      "w1=+0.648, w2=+0.055, w3=+1.000, w4=+0.638, w5=-0.158\n",
      "\n"
     ]
    },
    {
     "data": {
      "text/markdown": [
       "**Iteration 33**"
      ],
      "text/plain": [
       "<IPython.core.display.Markdown object>"
      ]
     },
     "metadata": {},
     "output_type": "display_data"
    },
    {
     "name": "stdout",
     "output_type": "stream",
     "text": [
      "Output: [+0.582, +0.498, +0.600, +0.676, +0.598, +0.607, +0.524, +0.441]\n",
      "Target: [+0.500, +0.500, +0.731, +0.731, +0.731, +0.500, +0.500, +0.500]\n",
      "Memory: [+0.330, -0.007, +0.406, +0.736, +0.399, +0.434, +0.098, -0.239]\n",
      "Input : [+0.686, -0.701, +0.648, +0.686, -0.701, +0.055, -0.701, -0.701]\n",
      "Gate  : [+0.480, +0.480, +0.638, +0.480, +0.480, +0.638, +0.480, +0.480]\n"
     ]
    },
    {
     "data": {
      "text/markdown": [
       "<div>Loss: **0.12846** = <span style=\"font-family:monaco\">0.014 + 0.000 + 0.038 + 0.007 + 0.039 + 0.023 + 0.001 + 0.007</span></div><div style=\"font-family:monaco; font-size:12px\">dL/dw1 = <span style=\"color:blue\">+0.038</span> + <span style=\"color:blue\">+0.000</span> + <span style=\"color:red\">-0.082</span> + <span style=\"color:red\">-0.060</span> + <span style=\"color:red\">-0.081</span> + <span style=\"color:blue\">+0.066</span> + <span style=\"color:blue\">+0.003</span> + <span style=\"color:blue\">+0.020</span> = <span style=\"color:red; text-decoration:underline\">-0.096</span></div><div style=\"font-family:monaco; font-size:12px\">dL/dw2 = <span style=\"color:blue\">+0.040</span> + <span style=\"color:red\">-0.000</span> + <span style=\"color:red\">-0.002</span> + <span style=\"color:red\">-0.028</span> + <span style=\"color:red\">-0.003</span> + <span style=\"color:blue\">+0.071</span> + <span style=\"color:blue\">+0.004</span> + <span style=\"color:blue\">+0.018</span> = <span style=\"color:blue; text-decoration:underline\">+0.101</span></div><div style=\"font-family:monaco; font-size:12px\">dL/dw4 = <span style=\"color:blue\">+0.056</span> + <span style=\"color:blue\">+0.000</span> + <span style=\"color:red\">-0.083</span> + <span style=\"color:red\">-0.073</span> + <span style=\"color:red\">-0.082</span> + <span style=\"color:blue\">+0.072</span> + <span style=\"color:red\">-0.001</span> + <span style=\"color:blue\">+0.043</span> = <span style=\"color:red; text-decoration:underline\">-0.067</span></div><div style=\"font-family:monaco; font-size:12px\">dL/dw5 = <span style=\"color:blue\">+0.056</span> + <span style=\"color:blue\">+0.000</span> + <span style=\"color:blue\">+0.002</span> + <span style=\"color:red\">-0.037</span> + <span style=\"color:blue\">+0.004</span> + <span style=\"color:red\">-0.003</span> + <span style=\"color:red\">-0.018</span> + <span style=\"color:blue\">+0.085</span> = <span style=\"color:blue; text-decoration:underline\">+0.089</span></div>"
      ],
      "text/plain": [
       "<IPython.core.display.Markdown object>"
      ]
     },
     "metadata": {},
     "output_type": "display_data"
    },
    {
     "name": "stdout",
     "output_type": "stream",
     "text": [
      "w1=+0.658, w2=+0.045, w3=+1.000, w4=+0.644, w5=-0.166\n",
      "\n"
     ]
    },
    {
     "data": {
      "text/markdown": [
       "**Iteration 34**"
      ],
      "text/plain": [
       "<IPython.core.display.Markdown object>"
      ]
     },
     "metadata": {},
     "output_type": "display_data"
    },
    {
     "name": "stdout",
     "output_type": "stream",
     "text": [
      "Output: [+0.581, +0.498, +0.603, +0.678, +0.601, +0.608, +0.526, +0.442]\n",
      "Target: [+0.500, +0.500, +0.731, +0.731, +0.731, +0.500, +0.500, +0.500]\n",
      "Memory: [+0.328, -0.007, +0.416, +0.744, +0.409, +0.438, +0.103, -0.231]\n",
      "Input : [+0.685, -0.701, +0.658, +0.685, -0.701, +0.045, -0.701, -0.701]\n",
      "Gate  : [+0.478, +0.478, +0.644, +0.478, +0.478, +0.644, +0.478, +0.478]\n"
     ]
    },
    {
     "data": {
      "text/markdown": [
       "<div>Loss: **0.12531** = <span style=\"font-family:monaco\">0.013 + 0.000 + 0.036 + 0.007 + 0.037 + 0.024 + 0.001 + 0.007</span></div><div style=\"font-family:monaco; font-size:12px\">dL/dw1 = <span style=\"color:blue\">+0.038</span> + <span style=\"color:blue\">+0.000</span> + <span style=\"color:red\">-0.081</span> + <span style=\"color:red\">-0.058</span> + <span style=\"color:red\">-0.081</span> + <span style=\"color:blue\">+0.067</span> + <span style=\"color:blue\">+0.004</span> + <span style=\"color:blue\">+0.019</span> = <span style=\"color:red; text-decoration:underline\">-0.093</span></div><div style=\"font-family:monaco; font-size:12px\">dL/dw2 = <span style=\"color:blue\">+0.040</span> + <span style=\"color:red\">-0.000</span> + <span style=\"color:red\">-0.002</span> + <span style=\"color:red\">-0.027</span> + <span style=\"color:red\">-0.003</span> + <span style=\"color:blue\">+0.072</span> + <span style=\"color:blue\">+0.005</span> + <span style=\"color:blue\">+0.017</span> = <span style=\"color:blue; text-decoration:underline\">+0.102</span></div><div style=\"font-family:monaco; font-size:12px\">dL/dw4 = <span style=\"color:blue\">+0.056</span> + <span style=\"color:blue\">+0.000</span> + <span style=\"color:red\">-0.082</span> + <span style=\"color:red\">-0.071</span> + <span style=\"color:red\">-0.082</span> + <span style=\"color:blue\">+0.073</span> + <span style=\"color:red\">-0.001</span> + <span style=\"color:blue\">+0.042</span> = <span style=\"color:red; text-decoration:underline\">-0.065</span></div><div style=\"font-family:monaco; font-size:12px\">dL/dw5 = <span style=\"color:blue\">+0.056</span> + <span style=\"color:blue\">+0.000</span> + <span style=\"color:blue\">+0.002</span> + <span style=\"color:red\">-0.036</span> + <span style=\"color:blue\">+0.004</span> + <span style=\"color:red\">-0.003</span> + <span style=\"color:red\">-0.019</span> + <span style=\"color:blue\">+0.082</span> = <span style=\"color:blue; text-decoration:underline\">+0.086</span></div>"
      ],
      "text/plain": [
       "<IPython.core.display.Markdown object>"
      ]
     },
     "metadata": {},
     "output_type": "display_data"
    },
    {
     "name": "stdout",
     "output_type": "stream",
     "text": [
      "w1=+0.667, w2=+0.035, w3=+1.000, w4=+0.651, w5=-0.175\n",
      "\n"
     ]
    },
    {
     "data": {
      "text/markdown": [
       "**Iteration 35**"
      ],
      "text/plain": [
       "<IPython.core.display.Markdown object>"
      ]
     },
     "metadata": {},
     "output_type": "display_data"
    },
    {
     "name": "stdout",
     "output_type": "stream",
     "text": [
      "Output: [+0.581, +0.498, +0.605, +0.680, +0.603, +0.609, +0.527, +0.444]\n",
      "Target: [+0.500, +0.500, +0.731, +0.731, +0.731, +0.500, +0.500, +0.500]\n",
      "Memory: [+0.325, -0.007, +0.427, +0.752, +0.419, +0.442, +0.109, -0.224]\n",
      "Input : [+0.684, -0.700, +0.667, +0.684, -0.700, +0.035, -0.700, -0.700]\n",
      "Gate  : [+0.476, +0.476, +0.651, +0.476, +0.476, +0.651, +0.476, +0.476]\n"
     ]
    },
    {
     "data": {
      "text/markdown": [
       "<div>Loss: **0.12226** = <span style=\"font-family:monaco\">0.013 + 0.000 + 0.035 + 0.006 + 0.036 + 0.024 + 0.001 + 0.006</span></div><div style=\"font-family:monaco; font-size:12px\">dL/dw1 = <span style=\"color:blue\">+0.037</span> + <span style=\"color:blue\">+0.000</span> + <span style=\"color:red\">-0.081</span> + <span style=\"color:red\">-0.057</span> + <span style=\"color:red\">-0.080</span> + <span style=\"color:blue\">+0.068</span> + <span style=\"color:blue\">+0.004</span> + <span style=\"color:blue\">+0.018</span> = <span style=\"color:red; text-decoration:underline\">-0.090</span></div><div style=\"font-family:monaco; font-size:12px\">dL/dw2 = <span style=\"color:blue\">+0.040</span> + <span style=\"color:red\">-0.000</span> + <span style=\"color:red\">-0.002</span> + <span style=\"color:red\">-0.026</span> + <span style=\"color:red\">-0.003</span> + <span style=\"color:blue\">+0.073</span> + <span style=\"color:blue\">+0.005</span> + <span style=\"color:blue\">+0.016</span> = <span style=\"color:blue; text-decoration:underline\">+0.103</span></div><div style=\"font-family:monaco; font-size:12px\">dL/dw4 = <span style=\"color:blue\">+0.055</span> + <span style=\"color:blue\">+0.000</span> + <span style=\"color:red\">-0.082</span> + <span style=\"color:red\">-0.069</span> + <span style=\"color:red\">-0.081</span> + <span style=\"color:blue\">+0.073</span> + <span style=\"color:red\">-0.001</span> + <span style=\"color:blue\">+0.041</span> = <span style=\"color:red; text-decoration:underline\">-0.064</span></div><div style=\"font-family:monaco; font-size:12px\">dL/dw5 = <span style=\"color:blue\">+0.055</span> + <span style=\"color:blue\">+0.000</span> + <span style=\"color:blue\">+0.002</span> + <span style=\"color:red\">-0.034</span> + <span style=\"color:blue\">+0.004</span> + <span style=\"color:red\">-0.003</span> + <span style=\"color:red\">-0.020</span> + <span style=\"color:blue\">+0.080</span> = <span style=\"color:blue; text-decoration:underline\">+0.083</span></div>"
      ],
      "text/plain": [
       "<IPython.core.display.Markdown object>"
      ]
     },
     "metadata": {},
     "output_type": "display_data"
    },
    {
     "name": "stdout",
     "output_type": "stream",
     "text": [
      "w1=+0.676, w2=+0.025, w3=+1.000, w4=+0.657, w5=-0.183\n",
      "\n"
     ]
    },
    {
     "data": {
      "text/markdown": [
       "**Iteration 36**"
      ],
      "text/plain": [
       "<IPython.core.display.Markdown object>"
      ]
     },
     "metadata": {},
     "output_type": "display_data"
    },
    {
     "name": "stdout",
     "output_type": "stream",
     "text": [
      "Output: [+0.580, +0.498, +0.607, +0.681, +0.606, +0.609, +0.529, +0.446]\n",
      "Target: [+0.500, +0.500, +0.731, +0.731, +0.731, +0.500, +0.500, +0.500]\n",
      "Memory: [+0.323, -0.008, +0.437, +0.760, +0.429, +0.445, +0.114, -0.217]\n",
      "Input : [+0.682, -0.698, +0.676, +0.682, -0.698, +0.025, -0.698, -0.698]\n",
      "Gate  : [+0.474, +0.474, +0.657, +0.474, +0.474, +0.657, +0.474, +0.474]\n"
     ]
    },
    {
     "data": {
      "text/markdown": [
       "<div>Loss: **0.11931** = <span style=\"font-family:monaco\">0.013 + 0.000 + 0.034 + 0.006 + 0.035 + 0.025 + 0.002 + 0.006</span></div><div style=\"font-family:monaco; font-size:12px\">dL/dw1 = <span style=\"color:blue\">+0.037</span> + <span style=\"color:blue\">+0.000</span> + <span style=\"color:red\">-0.080</span> + <span style=\"color:red\">-0.055</span> + <span style=\"color:red\">-0.080</span> + <span style=\"color:blue\">+0.069</span> + <span style=\"color:blue\">+0.005</span> + <span style=\"color:blue\">+0.017</span> = <span style=\"color:red; text-decoration:underline\">-0.087</span></div><div style=\"font-family:monaco; font-size:12px\">dL/dw2 = <span style=\"color:blue\">+0.039</span> + <span style=\"color:red\">-0.000</span> + <span style=\"color:red\">-0.002</span> + <span style=\"color:red\">-0.025</span> + <span style=\"color:red\">-0.003</span> + <span style=\"color:blue\">+0.075</span> + <span style=\"color:blue\">+0.006</span> + <span style=\"color:blue\">+0.015</span> = <span style=\"color:blue; text-decoration:underline\">+0.105</span></div><div style=\"font-family:monaco; font-size:12px\">dL/dw4 = <span style=\"color:blue\">+0.055</span> + <span style=\"color:blue\">+0.000</span> + <span style=\"color:red\">-0.082</span> + <span style=\"color:red\">-0.067</span> + <span style=\"color:red\">-0.081</span> + <span style=\"color:blue\">+0.073</span> + <span style=\"color:red\">-0.001</span> + <span style=\"color:blue\">+0.039</span> = <span style=\"color:red; text-decoration:underline\">-0.063</span></div><div style=\"font-family:monaco; font-size:12px\">dL/dw5 = <span style=\"color:blue\">+0.055</span> + <span style=\"color:blue\">+0.000</span> + <span style=\"color:blue\">+0.002</span> + <span style=\"color:red\">-0.033</span> + <span style=\"color:blue\">+0.004</span> + <span style=\"color:red\">-0.004</span> + <span style=\"color:red\">-0.021</span> + <span style=\"color:blue\">+0.077</span> = <span style=\"color:blue; text-decoration:underline\">+0.080</span></div>"
      ],
      "text/plain": [
       "<IPython.core.display.Markdown object>"
      ]
     },
     "metadata": {},
     "output_type": "display_data"
    },
    {
     "name": "stdout",
     "output_type": "stream",
     "text": [
      "w1=+0.684, w2=+0.014, w3=+1.000, w4=+0.664, w5=-0.191\n",
      "\n"
     ]
    },
    {
     "data": {
      "text/markdown": [
       "**Iteration 37**"
      ],
      "text/plain": [
       "<IPython.core.display.Markdown object>"
      ]
     },
     "metadata": {},
     "output_type": "display_data"
    },
    {
     "name": "stdout",
     "output_type": "stream",
     "text": [
      "Output: [+0.580, +0.498, +0.610, +0.683, +0.608, +0.610, +0.530, +0.448]\n",
      "Target: [+0.500, +0.500, +0.731, +0.731, +0.731, +0.500, +0.500, +0.500]\n",
      "Memory: [+0.321, -0.008, +0.446, +0.767, +0.439, +0.448, +0.119, -0.210]\n",
      "Input : [+0.680, -0.696, +0.684, +0.680, -0.696, +0.014, -0.696, -0.696]\n",
      "Gate  : [+0.472, +0.472, +0.664, +0.472, +0.472, +0.664, +0.472, +0.472]\n"
     ]
    },
    {
     "data": {
      "text/markdown": [
       "<div>Loss: **0.11644** = <span style=\"font-family:monaco\">0.013 + 0.000 + 0.033 + 0.006 + 0.033 + 0.025 + 0.002 + 0.005</span></div><div style=\"font-family:monaco; font-size:12px\">dL/dw1 = <span style=\"color:blue\">+0.037</span> + <span style=\"color:blue\">+0.000</span> + <span style=\"color:red\">-0.079</span> + <span style=\"color:red\">-0.053</span> + <span style=\"color:red\">-0.079</span> + <span style=\"color:blue\">+0.071</span> + <span style=\"color:blue\">+0.005</span> + <span style=\"color:blue\">+0.016</span> = <span style=\"color:red; text-decoration:underline\">-0.084</span></div><div style=\"font-family:monaco; font-size:12px\">dL/dw2 = <span style=\"color:blue\">+0.039</span> + <span style=\"color:red\">-0.000</span> + <span style=\"color:red\">-0.001</span> + <span style=\"color:red\">-0.024</span> + <span style=\"color:red\">-0.003</span> + <span style=\"color:blue\">+0.076</span> + <span style=\"color:blue\">+0.006</span> + <span style=\"color:blue\">+0.014</span> = <span style=\"color:blue; text-decoration:underline\">+0.106</span></div><div style=\"font-family:monaco; font-size:12px\">dL/dw4 = <span style=\"color:blue\">+0.054</span> + <span style=\"color:blue\">+0.000</span> + <span style=\"color:red\">-0.081</span> + <span style=\"color:red\">-0.065</span> + <span style=\"color:red\">-0.080</span> + <span style=\"color:blue\">+0.073</span> + <span style=\"color:red\">-0.001</span> + <span style=\"color:blue\">+0.038</span> = <span style=\"color:red; text-decoration:underline\">-0.062</span></div><div style=\"font-family:monaco; font-size:12px\">dL/dw5 = <span style=\"color:blue\">+0.054</span> + <span style=\"color:blue\">+0.000</span> + <span style=\"color:blue\">+0.002</span> + <span style=\"color:red\">-0.032</span> + <span style=\"color:blue\">+0.004</span> + <span style=\"color:red\">-0.004</span> + <span style=\"color:red\">-0.022</span> + <span style=\"color:blue\">+0.074</span> = <span style=\"color:blue; text-decoration:underline\">+0.077</span></div>"
      ],
      "text/plain": [
       "<IPython.core.display.Markdown object>"
      ]
     },
     "metadata": {},
     "output_type": "display_data"
    },
    {
     "name": "stdout",
     "output_type": "stream",
     "text": [
      "w1=+0.693, w2=+0.004, w3=+1.000, w4=+0.670, w5=-0.199\n",
      "\n"
     ]
    },
    {
     "data": {
      "text/markdown": [
       "**Iteration 38**"
      ],
      "text/plain": [
       "<IPython.core.display.Markdown object>"
      ]
     },
     "metadata": {},
     "output_type": "display_data"
    },
    {
     "name": "stdout",
     "output_type": "stream",
     "text": [
      "Output: [+0.579, +0.498, +0.612, +0.684, +0.610, +0.611, +0.531, +0.449]\n",
      "Target: [+0.500, +0.500, +0.731, +0.731, +0.731, +0.500, +0.500, +0.500]\n",
      "Memory: [+0.319, -0.008, +0.456, +0.775, +0.448, +0.450, +0.124, -0.203]\n",
      "Input : [+0.677, -0.694, +0.693, +0.677, -0.694, +0.004, -0.694, -0.694]\n",
      "Gate  : [+0.471, +0.471, +0.670, +0.471, +0.471, +0.670, +0.471, +0.471]\n"
     ]
    },
    {
     "data": {
      "text/markdown": [
       "<div>Loss: **0.11366** = <span style=\"font-family:monaco\">0.013 + 0.000 + 0.031 + 0.005 + 0.032 + 0.025 + 0.002 + 0.005</span></div><div style=\"font-family:monaco; font-size:12px\">dL/dw1 = <span style=\"color:blue\">+0.036</span> + <span style=\"color:blue\">+0.000</span> + <span style=\"color:red\">-0.078</span> + <span style=\"color:red\">-0.052</span> + <span style=\"color:red\">-0.078</span> + <span style=\"color:blue\">+0.072</span> + <span style=\"color:blue\">+0.005</span> + <span style=\"color:blue\">+0.015</span> = <span style=\"color:red; text-decoration:underline\">-0.080</span></div><div style=\"font-family:monaco; font-size:12px\">dL/dw2 = <span style=\"color:blue\">+0.038</span> + <span style=\"color:red\">-0.000</span> + <span style=\"color:red\">-0.001</span> + <span style=\"color:red\">-0.023</span> + <span style=\"color:red\">-0.003</span> + <span style=\"color:blue\">+0.077</span> + <span style=\"color:blue\">+0.007</span> + <span style=\"color:blue\">+0.013</span> = <span style=\"color:blue; text-decoration:underline\">+0.107</span></div><div style=\"font-family:monaco; font-size:12px\">dL/dw4 = <span style=\"color:blue\">+0.053</span> + <span style=\"color:blue\">+0.000</span> + <span style=\"color:red\">-0.080</span> + <span style=\"color:red\">-0.063</span> + <span style=\"color:red\">-0.080</span> + <span style=\"color:blue\">+0.073</span> + <span style=\"color:red\">-0.001</span> + <span style=\"color:blue\">+0.037</span> = <span style=\"color:red; text-decoration:underline\">-0.061</span></div><div style=\"font-family:monaco; font-size:12px\">dL/dw5 = <span style=\"color:blue\">+0.053</span> + <span style=\"color:blue\">+0.000</span> + <span style=\"color:blue\">+0.002</span> + <span style=\"color:red\">-0.031</span> + <span style=\"color:blue\">+0.004</span> + <span style=\"color:red\">-0.004</span> + <span style=\"color:red\">-0.022</span> + <span style=\"color:blue\">+0.072</span> = <span style=\"color:blue; text-decoration:underline\">+0.075</span></div>"
      ],
      "text/plain": [
       "<IPython.core.display.Markdown object>"
      ]
     },
     "metadata": {},
     "output_type": "display_data"
    },
    {
     "name": "stdout",
     "output_type": "stream",
     "text": [
      "w1=+0.701, w2=-0.007, w3=+1.000, w4=+0.676, w5=-0.207\n",
      "\n"
     ]
    },
    {
     "data": {
      "text/markdown": [
       "**Iteration 39**"
      ],
      "text/plain": [
       "<IPython.core.display.Markdown object>"
      ]
     },
     "metadata": {},
     "output_type": "display_data"
    },
    {
     "name": "stdout",
     "output_type": "stream",
     "text": [
      "Output: [+0.578, +0.498, +0.614, +0.686, +0.612, +0.611, +0.532, +0.451]\n",
      "Target: [+0.500, +0.500, +0.731, +0.731, +0.731, +0.500, +0.500, +0.500]\n",
      "Memory: [+0.316, -0.008, +0.465, +0.781, +0.457, +0.452, +0.128, -0.196]\n",
      "Input : [+0.674, -0.691, +0.701, +0.674, -0.691, -0.007, -0.691, -0.691]\n",
      "Gate  : [+0.469, +0.469, +0.676, +0.469, +0.469, +0.676, +0.469, +0.469]\n"
     ]
    },
    {
     "data": {
      "text/markdown": [
       "<div>Loss: **0.11097** = <span style=\"font-family:monaco\">0.012 + 0.000 + 0.030 + 0.005 + 0.031 + 0.025 + 0.002 + 0.005</span></div><div style=\"font-family:monaco; font-size:12px\">dL/dw1 = <span style=\"color:blue\">+0.036</span> + <span style=\"color:blue\">+0.000</span> + <span style=\"color:red\">-0.078</span> + <span style=\"color:red\">-0.050</span> + <span style=\"color:red\">-0.077</span> + <span style=\"color:blue\">+0.073</span> + <span style=\"color:blue\">+0.006</span> + <span style=\"color:blue\">+0.014</span> = <span style=\"color:red; text-decoration:underline\">-0.077</span></div><div style=\"font-family:monaco; font-size:12px\">dL/dw2 = <span style=\"color:blue\">+0.038</span> + <span style=\"color:red\">-0.000</span> + <span style=\"color:red\">-0.001</span> + <span style=\"color:red\">-0.022</span> + <span style=\"color:red\">-0.003</span> + <span style=\"color:blue\">+0.078</span> + <span style=\"color:blue\">+0.007</span> + <span style=\"color:blue\">+0.012</span> = <span style=\"color:blue; text-decoration:underline\">+0.108</span></div><div style=\"font-family:monaco; font-size:12px\">dL/dw4 = <span style=\"color:blue\">+0.053</span> + <span style=\"color:blue\">+0.000</span> + <span style=\"color:red\">-0.080</span> + <span style=\"color:red\">-0.061</span> + <span style=\"color:red\">-0.079</span> + <span style=\"color:blue\">+0.073</span> + <span style=\"color:red\">-0.001</span> + <span style=\"color:blue\">+0.035</span> = <span style=\"color:red; text-decoration:underline\">-0.060</span></div><div style=\"font-family:monaco; font-size:12px\">dL/dw5 = <span style=\"color:blue\">+0.053</span> + <span style=\"color:blue\">+0.000</span> + <span style=\"color:blue\">+0.002</span> + <span style=\"color:red\">-0.030</span> + <span style=\"color:blue\">+0.004</span> + <span style=\"color:red\">-0.004</span> + <span style=\"color:red\">-0.023</span> + <span style=\"color:blue\">+0.069</span> = <span style=\"color:blue; text-decoration:underline\">+0.072</span></div>"
      ],
      "text/plain": [
       "<IPython.core.display.Markdown object>"
      ]
     },
     "metadata": {},
     "output_type": "display_data"
    },
    {
     "name": "stdout",
     "output_type": "stream",
     "text": [
      "w1=+0.709, w2=-0.018, w3=+1.000, w4=+0.682, w5=-0.214\n",
      "\n"
     ]
    },
    {
     "data": {
      "text/markdown": [
       "**Iteration 40**"
      ],
      "text/plain": [
       "<IPython.core.display.Markdown object>"
      ]
     },
     "metadata": {},
     "output_type": "display_data"
    },
    {
     "name": "stdout",
     "output_type": "stream",
     "text": [
      "Output: [+0.578, +0.498, +0.616, +0.687, +0.614, +0.612, +0.533, +0.453]\n",
      "Target: [+0.500, +0.500, +0.731, +0.731, +0.731, +0.500, +0.500, +0.500]\n",
      "Memory: [+0.314, -0.008, +0.475, +0.788, +0.466, +0.454, +0.132, -0.190]\n",
      "Input : [+0.670, -0.688, +0.709, +0.670, -0.688, -0.018, -0.688, -0.688]\n",
      "Gate  : [+0.468, +0.468, +0.682, +0.468, +0.468, +0.682, +0.468, +0.468]\n"
     ]
    },
    {
     "data": {
      "text/markdown": [
       "<div>Loss: **0.10835** = <span style=\"font-family:monaco\">0.012 + 0.000 + 0.029 + 0.005 + 0.030 + 0.026 + 0.002 + 0.005</span></div><div style=\"font-family:monaco; font-size:12px\">dL/dw1 = <span style=\"color:blue\">+0.035</span> + <span style=\"color:blue\">+0.000</span> + <span style=\"color:red\">-0.077</span> + <span style=\"color:red\">-0.049</span> + <span style=\"color:red\">-0.077</span> + <span style=\"color:blue\">+0.073</span> + <span style=\"color:blue\">+0.006</span> + <span style=\"color:blue\">+0.013</span> = <span style=\"color:red; text-decoration:underline\">-0.074</span></div><div style=\"font-family:monaco; font-size:12px\">dL/dw2 = <span style=\"color:blue\">+0.037</span> + <span style=\"color:red\">-0.000</span> + <span style=\"color:red\">-0.001</span> + <span style=\"color:red\">-0.022</span> + <span style=\"color:red\">-0.003</span> + <span style=\"color:blue\">+0.079</span> + <span style=\"color:blue\">+0.008</span> + <span style=\"color:blue\">+0.011</span> = <span style=\"color:blue; text-decoration:underline\">+0.109</span></div><div style=\"font-family:monaco; font-size:12px\">dL/dw4 = <span style=\"color:blue\">+0.052</span> + <span style=\"color:blue\">+0.000</span> + <span style=\"color:red\">-0.079</span> + <span style=\"color:red\">-0.059</span> + <span style=\"color:red\">-0.078</span> + <span style=\"color:blue\">+0.073</span> + <span style=\"color:red\">-0.001</span> + <span style=\"color:blue\">+0.034</span> = <span style=\"color:red; text-decoration:underline\">-0.059</span></div><div style=\"font-family:monaco; font-size:12px\">dL/dw5 = <span style=\"color:blue\">+0.052</span> + <span style=\"color:blue\">+0.000</span> + <span style=\"color:blue\">+0.002</span> + <span style=\"color:red\">-0.028</span> + <span style=\"color:blue\">+0.004</span> + <span style=\"color:red\">-0.004</span> + <span style=\"color:red\">-0.024</span> + <span style=\"color:blue\">+0.067</span> = <span style=\"color:blue; text-decoration:underline\">+0.069</span></div>"
      ],
      "text/plain": [
       "<IPython.core.display.Markdown object>"
      ]
     },
     "metadata": {},
     "output_type": "display_data"
    },
    {
     "name": "stdout",
     "output_type": "stream",
     "text": [
      "w1=+0.716, w2=-0.029, w3=+1.000, w4=+0.688, w5=-0.221\n",
      "\n"
     ]
    },
    {
     "data": {
      "text/markdown": [
       "**Iteration 41**"
      ],
      "text/plain": [
       "<IPython.core.display.Markdown object>"
      ]
     },
     "metadata": {},
     "output_type": "display_data"
    },
    {
     "name": "stdout",
     "output_type": "stream",
     "text": [
      "Output: [+0.577, +0.498, +0.619, +0.689, +0.617, +0.612, +0.534, +0.454]\n",
      "Target: [+0.500, +0.500, +0.731, +0.731, +0.731, +0.500, +0.500, +0.500]\n",
      "Memory: [+0.311, -0.009, +0.484, +0.795, +0.475, +0.455, +0.136, -0.184]\n",
      "Input : [+0.666, -0.684, +0.716, +0.666, -0.684, -0.029, -0.684, -0.684]\n",
      "Gate  : [+0.467, +0.467, +0.688, +0.467, +0.467, +0.688, +0.467, +0.467]\n"
     ]
    },
    {
     "data": {
      "text/markdown": [
       "<div>Loss: **0.10579** = <span style=\"font-family:monaco\">0.012 + 0.000 + 0.028 + 0.004 + 0.029 + 0.026 + 0.002 + 0.004</span></div><div style=\"font-family:monaco; font-size:12px\">dL/dw1 = <span style=\"color:blue\">+0.035</span> + <span style=\"color:blue\">+0.000</span> + <span style=\"color:red\">-0.076</span> + <span style=\"color:red\">-0.048</span> + <span style=\"color:red\">-0.076</span> + <span style=\"color:blue\">+0.074</span> + <span style=\"color:blue\">+0.007</span> + <span style=\"color:blue\">+0.012</span> = <span style=\"color:red; text-decoration:underline\">-0.071</span></div><div style=\"font-family:monaco; font-size:12px\">dL/dw2 = <span style=\"color:blue\">+0.037</span> + <span style=\"color:red\">-0.000</span> + <span style=\"color:red\">-0.001</span> + <span style=\"color:red\">-0.021</span> + <span style=\"color:red\">-0.003</span> + <span style=\"color:blue\">+0.080</span> + <span style=\"color:blue\">+0.008</span> + <span style=\"color:blue\">+0.010</span> = <span style=\"color:blue; text-decoration:underline\">+0.110</span></div><div style=\"font-family:monaco; font-size:12px\">dL/dw4 = <span style=\"color:blue\">+0.051</span> + <span style=\"color:blue\">+0.000</span> + <span style=\"color:red\">-0.078</span> + <span style=\"color:red\">-0.058</span> + <span style=\"color:red\">-0.078</span> + <span style=\"color:blue\">+0.073</span> + <span style=\"color:red\">-0.001</span> + <span style=\"color:blue\">+0.033</span> = <span style=\"color:red; text-decoration:underline\">-0.058</span></div><div style=\"font-family:monaco; font-size:12px\">dL/dw5 = <span style=\"color:blue\">+0.051</span> + <span style=\"color:blue\">+0.000</span> + <span style=\"color:blue\">+0.002</span> + <span style=\"color:red\">-0.027</span> + <span style=\"color:blue\">+0.004</span> + <span style=\"color:red\">-0.004</span> + <span style=\"color:red\">-0.024</span> + <span style=\"color:blue\">+0.065</span> = <span style=\"color:blue; text-decoration:underline\">+0.066</span></div>"
      ],
      "text/plain": [
       "<IPython.core.display.Markdown object>"
      ]
     },
     "metadata": {},
     "output_type": "display_data"
    },
    {
     "name": "stdout",
     "output_type": "stream",
     "text": [
      "w1=+0.723, w2=-0.040, w3=+1.000, w4=+0.693, w5=-0.227\n",
      "\n"
     ]
    },
    {
     "data": {
      "text/markdown": [
       "**Iteration 42**"
      ],
      "text/plain": [
       "<IPython.core.display.Markdown object>"
      ]
     },
     "metadata": {},
     "output_type": "display_data"
    },
    {
     "name": "stdout",
     "output_type": "stream",
     "text": [
      "Output: [+0.576, +0.498, +0.621, +0.690, +0.619, +0.612, +0.535, +0.456]\n",
      "Target: [+0.500, +0.500, +0.731, +0.731, +0.731, +0.500, +0.500, +0.500]\n",
      "Memory: [+0.308, -0.009, +0.493, +0.801, +0.484, +0.456, +0.139, -0.178]\n",
      "Input : [+0.662, -0.681, +0.723, +0.662, -0.681, -0.040, -0.681, -0.681]\n",
      "Gate  : [+0.466, +0.466, +0.693, +0.466, +0.466, +0.693, +0.466, +0.466]\n"
     ]
    },
    {
     "data": {
      "text/markdown": [
       "<div>Loss: **0.10331** = <span style=\"font-family:monaco\">0.012 + 0.000 + 0.027 + 0.004 + 0.028 + 0.026 + 0.002 + 0.004</span></div><div style=\"font-family:monaco; font-size:12px\">dL/dw1 = <span style=\"color:blue\">+0.035</span> + <span style=\"color:blue\">+0.000</span> + <span style=\"color:red\">-0.075</span> + <span style=\"color:red\">-0.046</span> + <span style=\"color:red\">-0.075</span> + <span style=\"color:blue\">+0.075</span> + <span style=\"color:blue\">+0.007</span> + <span style=\"color:blue\">+0.012</span> = <span style=\"color:red; text-decoration:underline\">-0.069</span></div><div style=\"font-family:monaco; font-size:12px\">dL/dw2 = <span style=\"color:blue\">+0.037</span> + <span style=\"color:red\">-0.000</span> + <span style=\"color:red\">-0.001</span> + <span style=\"color:red\">-0.020</span> + <span style=\"color:red\">-0.003</span> + <span style=\"color:blue\">+0.080</span> + <span style=\"color:blue\">+0.009</span> + <span style=\"color:blue\">+0.010</span> = <span style=\"color:blue; text-decoration:underline\">+0.111</span></div><div style=\"font-family:monaco; font-size:12px\">dL/dw4 = <span style=\"color:blue\">+0.051</span> + <span style=\"color:blue\">+0.000</span> + <span style=\"color:red\">-0.078</span> + <span style=\"color:red\">-0.056</span> + <span style=\"color:red\">-0.077</span> + <span style=\"color:blue\">+0.072</span> + <span style=\"color:red\">-0.001</span> + <span style=\"color:blue\">+0.032</span> = <span style=\"color:red; text-decoration:underline\">-0.057</span></div><div style=\"font-family:monaco; font-size:12px\">dL/dw5 = <span style=\"color:blue\">+0.051</span> + <span style=\"color:blue\">+0.000</span> + <span style=\"color:blue\">+0.002</span> + <span style=\"color:red\">-0.026</span> + <span style=\"color:blue\">+0.004</span> + <span style=\"color:red\">-0.004</span> + <span style=\"color:red\">-0.025</span> + <span style=\"color:blue\">+0.062</span> = <span style=\"color:blue; text-decoration:underline\">+0.064</span></div>"
      ],
      "text/plain": [
       "<IPython.core.display.Markdown object>"
      ]
     },
     "metadata": {},
     "output_type": "display_data"
    },
    {
     "name": "stdout",
     "output_type": "stream",
     "text": [
      "w1=+0.730, w2=-0.051, w3=+1.000, w4=+0.699, w5=-0.234\n",
      "\n"
     ]
    },
    {
     "data": {
      "text/markdown": [
       "**Iteration 43**"
      ],
      "text/plain": [
       "<IPython.core.display.Markdown object>"
      ]
     },
     "metadata": {},
     "output_type": "display_data"
    },
    {
     "name": "stdout",
     "output_type": "stream",
     "text": [
      "Output: [+0.576, +0.498, +0.623, +0.691, +0.621, +0.612, +0.535, +0.457]\n",
      "Target: [+0.500, +0.500, +0.731, +0.731, +0.731, +0.500, +0.500, +0.500]\n",
      "Memory: [+0.306, -0.009, +0.501, +0.807, +0.492, +0.457, +0.142, -0.173]\n",
      "Input : [+0.657, -0.676, +0.730, +0.657, -0.676, -0.051, -0.676, -0.676]\n",
      "Gate  : [+0.465, +0.465, +0.699, +0.465, +0.465, +0.699, +0.465, +0.465]\n"
     ]
    },
    {
     "data": {
      "text/markdown": [
       "<div>Loss: **0.10088** = <span style=\"font-family:monaco\">0.012 + 0.000 + 0.026 + 0.004 + 0.027 + 0.026 + 0.003 + 0.004</span></div><div style=\"font-family:monaco; font-size:12px\">dL/dw1 = <span style=\"color:blue\">+0.034</span> + <span style=\"color:blue\">+0.000</span> + <span style=\"color:red\">-0.074</span> + <span style=\"color:red\">-0.045</span> + <span style=\"color:red\">-0.075</span> + <span style=\"color:blue\">+0.076</span> + <span style=\"color:blue\">+0.008</span> + <span style=\"color:blue\">+0.011</span> = <span style=\"color:red; text-decoration:underline\">-0.066</span></div><div style=\"font-family:monaco; font-size:12px\">dL/dw2 = <span style=\"color:blue\">+0.036</span> + <span style=\"color:red\">-0.000</span> + <span style=\"color:red\">-0.001</span> + <span style=\"color:red\">-0.019</span> + <span style=\"color:red\">-0.003</span> + <span style=\"color:blue\">+0.081</span> + <span style=\"color:blue\">+0.009</span> + <span style=\"color:blue\">+0.009</span> = <span style=\"color:blue; text-decoration:underline\">+0.112</span></div><div style=\"font-family:monaco; font-size:12px\">dL/dw4 = <span style=\"color:blue\">+0.050</span> + <span style=\"color:blue\">+0.000</span> + <span style=\"color:red\">-0.077</span> + <span style=\"color:red\">-0.054</span> + <span style=\"color:red\">-0.076</span> + <span style=\"color:blue\">+0.072</span> + <span style=\"color:red\">-0.001</span> + <span style=\"color:blue\">+0.031</span> = <span style=\"color:red; text-decoration:underline\">-0.056</span></div><div style=\"font-family:monaco; font-size:12px\">dL/dw5 = <span style=\"color:blue\">+0.050</span> + <span style=\"color:blue\">+0.000</span> + <span style=\"color:blue\">+0.002</span> + <span style=\"color:red\">-0.025</span> + <span style=\"color:blue\">+0.004</span> + <span style=\"color:red\">-0.004</span> + <span style=\"color:red\">-0.025</span> + <span style=\"color:blue\">+0.060</span> = <span style=\"color:blue; text-decoration:underline\">+0.061</span></div>"
      ],
      "text/plain": [
       "<IPython.core.display.Markdown object>"
      ]
     },
     "metadata": {},
     "output_type": "display_data"
    },
    {
     "name": "stdout",
     "output_type": "stream",
     "text": [
      "w1=+0.737, w2=-0.062, w3=+1.000, w4=+0.705, w5=-0.240\n",
      "\n"
     ]
    },
    {
     "data": {
      "text/markdown": [
       "**Iteration 44**"
      ],
      "text/plain": [
       "<IPython.core.display.Markdown object>"
      ]
     },
     "metadata": {},
     "output_type": "display_data"
    },
    {
     "name": "stdout",
     "output_type": "stream",
     "text": [
      "Output: [+0.575, +0.498, +0.625, +0.693, +0.623, +0.612, +0.536, +0.458]\n",
      "Target: [+0.500, +0.500, +0.731, +0.731, +0.731, +0.500, +0.500, +0.500]\n",
      "Memory: [+0.303, -0.009, +0.510, +0.813, +0.501, +0.457, +0.145, -0.168]\n",
      "Input : [+0.652, -0.671, +0.737, +0.652, -0.671, -0.062, -0.671, -0.671]\n",
      "Gate  : [+0.465, +0.465, +0.705, +0.465, +0.465, +0.705, +0.465, +0.465]\n"
     ]
    },
    {
     "data": {
      "text/markdown": [
       "<div>Loss: **0.09851** = <span style=\"font-family:monaco\">0.011 + 0.000 + 0.025 + 0.004 + 0.026 + 0.026 + 0.003 + 0.004</span></div><div style=\"font-family:monaco; font-size:12px\">dL/dw1 = <span style=\"color:blue\">+0.034</span> + <span style=\"color:blue\">+0.000</span> + <span style=\"color:red\">-0.074</span> + <span style=\"color:red\">-0.044</span> + <span style=\"color:red\">-0.074</span> + <span style=\"color:blue\">+0.077</span> + <span style=\"color:blue\">+0.008</span> + <span style=\"color:blue\">+0.010</span> = <span style=\"color:red; text-decoration:underline\">-0.063</span></div><div style=\"font-family:monaco; font-size:12px\">dL/dw2 = <span style=\"color:blue\">+0.036</span> + <span style=\"color:red\">-0.000</span> + <span style=\"color:red\">-0.001</span> + <span style=\"color:red\">-0.019</span> + <span style=\"color:red\">-0.003</span> + <span style=\"color:blue\">+0.082</span> + <span style=\"color:blue\">+0.009</span> + <span style=\"color:blue\">+0.009</span> = <span style=\"color:blue; text-decoration:underline\">+0.113</span></div><div style=\"font-family:monaco; font-size:12px\">dL/dw4 = <span style=\"color:blue\">+0.049</span> + <span style=\"color:blue\">+0.000</span> + <span style=\"color:red\">-0.076</span> + <span style=\"color:red\">-0.052</span> + <span style=\"color:red\">-0.076</span> + <span style=\"color:blue\">+0.071</span> + <span style=\"color:red\">-0.001</span> + <span style=\"color:blue\">+0.030</span> = <span style=\"color:red; text-decoration:underline\">-0.056</span></div><div style=\"font-family:monaco; font-size:12px\">dL/dw5 = <span style=\"color:blue\">+0.049</span> + <span style=\"color:blue\">+0.000</span> + <span style=\"color:blue\">+0.002</span> + <span style=\"color:red\">-0.024</span> + <span style=\"color:blue\">+0.004</span> + <span style=\"color:red\">-0.004</span> + <span style=\"color:red\">-0.026</span> + <span style=\"color:blue\">+0.058</span> = <span style=\"color:blue; text-decoration:underline\">+0.059</span></div>"
      ],
      "text/plain": [
       "<IPython.core.display.Markdown object>"
      ]
     },
     "metadata": {},
     "output_type": "display_data"
    },
    {
     "name": "stdout",
     "output_type": "stream",
     "text": [
      "w1=+0.743, w2=-0.074, w3=+1.000, w4=+0.710, w5=-0.246\n",
      "\n"
     ]
    },
    {
     "data": {
      "text/markdown": [
       "**Iteration 45**"
      ],
      "text/plain": [
       "<IPython.core.display.Markdown object>"
      ]
     },
     "metadata": {},
     "output_type": "display_data"
    },
    {
     "name": "stdout",
     "output_type": "stream",
     "text": [
      "Output: [+0.574, +0.498, +0.627, +0.694, +0.625, +0.612, +0.537, +0.459]\n",
      "Target: [+0.500, +0.500, +0.731, +0.731, +0.731, +0.500, +0.500, +0.500]\n",
      "Memory: [+0.300, -0.009, +0.518, +0.818, +0.509, +0.457, +0.147, -0.163]\n",
      "Input : [+0.646, -0.666, +0.743, +0.646, -0.666, -0.074, -0.666, -0.666]\n",
      "Gate  : [+0.465, +0.465, +0.710, +0.465, +0.465, +0.710, +0.465, +0.465]\n"
     ]
    },
    {
     "data": {
      "text/markdown": [
       "<div>Loss: **0.09619** = <span style=\"font-family:monaco\">0.011 + 0.000 + 0.024 + 0.003 + 0.025 + 0.026 + 0.003 + 0.003</span></div><div style=\"font-family:monaco; font-size:12px\">dL/dw1 = <span style=\"color:blue\">+0.034</span> + <span style=\"color:blue\">+0.000</span> + <span style=\"color:red\">-0.073</span> + <span style=\"color:red\">-0.043</span> + <span style=\"color:red\">-0.073</span> + <span style=\"color:blue\">+0.077</span> + <span style=\"color:blue\">+0.008</span> + <span style=\"color:blue\">+0.010</span> = <span style=\"color:red; text-decoration:underline\">-0.060</span></div><div style=\"font-family:monaco; font-size:12px\">dL/dw2 = <span style=\"color:blue\">+0.036</span> + <span style=\"color:red\">-0.000</span> + <span style=\"color:red\">-0.001</span> + <span style=\"color:red\">-0.018</span> + <span style=\"color:red\">-0.003</span> + <span style=\"color:blue\">+0.082</span> + <span style=\"color:blue\">+0.010</span> + <span style=\"color:blue\">+0.008</span> = <span style=\"color:blue; text-decoration:underline\">+0.114</span></div><div style=\"font-family:monaco; font-size:12px\">dL/dw4 = <span style=\"color:blue\">+0.048</span> + <span style=\"color:blue\">+0.000</span> + <span style=\"color:red\">-0.075</span> + <span style=\"color:red\">-0.051</span> + <span style=\"color:red\">-0.075</span> + <span style=\"color:blue\">+0.071</span> + <span style=\"color:red\">-0.001</span> + <span style=\"color:blue\">+0.029</span> = <span style=\"color:red; text-decoration:underline\">-0.055</span></div><div style=\"font-family:monaco; font-size:12px\">dL/dw5 = <span style=\"color:blue\">+0.048</span> + <span style=\"color:blue\">+0.000</span> + <span style=\"color:blue\">+0.002</span> + <span style=\"color:red\">-0.023</span> + <span style=\"color:blue\">+0.004</span> + <span style=\"color:red\">-0.005</span> + <span style=\"color:red\">-0.026</span> + <span style=\"color:blue\">+0.056</span> = <span style=\"color:blue; text-decoration:underline\">+0.057</span></div>"
      ],
      "text/plain": [
       "<IPython.core.display.Markdown object>"
      ]
     },
     "metadata": {},
     "output_type": "display_data"
    },
    {
     "name": "stdout",
     "output_type": "stream",
     "text": [
      "w1=+0.749, w2=-0.085, w3=+1.000, w4=+0.716, w5=-0.251\n",
      "\n"
     ]
    },
    {
     "data": {
      "text/markdown": [
       "**Iteration 46**"
      ],
      "text/plain": [
       "<IPython.core.display.Markdown object>"
      ]
     },
     "metadata": {},
     "output_type": "display_data"
    },
    {
     "name": "stdout",
     "output_type": "stream",
     "text": [
      "Output: [+0.574, +0.498, +0.629, +0.695, +0.626, +0.612, +0.537, +0.461]\n",
      "Target: [+0.500, +0.500, +0.731, +0.731, +0.731, +0.500, +0.500, +0.500]\n",
      "Memory: [+0.297, -0.010, +0.526, +0.824, +0.517, +0.456, +0.149, -0.158]\n",
      "Input : [+0.640, -0.661, +0.749, +0.640, -0.661, -0.085, -0.661, -0.661]\n",
      "Gate  : [+0.464, +0.464, +0.716, +0.464, +0.464, +0.716, +0.464, +0.464]\n"
     ]
    },
    {
     "data": {
      "text/markdown": [
       "<div>Loss: **0.09392** = <span style=\"font-family:monaco\">0.011 + 0.000 + 0.024 + 0.003 + 0.025 + 0.026 + 0.003 + 0.003</span></div><div style=\"font-family:monaco; font-size:12px\">dL/dw1 = <span style=\"color:blue\">+0.033</span> + <span style=\"color:blue\">+0.000</span> + <span style=\"color:red\">-0.072</span> + <span style=\"color:red\">-0.042</span> + <span style=\"color:red\">-0.073</span> + <span style=\"color:blue\">+0.078</span> + <span style=\"color:blue\">+0.009</span> + <span style=\"color:blue\">+0.009</span> = <span style=\"color:red; text-decoration:underline\">-0.058</span></div><div style=\"font-family:monaco; font-size:12px\">dL/dw2 = <span style=\"color:blue\">+0.035</span> + <span style=\"color:red\">-0.000</span> + <span style=\"color:red\">-0.001</span> + <span style=\"color:red\">-0.018</span> + <span style=\"color:red\">-0.002</span> + <span style=\"color:blue\">+0.083</span> + <span style=\"color:blue\">+0.010</span> + <span style=\"color:blue\">+0.008</span> = <span style=\"color:blue; text-decoration:underline\">+0.115</span></div><div style=\"font-family:monaco; font-size:12px\">dL/dw4 = <span style=\"color:blue\">+0.047</span> + <span style=\"color:blue\">+0.000</span> + <span style=\"color:red\">-0.075</span> + <span style=\"color:red\">-0.049</span> + <span style=\"color:red\">-0.074</span> + <span style=\"color:blue\">+0.070</span> + <span style=\"color:red\">-0.001</span> + <span style=\"color:blue\">+0.028</span> = <span style=\"color:red; text-decoration:underline\">-0.055</span></div><div style=\"font-family:monaco; font-size:12px\">dL/dw5 = <span style=\"color:blue\">+0.047</span> + <span style=\"color:blue\">+0.000</span> + <span style=\"color:blue\">+0.002</span> + <span style=\"color:red\">-0.022</span> + <span style=\"color:blue\">+0.004</span> + <span style=\"color:red\">-0.005</span> + <span style=\"color:red\">-0.026</span> + <span style=\"color:blue\">+0.054</span> = <span style=\"color:blue; text-decoration:underline\">+0.054</span></div>"
      ],
      "text/plain": [
       "<IPython.core.display.Markdown object>"
      ]
     },
     "metadata": {},
     "output_type": "display_data"
    },
    {
     "name": "stdout",
     "output_type": "stream",
     "text": [
      "w1=+0.755, w2=-0.096, w3=+1.000, w4=+0.721, w5=-0.257\n",
      "\n"
     ]
    },
    {
     "data": {
      "text/markdown": [
       "**Iteration 47**"
      ],
      "text/plain": [
       "<IPython.core.display.Markdown object>"
      ]
     },
     "metadata": {},
     "output_type": "display_data"
    },
    {
     "name": "stdout",
     "output_type": "stream",
     "text": [
      "Output: [+0.573, +0.498, +0.631, +0.696, +0.628, +0.612, +0.538, +0.462]\n",
      "Target: [+0.500, +0.500, +0.731, +0.731, +0.731, +0.500, +0.500, +0.500]\n",
      "Memory: [+0.294, -0.010, +0.534, +0.829, +0.525, +0.455, +0.151, -0.154]\n",
      "Input : [+0.634, -0.655, +0.755, +0.634, -0.655, -0.096, -0.655, -0.655]\n",
      "Gate  : [+0.465, +0.465, +0.721, +0.465, +0.465, +0.721, +0.465, +0.465]\n"
     ]
    },
    {
     "data": {
      "text/markdown": [
       "<div>Loss: **0.09169** = <span style=\"font-family:monaco\">0.011 + 0.000 + 0.023 + 0.003 + 0.024 + 0.026 + 0.003 + 0.003</span></div><div style=\"font-family:monaco; font-size:12px\">dL/dw1 = <span style=\"color:blue\">+0.033</span> + <span style=\"color:blue\">+0.000</span> + <span style=\"color:red\">-0.071</span> + <span style=\"color:red\">-0.041</span> + <span style=\"color:red\">-0.072</span> + <span style=\"color:blue\">+0.078</span> + <span style=\"color:blue\">+0.009</span> + <span style=\"color:blue\">+0.009</span> = <span style=\"color:red; text-decoration:underline\">-0.055</span></div><div style=\"font-family:monaco; font-size:12px\">dL/dw2 = <span style=\"color:blue\">+0.035</span> + <span style=\"color:red\">-0.000</span> + <span style=\"color:red\">-0.001</span> + <span style=\"color:red\">-0.017</span> + <span style=\"color:red\">-0.002</span> + <span style=\"color:blue\">+0.083</span> + <span style=\"color:blue\">+0.010</span> + <span style=\"color:blue\">+0.007</span> = <span style=\"color:blue; text-decoration:underline\">+0.115</span></div><div style=\"font-family:monaco; font-size:12px\">dL/dw4 = <span style=\"color:blue\">+0.046</span> + <span style=\"color:blue\">+0.000</span> + <span style=\"color:red\">-0.074</span> + <span style=\"color:red\">-0.048</span> + <span style=\"color:red\">-0.073</span> + <span style=\"color:blue\">+0.069</span> + <span style=\"color:red\">-0.001</span> + <span style=\"color:blue\">+0.027</span> = <span style=\"color:red; text-decoration:underline\">-0.054</span></div><div style=\"font-family:monaco; font-size:12px\">dL/dw5 = <span style=\"color:blue\">+0.046</span> + <span style=\"color:blue\">+0.000</span> + <span style=\"color:blue\">+0.002</span> + <span style=\"color:red\">-0.021</span> + <span style=\"color:blue\">+0.004</span> + <span style=\"color:red\">-0.005</span> + <span style=\"color:red\">-0.026</span> + <span style=\"color:blue\">+0.052</span> = <span style=\"color:blue; text-decoration:underline\">+0.052</span></div>"
      ],
      "text/plain": [
       "<IPython.core.display.Markdown object>"
      ]
     },
     "metadata": {},
     "output_type": "display_data"
    },
    {
     "name": "stdout",
     "output_type": "stream",
     "text": [
      "w1=+0.760, w2=-0.108, w3=+1.000, w4=+0.727, w5=-0.262\n",
      "\n"
     ]
    },
    {
     "data": {
      "text/markdown": [
       "**Iteration 48**"
      ],
      "text/plain": [
       "<IPython.core.display.Markdown object>"
      ]
     },
     "metadata": {},
     "output_type": "display_data"
    },
    {
     "name": "stdout",
     "output_type": "stream",
     "text": [
      "Output: [+0.572, +0.497, +0.632, +0.697, +0.630, +0.612, +0.538, +0.463]\n",
      "Target: [+0.500, +0.500, +0.731, +0.731, +0.731, +0.500, +0.500, +0.500]\n",
      "Memory: [+0.292, -0.010, +0.542, +0.834, +0.532, +0.454, +0.152, -0.149]\n",
      "Input : [+0.627, -0.649, +0.760, +0.627, -0.649, -0.108, -0.649, -0.649]\n",
      "Gate  : [+0.465, +0.465, +0.727, +0.465, +0.465, +0.727, +0.465, +0.465]\n"
     ]
    },
    {
     "data": {
      "text/markdown": [
       "<div>Loss: **0.08950** = <span style=\"font-family:monaco\">0.011 + 0.000 + 0.022 + 0.003 + 0.023 + 0.026 + 0.003 + 0.003</span></div><div style=\"font-family:monaco; font-size:12px\">dL/dw1 = <span style=\"color:blue\">+0.033</span> + <span style=\"color:blue\">+0.000</span> + <span style=\"color:red\">-0.071</span> + <span style=\"color:red\">-0.040</span> + <span style=\"color:red\">-0.071</span> + <span style=\"color:blue\">+0.078</span> + <span style=\"color:blue\">+0.009</span> + <span style=\"color:blue\">+0.008</span> = <span style=\"color:red; text-decoration:underline\">-0.053</span></div><div style=\"font-family:monaco; font-size:12px\">dL/dw2 = <span style=\"color:blue\">+0.035</span> + <span style=\"color:red\">-0.000</span> + <span style=\"color:red\">-0.001</span> + <span style=\"color:red\">-0.017</span> + <span style=\"color:red\">-0.002</span> + <span style=\"color:blue\">+0.084</span> + <span style=\"color:blue\">+0.011</span> + <span style=\"color:blue\">+0.007</span> = <span style=\"color:blue; text-decoration:underline\">+0.116</span></div><div style=\"font-family:monaco; font-size:12px\">dL/dw4 = <span style=\"color:blue\">+0.045</span> + <span style=\"color:blue\">+0.000</span> + <span style=\"color:red\">-0.073</span> + <span style=\"color:red\">-0.046</span> + <span style=\"color:red\">-0.072</span> + <span style=\"color:blue\">+0.068</span> + <span style=\"color:red\">-0.002</span> + <span style=\"color:blue\">+0.026</span> = <span style=\"color:red; text-decoration:underline\">-0.054</span></div><div style=\"font-family:monaco; font-size:12px\">dL/dw5 = <span style=\"color:blue\">+0.045</span> + <span style=\"color:blue\">+0.000</span> + <span style=\"color:blue\">+0.002</span> + <span style=\"color:red\">-0.021</span> + <span style=\"color:blue\">+0.004</span> + <span style=\"color:red\">-0.005</span> + <span style=\"color:red\">-0.026</span> + <span style=\"color:blue\">+0.050</span> = <span style=\"color:blue; text-decoration:underline\">+0.050</span></div>"
      ],
      "text/plain": [
       "<IPython.core.display.Markdown object>"
      ]
     },
     "metadata": {},
     "output_type": "display_data"
    },
    {
     "name": "stdout",
     "output_type": "stream",
     "text": [
      "w1=+0.765, w2=-0.120, w3=+1.000, w4=+0.732, w5=-0.267\n",
      "\n"
     ]
    },
    {
     "data": {
      "text/markdown": [
       "**Iteration 49**"
      ],
      "text/plain": [
       "<IPython.core.display.Markdown object>"
      ]
     },
     "metadata": {},
     "output_type": "display_data"
    },
    {
     "name": "stdout",
     "output_type": "stream",
     "text": [
      "Output: [+0.572, +0.497, +0.634, +0.698, +0.632, +0.611, +0.538, +0.464]\n",
      "Target: [+0.500, +0.500, +0.731, +0.731, +0.731, +0.500, +0.500, +0.500]\n",
      "Memory: [+0.289, -0.010, +0.550, +0.839, +0.540, +0.452, +0.153, -0.145]\n",
      "Input : [+0.621, -0.643, +0.765, +0.621, -0.643, -0.120, -0.643, -0.643]\n",
      "Gate  : [+0.465, +0.465, +0.732, +0.465, +0.465, +0.732, +0.465, +0.465]\n"
     ]
    },
    {
     "data": {
      "text/markdown": [
       "<div>Loss: **0.08735** = <span style=\"font-family:monaco\">0.010 + 0.000 + 0.021 + 0.003 + 0.022 + 0.025 + 0.003 + 0.003</span></div><div style=\"font-family:monaco; font-size:12px\">dL/dw1 = <span style=\"color:blue\">+0.032</span> + <span style=\"color:blue\">+0.000</span> + <span style=\"color:red\">-0.070</span> + <span style=\"color:red\">-0.039</span> + <span style=\"color:red\">-0.070</span> + <span style=\"color:blue\">+0.079</span> + <span style=\"color:blue\">+0.009</span> + <span style=\"color:blue\">+0.008</span> = <span style=\"color:red; text-decoration:underline\">-0.050</span></div><div style=\"font-family:monaco; font-size:12px\">dL/dw2 = <span style=\"color:blue\">+0.034</span> + <span style=\"color:red\">-0.000</span> + <span style=\"color:red\">-0.001</span> + <span style=\"color:red\">-0.016</span> + <span style=\"color:red\">-0.002</span> + <span style=\"color:blue\">+0.084</span> + <span style=\"color:blue\">+0.011</span> + <span style=\"color:blue\">+0.006</span> = <span style=\"color:blue; text-decoration:underline\">+0.116</span></div><div style=\"font-family:monaco; font-size:12px\">dL/dw4 = <span style=\"color:blue\">+0.044</span> + <span style=\"color:blue\">+0.000</span> + <span style=\"color:red\">-0.072</span> + <span style=\"color:red\">-0.045</span> + <span style=\"color:red\">-0.072</span> + <span style=\"color:blue\">+0.067</span> + <span style=\"color:red\">-0.002</span> + <span style=\"color:blue\">+0.025</span> = <span style=\"color:red; text-decoration:underline\">-0.054</span></div><div style=\"font-family:monaco; font-size:12px\">dL/dw5 = <span style=\"color:blue\">+0.044</span> + <span style=\"color:blue\">+0.000</span> + <span style=\"color:blue\">+0.002</span> + <span style=\"color:red\">-0.020</span> + <span style=\"color:blue\">+0.004</span> + <span style=\"color:red\">-0.005</span> + <span style=\"color:red\">-0.026</span> + <span style=\"color:blue\">+0.048</span> = <span style=\"color:blue; text-decoration:underline\">+0.048</span></div>"
      ],
      "text/plain": [
       "<IPython.core.display.Markdown object>"
      ]
     },
     "metadata": {},
     "output_type": "display_data"
    },
    {
     "name": "stdout",
     "output_type": "stream",
     "text": [
      "w1=+0.770, w2=-0.131, w3=+1.000, w4=+0.738, w5=-0.272\n",
      "\n"
     ]
    },
    {
     "data": {
      "text/markdown": [
       "**Iteration 99**"
      ],
      "text/plain": [
       "<IPython.core.display.Markdown object>"
      ]
     },
     "metadata": {},
     "output_type": "display_data"
    },
    {
     "name": "stdout",
     "output_type": "stream",
     "text": [
      "Output: [+0.529, +0.494, +0.699, +0.723, +0.694, +0.547, +0.513, +0.478]\n",
      "Target: [+0.500, +0.500, +0.731, +0.731, +0.731, +0.500, +0.500, +0.500]\n",
      "Memory: [+0.116, -0.023, +0.842, +0.958, +0.820, +0.189, +0.051, -0.088]\n",
      "Input : [+0.192, -0.230, +0.866, +0.192, -0.230, -0.631, -0.230, -0.230]\n",
      "Gate  : [+0.603, +0.603, +0.998, +0.603, +0.603, +0.998, +0.603, +0.603]\n"
     ]
    },
    {
     "data": {
      "text/markdown": [
       "<div>Loss: **0.01347** = <span style=\"font-family:monaco\">0.002 + 0.000 + 0.003 + 0.000 + 0.003 + 0.004 + 0.000 + 0.001</span></div><div style=\"font-family:monaco; font-size:12px\">dL/dw1 = <span style=\"color:blue\">+0.017</span> + <span style=\"color:blue\">+0.000</span> + <span style=\"color:red\">-0.032</span> + <span style=\"color:red\">-0.013</span> + <span style=\"color:red\">-0.036</span> + <span style=\"color:blue\">+0.046</span> + <span style=\"color:blue\">+0.005</span> + <span style=\"color:blue\">+0.005</span> = <span style=\"color:red; text-decoration:underline\">-0.008</span></div><div style=\"font-family:monaco; font-size:12px\">dL/dw2 = <span style=\"color:blue\">+0.018</span> + <span style=\"color:red\">-0.000</span> + <span style=\"color:red\">-0.000</span> + <span style=\"color:red\">-0.005</span> + <span style=\"color:red\">-0.001</span> + <span style=\"color:blue\">+0.049</span> + <span style=\"color:blue\">+0.005</span> + <span style=\"color:blue\">+0.004</span> = <span style=\"color:blue; text-decoration:underline\">+0.069</span></div><div style=\"font-family:monaco; font-size:12px\">dL/dw4 = <span style=\"color:blue\">+0.006</span> + <span style=\"color:blue\">+0.000</span> + <span style=\"color:red\">-0.027</span> + <span style=\"color:red\">-0.008</span> + <span style=\"color:red\">-0.029</span> + <span style=\"color:blue\">+0.008</span> + <span style=\"color:red\">-0.001</span> + <span style=\"color:blue\">+0.007</span> = <span style=\"color:red; text-decoration:underline\">-0.045</span></div><div style=\"font-family:monaco; font-size:12px\">dL/dw5 = <span style=\"color:blue\">+0.006</span> + <span style=\"color:blue\">+0.000</span> + <span style=\"color:blue\">+0.001</span> + <span style=\"color:red\">-0.001</span> + <span style=\"color:blue\">+0.003</span> + <span style=\"color:red\">-0.004</span> + <span style=\"color:red\">-0.004</span> + <span style=\"color:blue\">+0.012</span> = <span style=\"color:blue; text-decoration:underline\">+0.013</span></div>"
      ],
      "text/plain": [
       "<IPython.core.display.Markdown object>"
      ]
     },
     "metadata": {},
     "output_type": "display_data"
    },
    {
     "name": "stdout",
     "output_type": "stream",
     "text": [
      "w1=+0.867, w2=-0.638, w3=+1.000, w4=+1.003, w5=-0.396\n",
      "\n"
     ]
    },
    {
     "data": {
      "text/markdown": [
       "**Iteration 149**"
      ],
      "text/plain": [
       "<IPython.core.display.Markdown object>"
      ]
     },
     "metadata": {},
     "output_type": "display_data"
    },
    {
     "name": "stdout",
     "output_type": "stream",
     "text": [
      "Output: [+0.505, +0.493, +0.726, +0.731, +0.720, +0.508, +0.495, +0.482]\n",
      "Target: [+0.500, +0.500, +0.731, +0.731, +0.731, +0.500, +0.500, +0.500]\n",
      "Memory: [+0.021, -0.030, +0.976, +0.997, +0.946, +0.031, -0.020, -0.071]\n",
      "Input : [+0.031, -0.074, +0.893, +0.031, -0.074, -0.813, -0.074, -0.074]\n",
      "Gate  : [+0.689, +0.689, +1.127, +0.689, +0.689, +1.127, +0.689, +0.689]\n"
     ]
    },
    {
     "data": {
      "text/markdown": [
       "<div>Loss: **0.00131** = <span style=\"font-family:monaco\">0.000 + 0.000 + 0.000 + 0.000 + 0.000 + 0.000 + 0.000 + 0.001</span></div><div style=\"font-family:monaco; font-size:12px\">dL/dw1 = <span style=\"color:blue\">+0.004</span> + <span style=\"color:blue\">+0.000</span> + <span style=\"color:red\">-0.005</span> + <span style=\"color:red\">-0.001</span> + <span style=\"color:red\">-0.012</span> + <span style=\"color:blue\">+0.008</span> + <span style=\"color:red\">-0.002</span> + <span style=\"color:blue\">+0.005</span> = <span style=\"color:red; text-decoration:underline\">-0.003</span></div><div style=\"font-family:monaco; font-size:12px\">dL/dw2 = <span style=\"color:blue\">+0.004</span> + <span style=\"color:red\">-0.000</span> + <span style=\"color:red\">-0.000</span> + <span style=\"color:red\">-0.000</span> + <span style=\"color:red\">-0.000</span> + <span style=\"color:blue\">+0.009</span> + <span style=\"color:red\">-0.002</span> + <span style=\"color:blue\">+0.004</span> = <span style=\"color:blue; text-decoration:underline\">+0.013</span></div><div style=\"font-family:monaco; font-size:12px\">dL/dw4 = <span style=\"color:blue\">+0.000</span> + <span style=\"color:blue\">+0.000</span> + <span style=\"color:red\">-0.004</span> + <span style=\"color:red\">-0.000</span> + <span style=\"color:red\">-0.009</span> + <span style=\"color:red\">-0.000</span> + <span style=\"color:blue\">+0.000</span> + <span style=\"color:blue\">+0.003</span> = <span style=\"color:red; text-decoration:underline\">-0.010</span></div><div style=\"font-family:monaco; font-size:12px\">dL/dw5 = <span style=\"color:blue\">+0.000</span> + <span style=\"color:blue\">+0.000</span> + <span style=\"color:blue\">+0.000</span> + <span style=\"color:blue\">+0.000</span> + <span style=\"color:blue\">+0.001</span> + <span style=\"color:red\">-0.001</span> + <span style=\"color:blue\">+0.001</span> + <span style=\"color:blue\">+0.004</span> = <span style=\"color:blue; text-decoration:underline\">+0.006</span></div>"
      ],
      "text/plain": [
       "<IPython.core.display.Markdown object>"
      ]
     },
     "metadata": {},
     "output_type": "display_data"
    },
    {
     "name": "stdout",
     "output_type": "stream",
     "text": [
      "w1=+0.893, w2=-0.814, w3=+1.000, w4=+1.128, w5=-0.438\n",
      "\n"
     ]
    },
    {
     "data": {
      "text/markdown": [
       "**Iteration 199**"
      ],
      "text/plain": [
       "<IPython.core.display.Markdown object>"
      ]
     },
     "metadata": {},
     "output_type": "display_data"
    },
    {
     "name": "stdout",
     "output_type": "stream",
     "text": [
      "Output: [+0.501, +0.492, +0.731, +0.732, +0.725, +0.501, +0.493, +0.484]\n",
      "Target: [+0.500, +0.500, +0.731, +0.731, +0.731, +0.500, +0.500, +0.500]\n",
      "Memory: [+0.005, -0.030, +1.001, +1.006, +0.971, +0.005, -0.029, -0.064]\n",
      "Input : [+0.007, -0.051, +0.901, +0.007, -0.051, -0.844, -0.051, -0.051]\n",
      "Gate  : [+0.682, +0.682, +1.145, +0.682, +0.682, +1.145, +0.682, +0.682]\n"
     ]
    },
    {
     "data": {
      "text/markdown": [
       "<div>Loss: **0.00083** = <span style=\"font-family:monaco\">0.000 + 0.000 + 0.000 + 0.000 + 0.000 + 0.000 + 0.000 + 0.001</span></div><div style=\"font-family:monaco; font-size:12px\">dL/dw1 = <span style=\"color:blue\">+0.001</span> + <span style=\"color:blue\">+0.000</span> + <span style=\"color:blue\">+0.000</span> + <span style=\"color:blue\">+0.002</span> + <span style=\"color:red\">-0.006</span> + <span style=\"color:blue\">+0.001</span> + <span style=\"color:red\">-0.003</span> + <span style=\"color:blue\">+0.004</span> = <span style=\"color:red; text-decoration:underline\">-0.001</span></div><div style=\"font-family:monaco; font-size:12px\">dL/dw2 = <span style=\"color:blue\">+0.001</span> + <span style=\"color:red\">-0.000</span> + <span style=\"color:blue\">+0.000</span> + <span style=\"color:blue\">+0.001</span> + <span style=\"color:red\">-0.000</span> + <span style=\"color:blue\">+0.002</span> + <span style=\"color:red\">-0.004</span> + <span style=\"color:blue\">+0.003</span> = <span style=\"color:blue; text-decoration:underline\">+0.002</span></div><div style=\"font-family:monaco; font-size:12px\">dL/dw4 = <span style=\"color:blue\">+0.000</span> + <span style=\"color:blue\">+0.000</span> + <span style=\"color:blue\">+0.000</span> + <span style=\"color:blue\">+0.001</span> + <span style=\"color:red\">-0.005</span> + <span style=\"color:red\">-0.000</span> + <span style=\"color:blue\">+0.001</span> + <span style=\"color:blue\">+0.002</span> = <span style=\"color:red; text-decoration:underline\">-0.000</span></div><div style=\"font-family:monaco; font-size:12px\">dL/dw5 = <span style=\"color:blue\">+0.000</span> + <span style=\"color:blue\">+0.000</span> + <span style=\"color:red\">-0.000</span> + <span style=\"color:red\">-0.000</span> + <span style=\"color:blue\">+0.001</span> + <span style=\"color:red\">-0.000</span> + <span style=\"color:blue\">+0.001</span> + <span style=\"color:blue\">+0.003</span> = <span style=\"color:blue; text-decoration:underline\">+0.005</span></div>"
      ],
      "text/plain": [
       "<IPython.core.display.Markdown object>"
      ]
     },
     "metadata": {},
     "output_type": "display_data"
    },
    {
     "name": "stdout",
     "output_type": "stream",
     "text": [
      "w1=+0.901, w2=-0.844, w3=+1.000, w4=+1.145, w5=-0.464\n",
      "\n"
     ]
    },
    {
     "data": {
      "text/markdown": [
       "**Iteration 249**"
      ],
      "text/plain": [
       "<IPython.core.display.Markdown object>"
      ]
     },
     "metadata": {},
     "output_type": "display_data"
    },
    {
     "name": "stdout",
     "output_type": "stream",
     "text": [
      "Output: [+0.501, +0.493, +0.732, +0.732, +0.726, +0.501, +0.493, +0.485]\n",
      "Target: [+0.500, +0.500, +0.731, +0.731, +0.731, +0.500, +0.500, +0.500]\n",
      "Memory: [+0.002, -0.029, +1.005, +1.007, +0.975, +0.004, -0.028, -0.059]\n",
      "Input : [+0.004, -0.048, +0.904, +0.004, -0.048, -0.850, -0.048, -0.048]\n",
      "Gate  : [+0.658, +0.658, +1.143, +0.658, +0.658, +1.143, +0.658, +0.658]\n"
     ]
    },
    {
     "data": {
      "text/markdown": [
       "<div>Loss: **0.00071** = <span style=\"font-family:monaco\">0.000 + 0.000 + 0.000 + 0.000 + 0.000 + 0.000 + 0.000 + 0.000</span></div><div style=\"font-family:monaco; font-size:12px\">dL/dw1 = <span style=\"color:blue\">+0.000</span> + <span style=\"color:blue\">+0.000</span> + <span style=\"color:blue\">+0.001</span> + <span style=\"color:blue\">+0.002</span> + <span style=\"color:red\">-0.005</span> + <span style=\"color:blue\">+0.001</span> + <span style=\"color:red\">-0.003</span> + <span style=\"color:blue\">+0.003</span> = <span style=\"color:red; text-decoration:underline\">-0.001</span></div><div style=\"font-family:monaco; font-size:12px\">dL/dw2 = <span style=\"color:blue\">+0.000</span> + <span style=\"color:red\">-0.000</span> + <span style=\"color:blue\">+0.000</span> + <span style=\"color:blue\">+0.001</span> + <span style=\"color:red\">-0.000</span> + <span style=\"color:blue\">+0.001</span> + <span style=\"color:red\">-0.004</span> + <span style=\"color:blue\">+0.002</span> = <span style=\"color:blue; text-decoration:underline\">+0.001</span></div><div style=\"font-family:monaco; font-size:12px\">dL/dw4 = <span style=\"color:blue\">+0.000</span> + <span style=\"color:blue\">+0.000</span> + <span style=\"color:blue\">+0.001</span> + <span style=\"color:blue\">+0.001</span> + <span style=\"color:red\">-0.004</span> + <span style=\"color:red\">-0.000</span> + <span style=\"color:blue\">+0.001</span> + <span style=\"color:blue\">+0.002</span> = <span style=\"color:blue; text-decoration:underline\">+0.001</span></div><div style=\"font-family:monaco; font-size:12px\">dL/dw5 = <span style=\"color:blue\">+0.000</span> + <span style=\"color:blue\">+0.000</span> + <span style=\"color:red\">-0.000</span> + <span style=\"color:red\">-0.000</span> + <span style=\"color:blue\">+0.000</span> + <span style=\"color:red\">-0.000</span> + <span style=\"color:blue\">+0.001</span> + <span style=\"color:blue\">+0.003</span> = <span style=\"color:blue; text-decoration:underline\">+0.004</span></div>"
      ],
      "text/plain": [
       "<IPython.core.display.Markdown object>"
      ]
     },
     "metadata": {},
     "output_type": "display_data"
    },
    {
     "name": "stdout",
     "output_type": "stream",
     "text": [
      "w1=+0.904, w2=-0.850, w3=+1.000, w4=+1.143, w5=-0.486\n",
      "\n"
     ]
    },
    {
     "data": {
      "text/plain": [
       "(0.9042009036925595,\n",
       " -0.8499553163497685,\n",
       " 1.0,\n",
       " 1.143132569098019,\n",
       " -0.48608710550315465)"
      ]
     },
     "execution_count": 120,
     "metadata": {},
     "output_type": "execute_result"
    }
   ],
   "source": [
    "experiment_gated('ab(ab)bb', _w1=1.0, _w2=1.0, _w4=1.0, _w5=1.0, alpha=1e-1, max_iter=250, fixed_w3=True)"
   ]
  },
  {
   "cell_type": "markdown",
   "metadata": {},
   "source": [
    "Now we see that the input gate is closer to the true gate: it tries to ignore irrelevant input by setting the weights of those input closer to 0. Although in this case it is still far from the true gate (the irrelevant input still gets 0.65), we see that it has good impact on the loss, reaching $0.71\\times 10^{-3}$ after 250 iterations as compared to the network without input gate with loss of $4.5 \\times 10^{-3}$."
   ]
  },
  {
   "cell_type": "code",
   "execution_count": null,
   "metadata": {
    "collapsed": true
   },
   "outputs": [],
   "source": []
  }
 ],
 "metadata": {
  "kernelspec": {
   "display_name": "Python 3",
   "language": "python",
   "name": "python3"
  },
  "language_info": {
   "codemirror_mode": {
    "name": "ipython",
    "version": 3
   },
   "file_extension": ".py",
   "mimetype": "text/x-python",
   "name": "python",
   "nbconvert_exporter": "python",
   "pygments_lexer": "ipython3",
   "version": "3.5.1"
  }
 },
 "nbformat": 4,
 "nbformat_minor": 0
}
